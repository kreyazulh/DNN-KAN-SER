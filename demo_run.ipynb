{
 "cells": [
  {
   "cell_type": "code",
   "execution_count": 1,
   "id": "ebf4f73a",
   "metadata": {
    "_cell_guid": "b1076dfc-b9ad-4769-8c92-a6c4dae69d19",
    "_uuid": "8f2839f25d086af736a60e9eeb907d3b93b6e0e5",
    "execution": {
     "iopub.execute_input": "2025-09-14T06:21:18.341335Z",
     "iopub.status.busy": "2025-09-14T06:21:18.341042Z",
     "iopub.status.idle": "2025-09-14T08:09:02.386224Z",
     "shell.execute_reply": "2025-09-14T08:09:02.384698Z"
    },
    "papermill": {
     "duration": 6464.052693,
     "end_time": "2025-09-14T08:09:02.387734",
     "exception": false,
     "start_time": "2025-09-14T06:21:18.335041",
     "status": "completed"
    },
    "tags": []
   },
   "outputs": [
    {
     "name": "stdout",
     "output_type": "stream",
     "text": [
      "======================================================================\n",
      "BANGLA SER: Adaptive Architecture with Feature Gating\n",
      "Dataset: SUBESCO\n",
      "CNN+LSTM for Spectrograms | DNN+Gating for Static Features\n",
      "======================================================================\n",
      "Loading features from /kaggle/input/subesco-handcrafted-features/comprehensive_features.pkl\n",
      "Mel-spectrogram shape: (7000, 3, 128, 94)\n",
      "MFCC features shape: (7000, 80)\n",
      "Bangla handcrafted features shape: (7000, 51)\n",
      "All acoustic features shape: (7000, 131)\n",
      "Total samples: 7000\n",
      "Number of emotion classes: 7\n",
      "Unique emotion labels: [0 1 2 3 4 5 6]\n",
      "Emotion names: ['ANGRY', 'DISGUST', 'FEAR', 'HAPPY', 'NEUTRAL', 'SAD', 'SURPRISE']...\n",
      "\n",
      "Dataset Statistics:\n",
      "  Total samples: 7000\n",
      "  Number of classes: 7\n",
      "  Class distribution:\n",
      "    ANGRY: 1000 samples (14.3%)\n",
      "    DISGUST: 1000 samples (14.3%)\n",
      "    FEAR: 1000 samples (14.3%)\n",
      "    HAPPY: 1000 samples (14.3%)\n",
      "    NEUTRAL: 1000 samples (14.3%)\n",
      "    SAD: 1000 samples (14.3%)\n",
      "    SURPRISE: 1000 samples (14.3%)\n",
      "\n",
      "======================================================================\n",
      "ARCHITECTURE ASSIGNMENTS:\n",
      "======================================================================\n",
      "\n",
      "All Features:\n",
      "  Architecture: HybridFusion\n",
      "  Learning Rate: 5e-04\n",
      "  Batch Size: 16\n",
      "\n",
      "MFCC:\n",
      "  Architecture: HybridFusion\n",
      "  Learning Rate: 5e-04\n",
      "  Batch Size: 16\n",
      "\n",
      "Bangla Handcrafted:\n",
      "  Architecture: HybridFusion\n",
      "  Learning Rate: 5e-04\n",
      "  Batch Size: 16\n",
      "\n",
      "Mel-Spectrogram:\n",
      "  Architecture: CNN+LSTM\n",
      "  Learning Rate: 5e-04\n",
      "  Batch Size: 16\n",
      "\n",
      "Device: cuda\n",
      "GPU: Tesla P100-PCIE-16GB\n",
      "\n",
      "Dataset: SUBESCO\n",
      "Number of classes: 7\n",
      "\n",
      "============================================================\n",
      "Experiment: All Features\n",
      "============================================================\n",
      "Features shape: (7000, 131)\n",
      "Architecture: Deep DNN with Feature Gating\n",
      "Split: Train=5600, Test=1400\n",
      "HybridFusion configured: Total=131, MFCC=80, Acoustic=51, Mode=combined\n",
      "Model parameters: 1,183,028\n",
      "\n",
      "Training Configuration:\n",
      "  Architecture: HybridFusion\n",
      "  Learning Rate: 0.0005\n",
      "  Batch Size: 16\n",
      "  Description: HybridFusion with dual-stream KAN-DNN processing\n"
     ]
    },
    {
     "name": "stderr",
     "output_type": "stream",
     "text": [
      "Epoch 1: 100%|██████████| 350/350 [00:06<00:00, 54.09it/s, loss=1.92, acc=20.9]\n"
     ]
    },
    {
     "name": "stdout",
     "output_type": "stream",
     "text": [
      "Epoch 1: Train Loss=2.1455, Train Acc=20.89%, Test Acc=33.50%, Test F1=0.2914\n"
     ]
    },
    {
     "name": "stderr",
     "output_type": "stream",
     "text": [
      "Epoch 2: 100%|██████████| 350/350 [00:05<00:00, 61.58it/s, loss=1.5, acc=30.6]\n"
     ]
    },
    {
     "name": "stdout",
     "output_type": "stream",
     "text": [
      "Epoch 2: Train Loss=1.7203, Train Acc=30.64%, Test Acc=48.14%, Test F1=0.4494\n"
     ]
    },
    {
     "name": "stderr",
     "output_type": "stream",
     "text": [
      "Epoch 3: 100%|██████████| 350/350 [00:05<00:00, 59.53it/s, loss=1.62, acc=42]\n"
     ]
    },
    {
     "name": "stdout",
     "output_type": "stream",
     "text": [
      "Epoch 3: Train Loss=1.4638, Train Acc=41.96%, Test Acc=59.79%, Test F1=0.5955\n"
     ]
    },
    {
     "name": "stderr",
     "output_type": "stream",
     "text": [
      "Epoch 4: 100%|██████████| 350/350 [00:06<00:00, 58.25it/s, loss=1.12, acc=52.3]\n"
     ]
    },
    {
     "name": "stdout",
     "output_type": "stream",
     "text": [
      "Epoch 4: Train Loss=1.2518, Train Acc=52.32%, Test Acc=65.00%, Test F1=0.6200\n"
     ]
    },
    {
     "name": "stderr",
     "output_type": "stream",
     "text": [
      "Epoch 5: 100%|██████████| 350/350 [00:05<00:00, 58.44it/s, loss=0.881, acc=56.7]\n"
     ]
    },
    {
     "name": "stdout",
     "output_type": "stream",
     "text": [
      "Epoch 5: Train Loss=1.1490, Train Acc=56.66%, Test Acc=67.07%, Test F1=0.6491\n"
     ]
    },
    {
     "name": "stderr",
     "output_type": "stream",
     "text": [
      "Epoch 6: 100%|██████████| 350/350 [00:05<00:00, 59.54it/s, loss=0.645, acc=61]\n"
     ]
    },
    {
     "name": "stdout",
     "output_type": "stream",
     "text": [
      "Epoch 6: Train Loss=1.0458, Train Acc=61.00%, Test Acc=69.86%, Test F1=0.6815\n"
     ]
    },
    {
     "name": "stderr",
     "output_type": "stream",
     "text": [
      "Epoch 7: 100%|██████████| 350/350 [00:05<00:00, 58.33it/s, loss=0.63, acc=63.3]\n"
     ]
    },
    {
     "name": "stdout",
     "output_type": "stream",
     "text": [
      "Epoch 7: Train Loss=1.0089, Train Acc=63.27%, Test Acc=69.93%, Test F1=0.6709\n"
     ]
    },
    {
     "name": "stderr",
     "output_type": "stream",
     "text": [
      "Epoch 8: 100%|██████████| 350/350 [00:05<00:00, 59.60it/s, loss=1.16, acc=65]\n"
     ]
    },
    {
     "name": "stdout",
     "output_type": "stream",
     "text": [
      "Epoch 8: Train Loss=0.9599, Train Acc=64.98%, Test Acc=72.29%, Test F1=0.7018\n"
     ]
    },
    {
     "name": "stderr",
     "output_type": "stream",
     "text": [
      "Epoch 9: 100%|██████████| 350/350 [00:05<00:00, 60.16it/s, loss=1.08, acc=66.7]\n"
     ]
    },
    {
     "name": "stdout",
     "output_type": "stream",
     "text": [
      "Epoch 9: Train Loss=0.9136, Train Acc=66.71%, Test Acc=74.36%, Test F1=0.7206\n"
     ]
    },
    {
     "name": "stderr",
     "output_type": "stream",
     "text": [
      "Epoch 10: 100%|██████████| 350/350 [00:05<00:00, 58.60it/s, loss=0.895, acc=68.7]\n"
     ]
    },
    {
     "name": "stdout",
     "output_type": "stream",
     "text": [
      "Epoch 10: Train Loss=0.8731, Train Acc=68.68%, Test Acc=75.79%, Test F1=0.7482\n"
     ]
    },
    {
     "name": "stderr",
     "output_type": "stream",
     "text": [
      "Epoch 11: 100%|██████████| 350/350 [00:05<00:00, 58.54it/s, loss=0.671, acc=70.6]\n"
     ]
    },
    {
     "name": "stdout",
     "output_type": "stream",
     "text": [
      "Epoch 11: Train Loss=0.8258, Train Acc=70.59%, Test Acc=77.07%, Test F1=0.7646\n"
     ]
    },
    {
     "name": "stderr",
     "output_type": "stream",
     "text": [
      "Epoch 12: 100%|██████████| 350/350 [00:06<00:00, 58.02it/s, loss=0.759, acc=71.2]\n"
     ]
    },
    {
     "name": "stdout",
     "output_type": "stream",
     "text": [
      "Epoch 12: Train Loss=0.8018, Train Acc=71.16%, Test Acc=79.50%, Test F1=0.7863\n"
     ]
    },
    {
     "name": "stderr",
     "output_type": "stream",
     "text": [
      "Epoch 13: 100%|██████████| 350/350 [00:05<00:00, 60.27it/s, loss=0.684, acc=72.3]\n"
     ]
    },
    {
     "name": "stdout",
     "output_type": "stream",
     "text": [
      "Epoch 13: Train Loss=0.7788, Train Acc=72.27%, Test Acc=78.71%, Test F1=0.7754\n"
     ]
    },
    {
     "name": "stderr",
     "output_type": "stream",
     "text": [
      "Epoch 14: 100%|██████████| 350/350 [00:06<00:00, 56.82it/s, loss=0.564, acc=73.1]\n"
     ]
    },
    {
     "name": "stdout",
     "output_type": "stream",
     "text": [
      "Epoch 14: Train Loss=0.7614, Train Acc=73.07%, Test Acc=80.07%, Test F1=0.7909\n"
     ]
    },
    {
     "name": "stderr",
     "output_type": "stream",
     "text": [
      "Epoch 15: 100%|██████████| 350/350 [00:05<00:00, 59.37it/s, loss=0.607, acc=75]\n"
     ]
    },
    {
     "name": "stdout",
     "output_type": "stream",
     "text": [
      "Epoch 15: Train Loss=0.7159, Train Acc=75.04%, Test Acc=80.64%, Test F1=0.8004\n"
     ]
    },
    {
     "name": "stderr",
     "output_type": "stream",
     "text": [
      "Epoch 16: 100%|██████████| 350/350 [00:06<00:00, 57.65it/s, loss=0.59, acc=74.9]\n"
     ]
    },
    {
     "name": "stdout",
     "output_type": "stream",
     "text": [
      "Epoch 16: Train Loss=0.7183, Train Acc=74.89%, Test Acc=80.29%, Test F1=0.7948\n"
     ]
    },
    {
     "name": "stderr",
     "output_type": "stream",
     "text": [
      "Epoch 17: 100%|██████████| 350/350 [00:06<00:00, 57.28it/s, loss=0.638, acc=76.2]\n"
     ]
    },
    {
     "name": "stdout",
     "output_type": "stream",
     "text": [
      "Epoch 17: Train Loss=0.6859, Train Acc=76.23%, Test Acc=82.14%, Test F1=0.8156\n"
     ]
    },
    {
     "name": "stderr",
     "output_type": "stream",
     "text": [
      "Epoch 18: 100%|██████████| 350/350 [00:05<00:00, 58.78it/s, loss=0.436, acc=77.4]\n"
     ]
    },
    {
     "name": "stdout",
     "output_type": "stream",
     "text": [
      "Epoch 18: Train Loss=0.6721, Train Acc=77.38%, Test Acc=81.00%, Test F1=0.8019\n"
     ]
    },
    {
     "name": "stderr",
     "output_type": "stream",
     "text": [
      "Epoch 19: 100%|██████████| 350/350 [00:06<00:00, 57.89it/s, loss=0.318, acc=79.1]\n"
     ]
    },
    {
     "name": "stdout",
     "output_type": "stream",
     "text": [
      "Epoch 19: Train Loss=0.6147, Train Acc=79.14%, Test Acc=83.36%, Test F1=0.8302\n"
     ]
    },
    {
     "name": "stderr",
     "output_type": "stream",
     "text": [
      "Epoch 20: 100%|██████████| 350/350 [00:06<00:00, 56.92it/s, loss=0.7, acc=79.1]\n"
     ]
    },
    {
     "name": "stdout",
     "output_type": "stream",
     "text": [
      "Epoch 20: Train Loss=0.6188, Train Acc=79.05%, Test Acc=82.93%, Test F1=0.8273\n"
     ]
    },
    {
     "name": "stderr",
     "output_type": "stream",
     "text": [
      "Epoch 21: 100%|██████████| 350/350 [00:06<00:00, 56.23it/s, loss=0.711, acc=79.5]\n"
     ]
    },
    {
     "name": "stdout",
     "output_type": "stream",
     "text": [
      "Epoch 21: Train Loss=0.6093, Train Acc=79.52%, Test Acc=83.50%, Test F1=0.8291\n"
     ]
    },
    {
     "name": "stderr",
     "output_type": "stream",
     "text": [
      "Epoch 22: 100%|██████████| 350/350 [00:06<00:00, 56.01it/s, loss=1.27, acc=79.7]\n"
     ]
    },
    {
     "name": "stdout",
     "output_type": "stream",
     "text": [
      "Epoch 22: Train Loss=0.6146, Train Acc=79.68%, Test Acc=85.00%, Test F1=0.8440\n"
     ]
    },
    {
     "name": "stderr",
     "output_type": "stream",
     "text": [
      "Epoch 23: 100%|██████████| 350/350 [00:06<00:00, 56.61it/s, loss=0.398, acc=80.5]\n"
     ]
    },
    {
     "name": "stdout",
     "output_type": "stream",
     "text": [
      "Epoch 23: Train Loss=0.5797, Train Acc=80.52%, Test Acc=83.71%, Test F1=0.8298\n"
     ]
    },
    {
     "name": "stderr",
     "output_type": "stream",
     "text": [
      "Epoch 24: 100%|██████████| 350/350 [00:05<00:00, 59.88it/s, loss=0.608, acc=81.7]\n"
     ]
    },
    {
     "name": "stdout",
     "output_type": "stream",
     "text": [
      "Epoch 24: Train Loss=0.5459, Train Acc=81.66%, Test Acc=85.57%, Test F1=0.8530\n"
     ]
    },
    {
     "name": "stderr",
     "output_type": "stream",
     "text": [
      "Epoch 25: 100%|██████████| 350/350 [00:05<00:00, 61.02it/s, loss=0.781, acc=81.9]\n"
     ]
    },
    {
     "name": "stdout",
     "output_type": "stream",
     "text": [
      "Epoch 25: Train Loss=0.5702, Train Acc=81.91%, Test Acc=83.57%, Test F1=0.8307\n"
     ]
    },
    {
     "name": "stderr",
     "output_type": "stream",
     "text": [
      "Epoch 26: 100%|██████████| 350/350 [00:05<00:00, 60.35it/s, loss=0.948, acc=82]\n"
     ]
    },
    {
     "name": "stdout",
     "output_type": "stream",
     "text": [
      "Epoch 26: Train Loss=0.5504, Train Acc=81.98%, Test Acc=84.29%, Test F1=0.8401\n"
     ]
    },
    {
     "name": "stderr",
     "output_type": "stream",
     "text": [
      "Epoch 27: 100%|██████████| 350/350 [00:05<00:00, 61.08it/s, loss=0.222, acc=82.4]\n"
     ]
    },
    {
     "name": "stdout",
     "output_type": "stream",
     "text": [
      "Epoch 27: Train Loss=0.5460, Train Acc=82.43%, Test Acc=85.29%, Test F1=0.8514\n"
     ]
    },
    {
     "name": "stderr",
     "output_type": "stream",
     "text": [
      "Epoch 28: 100%|██████████| 350/350 [00:05<00:00, 59.17it/s, loss=0.347, acc=83.8]\n"
     ]
    },
    {
     "name": "stdout",
     "output_type": "stream",
     "text": [
      "Epoch 28: Train Loss=0.5061, Train Acc=83.82%, Test Acc=87.00%, Test F1=0.8685\n"
     ]
    },
    {
     "name": "stderr",
     "output_type": "stream",
     "text": [
      "Epoch 29: 100%|██████████| 350/350 [00:05<00:00, 61.10it/s, loss=0.363, acc=83.4]\n"
     ]
    },
    {
     "name": "stdout",
     "output_type": "stream",
     "text": [
      "Epoch 29: Train Loss=0.5076, Train Acc=83.38%, Test Acc=85.71%, Test F1=0.8550\n"
     ]
    },
    {
     "name": "stderr",
     "output_type": "stream",
     "text": [
      "Epoch 30: 100%|██████████| 350/350 [00:05<00:00, 60.52it/s, loss=0.333, acc=84.1]\n"
     ]
    },
    {
     "name": "stdout",
     "output_type": "stream",
     "text": [
      "Epoch 30: Train Loss=0.4934, Train Acc=84.12%, Test Acc=86.79%, Test F1=0.8657\n"
     ]
    },
    {
     "name": "stderr",
     "output_type": "stream",
     "text": [
      "Epoch 31: 100%|██████████| 350/350 [00:05<00:00, 61.06it/s, loss=0.414, acc=84.4]\n"
     ]
    },
    {
     "name": "stdout",
     "output_type": "stream",
     "text": [
      "Epoch 31: Train Loss=0.4889, Train Acc=84.43%, Test Acc=87.36%, Test F1=0.8733\n"
     ]
    },
    {
     "name": "stderr",
     "output_type": "stream",
     "text": [
      "Epoch 32: 100%|██████████| 350/350 [00:05<00:00, 60.83it/s, loss=0.837, acc=85.1]\n"
     ]
    },
    {
     "name": "stdout",
     "output_type": "stream",
     "text": [
      "Epoch 32: Train Loss=0.4651, Train Acc=85.05%, Test Acc=87.29%, Test F1=0.8691\n"
     ]
    },
    {
     "name": "stderr",
     "output_type": "stream",
     "text": [
      "Epoch 33: 100%|██████████| 350/350 [00:05<00:00, 60.53it/s, loss=0.136, acc=85.6]\n"
     ]
    },
    {
     "name": "stdout",
     "output_type": "stream",
     "text": [
      "Epoch 33: Train Loss=0.4554, Train Acc=85.61%, Test Acc=86.00%, Test F1=0.8554\n"
     ]
    },
    {
     "name": "stderr",
     "output_type": "stream",
     "text": [
      "Epoch 34: 100%|██████████| 350/350 [00:05<00:00, 59.05it/s, loss=0.188, acc=85.6]\n"
     ]
    },
    {
     "name": "stdout",
     "output_type": "stream",
     "text": [
      "Epoch 34: Train Loss=0.4519, Train Acc=85.55%, Test Acc=86.86%, Test F1=0.8663\n"
     ]
    },
    {
     "name": "stderr",
     "output_type": "stream",
     "text": [
      "Epoch 35: 100%|██████████| 350/350 [00:05<00:00, 59.43it/s, loss=0.246, acc=86]\n"
     ]
    },
    {
     "name": "stdout",
     "output_type": "stream",
     "text": [
      "Epoch 35: Train Loss=0.4305, Train Acc=86.04%, Test Acc=87.93%, Test F1=0.8792\n"
     ]
    },
    {
     "name": "stderr",
     "output_type": "stream",
     "text": [
      "Epoch 36: 100%|██████████| 350/350 [00:06<00:00, 58.28it/s, loss=0.339, acc=87.5]\n"
     ]
    },
    {
     "name": "stdout",
     "output_type": "stream",
     "text": [
      "Epoch 36: Train Loss=0.4094, Train Acc=87.50%, Test Acc=87.57%, Test F1=0.8748\n"
     ]
    },
    {
     "name": "stderr",
     "output_type": "stream",
     "text": [
      "Epoch 37: 100%|██████████| 350/350 [00:06<00:00, 56.46it/s, loss=0.193, acc=87.3]\n"
     ]
    },
    {
     "name": "stdout",
     "output_type": "stream",
     "text": [
      "Epoch 37: Train Loss=0.4084, Train Acc=87.30%, Test Acc=87.71%, Test F1=0.8756\n"
     ]
    },
    {
     "name": "stderr",
     "output_type": "stream",
     "text": [
      "Epoch 38: 100%|██████████| 350/350 [00:06<00:00, 57.63it/s, loss=0.0489, acc=87]\n"
     ]
    },
    {
     "name": "stdout",
     "output_type": "stream",
     "text": [
      "Epoch 38: Train Loss=0.4278, Train Acc=86.98%, Test Acc=87.79%, Test F1=0.8762\n"
     ]
    },
    {
     "name": "stderr",
     "output_type": "stream",
     "text": [
      "Epoch 39: 100%|██████████| 350/350 [00:06<00:00, 54.97it/s, loss=0.699, acc=86.9]\n"
     ]
    },
    {
     "name": "stdout",
     "output_type": "stream",
     "text": [
      "Epoch 39: Train Loss=0.4349, Train Acc=86.86%, Test Acc=87.79%, Test F1=0.8778\n"
     ]
    },
    {
     "name": "stderr",
     "output_type": "stream",
     "text": [
      "Epoch 40: 100%|██████████| 350/350 [00:06<00:00, 56.70it/s, loss=0.654, acc=88]\n"
     ]
    },
    {
     "name": "stdout",
     "output_type": "stream",
     "text": [
      "Epoch 40: Train Loss=0.3873, Train Acc=88.00%, Test Acc=87.29%, Test F1=0.8712\n"
     ]
    },
    {
     "name": "stderr",
     "output_type": "stream",
     "text": [
      "Epoch 41: 100%|██████████| 350/350 [00:06<00:00, 57.08it/s, loss=0.182, acc=87.8]\n"
     ]
    },
    {
     "name": "stdout",
     "output_type": "stream",
     "text": [
      "Epoch 41: Train Loss=0.4110, Train Acc=87.84%, Test Acc=88.21%, Test F1=0.8794\n"
     ]
    },
    {
     "name": "stderr",
     "output_type": "stream",
     "text": [
      "Epoch 42: 100%|██████████| 350/350 [00:06<00:00, 56.38it/s, loss=0.443, acc=88.5]\n"
     ]
    },
    {
     "name": "stdout",
     "output_type": "stream",
     "text": [
      "Epoch 42: Train Loss=0.3805, Train Acc=88.48%, Test Acc=88.43%, Test F1=0.8833\n"
     ]
    },
    {
     "name": "stderr",
     "output_type": "stream",
     "text": [
      "Epoch 43: 100%|██████████| 350/350 [00:06<00:00, 56.67it/s, loss=0.151, acc=88.3]\n"
     ]
    },
    {
     "name": "stdout",
     "output_type": "stream",
     "text": [
      "Epoch 43: Train Loss=0.3810, Train Acc=88.29%, Test Acc=88.86%, Test F1=0.8877\n"
     ]
    },
    {
     "name": "stderr",
     "output_type": "stream",
     "text": [
      "Epoch 44: 100%|██████████| 350/350 [00:06<00:00, 57.07it/s, loss=0.828, acc=88.4]\n"
     ]
    },
    {
     "name": "stdout",
     "output_type": "stream",
     "text": [
      "Epoch 44: Train Loss=0.3818, Train Acc=88.36%, Test Acc=88.50%, Test F1=0.8837\n"
     ]
    },
    {
     "name": "stderr",
     "output_type": "stream",
     "text": [
      "Epoch 45: 100%|██████████| 350/350 [00:05<00:00, 59.03it/s, loss=0.704, acc=88.5]\n"
     ]
    },
    {
     "name": "stdout",
     "output_type": "stream",
     "text": [
      "Epoch 45: Train Loss=0.3895, Train Acc=88.50%, Test Acc=89.29%, Test F1=0.8915\n"
     ]
    },
    {
     "name": "stderr",
     "output_type": "stream",
     "text": [
      "Epoch 46: 100%|██████████| 350/350 [00:05<00:00, 59.30it/s, loss=0.186, acc=89.1]\n"
     ]
    },
    {
     "name": "stdout",
     "output_type": "stream",
     "text": [
      "Epoch 46: Train Loss=0.3492, Train Acc=89.11%, Test Acc=88.29%, Test F1=0.8807\n"
     ]
    },
    {
     "name": "stderr",
     "output_type": "stream",
     "text": [
      "Epoch 47: 100%|██████████| 350/350 [00:05<00:00, 58.88it/s, loss=0.335, acc=89.1]\n"
     ]
    },
    {
     "name": "stdout",
     "output_type": "stream",
     "text": [
      "Epoch 47: Train Loss=0.3659, Train Acc=89.05%, Test Acc=90.14%, Test F1=0.9006\n"
     ]
    },
    {
     "name": "stderr",
     "output_type": "stream",
     "text": [
      "Epoch 48: 100%|██████████| 350/350 [00:05<00:00, 58.34it/s, loss=0.226, acc=89.4]\n"
     ]
    },
    {
     "name": "stdout",
     "output_type": "stream",
     "text": [
      "Epoch 48: Train Loss=0.3547, Train Acc=89.39%, Test Acc=89.79%, Test F1=0.8972\n"
     ]
    },
    {
     "name": "stderr",
     "output_type": "stream",
     "text": [
      "Epoch 49: 100%|██████████| 350/350 [00:05<00:00, 59.19it/s, loss=0.0291, acc=89.2]\n"
     ]
    },
    {
     "name": "stdout",
     "output_type": "stream",
     "text": [
      "Epoch 49: Train Loss=0.3574, Train Acc=89.20%, Test Acc=89.00%, Test F1=0.8893\n"
     ]
    },
    {
     "name": "stderr",
     "output_type": "stream",
     "text": [
      "Epoch 50: 100%|██████████| 350/350 [00:05<00:00, 59.17it/s, loss=0.0292, acc=89.4]\n"
     ]
    },
    {
     "name": "stdout",
     "output_type": "stream",
     "text": [
      "Epoch 50: Train Loss=0.3438, Train Acc=89.38%, Test Acc=88.71%, Test F1=0.8861\n"
     ]
    },
    {
     "name": "stderr",
     "output_type": "stream",
     "text": [
      "Epoch 51: 100%|██████████| 350/350 [00:05<00:00, 60.33it/s, loss=0.0279, acc=89.8]\n"
     ]
    },
    {
     "name": "stdout",
     "output_type": "stream",
     "text": [
      "Epoch 51: Train Loss=0.3314, Train Acc=89.75%, Test Acc=89.29%, Test F1=0.8905\n"
     ]
    },
    {
     "name": "stderr",
     "output_type": "stream",
     "text": [
      "Epoch 52: 100%|██████████| 350/350 [00:05<00:00, 59.83it/s, loss=0.0637, acc=90.5]\n"
     ]
    },
    {
     "name": "stdout",
     "output_type": "stream",
     "text": [
      "Epoch 52: Train Loss=0.3384, Train Acc=90.52%, Test Acc=88.79%, Test F1=0.8869\n"
     ]
    },
    {
     "name": "stderr",
     "output_type": "stream",
     "text": [
      "Epoch 53: 100%|██████████| 350/350 [00:06<00:00, 56.72it/s, loss=0.0859, acc=89.9]\n"
     ]
    },
    {
     "name": "stdout",
     "output_type": "stream",
     "text": [
      "Epoch 53: Train Loss=0.3380, Train Acc=89.95%, Test Acc=89.14%, Test F1=0.8898\n"
     ]
    },
    {
     "name": "stderr",
     "output_type": "stream",
     "text": [
      "Epoch 54: 100%|██████████| 350/350 [00:05<00:00, 60.09it/s, loss=0.827, acc=90.8]\n"
     ]
    },
    {
     "name": "stdout",
     "output_type": "stream",
     "text": [
      "Epoch 54: Train Loss=0.3100, Train Acc=90.82%, Test Acc=90.29%, Test F1=0.9024\n"
     ]
    },
    {
     "name": "stderr",
     "output_type": "stream",
     "text": [
      "Epoch 55: 100%|██████████| 350/350 [00:06<00:00, 57.63it/s, loss=0.516, acc=90.3]\n"
     ]
    },
    {
     "name": "stdout",
     "output_type": "stream",
     "text": [
      "Epoch 55: Train Loss=0.3412, Train Acc=90.34%, Test Acc=89.86%, Test F1=0.8966\n"
     ]
    },
    {
     "name": "stderr",
     "output_type": "stream",
     "text": [
      "Epoch 56: 100%|██████████| 350/350 [00:05<00:00, 59.79it/s, loss=0.247, acc=90.9]\n"
     ]
    },
    {
     "name": "stdout",
     "output_type": "stream",
     "text": [
      "Epoch 56: Train Loss=0.2995, Train Acc=90.95%, Test Acc=90.00%, Test F1=0.8995\n"
     ]
    },
    {
     "name": "stderr",
     "output_type": "stream",
     "text": [
      "Epoch 57: 100%|██████████| 350/350 [00:05<00:00, 60.53it/s, loss=0.551, acc=91.2]\n"
     ]
    },
    {
     "name": "stdout",
     "output_type": "stream",
     "text": [
      "Epoch 57: Train Loss=0.2958, Train Acc=91.16%, Test Acc=89.93%, Test F1=0.8982\n"
     ]
    },
    {
     "name": "stderr",
     "output_type": "stream",
     "text": [
      "Epoch 58: 100%|██████████| 350/350 [00:06<00:00, 57.16it/s, loss=0.348, acc=90.2]\n"
     ]
    },
    {
     "name": "stdout",
     "output_type": "stream",
     "text": [
      "Epoch 58: Train Loss=0.3221, Train Acc=90.25%, Test Acc=89.93%, Test F1=0.8986\n"
     ]
    },
    {
     "name": "stderr",
     "output_type": "stream",
     "text": [
      "Epoch 59: 100%|██████████| 350/350 [00:06<00:00, 57.77it/s, loss=1.01, acc=91.5]\n"
     ]
    },
    {
     "name": "stdout",
     "output_type": "stream",
     "text": [
      "Epoch 59: Train Loss=0.2923, Train Acc=91.54%, Test Acc=89.21%, Test F1=0.8912\n"
     ]
    },
    {
     "name": "stderr",
     "output_type": "stream",
     "text": [
      "Epoch 60: 100%|██████████| 350/350 [00:05<00:00, 58.53it/s, loss=0.376, acc=91.5]\n"
     ]
    },
    {
     "name": "stdout",
     "output_type": "stream",
     "text": [
      "Epoch 60: Train Loss=0.2951, Train Acc=91.48%, Test Acc=90.07%, Test F1=0.9001\n"
     ]
    },
    {
     "name": "stderr",
     "output_type": "stream",
     "text": [
      "Epoch 61: 100%|██████████| 350/350 [00:06<00:00, 58.32it/s, loss=0.248, acc=92.2]\n"
     ]
    },
    {
     "name": "stdout",
     "output_type": "stream",
     "text": [
      "Epoch 61: Train Loss=0.2646, Train Acc=92.21%, Test Acc=91.00%, Test F1=0.9092\n"
     ]
    },
    {
     "name": "stderr",
     "output_type": "stream",
     "text": [
      "Epoch 62: 100%|██████████| 350/350 [00:05<00:00, 58.34it/s, loss=0.238, acc=91.3]\n"
     ]
    },
    {
     "name": "stdout",
     "output_type": "stream",
     "text": [
      "Epoch 62: Train Loss=0.2945, Train Acc=91.32%, Test Acc=90.71%, Test F1=0.9062\n"
     ]
    },
    {
     "name": "stderr",
     "output_type": "stream",
     "text": [
      "Epoch 63: 100%|██████████| 350/350 [00:06<00:00, 57.04it/s, loss=0.038, acc=92.2]\n"
     ]
    },
    {
     "name": "stdout",
     "output_type": "stream",
     "text": [
      "Epoch 63: Train Loss=0.2804, Train Acc=92.20%, Test Acc=89.21%, Test F1=0.8915\n"
     ]
    },
    {
     "name": "stderr",
     "output_type": "stream",
     "text": [
      "Epoch 64: 100%|██████████| 350/350 [00:06<00:00, 58.21it/s, loss=0.233, acc=92.1]\n"
     ]
    },
    {
     "name": "stdout",
     "output_type": "stream",
     "text": [
      "Epoch 64: Train Loss=0.2842, Train Acc=92.14%, Test Acc=88.79%, Test F1=0.8873\n"
     ]
    },
    {
     "name": "stderr",
     "output_type": "stream",
     "text": [
      "Epoch 65: 100%|██████████| 350/350 [00:05<00:00, 59.41it/s, loss=0.313, acc=91.7]\n"
     ]
    },
    {
     "name": "stdout",
     "output_type": "stream",
     "text": [
      "Epoch 65: Train Loss=0.2924, Train Acc=91.70%, Test Acc=90.07%, Test F1=0.9002\n"
     ]
    },
    {
     "name": "stderr",
     "output_type": "stream",
     "text": [
      "Epoch 66: 100%|██████████| 350/350 [00:05<00:00, 59.74it/s, loss=0.0173, acc=91.9]\n"
     ]
    },
    {
     "name": "stdout",
     "output_type": "stream",
     "text": [
      "Epoch 66: Train Loss=0.2792, Train Acc=91.88%, Test Acc=90.21%, Test F1=0.9013\n"
     ]
    },
    {
     "name": "stderr",
     "output_type": "stream",
     "text": [
      "Epoch 67: 100%|██████████| 350/350 [00:05<00:00, 59.57it/s, loss=0.0253, acc=92]\n"
     ]
    },
    {
     "name": "stdout",
     "output_type": "stream",
     "text": [
      "Epoch 67: Train Loss=0.2894, Train Acc=92.04%, Test Acc=89.86%, Test F1=0.8984\n"
     ]
    },
    {
     "name": "stderr",
     "output_type": "stream",
     "text": [
      "Epoch 68: 100%|██████████| 350/350 [00:06<00:00, 56.33it/s, loss=0.0578, acc=92.7]\n"
     ]
    },
    {
     "name": "stdout",
     "output_type": "stream",
     "text": [
      "Epoch 68: Train Loss=0.2609, Train Acc=92.70%, Test Acc=91.29%, Test F1=0.9123\n"
     ]
    },
    {
     "name": "stderr",
     "output_type": "stream",
     "text": [
      "Epoch 69: 100%|██████████| 350/350 [00:05<00:00, 61.91it/s, loss=0.101, acc=93]\n"
     ]
    },
    {
     "name": "stdout",
     "output_type": "stream",
     "text": [
      "Epoch 69: Train Loss=0.2555, Train Acc=93.04%, Test Acc=90.57%, Test F1=0.9049\n"
     ]
    },
    {
     "name": "stderr",
     "output_type": "stream",
     "text": [
      "Epoch 70: 100%|██████████| 350/350 [00:05<00:00, 63.80it/s, loss=0.526, acc=92.6]\n"
     ]
    },
    {
     "name": "stdout",
     "output_type": "stream",
     "text": [
      "Epoch 70: Train Loss=0.2710, Train Acc=92.62%, Test Acc=90.29%, Test F1=0.9016\n"
     ]
    },
    {
     "name": "stderr",
     "output_type": "stream",
     "text": [
      "Epoch 71: 100%|██████████| 350/350 [00:05<00:00, 63.27it/s, loss=0.0329, acc=92.6]\n"
     ]
    },
    {
     "name": "stdout",
     "output_type": "stream",
     "text": [
      "Epoch 71: Train Loss=0.2751, Train Acc=92.55%, Test Acc=90.86%, Test F1=0.9080\n"
     ]
    },
    {
     "name": "stderr",
     "output_type": "stream",
     "text": [
      "Epoch 72: 100%|██████████| 350/350 [00:05<00:00, 62.35it/s, loss=0.0133, acc=92.8]\n"
     ]
    },
    {
     "name": "stdout",
     "output_type": "stream",
     "text": [
      "Epoch 72: Train Loss=0.2493, Train Acc=92.77%, Test Acc=89.00%, Test F1=0.8889\n"
     ]
    },
    {
     "name": "stderr",
     "output_type": "stream",
     "text": [
      "Epoch 73: 100%|██████████| 350/350 [00:05<00:00, 61.49it/s, loss=0.422, acc=93]\n"
     ]
    },
    {
     "name": "stdout",
     "output_type": "stream",
     "text": [
      "Epoch 73: Train Loss=0.2523, Train Acc=93.00%, Test Acc=90.00%, Test F1=0.8998\n"
     ]
    },
    {
     "name": "stderr",
     "output_type": "stream",
     "text": [
      "Epoch 74: 100%|██████████| 350/350 [00:05<00:00, 60.39it/s, loss=0.113, acc=93.7]\n"
     ]
    },
    {
     "name": "stdout",
     "output_type": "stream",
     "text": [
      "Epoch 74: Train Loss=0.2544, Train Acc=93.71%, Test Acc=90.71%, Test F1=0.9061\n"
     ]
    },
    {
     "name": "stderr",
     "output_type": "stream",
     "text": [
      "Epoch 75: 100%|██████████| 350/350 [00:05<00:00, 62.16it/s, loss=0.303, acc=93.6]\n"
     ]
    },
    {
     "name": "stdout",
     "output_type": "stream",
     "text": [
      "Epoch 75: Train Loss=0.2259, Train Acc=93.61%, Test Acc=92.00%, Test F1=0.9199\n"
     ]
    },
    {
     "name": "stderr",
     "output_type": "stream",
     "text": [
      "Epoch 76: 100%|██████████| 350/350 [00:05<00:00, 62.31it/s, loss=0.146, acc=93.5]\n"
     ]
    },
    {
     "name": "stdout",
     "output_type": "stream",
     "text": [
      "Epoch 76: Train Loss=0.2523, Train Acc=93.52%, Test Acc=91.50%, Test F1=0.9147\n"
     ]
    },
    {
     "name": "stderr",
     "output_type": "stream",
     "text": [
      "Epoch 77: 100%|██████████| 350/350 [00:05<00:00, 59.92it/s, loss=0.137, acc=93.5]\n"
     ]
    },
    {
     "name": "stdout",
     "output_type": "stream",
     "text": [
      "Epoch 77: Train Loss=0.2379, Train Acc=93.46%, Test Acc=90.57%, Test F1=0.9057\n"
     ]
    },
    {
     "name": "stderr",
     "output_type": "stream",
     "text": [
      "Epoch 78: 100%|██████████| 350/350 [00:06<00:00, 56.14it/s, loss=0.00769, acc=93.6]\n"
     ]
    },
    {
     "name": "stdout",
     "output_type": "stream",
     "text": [
      "Epoch 78: Train Loss=0.2411, Train Acc=93.57%, Test Acc=91.71%, Test F1=0.9168\n"
     ]
    },
    {
     "name": "stderr",
     "output_type": "stream",
     "text": [
      "Epoch 79: 100%|██████████| 350/350 [00:05<00:00, 58.81it/s, loss=0.0485, acc=93.7]\n"
     ]
    },
    {
     "name": "stdout",
     "output_type": "stream",
     "text": [
      "Epoch 79: Train Loss=0.2173, Train Acc=93.70%, Test Acc=91.07%, Test F1=0.9108\n"
     ]
    },
    {
     "name": "stderr",
     "output_type": "stream",
     "text": [
      "Epoch 80: 100%|██████████| 350/350 [00:05<00:00, 59.68it/s, loss=0.247, acc=93.5]\n"
     ]
    },
    {
     "name": "stdout",
     "output_type": "stream",
     "text": [
      "Epoch 80: Train Loss=0.2413, Train Acc=93.52%, Test Acc=91.79%, Test F1=0.9175\n"
     ]
    },
    {
     "name": "stderr",
     "output_type": "stream",
     "text": [
      "Epoch 81: 100%|██████████| 350/350 [00:05<00:00, 60.48it/s, loss=0.0204, acc=94.2]\n"
     ]
    },
    {
     "name": "stdout",
     "output_type": "stream",
     "text": [
      "Epoch 81: Train Loss=0.2189, Train Acc=94.23%, Test Acc=91.43%, Test F1=0.9131\n"
     ]
    },
    {
     "name": "stderr",
     "output_type": "stream",
     "text": [
      "Epoch 82: 100%|██████████| 350/350 [00:05<00:00, 61.09it/s, loss=0.539, acc=94.3]\n"
     ]
    },
    {
     "name": "stdout",
     "output_type": "stream",
     "text": [
      "Epoch 82: Train Loss=0.2201, Train Acc=94.34%, Test Acc=90.79%, Test F1=0.9074\n"
     ]
    },
    {
     "name": "stderr",
     "output_type": "stream",
     "text": [
      "Epoch 83: 100%|██████████| 350/350 [00:06<00:00, 55.10it/s, loss=0.0321, acc=93.3]\n"
     ]
    },
    {
     "name": "stdout",
     "output_type": "stream",
     "text": [
      "Epoch 83: Train Loss=0.2487, Train Acc=93.27%, Test Acc=90.79%, Test F1=0.9073\n"
     ]
    },
    {
     "name": "stderr",
     "output_type": "stream",
     "text": [
      "Epoch 84: 100%|██████████| 350/350 [00:06<00:00, 58.03it/s, loss=0.311, acc=93.3]\n"
     ]
    },
    {
     "name": "stdout",
     "output_type": "stream",
     "text": [
      "Epoch 84: Train Loss=0.2489, Train Acc=93.29%, Test Acc=90.14%, Test F1=0.9001\n"
     ]
    },
    {
     "name": "stderr",
     "output_type": "stream",
     "text": [
      "Epoch 85: 100%|██████████| 350/350 [00:05<00:00, 59.49it/s, loss=0.0312, acc=94.5]\n"
     ]
    },
    {
     "name": "stdout",
     "output_type": "stream",
     "text": [
      "Epoch 85: Train Loss=0.1970, Train Acc=94.48%, Test Acc=92.86%, Test F1=0.9282\n"
     ]
    },
    {
     "name": "stderr",
     "output_type": "stream",
     "text": [
      "Epoch 86: 100%|██████████| 350/350 [00:06<00:00, 58.05it/s, loss=0.218, acc=95.7]\n"
     ]
    },
    {
     "name": "stdout",
     "output_type": "stream",
     "text": [
      "Epoch 86: Train Loss=0.1621, Train Acc=95.73%, Test Acc=92.43%, Test F1=0.9240\n"
     ]
    },
    {
     "name": "stderr",
     "output_type": "stream",
     "text": [
      "Epoch 87: 100%|██████████| 350/350 [00:06<00:00, 58.01it/s, loss=0.12, acc=95.9]\n"
     ]
    },
    {
     "name": "stdout",
     "output_type": "stream",
     "text": [
      "Epoch 87: Train Loss=0.1525, Train Acc=95.86%, Test Acc=92.43%, Test F1=0.9236\n"
     ]
    },
    {
     "name": "stderr",
     "output_type": "stream",
     "text": [
      "Epoch 88: 100%|██████████| 350/350 [00:06<00:00, 56.09it/s, loss=0.0148, acc=95.6]\n"
     ]
    },
    {
     "name": "stdout",
     "output_type": "stream",
     "text": [
      "Epoch 88: Train Loss=0.1604, Train Acc=95.57%, Test Acc=92.43%, Test F1=0.9234\n"
     ]
    },
    {
     "name": "stderr",
     "output_type": "stream",
     "text": [
      "Epoch 89: 100%|██████████| 350/350 [00:06<00:00, 58.11it/s, loss=0.0634, acc=96.1]\n"
     ]
    },
    {
     "name": "stdout",
     "output_type": "stream",
     "text": [
      "Epoch 89: Train Loss=0.1427, Train Acc=96.05%, Test Acc=92.71%, Test F1=0.9264\n"
     ]
    },
    {
     "name": "stderr",
     "output_type": "stream",
     "text": [
      "Epoch 90: 100%|██████████| 350/350 [00:05<00:00, 58.60it/s, loss=0.0507, acc=96]\n"
     ]
    },
    {
     "name": "stdout",
     "output_type": "stream",
     "text": [
      "Epoch 90: Train Loss=0.1410, Train Acc=95.98%, Test Acc=91.93%, Test F1=0.9182\n"
     ]
    },
    {
     "name": "stderr",
     "output_type": "stream",
     "text": [
      "Epoch 91: 100%|██████████| 350/350 [00:05<00:00, 59.38it/s, loss=1.02, acc=96.2]\n"
     ]
    },
    {
     "name": "stdout",
     "output_type": "stream",
     "text": [
      "Epoch 91: Train Loss=0.1495, Train Acc=96.16%, Test Acc=92.93%, Test F1=0.9289\n"
     ]
    },
    {
     "name": "stderr",
     "output_type": "stream",
     "text": [
      "Epoch 92: 100%|██████████| 350/350 [00:06<00:00, 56.23it/s, loss=0.65, acc=96.5]\n"
     ]
    },
    {
     "name": "stdout",
     "output_type": "stream",
     "text": [
      "Epoch 92: Train Loss=0.1357, Train Acc=96.46%, Test Acc=92.57%, Test F1=0.9251\n"
     ]
    },
    {
     "name": "stderr",
     "output_type": "stream",
     "text": [
      "Epoch 93: 100%|██████████| 350/350 [00:06<00:00, 57.84it/s, loss=0.00377, acc=96.8]\n"
     ]
    },
    {
     "name": "stdout",
     "output_type": "stream",
     "text": [
      "Epoch 93: Train Loss=0.1250, Train Acc=96.79%, Test Acc=93.64%, Test F1=0.9359\n"
     ]
    },
    {
     "name": "stderr",
     "output_type": "stream",
     "text": [
      "Epoch 94: 100%|██████████| 350/350 [00:06<00:00, 57.01it/s, loss=0.0679, acc=96.1]\n"
     ]
    },
    {
     "name": "stdout",
     "output_type": "stream",
     "text": [
      "Epoch 94: Train Loss=0.1572, Train Acc=96.05%, Test Acc=92.43%, Test F1=0.9239\n"
     ]
    },
    {
     "name": "stderr",
     "output_type": "stream",
     "text": [
      "Epoch 95: 100%|██████████| 350/350 [00:06<00:00, 58.13it/s, loss=0.161, acc=96.2]\n"
     ]
    },
    {
     "name": "stdout",
     "output_type": "stream",
     "text": [
      "Epoch 95: Train Loss=0.1390, Train Acc=96.21%, Test Acc=92.43%, Test F1=0.9236\n"
     ]
    },
    {
     "name": "stderr",
     "output_type": "stream",
     "text": [
      "Epoch 96: 100%|██████████| 350/350 [00:05<00:00, 59.75it/s, loss=0.0513, acc=96.2]\n"
     ]
    },
    {
     "name": "stdout",
     "output_type": "stream",
     "text": [
      "Epoch 96: Train Loss=0.1422, Train Acc=96.20%, Test Acc=91.50%, Test F1=0.9146\n"
     ]
    },
    {
     "name": "stderr",
     "output_type": "stream",
     "text": [
      "Epoch 97: 100%|██████████| 350/350 [00:06<00:00, 55.74it/s, loss=0.694, acc=96.9]\n"
     ]
    },
    {
     "name": "stdout",
     "output_type": "stream",
     "text": [
      "Epoch 97: Train Loss=0.1245, Train Acc=96.89%, Test Acc=92.36%, Test F1=0.9226\n"
     ]
    },
    {
     "name": "stderr",
     "output_type": "stream",
     "text": [
      "Epoch 98: 100%|██████████| 350/350 [00:06<00:00, 57.49it/s, loss=0.0204, acc=97]\n"
     ]
    },
    {
     "name": "stdout",
     "output_type": "stream",
     "text": [
      "Epoch 98: Train Loss=0.1218, Train Acc=97.02%, Test Acc=92.43%, Test F1=0.9235\n"
     ]
    },
    {
     "name": "stderr",
     "output_type": "stream",
     "text": [
      "Epoch 99: 100%|██████████| 350/350 [00:05<00:00, 58.52it/s, loss=0.0316, acc=96.3]\n"
     ]
    },
    {
     "name": "stdout",
     "output_type": "stream",
     "text": [
      "Epoch 99: Train Loss=0.1439, Train Acc=96.34%, Test Acc=92.71%, Test F1=0.9264\n"
     ]
    },
    {
     "name": "stderr",
     "output_type": "stream",
     "text": [
      "Epoch 100: 100%|██████████| 350/350 [00:05<00:00, 59.41it/s, loss=0.0113, acc=96.6]\n"
     ]
    },
    {
     "name": "stdout",
     "output_type": "stream",
     "text": [
      "Epoch 100: Train Loss=0.1345, Train Acc=96.62%, Test Acc=92.71%, Test F1=0.9270\n"
     ]
    },
    {
     "name": "stderr",
     "output_type": "stream",
     "text": [
      "Epoch 101: 100%|██████████| 350/350 [00:05<00:00, 62.14it/s, loss=0.0041, acc=96.7]\n"
     ]
    },
    {
     "name": "stdout",
     "output_type": "stream",
     "text": [
      "Epoch 101: Train Loss=0.1351, Train Acc=96.66%, Test Acc=93.36%, Test F1=0.9333\n"
     ]
    },
    {
     "name": "stderr",
     "output_type": "stream",
     "text": [
      "Epoch 102: 100%|██████████| 350/350 [00:06<00:00, 54.54it/s, loss=0.0177, acc=97.2]\n"
     ]
    },
    {
     "name": "stdout",
     "output_type": "stream",
     "text": [
      "Epoch 102: Train Loss=0.1146, Train Acc=97.21%, Test Acc=92.64%, Test F1=0.9258\n"
     ]
    },
    {
     "name": "stderr",
     "output_type": "stream",
     "text": [
      "Epoch 103: 100%|██████████| 350/350 [00:06<00:00, 57.81it/s, loss=0.00137, acc=97.5]\n"
     ]
    },
    {
     "name": "stdout",
     "output_type": "stream",
     "text": [
      "Epoch 103: Train Loss=0.1000, Train Acc=97.48%, Test Acc=93.43%, Test F1=0.9340\n"
     ]
    },
    {
     "name": "stderr",
     "output_type": "stream",
     "text": [
      "Epoch 104: 100%|██████████| 350/350 [00:06<00:00, 58.23it/s, loss=0.0225, acc=97.2]\n"
     ]
    },
    {
     "name": "stdout",
     "output_type": "stream",
     "text": [
      "Epoch 104: Train Loss=0.1146, Train Acc=97.16%, Test Acc=93.36%, Test F1=0.9333\n"
     ]
    },
    {
     "name": "stderr",
     "output_type": "stream",
     "text": [
      "Epoch 105: 100%|██████████| 350/350 [00:05<00:00, 61.45it/s, loss=0.0172, acc=97.4]\n"
     ]
    },
    {
     "name": "stdout",
     "output_type": "stream",
     "text": [
      "Epoch 105: Train Loss=0.0999, Train Acc=97.41%, Test Acc=93.29%, Test F1=0.9326\n"
     ]
    },
    {
     "name": "stderr",
     "output_type": "stream",
     "text": [
      "Epoch 106: 100%|██████████| 350/350 [00:05<00:00, 63.75it/s, loss=0.00844, acc=97.5]\n"
     ]
    },
    {
     "name": "stdout",
     "output_type": "stream",
     "text": [
      "Epoch 106: Train Loss=0.0969, Train Acc=97.46%, Test Acc=93.50%, Test F1=0.9348\n"
     ]
    },
    {
     "name": "stderr",
     "output_type": "stream",
     "text": [
      "Epoch 107: 100%|██████████| 350/350 [00:05<00:00, 59.60it/s, loss=0.123, acc=97.6]\n"
     ]
    },
    {
     "name": "stdout",
     "output_type": "stream",
     "text": [
      "Epoch 107: Train Loss=0.1048, Train Acc=97.57%, Test Acc=93.07%, Test F1=0.9302\n"
     ]
    },
    {
     "name": "stderr",
     "output_type": "stream",
     "text": [
      "Epoch 108: 100%|██████████| 350/350 [00:05<00:00, 59.78it/s, loss=0.0481, acc=97.6]\n"
     ]
    },
    {
     "name": "stdout",
     "output_type": "stream",
     "text": [
      "Epoch 108: Train Loss=0.0958, Train Acc=97.61%, Test Acc=93.64%, Test F1=0.9358\n"
     ]
    },
    {
     "name": "stderr",
     "output_type": "stream",
     "text": [
      "Epoch 109: 100%|██████████| 350/350 [00:05<00:00, 63.06it/s, loss=0.00176, acc=97.7]\n"
     ]
    },
    {
     "name": "stdout",
     "output_type": "stream",
     "text": [
      "Epoch 109: Train Loss=0.0878, Train Acc=97.66%, Test Acc=93.64%, Test F1=0.9363\n"
     ]
    },
    {
     "name": "stderr",
     "output_type": "stream",
     "text": [
      "Epoch 110: 100%|██████████| 350/350 [00:05<00:00, 61.13it/s, loss=0.00211, acc=97.9]\n"
     ]
    },
    {
     "name": "stdout",
     "output_type": "stream",
     "text": [
      "Epoch 110: Train Loss=0.0984, Train Acc=97.89%, Test Acc=93.36%, Test F1=0.9333\n"
     ]
    },
    {
     "name": "stderr",
     "output_type": "stream",
     "text": [
      "Epoch 111: 100%|██████████| 350/350 [00:05<00:00, 61.30it/s, loss=0.000947, acc=97.3]\n"
     ]
    },
    {
     "name": "stdout",
     "output_type": "stream",
     "text": [
      "Epoch 111: Train Loss=0.1040, Train Acc=97.34%, Test Acc=94.00%, Test F1=0.9399\n"
     ]
    },
    {
     "name": "stderr",
     "output_type": "stream",
     "text": [
      "Epoch 112: 100%|██████████| 350/350 [00:05<00:00, 60.21it/s, loss=0.00209, acc=97.7]\n"
     ]
    },
    {
     "name": "stdout",
     "output_type": "stream",
     "text": [
      "Epoch 112: Train Loss=0.0891, Train Acc=97.71%, Test Acc=93.07%, Test F1=0.9296\n"
     ]
    },
    {
     "name": "stderr",
     "output_type": "stream",
     "text": [
      "Epoch 113: 100%|██████████| 350/350 [00:05<00:00, 61.00it/s, loss=0.000262, acc=97.7]\n"
     ]
    },
    {
     "name": "stdout",
     "output_type": "stream",
     "text": [
      "Epoch 113: Train Loss=0.0938, Train Acc=97.70%, Test Acc=93.86%, Test F1=0.9382\n"
     ]
    },
    {
     "name": "stderr",
     "output_type": "stream",
     "text": [
      "Epoch 114: 100%|██████████| 350/350 [00:05<00:00, 59.66it/s, loss=0.0694, acc=97.7]\n"
     ]
    },
    {
     "name": "stdout",
     "output_type": "stream",
     "text": [
      "Epoch 114: Train Loss=0.0949, Train Acc=97.68%, Test Acc=94.00%, Test F1=0.9399\n"
     ]
    },
    {
     "name": "stderr",
     "output_type": "stream",
     "text": [
      "Epoch 115: 100%|██████████| 350/350 [00:05<00:00, 59.46it/s, loss=0.00126, acc=98.1]\n"
     ]
    },
    {
     "name": "stdout",
     "output_type": "stream",
     "text": [
      "Epoch 115: Train Loss=0.0801, Train Acc=98.12%, Test Acc=94.50%, Test F1=0.9449\n"
     ]
    },
    {
     "name": "stderr",
     "output_type": "stream",
     "text": [
      "Epoch 116: 100%|██████████| 350/350 [00:05<00:00, 58.43it/s, loss=0.365, acc=97.8]\n"
     ]
    },
    {
     "name": "stdout",
     "output_type": "stream",
     "text": [
      "Epoch 116: Train Loss=0.0989, Train Acc=97.82%, Test Acc=93.79%, Test F1=0.9377\n"
     ]
    },
    {
     "name": "stderr",
     "output_type": "stream",
     "text": [
      "Epoch 117: 100%|██████████| 350/350 [00:06<00:00, 57.73it/s, loss=0.00263, acc=97.9]\n"
     ]
    },
    {
     "name": "stdout",
     "output_type": "stream",
     "text": [
      "Epoch 117: Train Loss=0.0861, Train Acc=97.88%, Test Acc=93.93%, Test F1=0.9392\n"
     ]
    },
    {
     "name": "stderr",
     "output_type": "stream",
     "text": [
      "Epoch 118: 100%|██████████| 350/350 [00:05<00:00, 59.31it/s, loss=0.00357, acc=98.1]\n"
     ]
    },
    {
     "name": "stdout",
     "output_type": "stream",
     "text": [
      "Epoch 118: Train Loss=0.0813, Train Acc=98.07%, Test Acc=93.79%, Test F1=0.9377\n"
     ]
    },
    {
     "name": "stderr",
     "output_type": "stream",
     "text": [
      "Epoch 119: 100%|██████████| 350/350 [00:05<00:00, 60.50it/s, loss=0.00229, acc=97.6]\n"
     ]
    },
    {
     "name": "stdout",
     "output_type": "stream",
     "text": [
      "Epoch 119: Train Loss=0.0886, Train Acc=97.62%, Test Acc=93.86%, Test F1=0.9384\n"
     ]
    },
    {
     "name": "stderr",
     "output_type": "stream",
     "text": [
      "Epoch 120: 100%|██████████| 350/350 [00:05<00:00, 58.69it/s, loss=0.0198, acc=98]\n"
     ]
    },
    {
     "name": "stdout",
     "output_type": "stream",
     "text": [
      "Epoch 120: Train Loss=0.0891, Train Acc=98.02%, Test Acc=92.36%, Test F1=0.9231\n"
     ]
    },
    {
     "name": "stderr",
     "output_type": "stream",
     "text": [
      "Epoch 121: 100%|██████████| 350/350 [00:06<00:00, 57.01it/s, loss=0.00577, acc=98.3]\n"
     ]
    },
    {
     "name": "stdout",
     "output_type": "stream",
     "text": [
      "Epoch 121: Train Loss=0.0722, Train Acc=98.27%, Test Acc=93.79%, Test F1=0.9378\n"
     ]
    },
    {
     "name": "stderr",
     "output_type": "stream",
     "text": [
      "Epoch 122: 100%|██████████| 350/350 [00:06<00:00, 53.90it/s, loss=0.0529, acc=97.7]\n"
     ]
    },
    {
     "name": "stdout",
     "output_type": "stream",
     "text": [
      "Epoch 122: Train Loss=0.0853, Train Acc=97.73%, Test Acc=93.21%, Test F1=0.9316\n"
     ]
    },
    {
     "name": "stderr",
     "output_type": "stream",
     "text": [
      "Epoch 123: 100%|██████████| 350/350 [00:05<00:00, 58.35it/s, loss=0.0108, acc=98.1]\n"
     ]
    },
    {
     "name": "stdout",
     "output_type": "stream",
     "text": [
      "Epoch 123: Train Loss=0.0806, Train Acc=98.12%, Test Acc=93.50%, Test F1=0.9347\n"
     ]
    },
    {
     "name": "stderr",
     "output_type": "stream",
     "text": [
      "Epoch 124: 100%|██████████| 350/350 [00:06<00:00, 57.39it/s, loss=0.000658, acc=97.9]\n"
     ]
    },
    {
     "name": "stdout",
     "output_type": "stream",
     "text": [
      "Epoch 124: Train Loss=0.1009, Train Acc=97.89%, Test Acc=93.93%, Test F1=0.9391\n"
     ]
    },
    {
     "name": "stderr",
     "output_type": "stream",
     "text": [
      "Epoch 125: 100%|██████████| 350/350 [00:06<00:00, 57.65it/s, loss=0.00112, acc=98.5]\n"
     ]
    },
    {
     "name": "stdout",
     "output_type": "stream",
     "text": [
      "Epoch 125: Train Loss=0.0559, Train Acc=98.52%, Test Acc=94.29%, Test F1=0.9427\n"
     ]
    },
    {
     "name": "stderr",
     "output_type": "stream",
     "text": [
      "Epoch 126: 100%|██████████| 350/350 [00:05<00:00, 58.71it/s, loss=0.261, acc=98.3]\n"
     ]
    },
    {
     "name": "stdout",
     "output_type": "stream",
     "text": [
      "Epoch 126: Train Loss=0.0722, Train Acc=98.32%, Test Acc=94.29%, Test F1=0.9426\n"
     ]
    },
    {
     "name": "stderr",
     "output_type": "stream",
     "text": [
      "Epoch 127: 100%|██████████| 350/350 [00:06<00:00, 56.04it/s, loss=0.00124, acc=98.1]\n"
     ]
    },
    {
     "name": "stdout",
     "output_type": "stream",
     "text": [
      "Epoch 127: Train Loss=0.0804, Train Acc=98.07%, Test Acc=94.36%, Test F1=0.9435\n"
     ]
    },
    {
     "name": "stderr",
     "output_type": "stream",
     "text": [
      "Epoch 128: 100%|██████████| 350/350 [00:05<00:00, 60.10it/s, loss=0.000609, acc=98.2]\n"
     ]
    },
    {
     "name": "stdout",
     "output_type": "stream",
     "text": [
      "Epoch 128: Train Loss=0.0824, Train Acc=98.16%, Test Acc=94.14%, Test F1=0.9414\n"
     ]
    },
    {
     "name": "stderr",
     "output_type": "stream",
     "text": [
      "Epoch 129: 100%|██████████| 350/350 [00:06<00:00, 57.55it/s, loss=0.0987, acc=98.2]\n"
     ]
    },
    {
     "name": "stdout",
     "output_type": "stream",
     "text": [
      "Epoch 129: Train Loss=0.0724, Train Acc=98.25%, Test Acc=93.71%, Test F1=0.9369\n"
     ]
    },
    {
     "name": "stderr",
     "output_type": "stream",
     "text": [
      "Epoch 130: 100%|██████████| 350/350 [00:06<00:00, 56.55it/s, loss=0.000483, acc=98.5]\n"
     ]
    },
    {
     "name": "stdout",
     "output_type": "stream",
     "text": [
      "Epoch 130: Train Loss=0.0630, Train Acc=98.50%, Test Acc=93.93%, Test F1=0.9392\n"
     ]
    },
    {
     "name": "stderr",
     "output_type": "stream",
     "text": [
      "Epoch 131: 100%|██████████| 350/350 [00:06<00:00, 56.79it/s, loss=0.33, acc=98.3]\n"
     ]
    },
    {
     "name": "stdout",
     "output_type": "stream",
     "text": [
      "Epoch 131: Train Loss=0.0670, Train Acc=98.29%, Test Acc=93.50%, Test F1=0.9344\n"
     ]
    },
    {
     "name": "stderr",
     "output_type": "stream",
     "text": [
      "Epoch 132: 100%|██████████| 350/350 [00:06<00:00, 52.71it/s, loss=0.0268, acc=97.9]\n"
     ]
    },
    {
     "name": "stdout",
     "output_type": "stream",
     "text": [
      "Epoch 132: Train Loss=0.0876, Train Acc=97.93%, Test Acc=94.36%, Test F1=0.9436\n"
     ]
    },
    {
     "name": "stderr",
     "output_type": "stream",
     "text": [
      "Epoch 133: 100%|██████████| 350/350 [00:06<00:00, 56.80it/s, loss=0.00137, acc=98.4]\n"
     ]
    },
    {
     "name": "stdout",
     "output_type": "stream",
     "text": [
      "Epoch 133: Train Loss=0.0639, Train Acc=98.45%, Test Acc=94.36%, Test F1=0.9437\n"
     ]
    },
    {
     "name": "stderr",
     "output_type": "stream",
     "text": [
      "Epoch 134: 100%|██████████| 350/350 [00:06<00:00, 57.37it/s, loss=0.000534, acc=98.6]\n"
     ]
    },
    {
     "name": "stdout",
     "output_type": "stream",
     "text": [
      "Epoch 134: Train Loss=0.0590, Train Acc=98.61%, Test Acc=94.71%, Test F1=0.9471\n"
     ]
    },
    {
     "name": "stderr",
     "output_type": "stream",
     "text": [
      "Epoch 135: 100%|██████████| 350/350 [00:05<00:00, 59.83it/s, loss=0.00108, acc=98.3]\n"
     ]
    },
    {
     "name": "stdout",
     "output_type": "stream",
     "text": [
      "Epoch 135: Train Loss=0.0688, Train Acc=98.27%, Test Acc=94.43%, Test F1=0.9443\n"
     ]
    },
    {
     "name": "stderr",
     "output_type": "stream",
     "text": [
      "Epoch 136: 100%|██████████| 350/350 [00:05<00:00, 59.85it/s, loss=0.0169, acc=98.4]\n"
     ]
    },
    {
     "name": "stdout",
     "output_type": "stream",
     "text": [
      "Epoch 136: Train Loss=0.0636, Train Acc=98.39%, Test Acc=94.43%, Test F1=0.9443\n"
     ]
    },
    {
     "name": "stderr",
     "output_type": "stream",
     "text": [
      "Epoch 137: 100%|██████████| 350/350 [00:06<00:00, 53.76it/s, loss=0.00651, acc=98.8]\n"
     ]
    },
    {
     "name": "stdout",
     "output_type": "stream",
     "text": [
      "Epoch 137: Train Loss=0.0494, Train Acc=98.77%, Test Acc=94.86%, Test F1=0.9484\n"
     ]
    },
    {
     "name": "stderr",
     "output_type": "stream",
     "text": [
      "Epoch 138: 100%|██████████| 350/350 [00:06<00:00, 57.48it/s, loss=0.386, acc=98.8]\n"
     ]
    },
    {
     "name": "stdout",
     "output_type": "stream",
     "text": [
      "Epoch 138: Train Loss=0.0469, Train Acc=98.84%, Test Acc=94.57%, Test F1=0.9457\n"
     ]
    },
    {
     "name": "stderr",
     "output_type": "stream",
     "text": [
      "Epoch 139: 100%|██████████| 350/350 [00:05<00:00, 58.68it/s, loss=0.0023, acc=98.7]\n"
     ]
    },
    {
     "name": "stdout",
     "output_type": "stream",
     "text": [
      "Epoch 139: Train Loss=0.0552, Train Acc=98.68%, Test Acc=94.50%, Test F1=0.9449\n"
     ]
    },
    {
     "name": "stderr",
     "output_type": "stream",
     "text": [
      "Epoch 140: 100%|██████████| 350/350 [00:05<00:00, 62.25it/s, loss=0.000112, acc=98.5]\n"
     ]
    },
    {
     "name": "stdout",
     "output_type": "stream",
     "text": [
      "Epoch 140: Train Loss=0.0587, Train Acc=98.48%, Test Acc=94.79%, Test F1=0.9479\n"
     ]
    },
    {
     "name": "stderr",
     "output_type": "stream",
     "text": [
      "Epoch 141: 100%|██████████| 350/350 [00:05<00:00, 59.38it/s, loss=0.00047, acc=98.4]\n"
     ]
    },
    {
     "name": "stdout",
     "output_type": "stream",
     "text": [
      "Epoch 141: Train Loss=0.0604, Train Acc=98.45%, Test Acc=94.36%, Test F1=0.9432\n"
     ]
    },
    {
     "name": "stderr",
     "output_type": "stream",
     "text": [
      "Epoch 142: 100%|██████████| 350/350 [00:06<00:00, 56.59it/s, loss=0.054, acc=98.4]\n"
     ]
    },
    {
     "name": "stdout",
     "output_type": "stream",
     "text": [
      "Epoch 142: Train Loss=0.0590, Train Acc=98.41%, Test Acc=94.00%, Test F1=0.9398\n"
     ]
    },
    {
     "name": "stderr",
     "output_type": "stream",
     "text": [
      "Epoch 143: 100%|██████████| 350/350 [00:05<00:00, 59.51it/s, loss=0.00929, acc=98.6]\n"
     ]
    },
    {
     "name": "stdout",
     "output_type": "stream",
     "text": [
      "Epoch 143: Train Loss=0.0644, Train Acc=98.64%, Test Acc=94.64%, Test F1=0.9464\n"
     ]
    },
    {
     "name": "stderr",
     "output_type": "stream",
     "text": [
      "Epoch 144: 100%|██████████| 350/350 [00:05<00:00, 62.16it/s, loss=0.0116, acc=98.5]\n"
     ]
    },
    {
     "name": "stdout",
     "output_type": "stream",
     "text": [
      "Epoch 144: Train Loss=0.0609, Train Acc=98.46%, Test Acc=94.71%, Test F1=0.9468\n"
     ]
    },
    {
     "name": "stderr",
     "output_type": "stream",
     "text": [
      "Epoch 145: 100%|██████████| 350/350 [00:05<00:00, 62.46it/s, loss=0.00062, acc=98.8]\n"
     ]
    },
    {
     "name": "stdout",
     "output_type": "stream",
     "text": [
      "Epoch 145: Train Loss=0.0502, Train Acc=98.75%, Test Acc=94.50%, Test F1=0.9447\n"
     ]
    },
    {
     "name": "stderr",
     "output_type": "stream",
     "text": [
      "Epoch 146: 100%|██████████| 350/350 [00:05<00:00, 62.83it/s, loss=0.000778, acc=98.9]\n"
     ]
    },
    {
     "name": "stdout",
     "output_type": "stream",
     "text": [
      "Epoch 146: Train Loss=0.0401, Train Acc=98.88%, Test Acc=94.50%, Test F1=0.9448\n"
     ]
    },
    {
     "name": "stderr",
     "output_type": "stream",
     "text": [
      "Epoch 147: 100%|██████████| 350/350 [00:06<00:00, 55.72it/s, loss=0.0005, acc=98.5]\n"
     ]
    },
    {
     "name": "stdout",
     "output_type": "stream",
     "text": [
      "Epoch 147: Train Loss=0.0517, Train Acc=98.48%, Test Acc=94.21%, Test F1=0.9420\n"
     ]
    },
    {
     "name": "stderr",
     "output_type": "stream",
     "text": [
      "Epoch 148: 100%|██████████| 350/350 [00:06<00:00, 56.49it/s, loss=0.0152, acc=98.2]\n"
     ]
    },
    {
     "name": "stdout",
     "output_type": "stream",
     "text": [
      "Epoch 148: Train Loss=0.0815, Train Acc=98.23%, Test Acc=94.43%, Test F1=0.9442\n"
     ]
    },
    {
     "name": "stderr",
     "output_type": "stream",
     "text": [
      "Epoch 149: 100%|██████████| 350/350 [00:06<00:00, 58.17it/s, loss=0.00064, acc=98.8]\n"
     ]
    },
    {
     "name": "stdout",
     "output_type": "stream",
     "text": [
      "Epoch 149: Train Loss=0.0502, Train Acc=98.80%, Test Acc=94.57%, Test F1=0.9454\n"
     ]
    },
    {
     "name": "stderr",
     "output_type": "stream",
     "text": [
      "Epoch 150: 100%|██████████| 350/350 [00:05<00:00, 59.72it/s, loss=0.00181, acc=98.5]\n"
     ]
    },
    {
     "name": "stdout",
     "output_type": "stream",
     "text": [
      "Epoch 150: Train Loss=0.0505, Train Acc=98.54%, Test Acc=94.86%, Test F1=0.9485\n"
     ]
    },
    {
     "name": "stderr",
     "output_type": "stream",
     "text": [
      "Epoch 151: 100%|██████████| 350/350 [00:05<00:00, 60.57it/s, loss=0.00082, acc=98.7]\n"
     ]
    },
    {
     "name": "stdout",
     "output_type": "stream",
     "text": [
      "Epoch 151: Train Loss=0.0587, Train Acc=98.73%, Test Acc=94.29%, Test F1=0.9425\n"
     ]
    },
    {
     "name": "stderr",
     "output_type": "stream",
     "text": [
      "Epoch 152: 100%|██████████| 350/350 [00:06<00:00, 57.77it/s, loss=0.00111, acc=98.5]\n"
     ]
    },
    {
     "name": "stdout",
     "output_type": "stream",
     "text": [
      "Epoch 152: Train Loss=0.0637, Train Acc=98.46%, Test Acc=94.79%, Test F1=0.9479\n"
     ]
    },
    {
     "name": "stderr",
     "output_type": "stream",
     "text": [
      "Epoch 153: 100%|██████████| 350/350 [00:06<00:00, 55.01it/s, loss=0.00522, acc=98.9]\n"
     ]
    },
    {
     "name": "stdout",
     "output_type": "stream",
     "text": [
      "Epoch 153: Train Loss=0.0511, Train Acc=98.89%, Test Acc=95.07%, Test F1=0.9506\n"
     ]
    },
    {
     "name": "stderr",
     "output_type": "stream",
     "text": [
      "Epoch 154: 100%|██████████| 350/350 [00:05<00:00, 61.59it/s, loss=0.000862, acc=98.8]\n"
     ]
    },
    {
     "name": "stdout",
     "output_type": "stream",
     "text": [
      "Epoch 154: Train Loss=0.0482, Train Acc=98.79%, Test Acc=94.86%, Test F1=0.9485\n"
     ]
    },
    {
     "name": "stderr",
     "output_type": "stream",
     "text": [
      "Epoch 155: 100%|██████████| 350/350 [00:05<00:00, 61.05it/s, loss=0.00176, acc=98.8]\n"
     ]
    },
    {
     "name": "stdout",
     "output_type": "stream",
     "text": [
      "Epoch 155: Train Loss=0.0576, Train Acc=98.79%, Test Acc=94.29%, Test F1=0.9427\n"
     ]
    },
    {
     "name": "stderr",
     "output_type": "stream",
     "text": [
      "Epoch 156: 100%|██████████| 350/350 [00:05<00:00, 60.20it/s, loss=0.000263, acc=98.8]\n"
     ]
    },
    {
     "name": "stdout",
     "output_type": "stream",
     "text": [
      "Epoch 156: Train Loss=0.0556, Train Acc=98.77%, Test Acc=94.64%, Test F1=0.9462\n"
     ]
    },
    {
     "name": "stderr",
     "output_type": "stream",
     "text": [
      "Epoch 157: 100%|██████████| 350/350 [00:05<00:00, 62.25it/s, loss=0.000239, acc=98.4]\n"
     ]
    },
    {
     "name": "stdout",
     "output_type": "stream",
     "text": [
      "Epoch 157: Train Loss=0.0623, Train Acc=98.43%, Test Acc=94.36%, Test F1=0.9433\n"
     ]
    },
    {
     "name": "stderr",
     "output_type": "stream",
     "text": [
      "Epoch 158: 100%|██████████| 350/350 [00:06<00:00, 57.38it/s, loss=0.000234, acc=98.6]\n"
     ]
    },
    {
     "name": "stdout",
     "output_type": "stream",
     "text": [
      "Epoch 158: Train Loss=0.0612, Train Acc=98.62%, Test Acc=94.36%, Test F1=0.9433\n"
     ]
    },
    {
     "name": "stderr",
     "output_type": "stream",
     "text": [
      "Epoch 159: 100%|██████████| 350/350 [00:05<00:00, 62.83it/s, loss=0.000892, acc=98.7]\n"
     ]
    },
    {
     "name": "stdout",
     "output_type": "stream",
     "text": [
      "Epoch 159: Train Loss=0.0616, Train Acc=98.66%, Test Acc=94.64%, Test F1=0.9464\n"
     ]
    },
    {
     "name": "stderr",
     "output_type": "stream",
     "text": [
      "Epoch 160: 100%|██████████| 350/350 [00:05<00:00, 63.44it/s, loss=0.0036, acc=98.8]\n"
     ]
    },
    {
     "name": "stdout",
     "output_type": "stream",
     "text": [
      "Epoch 160: Train Loss=0.0472, Train Acc=98.82%, Test Acc=94.79%, Test F1=0.9477\n"
     ]
    },
    {
     "name": "stderr",
     "output_type": "stream",
     "text": [
      "Epoch 161: 100%|██████████| 350/350 [00:05<00:00, 64.23it/s, loss=0.00048, acc=98.9]\n"
     ]
    },
    {
     "name": "stdout",
     "output_type": "stream",
     "text": [
      "Epoch 161: Train Loss=0.0461, Train Acc=98.86%, Test Acc=94.57%, Test F1=0.9458\n"
     ]
    },
    {
     "name": "stderr",
     "output_type": "stream",
     "text": [
      "Epoch 162: 100%|██████████| 350/350 [00:05<00:00, 64.65it/s, loss=0.0284, acc=98.6]\n"
     ]
    },
    {
     "name": "stdout",
     "output_type": "stream",
     "text": [
      "Epoch 162: Train Loss=0.0557, Train Acc=98.61%, Test Acc=94.57%, Test F1=0.9456\n"
     ]
    },
    {
     "name": "stderr",
     "output_type": "stream",
     "text": [
      "Epoch 163: 100%|██████████| 350/350 [00:05<00:00, 61.94it/s, loss=0.00101, acc=98.8]\n"
     ]
    },
    {
     "name": "stdout",
     "output_type": "stream",
     "text": [
      "Epoch 163: Train Loss=0.0527, Train Acc=98.79%, Test Acc=94.07%, Test F1=0.9402\n"
     ]
    },
    {
     "name": "stderr",
     "output_type": "stream",
     "text": [
      "Epoch 164: 100%|██████████| 350/350 [00:05<00:00, 60.46it/s, loss=0.00124, acc=98.8]\n"
     ]
    },
    {
     "name": "stdout",
     "output_type": "stream",
     "text": [
      "Epoch 164: Train Loss=0.0592, Train Acc=98.75%, Test Acc=94.14%, Test F1=0.9412\n"
     ]
    },
    {
     "name": "stderr",
     "output_type": "stream",
     "text": [
      "Epoch 165: 100%|██████████| 350/350 [00:05<00:00, 65.61it/s, loss=0.0254, acc=98.7]\n"
     ]
    },
    {
     "name": "stdout",
     "output_type": "stream",
     "text": [
      "Epoch 165: Train Loss=0.0615, Train Acc=98.70%, Test Acc=94.21%, Test F1=0.9420\n"
     ]
    },
    {
     "name": "stderr",
     "output_type": "stream",
     "text": [
      "Epoch 166: 100%|██████████| 350/350 [00:05<00:00, 64.13it/s, loss=0.000526, acc=98.5]\n"
     ]
    },
    {
     "name": "stdout",
     "output_type": "stream",
     "text": [
      "Epoch 166: Train Loss=0.0711, Train Acc=98.54%, Test Acc=94.93%, Test F1=0.9493\n"
     ]
    },
    {
     "name": "stderr",
     "output_type": "stream",
     "text": [
      "Epoch 167: 100%|██████████| 350/350 [00:05<00:00, 64.51it/s, loss=0.00065, acc=98.9]\n"
     ]
    },
    {
     "name": "stdout",
     "output_type": "stream",
     "text": [
      "Epoch 167: Train Loss=0.0463, Train Acc=98.91%, Test Acc=94.64%, Test F1=0.9463\n"
     ]
    },
    {
     "name": "stderr",
     "output_type": "stream",
     "text": [
      "Epoch 168: 100%|██████████| 350/350 [00:05<00:00, 64.48it/s, loss=0.00307, acc=98.7]\n"
     ]
    },
    {
     "name": "stdout",
     "output_type": "stream",
     "text": [
      "Epoch 168: Train Loss=0.0606, Train Acc=98.70%, Test Acc=94.79%, Test F1=0.9478\n"
     ]
    },
    {
     "name": "stderr",
     "output_type": "stream",
     "text": [
      "Epoch 169: 100%|██████████| 350/350 [00:06<00:00, 57.28it/s, loss=0.000996, acc=99]\n"
     ]
    },
    {
     "name": "stdout",
     "output_type": "stream",
     "text": [
      "Epoch 169: Train Loss=0.0427, Train Acc=99.00%, Test Acc=94.93%, Test F1=0.9493\n"
     ]
    },
    {
     "name": "stderr",
     "output_type": "stream",
     "text": [
      "Epoch 170: 100%|██████████| 350/350 [00:05<00:00, 63.82it/s, loss=0.00071, acc=98.4]\n"
     ]
    },
    {
     "name": "stdout",
     "output_type": "stream",
     "text": [
      "Epoch 170: Train Loss=0.0646, Train Acc=98.43%, Test Acc=94.14%, Test F1=0.9411\n"
     ]
    },
    {
     "name": "stderr",
     "output_type": "stream",
     "text": [
      "Epoch 171: 100%|██████████| 350/350 [00:05<00:00, 65.33it/s, loss=0.000665, acc=98.6]\n"
     ]
    },
    {
     "name": "stdout",
     "output_type": "stream",
     "text": [
      "Epoch 171: Train Loss=0.0691, Train Acc=98.64%, Test Acc=94.57%, Test F1=0.9456\n"
     ]
    },
    {
     "name": "stderr",
     "output_type": "stream",
     "text": [
      "Epoch 172: 100%|██████████| 350/350 [00:05<00:00, 65.50it/s, loss=0.00233, acc=98.8]\n"
     ]
    },
    {
     "name": "stdout",
     "output_type": "stream",
     "text": [
      "Epoch 172: Train Loss=0.0491, Train Acc=98.80%, Test Acc=94.07%, Test F1=0.9406\n"
     ]
    },
    {
     "name": "stderr",
     "output_type": "stream",
     "text": [
      "Epoch 173: 100%|██████████| 350/350 [00:05<00:00, 65.78it/s, loss=0.557, acc=98.7]\n"
     ]
    },
    {
     "name": "stdout",
     "output_type": "stream",
     "text": [
      "Epoch 173: Train Loss=0.0542, Train Acc=98.68%, Test Acc=94.71%, Test F1=0.9471\n"
     ]
    },
    {
     "name": "stderr",
     "output_type": "stream",
     "text": [
      "Epoch 174: 100%|██████████| 350/350 [00:05<00:00, 64.77it/s, loss=0.00336, acc=98.9]\n"
     ]
    },
    {
     "name": "stdout",
     "output_type": "stream",
     "text": [
      "Epoch 174: Train Loss=0.0473, Train Acc=98.91%, Test Acc=94.29%, Test F1=0.9425\n"
     ]
    },
    {
     "name": "stderr",
     "output_type": "stream",
     "text": [
      "Epoch 175: 100%|██████████| 350/350 [00:05<00:00, 62.82it/s, loss=0.314, acc=98.8]\n"
     ]
    },
    {
     "name": "stdout",
     "output_type": "stream",
     "text": [
      "Epoch 175: Train Loss=0.0555, Train Acc=98.79%, Test Acc=94.57%, Test F1=0.9456\n"
     ]
    },
    {
     "name": "stderr",
     "output_type": "stream",
     "text": [
      "Epoch 176: 100%|██████████| 350/350 [00:05<00:00, 65.19it/s, loss=0.00214, acc=98.9]\n"
     ]
    },
    {
     "name": "stdout",
     "output_type": "stream",
     "text": [
      "Epoch 176: Train Loss=0.0420, Train Acc=98.86%, Test Acc=94.21%, Test F1=0.9421\n"
     ]
    },
    {
     "name": "stderr",
     "output_type": "stream",
     "text": [
      "Epoch 177: 100%|██████████| 350/350 [00:05<00:00, 67.69it/s, loss=0.000756, acc=98.4]\n"
     ]
    },
    {
     "name": "stdout",
     "output_type": "stream",
     "text": [
      "Epoch 177: Train Loss=0.0820, Train Acc=98.45%, Test Acc=94.29%, Test F1=0.9428\n"
     ]
    },
    {
     "name": "stderr",
     "output_type": "stream",
     "text": [
      "Epoch 178: 100%|██████████| 350/350 [00:05<00:00, 66.41it/s, loss=0.012, acc=98.4]\n"
     ]
    },
    {
     "name": "stdout",
     "output_type": "stream",
     "text": [
      "Epoch 178: Train Loss=0.0632, Train Acc=98.45%, Test Acc=95.21%, Test F1=0.9520\n"
     ]
    },
    {
     "name": "stderr",
     "output_type": "stream",
     "text": [
      "Epoch 179: 100%|██████████| 350/350 [00:05<00:00, 65.50it/s, loss=0.00208, acc=98.9]\n"
     ]
    },
    {
     "name": "stdout",
     "output_type": "stream",
     "text": [
      "Epoch 179: Train Loss=0.0570, Train Acc=98.86%, Test Acc=94.86%, Test F1=0.9485\n"
     ]
    },
    {
     "name": "stderr",
     "output_type": "stream",
     "text": [
      "Epoch 180: 100%|██████████| 350/350 [00:05<00:00, 61.34it/s, loss=0.000579, acc=98.9]\n"
     ]
    },
    {
     "name": "stdout",
     "output_type": "stream",
     "text": [
      "Epoch 180: Train Loss=0.0503, Train Acc=98.91%, Test Acc=94.79%, Test F1=0.9478\n"
     ]
    },
    {
     "name": "stderr",
     "output_type": "stream",
     "text": [
      "Epoch 181: 100%|██████████| 350/350 [00:05<00:00, 64.20it/s, loss=0.00891, acc=98.9]\n"
     ]
    },
    {
     "name": "stdout",
     "output_type": "stream",
     "text": [
      "Epoch 181: Train Loss=0.0442, Train Acc=98.86%, Test Acc=94.36%, Test F1=0.9435\n"
     ]
    },
    {
     "name": "stderr",
     "output_type": "stream",
     "text": [
      "Epoch 182: 100%|██████████| 350/350 [00:05<00:00, 67.95it/s, loss=0.000228, acc=98.8]\n"
     ]
    },
    {
     "name": "stdout",
     "output_type": "stream",
     "text": [
      "Epoch 182: Train Loss=0.0485, Train Acc=98.82%, Test Acc=94.50%, Test F1=0.9448\n"
     ]
    },
    {
     "name": "stderr",
     "output_type": "stream",
     "text": [
      "Epoch 183: 100%|██████████| 350/350 [00:05<00:00, 66.55it/s, loss=0.0359, acc=98.7]\n"
     ]
    },
    {
     "name": "stdout",
     "output_type": "stream",
     "text": [
      "Epoch 183: Train Loss=0.0570, Train Acc=98.68%, Test Acc=94.71%, Test F1=0.9469\n"
     ]
    },
    {
     "name": "stderr",
     "output_type": "stream",
     "text": [
      "Epoch 184: 100%|██████████| 350/350 [00:05<00:00, 62.63it/s, loss=9.44e-5, acc=98.9]\n"
     ]
    },
    {
     "name": "stdout",
     "output_type": "stream",
     "text": [
      "Epoch 184: Train Loss=0.0457, Train Acc=98.88%, Test Acc=94.57%, Test F1=0.9455\n"
     ]
    },
    {
     "name": "stderr",
     "output_type": "stream",
     "text": [
      "Epoch 185: 100%|██████████| 350/350 [00:05<00:00, 62.75it/s, loss=0.00764, acc=98.8]\n"
     ]
    },
    {
     "name": "stdout",
     "output_type": "stream",
     "text": [
      "Epoch 185: Train Loss=0.0585, Train Acc=98.79%, Test Acc=95.36%, Test F1=0.9534\n"
     ]
    },
    {
     "name": "stderr",
     "output_type": "stream",
     "text": [
      "Epoch 186: 100%|██████████| 350/350 [00:05<00:00, 60.09it/s, loss=0.00119, acc=98.8]\n"
     ]
    },
    {
     "name": "stdout",
     "output_type": "stream",
     "text": [
      "Epoch 186: Train Loss=0.0504, Train Acc=98.84%, Test Acc=94.86%, Test F1=0.9485\n"
     ]
    },
    {
     "name": "stderr",
     "output_type": "stream",
     "text": [
      "Epoch 187: 100%|██████████| 350/350 [00:05<00:00, 63.83it/s, loss=0.000154, acc=98.6]\n"
     ]
    },
    {
     "name": "stdout",
     "output_type": "stream",
     "text": [
      "Epoch 187: Train Loss=0.0556, Train Acc=98.57%, Test Acc=94.79%, Test F1=0.9477\n"
     ]
    },
    {
     "name": "stderr",
     "output_type": "stream",
     "text": [
      "Epoch 188: 100%|██████████| 350/350 [00:05<00:00, 65.26it/s, loss=0.13, acc=98.2]\n"
     ]
    },
    {
     "name": "stdout",
     "output_type": "stream",
     "text": [
      "Epoch 188: Train Loss=0.0708, Train Acc=98.21%, Test Acc=95.00%, Test F1=0.9499\n"
     ]
    },
    {
     "name": "stderr",
     "output_type": "stream",
     "text": [
      "Epoch 189: 100%|██████████| 350/350 [00:05<00:00, 66.60it/s, loss=0.00106, acc=98.9]\n"
     ]
    },
    {
     "name": "stdout",
     "output_type": "stream",
     "text": [
      "Epoch 189: Train Loss=0.0492, Train Acc=98.91%, Test Acc=94.86%, Test F1=0.9485\n"
     ]
    },
    {
     "name": "stderr",
     "output_type": "stream",
     "text": [
      "Epoch 190: 100%|██████████| 350/350 [00:05<00:00, 67.11it/s, loss=0.0114, acc=98.6]\n"
     ]
    },
    {
     "name": "stdout",
     "output_type": "stream",
     "text": [
      "Epoch 190: Train Loss=0.0565, Train Acc=98.59%, Test Acc=94.57%, Test F1=0.9455\n"
     ]
    },
    {
     "name": "stderr",
     "output_type": "stream",
     "text": [
      "Epoch 191: 100%|██████████| 350/350 [00:05<00:00, 66.19it/s, loss=0.00191, acc=98.8]\n"
     ]
    },
    {
     "name": "stdout",
     "output_type": "stream",
     "text": [
      "Epoch 191: Train Loss=0.0500, Train Acc=98.75%, Test Acc=94.93%, Test F1=0.9490\n"
     ]
    },
    {
     "name": "stderr",
     "output_type": "stream",
     "text": [
      "Epoch 192: 100%|██████████| 350/350 [00:05<00:00, 58.45it/s, loss=0.000823, acc=98.7]\n"
     ]
    },
    {
     "name": "stdout",
     "output_type": "stream",
     "text": [
      "Epoch 192: Train Loss=0.0538, Train Acc=98.70%, Test Acc=94.71%, Test F1=0.9472\n"
     ]
    },
    {
     "name": "stderr",
     "output_type": "stream",
     "text": [
      "Epoch 193: 100%|██████████| 350/350 [00:05<00:00, 65.03it/s, loss=0.129, acc=98.5]\n"
     ]
    },
    {
     "name": "stdout",
     "output_type": "stream",
     "text": [
      "Epoch 193: Train Loss=0.0614, Train Acc=98.50%, Test Acc=95.00%, Test F1=0.9499\n"
     ]
    },
    {
     "name": "stderr",
     "output_type": "stream",
     "text": [
      "Epoch 194: 100%|██████████| 350/350 [00:05<00:00, 66.60it/s, loss=0.000312, acc=98.8]\n"
     ]
    },
    {
     "name": "stdout",
     "output_type": "stream",
     "text": [
      "Epoch 194: Train Loss=0.0547, Train Acc=98.82%, Test Acc=94.64%, Test F1=0.9463\n"
     ]
    },
    {
     "name": "stderr",
     "output_type": "stream",
     "text": [
      "Epoch 195: 100%|██████████| 350/350 [00:05<00:00, 67.02it/s, loss=0.000214, acc=99]\n"
     ]
    },
    {
     "name": "stdout",
     "output_type": "stream",
     "text": [
      "Epoch 195: Train Loss=0.0455, Train Acc=99.02%, Test Acc=95.00%, Test F1=0.9500\n"
     ]
    },
    {
     "name": "stderr",
     "output_type": "stream",
     "text": [
      "Epoch 196: 100%|██████████| 350/350 [00:05<00:00, 67.65it/s, loss=0.000317, acc=98.5]\n"
     ]
    },
    {
     "name": "stdout",
     "output_type": "stream",
     "text": [
      "Epoch 196: Train Loss=0.0674, Train Acc=98.54%, Test Acc=94.43%, Test F1=0.9440\n"
     ]
    },
    {
     "name": "stderr",
     "output_type": "stream",
     "text": [
      "Epoch 197: 100%|██████████| 350/350 [00:05<00:00, 66.45it/s, loss=0.000677, acc=98.9]\n"
     ]
    },
    {
     "name": "stdout",
     "output_type": "stream",
     "text": [
      "Epoch 197: Train Loss=0.0433, Train Acc=98.91%, Test Acc=94.71%, Test F1=0.9471\n"
     ]
    },
    {
     "name": "stderr",
     "output_type": "stream",
     "text": [
      "Epoch 198: 100%|██████████| 350/350 [00:05<00:00, 61.56it/s, loss=0.0183, acc=98.9]\n"
     ]
    },
    {
     "name": "stdout",
     "output_type": "stream",
     "text": [
      "Epoch 198: Train Loss=0.0507, Train Acc=98.86%, Test Acc=94.57%, Test F1=0.9456\n"
     ]
    },
    {
     "name": "stderr",
     "output_type": "stream",
     "text": [
      "Epoch 199: 100%|██████████| 350/350 [00:05<00:00, 65.95it/s, loss=0.008, acc=98.8]\n"
     ]
    },
    {
     "name": "stdout",
     "output_type": "stream",
     "text": [
      "Epoch 199: Train Loss=0.0481, Train Acc=98.79%, Test Acc=94.71%, Test F1=0.9471\n"
     ]
    },
    {
     "name": "stderr",
     "output_type": "stream",
     "text": [
      "Epoch 200: 100%|██████████| 350/350 [00:05<00:00, 66.90it/s, loss=0.000229, acc=98.9]\n"
     ]
    },
    {
     "name": "stdout",
     "output_type": "stream",
     "text": [
      "Epoch 200: Train Loss=0.0519, Train Acc=98.88%, Test Acc=94.86%, Test F1=0.9485\n",
      "\n",
      "Training Summary:\n",
      "  Best Model: Epoch 185, Acc=95.36%, F1=0.9534\n",
      "  Highest: Epoch 185, Acc=95.36%, F1=0.9534\n",
      "Model doesn't have feature gating mechanism\n",
      "\n",
      "Final Results:\n",
      "  Best: Acc=94.86%, F1=0.9485\n",
      "  Highest: Acc=95.36%, F1=0.9534\n",
      "\n",
      "Classification Report:\n",
      "              precision    recall  f1-score   support\n",
      "\n",
      "       ANGRY       0.89      0.91      0.90       200\n",
      "     DISGUST       0.96      0.96      0.96       200\n",
      "        FEAR       0.95      0.96      0.96       200\n",
      "       HAPPY       0.96      0.91      0.93       200\n",
      "     NEUTRAL       0.95      0.95      0.95       200\n",
      "         SAD       0.98      0.95      0.97       200\n",
      "    SURPRISE       0.95      0.99      0.97       200\n",
      "\n",
      "    accuracy                           0.95      1400\n",
      "   macro avg       0.95      0.95      0.95      1400\n",
      "weighted avg       0.95      0.95      0.95      1400\n",
      "\n",
      "\n",
      "============================================================\n",
      "Experiment: Bangla Handcrafted\n",
      "============================================================\n",
      "Features shape: (7000, 51)\n",
      "Architecture: Deep DNN with Feature Gating\n",
      "Split: Train=5600, Test=1400\n",
      "HybridFusion configured: Total=51, MFCC=0, Acoustic=51, Mode=acoustic_only\n",
      "Model parameters: 621,959\n",
      "\n",
      "Training Configuration:\n",
      "  Architecture: HybridFusion\n",
      "  Learning Rate: 0.0005\n",
      "  Batch Size: 16\n",
      "  Description: HybridFusion with prosodic stream processing\n"
     ]
    },
    {
     "name": "stderr",
     "output_type": "stream",
     "text": [
      "Epoch 1: 100%|██████████| 350/350 [00:03<00:00, 105.42it/s, loss=1.84, acc=18.6]\n"
     ]
    },
    {
     "name": "stdout",
     "output_type": "stream",
     "text": [
      "Epoch 1: Train Loss=2.2871, Train Acc=18.64%, Test Acc=26.00%, Test F1=0.1953\n"
     ]
    },
    {
     "name": "stderr",
     "output_type": "stream",
     "text": [
      "Epoch 2: 100%|██████████| 350/350 [00:03<00:00, 105.02it/s, loss=1.36, acc=27.6]\n"
     ]
    },
    {
     "name": "stdout",
     "output_type": "stream",
     "text": [
      "Epoch 2: Train Loss=1.8409, Train Acc=27.64%, Test Acc=40.21%, Test F1=0.3547\n"
     ]
    },
    {
     "name": "stderr",
     "output_type": "stream",
     "text": [
      "Epoch 3: 100%|██████████| 350/350 [00:03<00:00, 106.07it/s, loss=1.7, acc=36.6]\n"
     ]
    },
    {
     "name": "stdout",
     "output_type": "stream",
     "text": [
      "Epoch 3: Train Loss=1.5834, Train Acc=36.59%, Test Acc=52.43%, Test F1=0.4826\n"
     ]
    },
    {
     "name": "stderr",
     "output_type": "stream",
     "text": [
      "Epoch 4: 100%|██████████| 350/350 [00:03<00:00, 105.80it/s, loss=1.14, acc=43.5]\n"
     ]
    },
    {
     "name": "stdout",
     "output_type": "stream",
     "text": [
      "Epoch 4: Train Loss=1.4216, Train Acc=43.46%, Test Acc=55.79%, Test F1=0.5191\n"
     ]
    },
    {
     "name": "stderr",
     "output_type": "stream",
     "text": [
      "Epoch 5: 100%|██████████| 350/350 [00:03<00:00, 90.74it/s, loss=1.38, acc=48.5]\n"
     ]
    },
    {
     "name": "stdout",
     "output_type": "stream",
     "text": [
      "Epoch 5: Train Loss=1.3125, Train Acc=48.50%, Test Acc=57.86%, Test F1=0.5448\n"
     ]
    },
    {
     "name": "stderr",
     "output_type": "stream",
     "text": [
      "Epoch 6: 100%|██████████| 350/350 [00:03<00:00, 97.12it/s, loss=1.68, acc=51.7] \n"
     ]
    },
    {
     "name": "stdout",
     "output_type": "stream",
     "text": [
      "Epoch 6: Train Loss=1.2585, Train Acc=51.68%, Test Acc=61.43%, Test F1=0.5992\n"
     ]
    },
    {
     "name": "stderr",
     "output_type": "stream",
     "text": [
      "Epoch 7: 100%|██████████| 350/350 [00:03<00:00, 106.70it/s, loss=1.27, acc=53.9]\n"
     ]
    },
    {
     "name": "stdout",
     "output_type": "stream",
     "text": [
      "Epoch 7: Train Loss=1.2158, Train Acc=53.86%, Test Acc=61.71%, Test F1=0.5871\n"
     ]
    },
    {
     "name": "stderr",
     "output_type": "stream",
     "text": [
      "Epoch 8: 100%|██████████| 350/350 [00:03<00:00, 105.82it/s, loss=1.41, acc=55.2]\n"
     ]
    },
    {
     "name": "stdout",
     "output_type": "stream",
     "text": [
      "Epoch 8: Train Loss=1.1810, Train Acc=55.20%, Test Acc=63.50%, Test F1=0.6025\n"
     ]
    },
    {
     "name": "stderr",
     "output_type": "stream",
     "text": [
      "Epoch 9: 100%|██████████| 350/350 [00:03<00:00, 105.01it/s, loss=1.22, acc=56.8]\n"
     ]
    },
    {
     "name": "stdout",
     "output_type": "stream",
     "text": [
      "Epoch 9: Train Loss=1.1472, Train Acc=56.75%, Test Acc=64.64%, Test F1=0.6238\n"
     ]
    },
    {
     "name": "stderr",
     "output_type": "stream",
     "text": [
      "Epoch 10: 100%|██████████| 350/350 [00:03<00:00, 104.34it/s, loss=2.12, acc=58.5]\n"
     ]
    },
    {
     "name": "stdout",
     "output_type": "stream",
     "text": [
      "Epoch 10: Train Loss=1.1150, Train Acc=58.50%, Test Acc=63.43%, Test F1=0.6127\n"
     ]
    },
    {
     "name": "stderr",
     "output_type": "stream",
     "text": [
      "Epoch 11: 100%|██████████| 350/350 [00:03<00:00, 106.06it/s, loss=1.14, acc=59.9]\n"
     ]
    },
    {
     "name": "stdout",
     "output_type": "stream",
     "text": [
      "Epoch 11: Train Loss=1.0837, Train Acc=59.93%, Test Acc=65.43%, Test F1=0.6405\n"
     ]
    },
    {
     "name": "stderr",
     "output_type": "stream",
     "text": [
      "Epoch 12: 100%|██████████| 350/350 [00:03<00:00, 104.44it/s, loss=0.977, acc=60.9]\n"
     ]
    },
    {
     "name": "stdout",
     "output_type": "stream",
     "text": [
      "Epoch 12: Train Loss=1.0752, Train Acc=60.88%, Test Acc=64.93%, Test F1=0.6269\n"
     ]
    },
    {
     "name": "stderr",
     "output_type": "stream",
     "text": [
      "Epoch 13: 100%|██████████| 350/350 [00:03<00:00, 105.53it/s, loss=0.867, acc=60.9]\n"
     ]
    },
    {
     "name": "stdout",
     "output_type": "stream",
     "text": [
      "Epoch 13: Train Loss=1.0643, Train Acc=60.88%, Test Acc=66.14%, Test F1=0.6440\n"
     ]
    },
    {
     "name": "stderr",
     "output_type": "stream",
     "text": [
      "Epoch 14: 100%|██████████| 350/350 [00:03<00:00, 98.83it/s, loss=0.566, acc=61.8]\n"
     ]
    },
    {
     "name": "stdout",
     "output_type": "stream",
     "text": [
      "Epoch 14: Train Loss=1.0390, Train Acc=61.75%, Test Acc=65.71%, Test F1=0.6382\n"
     ]
    },
    {
     "name": "stderr",
     "output_type": "stream",
     "text": [
      "Epoch 15: 100%|██████████| 350/350 [00:03<00:00, 91.48it/s, loss=1.55, acc=60.7]\n"
     ]
    },
    {
     "name": "stdout",
     "output_type": "stream",
     "text": [
      "Epoch 15: Train Loss=1.0450, Train Acc=60.73%, Test Acc=66.50%, Test F1=0.6418\n"
     ]
    },
    {
     "name": "stderr",
     "output_type": "stream",
     "text": [
      "Epoch 16: 100%|██████████| 350/350 [00:03<00:00, 102.79it/s, loss=1.19, acc=62.1]\n"
     ]
    },
    {
     "name": "stdout",
     "output_type": "stream",
     "text": [
      "Epoch 16: Train Loss=1.0050, Train Acc=62.14%, Test Acc=67.79%, Test F1=0.6505\n"
     ]
    },
    {
     "name": "stderr",
     "output_type": "stream",
     "text": [
      "Epoch 17: 100%|██████████| 350/350 [00:03<00:00, 104.56it/s, loss=1.32, acc=63.3]\n"
     ]
    },
    {
     "name": "stdout",
     "output_type": "stream",
     "text": [
      "Epoch 17: Train Loss=0.9925, Train Acc=63.34%, Test Acc=68.57%, Test F1=0.6683\n"
     ]
    },
    {
     "name": "stderr",
     "output_type": "stream",
     "text": [
      "Epoch 18: 100%|██████████| 350/350 [00:03<00:00, 104.55it/s, loss=0.796, acc=63.7]\n"
     ]
    },
    {
     "name": "stdout",
     "output_type": "stream",
     "text": [
      "Epoch 18: Train Loss=0.9929, Train Acc=63.68%, Test Acc=68.71%, Test F1=0.6716\n"
     ]
    },
    {
     "name": "stderr",
     "output_type": "stream",
     "text": [
      "Epoch 19: 100%|██████████| 350/350 [00:03<00:00, 105.97it/s, loss=1.56, acc=65.3]\n"
     ]
    },
    {
     "name": "stdout",
     "output_type": "stream",
     "text": [
      "Epoch 19: Train Loss=0.9459, Train Acc=65.32%, Test Acc=70.21%, Test F1=0.6883\n"
     ]
    },
    {
     "name": "stderr",
     "output_type": "stream",
     "text": [
      "Epoch 20: 100%|██████████| 350/350 [00:03<00:00, 104.83it/s, loss=0.697, acc=65.2]\n"
     ]
    },
    {
     "name": "stdout",
     "output_type": "stream",
     "text": [
      "Epoch 20: Train Loss=0.9589, Train Acc=65.21%, Test Acc=69.43%, Test F1=0.6776\n"
     ]
    },
    {
     "name": "stderr",
     "output_type": "stream",
     "text": [
      "Epoch 21: 100%|██████████| 350/350 [00:03<00:00, 104.95it/s, loss=0.784, acc=65.2]\n"
     ]
    },
    {
     "name": "stdout",
     "output_type": "stream",
     "text": [
      "Epoch 21: Train Loss=0.9482, Train Acc=65.25%, Test Acc=69.71%, Test F1=0.6792\n"
     ]
    },
    {
     "name": "stderr",
     "output_type": "stream",
     "text": [
      "Epoch 22: 100%|██████████| 350/350 [00:03<00:00, 104.75it/s, loss=0.835, acc=65.5]\n"
     ]
    },
    {
     "name": "stdout",
     "output_type": "stream",
     "text": [
      "Epoch 22: Train Loss=0.9316, Train Acc=65.48%, Test Acc=70.86%, Test F1=0.6991\n"
     ]
    },
    {
     "name": "stderr",
     "output_type": "stream",
     "text": [
      "Epoch 23: 100%|██████████| 350/350 [00:03<00:00, 99.83it/s, loss=1.02, acc=66.1]\n"
     ]
    },
    {
     "name": "stdout",
     "output_type": "stream",
     "text": [
      "Epoch 23: Train Loss=0.9262, Train Acc=66.11%, Test Acc=69.36%, Test F1=0.6849\n"
     ]
    },
    {
     "name": "stderr",
     "output_type": "stream",
     "text": [
      "Epoch 24: 100%|██████████| 350/350 [00:03<00:00, 92.56it/s, loss=1.26, acc=66.4]\n"
     ]
    },
    {
     "name": "stdout",
     "output_type": "stream",
     "text": [
      "Epoch 24: Train Loss=0.9283, Train Acc=66.38%, Test Acc=68.14%, Test F1=0.6695\n"
     ]
    },
    {
     "name": "stderr",
     "output_type": "stream",
     "text": [
      "Epoch 25: 100%|██████████| 350/350 [00:03<00:00, 104.17it/s, loss=0.609, acc=67.4]\n"
     ]
    },
    {
     "name": "stdout",
     "output_type": "stream",
     "text": [
      "Epoch 25: Train Loss=0.9013, Train Acc=67.38%, Test Acc=69.71%, Test F1=0.6780\n"
     ]
    },
    {
     "name": "stderr",
     "output_type": "stream",
     "text": [
      "Epoch 26: 100%|██████████| 350/350 [00:03<00:00, 106.16it/s, loss=0.948, acc=68.7]\n"
     ]
    },
    {
     "name": "stdout",
     "output_type": "stream",
     "text": [
      "Epoch 26: Train Loss=0.8805, Train Acc=68.68%, Test Acc=70.86%, Test F1=0.6961\n"
     ]
    },
    {
     "name": "stderr",
     "output_type": "stream",
     "text": [
      "Epoch 27: 100%|██████████| 350/350 [00:03<00:00, 105.03it/s, loss=1.6, acc=67.1]\n"
     ]
    },
    {
     "name": "stdout",
     "output_type": "stream",
     "text": [
      "Epoch 27: Train Loss=0.8970, Train Acc=67.07%, Test Acc=71.71%, Test F1=0.7103\n"
     ]
    },
    {
     "name": "stderr",
     "output_type": "stream",
     "text": [
      "Epoch 28: 100%|██████████| 350/350 [00:03<00:00, 105.47it/s, loss=1.23, acc=70.1]\n"
     ]
    },
    {
     "name": "stdout",
     "output_type": "stream",
     "text": [
      "Epoch 28: Train Loss=0.8442, Train Acc=70.12%, Test Acc=72.21%, Test F1=0.7138\n"
     ]
    },
    {
     "name": "stderr",
     "output_type": "stream",
     "text": [
      "Epoch 29: 100%|██████████| 350/350 [00:03<00:00, 104.17it/s, loss=0.832, acc=69.9]\n"
     ]
    },
    {
     "name": "stdout",
     "output_type": "stream",
     "text": [
      "Epoch 29: Train Loss=0.8481, Train Acc=69.95%, Test Acc=72.64%, Test F1=0.7192\n"
     ]
    },
    {
     "name": "stderr",
     "output_type": "stream",
     "text": [
      "Epoch 30: 100%|██████████| 350/350 [00:03<00:00, 106.05it/s, loss=0.692, acc=69.2]\n"
     ]
    },
    {
     "name": "stdout",
     "output_type": "stream",
     "text": [
      "Epoch 30: Train Loss=0.8615, Train Acc=69.16%, Test Acc=72.00%, Test F1=0.7099\n"
     ]
    },
    {
     "name": "stderr",
     "output_type": "stream",
     "text": [
      "Epoch 31: 100%|██████████| 350/350 [00:03<00:00, 104.84it/s, loss=1.45, acc=70.6]\n"
     ]
    },
    {
     "name": "stdout",
     "output_type": "stream",
     "text": [
      "Epoch 31: Train Loss=0.8176, Train Acc=70.62%, Test Acc=72.57%, Test F1=0.7190\n"
     ]
    },
    {
     "name": "stderr",
     "output_type": "stream",
     "text": [
      "Epoch 32: 100%|██████████| 350/350 [00:03<00:00, 105.18it/s, loss=1.43, acc=71.3]\n"
     ]
    },
    {
     "name": "stdout",
     "output_type": "stream",
     "text": [
      "Epoch 32: Train Loss=0.8190, Train Acc=71.29%, Test Acc=73.14%, Test F1=0.7242\n"
     ]
    },
    {
     "name": "stderr",
     "output_type": "stream",
     "text": [
      "Epoch 33: 100%|██████████| 350/350 [00:03<00:00, 91.16it/s, loss=0.74, acc=71.2]\n"
     ]
    },
    {
     "name": "stdout",
     "output_type": "stream",
     "text": [
      "Epoch 33: Train Loss=0.8184, Train Acc=71.23%, Test Acc=73.14%, Test F1=0.7282\n"
     ]
    },
    {
     "name": "stderr",
     "output_type": "stream",
     "text": [
      "Epoch 34: 100%|██████████| 350/350 [00:03<00:00, 98.02it/s, loss=1.52, acc=71.9] \n"
     ]
    },
    {
     "name": "stdout",
     "output_type": "stream",
     "text": [
      "Epoch 34: Train Loss=0.8088, Train Acc=71.88%, Test Acc=74.29%, Test F1=0.7403\n"
     ]
    },
    {
     "name": "stderr",
     "output_type": "stream",
     "text": [
      "Epoch 35: 100%|██████████| 350/350 [00:03<00:00, 106.75it/s, loss=0.832, acc=71.2]\n"
     ]
    },
    {
     "name": "stdout",
     "output_type": "stream",
     "text": [
      "Epoch 35: Train Loss=0.8105, Train Acc=71.25%, Test Acc=73.79%, Test F1=0.7308\n"
     ]
    },
    {
     "name": "stderr",
     "output_type": "stream",
     "text": [
      "Epoch 36: 100%|██████████| 350/350 [00:03<00:00, 106.20it/s, loss=0.946, acc=73.2]\n"
     ]
    },
    {
     "name": "stdout",
     "output_type": "stream",
     "text": [
      "Epoch 36: Train Loss=0.7948, Train Acc=73.18%, Test Acc=73.29%, Test F1=0.7182\n"
     ]
    },
    {
     "name": "stderr",
     "output_type": "stream",
     "text": [
      "Epoch 37: 100%|██████████| 350/350 [00:03<00:00, 105.62it/s, loss=0.886, acc=72.5]\n"
     ]
    },
    {
     "name": "stdout",
     "output_type": "stream",
     "text": [
      "Epoch 37: Train Loss=0.7831, Train Acc=72.52%, Test Acc=74.93%, Test F1=0.7440\n"
     ]
    },
    {
     "name": "stderr",
     "output_type": "stream",
     "text": [
      "Epoch 38: 100%|██████████| 350/350 [00:03<00:00, 105.60it/s, loss=1.06, acc=73.2]\n"
     ]
    },
    {
     "name": "stdout",
     "output_type": "stream",
     "text": [
      "Epoch 38: Train Loss=0.7646, Train Acc=73.25%, Test Acc=74.86%, Test F1=0.7411\n"
     ]
    },
    {
     "name": "stderr",
     "output_type": "stream",
     "text": [
      "Epoch 39: 100%|██████████| 350/350 [00:03<00:00, 105.45it/s, loss=0.838, acc=72.6]\n"
     ]
    },
    {
     "name": "stdout",
     "output_type": "stream",
     "text": [
      "Epoch 39: Train Loss=0.7645, Train Acc=72.59%, Test Acc=74.64%, Test F1=0.7335\n"
     ]
    },
    {
     "name": "stderr",
     "output_type": "stream",
     "text": [
      "Epoch 40: 100%|██████████| 350/350 [00:03<00:00, 105.29it/s, loss=0.644, acc=74]\n"
     ]
    },
    {
     "name": "stdout",
     "output_type": "stream",
     "text": [
      "Epoch 40: Train Loss=0.7494, Train Acc=73.98%, Test Acc=75.86%, Test F1=0.7515\n"
     ]
    },
    {
     "name": "stderr",
     "output_type": "stream",
     "text": [
      "Epoch 41: 100%|██████████| 350/350 [00:03<00:00, 105.94it/s, loss=0.839, acc=73.4]\n"
     ]
    },
    {
     "name": "stdout",
     "output_type": "stream",
     "text": [
      "Epoch 41: Train Loss=0.7603, Train Acc=73.43%, Test Acc=75.00%, Test F1=0.7469\n"
     ]
    },
    {
     "name": "stderr",
     "output_type": "stream",
     "text": [
      "Epoch 42: 100%|██████████| 350/350 [00:03<00:00, 94.22it/s, loss=0.615, acc=74.4] \n"
     ]
    },
    {
     "name": "stdout",
     "output_type": "stream",
     "text": [
      "Epoch 42: Train Loss=0.7224, Train Acc=74.43%, Test Acc=75.21%, Test F1=0.7492\n"
     ]
    },
    {
     "name": "stderr",
     "output_type": "stream",
     "text": [
      "Epoch 43: 100%|██████████| 350/350 [00:03<00:00, 97.64it/s, loss=0.631, acc=75.8] \n"
     ]
    },
    {
     "name": "stdout",
     "output_type": "stream",
     "text": [
      "Epoch 43: Train Loss=0.7268, Train Acc=75.80%, Test Acc=75.07%, Test F1=0.7461\n"
     ]
    },
    {
     "name": "stderr",
     "output_type": "stream",
     "text": [
      "Epoch 44: 100%|██████████| 350/350 [00:03<00:00, 103.73it/s, loss=0.784, acc=75.6]\n"
     ]
    },
    {
     "name": "stdout",
     "output_type": "stream",
     "text": [
      "Epoch 44: Train Loss=0.7277, Train Acc=75.57%, Test Acc=76.36%, Test F1=0.7599\n"
     ]
    },
    {
     "name": "stderr",
     "output_type": "stream",
     "text": [
      "Epoch 45: 100%|██████████| 350/350 [00:03<00:00, 104.74it/s, loss=0.533, acc=75.8]\n"
     ]
    },
    {
     "name": "stdout",
     "output_type": "stream",
     "text": [
      "Epoch 45: Train Loss=0.7006, Train Acc=75.79%, Test Acc=74.71%, Test F1=0.7440\n"
     ]
    },
    {
     "name": "stderr",
     "output_type": "stream",
     "text": [
      "Epoch 46: 100%|██████████| 350/350 [00:03<00:00, 104.39it/s, loss=0.534, acc=75.8]\n"
     ]
    },
    {
     "name": "stdout",
     "output_type": "stream",
     "text": [
      "Epoch 46: Train Loss=0.6990, Train Acc=75.80%, Test Acc=76.07%, Test F1=0.7548\n"
     ]
    },
    {
     "name": "stderr",
     "output_type": "stream",
     "text": [
      "Epoch 47: 100%|██████████| 350/350 [00:03<00:00, 104.98it/s, loss=0.3, acc=75.7]\n"
     ]
    },
    {
     "name": "stdout",
     "output_type": "stream",
     "text": [
      "Epoch 47: Train Loss=0.7029, Train Acc=75.68%, Test Acc=74.79%, Test F1=0.7445\n"
     ]
    },
    {
     "name": "stderr",
     "output_type": "stream",
     "text": [
      "Epoch 48: 100%|██████████| 350/350 [00:03<00:00, 106.23it/s, loss=0.595, acc=75.8]\n"
     ]
    },
    {
     "name": "stdout",
     "output_type": "stream",
     "text": [
      "Epoch 48: Train Loss=0.6840, Train Acc=75.79%, Test Acc=75.86%, Test F1=0.7577\n"
     ]
    },
    {
     "name": "stderr",
     "output_type": "stream",
     "text": [
      "Epoch 49: 100%|██████████| 350/350 [00:03<00:00, 107.76it/s, loss=0.523, acc=76.9]\n"
     ]
    },
    {
     "name": "stdout",
     "output_type": "stream",
     "text": [
      "Epoch 49: Train Loss=0.6706, Train Acc=76.88%, Test Acc=78.14%, Test F1=0.7773\n"
     ]
    },
    {
     "name": "stderr",
     "output_type": "stream",
     "text": [
      "Epoch 50: 100%|██████████| 350/350 [00:03<00:00, 105.33it/s, loss=0.615, acc=76.8]\n"
     ]
    },
    {
     "name": "stdout",
     "output_type": "stream",
     "text": [
      "Epoch 50: Train Loss=0.6808, Train Acc=76.84%, Test Acc=75.57%, Test F1=0.7514\n"
     ]
    },
    {
     "name": "stderr",
     "output_type": "stream",
     "text": [
      "Epoch 51: 100%|██████████| 350/350 [00:03<00:00, 97.38it/s, loss=1.26, acc=77.1]\n"
     ]
    },
    {
     "name": "stdout",
     "output_type": "stream",
     "text": [
      "Epoch 51: Train Loss=0.6684, Train Acc=77.14%, Test Acc=76.86%, Test F1=0.7624\n"
     ]
    },
    {
     "name": "stderr",
     "output_type": "stream",
     "text": [
      "Epoch 52: 100%|██████████| 350/350 [00:03<00:00, 87.84it/s, loss=1.01, acc=77.8]\n"
     ]
    },
    {
     "name": "stdout",
     "output_type": "stream",
     "text": [
      "Epoch 52: Train Loss=0.6717, Train Acc=77.82%, Test Acc=77.93%, Test F1=0.7750\n"
     ]
    },
    {
     "name": "stderr",
     "output_type": "stream",
     "text": [
      "Epoch 53: 100%|██████████| 350/350 [00:03<00:00, 99.02it/s, loss=0.315, acc=78.3] \n"
     ]
    },
    {
     "name": "stdout",
     "output_type": "stream",
     "text": [
      "Epoch 53: Train Loss=0.6401, Train Acc=78.27%, Test Acc=76.64%, Test F1=0.7632\n"
     ]
    },
    {
     "name": "stderr",
     "output_type": "stream",
     "text": [
      "Epoch 54: 100%|██████████| 350/350 [00:03<00:00, 103.17it/s, loss=1.05, acc=78.3]\n"
     ]
    },
    {
     "name": "stdout",
     "output_type": "stream",
     "text": [
      "Epoch 54: Train Loss=0.6586, Train Acc=78.30%, Test Acc=77.07%, Test F1=0.7685\n"
     ]
    },
    {
     "name": "stderr",
     "output_type": "stream",
     "text": [
      "Epoch 55: 100%|██████████| 350/350 [00:03<00:00, 102.25it/s, loss=0.524, acc=77.5]\n"
     ]
    },
    {
     "name": "stdout",
     "output_type": "stream",
     "text": [
      "Epoch 55: Train Loss=0.6744, Train Acc=77.46%, Test Acc=77.86%, Test F1=0.7741\n"
     ]
    },
    {
     "name": "stderr",
     "output_type": "stream",
     "text": [
      "Epoch 56: 100%|██████████| 350/350 [00:03<00:00, 107.25it/s, loss=0.475, acc=78.8]\n"
     ]
    },
    {
     "name": "stdout",
     "output_type": "stream",
     "text": [
      "Epoch 56: Train Loss=0.6419, Train Acc=78.77%, Test Acc=78.14%, Test F1=0.7781\n"
     ]
    },
    {
     "name": "stderr",
     "output_type": "stream",
     "text": [
      "Epoch 57: 100%|██████████| 350/350 [00:03<00:00, 101.42it/s, loss=0.627, acc=78.2]\n"
     ]
    },
    {
     "name": "stdout",
     "output_type": "stream",
     "text": [
      "Epoch 57: Train Loss=0.6406, Train Acc=78.23%, Test Acc=80.07%, Test F1=0.7993\n"
     ]
    },
    {
     "name": "stderr",
     "output_type": "stream",
     "text": [
      "Epoch 58: 100%|██████████| 350/350 [00:03<00:00, 101.97it/s, loss=0.224, acc=78.8]\n"
     ]
    },
    {
     "name": "stdout",
     "output_type": "stream",
     "text": [
      "Epoch 58: Train Loss=0.6368, Train Acc=78.82%, Test Acc=76.86%, Test F1=0.7642\n"
     ]
    },
    {
     "name": "stderr",
     "output_type": "stream",
     "text": [
      "Epoch 59: 100%|██████████| 350/350 [00:03<00:00, 103.58it/s, loss=0.423, acc=80.4]\n"
     ]
    },
    {
     "name": "stdout",
     "output_type": "stream",
     "text": [
      "Epoch 59: Train Loss=0.5977, Train Acc=80.39%, Test Acc=78.64%, Test F1=0.7852\n"
     ]
    },
    {
     "name": "stderr",
     "output_type": "stream",
     "text": [
      "Epoch 60: 100%|██████████| 350/350 [00:03<00:00, 98.42it/s, loss=0.539, acc=79.8]\n"
     ]
    },
    {
     "name": "stdout",
     "output_type": "stream",
     "text": [
      "Epoch 60: Train Loss=0.6172, Train Acc=79.84%, Test Acc=78.29%, Test F1=0.7782\n"
     ]
    },
    {
     "name": "stderr",
     "output_type": "stream",
     "text": [
      "Epoch 61: 100%|██████████| 350/350 [00:04<00:00, 84.53it/s, loss=0.531, acc=80]\n"
     ]
    },
    {
     "name": "stdout",
     "output_type": "stream",
     "text": [
      "Epoch 61: Train Loss=0.6071, Train Acc=80.02%, Test Acc=79.00%, Test F1=0.7863\n"
     ]
    },
    {
     "name": "stderr",
     "output_type": "stream",
     "text": [
      "Epoch 62: 100%|██████████| 350/350 [00:03<00:00, 92.98it/s, loss=0.657, acc=80.5] \n"
     ]
    },
    {
     "name": "stdout",
     "output_type": "stream",
     "text": [
      "Epoch 62: Train Loss=0.5890, Train Acc=80.48%, Test Acc=78.57%, Test F1=0.7816\n"
     ]
    },
    {
     "name": "stderr",
     "output_type": "stream",
     "text": [
      "Epoch 63: 100%|██████████| 350/350 [00:03<00:00, 100.08it/s, loss=0.437, acc=79.9]\n"
     ]
    },
    {
     "name": "stdout",
     "output_type": "stream",
     "text": [
      "Epoch 63: Train Loss=0.6078, Train Acc=79.91%, Test Acc=77.43%, Test F1=0.7683\n"
     ]
    },
    {
     "name": "stderr",
     "output_type": "stream",
     "text": [
      "Epoch 64: 100%|██████████| 350/350 [00:03<00:00, 100.99it/s, loss=0.449, acc=80.8]\n"
     ]
    },
    {
     "name": "stdout",
     "output_type": "stream",
     "text": [
      "Epoch 64: Train Loss=0.5639, Train Acc=80.77%, Test Acc=80.07%, Test F1=0.7964\n"
     ]
    },
    {
     "name": "stderr",
     "output_type": "stream",
     "text": [
      "Epoch 65: 100%|██████████| 350/350 [00:03<00:00, 106.06it/s, loss=0.607, acc=79.6]\n"
     ]
    },
    {
     "name": "stdout",
     "output_type": "stream",
     "text": [
      "Epoch 65: Train Loss=0.6114, Train Acc=79.61%, Test Acc=80.29%, Test F1=0.8001\n"
     ]
    },
    {
     "name": "stderr",
     "output_type": "stream",
     "text": [
      "Epoch 66: 100%|██████████| 350/350 [00:03<00:00, 105.04it/s, loss=0.748, acc=80.4]\n"
     ]
    },
    {
     "name": "stdout",
     "output_type": "stream",
     "text": [
      "Epoch 66: Train Loss=0.5762, Train Acc=80.43%, Test Acc=80.07%, Test F1=0.7978\n"
     ]
    },
    {
     "name": "stderr",
     "output_type": "stream",
     "text": [
      "Epoch 67: 100%|██████████| 350/350 [00:03<00:00, 104.74it/s, loss=0.73, acc=80.9]\n"
     ]
    },
    {
     "name": "stdout",
     "output_type": "stream",
     "text": [
      "Epoch 67: Train Loss=0.5678, Train Acc=80.89%, Test Acc=78.50%, Test F1=0.7800\n"
     ]
    },
    {
     "name": "stderr",
     "output_type": "stream",
     "text": [
      "Epoch 68: 100%|██████████| 350/350 [00:03<00:00, 105.78it/s, loss=0.518, acc=81]\n"
     ]
    },
    {
     "name": "stdout",
     "output_type": "stream",
     "text": [
      "Epoch 68: Train Loss=0.5808, Train Acc=80.98%, Test Acc=79.79%, Test F1=0.7954\n"
     ]
    },
    {
     "name": "stderr",
     "output_type": "stream",
     "text": [
      "Epoch 69: 100%|██████████| 350/350 [00:03<00:00, 104.49it/s, loss=0.936, acc=81.2]\n"
     ]
    },
    {
     "name": "stdout",
     "output_type": "stream",
     "text": [
      "Epoch 69: Train Loss=0.5630, Train Acc=81.23%, Test Acc=79.79%, Test F1=0.7936\n"
     ]
    },
    {
     "name": "stderr",
     "output_type": "stream",
     "text": [
      "Epoch 70: 100%|██████████| 350/350 [00:03<00:00, 94.13it/s, loss=0.436, acc=80.9]\n"
     ]
    },
    {
     "name": "stdout",
     "output_type": "stream",
     "text": [
      "Epoch 70: Train Loss=0.5782, Train Acc=80.91%, Test Acc=80.86%, Test F1=0.8065\n"
     ]
    },
    {
     "name": "stderr",
     "output_type": "stream",
     "text": [
      "Epoch 71: 100%|██████████| 350/350 [00:03<00:00, 93.64it/s, loss=0.609, acc=81.9]\n"
     ]
    },
    {
     "name": "stdout",
     "output_type": "stream",
     "text": [
      "Epoch 71: Train Loss=0.5441, Train Acc=81.91%, Test Acc=78.36%, Test F1=0.7793\n"
     ]
    },
    {
     "name": "stderr",
     "output_type": "stream",
     "text": [
      "Epoch 72: 100%|██████████| 350/350 [00:03<00:00, 104.79it/s, loss=0.532, acc=81.4]\n"
     ]
    },
    {
     "name": "stdout",
     "output_type": "stream",
     "text": [
      "Epoch 72: Train Loss=0.5570, Train Acc=81.39%, Test Acc=80.50%, Test F1=0.8038\n"
     ]
    },
    {
     "name": "stderr",
     "output_type": "stream",
     "text": [
      "Epoch 73: 100%|██████████| 350/350 [00:03<00:00, 104.71it/s, loss=0.563, acc=81.5]\n"
     ]
    },
    {
     "name": "stdout",
     "output_type": "stream",
     "text": [
      "Epoch 73: Train Loss=0.5634, Train Acc=81.48%, Test Acc=80.50%, Test F1=0.8020\n"
     ]
    },
    {
     "name": "stderr",
     "output_type": "stream",
     "text": [
      "Epoch 74: 100%|██████████| 350/350 [00:03<00:00, 106.09it/s, loss=0.559, acc=82.5]\n"
     ]
    },
    {
     "name": "stdout",
     "output_type": "stream",
     "text": [
      "Epoch 74: Train Loss=0.5356, Train Acc=82.50%, Test Acc=79.36%, Test F1=0.7899\n"
     ]
    },
    {
     "name": "stderr",
     "output_type": "stream",
     "text": [
      "Epoch 75: 100%|██████████| 350/350 [00:03<00:00, 104.25it/s, loss=0.564, acc=83.1]\n"
     ]
    },
    {
     "name": "stdout",
     "output_type": "stream",
     "text": [
      "Epoch 75: Train Loss=0.5229, Train Acc=83.05%, Test Acc=81.29%, Test F1=0.8117\n"
     ]
    },
    {
     "name": "stderr",
     "output_type": "stream",
     "text": [
      "Epoch 76: 100%|██████████| 350/350 [00:03<00:00, 106.60it/s, loss=0.575, acc=83]\n"
     ]
    },
    {
     "name": "stdout",
     "output_type": "stream",
     "text": [
      "Epoch 76: Train Loss=0.5392, Train Acc=82.96%, Test Acc=80.29%, Test F1=0.8014\n"
     ]
    },
    {
     "name": "stderr",
     "output_type": "stream",
     "text": [
      "Epoch 77: 100%|██████████| 350/350 [00:03<00:00, 105.77it/s, loss=0.86, acc=82.7]\n"
     ]
    },
    {
     "name": "stdout",
     "output_type": "stream",
     "text": [
      "Epoch 77: Train Loss=0.5347, Train Acc=82.66%, Test Acc=81.14%, Test F1=0.8077\n"
     ]
    },
    {
     "name": "stderr",
     "output_type": "stream",
     "text": [
      "Epoch 78: 100%|██████████| 350/350 [00:03<00:00, 105.15it/s, loss=0.377, acc=83.5]\n"
     ]
    },
    {
     "name": "stdout",
     "output_type": "stream",
     "text": [
      "Epoch 78: Train Loss=0.5168, Train Acc=83.50%, Test Acc=79.93%, Test F1=0.7981\n"
     ]
    },
    {
     "name": "stderr",
     "output_type": "stream",
     "text": [
      "Epoch 79: 100%|██████████| 350/350 [00:03<00:00, 103.12it/s, loss=0.541, acc=83.4]\n"
     ]
    },
    {
     "name": "stdout",
     "output_type": "stream",
     "text": [
      "Epoch 79: Train Loss=0.5190, Train Acc=83.43%, Test Acc=81.14%, Test F1=0.8106\n"
     ]
    },
    {
     "name": "stderr",
     "output_type": "stream",
     "text": [
      "Epoch 80: 100%|██████████| 350/350 [00:03<00:00, 92.94it/s, loss=1.02, acc=82.5] \n"
     ]
    },
    {
     "name": "stdout",
     "output_type": "stream",
     "text": [
      "Epoch 80: Train Loss=0.5276, Train Acc=82.48%, Test Acc=82.29%, Test F1=0.8218\n"
     ]
    },
    {
     "name": "stderr",
     "output_type": "stream",
     "text": [
      "Epoch 81: 100%|██████████| 350/350 [00:03<00:00, 96.78it/s, loss=0.238, acc=83.4] \n"
     ]
    },
    {
     "name": "stdout",
     "output_type": "stream",
     "text": [
      "Epoch 81: Train Loss=0.5254, Train Acc=83.36%, Test Acc=81.93%, Test F1=0.8171\n"
     ]
    },
    {
     "name": "stderr",
     "output_type": "stream",
     "text": [
      "Epoch 82: 100%|██████████| 350/350 [00:03<00:00, 106.14it/s, loss=1.08, acc=84.4]\n"
     ]
    },
    {
     "name": "stdout",
     "output_type": "stream",
     "text": [
      "Epoch 82: Train Loss=0.4812, Train Acc=84.36%, Test Acc=81.79%, Test F1=0.8168\n"
     ]
    },
    {
     "name": "stderr",
     "output_type": "stream",
     "text": [
      "Epoch 83: 100%|██████████| 350/350 [00:03<00:00, 104.35it/s, loss=0.258, acc=83.2]\n"
     ]
    },
    {
     "name": "stdout",
     "output_type": "stream",
     "text": [
      "Epoch 83: Train Loss=0.5171, Train Acc=83.25%, Test Acc=81.93%, Test F1=0.8183\n"
     ]
    },
    {
     "name": "stderr",
     "output_type": "stream",
     "text": [
      "Epoch 84: 100%|██████████| 350/350 [00:03<00:00, 104.65it/s, loss=0.72, acc=83.8]\n"
     ]
    },
    {
     "name": "stdout",
     "output_type": "stream",
     "text": [
      "Epoch 84: Train Loss=0.5091, Train Acc=83.80%, Test Acc=81.43%, Test F1=0.8134\n"
     ]
    },
    {
     "name": "stderr",
     "output_type": "stream",
     "text": [
      "Epoch 85: 100%|██████████| 350/350 [00:03<00:00, 105.17it/s, loss=0.389, acc=83.5]\n"
     ]
    },
    {
     "name": "stdout",
     "output_type": "stream",
     "text": [
      "Epoch 85: Train Loss=0.5224, Train Acc=83.46%, Test Acc=80.79%, Test F1=0.8052\n"
     ]
    },
    {
     "name": "stderr",
     "output_type": "stream",
     "text": [
      "Epoch 86: 100%|██████████| 350/350 [00:03<00:00, 106.61it/s, loss=1.17, acc=84.1]\n"
     ]
    },
    {
     "name": "stdout",
     "output_type": "stream",
     "text": [
      "Epoch 86: Train Loss=0.4959, Train Acc=84.14%, Test Acc=81.36%, Test F1=0.8126\n"
     ]
    },
    {
     "name": "stderr",
     "output_type": "stream",
     "text": [
      "Epoch 87: 100%|██████████| 350/350 [00:03<00:00, 103.49it/s, loss=0.174, acc=84.1]\n"
     ]
    },
    {
     "name": "stdout",
     "output_type": "stream",
     "text": [
      "Epoch 87: Train Loss=0.4850, Train Acc=84.12%, Test Acc=81.21%, Test F1=0.8109\n"
     ]
    },
    {
     "name": "stderr",
     "output_type": "stream",
     "text": [
      "Epoch 88: 100%|██████████| 350/350 [00:03<00:00, 104.66it/s, loss=0.155, acc=84.5]\n"
     ]
    },
    {
     "name": "stdout",
     "output_type": "stream",
     "text": [
      "Epoch 88: Train Loss=0.4903, Train Acc=84.46%, Test Acc=81.00%, Test F1=0.8092\n"
     ]
    },
    {
     "name": "stderr",
     "output_type": "stream",
     "text": [
      "Epoch 89: 100%|██████████| 350/350 [00:03<00:00, 97.36it/s, loss=0.295, acc=84.9]\n"
     ]
    },
    {
     "name": "stdout",
     "output_type": "stream",
     "text": [
      "Epoch 89: Train Loss=0.4720, Train Acc=84.91%, Test Acc=81.71%, Test F1=0.8144\n"
     ]
    },
    {
     "name": "stderr",
     "output_type": "stream",
     "text": [
      "Epoch 90: 100%|██████████| 350/350 [00:03<00:00, 93.35it/s, loss=0.237, acc=86.4]\n"
     ]
    },
    {
     "name": "stdout",
     "output_type": "stream",
     "text": [
      "Epoch 90: Train Loss=0.4220, Train Acc=86.45%, Test Acc=83.29%, Test F1=0.8318\n"
     ]
    },
    {
     "name": "stderr",
     "output_type": "stream",
     "text": [
      "Epoch 91: 100%|██████████| 350/350 [00:03<00:00, 100.09it/s, loss=0.0787, acc=87.2]\n"
     ]
    },
    {
     "name": "stdout",
     "output_type": "stream",
     "text": [
      "Epoch 91: Train Loss=0.4211, Train Acc=87.21%, Test Acc=82.14%, Test F1=0.8192\n"
     ]
    },
    {
     "name": "stderr",
     "output_type": "stream",
     "text": [
      "Epoch 92: 100%|██████████| 350/350 [00:03<00:00, 104.05it/s, loss=0.305, acc=86.5]\n"
     ]
    },
    {
     "name": "stdout",
     "output_type": "stream",
     "text": [
      "Epoch 92: Train Loss=0.4185, Train Acc=86.54%, Test Acc=82.71%, Test F1=0.8258\n"
     ]
    },
    {
     "name": "stderr",
     "output_type": "stream",
     "text": [
      "Epoch 93: 100%|██████████| 350/350 [00:03<00:00, 104.58it/s, loss=0.916, acc=86.9]\n"
     ]
    },
    {
     "name": "stdout",
     "output_type": "stream",
     "text": [
      "Epoch 93: Train Loss=0.4147, Train Acc=86.88%, Test Acc=83.29%, Test F1=0.8317\n"
     ]
    },
    {
     "name": "stderr",
     "output_type": "stream",
     "text": [
      "Epoch 94: 100%|██████████| 350/350 [00:03<00:00, 105.17it/s, loss=0.3, acc=87.9]\n"
     ]
    },
    {
     "name": "stdout",
     "output_type": "stream",
     "text": [
      "Epoch 94: Train Loss=0.3802, Train Acc=87.95%, Test Acc=83.21%, Test F1=0.8309\n"
     ]
    },
    {
     "name": "stderr",
     "output_type": "stream",
     "text": [
      "Epoch 95: 100%|██████████| 350/350 [00:03<00:00, 104.96it/s, loss=0.567, acc=87]\n"
     ]
    },
    {
     "name": "stdout",
     "output_type": "stream",
     "text": [
      "Epoch 95: Train Loss=0.4013, Train Acc=86.98%, Test Acc=83.14%, Test F1=0.8295\n"
     ]
    },
    {
     "name": "stderr",
     "output_type": "stream",
     "text": [
      "Epoch 96: 100%|██████████| 350/350 [00:03<00:00, 105.68it/s, loss=0.531, acc=87]\n"
     ]
    },
    {
     "name": "stdout",
     "output_type": "stream",
     "text": [
      "Epoch 96: Train Loss=0.4127, Train Acc=86.96%, Test Acc=83.79%, Test F1=0.8355\n"
     ]
    },
    {
     "name": "stderr",
     "output_type": "stream",
     "text": [
      "Epoch 97: 100%|██████████| 350/350 [00:03<00:00, 106.22it/s, loss=1.83, acc=87.2]\n"
     ]
    },
    {
     "name": "stdout",
     "output_type": "stream",
     "text": [
      "Epoch 97: Train Loss=0.3919, Train Acc=87.25%, Test Acc=82.14%, Test F1=0.8190\n"
     ]
    },
    {
     "name": "stderr",
     "output_type": "stream",
     "text": [
      "Epoch 98: 100%|██████████| 350/350 [00:03<00:00, 107.30it/s, loss=0.404, acc=87.9]\n"
     ]
    },
    {
     "name": "stdout",
     "output_type": "stream",
     "text": [
      "Epoch 98: Train Loss=0.3734, Train Acc=87.93%, Test Acc=83.36%, Test F1=0.8325\n"
     ]
    },
    {
     "name": "stderr",
     "output_type": "stream",
     "text": [
      "Epoch 99: 100%|██████████| 350/350 [00:03<00:00, 94.90it/s, loss=0.195, acc=87.6] \n"
     ]
    },
    {
     "name": "stdout",
     "output_type": "stream",
     "text": [
      "Epoch 99: Train Loss=0.4064, Train Acc=87.64%, Test Acc=82.79%, Test F1=0.8260\n"
     ]
    },
    {
     "name": "stderr",
     "output_type": "stream",
     "text": [
      "Epoch 100: 100%|██████████| 350/350 [00:03<00:00, 92.84it/s, loss=0.184, acc=87.5]\n"
     ]
    },
    {
     "name": "stdout",
     "output_type": "stream",
     "text": [
      "Epoch 100: Train Loss=0.4003, Train Acc=87.54%, Test Acc=83.07%, Test F1=0.8287\n"
     ]
    },
    {
     "name": "stderr",
     "output_type": "stream",
     "text": [
      "Epoch 101: 100%|██████████| 350/350 [00:03<00:00, 105.93it/s, loss=0.214, acc=88.4]\n"
     ]
    },
    {
     "name": "stdout",
     "output_type": "stream",
     "text": [
      "Epoch 101: Train Loss=0.3628, Train Acc=88.45%, Test Acc=83.43%, Test F1=0.8321\n"
     ]
    },
    {
     "name": "stderr",
     "output_type": "stream",
     "text": [
      "Epoch 102: 100%|██████████| 350/350 [00:03<00:00, 106.83it/s, loss=0.131, acc=87.3]\n"
     ]
    },
    {
     "name": "stdout",
     "output_type": "stream",
     "text": [
      "Epoch 102: Train Loss=0.4110, Train Acc=87.29%, Test Acc=82.57%, Test F1=0.8243\n"
     ]
    },
    {
     "name": "stderr",
     "output_type": "stream",
     "text": [
      "Epoch 103: 100%|██████████| 350/350 [00:03<00:00, 107.29it/s, loss=0.0492, acc=87.8]\n"
     ]
    },
    {
     "name": "stdout",
     "output_type": "stream",
     "text": [
      "Epoch 103: Train Loss=0.3814, Train Acc=87.84%, Test Acc=83.43%, Test F1=0.8332\n"
     ]
    },
    {
     "name": "stderr",
     "output_type": "stream",
     "text": [
      "Epoch 104: 100%|██████████| 350/350 [00:03<00:00, 106.25it/s, loss=0.343, acc=87.9]\n"
     ]
    },
    {
     "name": "stdout",
     "output_type": "stream",
     "text": [
      "Epoch 104: Train Loss=0.3971, Train Acc=87.95%, Test Acc=84.00%, Test F1=0.8379\n"
     ]
    },
    {
     "name": "stderr",
     "output_type": "stream",
     "text": [
      "Epoch 105: 100%|██████████| 350/350 [00:03<00:00, 105.09it/s, loss=0.217, acc=88.1]\n"
     ]
    },
    {
     "name": "stdout",
     "output_type": "stream",
     "text": [
      "Epoch 105: Train Loss=0.3735, Train Acc=88.05%, Test Acc=82.50%, Test F1=0.8224\n"
     ]
    },
    {
     "name": "stderr",
     "output_type": "stream",
     "text": [
      "Epoch 106: 100%|██████████| 350/350 [00:03<00:00, 105.01it/s, loss=0.3, acc=88.9]\n"
     ]
    },
    {
     "name": "stdout",
     "output_type": "stream",
     "text": [
      "Epoch 106: Train Loss=0.3694, Train Acc=88.95%, Test Acc=84.07%, Test F1=0.8392\n"
     ]
    },
    {
     "name": "stderr",
     "output_type": "stream",
     "text": [
      "Epoch 107: 100%|██████████| 350/350 [00:03<00:00, 107.84it/s, loss=0.036, acc=89.3]\n"
     ]
    },
    {
     "name": "stdout",
     "output_type": "stream",
     "text": [
      "Epoch 107: Train Loss=0.3559, Train Acc=89.32%, Test Acc=84.21%, Test F1=0.8415\n"
     ]
    },
    {
     "name": "stderr",
     "output_type": "stream",
     "text": [
      "Epoch 108: 100%|██████████| 350/350 [00:03<00:00, 108.60it/s, loss=0.327, acc=89.2]\n"
     ]
    },
    {
     "name": "stdout",
     "output_type": "stream",
     "text": [
      "Epoch 108: Train Loss=0.3573, Train Acc=89.20%, Test Acc=82.93%, Test F1=0.8279\n"
     ]
    },
    {
     "name": "stderr",
     "output_type": "stream",
     "text": [
      "Epoch 109: 100%|██████████| 350/350 [00:03<00:00, 94.68it/s, loss=0.177, acc=89]\n"
     ]
    },
    {
     "name": "stdout",
     "output_type": "stream",
     "text": [
      "Epoch 109: Train Loss=0.3623, Train Acc=88.98%, Test Acc=83.00%, Test F1=0.8289\n"
     ]
    },
    {
     "name": "stderr",
     "output_type": "stream",
     "text": [
      "Epoch 110: 100%|██████████| 350/350 [00:03<00:00, 92.64it/s, loss=0.0705, acc=89.1]\n"
     ]
    },
    {
     "name": "stdout",
     "output_type": "stream",
     "text": [
      "Epoch 110: Train Loss=0.3608, Train Acc=89.07%, Test Acc=84.00%, Test F1=0.8404\n"
     ]
    },
    {
     "name": "stderr",
     "output_type": "stream",
     "text": [
      "Epoch 111: 100%|██████████| 350/350 [00:03<00:00, 107.14it/s, loss=0.222, acc=89.5]\n"
     ]
    },
    {
     "name": "stdout",
     "output_type": "stream",
     "text": [
      "Epoch 111: Train Loss=0.3416, Train Acc=89.46%, Test Acc=83.57%, Test F1=0.8348\n"
     ]
    },
    {
     "name": "stderr",
     "output_type": "stream",
     "text": [
      "Epoch 112: 100%|██████████| 350/350 [00:03<00:00, 107.64it/s, loss=0.327, acc=88.7]\n"
     ]
    },
    {
     "name": "stdout",
     "output_type": "stream",
     "text": [
      "Epoch 112: Train Loss=0.3571, Train Acc=88.73%, Test Acc=83.71%, Test F1=0.8357\n"
     ]
    },
    {
     "name": "stderr",
     "output_type": "stream",
     "text": [
      "Epoch 113: 100%|██████████| 350/350 [00:03<00:00, 106.78it/s, loss=0.0908, acc=89.7]\n"
     ]
    },
    {
     "name": "stdout",
     "output_type": "stream",
     "text": [
      "Epoch 113: Train Loss=0.3411, Train Acc=89.70%, Test Acc=83.86%, Test F1=0.8376\n"
     ]
    },
    {
     "name": "stderr",
     "output_type": "stream",
     "text": [
      "Epoch 114: 100%|██████████| 350/350 [00:03<00:00, 107.63it/s, loss=0.274, acc=89.7]\n"
     ]
    },
    {
     "name": "stdout",
     "output_type": "stream",
     "text": [
      "Epoch 114: Train Loss=0.3341, Train Acc=89.66%, Test Acc=82.79%, Test F1=0.8260\n"
     ]
    },
    {
     "name": "stderr",
     "output_type": "stream",
     "text": [
      "Epoch 115: 100%|██████████| 350/350 [00:03<00:00, 106.88it/s, loss=0.34, acc=88.8]\n"
     ]
    },
    {
     "name": "stdout",
     "output_type": "stream",
     "text": [
      "Epoch 115: Train Loss=0.3685, Train Acc=88.79%, Test Acc=82.64%, Test F1=0.8239\n"
     ]
    },
    {
     "name": "stderr",
     "output_type": "stream",
     "text": [
      "Epoch 116: 100%|██████████| 350/350 [00:03<00:00, 108.37it/s, loss=0.363, acc=89.1]\n"
     ]
    },
    {
     "name": "stdout",
     "output_type": "stream",
     "text": [
      "Epoch 116: Train Loss=0.3656, Train Acc=89.11%, Test Acc=83.93%, Test F1=0.8371\n"
     ]
    },
    {
     "name": "stderr",
     "output_type": "stream",
     "text": [
      "Epoch 117: 100%|██████████| 350/350 [00:03<00:00, 106.93it/s, loss=0.122, acc=89.4]\n"
     ]
    },
    {
     "name": "stdout",
     "output_type": "stream",
     "text": [
      "Epoch 117: Train Loss=0.3441, Train Acc=89.39%, Test Acc=83.79%, Test F1=0.8356\n"
     ]
    },
    {
     "name": "stderr",
     "output_type": "stream",
     "text": [
      "Epoch 118: 100%|██████████| 350/350 [00:03<00:00, 107.11it/s, loss=0.137, acc=90.4]\n"
     ]
    },
    {
     "name": "stdout",
     "output_type": "stream",
     "text": [
      "Epoch 118: Train Loss=0.3248, Train Acc=90.36%, Test Acc=84.14%, Test F1=0.8410\n"
     ]
    },
    {
     "name": "stderr",
     "output_type": "stream",
     "text": [
      "Epoch 119: 100%|██████████| 350/350 [00:03<00:00, 107.18it/s, loss=0.269, acc=90.5]\n"
     ]
    },
    {
     "name": "stdout",
     "output_type": "stream",
     "text": [
      "Epoch 119: Train Loss=0.3146, Train Acc=90.48%, Test Acc=83.93%, Test F1=0.8380\n"
     ]
    },
    {
     "name": "stderr",
     "output_type": "stream",
     "text": [
      "Epoch 120: 100%|██████████| 350/350 [00:03<00:00, 105.42it/s, loss=0.147, acc=90.5]\n"
     ]
    },
    {
     "name": "stdout",
     "output_type": "stream",
     "text": [
      "Epoch 120: Train Loss=0.3091, Train Acc=90.48%, Test Acc=84.14%, Test F1=0.8405\n"
     ]
    },
    {
     "name": "stderr",
     "output_type": "stream",
     "text": [
      "Epoch 121: 100%|██████████| 350/350 [00:03<00:00, 103.88it/s, loss=0.123, acc=90.8]\n"
     ]
    },
    {
     "name": "stdout",
     "output_type": "stream",
     "text": [
      "Epoch 121: Train Loss=0.2977, Train Acc=90.80%, Test Acc=84.64%, Test F1=0.8449\n"
     ]
    },
    {
     "name": "stderr",
     "output_type": "stream",
     "text": [
      "Epoch 122: 100%|██████████| 350/350 [00:03<00:00, 105.67it/s, loss=0.0479, acc=89.9]\n"
     ]
    },
    {
     "name": "stdout",
     "output_type": "stream",
     "text": [
      "Epoch 122: Train Loss=0.3218, Train Acc=89.95%, Test Acc=85.07%, Test F1=0.8493\n"
     ]
    },
    {
     "name": "stderr",
     "output_type": "stream",
     "text": [
      "Epoch 123: 100%|██████████| 350/350 [00:03<00:00, 107.71it/s, loss=0.444, acc=90.5]\n"
     ]
    },
    {
     "name": "stdout",
     "output_type": "stream",
     "text": [
      "Epoch 123: Train Loss=0.3115, Train Acc=90.46%, Test Acc=84.07%, Test F1=0.8389\n"
     ]
    },
    {
     "name": "stderr",
     "output_type": "stream",
     "text": [
      "Epoch 124: 100%|██████████| 350/350 [00:03<00:00, 104.87it/s, loss=0.179, acc=90.7]\n"
     ]
    },
    {
     "name": "stdout",
     "output_type": "stream",
     "text": [
      "Epoch 124: Train Loss=0.3145, Train Acc=90.73%, Test Acc=85.00%, Test F1=0.8489\n"
     ]
    },
    {
     "name": "stderr",
     "output_type": "stream",
     "text": [
      "Epoch 125: 100%|██████████| 350/350 [00:03<00:00, 105.73it/s, loss=1.62, acc=90.3]\n"
     ]
    },
    {
     "name": "stdout",
     "output_type": "stream",
     "text": [
      "Epoch 125: Train Loss=0.3226, Train Acc=90.29%, Test Acc=85.07%, Test F1=0.8489\n"
     ]
    },
    {
     "name": "stderr",
     "output_type": "stream",
     "text": [
      "Epoch 126: 100%|██████████| 350/350 [00:03<00:00, 107.13it/s, loss=0.073, acc=89.6]\n"
     ]
    },
    {
     "name": "stdout",
     "output_type": "stream",
     "text": [
      "Epoch 126: Train Loss=0.3299, Train Acc=89.62%, Test Acc=83.93%, Test F1=0.8374\n"
     ]
    },
    {
     "name": "stderr",
     "output_type": "stream",
     "text": [
      "Epoch 127: 100%|██████████| 350/350 [00:03<00:00, 97.47it/s, loss=0.598, acc=90.2] \n"
     ]
    },
    {
     "name": "stdout",
     "output_type": "stream",
     "text": [
      "Epoch 127: Train Loss=0.3187, Train Acc=90.20%, Test Acc=83.71%, Test F1=0.8349\n"
     ]
    },
    {
     "name": "stderr",
     "output_type": "stream",
     "text": [
      "Epoch 128: 100%|██████████| 350/350 [00:03<00:00, 92.75it/s, loss=0.75, acc=90.1]\n"
     ]
    },
    {
     "name": "stdout",
     "output_type": "stream",
     "text": [
      "Epoch 128: Train Loss=0.3314, Train Acc=90.05%, Test Acc=84.07%, Test F1=0.8395\n"
     ]
    },
    {
     "name": "stderr",
     "output_type": "stream",
     "text": [
      "Epoch 129: 100%|██████████| 350/350 [00:03<00:00, 101.05it/s, loss=0.578, acc=90.9]\n"
     ]
    },
    {
     "name": "stdout",
     "output_type": "stream",
     "text": [
      "Epoch 129: Train Loss=0.2979, Train Acc=90.89%, Test Acc=83.50%, Test F1=0.8342\n"
     ]
    },
    {
     "name": "stderr",
     "output_type": "stream",
     "text": [
      "Epoch 130: 100%|██████████| 350/350 [00:03<00:00, 103.89it/s, loss=0.0476, acc=90.8]\n"
     ]
    },
    {
     "name": "stdout",
     "output_type": "stream",
     "text": [
      "Epoch 130: Train Loss=0.3072, Train Acc=90.75%, Test Acc=84.00%, Test F1=0.8380\n"
     ]
    },
    {
     "name": "stderr",
     "output_type": "stream",
     "text": [
      "Epoch 131: 100%|██████████| 350/350 [00:03<00:00, 102.11it/s, loss=0.0264, acc=91.3]\n"
     ]
    },
    {
     "name": "stdout",
     "output_type": "stream",
     "text": [
      "Epoch 131: Train Loss=0.2918, Train Acc=91.30%, Test Acc=84.43%, Test F1=0.8439\n"
     ]
    },
    {
     "name": "stderr",
     "output_type": "stream",
     "text": [
      "Epoch 132: 100%|██████████| 350/350 [00:03<00:00, 101.44it/s, loss=0.279, acc=90.8]\n"
     ]
    },
    {
     "name": "stdout",
     "output_type": "stream",
     "text": [
      "Epoch 132: Train Loss=0.3037, Train Acc=90.84%, Test Acc=85.07%, Test F1=0.8506\n"
     ]
    },
    {
     "name": "stderr",
     "output_type": "stream",
     "text": [
      "Epoch 133: 100%|██████████| 350/350 [00:03<00:00, 99.43it/s, loss=0.287, acc=91.8] \n"
     ]
    },
    {
     "name": "stdout",
     "output_type": "stream",
     "text": [
      "Epoch 133: Train Loss=0.2783, Train Acc=91.75%, Test Acc=85.00%, Test F1=0.8492\n"
     ]
    },
    {
     "name": "stderr",
     "output_type": "stream",
     "text": [
      "Epoch 134: 100%|██████████| 350/350 [00:03<00:00, 100.73it/s, loss=0.204, acc=91.4]\n"
     ]
    },
    {
     "name": "stdout",
     "output_type": "stream",
     "text": [
      "Epoch 134: Train Loss=0.2903, Train Acc=91.36%, Test Acc=85.21%, Test F1=0.8509\n"
     ]
    },
    {
     "name": "stderr",
     "output_type": "stream",
     "text": [
      "Epoch 135: 100%|██████████| 350/350 [00:03<00:00, 101.61it/s, loss=0.376, acc=92]\n"
     ]
    },
    {
     "name": "stdout",
     "output_type": "stream",
     "text": [
      "Epoch 135: Train Loss=0.2736, Train Acc=91.98%, Test Acc=85.21%, Test F1=0.8508\n"
     ]
    },
    {
     "name": "stderr",
     "output_type": "stream",
     "text": [
      "Epoch 136: 100%|██████████| 350/350 [00:03<00:00, 102.75it/s, loss=0.377, acc=91.4]\n"
     ]
    },
    {
     "name": "stdout",
     "output_type": "stream",
     "text": [
      "Epoch 136: Train Loss=0.2789, Train Acc=91.36%, Test Acc=85.50%, Test F1=0.8545\n"
     ]
    },
    {
     "name": "stderr",
     "output_type": "stream",
     "text": [
      "Epoch 137: 100%|██████████| 350/350 [00:03<00:00, 105.86it/s, loss=0.115, acc=91.7]\n"
     ]
    },
    {
     "name": "stdout",
     "output_type": "stream",
     "text": [
      "Epoch 137: Train Loss=0.2738, Train Acc=91.73%, Test Acc=84.71%, Test F1=0.8460\n"
     ]
    },
    {
     "name": "stderr",
     "output_type": "stream",
     "text": [
      "Epoch 138: 100%|██████████| 350/350 [00:03<00:00, 105.14it/s, loss=0.0675, acc=92.5]\n"
     ]
    },
    {
     "name": "stdout",
     "output_type": "stream",
     "text": [
      "Epoch 138: Train Loss=0.2509, Train Acc=92.50%, Test Acc=85.14%, Test F1=0.8506\n"
     ]
    },
    {
     "name": "stderr",
     "output_type": "stream",
     "text": [
      "Epoch 139: 100%|██████████| 350/350 [00:03<00:00, 102.43it/s, loss=0.0552, acc=91.8]\n"
     ]
    },
    {
     "name": "stdout",
     "output_type": "stream",
     "text": [
      "Epoch 139: Train Loss=0.2963, Train Acc=91.82%, Test Acc=84.43%, Test F1=0.8425\n"
     ]
    },
    {
     "name": "stderr",
     "output_type": "stream",
     "text": [
      "Epoch 140: 100%|██████████| 350/350 [00:03<00:00, 103.22it/s, loss=0.353, acc=91.8]\n"
     ]
    },
    {
     "name": "stdout",
     "output_type": "stream",
     "text": [
      "Epoch 140: Train Loss=0.2783, Train Acc=91.79%, Test Acc=85.36%, Test F1=0.8523\n"
     ]
    },
    {
     "name": "stderr",
     "output_type": "stream",
     "text": [
      "Epoch 141: 100%|██████████| 350/350 [00:03<00:00, 104.46it/s, loss=0.0602, acc=91.8]\n"
     ]
    },
    {
     "name": "stdout",
     "output_type": "stream",
     "text": [
      "Epoch 141: Train Loss=0.2741, Train Acc=91.79%, Test Acc=85.07%, Test F1=0.8497\n"
     ]
    },
    {
     "name": "stderr",
     "output_type": "stream",
     "text": [
      "Epoch 142: 100%|██████████| 350/350 [00:03<00:00, 101.15it/s, loss=0.526, acc=92.4]\n"
     ]
    },
    {
     "name": "stdout",
     "output_type": "stream",
     "text": [
      "Epoch 142: Train Loss=0.2517, Train Acc=92.38%, Test Acc=85.07%, Test F1=0.8493\n"
     ]
    },
    {
     "name": "stderr",
     "output_type": "stream",
     "text": [
      "Epoch 143: 100%|██████████| 350/350 [00:03<00:00, 100.74it/s, loss=0.0598, acc=91.7]\n"
     ]
    },
    {
     "name": "stdout",
     "output_type": "stream",
     "text": [
      "Epoch 143: Train Loss=0.2903, Train Acc=91.66%, Test Acc=85.57%, Test F1=0.8545\n"
     ]
    },
    {
     "name": "stderr",
     "output_type": "stream",
     "text": [
      "Epoch 144: 100%|██████████| 350/350 [00:03<00:00, 98.55it/s, loss=0.314, acc=91.7]\n"
     ]
    },
    {
     "name": "stdout",
     "output_type": "stream",
     "text": [
      "Epoch 144: Train Loss=0.2859, Train Acc=91.71%, Test Acc=84.50%, Test F1=0.8436\n"
     ]
    },
    {
     "name": "stderr",
     "output_type": "stream",
     "text": [
      "Epoch 145: 100%|██████████| 350/350 [00:03<00:00, 91.51it/s, loss=0.116, acc=92.4]\n"
     ]
    },
    {
     "name": "stdout",
     "output_type": "stream",
     "text": [
      "Epoch 145: Train Loss=0.2565, Train Acc=92.45%, Test Acc=84.86%, Test F1=0.8470\n"
     ]
    },
    {
     "name": "stderr",
     "output_type": "stream",
     "text": [
      "Epoch 146: 100%|██████████| 350/350 [00:03<00:00, 89.95it/s, loss=0.372, acc=91.4] \n"
     ]
    },
    {
     "name": "stdout",
     "output_type": "stream",
     "text": [
      "Epoch 146: Train Loss=0.2978, Train Acc=91.41%, Test Acc=84.86%, Test F1=0.8471\n"
     ]
    },
    {
     "name": "stderr",
     "output_type": "stream",
     "text": [
      "Epoch 147: 100%|██████████| 350/350 [00:03<00:00, 102.19it/s, loss=0.0163, acc=92.1]\n"
     ]
    },
    {
     "name": "stdout",
     "output_type": "stream",
     "text": [
      "Epoch 147: Train Loss=0.2608, Train Acc=92.09%, Test Acc=85.57%, Test F1=0.8546\n"
     ]
    },
    {
     "name": "stderr",
     "output_type": "stream",
     "text": [
      "Epoch 148: 100%|██████████| 350/350 [00:03<00:00, 102.15it/s, loss=0.0665, acc=91.9]\n"
     ]
    },
    {
     "name": "stdout",
     "output_type": "stream",
     "text": [
      "Epoch 148: Train Loss=0.2817, Train Acc=91.89%, Test Acc=84.29%, Test F1=0.8423\n"
     ]
    },
    {
     "name": "stderr",
     "output_type": "stream",
     "text": [
      "Epoch 149: 100%|██████████| 350/350 [00:03<00:00, 102.80it/s, loss=0.0644, acc=92.3]\n"
     ]
    },
    {
     "name": "stdout",
     "output_type": "stream",
     "text": [
      "Epoch 149: Train Loss=0.2583, Train Acc=92.29%, Test Acc=85.00%, Test F1=0.8482\n"
     ]
    },
    {
     "name": "stderr",
     "output_type": "stream",
     "text": [
      "Epoch 150: 100%|██████████| 350/350 [00:03<00:00, 101.90it/s, loss=0.197, acc=92]\n"
     ]
    },
    {
     "name": "stdout",
     "output_type": "stream",
     "text": [
      "Epoch 150: Train Loss=0.2841, Train Acc=91.96%, Test Acc=85.14%, Test F1=0.8502\n"
     ]
    },
    {
     "name": "stderr",
     "output_type": "stream",
     "text": [
      "Epoch 151: 100%|██████████| 350/350 [00:03<00:00, 103.32it/s, loss=0.00786, acc=92.1]\n"
     ]
    },
    {
     "name": "stdout",
     "output_type": "stream",
     "text": [
      "Epoch 151: Train Loss=0.2655, Train Acc=92.12%, Test Acc=85.07%, Test F1=0.8500\n"
     ]
    },
    {
     "name": "stderr",
     "output_type": "stream",
     "text": [
      "Epoch 152: 100%|██████████| 350/350 [00:03<00:00, 103.42it/s, loss=0.101, acc=92]\n"
     ]
    },
    {
     "name": "stdout",
     "output_type": "stream",
     "text": [
      "Epoch 152: Train Loss=0.2698, Train Acc=91.96%, Test Acc=84.21%, Test F1=0.8415\n"
     ]
    },
    {
     "name": "stderr",
     "output_type": "stream",
     "text": [
      "Epoch 153: 100%|██████████| 350/350 [00:03<00:00, 103.46it/s, loss=0.405, acc=92.8]\n"
     ]
    },
    {
     "name": "stdout",
     "output_type": "stream",
     "text": [
      "Epoch 153: Train Loss=0.2432, Train Acc=92.77%, Test Acc=83.86%, Test F1=0.8365\n"
     ]
    },
    {
     "name": "stderr",
     "output_type": "stream",
     "text": [
      "Epoch 154: 100%|██████████| 350/350 [00:03<00:00, 104.23it/s, loss=1.24, acc=91.7]\n"
     ]
    },
    {
     "name": "stdout",
     "output_type": "stream",
     "text": [
      "Epoch 154: Train Loss=0.2805, Train Acc=91.70%, Test Acc=84.71%, Test F1=0.8460\n"
     ]
    },
    {
     "name": "stderr",
     "output_type": "stream",
     "text": [
      "Epoch 155: 100%|██████████| 350/350 [00:03<00:00, 102.64it/s, loss=0.255, acc=91.6]\n"
     ]
    },
    {
     "name": "stdout",
     "output_type": "stream",
     "text": [
      "Epoch 155: Train Loss=0.2915, Train Acc=91.64%, Test Acc=85.64%, Test F1=0.8555\n"
     ]
    },
    {
     "name": "stderr",
     "output_type": "stream",
     "text": [
      "Epoch 156: 100%|██████████| 350/350 [00:03<00:00, 102.73it/s, loss=0.126, acc=93]\n"
     ]
    },
    {
     "name": "stdout",
     "output_type": "stream",
     "text": [
      "Epoch 156: Train Loss=0.2346, Train Acc=93.04%, Test Acc=84.71%, Test F1=0.8458\n"
     ]
    },
    {
     "name": "stderr",
     "output_type": "stream",
     "text": [
      "Epoch 157: 100%|██████████| 350/350 [00:03<00:00, 102.35it/s, loss=0.181, acc=92.7]\n"
     ]
    },
    {
     "name": "stdout",
     "output_type": "stream",
     "text": [
      "Epoch 157: Train Loss=0.2662, Train Acc=92.66%, Test Acc=85.36%, Test F1=0.8522\n"
     ]
    },
    {
     "name": "stderr",
     "output_type": "stream",
     "text": [
      "Epoch 158: 100%|██████████| 350/350 [00:03<00:00, 102.70it/s, loss=0.206, acc=92.3]\n"
     ]
    },
    {
     "name": "stdout",
     "output_type": "stream",
     "text": [
      "Epoch 158: Train Loss=0.2527, Train Acc=92.29%, Test Acc=85.43%, Test F1=0.8532\n"
     ]
    },
    {
     "name": "stderr",
     "output_type": "stream",
     "text": [
      "Epoch 159: 100%|██████████| 350/350 [00:03<00:00, 101.96it/s, loss=0.316, acc=91.9]\n"
     ]
    },
    {
     "name": "stdout",
     "output_type": "stream",
     "text": [
      "Epoch 159: Train Loss=0.2891, Train Acc=91.86%, Test Acc=85.29%, Test F1=0.8511\n"
     ]
    },
    {
     "name": "stderr",
     "output_type": "stream",
     "text": [
      "Epoch 160: 100%|██████████| 350/350 [00:03<00:00, 102.95it/s, loss=0.506, acc=92.3]\n"
     ]
    },
    {
     "name": "stdout",
     "output_type": "stream",
     "text": [
      "Epoch 160: Train Loss=0.2685, Train Acc=92.32%, Test Acc=85.93%, Test F1=0.8584\n"
     ]
    },
    {
     "name": "stderr",
     "output_type": "stream",
     "text": [
      "Epoch 161: 100%|██████████| 350/350 [00:03<00:00, 104.23it/s, loss=0.303, acc=92.4]\n"
     ]
    },
    {
     "name": "stdout",
     "output_type": "stream",
     "text": [
      "Epoch 161: Train Loss=0.2706, Train Acc=92.45%, Test Acc=85.86%, Test F1=0.8572\n"
     ]
    },
    {
     "name": "stderr",
     "output_type": "stream",
     "text": [
      "Epoch 162: 100%|██████████| 350/350 [00:03<00:00, 93.65it/s, loss=0.0754, acc=92.8]\n"
     ]
    },
    {
     "name": "stdout",
     "output_type": "stream",
     "text": [
      "Epoch 162: Train Loss=0.2402, Train Acc=92.75%, Test Acc=84.79%, Test F1=0.8469\n"
     ]
    },
    {
     "name": "stderr",
     "output_type": "stream",
     "text": [
      "Epoch 163: 100%|██████████| 350/350 [00:03<00:00, 88.50it/s, loss=0.245, acc=92.6]\n"
     ]
    },
    {
     "name": "stdout",
     "output_type": "stream",
     "text": [
      "Epoch 163: Train Loss=0.2561, Train Acc=92.61%, Test Acc=85.79%, Test F1=0.8570\n"
     ]
    },
    {
     "name": "stderr",
     "output_type": "stream",
     "text": [
      "Epoch 164: 100%|██████████| 350/350 [00:03<00:00, 96.04it/s, loss=0.0936, acc=92.7] \n"
     ]
    },
    {
     "name": "stdout",
     "output_type": "stream",
     "text": [
      "Epoch 164: Train Loss=0.2483, Train Acc=92.66%, Test Acc=85.07%, Test F1=0.8493\n"
     ]
    },
    {
     "name": "stderr",
     "output_type": "stream",
     "text": [
      "Epoch 165: 100%|██████████| 350/350 [00:03<00:00, 101.65it/s, loss=0.115, acc=92.5]\n"
     ]
    },
    {
     "name": "stdout",
     "output_type": "stream",
     "text": [
      "Epoch 165: Train Loss=0.2524, Train Acc=92.52%, Test Acc=84.64%, Test F1=0.8454\n"
     ]
    },
    {
     "name": "stderr",
     "output_type": "stream",
     "text": [
      "Epoch 166: 100%|██████████| 350/350 [00:03<00:00, 100.99it/s, loss=0.0157, acc=92.8]\n"
     ]
    },
    {
     "name": "stdout",
     "output_type": "stream",
     "text": [
      "Epoch 166: Train Loss=0.2492, Train Acc=92.79%, Test Acc=85.57%, Test F1=0.8548\n"
     ]
    },
    {
     "name": "stderr",
     "output_type": "stream",
     "text": [
      "Epoch 167: 100%|██████████| 350/350 [00:03<00:00, 103.57it/s, loss=0.0285, acc=92.6]\n"
     ]
    },
    {
     "name": "stdout",
     "output_type": "stream",
     "text": [
      "Epoch 167: Train Loss=0.2418, Train Acc=92.64%, Test Acc=85.57%, Test F1=0.8548\n"
     ]
    },
    {
     "name": "stderr",
     "output_type": "stream",
     "text": [
      "Epoch 168: 100%|██████████| 350/350 [00:03<00:00, 103.77it/s, loss=0.163, acc=92.6]\n"
     ]
    },
    {
     "name": "stdout",
     "output_type": "stream",
     "text": [
      "Epoch 168: Train Loss=0.2579, Train Acc=92.59%, Test Acc=85.29%, Test F1=0.8519\n"
     ]
    },
    {
     "name": "stderr",
     "output_type": "stream",
     "text": [
      "Epoch 169: 100%|██████████| 350/350 [00:03<00:00, 101.24it/s, loss=0.0402, acc=92.9]\n"
     ]
    },
    {
     "name": "stdout",
     "output_type": "stream",
     "text": [
      "Epoch 169: Train Loss=0.2455, Train Acc=92.89%, Test Acc=85.00%, Test F1=0.8484\n"
     ]
    },
    {
     "name": "stderr",
     "output_type": "stream",
     "text": [
      "Epoch 170: 100%|██████████| 350/350 [00:03<00:00, 103.85it/s, loss=0.135, acc=92.8]\n"
     ]
    },
    {
     "name": "stdout",
     "output_type": "stream",
     "text": [
      "Epoch 170: Train Loss=0.2616, Train Acc=92.80%, Test Acc=85.79%, Test F1=0.8570\n"
     ]
    },
    {
     "name": "stderr",
     "output_type": "stream",
     "text": [
      "Epoch 171: 100%|██████████| 350/350 [00:03<00:00, 101.46it/s, loss=0.0651, acc=93]\n"
     ]
    },
    {
     "name": "stdout",
     "output_type": "stream",
     "text": [
      "Epoch 171: Train Loss=0.2410, Train Acc=92.96%, Test Acc=85.43%, Test F1=0.8531\n"
     ]
    },
    {
     "name": "stderr",
     "output_type": "stream",
     "text": [
      "Epoch 172: 100%|██████████| 350/350 [00:03<00:00, 102.64it/s, loss=0.319, acc=92.9]\n"
     ]
    },
    {
     "name": "stdout",
     "output_type": "stream",
     "text": [
      "Epoch 172: Train Loss=0.2394, Train Acc=92.95%, Test Acc=85.14%, Test F1=0.8499\n"
     ]
    },
    {
     "name": "stderr",
     "output_type": "stream",
     "text": [
      "Epoch 173: 100%|██████████| 350/350 [00:03<00:00, 103.12it/s, loss=0.0939, acc=93.1]\n"
     ]
    },
    {
     "name": "stdout",
     "output_type": "stream",
     "text": [
      "Epoch 173: Train Loss=0.2336, Train Acc=93.14%, Test Acc=84.79%, Test F1=0.8461\n"
     ]
    },
    {
     "name": "stderr",
     "output_type": "stream",
     "text": [
      "Epoch 174: 100%|██████████| 350/350 [00:03<00:00, 102.14it/s, loss=0.533, acc=92.3]\n"
     ]
    },
    {
     "name": "stdout",
     "output_type": "stream",
     "text": [
      "Epoch 174: Train Loss=0.2708, Train Acc=92.32%, Test Acc=85.64%, Test F1=0.8556\n"
     ]
    },
    {
     "name": "stderr",
     "output_type": "stream",
     "text": [
      "Epoch 175: 100%|██████████| 350/350 [00:03<00:00, 102.33it/s, loss=0.0138, acc=92.4]\n"
     ]
    },
    {
     "name": "stdout",
     "output_type": "stream",
     "text": [
      "Epoch 175: Train Loss=0.2703, Train Acc=92.36%, Test Acc=85.43%, Test F1=0.8532\n"
     ]
    },
    {
     "name": "stderr",
     "output_type": "stream",
     "text": [
      "Epoch 176: 100%|██████████| 350/350 [00:03<00:00, 102.94it/s, loss=0.118, acc=92.5]\n"
     ]
    },
    {
     "name": "stdout",
     "output_type": "stream",
     "text": [
      "Epoch 176: Train Loss=0.2560, Train Acc=92.52%, Test Acc=85.43%, Test F1=0.8531\n"
     ]
    },
    {
     "name": "stderr",
     "output_type": "stream",
     "text": [
      "Epoch 177: 100%|██████████| 350/350 [00:03<00:00, 100.09it/s, loss=0.021, acc=92.4]\n"
     ]
    },
    {
     "name": "stdout",
     "output_type": "stream",
     "text": [
      "Epoch 177: Train Loss=0.2774, Train Acc=92.43%, Test Acc=85.43%, Test F1=0.8521\n"
     ]
    },
    {
     "name": "stderr",
     "output_type": "stream",
     "text": [
      "Epoch 178: 100%|██████████| 350/350 [00:03<00:00, 100.82it/s, loss=0.135, acc=92.7]\n"
     ]
    },
    {
     "name": "stdout",
     "output_type": "stream",
     "text": [
      "Epoch 178: Train Loss=0.2595, Train Acc=92.73%, Test Acc=85.14%, Test F1=0.8498\n"
     ]
    },
    {
     "name": "stderr",
     "output_type": "stream",
     "text": [
      "Epoch 179: 100%|██████████| 350/350 [00:03<00:00, 102.39it/s, loss=0.256, acc=92.9]\n"
     ]
    },
    {
     "name": "stdout",
     "output_type": "stream",
     "text": [
      "Epoch 179: Train Loss=0.2567, Train Acc=92.93%, Test Acc=84.93%, Test F1=0.8486\n"
     ]
    },
    {
     "name": "stderr",
     "output_type": "stream",
     "text": [
      "Epoch 180: 100%|██████████| 350/350 [00:03<00:00, 90.04it/s, loss=1.55, acc=93]\n"
     ]
    },
    {
     "name": "stdout",
     "output_type": "stream",
     "text": [
      "Epoch 180: Train Loss=0.2325, Train Acc=93.02%, Test Acc=85.86%, Test F1=0.8584\n"
     ]
    },
    {
     "name": "stderr",
     "output_type": "stream",
     "text": [
      "Epoch 181: 100%|██████████| 350/350 [00:03<00:00, 92.73it/s, loss=0.255, acc=92.6]\n"
     ]
    },
    {
     "name": "stdout",
     "output_type": "stream",
     "text": [
      "Epoch 181: Train Loss=0.2499, Train Acc=92.62%, Test Acc=85.57%, Test F1=0.8545\n"
     ]
    },
    {
     "name": "stderr",
     "output_type": "stream",
     "text": [
      "Epoch 182: 100%|██████████| 350/350 [00:03<00:00, 100.52it/s, loss=0.0308, acc=92.6]\n"
     ]
    },
    {
     "name": "stdout",
     "output_type": "stream",
     "text": [
      "Epoch 182: Train Loss=0.2454, Train Acc=92.57%, Test Acc=85.43%, Test F1=0.8525\n"
     ]
    },
    {
     "name": "stderr",
     "output_type": "stream",
     "text": [
      "Epoch 183: 100%|██████████| 350/350 [00:03<00:00, 106.41it/s, loss=0.338, acc=92.6]\n"
     ]
    },
    {
     "name": "stdout",
     "output_type": "stream",
     "text": [
      "Epoch 183: Train Loss=0.2454, Train Acc=92.64%, Test Acc=85.79%, Test F1=0.8562\n"
     ]
    },
    {
     "name": "stderr",
     "output_type": "stream",
     "text": [
      "Epoch 184: 100%|██████████| 350/350 [00:03<00:00, 105.10it/s, loss=0.213, acc=93.2]\n"
     ]
    },
    {
     "name": "stdout",
     "output_type": "stream",
     "text": [
      "Epoch 184: Train Loss=0.2315, Train Acc=93.20%, Test Acc=85.21%, Test F1=0.8509\n"
     ]
    },
    {
     "name": "stderr",
     "output_type": "stream",
     "text": [
      "Epoch 185: 100%|██████████| 350/350 [00:03<00:00, 105.12it/s, loss=0.214, acc=92.9]\n"
     ]
    },
    {
     "name": "stdout",
     "output_type": "stream",
     "text": [
      "Epoch 185: Train Loss=0.2590, Train Acc=92.88%, Test Acc=86.00%, Test F1=0.8590\n"
     ]
    },
    {
     "name": "stderr",
     "output_type": "stream",
     "text": [
      "Epoch 186: 100%|██████████| 350/350 [00:03<00:00, 105.66it/s, loss=0.0152, acc=93.1]\n"
     ]
    },
    {
     "name": "stdout",
     "output_type": "stream",
     "text": [
      "Epoch 186: Train Loss=0.2406, Train Acc=93.14%, Test Acc=85.36%, Test F1=0.8525\n"
     ]
    },
    {
     "name": "stderr",
     "output_type": "stream",
     "text": [
      "Epoch 187: 100%|██████████| 350/350 [00:03<00:00, 105.07it/s, loss=0.375, acc=93.2]\n"
     ]
    },
    {
     "name": "stdout",
     "output_type": "stream",
     "text": [
      "Epoch 187: Train Loss=0.2446, Train Acc=93.25%, Test Acc=85.50%, Test F1=0.8540\n"
     ]
    },
    {
     "name": "stderr",
     "output_type": "stream",
     "text": [
      "Epoch 188: 100%|██████████| 350/350 [00:03<00:00, 106.12it/s, loss=0.0826, acc=93.2]\n"
     ]
    },
    {
     "name": "stdout",
     "output_type": "stream",
     "text": [
      "Epoch 188: Train Loss=0.2500, Train Acc=93.21%, Test Acc=84.93%, Test F1=0.8481\n"
     ]
    },
    {
     "name": "stderr",
     "output_type": "stream",
     "text": [
      "Epoch 189: 100%|██████████| 350/350 [00:03<00:00, 104.99it/s, loss=0.074, acc=93.1]\n"
     ]
    },
    {
     "name": "stdout",
     "output_type": "stream",
     "text": [
      "Epoch 189: Train Loss=0.2343, Train Acc=93.07%, Test Acc=84.29%, Test F1=0.8400\n"
     ]
    },
    {
     "name": "stderr",
     "output_type": "stream",
     "text": [
      "Epoch 190: 100%|██████████| 350/350 [00:03<00:00, 107.36it/s, loss=0.0639, acc=92.8]\n"
     ]
    },
    {
     "name": "stdout",
     "output_type": "stream",
     "text": [
      "Epoch 190: Train Loss=0.2491, Train Acc=92.80%, Test Acc=86.21%, Test F1=0.8615\n"
     ]
    },
    {
     "name": "stderr",
     "output_type": "stream",
     "text": [
      "Epoch 191: 100%|██████████| 350/350 [00:03<00:00, 106.64it/s, loss=0.0963, acc=92.8]\n"
     ]
    },
    {
     "name": "stdout",
     "output_type": "stream",
     "text": [
      "Epoch 191: Train Loss=0.2520, Train Acc=92.77%, Test Acc=85.14%, Test F1=0.8502\n"
     ]
    },
    {
     "name": "stderr",
     "output_type": "stream",
     "text": [
      "Epoch 192: 100%|██████████| 350/350 [00:03<00:00, 105.53it/s, loss=0.0262, acc=93.2]\n"
     ]
    },
    {
     "name": "stdout",
     "output_type": "stream",
     "text": [
      "Epoch 192: Train Loss=0.2388, Train Acc=93.18%, Test Acc=85.00%, Test F1=0.8480\n"
     ]
    },
    {
     "name": "stderr",
     "output_type": "stream",
     "text": [
      "Epoch 193: 100%|██████████| 350/350 [00:03<00:00, 106.04it/s, loss=0.0382, acc=93.4]\n"
     ]
    },
    {
     "name": "stdout",
     "output_type": "stream",
     "text": [
      "Epoch 193: Train Loss=0.2363, Train Acc=93.45%, Test Acc=85.64%, Test F1=0.8551\n"
     ]
    },
    {
     "name": "stderr",
     "output_type": "stream",
     "text": [
      "Epoch 194: 100%|██████████| 350/350 [00:03<00:00, 107.67it/s, loss=0.175, acc=92.8]\n"
     ]
    },
    {
     "name": "stdout",
     "output_type": "stream",
     "text": [
      "Epoch 194: Train Loss=0.2444, Train Acc=92.79%, Test Acc=85.57%, Test F1=0.8550\n"
     ]
    },
    {
     "name": "stderr",
     "output_type": "stream",
     "text": [
      "Epoch 195: 100%|██████████| 350/350 [00:03<00:00, 104.69it/s, loss=0.114, acc=93]\n"
     ]
    },
    {
     "name": "stdout",
     "output_type": "stream",
     "text": [
      "Epoch 195: Train Loss=0.2405, Train Acc=92.96%, Test Acc=85.71%, Test F1=0.8558\n"
     ]
    },
    {
     "name": "stderr",
     "output_type": "stream",
     "text": [
      "Epoch 196: 100%|██████████| 350/350 [00:03<00:00, 105.29it/s, loss=0.084, acc=92.9]\n"
     ]
    },
    {
     "name": "stdout",
     "output_type": "stream",
     "text": [
      "Epoch 196: Train Loss=0.2425, Train Acc=92.91%, Test Acc=85.79%, Test F1=0.8570\n"
     ]
    },
    {
     "name": "stderr",
     "output_type": "stream",
     "text": [
      "Epoch 197: 100%|██████████| 350/350 [00:03<00:00, 106.71it/s, loss=0.839, acc=92.9]\n"
     ]
    },
    {
     "name": "stdout",
     "output_type": "stream",
     "text": [
      "Epoch 197: Train Loss=0.2426, Train Acc=92.88%, Test Acc=85.43%, Test F1=0.8534\n"
     ]
    },
    {
     "name": "stderr",
     "output_type": "stream",
     "text": [
      "Epoch 198: 100%|██████████| 350/350 [00:03<00:00, 95.82it/s, loss=0.129, acc=93.3]\n"
     ]
    },
    {
     "name": "stdout",
     "output_type": "stream",
     "text": [
      "Epoch 198: Train Loss=0.2323, Train Acc=93.29%, Test Acc=85.86%, Test F1=0.8576\n"
     ]
    },
    {
     "name": "stderr",
     "output_type": "stream",
     "text": [
      "Epoch 199: 100%|██████████| 350/350 [00:03<00:00, 91.76it/s, loss=0.0296, acc=93.1]\n"
     ]
    },
    {
     "name": "stdout",
     "output_type": "stream",
     "text": [
      "Epoch 199: Train Loss=0.2370, Train Acc=93.12%, Test Acc=85.07%, Test F1=0.8498\n"
     ]
    },
    {
     "name": "stderr",
     "output_type": "stream",
     "text": [
      "Epoch 200: 100%|██████████| 350/350 [00:03<00:00, 94.13it/s, loss=0.107, acc=92.8] \n"
     ]
    },
    {
     "name": "stdout",
     "output_type": "stream",
     "text": [
      "Epoch 200: Train Loss=0.2457, Train Acc=92.82%, Test Acc=84.93%, Test F1=0.8479\n",
      "\n",
      "Training Summary:\n",
      "  Best Model: Epoch 190, Acc=86.21%, F1=0.8615\n",
      "  Highest: Epoch 190, Acc=86.21%, F1=0.8615\n",
      "Model doesn't have feature gating mechanism\n",
      "\n",
      "Final Results:\n",
      "  Best: Acc=84.93%, F1=0.8479\n",
      "  Highest: Acc=86.21%, F1=0.8615\n",
      "\n",
      "Classification Report:\n",
      "              precision    recall  f1-score   support\n",
      "\n",
      "       ANGRY       0.79      0.75      0.77       200\n",
      "     DISGUST       0.92      0.86      0.89       200\n",
      "        FEAR       0.84      0.92      0.87       200\n",
      "       HAPPY       0.86      0.72      0.78       200\n",
      "     NEUTRAL       0.84      0.86      0.85       200\n",
      "         SAD       0.83      0.90      0.86       200\n",
      "    SURPRISE       0.88      0.93      0.90       200\n",
      "\n",
      "    accuracy                           0.85      1400\n",
      "   macro avg       0.85      0.85      0.85      1400\n",
      "weighted avg       0.85      0.85      0.85      1400\n",
      "\n",
      "\n",
      "============================================================\n",
      "Experiment: MFCC\n",
      "============================================================\n",
      "Features shape: (7000, 80)\n",
      "Architecture: Deep DNN with Feature Gating\n",
      "Split: Train=5600, Test=1400\n",
      "HybridFusion configured: Total=80, MFCC=80, Acoustic=0, Mode=mfcc_only\n",
      "Model parameters: 744,102\n",
      "\n",
      "Training Configuration:\n",
      "  Architecture: HybridFusion\n",
      "  Learning Rate: 0.0005\n",
      "  Batch Size: 16\n",
      "  Description: HybridFusion with spectral stream processing\n"
     ]
    },
    {
     "name": "stderr",
     "output_type": "stream",
     "text": [
      "Epoch 1: 100%|██████████| 350/350 [00:03<00:00, 105.28it/s, loss=2.45, acc=16.3]\n"
     ]
    },
    {
     "name": "stdout",
     "output_type": "stream",
     "text": [
      "Epoch 1: Train Loss=2.3652, Train Acc=16.30%, Test Acc=32.86%, Test F1=0.2775\n"
     ]
    },
    {
     "name": "stderr",
     "output_type": "stream",
     "text": [
      "Epoch 2: 100%|██████████| 350/350 [00:03<00:00, 104.01it/s, loss=1.78, acc=24.6]\n"
     ]
    },
    {
     "name": "stdout",
     "output_type": "stream",
     "text": [
      "Epoch 2: Train Loss=1.9311, Train Acc=24.57%, Test Acc=38.93%, Test F1=0.3534\n"
     ]
    },
    {
     "name": "stderr",
     "output_type": "stream",
     "text": [
      "Epoch 3: 100%|██████████| 350/350 [00:03<00:00, 105.74it/s, loss=1.42, acc=31.6]\n"
     ]
    },
    {
     "name": "stdout",
     "output_type": "stream",
     "text": [
      "Epoch 3: Train Loss=1.6882, Train Acc=31.64%, Test Acc=47.57%, Test F1=0.4424\n"
     ]
    },
    {
     "name": "stderr",
     "output_type": "stream",
     "text": [
      "Epoch 4: 100%|██████████| 350/350 [00:03<00:00, 104.02it/s, loss=1.61, acc=40]\n"
     ]
    },
    {
     "name": "stdout",
     "output_type": "stream",
     "text": [
      "Epoch 4: Train Loss=1.4975, Train Acc=39.96%, Test Acc=53.79%, Test F1=0.4948\n"
     ]
    },
    {
     "name": "stderr",
     "output_type": "stream",
     "text": [
      "Epoch 5: 100%|██████████| 350/350 [00:03<00:00, 102.86it/s, loss=1.24, acc=46]\n"
     ]
    },
    {
     "name": "stdout",
     "output_type": "stream",
     "text": [
      "Epoch 5: Train Loss=1.3722, Train Acc=45.98%, Test Acc=56.86%, Test F1=0.5402\n"
     ]
    },
    {
     "name": "stderr",
     "output_type": "stream",
     "text": [
      "Epoch 6: 100%|██████████| 350/350 [00:03<00:00, 103.85it/s, loss=1.06, acc=50.1]\n"
     ]
    },
    {
     "name": "stdout",
     "output_type": "stream",
     "text": [
      "Epoch 6: Train Loss=1.2846, Train Acc=50.14%, Test Acc=59.21%, Test F1=0.5648\n"
     ]
    },
    {
     "name": "stderr",
     "output_type": "stream",
     "text": [
      "Epoch 7: 100%|██████████| 350/350 [00:03<00:00, 105.48it/s, loss=1.51, acc=53.4]\n"
     ]
    },
    {
     "name": "stdout",
     "output_type": "stream",
     "text": [
      "Epoch 7: Train Loss=1.2215, Train Acc=53.36%, Test Acc=62.93%, Test F1=0.6077\n"
     ]
    },
    {
     "name": "stderr",
     "output_type": "stream",
     "text": [
      "Epoch 8: 100%|██████████| 350/350 [00:03<00:00, 103.63it/s, loss=1.1, acc=55.7]\n"
     ]
    },
    {
     "name": "stdout",
     "output_type": "stream",
     "text": [
      "Epoch 8: Train Loss=1.1574, Train Acc=55.73%, Test Acc=64.93%, Test F1=0.6245\n"
     ]
    },
    {
     "name": "stderr",
     "output_type": "stream",
     "text": [
      "Epoch 9: 100%|██████████| 350/350 [00:03<00:00, 104.08it/s, loss=0.942, acc=58.1]\n"
     ]
    },
    {
     "name": "stdout",
     "output_type": "stream",
     "text": [
      "Epoch 9: Train Loss=1.1169, Train Acc=58.11%, Test Acc=65.86%, Test F1=0.6336\n"
     ]
    },
    {
     "name": "stderr",
     "output_type": "stream",
     "text": [
      "Epoch 10: 100%|██████████| 350/350 [00:03<00:00, 102.98it/s, loss=0.995, acc=59.6]\n"
     ]
    },
    {
     "name": "stdout",
     "output_type": "stream",
     "text": [
      "Epoch 10: Train Loss=1.0955, Train Acc=59.64%, Test Acc=67.71%, Test F1=0.6447\n"
     ]
    },
    {
     "name": "stderr",
     "output_type": "stream",
     "text": [
      "Epoch 11: 100%|██████████| 350/350 [00:03<00:00, 103.32it/s, loss=0.998, acc=61.9]\n"
     ]
    },
    {
     "name": "stdout",
     "output_type": "stream",
     "text": [
      "Epoch 11: Train Loss=1.0504, Train Acc=61.93%, Test Acc=69.29%, Test F1=0.6738\n"
     ]
    },
    {
     "name": "stderr",
     "output_type": "stream",
     "text": [
      "Epoch 12: 100%|██████████| 350/350 [00:03<00:00, 104.38it/s, loss=1.24, acc=62.9]\n"
     ]
    },
    {
     "name": "stdout",
     "output_type": "stream",
     "text": [
      "Epoch 12: Train Loss=1.0173, Train Acc=62.88%, Test Acc=70.93%, Test F1=0.6866\n"
     ]
    },
    {
     "name": "stderr",
     "output_type": "stream",
     "text": [
      "Epoch 13: 100%|██████████| 350/350 [00:03<00:00, 101.35it/s, loss=0.925, acc=64.4]\n"
     ]
    },
    {
     "name": "stdout",
     "output_type": "stream",
     "text": [
      "Epoch 13: Train Loss=0.9828, Train Acc=64.39%, Test Acc=71.29%, Test F1=0.6946\n"
     ]
    },
    {
     "name": "stderr",
     "output_type": "stream",
     "text": [
      "Epoch 14: 100%|██████████| 350/350 [00:03<00:00, 103.44it/s, loss=0.876, acc=65.3]\n"
     ]
    },
    {
     "name": "stdout",
     "output_type": "stream",
     "text": [
      "Epoch 14: Train Loss=0.9726, Train Acc=65.27%, Test Acc=73.93%, Test F1=0.7225\n"
     ]
    },
    {
     "name": "stderr",
     "output_type": "stream",
     "text": [
      "Epoch 15: 100%|██████████| 350/350 [00:03<00:00, 103.75it/s, loss=0.762, acc=66.7]\n"
     ]
    },
    {
     "name": "stdout",
     "output_type": "stream",
     "text": [
      "Epoch 15: Train Loss=0.9377, Train Acc=66.68%, Test Acc=74.57%, Test F1=0.7382\n"
     ]
    },
    {
     "name": "stderr",
     "output_type": "stream",
     "text": [
      "Epoch 16: 100%|██████████| 350/350 [00:03<00:00, 91.80it/s, loss=0.797, acc=66.4]\n"
     ]
    },
    {
     "name": "stdout",
     "output_type": "stream",
     "text": [
      "Epoch 16: Train Loss=0.9102, Train Acc=66.36%, Test Acc=73.86%, Test F1=0.7260\n"
     ]
    },
    {
     "name": "stderr",
     "output_type": "stream",
     "text": [
      "Epoch 17: 100%|██████████| 350/350 [00:03<00:00, 88.57it/s, loss=0.877, acc=69.4]\n"
     ]
    },
    {
     "name": "stdout",
     "output_type": "stream",
     "text": [
      "Epoch 17: Train Loss=0.8670, Train Acc=69.38%, Test Acc=76.00%, Test F1=0.7499\n"
     ]
    },
    {
     "name": "stderr",
     "output_type": "stream",
     "text": [
      "Epoch 18: 100%|██████████| 350/350 [00:03<00:00, 91.19it/s, loss=0.483, acc=68.7] \n"
     ]
    },
    {
     "name": "stdout",
     "output_type": "stream",
     "text": [
      "Epoch 18: Train Loss=0.8890, Train Acc=68.73%, Test Acc=76.29%, Test F1=0.7574\n"
     ]
    },
    {
     "name": "stderr",
     "output_type": "stream",
     "text": [
      "Epoch 19: 100%|██████████| 350/350 [00:03<00:00, 99.47it/s, loss=0.876, acc=70.5] \n"
     ]
    },
    {
     "name": "stdout",
     "output_type": "stream",
     "text": [
      "Epoch 19: Train Loss=0.8400, Train Acc=70.48%, Test Acc=77.00%, Test F1=0.7641\n"
     ]
    },
    {
     "name": "stderr",
     "output_type": "stream",
     "text": [
      "Epoch 20: 100%|██████████| 350/350 [00:03<00:00, 95.73it/s, loss=0.46, acc=70.6] \n"
     ]
    },
    {
     "name": "stdout",
     "output_type": "stream",
     "text": [
      "Epoch 20: Train Loss=0.8252, Train Acc=70.59%, Test Acc=76.21%, Test F1=0.7573\n"
     ]
    },
    {
     "name": "stderr",
     "output_type": "stream",
     "text": [
      "Epoch 21: 100%|██████████| 350/350 [00:03<00:00, 99.30it/s, loss=0.805, acc=70.9] \n"
     ]
    },
    {
     "name": "stdout",
     "output_type": "stream",
     "text": [
      "Epoch 21: Train Loss=0.8322, Train Acc=70.91%, Test Acc=78.29%, Test F1=0.7788\n"
     ]
    },
    {
     "name": "stderr",
     "output_type": "stream",
     "text": [
      "Epoch 22: 100%|██████████| 350/350 [00:03<00:00, 98.76it/s, loss=0.587, acc=72.4] \n"
     ]
    },
    {
     "name": "stdout",
     "output_type": "stream",
     "text": [
      "Epoch 22: Train Loss=0.7957, Train Acc=72.45%, Test Acc=78.07%, Test F1=0.7751\n"
     ]
    },
    {
     "name": "stderr",
     "output_type": "stream",
     "text": [
      "Epoch 23: 100%|██████████| 350/350 [00:03<00:00, 98.13it/s, loss=0.859, acc=74.5] \n"
     ]
    },
    {
     "name": "stdout",
     "output_type": "stream",
     "text": [
      "Epoch 23: Train Loss=0.7646, Train Acc=74.54%, Test Acc=78.21%, Test F1=0.7773\n"
     ]
    },
    {
     "name": "stderr",
     "output_type": "stream",
     "text": [
      "Epoch 24: 100%|██████████| 350/350 [00:03<00:00, 100.45it/s, loss=1.06, acc=73.5]\n"
     ]
    },
    {
     "name": "stdout",
     "output_type": "stream",
     "text": [
      "Epoch 24: Train Loss=0.7727, Train Acc=73.46%, Test Acc=79.93%, Test F1=0.7962\n"
     ]
    },
    {
     "name": "stderr",
     "output_type": "stream",
     "text": [
      "Epoch 25: 100%|██████████| 350/350 [00:03<00:00, 100.29it/s, loss=0.221, acc=74.7]\n"
     ]
    },
    {
     "name": "stdout",
     "output_type": "stream",
     "text": [
      "Epoch 25: Train Loss=0.7351, Train Acc=74.66%, Test Acc=78.93%, Test F1=0.7861\n"
     ]
    },
    {
     "name": "stderr",
     "output_type": "stream",
     "text": [
      "Epoch 26: 100%|██████████| 350/350 [00:03<00:00, 97.79it/s, loss=0.937, acc=75.5] \n"
     ]
    },
    {
     "name": "stdout",
     "output_type": "stream",
     "text": [
      "Epoch 26: Train Loss=0.7277, Train Acc=75.48%, Test Acc=79.93%, Test F1=0.7958\n"
     ]
    },
    {
     "name": "stderr",
     "output_type": "stream",
     "text": [
      "Epoch 27: 100%|██████████| 350/350 [00:03<00:00, 97.64it/s, loss=0.95, acc=76.7] \n"
     ]
    },
    {
     "name": "stdout",
     "output_type": "stream",
     "text": [
      "Epoch 27: Train Loss=0.6992, Train Acc=76.66%, Test Acc=79.14%, Test F1=0.7871\n"
     ]
    },
    {
     "name": "stderr",
     "output_type": "stream",
     "text": [
      "Epoch 28: 100%|██████████| 350/350 [00:03<00:00, 98.49it/s, loss=0.841, acc=77.1] \n"
     ]
    },
    {
     "name": "stdout",
     "output_type": "stream",
     "text": [
      "Epoch 28: Train Loss=0.6977, Train Acc=77.05%, Test Acc=80.43%, Test F1=0.8018\n"
     ]
    },
    {
     "name": "stderr",
     "output_type": "stream",
     "text": [
      "Epoch 29: 100%|██████████| 350/350 [00:03<00:00, 99.15it/s, loss=0.285, acc=76.8] \n"
     ]
    },
    {
     "name": "stdout",
     "output_type": "stream",
     "text": [
      "Epoch 29: Train Loss=0.6845, Train Acc=76.82%, Test Acc=82.14%, Test F1=0.8196\n"
     ]
    },
    {
     "name": "stderr",
     "output_type": "stream",
     "text": [
      "Epoch 30: 100%|██████████| 350/350 [00:03<00:00, 98.49it/s, loss=0.278, acc=77.5]\n"
     ]
    },
    {
     "name": "stdout",
     "output_type": "stream",
     "text": [
      "Epoch 30: Train Loss=0.6619, Train Acc=77.48%, Test Acc=79.29%, Test F1=0.7905\n"
     ]
    },
    {
     "name": "stderr",
     "output_type": "stream",
     "text": [
      "Epoch 31: 100%|██████████| 350/350 [00:03<00:00, 97.66it/s, loss=0.479, acc=78.6] \n"
     ]
    },
    {
     "name": "stdout",
     "output_type": "stream",
     "text": [
      "Epoch 31: Train Loss=0.6376, Train Acc=78.55%, Test Acc=82.43%, Test F1=0.8213\n"
     ]
    },
    {
     "name": "stderr",
     "output_type": "stream",
     "text": [
      "Epoch 32: 100%|██████████| 350/350 [00:03<00:00, 100.36it/s, loss=0.562, acc=79.9]\n"
     ]
    },
    {
     "name": "stdout",
     "output_type": "stream",
     "text": [
      "Epoch 32: Train Loss=0.6354, Train Acc=79.93%, Test Acc=81.14%, Test F1=0.8077\n"
     ]
    },
    {
     "name": "stderr",
     "output_type": "stream",
     "text": [
      "Epoch 33: 100%|██████████| 350/350 [00:03<00:00, 92.80it/s, loss=1.61, acc=79.2]\n"
     ]
    },
    {
     "name": "stdout",
     "output_type": "stream",
     "text": [
      "Epoch 33: Train Loss=0.6422, Train Acc=79.25%, Test Acc=81.64%, Test F1=0.8110\n"
     ]
    },
    {
     "name": "stderr",
     "output_type": "stream",
     "text": [
      "Epoch 34: 100%|██████████| 350/350 [00:04<00:00, 86.75it/s, loss=0.943, acc=79.9]\n"
     ]
    },
    {
     "name": "stdout",
     "output_type": "stream",
     "text": [
      "Epoch 34: Train Loss=0.6100, Train Acc=79.91%, Test Acc=82.36%, Test F1=0.8216\n"
     ]
    },
    {
     "name": "stderr",
     "output_type": "stream",
     "text": [
      "Epoch 35: 100%|██████████| 350/350 [00:04<00:00, 87.45it/s, loss=0.86, acc=80.1]\n"
     ]
    },
    {
     "name": "stdout",
     "output_type": "stream",
     "text": [
      "Epoch 35: Train Loss=0.5890, Train Acc=80.12%, Test Acc=84.14%, Test F1=0.8390\n"
     ]
    },
    {
     "name": "stderr",
     "output_type": "stream",
     "text": [
      "Epoch 36: 100%|██████████| 350/350 [00:03<00:00, 97.80it/s, loss=0.697, acc=80.8] \n"
     ]
    },
    {
     "name": "stdout",
     "output_type": "stream",
     "text": [
      "Epoch 36: Train Loss=0.5800, Train Acc=80.84%, Test Acc=82.71%, Test F1=0.8245\n"
     ]
    },
    {
     "name": "stderr",
     "output_type": "stream",
     "text": [
      "Epoch 37: 100%|██████████| 350/350 [00:03<00:00, 100.02it/s, loss=0.551, acc=80.7]\n"
     ]
    },
    {
     "name": "stdout",
     "output_type": "stream",
     "text": [
      "Epoch 37: Train Loss=0.5832, Train Acc=80.66%, Test Acc=83.00%, Test F1=0.8255\n"
     ]
    },
    {
     "name": "stderr",
     "output_type": "stream",
     "text": [
      "Epoch 38: 100%|██████████| 350/350 [00:03<00:00, 101.26it/s, loss=0.508, acc=82.2]\n"
     ]
    },
    {
     "name": "stdout",
     "output_type": "stream",
     "text": [
      "Epoch 38: Train Loss=0.5453, Train Acc=82.23%, Test Acc=83.36%, Test F1=0.8313\n"
     ]
    },
    {
     "name": "stderr",
     "output_type": "stream",
     "text": [
      "Epoch 39: 100%|██████████| 350/350 [00:03<00:00, 102.69it/s, loss=0.539, acc=81.5]\n"
     ]
    },
    {
     "name": "stdout",
     "output_type": "stream",
     "text": [
      "Epoch 39: Train Loss=0.5800, Train Acc=81.52%, Test Acc=84.64%, Test F1=0.8426\n"
     ]
    },
    {
     "name": "stderr",
     "output_type": "stream",
     "text": [
      "Epoch 40: 100%|██████████| 350/350 [00:03<00:00, 99.08it/s, loss=0.573, acc=82.6] \n"
     ]
    },
    {
     "name": "stdout",
     "output_type": "stream",
     "text": [
      "Epoch 40: Train Loss=0.5416, Train Acc=82.61%, Test Acc=83.36%, Test F1=0.8299\n"
     ]
    },
    {
     "name": "stderr",
     "output_type": "stream",
     "text": [
      "Epoch 41: 100%|██████████| 350/350 [00:03<00:00, 98.92it/s, loss=0.286, acc=83] \n"
     ]
    },
    {
     "name": "stdout",
     "output_type": "stream",
     "text": [
      "Epoch 41: Train Loss=0.5266, Train Acc=82.96%, Test Acc=86.29%, Test F1=0.8615\n"
     ]
    },
    {
     "name": "stderr",
     "output_type": "stream",
     "text": [
      "Epoch 42: 100%|██████████| 350/350 [00:03<00:00, 100.81it/s, loss=0.656, acc=83.7]\n"
     ]
    },
    {
     "name": "stdout",
     "output_type": "stream",
     "text": [
      "Epoch 42: Train Loss=0.5055, Train Acc=83.66%, Test Acc=85.14%, Test F1=0.8503\n"
     ]
    },
    {
     "name": "stderr",
     "output_type": "stream",
     "text": [
      "Epoch 43: 100%|██████████| 350/350 [00:03<00:00, 97.94it/s, loss=0.457, acc=83.7] \n"
     ]
    },
    {
     "name": "stdout",
     "output_type": "stream",
     "text": [
      "Epoch 43: Train Loss=0.5166, Train Acc=83.71%, Test Acc=84.43%, Test F1=0.8449\n"
     ]
    },
    {
     "name": "stderr",
     "output_type": "stream",
     "text": [
      "Epoch 44: 100%|██████████| 350/350 [00:03<00:00, 101.65it/s, loss=0.455, acc=84]\n"
     ]
    },
    {
     "name": "stdout",
     "output_type": "stream",
     "text": [
      "Epoch 44: Train Loss=0.5074, Train Acc=83.98%, Test Acc=84.86%, Test F1=0.8489\n"
     ]
    },
    {
     "name": "stderr",
     "output_type": "stream",
     "text": [
      "Epoch 45: 100%|██████████| 350/350 [00:03<00:00, 101.85it/s, loss=0.602, acc=84.9]\n"
     ]
    },
    {
     "name": "stdout",
     "output_type": "stream",
     "text": [
      "Epoch 45: Train Loss=0.4682, Train Acc=84.93%, Test Acc=84.21%, Test F1=0.8411\n"
     ]
    },
    {
     "name": "stderr",
     "output_type": "stream",
     "text": [
      "Epoch 46: 100%|██████████| 350/350 [00:03<00:00, 101.66it/s, loss=0.398, acc=85.1]\n"
     ]
    },
    {
     "name": "stdout",
     "output_type": "stream",
     "text": [
      "Epoch 46: Train Loss=0.4791, Train Acc=85.12%, Test Acc=84.29%, Test F1=0.8422\n"
     ]
    },
    {
     "name": "stderr",
     "output_type": "stream",
     "text": [
      "Epoch 47: 100%|██████████| 350/350 [00:03<00:00, 101.72it/s, loss=0.931, acc=85.3]\n"
     ]
    },
    {
     "name": "stdout",
     "output_type": "stream",
     "text": [
      "Epoch 47: Train Loss=0.4701, Train Acc=85.30%, Test Acc=85.57%, Test F1=0.8536\n"
     ]
    },
    {
     "name": "stderr",
     "output_type": "stream",
     "text": [
      "Epoch 48: 100%|██████████| 350/350 [00:03<00:00, 98.48it/s, loss=0.5, acc=85.8] \n"
     ]
    },
    {
     "name": "stdout",
     "output_type": "stream",
     "text": [
      "Epoch 48: Train Loss=0.4506, Train Acc=85.82%, Test Acc=87.00%, Test F1=0.8701\n"
     ]
    },
    {
     "name": "stderr",
     "output_type": "stream",
     "text": [
      "Epoch 49: 100%|██████████| 350/350 [00:03<00:00, 101.80it/s, loss=0.502, acc=85.6]\n"
     ]
    },
    {
     "name": "stdout",
     "output_type": "stream",
     "text": [
      "Epoch 49: Train Loss=0.4715, Train Acc=85.64%, Test Acc=86.93%, Test F1=0.8682\n"
     ]
    },
    {
     "name": "stderr",
     "output_type": "stream",
     "text": [
      "Epoch 50: 100%|██████████| 350/350 [00:03<00:00, 101.15it/s, loss=0.13, acc=86.1]\n"
     ]
    },
    {
     "name": "stdout",
     "output_type": "stream",
     "text": [
      "Epoch 50: Train Loss=0.4422, Train Acc=86.05%, Test Acc=86.14%, Test F1=0.8605\n"
     ]
    },
    {
     "name": "stderr",
     "output_type": "stream",
     "text": [
      "Epoch 51: 100%|██████████| 350/350 [00:03<00:00, 92.27it/s, loss=0.495, acc=87.1]\n"
     ]
    },
    {
     "name": "stdout",
     "output_type": "stream",
     "text": [
      "Epoch 51: Train Loss=0.4138, Train Acc=87.12%, Test Acc=86.50%, Test F1=0.8642\n"
     ]
    },
    {
     "name": "stderr",
     "output_type": "stream",
     "text": [
      "Epoch 52: 100%|██████████| 350/350 [00:03<00:00, 89.48it/s, loss=0.664, acc=86.4]\n"
     ]
    },
    {
     "name": "stdout",
     "output_type": "stream",
     "text": [
      "Epoch 52: Train Loss=0.4513, Train Acc=86.38%, Test Acc=84.50%, Test F1=0.8452\n"
     ]
    },
    {
     "name": "stderr",
     "output_type": "stream",
     "text": [
      "Epoch 53: 100%|██████████| 350/350 [00:04<00:00, 87.45it/s, loss=0.183, acc=86.3]\n"
     ]
    },
    {
     "name": "stdout",
     "output_type": "stream",
     "text": [
      "Epoch 53: Train Loss=0.4374, Train Acc=86.29%, Test Acc=86.21%, Test F1=0.8607\n"
     ]
    },
    {
     "name": "stderr",
     "output_type": "stream",
     "text": [
      "Epoch 54: 100%|██████████| 350/350 [00:03<00:00, 102.44it/s, loss=0.658, acc=86.8]\n"
     ]
    },
    {
     "name": "stdout",
     "output_type": "stream",
     "text": [
      "Epoch 54: Train Loss=0.4268, Train Acc=86.79%, Test Acc=86.36%, Test F1=0.8620\n"
     ]
    },
    {
     "name": "stderr",
     "output_type": "stream",
     "text": [
      "Epoch 55: 100%|██████████| 350/350 [00:03<00:00, 100.91it/s, loss=0.234, acc=87.2]\n"
     ]
    },
    {
     "name": "stdout",
     "output_type": "stream",
     "text": [
      "Epoch 55: Train Loss=0.4201, Train Acc=87.23%, Test Acc=86.29%, Test F1=0.8626\n"
     ]
    },
    {
     "name": "stderr",
     "output_type": "stream",
     "text": [
      "Epoch 56: 100%|██████████| 350/350 [00:03<00:00, 102.40it/s, loss=0.29, acc=87.6]\n"
     ]
    },
    {
     "name": "stdout",
     "output_type": "stream",
     "text": [
      "Epoch 56: Train Loss=0.4128, Train Acc=87.55%, Test Acc=85.64%, Test F1=0.8563\n"
     ]
    },
    {
     "name": "stderr",
     "output_type": "stream",
     "text": [
      "Epoch 57: 100%|██████████| 350/350 [00:03<00:00, 102.48it/s, loss=0.378, acc=88.1]\n"
     ]
    },
    {
     "name": "stdout",
     "output_type": "stream",
     "text": [
      "Epoch 57: Train Loss=0.3991, Train Acc=88.11%, Test Acc=85.64%, Test F1=0.8559\n"
     ]
    },
    {
     "name": "stderr",
     "output_type": "stream",
     "text": [
      "Epoch 58: 100%|██████████| 350/350 [00:03<00:00, 100.41it/s, loss=0.156, acc=89.5]\n"
     ]
    },
    {
     "name": "stdout",
     "output_type": "stream",
     "text": [
      "Epoch 58: Train Loss=0.3624, Train Acc=89.54%, Test Acc=87.36%, Test F1=0.8723\n"
     ]
    },
    {
     "name": "stderr",
     "output_type": "stream",
     "text": [
      "Epoch 59: 100%|██████████| 350/350 [00:03<00:00, 102.63it/s, loss=0.12, acc=90.1]\n"
     ]
    },
    {
     "name": "stdout",
     "output_type": "stream",
     "text": [
      "Epoch 59: Train Loss=0.3333, Train Acc=90.09%, Test Acc=87.50%, Test F1=0.8743\n"
     ]
    },
    {
     "name": "stderr",
     "output_type": "stream",
     "text": [
      "Epoch 60: 100%|██████████| 350/350 [00:03<00:00, 101.20it/s, loss=0.146, acc=90.7]\n"
     ]
    },
    {
     "name": "stdout",
     "output_type": "stream",
     "text": [
      "Epoch 60: Train Loss=0.3040, Train Acc=90.70%, Test Acc=87.29%, Test F1=0.8726\n"
     ]
    },
    {
     "name": "stderr",
     "output_type": "stream",
     "text": [
      "Epoch 61: 100%|██████████| 350/350 [00:03<00:00, 100.97it/s, loss=0.128, acc=90.7]\n"
     ]
    },
    {
     "name": "stdout",
     "output_type": "stream",
     "text": [
      "Epoch 61: Train Loss=0.3118, Train Acc=90.70%, Test Acc=86.93%, Test F1=0.8680\n"
     ]
    },
    {
     "name": "stderr",
     "output_type": "stream",
     "text": [
      "Epoch 62: 100%|██████████| 350/350 [00:03<00:00, 101.28it/s, loss=0.0544, acc=91.1]\n"
     ]
    },
    {
     "name": "stdout",
     "output_type": "stream",
     "text": [
      "Epoch 62: Train Loss=0.3179, Train Acc=91.07%, Test Acc=88.14%, Test F1=0.8817\n"
     ]
    },
    {
     "name": "stderr",
     "output_type": "stream",
     "text": [
      "Epoch 63: 100%|██████████| 350/350 [00:03<00:00, 101.49it/s, loss=0.301, acc=91]\n"
     ]
    },
    {
     "name": "stdout",
     "output_type": "stream",
     "text": [
      "Epoch 63: Train Loss=0.3057, Train Acc=90.98%, Test Acc=88.36%, Test F1=0.8828\n"
     ]
    },
    {
     "name": "stderr",
     "output_type": "stream",
     "text": [
      "Epoch 64: 100%|██████████| 350/350 [00:03<00:00, 103.56it/s, loss=0.282, acc=91.4]\n"
     ]
    },
    {
     "name": "stdout",
     "output_type": "stream",
     "text": [
      "Epoch 64: Train Loss=0.2877, Train Acc=91.38%, Test Acc=87.64%, Test F1=0.8755\n"
     ]
    },
    {
     "name": "stderr",
     "output_type": "stream",
     "text": [
      "Epoch 65: 100%|██████████| 350/350 [00:03<00:00, 99.66it/s, loss=0.201, acc=91] \n"
     ]
    },
    {
     "name": "stdout",
     "output_type": "stream",
     "text": [
      "Epoch 65: Train Loss=0.2949, Train Acc=91.00%, Test Acc=89.14%, Test F1=0.8914\n"
     ]
    },
    {
     "name": "stderr",
     "output_type": "stream",
     "text": [
      "Epoch 66: 100%|██████████| 350/350 [00:03<00:00, 100.56it/s, loss=0.444, acc=91.2]\n"
     ]
    },
    {
     "name": "stdout",
     "output_type": "stream",
     "text": [
      "Epoch 66: Train Loss=0.2961, Train Acc=91.18%, Test Acc=88.29%, Test F1=0.8821\n"
     ]
    },
    {
     "name": "stderr",
     "output_type": "stream",
     "text": [
      "Epoch 67: 100%|██████████| 350/350 [00:03<00:00, 101.45it/s, loss=0.236, acc=91.8]\n"
     ]
    },
    {
     "name": "stdout",
     "output_type": "stream",
     "text": [
      "Epoch 67: Train Loss=0.2814, Train Acc=91.77%, Test Acc=87.86%, Test F1=0.8780\n"
     ]
    },
    {
     "name": "stderr",
     "output_type": "stream",
     "text": [
      "Epoch 68: 100%|██████████| 350/350 [00:03<00:00, 101.66it/s, loss=0.332, acc=92.1]\n"
     ]
    },
    {
     "name": "stdout",
     "output_type": "stream",
     "text": [
      "Epoch 68: Train Loss=0.2702, Train Acc=92.14%, Test Acc=88.50%, Test F1=0.8836\n"
     ]
    },
    {
     "name": "stderr",
     "output_type": "stream",
     "text": [
      "Epoch 69: 100%|██████████| 350/350 [00:03<00:00, 91.05it/s, loss=0.0668, acc=91.9]\n"
     ]
    },
    {
     "name": "stdout",
     "output_type": "stream",
     "text": [
      "Epoch 69: Train Loss=0.2733, Train Acc=91.93%, Test Acc=88.21%, Test F1=0.8814\n"
     ]
    },
    {
     "name": "stderr",
     "output_type": "stream",
     "text": [
      "Epoch 70: 100%|██████████| 350/350 [00:03<00:00, 89.47it/s, loss=0.157, acc=92.2]\n"
     ]
    },
    {
     "name": "stdout",
     "output_type": "stream",
     "text": [
      "Epoch 70: Train Loss=0.2659, Train Acc=92.16%, Test Acc=88.43%, Test F1=0.8835\n"
     ]
    },
    {
     "name": "stderr",
     "output_type": "stream",
     "text": [
      "Epoch 71: 100%|██████████| 350/350 [00:03<00:00, 89.18it/s, loss=0.245, acc=92.4]\n"
     ]
    },
    {
     "name": "stdout",
     "output_type": "stream",
     "text": [
      "Epoch 71: Train Loss=0.2708, Train Acc=92.39%, Test Acc=88.36%, Test F1=0.8829\n"
     ]
    },
    {
     "name": "stderr",
     "output_type": "stream",
     "text": [
      "Epoch 72: 100%|██████████| 350/350 [00:03<00:00, 103.06it/s, loss=0.175, acc=92.6]\n"
     ]
    },
    {
     "name": "stdout",
     "output_type": "stream",
     "text": [
      "Epoch 72: Train Loss=0.2683, Train Acc=92.57%, Test Acc=87.50%, Test F1=0.8736\n"
     ]
    },
    {
     "name": "stderr",
     "output_type": "stream",
     "text": [
      "Epoch 73: 100%|██████████| 350/350 [00:03<00:00, 101.39it/s, loss=0.103, acc=92.7]\n"
     ]
    },
    {
     "name": "stdout",
     "output_type": "stream",
     "text": [
      "Epoch 73: Train Loss=0.2557, Train Acc=92.73%, Test Acc=88.93%, Test F1=0.8887\n"
     ]
    },
    {
     "name": "stderr",
     "output_type": "stream",
     "text": [
      "Epoch 74: 100%|██████████| 350/350 [00:03<00:00, 101.74it/s, loss=0.482, acc=92.5]\n"
     ]
    },
    {
     "name": "stdout",
     "output_type": "stream",
     "text": [
      "Epoch 74: Train Loss=0.2766, Train Acc=92.48%, Test Acc=88.50%, Test F1=0.8846\n"
     ]
    },
    {
     "name": "stderr",
     "output_type": "stream",
     "text": [
      "Epoch 75: 100%|██████████| 350/350 [00:03<00:00, 101.24it/s, loss=0.0959, acc=93.1]\n"
     ]
    },
    {
     "name": "stdout",
     "output_type": "stream",
     "text": [
      "Epoch 75: Train Loss=0.2437, Train Acc=93.12%, Test Acc=89.43%, Test F1=0.8939\n"
     ]
    },
    {
     "name": "stderr",
     "output_type": "stream",
     "text": [
      "Epoch 76: 100%|██████████| 350/350 [00:03<00:00, 102.02it/s, loss=0.638, acc=93.3]\n"
     ]
    },
    {
     "name": "stdout",
     "output_type": "stream",
     "text": [
      "Epoch 76: Train Loss=0.2364, Train Acc=93.32%, Test Acc=90.07%, Test F1=0.9005\n"
     ]
    },
    {
     "name": "stderr",
     "output_type": "stream",
     "text": [
      "Epoch 77: 100%|██████████| 350/350 [00:03<00:00, 102.50it/s, loss=0.00603, acc=93.8]\n"
     ]
    },
    {
     "name": "stdout",
     "output_type": "stream",
     "text": [
      "Epoch 77: Train Loss=0.2123, Train Acc=93.84%, Test Acc=89.43%, Test F1=0.8940\n"
     ]
    },
    {
     "name": "stderr",
     "output_type": "stream",
     "text": [
      "Epoch 78: 100%|██████████| 350/350 [00:03<00:00, 101.22it/s, loss=0.0671, acc=93.7]\n"
     ]
    },
    {
     "name": "stdout",
     "output_type": "stream",
     "text": [
      "Epoch 78: Train Loss=0.2301, Train Acc=93.66%, Test Acc=89.86%, Test F1=0.8984\n"
     ]
    },
    {
     "name": "stderr",
     "output_type": "stream",
     "text": [
      "Epoch 79: 100%|██████████| 350/350 [00:03<00:00, 103.32it/s, loss=0.282, acc=94.5]\n"
     ]
    },
    {
     "name": "stdout",
     "output_type": "stream",
     "text": [
      "Epoch 79: Train Loss=0.2017, Train Acc=94.46%, Test Acc=89.50%, Test F1=0.8947\n"
     ]
    },
    {
     "name": "stderr",
     "output_type": "stream",
     "text": [
      "Epoch 80: 100%|██████████| 350/350 [00:03<00:00, 103.70it/s, loss=0.0352, acc=94.2]\n"
     ]
    },
    {
     "name": "stdout",
     "output_type": "stream",
     "text": [
      "Epoch 80: Train Loss=0.2230, Train Acc=94.16%, Test Acc=89.93%, Test F1=0.8991\n"
     ]
    },
    {
     "name": "stderr",
     "output_type": "stream",
     "text": [
      "Epoch 81: 100%|██████████| 350/350 [00:03<00:00, 100.79it/s, loss=0.0338, acc=94]\n"
     ]
    },
    {
     "name": "stdout",
     "output_type": "stream",
     "text": [
      "Epoch 81: Train Loss=0.2266, Train Acc=93.98%, Test Acc=90.07%, Test F1=0.9001\n"
     ]
    },
    {
     "name": "stderr",
     "output_type": "stream",
     "text": [
      "Epoch 82: 100%|██████████| 350/350 [00:03<00:00, 102.40it/s, loss=0.0127, acc=94.2]\n"
     ]
    },
    {
     "name": "stdout",
     "output_type": "stream",
     "text": [
      "Epoch 82: Train Loss=0.2023, Train Acc=94.21%, Test Acc=91.43%, Test F1=0.9141\n"
     ]
    },
    {
     "name": "stderr",
     "output_type": "stream",
     "text": [
      "Epoch 83: 100%|██████████| 350/350 [00:03<00:00, 99.10it/s, loss=0.34, acc=94.4] \n"
     ]
    },
    {
     "name": "stdout",
     "output_type": "stream",
     "text": [
      "Epoch 83: Train Loss=0.2056, Train Acc=94.43%, Test Acc=90.71%, Test F1=0.9068\n"
     ]
    },
    {
     "name": "stderr",
     "output_type": "stream",
     "text": [
      "Epoch 84: 100%|██████████| 350/350 [00:03<00:00, 105.53it/s, loss=0.831, acc=94.8]\n"
     ]
    },
    {
     "name": "stdout",
     "output_type": "stream",
     "text": [
      "Epoch 84: Train Loss=0.1857, Train Acc=94.80%, Test Acc=90.57%, Test F1=0.9055\n"
     ]
    },
    {
     "name": "stderr",
     "output_type": "stream",
     "text": [
      "Epoch 85: 100%|██████████| 350/350 [00:03<00:00, 105.64it/s, loss=0.279, acc=94.1]\n"
     ]
    },
    {
     "name": "stdout",
     "output_type": "stream",
     "text": [
      "Epoch 85: Train Loss=0.2081, Train Acc=94.14%, Test Acc=90.14%, Test F1=0.9004\n"
     ]
    },
    {
     "name": "stderr",
     "output_type": "stream",
     "text": [
      "Epoch 86: 100%|██████████| 350/350 [00:03<00:00, 103.21it/s, loss=0.00436, acc=94.8]\n"
     ]
    },
    {
     "name": "stdout",
     "output_type": "stream",
     "text": [
      "Epoch 86: Train Loss=0.1983, Train Acc=94.80%, Test Acc=90.50%, Test F1=0.9047\n"
     ]
    },
    {
     "name": "stderr",
     "output_type": "stream",
     "text": [
      "Epoch 87: 100%|██████████| 350/350 [00:03<00:00, 96.45it/s, loss=0.0107, acc=93.9]\n"
     ]
    },
    {
     "name": "stdout",
     "output_type": "stream",
     "text": [
      "Epoch 87: Train Loss=0.2389, Train Acc=93.89%, Test Acc=90.21%, Test F1=0.9022\n"
     ]
    },
    {
     "name": "stderr",
     "output_type": "stream",
     "text": [
      "Epoch 88: 100%|██████████| 350/350 [00:03<00:00, 90.25it/s, loss=0.0119, acc=94.9]\n"
     ]
    },
    {
     "name": "stdout",
     "output_type": "stream",
     "text": [
      "Epoch 88: Train Loss=0.2021, Train Acc=94.88%, Test Acc=90.43%, Test F1=0.9039\n"
     ]
    },
    {
     "name": "stderr",
     "output_type": "stream",
     "text": [
      "Epoch 89: 100%|██████████| 350/350 [00:03<00:00, 88.88it/s, loss=0.0424, acc=94.8]\n"
     ]
    },
    {
     "name": "stdout",
     "output_type": "stream",
     "text": [
      "Epoch 89: Train Loss=0.1920, Train Acc=94.82%, Test Acc=90.36%, Test F1=0.9038\n"
     ]
    },
    {
     "name": "stderr",
     "output_type": "stream",
     "text": [
      "Epoch 90: 100%|██████████| 350/350 [00:03<00:00, 96.40it/s, loss=1.2, acc=94.6] \n"
     ]
    },
    {
     "name": "stdout",
     "output_type": "stream",
     "text": [
      "Epoch 90: Train Loss=0.2038, Train Acc=94.55%, Test Acc=90.07%, Test F1=0.9001\n"
     ]
    },
    {
     "name": "stderr",
     "output_type": "stream",
     "text": [
      "Epoch 91: 100%|██████████| 350/350 [00:03<00:00, 100.51it/s, loss=0.262, acc=94.5]\n"
     ]
    },
    {
     "name": "stdout",
     "output_type": "stream",
     "text": [
      "Epoch 91: Train Loss=0.2141, Train Acc=94.50%, Test Acc=90.36%, Test F1=0.9036\n"
     ]
    },
    {
     "name": "stderr",
     "output_type": "stream",
     "text": [
      "Epoch 92: 100%|██████████| 350/350 [00:03<00:00, 102.38it/s, loss=0.0836, acc=94.7]\n"
     ]
    },
    {
     "name": "stdout",
     "output_type": "stream",
     "text": [
      "Epoch 92: Train Loss=0.1958, Train Acc=94.66%, Test Acc=89.79%, Test F1=0.8972\n"
     ]
    },
    {
     "name": "stderr",
     "output_type": "stream",
     "text": [
      "Epoch 93: 100%|██████████| 350/350 [00:03<00:00, 100.77it/s, loss=0.295, acc=95.1]\n"
     ]
    },
    {
     "name": "stdout",
     "output_type": "stream",
     "text": [
      "Epoch 93: Train Loss=0.1866, Train Acc=95.12%, Test Acc=90.36%, Test F1=0.9031\n"
     ]
    },
    {
     "name": "stderr",
     "output_type": "stream",
     "text": [
      "Epoch 94: 100%|██████████| 350/350 [00:03<00:00, 99.83it/s, loss=0.132, acc=95.6]\n"
     ]
    },
    {
     "name": "stdout",
     "output_type": "stream",
     "text": [
      "Epoch 94: Train Loss=0.1582, Train Acc=95.61%, Test Acc=91.07%, Test F1=0.9106\n"
     ]
    },
    {
     "name": "stderr",
     "output_type": "stream",
     "text": [
      "Epoch 95: 100%|██████████| 350/350 [00:03<00:00, 96.44it/s, loss=0.564, acc=96.1] \n"
     ]
    },
    {
     "name": "stdout",
     "output_type": "stream",
     "text": [
      "Epoch 95: Train Loss=0.1367, Train Acc=96.14%, Test Acc=90.79%, Test F1=0.9079\n"
     ]
    },
    {
     "name": "stderr",
     "output_type": "stream",
     "text": [
      "Epoch 96: 100%|██████████| 350/350 [00:03<00:00, 100.15it/s, loss=0.601, acc=95.5]\n"
     ]
    },
    {
     "name": "stdout",
     "output_type": "stream",
     "text": [
      "Epoch 96: Train Loss=0.1652, Train Acc=95.54%, Test Acc=90.64%, Test F1=0.9066\n"
     ]
    },
    {
     "name": "stderr",
     "output_type": "stream",
     "text": [
      "Epoch 97: 100%|██████████| 350/350 [00:03<00:00, 101.05it/s, loss=0.338, acc=95.5]\n"
     ]
    },
    {
     "name": "stdout",
     "output_type": "stream",
     "text": [
      "Epoch 97: Train Loss=0.1803, Train Acc=95.54%, Test Acc=91.64%, Test F1=0.9161\n"
     ]
    },
    {
     "name": "stderr",
     "output_type": "stream",
     "text": [
      "Epoch 98: 100%|██████████| 350/350 [00:03<00:00, 100.21it/s, loss=0.328, acc=95.8]\n"
     ]
    },
    {
     "name": "stdout",
     "output_type": "stream",
     "text": [
      "Epoch 98: Train Loss=0.1451, Train Acc=95.80%, Test Acc=91.14%, Test F1=0.9110\n"
     ]
    },
    {
     "name": "stderr",
     "output_type": "stream",
     "text": [
      "Epoch 99: 100%|██████████| 350/350 [00:03<00:00, 100.90it/s, loss=0.179, acc=95.7]\n"
     ]
    },
    {
     "name": "stdout",
     "output_type": "stream",
     "text": [
      "Epoch 99: Train Loss=0.1759, Train Acc=95.70%, Test Acc=91.43%, Test F1=0.9141\n"
     ]
    },
    {
     "name": "stderr",
     "output_type": "stream",
     "text": [
      "Epoch 100: 100%|██████████| 350/350 [00:03<00:00, 98.60it/s, loss=0.177, acc=95.3]\n"
     ]
    },
    {
     "name": "stdout",
     "output_type": "stream",
     "text": [
      "Epoch 100: Train Loss=0.1726, Train Acc=95.30%, Test Acc=90.07%, Test F1=0.9005\n"
     ]
    },
    {
     "name": "stderr",
     "output_type": "stream",
     "text": [
      "Epoch 101: 100%|██████████| 350/350 [00:03<00:00, 97.19it/s, loss=0.514, acc=95.7] \n"
     ]
    },
    {
     "name": "stdout",
     "output_type": "stream",
     "text": [
      "Epoch 101: Train Loss=0.1725, Train Acc=95.71%, Test Acc=90.43%, Test F1=0.9040\n"
     ]
    },
    {
     "name": "stderr",
     "output_type": "stream",
     "text": [
      "Epoch 102: 100%|██████████| 350/350 [00:03<00:00, 99.79it/s, loss=0.00544, acc=95.7] \n"
     ]
    },
    {
     "name": "stdout",
     "output_type": "stream",
     "text": [
      "Epoch 102: Train Loss=0.1680, Train Acc=95.68%, Test Acc=91.50%, Test F1=0.9149\n"
     ]
    },
    {
     "name": "stderr",
     "output_type": "stream",
     "text": [
      "Epoch 103: 100%|██████████| 350/350 [00:03<00:00, 98.47it/s, loss=0.389, acc=95.6] \n"
     ]
    },
    {
     "name": "stdout",
     "output_type": "stream",
     "text": [
      "Epoch 103: Train Loss=0.1702, Train Acc=95.62%, Test Acc=90.36%, Test F1=0.9032\n"
     ]
    },
    {
     "name": "stderr",
     "output_type": "stream",
     "text": [
      "Epoch 104: 100%|██████████| 350/350 [00:03<00:00, 101.36it/s, loss=0.679, acc=96.3]\n"
     ]
    },
    {
     "name": "stdout",
     "output_type": "stream",
     "text": [
      "Epoch 104: Train Loss=0.1498, Train Acc=96.29%, Test Acc=90.29%, Test F1=0.9027\n"
     ]
    },
    {
     "name": "stderr",
     "output_type": "stream",
     "text": [
      "Epoch 105: 100%|██████████| 350/350 [00:03<00:00, 91.76it/s, loss=0.226, acc=96.2]\n"
     ]
    },
    {
     "name": "stdout",
     "output_type": "stream",
     "text": [
      "Epoch 105: Train Loss=0.1493, Train Acc=96.20%, Test Acc=90.29%, Test F1=0.9025\n"
     ]
    },
    {
     "name": "stderr",
     "output_type": "stream",
     "text": [
      "Epoch 106: 100%|██████████| 350/350 [00:04<00:00, 87.10it/s, loss=0.294, acc=95.9]\n"
     ]
    },
    {
     "name": "stdout",
     "output_type": "stream",
     "text": [
      "Epoch 106: Train Loss=0.1638, Train Acc=95.89%, Test Acc=90.29%, Test F1=0.9027\n"
     ]
    },
    {
     "name": "stderr",
     "output_type": "stream",
     "text": [
      "Epoch 107: 100%|██████████| 350/350 [00:04<00:00, 87.40it/s, loss=1.15, acc=95.7]\n"
     ]
    },
    {
     "name": "stdout",
     "output_type": "stream",
     "text": [
      "Epoch 107: Train Loss=0.1770, Train Acc=95.73%, Test Acc=89.86%, Test F1=0.8982\n"
     ]
    },
    {
     "name": "stderr",
     "output_type": "stream",
     "text": [
      "Epoch 108: 100%|██████████| 350/350 [00:04<00:00, 87.44it/s, loss=0.0146, acc=96]\n"
     ]
    },
    {
     "name": "stdout",
     "output_type": "stream",
     "text": [
      "Epoch 108: Train Loss=0.1609, Train Acc=96.02%, Test Acc=90.93%, Test F1=0.9088\n"
     ]
    },
    {
     "name": "stderr",
     "output_type": "stream",
     "text": [
      "Epoch 109: 100%|██████████| 350/350 [00:03<00:00, 95.86it/s, loss=0.508, acc=95.1]\n"
     ]
    },
    {
     "name": "stdout",
     "output_type": "stream",
     "text": [
      "Epoch 109: Train Loss=0.1898, Train Acc=95.05%, Test Acc=91.14%, Test F1=0.9113\n"
     ]
    },
    {
     "name": "stderr",
     "output_type": "stream",
     "text": [
      "Epoch 110: 100%|██████████| 350/350 [00:03<00:00, 95.27it/s, loss=0.00426, acc=96.1]\n"
     ]
    },
    {
     "name": "stdout",
     "output_type": "stream",
     "text": [
      "Epoch 110: Train Loss=0.1661, Train Acc=96.14%, Test Acc=90.57%, Test F1=0.9052\n"
     ]
    },
    {
     "name": "stderr",
     "output_type": "stream",
     "text": [
      "Epoch 111: 100%|██████████| 350/350 [00:03<00:00, 92.39it/s, loss=0.00465, acc=96]\n"
     ]
    },
    {
     "name": "stdout",
     "output_type": "stream",
     "text": [
      "Epoch 111: Train Loss=0.1415, Train Acc=96.04%, Test Acc=91.00%, Test F1=0.9097\n"
     ]
    },
    {
     "name": "stderr",
     "output_type": "stream",
     "text": [
      "Epoch 112: 100%|██████████| 350/350 [00:03<00:00, 90.48it/s, loss=0.0554, acc=96.3]\n"
     ]
    },
    {
     "name": "stdout",
     "output_type": "stream",
     "text": [
      "Epoch 112: Train Loss=0.1486, Train Acc=96.32%, Test Acc=90.57%, Test F1=0.9056\n"
     ]
    },
    {
     "name": "stderr",
     "output_type": "stream",
     "text": [
      "Epoch 113: 100%|██████████| 350/350 [00:03<00:00, 93.42it/s, loss=0.0952, acc=96.4]\n"
     ]
    },
    {
     "name": "stdout",
     "output_type": "stream",
     "text": [
      "Epoch 113: Train Loss=0.1552, Train Acc=96.36%, Test Acc=90.50%, Test F1=0.9047\n"
     ]
    },
    {
     "name": "stderr",
     "output_type": "stream",
     "text": [
      "Epoch 114: 100%|██████████| 350/350 [00:03<00:00, 92.56it/s, loss=0.00848, acc=96.8]\n"
     ]
    },
    {
     "name": "stdout",
     "output_type": "stream",
     "text": [
      "Epoch 114: Train Loss=0.1326, Train Acc=96.77%, Test Acc=90.57%, Test F1=0.9054\n"
     ]
    },
    {
     "name": "stderr",
     "output_type": "stream",
     "text": [
      "Epoch 115: 100%|██████████| 350/350 [00:03<00:00, 90.25it/s, loss=0.0121, acc=96.1]\n"
     ]
    },
    {
     "name": "stdout",
     "output_type": "stream",
     "text": [
      "Epoch 115: Train Loss=0.1580, Train Acc=96.07%, Test Acc=90.86%, Test F1=0.9081\n"
     ]
    },
    {
     "name": "stderr",
     "output_type": "stream",
     "text": [
      "Epoch 116: 100%|██████████| 350/350 [00:03<00:00, 90.99it/s, loss=0.0286, acc=96.3]\n"
     ]
    },
    {
     "name": "stdout",
     "output_type": "stream",
     "text": [
      "Epoch 116: Train Loss=0.1487, Train Acc=96.29%, Test Acc=90.00%, Test F1=0.8994\n"
     ]
    },
    {
     "name": "stderr",
     "output_type": "stream",
     "text": [
      "Epoch 117: 100%|██████████| 350/350 [00:03<00:00, 88.37it/s, loss=0.00578, acc=96.5]\n"
     ]
    },
    {
     "name": "stdout",
     "output_type": "stream",
     "text": [
      "Epoch 117: Train Loss=0.1415, Train Acc=96.52%, Test Acc=90.64%, Test F1=0.9061\n"
     ]
    },
    {
     "name": "stderr",
     "output_type": "stream",
     "text": [
      "Epoch 118: 100%|██████████| 350/350 [00:03<00:00, 90.03it/s, loss=0.0119, acc=96.5]\n"
     ]
    },
    {
     "name": "stdout",
     "output_type": "stream",
     "text": [
      "Epoch 118: Train Loss=0.1572, Train Acc=96.54%, Test Acc=90.57%, Test F1=0.9056\n"
     ]
    },
    {
     "name": "stderr",
     "output_type": "stream",
     "text": [
      "Epoch 119: 100%|██████████| 350/350 [00:03<00:00, 91.56it/s, loss=0.00642, acc=96.1]\n"
     ]
    },
    {
     "name": "stdout",
     "output_type": "stream",
     "text": [
      "Epoch 119: Train Loss=0.1692, Train Acc=96.09%, Test Acc=90.86%, Test F1=0.9083\n"
     ]
    },
    {
     "name": "stderr",
     "output_type": "stream",
     "text": [
      "Epoch 120: 100%|██████████| 350/350 [00:03<00:00, 89.78it/s, loss=0.0255, acc=96]\n"
     ]
    },
    {
     "name": "stdout",
     "output_type": "stream",
     "text": [
      "Epoch 120: Train Loss=0.1565, Train Acc=96.04%, Test Acc=90.93%, Test F1=0.9090\n"
     ]
    },
    {
     "name": "stderr",
     "output_type": "stream",
     "text": [
      "Epoch 121: 100%|██████████| 350/350 [00:03<00:00, 90.66it/s, loss=0.00687, acc=96.5]\n"
     ]
    },
    {
     "name": "stdout",
     "output_type": "stream",
     "text": [
      "Epoch 121: Train Loss=0.1459, Train Acc=96.52%, Test Acc=90.64%, Test F1=0.9062\n"
     ]
    },
    {
     "name": "stderr",
     "output_type": "stream",
     "text": [
      "Epoch 122: 100%|██████████| 350/350 [00:04<00:00, 81.04it/s, loss=0.174, acc=96.6]\n"
     ]
    },
    {
     "name": "stdout",
     "output_type": "stream",
     "text": [
      "Epoch 122: Train Loss=0.1296, Train Acc=96.64%, Test Acc=90.86%, Test F1=0.9081\n"
     ]
    },
    {
     "name": "stderr",
     "output_type": "stream",
     "text": [
      "Epoch 123: 100%|██████████| 350/350 [00:04<00:00, 80.66it/s, loss=0.00621, acc=96.3]\n"
     ]
    },
    {
     "name": "stdout",
     "output_type": "stream",
     "text": [
      "Epoch 123: Train Loss=0.1550, Train Acc=96.27%, Test Acc=90.71%, Test F1=0.9065\n"
     ]
    },
    {
     "name": "stderr",
     "output_type": "stream",
     "text": [
      "Epoch 124: 100%|██████████| 350/350 [00:04<00:00, 81.66it/s, loss=0.0193, acc=96.3]\n"
     ]
    },
    {
     "name": "stdout",
     "output_type": "stream",
     "text": [
      "Epoch 124: Train Loss=0.1471, Train Acc=96.32%, Test Acc=90.64%, Test F1=0.9062\n"
     ]
    },
    {
     "name": "stderr",
     "output_type": "stream",
     "text": [
      "Epoch 125: 100%|██████████| 350/350 [00:04<00:00, 85.70it/s, loss=0.0451, acc=96.6]\n"
     ]
    },
    {
     "name": "stdout",
     "output_type": "stream",
     "text": [
      "Epoch 125: Train Loss=0.1380, Train Acc=96.59%, Test Acc=91.21%, Test F1=0.9116\n"
     ]
    },
    {
     "name": "stderr",
     "output_type": "stream",
     "text": [
      "Epoch 126: 100%|██████████| 350/350 [00:03<00:00, 87.50it/s, loss=0.03, acc=96.1]\n"
     ]
    },
    {
     "name": "stdout",
     "output_type": "stream",
     "text": [
      "Epoch 126: Train Loss=0.1595, Train Acc=96.14%, Test Acc=91.14%, Test F1=0.9110\n"
     ]
    },
    {
     "name": "stderr",
     "output_type": "stream",
     "text": [
      "Epoch 127: 100%|██████████| 350/350 [00:03<00:00, 88.71it/s, loss=0.00456, acc=96.2]\n"
     ]
    },
    {
     "name": "stdout",
     "output_type": "stream",
     "text": [
      "Epoch 127: Train Loss=0.1474, Train Acc=96.21%, Test Acc=90.93%, Test F1=0.9093\n"
     ]
    },
    {
     "name": "stderr",
     "output_type": "stream",
     "text": [
      "Epoch 128: 100%|██████████| 350/350 [00:03<00:00, 87.89it/s, loss=0.038, acc=95.8]\n"
     ]
    },
    {
     "name": "stdout",
     "output_type": "stream",
     "text": [
      "Epoch 128: Train Loss=0.1909, Train Acc=95.82%, Test Acc=90.93%, Test F1=0.9089\n"
     ]
    },
    {
     "name": "stderr",
     "output_type": "stream",
     "text": [
      "Epoch 129: 100%|██████████| 350/350 [00:03<00:00, 87.84it/s, loss=0.0619, acc=96.2]\n"
     ]
    },
    {
     "name": "stdout",
     "output_type": "stream",
     "text": [
      "Epoch 129: Train Loss=0.1534, Train Acc=96.16%, Test Acc=90.79%, Test F1=0.9075\n"
     ]
    },
    {
     "name": "stderr",
     "output_type": "stream",
     "text": [
      "Epoch 130: 100%|██████████| 350/350 [00:04<00:00, 87.18it/s, loss=1.3, acc=96.2]\n"
     ]
    },
    {
     "name": "stdout",
     "output_type": "stream",
     "text": [
      "Epoch 130: Train Loss=0.1479, Train Acc=96.20%, Test Acc=91.21%, Test F1=0.9120\n"
     ]
    },
    {
     "name": "stderr",
     "output_type": "stream",
     "text": [
      "Epoch 131: 100%|██████████| 350/350 [00:04<00:00, 81.44it/s, loss=0.1, acc=95.9]\n"
     ]
    },
    {
     "name": "stdout",
     "output_type": "stream",
     "text": [
      "Epoch 131: Train Loss=0.1702, Train Acc=95.86%, Test Acc=91.14%, Test F1=0.9109\n"
     ]
    },
    {
     "name": "stderr",
     "output_type": "stream",
     "text": [
      "Epoch 132: 100%|██████████| 350/350 [00:04<00:00, 80.17it/s, loss=0.01, acc=96.6]\n"
     ]
    },
    {
     "name": "stdout",
     "output_type": "stream",
     "text": [
      "Epoch 132: Train Loss=0.1273, Train Acc=96.61%, Test Acc=91.64%, Test F1=0.9162\n"
     ]
    },
    {
     "name": "stderr",
     "output_type": "stream",
     "text": [
      "Epoch 133: 100%|██████████| 350/350 [00:04<00:00, 83.23it/s, loss=0.00256, acc=96.7]\n"
     ]
    },
    {
     "name": "stdout",
     "output_type": "stream",
     "text": [
      "Epoch 133: Train Loss=0.1416, Train Acc=96.71%, Test Acc=91.57%, Test F1=0.9156\n"
     ]
    },
    {
     "name": "stderr",
     "output_type": "stream",
     "text": [
      "Epoch 134: 100%|██████████| 350/350 [00:03<00:00, 90.55it/s, loss=0.199, acc=96.2]\n"
     ]
    },
    {
     "name": "stdout",
     "output_type": "stream",
     "text": [
      "Epoch 134: Train Loss=0.1638, Train Acc=96.16%, Test Acc=90.71%, Test F1=0.9071\n"
     ]
    },
    {
     "name": "stderr",
     "output_type": "stream",
     "text": [
      "Epoch 135: 100%|██████████| 350/350 [00:03<00:00, 88.93it/s, loss=0.0386, acc=96.6]\n"
     ]
    },
    {
     "name": "stdout",
     "output_type": "stream",
     "text": [
      "Epoch 135: Train Loss=0.1361, Train Acc=96.61%, Test Acc=90.57%, Test F1=0.9049\n"
     ]
    },
    {
     "name": "stderr",
     "output_type": "stream",
     "text": [
      "Epoch 136: 100%|██████████| 350/350 [00:03<00:00, 90.39it/s, loss=0.0117, acc=96.2]\n"
     ]
    },
    {
     "name": "stdout",
     "output_type": "stream",
     "text": [
      "Epoch 136: Train Loss=0.1597, Train Acc=96.21%, Test Acc=90.86%, Test F1=0.9082\n"
     ]
    },
    {
     "name": "stderr",
     "output_type": "stream",
     "text": [
      "Epoch 137: 100%|██████████| 350/350 [00:04<00:00, 86.22it/s, loss=0.266, acc=96.7]\n"
     ]
    },
    {
     "name": "stdout",
     "output_type": "stream",
     "text": [
      "Epoch 137: Train Loss=0.1304, Train Acc=96.66%, Test Acc=90.93%, Test F1=0.9092\n"
     ]
    },
    {
     "name": "stderr",
     "output_type": "stream",
     "text": [
      "Epoch 138: 100%|██████████| 350/350 [00:04<00:00, 74.32it/s, loss=0.14, acc=96.7]\n"
     ]
    },
    {
     "name": "stdout",
     "output_type": "stream",
     "text": [
      "Epoch 138: Train Loss=0.1347, Train Acc=96.71%, Test Acc=90.64%, Test F1=0.9063\n"
     ]
    },
    {
     "name": "stderr",
     "output_type": "stream",
     "text": [
      "Epoch 139: 100%|██████████| 350/350 [00:04<00:00, 73.50it/s, loss=0.00345, acc=95.9]\n"
     ]
    },
    {
     "name": "stdout",
     "output_type": "stream",
     "text": [
      "Epoch 139: Train Loss=0.1734, Train Acc=95.86%, Test Acc=91.36%, Test F1=0.9133\n"
     ]
    },
    {
     "name": "stderr",
     "output_type": "stream",
     "text": [
      "Epoch 140: 100%|██████████| 350/350 [00:04<00:00, 71.50it/s, loss=0.0133, acc=96.2]\n"
     ]
    },
    {
     "name": "stdout",
     "output_type": "stream",
     "text": [
      "Epoch 140: Train Loss=0.1518, Train Acc=96.18%, Test Acc=90.64%, Test F1=0.9061\n"
     ]
    },
    {
     "name": "stderr",
     "output_type": "stream",
     "text": [
      "Epoch 141: 100%|██████████| 350/350 [00:04<00:00, 86.02it/s, loss=0.00566, acc=96.5]\n"
     ]
    },
    {
     "name": "stdout",
     "output_type": "stream",
     "text": [
      "Epoch 141: Train Loss=0.1374, Train Acc=96.54%, Test Acc=91.00%, Test F1=0.9098\n"
     ]
    },
    {
     "name": "stderr",
     "output_type": "stream",
     "text": [
      "Epoch 142: 100%|██████████| 350/350 [00:04<00:00, 87.01it/s, loss=0.00726, acc=96.5]\n"
     ]
    },
    {
     "name": "stdout",
     "output_type": "stream",
     "text": [
      "Epoch 142: Train Loss=0.1442, Train Acc=96.54%, Test Acc=90.64%, Test F1=0.9059\n"
     ]
    },
    {
     "name": "stderr",
     "output_type": "stream",
     "text": [
      "Epoch 143: 100%|██████████| 350/350 [00:04<00:00, 81.25it/s, loss=0.0699, acc=96.9]\n"
     ]
    },
    {
     "name": "stdout",
     "output_type": "stream",
     "text": [
      "Epoch 143: Train Loss=0.1256, Train Acc=96.86%, Test Acc=91.79%, Test F1=0.9177\n"
     ]
    },
    {
     "name": "stderr",
     "output_type": "stream",
     "text": [
      "Epoch 144: 100%|██████████| 350/350 [00:04<00:00, 83.16it/s, loss=0.137, acc=97]\n"
     ]
    },
    {
     "name": "stdout",
     "output_type": "stream",
     "text": [
      "Epoch 144: Train Loss=0.1229, Train Acc=96.96%, Test Acc=90.79%, Test F1=0.9075\n"
     ]
    },
    {
     "name": "stderr",
     "output_type": "stream",
     "text": [
      "Epoch 145: 100%|██████████| 350/350 [00:04<00:00, 80.74it/s, loss=0.00414, acc=96.7]\n"
     ]
    },
    {
     "name": "stdout",
     "output_type": "stream",
     "text": [
      "Epoch 145: Train Loss=0.1319, Train Acc=96.71%, Test Acc=91.00%, Test F1=0.9098\n"
     ]
    },
    {
     "name": "stderr",
     "output_type": "stream",
     "text": [
      "Epoch 146: 100%|██████████| 350/350 [00:04<00:00, 83.19it/s, loss=0.0294, acc=97]\n"
     ]
    },
    {
     "name": "stdout",
     "output_type": "stream",
     "text": [
      "Epoch 146: Train Loss=0.1123, Train Acc=97.00%, Test Acc=91.64%, Test F1=0.9162\n"
     ]
    },
    {
     "name": "stderr",
     "output_type": "stream",
     "text": [
      "Epoch 147: 100%|██████████| 350/350 [00:04<00:00, 84.83it/s, loss=0.0298, acc=96.3]\n"
     ]
    },
    {
     "name": "stdout",
     "output_type": "stream",
     "text": [
      "Epoch 147: Train Loss=0.1545, Train Acc=96.29%, Test Acc=91.00%, Test F1=0.9097\n"
     ]
    },
    {
     "name": "stderr",
     "output_type": "stream",
     "text": [
      "Epoch 148: 100%|██████████| 350/350 [00:04<00:00, 83.95it/s, loss=0.237, acc=96.4]\n"
     ]
    },
    {
     "name": "stdout",
     "output_type": "stream",
     "text": [
      "Epoch 148: Train Loss=0.1383, Train Acc=96.43%, Test Acc=90.86%, Test F1=0.9082\n"
     ]
    },
    {
     "name": "stderr",
     "output_type": "stream",
     "text": [
      "Epoch 149: 100%|██████████| 350/350 [00:04<00:00, 81.87it/s, loss=0.853, acc=96.4]\n"
     ]
    },
    {
     "name": "stdout",
     "output_type": "stream",
     "text": [
      "Epoch 149: Train Loss=0.1366, Train Acc=96.41%, Test Acc=91.86%, Test F1=0.9184\n"
     ]
    },
    {
     "name": "stderr",
     "output_type": "stream",
     "text": [
      "Epoch 150: 100%|██████████| 350/350 [00:04<00:00, 82.52it/s, loss=0.446, acc=96.5]\n"
     ]
    },
    {
     "name": "stdout",
     "output_type": "stream",
     "text": [
      "Epoch 150: Train Loss=0.1388, Train Acc=96.54%, Test Acc=90.93%, Test F1=0.9088\n"
     ]
    },
    {
     "name": "stderr",
     "output_type": "stream",
     "text": [
      "Epoch 151: 100%|██████████| 350/350 [00:04<00:00, 80.85it/s, loss=0.276, acc=96.6]\n"
     ]
    },
    {
     "name": "stdout",
     "output_type": "stream",
     "text": [
      "Epoch 151: Train Loss=0.1307, Train Acc=96.57%, Test Acc=91.00%, Test F1=0.9099\n"
     ]
    },
    {
     "name": "stderr",
     "output_type": "stream",
     "text": [
      "Epoch 152: 100%|██████████| 350/350 [00:04<00:00, 83.23it/s, loss=0.00307, acc=96]\n"
     ]
    },
    {
     "name": "stdout",
     "output_type": "stream",
     "text": [
      "Epoch 152: Train Loss=0.1572, Train Acc=96.04%, Test Acc=91.07%, Test F1=0.9105\n"
     ]
    },
    {
     "name": "stderr",
     "output_type": "stream",
     "text": [
      "Epoch 153: 100%|██████████| 350/350 [00:04<00:00, 81.28it/s, loss=0.0231, acc=96.5]\n"
     ]
    },
    {
     "name": "stdout",
     "output_type": "stream",
     "text": [
      "Epoch 153: Train Loss=0.1494, Train Acc=96.46%, Test Acc=90.86%, Test F1=0.9081\n"
     ]
    },
    {
     "name": "stderr",
     "output_type": "stream",
     "text": [
      "Epoch 154: 100%|██████████| 350/350 [00:04<00:00, 72.36it/s, loss=0.0051, acc=96.6]\n"
     ]
    },
    {
     "name": "stdout",
     "output_type": "stream",
     "text": [
      "Epoch 154: Train Loss=0.1369, Train Acc=96.64%, Test Acc=91.21%, Test F1=0.9119\n"
     ]
    },
    {
     "name": "stderr",
     "output_type": "stream",
     "text": [
      "Epoch 155: 100%|██████████| 350/350 [00:04<00:00, 70.06it/s, loss=0.0941, acc=96.5]\n"
     ]
    },
    {
     "name": "stdout",
     "output_type": "stream",
     "text": [
      "Epoch 155: Train Loss=0.1427, Train Acc=96.46%, Test Acc=91.50%, Test F1=0.9148\n"
     ]
    },
    {
     "name": "stderr",
     "output_type": "stream",
     "text": [
      "Epoch 156: 100%|██████████| 350/350 [00:04<00:00, 74.22it/s, loss=0.0339, acc=96.5]\n"
     ]
    },
    {
     "name": "stdout",
     "output_type": "stream",
     "text": [
      "Epoch 156: Train Loss=0.1374, Train Acc=96.54%, Test Acc=91.14%, Test F1=0.9110\n"
     ]
    },
    {
     "name": "stderr",
     "output_type": "stream",
     "text": [
      "Epoch 157: 100%|██████████| 350/350 [00:04<00:00, 82.58it/s, loss=0.0107, acc=96.5]\n"
     ]
    },
    {
     "name": "stdout",
     "output_type": "stream",
     "text": [
      "Epoch 157: Train Loss=0.1583, Train Acc=96.46%, Test Acc=91.14%, Test F1=0.9109\n"
     ]
    },
    {
     "name": "stderr",
     "output_type": "stream",
     "text": [
      "Epoch 158: 100%|██████████| 350/350 [00:04<00:00, 82.53it/s, loss=0.02, acc=96.2]\n"
     ]
    },
    {
     "name": "stdout",
     "output_type": "stream",
     "text": [
      "Epoch 158: Train Loss=0.1525, Train Acc=96.21%, Test Acc=91.00%, Test F1=0.9096\n"
     ]
    },
    {
     "name": "stderr",
     "output_type": "stream",
     "text": [
      "Epoch 159: 100%|██████████| 350/350 [00:04<00:00, 80.08it/s, loss=0.00611, acc=96.7]\n"
     ]
    },
    {
     "name": "stdout",
     "output_type": "stream",
     "text": [
      "Epoch 159: Train Loss=0.1353, Train Acc=96.66%, Test Acc=90.57%, Test F1=0.9054\n"
     ]
    },
    {
     "name": "stderr",
     "output_type": "stream",
     "text": [
      "Epoch 160: 100%|██████████| 350/350 [00:04<00:00, 80.85it/s, loss=0.0037, acc=96.4]\n"
     ]
    },
    {
     "name": "stdout",
     "output_type": "stream",
     "text": [
      "Epoch 160: Train Loss=0.1546, Train Acc=96.43%, Test Acc=91.43%, Test F1=0.9141\n"
     ]
    },
    {
     "name": "stderr",
     "output_type": "stream",
     "text": [
      "Epoch 161: 100%|██████████| 350/350 [00:04<00:00, 80.91it/s, loss=0.00584, acc=96.2]\n"
     ]
    },
    {
     "name": "stdout",
     "output_type": "stream",
     "text": [
      "Epoch 161: Train Loss=0.1436, Train Acc=96.23%, Test Acc=91.43%, Test F1=0.9140\n"
     ]
    },
    {
     "name": "stderr",
     "output_type": "stream",
     "text": [
      "Epoch 162: 100%|██████████| 350/350 [00:04<00:00, 81.16it/s, loss=0.348, acc=96.2]\n"
     ]
    },
    {
     "name": "stdout",
     "output_type": "stream",
     "text": [
      "Epoch 162: Train Loss=0.1500, Train Acc=96.21%, Test Acc=91.21%, Test F1=0.9118\n"
     ]
    },
    {
     "name": "stderr",
     "output_type": "stream",
     "text": [
      "Epoch 163: 100%|██████████| 350/350 [00:04<00:00, 85.03it/s, loss=0.184, acc=96]\n"
     ]
    },
    {
     "name": "stdout",
     "output_type": "stream",
     "text": [
      "Epoch 163: Train Loss=0.1570, Train Acc=96.00%, Test Acc=91.00%, Test F1=0.9097\n"
     ]
    },
    {
     "name": "stderr",
     "output_type": "stream",
     "text": [
      "Epoch 164: 100%|██████████| 350/350 [00:04<00:00, 83.47it/s, loss=0.0162, acc=96.4]\n"
     ]
    },
    {
     "name": "stdout",
     "output_type": "stream",
     "text": [
      "Epoch 164: Train Loss=0.1566, Train Acc=96.36%, Test Acc=91.00%, Test F1=0.9097\n"
     ]
    },
    {
     "name": "stderr",
     "output_type": "stream",
     "text": [
      "Epoch 165: 100%|██████████| 350/350 [00:04<00:00, 81.43it/s, loss=0.331, acc=96.7]\n"
     ]
    },
    {
     "name": "stdout",
     "output_type": "stream",
     "text": [
      "Epoch 165: Train Loss=0.1262, Train Acc=96.68%, Test Acc=90.86%, Test F1=0.9080\n"
     ]
    },
    {
     "name": "stderr",
     "output_type": "stream",
     "text": [
      "Epoch 166: 100%|██████████| 350/350 [00:04<00:00, 80.68it/s, loss=0.00657, acc=96.6]\n"
     ]
    },
    {
     "name": "stdout",
     "output_type": "stream",
     "text": [
      "Epoch 166: Train Loss=0.1276, Train Acc=96.62%, Test Acc=90.93%, Test F1=0.9088\n"
     ]
    },
    {
     "name": "stderr",
     "output_type": "stream",
     "text": [
      "Epoch 167: 100%|██████████| 350/350 [00:04<00:00, 82.20it/s, loss=0.00868, acc=96.5]\n"
     ]
    },
    {
     "name": "stdout",
     "output_type": "stream",
     "text": [
      "Epoch 167: Train Loss=0.1414, Train Acc=96.52%, Test Acc=90.93%, Test F1=0.9090\n"
     ]
    },
    {
     "name": "stderr",
     "output_type": "stream",
     "text": [
      "Epoch 168: 100%|██████████| 350/350 [00:04<00:00, 82.51it/s, loss=0.00663, acc=96.4]\n"
     ]
    },
    {
     "name": "stdout",
     "output_type": "stream",
     "text": [
      "Epoch 168: Train Loss=0.1375, Train Acc=96.39%, Test Acc=91.36%, Test F1=0.9135\n"
     ]
    },
    {
     "name": "stderr",
     "output_type": "stream",
     "text": [
      "Epoch 169: 100%|██████████| 350/350 [00:04<00:00, 82.86it/s, loss=0.354, acc=96.7]\n"
     ]
    },
    {
     "name": "stdout",
     "output_type": "stream",
     "text": [
      "Epoch 169: Train Loss=0.1342, Train Acc=96.71%, Test Acc=91.64%, Test F1=0.9163\n"
     ]
    },
    {
     "name": "stderr",
     "output_type": "stream",
     "text": [
      "Epoch 170: 100%|██████████| 350/350 [00:04<00:00, 82.50it/s, loss=0.00453, acc=96.5]\n"
     ]
    },
    {
     "name": "stdout",
     "output_type": "stream",
     "text": [
      "Epoch 170: Train Loss=0.1372, Train Acc=96.52%, Test Acc=91.36%, Test F1=0.9132\n"
     ]
    },
    {
     "name": "stderr",
     "output_type": "stream",
     "text": [
      "Epoch 171: 100%|██████████| 350/350 [00:04<00:00, 81.63it/s, loss=0.00768, acc=96.1]\n"
     ]
    },
    {
     "name": "stdout",
     "output_type": "stream",
     "text": [
      "Epoch 171: Train Loss=0.1554, Train Acc=96.09%, Test Acc=91.00%, Test F1=0.9097\n"
     ]
    },
    {
     "name": "stderr",
     "output_type": "stream",
     "text": [
      "Epoch 172: 100%|██████████| 350/350 [00:04<00:00, 79.05it/s, loss=0.547, acc=97]\n"
     ]
    },
    {
     "name": "stdout",
     "output_type": "stream",
     "text": [
      "Epoch 172: Train Loss=0.1237, Train Acc=96.96%, Test Acc=91.07%, Test F1=0.9102\n"
     ]
    },
    {
     "name": "stderr",
     "output_type": "stream",
     "text": [
      "Epoch 173: 100%|██████████| 350/350 [00:04<00:00, 80.68it/s, loss=0.0138, acc=96.7]\n"
     ]
    },
    {
     "name": "stdout",
     "output_type": "stream",
     "text": [
      "Epoch 173: Train Loss=0.1349, Train Acc=96.70%, Test Acc=90.79%, Test F1=0.9074\n"
     ]
    },
    {
     "name": "stderr",
     "output_type": "stream",
     "text": [
      "Epoch 174: 100%|██████████| 350/350 [00:04<00:00, 82.00it/s, loss=0.349, acc=95.8]\n"
     ]
    },
    {
     "name": "stdout",
     "output_type": "stream",
     "text": [
      "Epoch 174: Train Loss=0.1780, Train Acc=95.77%, Test Acc=91.29%, Test F1=0.9126\n"
     ]
    },
    {
     "name": "stderr",
     "output_type": "stream",
     "text": [
      "Epoch 175: 100%|██████████| 350/350 [00:04<00:00, 83.26it/s, loss=0.00165, acc=95.9]\n"
     ]
    },
    {
     "name": "stdout",
     "output_type": "stream",
     "text": [
      "Epoch 175: Train Loss=0.1700, Train Acc=95.93%, Test Acc=91.07%, Test F1=0.9106\n"
     ]
    },
    {
     "name": "stderr",
     "output_type": "stream",
     "text": [
      "Epoch 176: 100%|██████████| 350/350 [00:04<00:00, 83.09it/s, loss=0.00427, acc=96.6]\n"
     ]
    },
    {
     "name": "stdout",
     "output_type": "stream",
     "text": [
      "Epoch 176: Train Loss=0.1314, Train Acc=96.62%, Test Acc=91.00%, Test F1=0.9098\n"
     ]
    },
    {
     "name": "stderr",
     "output_type": "stream",
     "text": [
      "Epoch 177: 100%|██████████| 350/350 [00:04<00:00, 82.00it/s, loss=0.0407, acc=96.6]\n"
     ]
    },
    {
     "name": "stdout",
     "output_type": "stream",
     "text": [
      "Epoch 177: Train Loss=0.1339, Train Acc=96.55%, Test Acc=91.07%, Test F1=0.9105\n"
     ]
    },
    {
     "name": "stderr",
     "output_type": "stream",
     "text": [
      "Epoch 178: 100%|██████████| 350/350 [00:04<00:00, 84.37it/s, loss=0.0375, acc=96.6]\n"
     ]
    },
    {
     "name": "stdout",
     "output_type": "stream",
     "text": [
      "Epoch 178: Train Loss=0.1348, Train Acc=96.62%, Test Acc=91.29%, Test F1=0.9127\n"
     ]
    },
    {
     "name": "stderr",
     "output_type": "stream",
     "text": [
      "Epoch 179: 100%|██████████| 350/350 [00:04<00:00, 82.93it/s, loss=0.00212, acc=96.1]\n"
     ]
    },
    {
     "name": "stdout",
     "output_type": "stream",
     "text": [
      "Epoch 179: Train Loss=0.1525, Train Acc=96.11%, Test Acc=91.07%, Test F1=0.9105\n"
     ]
    },
    {
     "name": "stderr",
     "output_type": "stream",
     "text": [
      "Epoch 180: 100%|██████████| 350/350 [00:04<00:00, 83.75it/s, loss=0.00199, acc=96.1]\n"
     ]
    },
    {
     "name": "stdout",
     "output_type": "stream",
     "text": [
      "Epoch 180: Train Loss=0.1528, Train Acc=96.05%, Test Acc=91.36%, Test F1=0.9132\n"
     ]
    },
    {
     "name": "stderr",
     "output_type": "stream",
     "text": [
      "Epoch 181: 100%|██████████| 350/350 [00:04<00:00, 81.96it/s, loss=0.00239, acc=96.4]\n"
     ]
    },
    {
     "name": "stdout",
     "output_type": "stream",
     "text": [
      "Epoch 181: Train Loss=0.1503, Train Acc=96.45%, Test Acc=91.71%, Test F1=0.9170\n"
     ]
    },
    {
     "name": "stderr",
     "output_type": "stream",
     "text": [
      "Epoch 182: 100%|██████████| 350/350 [00:04<00:00, 77.46it/s, loss=0.0917, acc=96.9]\n"
     ]
    },
    {
     "name": "stdout",
     "output_type": "stream",
     "text": [
      "Epoch 182: Train Loss=0.1183, Train Acc=96.93%, Test Acc=90.79%, Test F1=0.9074\n"
     ]
    },
    {
     "name": "stderr",
     "output_type": "stream",
     "text": [
      "Epoch 183: 100%|██████████| 350/350 [00:04<00:00, 74.95it/s, loss=0.00293, acc=95.9]\n"
     ]
    },
    {
     "name": "stdout",
     "output_type": "stream",
     "text": [
      "Epoch 183: Train Loss=0.1662, Train Acc=95.93%, Test Acc=90.57%, Test F1=0.9050\n"
     ]
    },
    {
     "name": "stderr",
     "output_type": "stream",
     "text": [
      "Epoch 184: 100%|██████████| 350/350 [00:04<00:00, 71.15it/s, loss=0.0141, acc=96.8]\n"
     ]
    },
    {
     "name": "stdout",
     "output_type": "stream",
     "text": [
      "Epoch 184: Train Loss=0.1336, Train Acc=96.75%, Test Acc=91.00%, Test F1=0.9096\n"
     ]
    },
    {
     "name": "stderr",
     "output_type": "stream",
     "text": [
      "Epoch 185: 100%|██████████| 350/350 [00:04<00:00, 80.53it/s, loss=0.188, acc=96.6]\n"
     ]
    },
    {
     "name": "stdout",
     "output_type": "stream",
     "text": [
      "Epoch 185: Train Loss=0.1408, Train Acc=96.55%, Test Acc=90.79%, Test F1=0.9073\n"
     ]
    },
    {
     "name": "stderr",
     "output_type": "stream",
     "text": [
      "Epoch 186: 100%|██████████| 350/350 [00:04<00:00, 83.50it/s, loss=0.896, acc=96.5]\n"
     ]
    },
    {
     "name": "stdout",
     "output_type": "stream",
     "text": [
      "Epoch 186: Train Loss=0.1518, Train Acc=96.54%, Test Acc=91.79%, Test F1=0.9176\n"
     ]
    },
    {
     "name": "stderr",
     "output_type": "stream",
     "text": [
      "Epoch 187: 100%|██████████| 350/350 [00:04<00:00, 81.95it/s, loss=0.23, acc=96]\n"
     ]
    },
    {
     "name": "stdout",
     "output_type": "stream",
     "text": [
      "Epoch 187: Train Loss=0.1586, Train Acc=96.04%, Test Acc=91.36%, Test F1=0.9133\n"
     ]
    },
    {
     "name": "stderr",
     "output_type": "stream",
     "text": [
      "Epoch 188: 100%|██████████| 350/350 [00:04<00:00, 84.98it/s, loss=0.219, acc=96.6]\n"
     ]
    },
    {
     "name": "stdout",
     "output_type": "stream",
     "text": [
      "Epoch 188: Train Loss=0.1383, Train Acc=96.62%, Test Acc=91.64%, Test F1=0.9161\n"
     ]
    },
    {
     "name": "stderr",
     "output_type": "stream",
     "text": [
      "Epoch 189: 100%|██████████| 350/350 [00:04<00:00, 85.22it/s, loss=0.00519, acc=96.7]\n"
     ]
    },
    {
     "name": "stdout",
     "output_type": "stream",
     "text": [
      "Epoch 189: Train Loss=0.1324, Train Acc=96.68%, Test Acc=91.21%, Test F1=0.9119\n"
     ]
    },
    {
     "name": "stderr",
     "output_type": "stream",
     "text": [
      "Epoch 190: 100%|██████████| 350/350 [00:04<00:00, 84.71it/s, loss=0.00554, acc=96.2]\n"
     ]
    },
    {
     "name": "stdout",
     "output_type": "stream",
     "text": [
      "Epoch 190: Train Loss=0.1619, Train Acc=96.18%, Test Acc=90.93%, Test F1=0.9087\n"
     ]
    },
    {
     "name": "stderr",
     "output_type": "stream",
     "text": [
      "Epoch 191: 100%|██████████| 350/350 [00:04<00:00, 84.25it/s, loss=0.00634, acc=96.6]\n"
     ]
    },
    {
     "name": "stdout",
     "output_type": "stream",
     "text": [
      "Epoch 191: Train Loss=0.1251, Train Acc=96.64%, Test Acc=91.29%, Test F1=0.9124\n"
     ]
    },
    {
     "name": "stderr",
     "output_type": "stream",
     "text": [
      "Epoch 192: 100%|██████████| 350/350 [00:03<00:00, 90.99it/s, loss=0.034, acc=96.9]\n"
     ]
    },
    {
     "name": "stdout",
     "output_type": "stream",
     "text": [
      "Epoch 192: Train Loss=0.1320, Train Acc=96.91%, Test Acc=91.36%, Test F1=0.9133\n"
     ]
    },
    {
     "name": "stderr",
     "output_type": "stream",
     "text": [
      "Epoch 193: 100%|██████████| 350/350 [00:03<00:00, 89.40it/s, loss=0.0079, acc=96.7]\n"
     ]
    },
    {
     "name": "stdout",
     "output_type": "stream",
     "text": [
      "Epoch 193: Train Loss=0.1266, Train Acc=96.71%, Test Acc=91.00%, Test F1=0.9097\n"
     ]
    },
    {
     "name": "stderr",
     "output_type": "stream",
     "text": [
      "Epoch 194: 100%|██████████| 350/350 [00:04<00:00, 86.92it/s, loss=1.26, acc=96.4]\n"
     ]
    },
    {
     "name": "stdout",
     "output_type": "stream",
     "text": [
      "Epoch 194: Train Loss=0.1683, Train Acc=96.36%, Test Acc=91.21%, Test F1=0.9120\n"
     ]
    },
    {
     "name": "stderr",
     "output_type": "stream",
     "text": [
      "Epoch 195: 100%|██████████| 350/350 [00:03<00:00, 94.72it/s, loss=0.00193, acc=96.3] \n"
     ]
    },
    {
     "name": "stdout",
     "output_type": "stream",
     "text": [
      "Epoch 195: Train Loss=0.1447, Train Acc=96.32%, Test Acc=91.14%, Test F1=0.9111\n"
     ]
    },
    {
     "name": "stderr",
     "output_type": "stream",
     "text": [
      "Epoch 196: 100%|██████████| 350/350 [00:03<00:00, 95.96it/s, loss=0.00788, acc=96.7]\n"
     ]
    },
    {
     "name": "stdout",
     "output_type": "stream",
     "text": [
      "Epoch 196: Train Loss=0.1273, Train Acc=96.66%, Test Acc=91.64%, Test F1=0.9163\n"
     ]
    },
    {
     "name": "stderr",
     "output_type": "stream",
     "text": [
      "Epoch 197: 100%|██████████| 350/350 [00:03<00:00, 98.29it/s, loss=0.0869, acc=96.4] \n"
     ]
    },
    {
     "name": "stdout",
     "output_type": "stream",
     "text": [
      "Epoch 197: Train Loss=0.1470, Train Acc=96.36%, Test Acc=90.43%, Test F1=0.9041\n"
     ]
    },
    {
     "name": "stderr",
     "output_type": "stream",
     "text": [
      "Epoch 198: 100%|██████████| 350/350 [00:03<00:00, 96.86it/s, loss=0.0256, acc=96.4] \n"
     ]
    },
    {
     "name": "stdout",
     "output_type": "stream",
     "text": [
      "Epoch 198: Train Loss=0.1442, Train Acc=96.41%, Test Acc=91.29%, Test F1=0.9127\n"
     ]
    },
    {
     "name": "stderr",
     "output_type": "stream",
     "text": [
      "Epoch 199: 100%|██████████| 350/350 [00:03<00:00, 98.33it/s, loss=0.795, acc=96.2]\n"
     ]
    },
    {
     "name": "stdout",
     "output_type": "stream",
     "text": [
      "Epoch 199: Train Loss=0.1565, Train Acc=96.23%, Test Acc=90.71%, Test F1=0.9068\n",
      "Early stopping at epoch 199\n",
      "\n",
      "Training Summary:\n",
      "  Best Model: Epoch 149, Acc=91.86%, F1=0.9184\n",
      "  Highest: Epoch 149, Acc=91.86%, F1=0.9184\n",
      "Model doesn't have feature gating mechanism\n",
      "\n",
      "Final Results:\n",
      "  Best: Acc=90.71%, F1=0.9068\n",
      "  Highest: Acc=91.86%, F1=0.9184\n",
      "\n",
      "Classification Report:\n",
      "              precision    recall  f1-score   support\n",
      "\n",
      "       ANGRY       0.90      0.82      0.86       200\n",
      "     DISGUST       0.94      0.89      0.91       200\n",
      "        FEAR       0.93      0.94      0.94       200\n",
      "       HAPPY       0.90      0.90      0.90       200\n",
      "     NEUTRAL       0.86      0.93      0.89       200\n",
      "         SAD       0.90      0.93      0.91       200\n",
      "    SURPRISE       0.93      0.95      0.94       200\n",
      "\n",
      "    accuracy                           0.91      1400\n",
      "   macro avg       0.91      0.91      0.91      1400\n",
      "weighted avg       0.91      0.91      0.91      1400\n",
      "\n",
      "\n",
      "============================================================\n",
      "Experiment: Mel-Spectrogram\n",
      "============================================================\n",
      "Features shape: (7000, 3, 128, 94)\n",
      "Architecture: CNN+LSTM (temporal structure)\n",
      "Split: Train=5600, Test=1400\n",
      "Model parameters: 6,920,712\n",
      "\n",
      "Training Configuration:\n",
      "  Architecture: CNN+LSTM\n",
      "  Learning Rate: 0.0005\n",
      "  Batch Size: 16\n",
      "  Description: CNN+LSTM for temporal mel-spectrograms\n"
     ]
    },
    {
     "name": "stderr",
     "output_type": "stream",
     "text": [
      "Epoch 1: 100%|██████████| 350/350 [00:15<00:00, 22.45it/s, loss=2.16, acc=20.3]\n"
     ]
    },
    {
     "name": "stdout",
     "output_type": "stream",
     "text": [
      "Epoch 1: Train Loss=2.2029, Train Acc=20.34%, Test Acc=27.86%, Test F1=0.1669\n"
     ]
    },
    {
     "name": "stderr",
     "output_type": "stream",
     "text": [
      "Epoch 2: 100%|██████████| 350/350 [00:14<00:00, 24.45it/s, loss=1.81, acc=26.2]\n"
     ]
    },
    {
     "name": "stdout",
     "output_type": "stream",
     "text": [
      "Epoch 2: Train Loss=1.8790, Train Acc=26.16%, Test Acc=32.36%, Test F1=0.2326\n"
     ]
    },
    {
     "name": "stderr",
     "output_type": "stream",
     "text": [
      "Epoch 3: 100%|██████████| 350/350 [00:14<00:00, 24.50it/s, loss=1.42, acc=29.4]\n"
     ]
    },
    {
     "name": "stdout",
     "output_type": "stream",
     "text": [
      "Epoch 3: Train Loss=1.7015, Train Acc=29.41%, Test Acc=37.50%, Test F1=0.2843\n"
     ]
    },
    {
     "name": "stderr",
     "output_type": "stream",
     "text": [
      "Epoch 4: 100%|██████████| 350/350 [00:14<00:00, 24.65it/s, loss=1.59, acc=37.8]\n"
     ]
    },
    {
     "name": "stdout",
     "output_type": "stream",
     "text": [
      "Epoch 4: Train Loss=1.5126, Train Acc=37.75%, Test Acc=44.07%, Test F1=0.3726\n"
     ]
    },
    {
     "name": "stderr",
     "output_type": "stream",
     "text": [
      "Epoch 5: 100%|██████████| 350/350 [00:14<00:00, 24.55it/s, loss=1.6, acc=46]\n"
     ]
    },
    {
     "name": "stdout",
     "output_type": "stream",
     "text": [
      "Epoch 5: Train Loss=1.3358, Train Acc=46.02%, Test Acc=55.14%, Test F1=0.5224\n"
     ]
    },
    {
     "name": "stderr",
     "output_type": "stream",
     "text": [
      "Epoch 6: 100%|██████████| 350/350 [00:14<00:00, 24.55it/s, loss=0.971, acc=54]\n"
     ]
    },
    {
     "name": "stdout",
     "output_type": "stream",
     "text": [
      "Epoch 6: Train Loss=1.1733, Train Acc=53.98%, Test Acc=58.71%, Test F1=0.5697\n"
     ]
    },
    {
     "name": "stderr",
     "output_type": "stream",
     "text": [
      "Epoch 7: 100%|██████████| 350/350 [00:14<00:00, 24.54it/s, loss=0.996, acc=58.9]\n"
     ]
    },
    {
     "name": "stdout",
     "output_type": "stream",
     "text": [
      "Epoch 7: Train Loss=1.0583, Train Acc=58.89%, Test Acc=64.00%, Test F1=0.6239\n"
     ]
    },
    {
     "name": "stderr",
     "output_type": "stream",
     "text": [
      "Epoch 8: 100%|██████████| 350/350 [00:14<00:00, 24.52it/s, loss=1.14, acc=63.5]\n"
     ]
    },
    {
     "name": "stdout",
     "output_type": "stream",
     "text": [
      "Epoch 8: Train Loss=0.9567, Train Acc=63.52%, Test Acc=61.43%, Test F1=0.6092\n"
     ]
    },
    {
     "name": "stderr",
     "output_type": "stream",
     "text": [
      "Epoch 9: 100%|██████████| 350/350 [00:14<00:00, 24.54it/s, loss=0.868, acc=66.3]\n"
     ]
    },
    {
     "name": "stdout",
     "output_type": "stream",
     "text": [
      "Epoch 9: Train Loss=0.8902, Train Acc=66.30%, Test Acc=69.36%, Test F1=0.6842\n"
     ]
    },
    {
     "name": "stderr",
     "output_type": "stream",
     "text": [
      "Epoch 10: 100%|██████████| 350/350 [00:14<00:00, 24.52it/s, loss=0.613, acc=69.8]\n"
     ]
    },
    {
     "name": "stdout",
     "output_type": "stream",
     "text": [
      "Epoch 10: Train Loss=0.8217, Train Acc=69.84%, Test Acc=71.36%, Test F1=0.7050\n"
     ]
    },
    {
     "name": "stderr",
     "output_type": "stream",
     "text": [
      "Epoch 11: 100%|██████████| 350/350 [00:14<00:00, 24.48it/s, loss=0.366, acc=73]\n"
     ]
    },
    {
     "name": "stdout",
     "output_type": "stream",
     "text": [
      "Epoch 11: Train Loss=0.7454, Train Acc=73.04%, Test Acc=74.64%, Test F1=0.7385\n"
     ]
    },
    {
     "name": "stderr",
     "output_type": "stream",
     "text": [
      "Epoch 12: 100%|██████████| 350/350 [00:14<00:00, 24.51it/s, loss=0.388, acc=74.7]\n"
     ]
    },
    {
     "name": "stdout",
     "output_type": "stream",
     "text": [
      "Epoch 12: Train Loss=0.6919, Train Acc=74.68%, Test Acc=77.00%, Test F1=0.7668\n"
     ]
    },
    {
     "name": "stderr",
     "output_type": "stream",
     "text": [
      "Epoch 13: 100%|██████████| 350/350 [00:14<00:00, 24.57it/s, loss=0.87, acc=78]\n"
     ]
    },
    {
     "name": "stdout",
     "output_type": "stream",
     "text": [
      "Epoch 13: Train Loss=0.6277, Train Acc=78.02%, Test Acc=75.57%, Test F1=0.7488\n"
     ]
    },
    {
     "name": "stderr",
     "output_type": "stream",
     "text": [
      "Epoch 14: 100%|██████████| 350/350 [00:14<00:00, 24.53it/s, loss=0.516, acc=80.5]\n"
     ]
    },
    {
     "name": "stdout",
     "output_type": "stream",
     "text": [
      "Epoch 14: Train Loss=0.5559, Train Acc=80.50%, Test Acc=73.07%, Test F1=0.7278\n"
     ]
    },
    {
     "name": "stderr",
     "output_type": "stream",
     "text": [
      "Epoch 15: 100%|██████████| 350/350 [00:14<00:00, 24.48it/s, loss=1.09, acc=81.2]\n"
     ]
    },
    {
     "name": "stdout",
     "output_type": "stream",
     "text": [
      "Epoch 15: Train Loss=0.5346, Train Acc=81.23%, Test Acc=77.57%, Test F1=0.7718\n"
     ]
    },
    {
     "name": "stderr",
     "output_type": "stream",
     "text": [
      "Epoch 16: 100%|██████████| 350/350 [00:14<00:00, 24.50it/s, loss=0.901, acc=83.8]\n"
     ]
    },
    {
     "name": "stdout",
     "output_type": "stream",
     "text": [
      "Epoch 16: Train Loss=0.4731, Train Acc=83.75%, Test Acc=80.79%, Test F1=0.8083\n"
     ]
    },
    {
     "name": "stderr",
     "output_type": "stream",
     "text": [
      "Epoch 17: 100%|██████████| 350/350 [00:14<00:00, 24.52it/s, loss=0.354, acc=86.2]\n"
     ]
    },
    {
     "name": "stdout",
     "output_type": "stream",
     "text": [
      "Epoch 17: Train Loss=0.4266, Train Acc=86.25%, Test Acc=79.07%, Test F1=0.7824\n"
     ]
    },
    {
     "name": "stderr",
     "output_type": "stream",
     "text": [
      "Epoch 18: 100%|██████████| 350/350 [00:14<00:00, 24.60it/s, loss=0.703, acc=86.8]\n"
     ]
    },
    {
     "name": "stdout",
     "output_type": "stream",
     "text": [
      "Epoch 18: Train Loss=0.3978, Train Acc=86.79%, Test Acc=79.29%, Test F1=0.7951\n"
     ]
    },
    {
     "name": "stderr",
     "output_type": "stream",
     "text": [
      "Epoch 19: 100%|██████████| 350/350 [00:14<00:00, 24.51it/s, loss=0.448, acc=88.6]\n"
     ]
    },
    {
     "name": "stdout",
     "output_type": "stream",
     "text": [
      "Epoch 19: Train Loss=0.3537, Train Acc=88.62%, Test Acc=81.07%, Test F1=0.8089\n"
     ]
    },
    {
     "name": "stderr",
     "output_type": "stream",
     "text": [
      "Epoch 20: 100%|██████████| 350/350 [00:14<00:00, 24.49it/s, loss=0.211, acc=89]\n"
     ]
    },
    {
     "name": "stdout",
     "output_type": "stream",
     "text": [
      "Epoch 20: Train Loss=0.3469, Train Acc=89.00%, Test Acc=81.86%, Test F1=0.8180\n"
     ]
    },
    {
     "name": "stderr",
     "output_type": "stream",
     "text": [
      "Epoch 21: 100%|██████████| 350/350 [00:14<00:00, 24.74it/s, loss=0.193, acc=90.3]\n"
     ]
    },
    {
     "name": "stdout",
     "output_type": "stream",
     "text": [
      "Epoch 21: Train Loss=0.3004, Train Acc=90.32%, Test Acc=82.14%, Test F1=0.8191\n"
     ]
    },
    {
     "name": "stderr",
     "output_type": "stream",
     "text": [
      "Epoch 22: 100%|██████████| 350/350 [00:14<00:00, 24.52it/s, loss=0.221, acc=91.5]\n"
     ]
    },
    {
     "name": "stdout",
     "output_type": "stream",
     "text": [
      "Epoch 22: Train Loss=0.2851, Train Acc=91.50%, Test Acc=82.00%, Test F1=0.8188\n"
     ]
    },
    {
     "name": "stderr",
     "output_type": "stream",
     "text": [
      "Epoch 23: 100%|██████████| 350/350 [00:14<00:00, 24.44it/s, loss=0.674, acc=91.7]\n"
     ]
    },
    {
     "name": "stdout",
     "output_type": "stream",
     "text": [
      "Epoch 23: Train Loss=0.2816, Train Acc=91.66%, Test Acc=81.43%, Test F1=0.8126\n"
     ]
    },
    {
     "name": "stderr",
     "output_type": "stream",
     "text": [
      "Epoch 24: 100%|██████████| 350/350 [00:14<00:00, 24.42it/s, loss=0.595, acc=93.2]\n"
     ]
    },
    {
     "name": "stdout",
     "output_type": "stream",
     "text": [
      "Epoch 24: Train Loss=0.2326, Train Acc=93.20%, Test Acc=86.43%, Test F1=0.8641\n"
     ]
    },
    {
     "name": "stderr",
     "output_type": "stream",
     "text": [
      "Epoch 25: 100%|██████████| 350/350 [00:14<00:00, 24.49it/s, loss=0.0221, acc=93.8]\n"
     ]
    },
    {
     "name": "stdout",
     "output_type": "stream",
     "text": [
      "Epoch 25: Train Loss=0.2196, Train Acc=93.75%, Test Acc=85.79%, Test F1=0.8568\n"
     ]
    },
    {
     "name": "stderr",
     "output_type": "stream",
     "text": [
      "Epoch 26: 100%|██████████| 350/350 [00:14<00:00, 24.47it/s, loss=0.0542, acc=93.9]\n"
     ]
    },
    {
     "name": "stdout",
     "output_type": "stream",
     "text": [
      "Epoch 26: Train Loss=0.2102, Train Acc=93.93%, Test Acc=86.43%, Test F1=0.8668\n"
     ]
    },
    {
     "name": "stderr",
     "output_type": "stream",
     "text": [
      "Epoch 27: 100%|██████████| 350/350 [00:14<00:00, 24.50it/s, loss=0.0354, acc=94.8]\n"
     ]
    },
    {
     "name": "stdout",
     "output_type": "stream",
     "text": [
      "Epoch 27: Train Loss=0.1846, Train Acc=94.82%, Test Acc=87.36%, Test F1=0.8732\n"
     ]
    },
    {
     "name": "stderr",
     "output_type": "stream",
     "text": [
      "Epoch 28: 100%|██████████| 350/350 [00:14<00:00, 24.52it/s, loss=0.0582, acc=94.8]\n"
     ]
    },
    {
     "name": "stdout",
     "output_type": "stream",
     "text": [
      "Epoch 28: Train Loss=0.1809, Train Acc=94.77%, Test Acc=85.71%, Test F1=0.8582\n"
     ]
    },
    {
     "name": "stderr",
     "output_type": "stream",
     "text": [
      "Epoch 29: 100%|██████████| 350/350 [00:14<00:00, 24.49it/s, loss=0.0511, acc=95.3]\n"
     ]
    },
    {
     "name": "stdout",
     "output_type": "stream",
     "text": [
      "Epoch 29: Train Loss=0.1745, Train Acc=95.30%, Test Acc=85.00%, Test F1=0.8495\n"
     ]
    },
    {
     "name": "stderr",
     "output_type": "stream",
     "text": [
      "Epoch 30: 100%|██████████| 350/350 [00:14<00:00, 24.62it/s, loss=0.00613, acc=95.8]\n"
     ]
    },
    {
     "name": "stdout",
     "output_type": "stream",
     "text": [
      "Epoch 30: Train Loss=0.1569, Train Acc=95.77%, Test Acc=87.14%, Test F1=0.8713\n"
     ]
    },
    {
     "name": "stderr",
     "output_type": "stream",
     "text": [
      "Epoch 31: 100%|██████████| 350/350 [00:14<00:00, 24.49it/s, loss=0.0161, acc=95.3]\n"
     ]
    },
    {
     "name": "stdout",
     "output_type": "stream",
     "text": [
      "Epoch 31: Train Loss=0.1771, Train Acc=95.30%, Test Acc=86.36%, Test F1=0.8641\n"
     ]
    },
    {
     "name": "stderr",
     "output_type": "stream",
     "text": [
      "Epoch 32: 100%|██████████| 350/350 [00:14<00:00, 24.46it/s, loss=0.452, acc=95.8]\n"
     ]
    },
    {
     "name": "stdout",
     "output_type": "stream",
     "text": [
      "Epoch 32: Train Loss=0.1666, Train Acc=95.75%, Test Acc=85.43%, Test F1=0.8535\n"
     ]
    },
    {
     "name": "stderr",
     "output_type": "stream",
     "text": [
      "Epoch 33: 100%|██████████| 350/350 [00:14<00:00, 24.59it/s, loss=0.152, acc=96.5]\n"
     ]
    },
    {
     "name": "stdout",
     "output_type": "stream",
     "text": [
      "Epoch 33: Train Loss=0.1447, Train Acc=96.48%, Test Acc=85.43%, Test F1=0.8555\n"
     ]
    },
    {
     "name": "stderr",
     "output_type": "stream",
     "text": [
      "Epoch 34: 100%|██████████| 350/350 [00:14<00:00, 24.57it/s, loss=0.0338, acc=96.1]\n"
     ]
    },
    {
     "name": "stdout",
     "output_type": "stream",
     "text": [
      "Epoch 34: Train Loss=0.1633, Train Acc=96.12%, Test Acc=85.50%, Test F1=0.8569\n"
     ]
    },
    {
     "name": "stderr",
     "output_type": "stream",
     "text": [
      "Epoch 35: 100%|██████████| 350/350 [00:14<00:00, 24.54it/s, loss=0.00286, acc=97.1]\n"
     ]
    },
    {
     "name": "stdout",
     "output_type": "stream",
     "text": [
      "Epoch 35: Train Loss=0.1233, Train Acc=97.05%, Test Acc=88.14%, Test F1=0.8802\n"
     ]
    },
    {
     "name": "stderr",
     "output_type": "stream",
     "text": [
      "Epoch 36: 100%|██████████| 350/350 [00:14<00:00, 24.58it/s, loss=0.621, acc=96.4]\n"
     ]
    },
    {
     "name": "stdout",
     "output_type": "stream",
     "text": [
      "Epoch 36: Train Loss=0.1253, Train Acc=96.43%, Test Acc=83.29%, Test F1=0.8330\n"
     ]
    },
    {
     "name": "stderr",
     "output_type": "stream",
     "text": [
      "Epoch 37: 100%|██████████| 350/350 [00:14<00:00, 24.57it/s, loss=0.186, acc=96.8]\n"
     ]
    },
    {
     "name": "stdout",
     "output_type": "stream",
     "text": [
      "Epoch 37: Train Loss=0.1210, Train Acc=96.79%, Test Acc=89.64%, Test F1=0.8959\n"
     ]
    },
    {
     "name": "stderr",
     "output_type": "stream",
     "text": [
      "Epoch 38: 100%|██████████| 350/350 [00:14<00:00, 24.48it/s, loss=0.0106, acc=97.5]\n"
     ]
    },
    {
     "name": "stdout",
     "output_type": "stream",
     "text": [
      "Epoch 38: Train Loss=0.1098, Train Acc=97.46%, Test Acc=85.43%, Test F1=0.8535\n"
     ]
    },
    {
     "name": "stderr",
     "output_type": "stream",
     "text": [
      "Epoch 39: 100%|██████████| 350/350 [00:14<00:00, 24.50it/s, loss=0.0726, acc=97.1]\n"
     ]
    },
    {
     "name": "stdout",
     "output_type": "stream",
     "text": [
      "Epoch 39: Train Loss=0.1133, Train Acc=97.11%, Test Acc=88.07%, Test F1=0.8804\n"
     ]
    },
    {
     "name": "stderr",
     "output_type": "stream",
     "text": [
      "Epoch 40: 100%|██████████| 350/350 [00:14<00:00, 24.52it/s, loss=0.00218, acc=97.2]\n"
     ]
    },
    {
     "name": "stdout",
     "output_type": "stream",
     "text": [
      "Epoch 40: Train Loss=0.1135, Train Acc=97.18%, Test Acc=88.29%, Test F1=0.8823\n"
     ]
    },
    {
     "name": "stderr",
     "output_type": "stream",
     "text": [
      "Epoch 41: 100%|██████████| 350/350 [00:14<00:00, 24.54it/s, loss=0.00179, acc=97.6]\n"
     ]
    },
    {
     "name": "stdout",
     "output_type": "stream",
     "text": [
      "Epoch 41: Train Loss=0.1074, Train Acc=97.59%, Test Acc=87.43%, Test F1=0.8755\n"
     ]
    },
    {
     "name": "stderr",
     "output_type": "stream",
     "text": [
      "Epoch 42: 100%|██████████| 350/350 [00:14<00:00, 24.64it/s, loss=0.00132, acc=97.5]\n"
     ]
    },
    {
     "name": "stdout",
     "output_type": "stream",
     "text": [
      "Epoch 42: Train Loss=0.1031, Train Acc=97.54%, Test Acc=89.79%, Test F1=0.8971\n"
     ]
    },
    {
     "name": "stderr",
     "output_type": "stream",
     "text": [
      "Epoch 43: 100%|██████████| 350/350 [00:14<00:00, 24.59it/s, loss=0.157, acc=97.2]\n"
     ]
    },
    {
     "name": "stdout",
     "output_type": "stream",
     "text": [
      "Epoch 43: Train Loss=0.1171, Train Acc=97.16%, Test Acc=87.36%, Test F1=0.8703\n"
     ]
    },
    {
     "name": "stderr",
     "output_type": "stream",
     "text": [
      "Epoch 44: 100%|██████████| 350/350 [00:14<00:00, 24.62it/s, loss=0.503, acc=96.9]\n"
     ]
    },
    {
     "name": "stdout",
     "output_type": "stream",
     "text": [
      "Epoch 44: Train Loss=0.1301, Train Acc=96.91%, Test Acc=88.64%, Test F1=0.8854\n"
     ]
    },
    {
     "name": "stderr",
     "output_type": "stream",
     "text": [
      "Epoch 45: 100%|██████████| 350/350 [00:14<00:00, 24.61it/s, loss=0.000843, acc=97.8]\n"
     ]
    },
    {
     "name": "stdout",
     "output_type": "stream",
     "text": [
      "Epoch 45: Train Loss=0.1011, Train Acc=97.84%, Test Acc=87.86%, Test F1=0.8781\n"
     ]
    },
    {
     "name": "stderr",
     "output_type": "stream",
     "text": [
      "Epoch 46: 100%|██████████| 350/350 [00:14<00:00, 24.62it/s, loss=0.395, acc=97.7]\n"
     ]
    },
    {
     "name": "stdout",
     "output_type": "stream",
     "text": [
      "Epoch 46: Train Loss=0.1098, Train Acc=97.66%, Test Acc=89.79%, Test F1=0.8969\n"
     ]
    },
    {
     "name": "stderr",
     "output_type": "stream",
     "text": [
      "Epoch 47: 100%|██████████| 350/350 [00:14<00:00, 24.71it/s, loss=0.00419, acc=97.8]\n"
     ]
    },
    {
     "name": "stdout",
     "output_type": "stream",
     "text": [
      "Epoch 47: Train Loss=0.0969, Train Acc=97.82%, Test Acc=90.71%, Test F1=0.9069\n"
     ]
    },
    {
     "name": "stderr",
     "output_type": "stream",
     "text": [
      "Epoch 48: 100%|██████████| 350/350 [00:14<00:00, 24.58it/s, loss=0.00187, acc=97.7]\n"
     ]
    },
    {
     "name": "stdout",
     "output_type": "stream",
     "text": [
      "Epoch 48: Train Loss=0.1038, Train Acc=97.71%, Test Acc=89.64%, Test F1=0.8972\n"
     ]
    },
    {
     "name": "stderr",
     "output_type": "stream",
     "text": [
      "Epoch 49: 100%|██████████| 350/350 [00:14<00:00, 24.62it/s, loss=0.0183, acc=98.3]\n"
     ]
    },
    {
     "name": "stdout",
     "output_type": "stream",
     "text": [
      "Epoch 49: Train Loss=0.0773, Train Acc=98.29%, Test Acc=90.71%, Test F1=0.9072\n"
     ]
    },
    {
     "name": "stderr",
     "output_type": "stream",
     "text": [
      "Epoch 50: 100%|██████████| 350/350 [00:14<00:00, 24.61it/s, loss=0.389, acc=98]\n"
     ]
    },
    {
     "name": "stdout",
     "output_type": "stream",
     "text": [
      "Epoch 50: Train Loss=0.0918, Train Acc=98.02%, Test Acc=90.14%, Test F1=0.9014\n"
     ]
    },
    {
     "name": "stderr",
     "output_type": "stream",
     "text": [
      "Epoch 51: 100%|██████████| 350/350 [00:14<00:00, 24.60it/s, loss=0.00254, acc=97.7]\n"
     ]
    },
    {
     "name": "stdout",
     "output_type": "stream",
     "text": [
      "Epoch 51: Train Loss=0.1016, Train Acc=97.68%, Test Acc=88.71%, Test F1=0.8876\n"
     ]
    },
    {
     "name": "stderr",
     "output_type": "stream",
     "text": [
      "Epoch 52: 100%|██████████| 350/350 [00:14<00:00, 24.59it/s, loss=0.00034, acc=98.3]\n"
     ]
    },
    {
     "name": "stdout",
     "output_type": "stream",
     "text": [
      "Epoch 52: Train Loss=0.0729, Train Acc=98.34%, Test Acc=90.29%, Test F1=0.9024\n"
     ]
    },
    {
     "name": "stderr",
     "output_type": "stream",
     "text": [
      "Epoch 53: 100%|██████████| 350/350 [00:14<00:00, 24.63it/s, loss=0.00145, acc=97.9]\n"
     ]
    },
    {
     "name": "stdout",
     "output_type": "stream",
     "text": [
      "Epoch 53: Train Loss=0.0880, Train Acc=97.91%, Test Acc=89.57%, Test F1=0.8956\n"
     ]
    },
    {
     "name": "stderr",
     "output_type": "stream",
     "text": [
      "Epoch 54: 100%|██████████| 350/350 [00:14<00:00, 24.62it/s, loss=0.354, acc=98.2]\n"
     ]
    },
    {
     "name": "stdout",
     "output_type": "stream",
     "text": [
      "Epoch 54: Train Loss=0.0821, Train Acc=98.18%, Test Acc=88.36%, Test F1=0.8824\n"
     ]
    },
    {
     "name": "stderr",
     "output_type": "stream",
     "text": [
      "Epoch 55: 100%|██████████| 350/350 [00:14<00:00, 24.60it/s, loss=0.0203, acc=98.4]\n"
     ]
    },
    {
     "name": "stdout",
     "output_type": "stream",
     "text": [
      "Epoch 55: Train Loss=0.0741, Train Acc=98.45%, Test Acc=91.71%, Test F1=0.9171\n"
     ]
    },
    {
     "name": "stderr",
     "output_type": "stream",
     "text": [
      "Epoch 56: 100%|██████████| 350/350 [00:14<00:00, 24.66it/s, loss=0.0605, acc=98.3]\n"
     ]
    },
    {
     "name": "stdout",
     "output_type": "stream",
     "text": [
      "Epoch 56: Train Loss=0.0826, Train Acc=98.32%, Test Acc=87.71%, Test F1=0.8782\n"
     ]
    },
    {
     "name": "stderr",
     "output_type": "stream",
     "text": [
      "Epoch 57: 100%|██████████| 350/350 [00:14<00:00, 24.59it/s, loss=0.112, acc=98.2]\n"
     ]
    },
    {
     "name": "stdout",
     "output_type": "stream",
     "text": [
      "Epoch 57: Train Loss=0.0765, Train Acc=98.20%, Test Acc=89.50%, Test F1=0.8936\n"
     ]
    },
    {
     "name": "stderr",
     "output_type": "stream",
     "text": [
      "Epoch 58: 100%|██████████| 350/350 [00:14<00:00, 24.60it/s, loss=0.109, acc=98.8]\n"
     ]
    },
    {
     "name": "stdout",
     "output_type": "stream",
     "text": [
      "Epoch 58: Train Loss=0.0569, Train Acc=98.80%, Test Acc=89.36%, Test F1=0.8936\n"
     ]
    },
    {
     "name": "stderr",
     "output_type": "stream",
     "text": [
      "Epoch 59: 100%|██████████| 350/350 [00:14<00:00, 24.61it/s, loss=0.000777, acc=98.3]\n"
     ]
    },
    {
     "name": "stdout",
     "output_type": "stream",
     "text": [
      "Epoch 59: Train Loss=0.0869, Train Acc=98.34%, Test Acc=87.79%, Test F1=0.8782\n"
     ]
    },
    {
     "name": "stderr",
     "output_type": "stream",
     "text": [
      "Epoch 60: 100%|██████████| 350/350 [00:14<00:00, 24.55it/s, loss=0.00342, acc=98.6]\n"
     ]
    },
    {
     "name": "stdout",
     "output_type": "stream",
     "text": [
      "Epoch 60: Train Loss=0.0744, Train Acc=98.55%, Test Acc=90.43%, Test F1=0.9039\n"
     ]
    },
    {
     "name": "stderr",
     "output_type": "stream",
     "text": [
      "Epoch 61: 100%|██████████| 350/350 [00:14<00:00, 24.57it/s, loss=0.261, acc=98.5]\n"
     ]
    },
    {
     "name": "stdout",
     "output_type": "stream",
     "text": [
      "Epoch 61: Train Loss=0.0654, Train Acc=98.48%, Test Acc=88.86%, Test F1=0.8877\n"
     ]
    },
    {
     "name": "stderr",
     "output_type": "stream",
     "text": [
      "Epoch 62: 100%|██████████| 350/350 [00:14<00:00, 24.59it/s, loss=0.000387, acc=98.4]\n"
     ]
    },
    {
     "name": "stdout",
     "output_type": "stream",
     "text": [
      "Epoch 62: Train Loss=0.0753, Train Acc=98.45%, Test Acc=89.79%, Test F1=0.8981\n"
     ]
    },
    {
     "name": "stderr",
     "output_type": "stream",
     "text": [
      "Epoch 63: 100%|██████████| 350/350 [00:14<00:00, 24.57it/s, loss=0.183, acc=98.4]\n"
     ]
    },
    {
     "name": "stdout",
     "output_type": "stream",
     "text": [
      "Epoch 63: Train Loss=0.0802, Train Acc=98.43%, Test Acc=87.00%, Test F1=0.8706\n"
     ]
    },
    {
     "name": "stderr",
     "output_type": "stream",
     "text": [
      "Epoch 64: 100%|██████████| 350/350 [00:14<00:00, 24.70it/s, loss=0.55, acc=99.2]\n"
     ]
    },
    {
     "name": "stdout",
     "output_type": "stream",
     "text": [
      "Epoch 64: Train Loss=0.0392, Train Acc=99.16%, Test Acc=90.93%, Test F1=0.9097\n"
     ]
    },
    {
     "name": "stderr",
     "output_type": "stream",
     "text": [
      "Epoch 65: 100%|██████████| 350/350 [00:14<00:00, 24.67it/s, loss=0.000231, acc=99.9]\n"
     ]
    },
    {
     "name": "stdout",
     "output_type": "stream",
     "text": [
      "Epoch 65: Train Loss=0.0030, Train Acc=99.95%, Test Acc=92.07%, Test F1=0.9209\n"
     ]
    },
    {
     "name": "stderr",
     "output_type": "stream",
     "text": [
      "Epoch 66: 100%|██████████| 350/350 [00:14<00:00, 24.55it/s, loss=0.00051, acc=99.8]\n"
     ]
    },
    {
     "name": "stdout",
     "output_type": "stream",
     "text": [
      "Epoch 66: Train Loss=0.0119, Train Acc=99.79%, Test Acc=91.50%, Test F1=0.9153\n"
     ]
    },
    {
     "name": "stderr",
     "output_type": "stream",
     "text": [
      "Epoch 67: 100%|██████████| 350/350 [00:14<00:00, 24.55it/s, loss=0.000433, acc=99.9]\n"
     ]
    },
    {
     "name": "stdout",
     "output_type": "stream",
     "text": [
      "Epoch 67: Train Loss=0.0066, Train Acc=99.86%, Test Acc=92.43%, Test F1=0.9241\n"
     ]
    },
    {
     "name": "stderr",
     "output_type": "stream",
     "text": [
      "Epoch 68: 100%|██████████| 350/350 [00:14<00:00, 24.58it/s, loss=0.00196, acc=99.7]\n"
     ]
    },
    {
     "name": "stdout",
     "output_type": "stream",
     "text": [
      "Epoch 68: Train Loss=0.0111, Train Acc=99.71%, Test Acc=91.64%, Test F1=0.9164\n"
     ]
    },
    {
     "name": "stderr",
     "output_type": "stream",
     "text": [
      "Epoch 69: 100%|██████████| 350/350 [00:14<00:00, 24.60it/s, loss=0.000128, acc=99.8]\n"
     ]
    },
    {
     "name": "stdout",
     "output_type": "stream",
     "text": [
      "Epoch 69: Train Loss=0.0139, Train Acc=99.77%, Test Acc=92.21%, Test F1=0.9217\n"
     ]
    },
    {
     "name": "stderr",
     "output_type": "stream",
     "text": [
      "Epoch 70: 100%|██████████| 350/350 [00:14<00:00, 24.57it/s, loss=0.000136, acc=99.7]\n"
     ]
    },
    {
     "name": "stdout",
     "output_type": "stream",
     "text": [
      "Epoch 70: Train Loss=0.0159, Train Acc=99.66%, Test Acc=90.21%, Test F1=0.9022\n"
     ]
    },
    {
     "name": "stderr",
     "output_type": "stream",
     "text": [
      "Epoch 71: 100%|██████████| 350/350 [00:14<00:00, 24.54it/s, loss=0.00165, acc=99.7]\n"
     ]
    },
    {
     "name": "stdout",
     "output_type": "stream",
     "text": [
      "Epoch 71: Train Loss=0.0259, Train Acc=99.68%, Test Acc=92.57%, Test F1=0.9255\n"
     ]
    },
    {
     "name": "stderr",
     "output_type": "stream",
     "text": [
      "Epoch 72: 100%|██████████| 350/350 [00:14<00:00, 24.56it/s, loss=3.25e-5, acc=99.7]\n"
     ]
    },
    {
     "name": "stdout",
     "output_type": "stream",
     "text": [
      "Epoch 72: Train Loss=0.0165, Train Acc=99.71%, Test Acc=91.50%, Test F1=0.9141\n"
     ]
    },
    {
     "name": "stderr",
     "output_type": "stream",
     "text": [
      "Epoch 73: 100%|██████████| 350/350 [00:14<00:00, 24.66it/s, loss=5.43e-5, acc=99.5]\n"
     ]
    },
    {
     "name": "stdout",
     "output_type": "stream",
     "text": [
      "Epoch 73: Train Loss=0.0314, Train Acc=99.46%, Test Acc=91.14%, Test F1=0.9111\n"
     ]
    },
    {
     "name": "stderr",
     "output_type": "stream",
     "text": [
      "Epoch 74: 100%|██████████| 350/350 [00:14<00:00, 24.61it/s, loss=1.86e-5, acc=99.6]\n"
     ]
    },
    {
     "name": "stdout",
     "output_type": "stream",
     "text": [
      "Epoch 74: Train Loss=0.0173, Train Acc=99.59%, Test Acc=91.64%, Test F1=0.9162\n"
     ]
    },
    {
     "name": "stderr",
     "output_type": "stream",
     "text": [
      "Epoch 75: 100%|██████████| 350/350 [00:14<00:00, 24.54it/s, loss=0.000455, acc=99.7]\n"
     ]
    },
    {
     "name": "stdout",
     "output_type": "stream",
     "text": [
      "Epoch 75: Train Loss=0.0154, Train Acc=99.71%, Test Acc=90.07%, Test F1=0.9007\n"
     ]
    },
    {
     "name": "stderr",
     "output_type": "stream",
     "text": [
      "Epoch 76: 100%|██████████| 350/350 [00:14<00:00, 24.59it/s, loss=4.22e-5, acc=99.7]\n"
     ]
    },
    {
     "name": "stdout",
     "output_type": "stream",
     "text": [
      "Epoch 76: Train Loss=0.0184, Train Acc=99.68%, Test Acc=92.14%, Test F1=0.9213\n"
     ]
    },
    {
     "name": "stderr",
     "output_type": "stream",
     "text": [
      "Epoch 77: 100%|██████████| 350/350 [00:14<00:00, 24.58it/s, loss=0.00499, acc=99.5]\n"
     ]
    },
    {
     "name": "stdout",
     "output_type": "stream",
     "text": [
      "Epoch 77: Train Loss=0.0253, Train Acc=99.54%, Test Acc=91.14%, Test F1=0.9114\n"
     ]
    },
    {
     "name": "stderr",
     "output_type": "stream",
     "text": [
      "Epoch 78: 100%|██████████| 350/350 [00:14<00:00, 24.53it/s, loss=0.00012, acc=99.6]\n"
     ]
    },
    {
     "name": "stdout",
     "output_type": "stream",
     "text": [
      "Epoch 78: Train Loss=0.0210, Train Acc=99.59%, Test Acc=90.50%, Test F1=0.9045\n"
     ]
    },
    {
     "name": "stderr",
     "output_type": "stream",
     "text": [
      "Epoch 79: 100%|██████████| 350/350 [00:14<00:00, 24.45it/s, loss=0.000907, acc=99.4]\n"
     ]
    },
    {
     "name": "stdout",
     "output_type": "stream",
     "text": [
      "Epoch 79: Train Loss=0.0392, Train Acc=99.38%, Test Acc=91.57%, Test F1=0.9160\n"
     ]
    },
    {
     "name": "stderr",
     "output_type": "stream",
     "text": [
      "Epoch 80: 100%|██████████| 350/350 [00:14<00:00, 24.54it/s, loss=0.000117, acc=99.8]\n"
     ]
    },
    {
     "name": "stdout",
     "output_type": "stream",
     "text": [
      "Epoch 80: Train Loss=0.0078, Train Acc=99.84%, Test Acc=92.93%, Test F1=0.9294\n"
     ]
    },
    {
     "name": "stderr",
     "output_type": "stream",
     "text": [
      "Epoch 81: 100%|██████████| 350/350 [00:14<00:00, 24.51it/s, loss=0.000215, acc=99.9]\n"
     ]
    },
    {
     "name": "stdout",
     "output_type": "stream",
     "text": [
      "Epoch 81: Train Loss=0.0037, Train Acc=99.95%, Test Acc=93.14%, Test F1=0.9315\n"
     ]
    },
    {
     "name": "stderr",
     "output_type": "stream",
     "text": [
      "Epoch 82: 100%|██████████| 350/350 [00:14<00:00, 24.63it/s, loss=0.000281, acc=99.9]\n"
     ]
    },
    {
     "name": "stdout",
     "output_type": "stream",
     "text": [
      "Epoch 82: Train Loss=0.0026, Train Acc=99.91%, Test Acc=92.50%, Test F1=0.9249\n"
     ]
    },
    {
     "name": "stderr",
     "output_type": "stream",
     "text": [
      "Epoch 83: 100%|██████████| 350/350 [00:14<00:00, 24.54it/s, loss=5.83e-5, acc=99.9]\n"
     ]
    },
    {
     "name": "stdout",
     "output_type": "stream",
     "text": [
      "Epoch 83: Train Loss=0.0042, Train Acc=99.93%, Test Acc=93.29%, Test F1=0.9329\n"
     ]
    },
    {
     "name": "stderr",
     "output_type": "stream",
     "text": [
      "Epoch 84: 100%|██████████| 350/350 [00:14<00:00, 24.57it/s, loss=0.000117, acc=99.9]\n"
     ]
    },
    {
     "name": "stdout",
     "output_type": "stream",
     "text": [
      "Epoch 84: Train Loss=0.0023, Train Acc=99.95%, Test Acc=93.14%, Test F1=0.9315\n"
     ]
    },
    {
     "name": "stderr",
     "output_type": "stream",
     "text": [
      "Epoch 85: 100%|██████████| 350/350 [00:14<00:00, 24.62it/s, loss=0.000565, acc=100]\n"
     ]
    },
    {
     "name": "stdout",
     "output_type": "stream",
     "text": [
      "Epoch 85: Train Loss=0.0018, Train Acc=99.96%, Test Acc=93.14%, Test F1=0.9314\n"
     ]
    },
    {
     "name": "stderr",
     "output_type": "stream",
     "text": [
      "Epoch 86: 100%|██████████| 350/350 [00:14<00:00, 24.63it/s, loss=4.11e-5, acc=99.9]\n"
     ]
    },
    {
     "name": "stdout",
     "output_type": "stream",
     "text": [
      "Epoch 86: Train Loss=0.0029, Train Acc=99.95%, Test Acc=93.64%, Test F1=0.9361\n"
     ]
    },
    {
     "name": "stderr",
     "output_type": "stream",
     "text": [
      "Epoch 87: 100%|██████████| 350/350 [00:14<00:00, 24.60it/s, loss=2.17e-5, acc=99.9]\n"
     ]
    },
    {
     "name": "stdout",
     "output_type": "stream",
     "text": [
      "Epoch 87: Train Loss=0.0059, Train Acc=99.91%, Test Acc=92.43%, Test F1=0.9241\n"
     ]
    },
    {
     "name": "stderr",
     "output_type": "stream",
     "text": [
      "Epoch 88: 100%|██████████| 350/350 [00:14<00:00, 24.65it/s, loss=3.76e-5, acc=100]\n"
     ]
    },
    {
     "name": "stdout",
     "output_type": "stream",
     "text": [
      "Epoch 88: Train Loss=0.0021, Train Acc=99.96%, Test Acc=92.86%, Test F1=0.9284\n"
     ]
    },
    {
     "name": "stderr",
     "output_type": "stream",
     "text": [
      "Epoch 89: 100%|██████████| 350/350 [00:14<00:00, 24.56it/s, loss=0.000172, acc=99.9]\n"
     ]
    },
    {
     "name": "stdout",
     "output_type": "stream",
     "text": [
      "Epoch 89: Train Loss=0.0026, Train Acc=99.95%, Test Acc=91.57%, Test F1=0.9164\n"
     ]
    },
    {
     "name": "stderr",
     "output_type": "stream",
     "text": [
      "Epoch 90: 100%|██████████| 350/350 [00:14<00:00, 24.56it/s, loss=0.000652, acc=99.9]\n"
     ]
    },
    {
     "name": "stdout",
     "output_type": "stream",
     "text": [
      "Epoch 90: Train Loss=0.0016, Train Acc=99.95%, Test Acc=92.71%, Test F1=0.9273\n"
     ]
    },
    {
     "name": "stderr",
     "output_type": "stream",
     "text": [
      "Epoch 91: 100%|██████████| 350/350 [00:14<00:00, 24.72it/s, loss=1.53e-5, acc=100]\n"
     ]
    },
    {
     "name": "stdout",
     "output_type": "stream",
     "text": [
      "Epoch 91: Train Loss=0.0003, Train Acc=100.00%, Test Acc=93.29%, Test F1=0.9332\n"
     ]
    },
    {
     "name": "stderr",
     "output_type": "stream",
     "text": [
      "Epoch 92: 100%|██████████| 350/350 [00:14<00:00, 24.59it/s, loss=7.58e-5, acc=99.8]\n"
     ]
    },
    {
     "name": "stdout",
     "output_type": "stream",
     "text": [
      "Epoch 92: Train Loss=0.0081, Train Acc=99.84%, Test Acc=93.21%, Test F1=0.9320\n"
     ]
    },
    {
     "name": "stderr",
     "output_type": "stream",
     "text": [
      "Epoch 93: 100%|██████████| 350/350 [00:14<00:00, 24.59it/s, loss=0.000243, acc=99.9]\n"
     ]
    },
    {
     "name": "stdout",
     "output_type": "stream",
     "text": [
      "Epoch 93: Train Loss=0.0057, Train Acc=99.89%, Test Acc=92.43%, Test F1=0.9242\n"
     ]
    },
    {
     "name": "stderr",
     "output_type": "stream",
     "text": [
      "Epoch 94: 100%|██████████| 350/350 [00:14<00:00, 24.58it/s, loss=3.73e-6, acc=99.8]\n"
     ]
    },
    {
     "name": "stdout",
     "output_type": "stream",
     "text": [
      "Epoch 94: Train Loss=0.0090, Train Acc=99.84%, Test Acc=92.71%, Test F1=0.9272\n"
     ]
    },
    {
     "name": "stderr",
     "output_type": "stream",
     "text": [
      "Epoch 95: 100%|██████████| 350/350 [00:14<00:00, 24.54it/s, loss=0.000137, acc=99.9]\n"
     ]
    },
    {
     "name": "stdout",
     "output_type": "stream",
     "text": [
      "Epoch 95: Train Loss=0.0028, Train Acc=99.93%, Test Acc=92.86%, Test F1=0.9285\n"
     ]
    },
    {
     "name": "stderr",
     "output_type": "stream",
     "text": [
      "Epoch 96: 100%|██████████| 350/350 [00:14<00:00, 24.53it/s, loss=0.118, acc=100]\n"
     ]
    },
    {
     "name": "stdout",
     "output_type": "stream",
     "text": [
      "Epoch 96: Train Loss=0.0019, Train Acc=99.96%, Test Acc=93.79%, Test F1=0.9375\n"
     ]
    },
    {
     "name": "stderr",
     "output_type": "stream",
     "text": [
      "Epoch 97: 100%|██████████| 350/350 [00:14<00:00, 24.55it/s, loss=9.29e-5, acc=99.9]\n"
     ]
    },
    {
     "name": "stdout",
     "output_type": "stream",
     "text": [
      "Epoch 97: Train Loss=0.0031, Train Acc=99.95%, Test Acc=93.86%, Test F1=0.9385\n"
     ]
    },
    {
     "name": "stderr",
     "output_type": "stream",
     "text": [
      "Epoch 98: 100%|██████████| 350/350 [00:14<00:00, 24.55it/s, loss=2.45e-5, acc=100]\n"
     ]
    },
    {
     "name": "stdout",
     "output_type": "stream",
     "text": [
      "Epoch 98: Train Loss=0.0011, Train Acc=99.98%, Test Acc=93.21%, Test F1=0.9324\n"
     ]
    },
    {
     "name": "stderr",
     "output_type": "stream",
     "text": [
      "Epoch 99: 100%|██████████| 350/350 [00:14<00:00, 24.50it/s, loss=0.000168, acc=100]\n"
     ]
    },
    {
     "name": "stdout",
     "output_type": "stream",
     "text": [
      "Epoch 99: Train Loss=0.0005, Train Acc=99.98%, Test Acc=93.86%, Test F1=0.9386\n"
     ]
    },
    {
     "name": "stderr",
     "output_type": "stream",
     "text": [
      "Epoch 100: 100%|██████████| 350/350 [00:14<00:00, 24.64it/s, loss=8.97e-6, acc=100]\n"
     ]
    },
    {
     "name": "stdout",
     "output_type": "stream",
     "text": [
      "Epoch 100: Train Loss=0.0001, Train Acc=100.00%, Test Acc=93.93%, Test F1=0.9393\n"
     ]
    },
    {
     "name": "stderr",
     "output_type": "stream",
     "text": [
      "Epoch 101: 100%|██████████| 350/350 [00:14<00:00, 24.57it/s, loss=1.2e-5, acc=99.9]\n"
     ]
    },
    {
     "name": "stdout",
     "output_type": "stream",
     "text": [
      "Epoch 101: Train Loss=0.0043, Train Acc=99.93%, Test Acc=93.21%, Test F1=0.9319\n"
     ]
    },
    {
     "name": "stderr",
     "output_type": "stream",
     "text": [
      "Epoch 102: 100%|██████████| 350/350 [00:14<00:00, 24.51it/s, loss=2.91e-5, acc=100]\n"
     ]
    },
    {
     "name": "stdout",
     "output_type": "stream",
     "text": [
      "Epoch 102: Train Loss=0.0009, Train Acc=99.96%, Test Acc=93.00%, Test F1=0.9298\n"
     ]
    },
    {
     "name": "stderr",
     "output_type": "stream",
     "text": [
      "Epoch 103: 100%|██████████| 350/350 [00:14<00:00, 24.55it/s, loss=9e-6, acc=100]\n"
     ]
    },
    {
     "name": "stdout",
     "output_type": "stream",
     "text": [
      "Epoch 103: Train Loss=0.0020, Train Acc=99.98%, Test Acc=93.64%, Test F1=0.9362\n"
     ]
    },
    {
     "name": "stderr",
     "output_type": "stream",
     "text": [
      "Epoch 104: 100%|██████████| 350/350 [00:14<00:00, 24.56it/s, loss=3.43e-5, acc=100]\n"
     ]
    },
    {
     "name": "stdout",
     "output_type": "stream",
     "text": [
      "Epoch 104: Train Loss=0.0004, Train Acc=100.00%, Test Acc=93.07%, Test F1=0.9305\n"
     ]
    },
    {
     "name": "stderr",
     "output_type": "stream",
     "text": [
      "Epoch 105: 100%|██████████| 350/350 [00:14<00:00, 24.56it/s, loss=1.43e-5, acc=100]\n"
     ]
    },
    {
     "name": "stdout",
     "output_type": "stream",
     "text": [
      "Epoch 105: Train Loss=0.0002, Train Acc=100.00%, Test Acc=93.43%, Test F1=0.9342\n"
     ]
    },
    {
     "name": "stderr",
     "output_type": "stream",
     "text": [
      "Epoch 106: 100%|██████████| 350/350 [00:14<00:00, 24.58it/s, loss=0.00023, acc=100]\n"
     ]
    },
    {
     "name": "stdout",
     "output_type": "stream",
     "text": [
      "Epoch 106: Train Loss=0.0013, Train Acc=99.98%, Test Acc=93.21%, Test F1=0.9321\n"
     ]
    },
    {
     "name": "stderr",
     "output_type": "stream",
     "text": [
      "Epoch 107: 100%|██████████| 350/350 [00:14<00:00, 24.54it/s, loss=2.36e-5, acc=100]\n"
     ]
    },
    {
     "name": "stdout",
     "output_type": "stream",
     "text": [
      "Epoch 107: Train Loss=0.0003, Train Acc=99.98%, Test Acc=92.93%, Test F1=0.9289\n"
     ]
    },
    {
     "name": "stderr",
     "output_type": "stream",
     "text": [
      "Epoch 108: 100%|██████████| 350/350 [00:14<00:00, 24.63it/s, loss=3.38e-6, acc=100]\n"
     ]
    },
    {
     "name": "stdout",
     "output_type": "stream",
     "text": [
      "Epoch 108: Train Loss=0.0010, Train Acc=99.96%, Test Acc=93.79%, Test F1=0.9376\n"
     ]
    },
    {
     "name": "stderr",
     "output_type": "stream",
     "text": [
      "Epoch 109: 100%|██████████| 350/350 [00:14<00:00, 24.59it/s, loss=2.33e-5, acc=100]\n"
     ]
    },
    {
     "name": "stdout",
     "output_type": "stream",
     "text": [
      "Epoch 109: Train Loss=0.0009, Train Acc=99.98%, Test Acc=93.86%, Test F1=0.9384\n"
     ]
    },
    {
     "name": "stderr",
     "output_type": "stream",
     "text": [
      "Epoch 110: 100%|██████████| 350/350 [00:14<00:00, 24.56it/s, loss=2.72e-5, acc=100]\n"
     ]
    },
    {
     "name": "stdout",
     "output_type": "stream",
     "text": [
      "Epoch 110: Train Loss=0.0001, Train Acc=100.00%, Test Acc=93.43%, Test F1=0.9341\n"
     ]
    },
    {
     "name": "stderr",
     "output_type": "stream",
     "text": [
      "Epoch 111: 100%|██████████| 350/350 [00:14<00:00, 24.50it/s, loss=0.000113, acc=100]\n"
     ]
    },
    {
     "name": "stdout",
     "output_type": "stream",
     "text": [
      "Epoch 111: Train Loss=0.0012, Train Acc=99.96%, Test Acc=93.50%, Test F1=0.9348\n"
     ]
    },
    {
     "name": "stderr",
     "output_type": "stream",
     "text": [
      "Epoch 112: 100%|██████████| 350/350 [00:14<00:00, 24.57it/s, loss=4.9e-5, acc=100]\n"
     ]
    },
    {
     "name": "stdout",
     "output_type": "stream",
     "text": [
      "Epoch 112: Train Loss=0.0003, Train Acc=100.00%, Test Acc=93.79%, Test F1=0.9379\n"
     ]
    },
    {
     "name": "stderr",
     "output_type": "stream",
     "text": [
      "Epoch 113: 100%|██████████| 350/350 [00:14<00:00, 24.56it/s, loss=5.72e-5, acc=100]\n"
     ]
    },
    {
     "name": "stdout",
     "output_type": "stream",
     "text": [
      "Epoch 113: Train Loss=0.0002, Train Acc=100.00%, Test Acc=93.86%, Test F1=0.9383\n"
     ]
    },
    {
     "name": "stderr",
     "output_type": "stream",
     "text": [
      "Epoch 114: 100%|██████████| 350/350 [00:14<00:00, 24.54it/s, loss=3.6e-5, acc=100]\n"
     ]
    },
    {
     "name": "stdout",
     "output_type": "stream",
     "text": [
      "Epoch 114: Train Loss=0.0007, Train Acc=99.98%, Test Acc=93.64%, Test F1=0.9363\n"
     ]
    },
    {
     "name": "stderr",
     "output_type": "stream",
     "text": [
      "Epoch 115: 100%|██████████| 350/350 [00:14<00:00, 24.63it/s, loss=4.02e-5, acc=100]\n"
     ]
    },
    {
     "name": "stdout",
     "output_type": "stream",
     "text": [
      "Epoch 115: Train Loss=0.0002, Train Acc=100.00%, Test Acc=94.00%, Test F1=0.9397\n"
     ]
    },
    {
     "name": "stderr",
     "output_type": "stream",
     "text": [
      "Epoch 116: 100%|██████████| 350/350 [00:14<00:00, 24.63it/s, loss=3.85e-5, acc=100]\n"
     ]
    },
    {
     "name": "stdout",
     "output_type": "stream",
     "text": [
      "Epoch 116: Train Loss=0.0001, Train Acc=100.00%, Test Acc=93.79%, Test F1=0.9377\n"
     ]
    },
    {
     "name": "stderr",
     "output_type": "stream",
     "text": [
      "Epoch 117: 100%|██████████| 350/350 [00:14<00:00, 24.68it/s, loss=7.58e-6, acc=100]\n"
     ]
    },
    {
     "name": "stdout",
     "output_type": "stream",
     "text": [
      "Epoch 117: Train Loss=0.0006, Train Acc=99.96%, Test Acc=93.57%, Test F1=0.9356\n"
     ]
    },
    {
     "name": "stderr",
     "output_type": "stream",
     "text": [
      "Epoch 118: 100%|██████████| 350/350 [00:14<00:00, 24.66it/s, loss=8.43e-6, acc=100]\n"
     ]
    },
    {
     "name": "stdout",
     "output_type": "stream",
     "text": [
      "Epoch 118: Train Loss=0.0002, Train Acc=100.00%, Test Acc=93.43%, Test F1=0.9342\n"
     ]
    },
    {
     "name": "stderr",
     "output_type": "stream",
     "text": [
      "Epoch 119: 100%|██████████| 350/350 [00:14<00:00, 24.65it/s, loss=1.4e-5, acc=100]\n"
     ]
    },
    {
     "name": "stdout",
     "output_type": "stream",
     "text": [
      "Epoch 119: Train Loss=0.0002, Train Acc=100.00%, Test Acc=93.50%, Test F1=0.9349\n"
     ]
    },
    {
     "name": "stderr",
     "output_type": "stream",
     "text": [
      "Epoch 120: 100%|██████████| 350/350 [00:14<00:00, 24.64it/s, loss=1.04e-5, acc=100]\n"
     ]
    },
    {
     "name": "stdout",
     "output_type": "stream",
     "text": [
      "Epoch 120: Train Loss=0.0002, Train Acc=100.00%, Test Acc=93.21%, Test F1=0.9324\n"
     ]
    },
    {
     "name": "stderr",
     "output_type": "stream",
     "text": [
      "Epoch 121: 100%|██████████| 350/350 [00:14<00:00, 24.58it/s, loss=0.000114, acc=100]\n"
     ]
    },
    {
     "name": "stdout",
     "output_type": "stream",
     "text": [
      "Epoch 121: Train Loss=0.0003, Train Acc=99.98%, Test Acc=93.86%, Test F1=0.9385\n"
     ]
    },
    {
     "name": "stderr",
     "output_type": "stream",
     "text": [
      "Epoch 122: 100%|██████████| 350/350 [00:14<00:00, 24.62it/s, loss=1.61e-5, acc=100]\n"
     ]
    },
    {
     "name": "stdout",
     "output_type": "stream",
     "text": [
      "Epoch 122: Train Loss=0.0011, Train Acc=99.98%, Test Acc=93.86%, Test F1=0.9384\n"
     ]
    },
    {
     "name": "stderr",
     "output_type": "stream",
     "text": [
      "Epoch 123: 100%|██████████| 350/350 [00:14<00:00, 24.60it/s, loss=1.78e-5, acc=100]\n"
     ]
    },
    {
     "name": "stdout",
     "output_type": "stream",
     "text": [
      "Epoch 123: Train Loss=0.0004, Train Acc=99.98%, Test Acc=93.57%, Test F1=0.9357\n"
     ]
    },
    {
     "name": "stderr",
     "output_type": "stream",
     "text": [
      "Epoch 124: 100%|██████████| 350/350 [00:14<00:00, 24.59it/s, loss=5.68e-5, acc=100]\n"
     ]
    },
    {
     "name": "stdout",
     "output_type": "stream",
     "text": [
      "Epoch 124: Train Loss=0.0001, Train Acc=100.00%, Test Acc=93.71%, Test F1=0.9371\n"
     ]
    },
    {
     "name": "stderr",
     "output_type": "stream",
     "text": [
      "Epoch 125: 100%|██████████| 350/350 [00:14<00:00, 24.56it/s, loss=7.03e-5, acc=100]\n"
     ]
    },
    {
     "name": "stdout",
     "output_type": "stream",
     "text": [
      "Epoch 125: Train Loss=0.0016, Train Acc=99.96%, Test Acc=94.07%, Test F1=0.9405\n"
     ]
    },
    {
     "name": "stderr",
     "output_type": "stream",
     "text": [
      "Epoch 126: 100%|██████████| 350/350 [00:14<00:00, 24.67it/s, loss=2.37e-5, acc=100]\n"
     ]
    },
    {
     "name": "stdout",
     "output_type": "stream",
     "text": [
      "Epoch 126: Train Loss=0.0001, Train Acc=100.00%, Test Acc=94.14%, Test F1=0.9412\n"
     ]
    },
    {
     "name": "stderr",
     "output_type": "stream",
     "text": [
      "Epoch 127: 100%|██████████| 350/350 [00:14<00:00, 24.58it/s, loss=9.42e-6, acc=100]\n"
     ]
    },
    {
     "name": "stdout",
     "output_type": "stream",
     "text": [
      "Epoch 127: Train Loss=0.0001, Train Acc=100.00%, Test Acc=94.21%, Test F1=0.9419\n"
     ]
    },
    {
     "name": "stderr",
     "output_type": "stream",
     "text": [
      "Epoch 128: 100%|██████████| 350/350 [00:14<00:00, 24.57it/s, loss=1.79e-5, acc=100]\n"
     ]
    },
    {
     "name": "stdout",
     "output_type": "stream",
     "text": [
      "Epoch 128: Train Loss=0.0003, Train Acc=100.00%, Test Acc=94.00%, Test F1=0.9397\n"
     ]
    },
    {
     "name": "stderr",
     "output_type": "stream",
     "text": [
      "Epoch 129: 100%|██████████| 350/350 [00:14<00:00, 24.59it/s, loss=6.53e-6, acc=100]\n"
     ]
    },
    {
     "name": "stdout",
     "output_type": "stream",
     "text": [
      "Epoch 129: Train Loss=0.0001, Train Acc=100.00%, Test Acc=94.29%, Test F1=0.9426\n"
     ]
    },
    {
     "name": "stderr",
     "output_type": "stream",
     "text": [
      "Epoch 130: 100%|██████████| 350/350 [00:14<00:00, 24.61it/s, loss=1.92e-6, acc=100]\n"
     ]
    },
    {
     "name": "stdout",
     "output_type": "stream",
     "text": [
      "Epoch 130: Train Loss=0.0001, Train Acc=100.00%, Test Acc=93.93%, Test F1=0.9391\n"
     ]
    },
    {
     "name": "stderr",
     "output_type": "stream",
     "text": [
      "Epoch 131: 100%|██████████| 350/350 [00:14<00:00, 24.57it/s, loss=1.57e-6, acc=100]\n"
     ]
    },
    {
     "name": "stdout",
     "output_type": "stream",
     "text": [
      "Epoch 131: Train Loss=0.0001, Train Acc=100.00%, Test Acc=93.93%, Test F1=0.9391\n"
     ]
    },
    {
     "name": "stderr",
     "output_type": "stream",
     "text": [
      "Epoch 132: 100%|██████████| 350/350 [00:14<00:00, 24.53it/s, loss=3.19e-5, acc=100]\n"
     ]
    },
    {
     "name": "stdout",
     "output_type": "stream",
     "text": [
      "Epoch 132: Train Loss=0.0002, Train Acc=100.00%, Test Acc=94.21%, Test F1=0.9419\n"
     ]
    },
    {
     "name": "stderr",
     "output_type": "stream",
     "text": [
      "Epoch 133: 100%|██████████| 350/350 [00:14<00:00, 24.51it/s, loss=3.74e-5, acc=100]\n"
     ]
    },
    {
     "name": "stdout",
     "output_type": "stream",
     "text": [
      "Epoch 133: Train Loss=0.0002, Train Acc=100.00%, Test Acc=94.29%, Test F1=0.9427\n"
     ]
    },
    {
     "name": "stderr",
     "output_type": "stream",
     "text": [
      "Epoch 134: 100%|██████████| 350/350 [00:14<00:00, 24.58it/s, loss=2.9e-5, acc=100]\n"
     ]
    },
    {
     "name": "stdout",
     "output_type": "stream",
     "text": [
      "Epoch 134: Train Loss=0.0001, Train Acc=100.00%, Test Acc=94.21%, Test F1=0.9420\n"
     ]
    },
    {
     "name": "stderr",
     "output_type": "stream",
     "text": [
      "Epoch 135: 100%|██████████| 350/350 [00:14<00:00, 24.75it/s, loss=2.48e-6, acc=100]\n"
     ]
    },
    {
     "name": "stdout",
     "output_type": "stream",
     "text": [
      "Epoch 135: Train Loss=0.0001, Train Acc=100.00%, Test Acc=94.21%, Test F1=0.9419\n"
     ]
    },
    {
     "name": "stderr",
     "output_type": "stream",
     "text": [
      "Epoch 136: 100%|██████████| 350/350 [00:14<00:00, 24.66it/s, loss=7.09e-6, acc=100]\n"
     ]
    },
    {
     "name": "stdout",
     "output_type": "stream",
     "text": [
      "Epoch 136: Train Loss=0.0001, Train Acc=100.00%, Test Acc=94.14%, Test F1=0.9412\n"
     ]
    },
    {
     "name": "stderr",
     "output_type": "stream",
     "text": [
      "Epoch 137: 100%|██████████| 350/350 [00:14<00:00, 24.61it/s, loss=8.73e-5, acc=100]\n"
     ]
    },
    {
     "name": "stdout",
     "output_type": "stream",
     "text": [
      "Epoch 137: Train Loss=0.0002, Train Acc=100.00%, Test Acc=94.21%, Test F1=0.9419\n"
     ]
    },
    {
     "name": "stderr",
     "output_type": "stream",
     "text": [
      "Epoch 138: 100%|██████████| 350/350 [00:14<00:00, 24.60it/s, loss=4.92e-5, acc=100]\n"
     ]
    },
    {
     "name": "stdout",
     "output_type": "stream",
     "text": [
      "Epoch 138: Train Loss=0.0001, Train Acc=100.00%, Test Acc=94.21%, Test F1=0.9420\n"
     ]
    },
    {
     "name": "stderr",
     "output_type": "stream",
     "text": [
      "Epoch 139: 100%|██████████| 350/350 [00:14<00:00, 24.57it/s, loss=2.41e-6, acc=100]\n"
     ]
    },
    {
     "name": "stdout",
     "output_type": "stream",
     "text": [
      "Epoch 139: Train Loss=0.0001, Train Acc=100.00%, Test Acc=94.07%, Test F1=0.9405\n"
     ]
    },
    {
     "name": "stderr",
     "output_type": "stream",
     "text": [
      "Epoch 140: 100%|██████████| 350/350 [00:14<00:00, 24.53it/s, loss=1.58e-5, acc=100]\n"
     ]
    },
    {
     "name": "stdout",
     "output_type": "stream",
     "text": [
      "Epoch 140: Train Loss=0.0019, Train Acc=99.98%, Test Acc=94.07%, Test F1=0.9405\n"
     ]
    },
    {
     "name": "stderr",
     "output_type": "stream",
     "text": [
      "Epoch 141: 100%|██████████| 350/350 [00:14<00:00, 24.52it/s, loss=1.55e-5, acc=100]\n"
     ]
    },
    {
     "name": "stdout",
     "output_type": "stream",
     "text": [
      "Epoch 141: Train Loss=0.0001, Train Acc=100.00%, Test Acc=94.14%, Test F1=0.9413\n"
     ]
    },
    {
     "name": "stderr",
     "output_type": "stream",
     "text": [
      "Epoch 142: 100%|██████████| 350/350 [00:14<00:00, 24.51it/s, loss=1.66e-5, acc=100]\n"
     ]
    },
    {
     "name": "stdout",
     "output_type": "stream",
     "text": [
      "Epoch 142: Train Loss=0.0002, Train Acc=100.00%, Test Acc=94.14%, Test F1=0.9413\n"
     ]
    },
    {
     "name": "stderr",
     "output_type": "stream",
     "text": [
      "Epoch 143: 100%|██████████| 350/350 [00:14<00:00, 24.58it/s, loss=5.67e-6, acc=100]\n"
     ]
    },
    {
     "name": "stdout",
     "output_type": "stream",
     "text": [
      "Epoch 143: Train Loss=0.0001, Train Acc=100.00%, Test Acc=93.93%, Test F1=0.9392\n"
     ]
    },
    {
     "name": "stderr",
     "output_type": "stream",
     "text": [
      "Epoch 144: 100%|██████████| 350/350 [00:14<00:00, 24.63it/s, loss=4.12e-5, acc=100]\n"
     ]
    },
    {
     "name": "stdout",
     "output_type": "stream",
     "text": [
      "Epoch 144: Train Loss=0.0002, Train Acc=100.00%, Test Acc=94.14%, Test F1=0.9412\n"
     ]
    },
    {
     "name": "stderr",
     "output_type": "stream",
     "text": [
      "Epoch 145: 100%|██████████| 350/350 [00:14<00:00, 24.53it/s, loss=2.38e-6, acc=100]\n"
     ]
    },
    {
     "name": "stdout",
     "output_type": "stream",
     "text": [
      "Epoch 145: Train Loss=0.0002, Train Acc=99.98%, Test Acc=94.14%, Test F1=0.9413\n"
     ]
    },
    {
     "name": "stderr",
     "output_type": "stream",
     "text": [
      "Epoch 146: 100%|██████████| 350/350 [00:14<00:00, 24.60it/s, loss=2.83e-5, acc=100]\n"
     ]
    },
    {
     "name": "stdout",
     "output_type": "stream",
     "text": [
      "Epoch 146: Train Loss=0.0004, Train Acc=99.98%, Test Acc=94.64%, Test F1=0.9463\n"
     ]
    },
    {
     "name": "stderr",
     "output_type": "stream",
     "text": [
      "Epoch 147: 100%|██████████| 350/350 [00:14<00:00, 24.50it/s, loss=3.26e-6, acc=100]\n"
     ]
    },
    {
     "name": "stdout",
     "output_type": "stream",
     "text": [
      "Epoch 147: Train Loss=0.0001, Train Acc=100.00%, Test Acc=94.29%, Test F1=0.9427\n"
     ]
    },
    {
     "name": "stderr",
     "output_type": "stream",
     "text": [
      "Epoch 148: 100%|██████████| 350/350 [00:14<00:00, 24.50it/s, loss=0.000326, acc=100]\n"
     ]
    },
    {
     "name": "stdout",
     "output_type": "stream",
     "text": [
      "Epoch 148: Train Loss=0.0010, Train Acc=99.96%, Test Acc=94.36%, Test F1=0.9434\n"
     ]
    },
    {
     "name": "stderr",
     "output_type": "stream",
     "text": [
      "Epoch 149: 100%|██████████| 350/350 [00:14<00:00, 24.50it/s, loss=7.95e-5, acc=100]\n"
     ]
    },
    {
     "name": "stdout",
     "output_type": "stream",
     "text": [
      "Epoch 149: Train Loss=0.0001, Train Acc=100.00%, Test Acc=94.36%, Test F1=0.9434\n"
     ]
    },
    {
     "name": "stderr",
     "output_type": "stream",
     "text": [
      "Epoch 150: 100%|██████████| 350/350 [00:14<00:00, 24.51it/s, loss=9.59e-5, acc=100]\n"
     ]
    },
    {
     "name": "stdout",
     "output_type": "stream",
     "text": [
      "Epoch 150: Train Loss=0.0001, Train Acc=100.00%, Test Acc=94.29%, Test F1=0.9427\n",
      "\n",
      "Training Summary:\n",
      "  Best Model: Epoch 146, Acc=94.64%, F1=0.9463\n",
      "  Highest: Epoch 146, Acc=94.64%, F1=0.9463\n",
      "\n",
      "Final Results:\n",
      "  Best: Acc=94.29%, F1=0.9427\n",
      "  Highest: Acc=94.64%, F1=0.9463\n",
      "\n",
      "Classification Report:\n",
      "              precision    recall  f1-score   support\n",
      "\n",
      "       ANGRY       0.93      0.93      0.93       200\n",
      "     DISGUST       0.96      0.92      0.94       200\n",
      "        FEAR       0.96      0.96      0.96       200\n",
      "       HAPPY       0.95      0.92      0.93       200\n",
      "     NEUTRAL       0.92      0.96      0.94       200\n",
      "         SAD       0.94      0.92      0.93       200\n",
      "    SURPRISE       0.94      0.99      0.97       200\n",
      "\n",
      "    accuracy                           0.94      1400\n",
      "   macro avg       0.94      0.94      0.94      1400\n",
      "weighted avg       0.94      0.94      0.94      1400\n",
      "\n",
      "\n",
      "======================================================================\n",
      "FEATURE IMPORTANCE ANALYSIS\n",
      "======================================================================\n",
      "No experiments with feature gating to visualize\n",
      "\n",
      "======================================================================\n",
      "RESULTS SUMMARY - SUBESCO\n",
      "======================================================================\n",
      "\n",
      "Rank Feature Type         Architecture Params     Final Acc  Highest Acc \n",
      "--------------------------------------------------------------------------------\n",
      "1    All Features         HybridFusion 1.2M       94.86%       95.36%\n",
      "2    Mel-Spectrogram      CNN+LSTM     6.9M       94.29%       94.64%\n",
      "3    MFCC                 HybridFusion 0.7M       90.71%       91.86%\n",
      "4    Bangla Handcrafted   HybridFusion 0.6M       84.93%       86.21%\n",
      "\n",
      "======================================================================\n",
      "IMPROVEMENTS OVER MEL-SPECTROGRAM:\n",
      "======================================================================\n",
      "All Features: +0.71% ✓\n",
      "Bangla Handcrafted: -8.43% ✗\n",
      "MFCC: -2.79% ✗\n",
      "\n",
      "Results saved to subesco_results.pkl\n",
      "======================================================================\n",
      "BANGLA SER: Adaptive Architecture with Feature Gating\n",
      "Dataset: BanglaSER\n",
      "CNN+LSTM for Spectrograms | DNN+Gating for Static Features\n",
      "======================================================================\n",
      "Loading features from /kaggle/input/banglaser-kbes/banglaser-kbes/banglaser_features.pkl\n",
      "Mel-spectrogram shape: (1080, 3, 128, 94)\n",
      "MFCC features shape: (1080, 80)\n",
      "Bangla handcrafted features shape: (1080, 51)\n",
      "All acoustic features shape: (1080, 131)\n",
      "Total samples: 1080\n",
      "Number of emotion classes: 5\n",
      "Unique emotion labels: [0 1 2 3 4]\n",
      "Emotion names: ['Angry', 'Happy', 'Natural', 'Sad', 'Surprised']...\n",
      "\n",
      "Dataset Statistics:\n",
      "  Total samples: 1080\n",
      "  Number of classes: 5\n",
      "  Class distribution:\n",
      "    Angry: 216 samples (20.0%)\n",
      "    Happy: 216 samples (20.0%)\n",
      "    Natural: 216 samples (20.0%)\n",
      "    Sad: 216 samples (20.0%)\n",
      "    Surprised: 216 samples (20.0%)\n",
      "\n",
      "======================================================================\n",
      "ARCHITECTURE ASSIGNMENTS:\n",
      "======================================================================\n",
      "\n",
      "All Features:\n",
      "  Architecture: HybridFusion\n",
      "  Learning Rate: 5e-04\n",
      "  Batch Size: 16\n",
      "\n",
      "MFCC:\n",
      "  Architecture: HybridFusion\n",
      "  Learning Rate: 5e-04\n",
      "  Batch Size: 16\n",
      "\n",
      "Bangla Handcrafted:\n",
      "  Architecture: HybridFusion\n",
      "  Learning Rate: 5e-04\n",
      "  Batch Size: 16\n",
      "\n",
      "Mel-Spectrogram:\n",
      "  Architecture: CNN+LSTM\n",
      "  Learning Rate: 5e-04\n",
      "  Batch Size: 16\n",
      "\n",
      "Device: cuda\n",
      "GPU: Tesla P100-PCIE-16GB\n",
      "\n",
      "Dataset: BanglaSER\n",
      "Number of classes: 5\n",
      "\n",
      "============================================================\n",
      "Experiment: All Features\n",
      "============================================================\n",
      "Features shape: (1080, 131)\n",
      "Architecture: Deep DNN with Feature Gating\n",
      "Split: Train=864, Test=216\n",
      "HybridFusion configured: Total=131, MFCC=80, Acoustic=51, Mode=combined\n",
      "Model parameters: 1,181,742\n",
      "\n",
      "Training Configuration:\n",
      "  Architecture: HybridFusion\n",
      "  Learning Rate: 0.0005\n",
      "  Batch Size: 16\n",
      "  Description: HybridFusion with dual-stream KAN-DNN processing\n"
     ]
    },
    {
     "name": "stderr",
     "output_type": "stream",
     "text": [
      "Epoch 1: 100%|██████████| 54/54 [00:01<00:00, 47.31it/s, loss=2.12, acc=20.4]\n"
     ]
    },
    {
     "name": "stdout",
     "output_type": "stream",
     "text": [
      "Epoch 1: Train Loss=2.0906, Train Acc=20.37%, Test Acc=27.78%, Test F1=0.2047\n"
     ]
    },
    {
     "name": "stderr",
     "output_type": "stream",
     "text": [
      "Epoch 2: 100%|██████████| 54/54 [00:01<00:00, 48.19it/s, loss=1.75, acc=23.8]\n"
     ]
    },
    {
     "name": "stdout",
     "output_type": "stream",
     "text": [
      "Epoch 2: Train Loss=2.0602, Train Acc=23.84%, Test Acc=28.70%, Test F1=0.2173\n"
     ]
    },
    {
     "name": "stderr",
     "output_type": "stream",
     "text": [
      "Epoch 3: 100%|██████████| 54/54 [00:01<00:00, 48.71it/s, loss=1.68, acc=24.2]\n"
     ]
    },
    {
     "name": "stdout",
     "output_type": "stream",
     "text": [
      "Epoch 3: Train Loss=1.9047, Train Acc=24.19%, Test Acc=34.26%, Test F1=0.3010\n"
     ]
    },
    {
     "name": "stderr",
     "output_type": "stream",
     "text": [
      "Epoch 4: 100%|██████████| 54/54 [00:01<00:00, 48.67it/s, loss=1.96, acc=27.4]\n"
     ]
    },
    {
     "name": "stdout",
     "output_type": "stream",
     "text": [
      "Epoch 4: Train Loss=1.8413, Train Acc=27.43%, Test Acc=40.28%, Test F1=0.3688\n"
     ]
    },
    {
     "name": "stderr",
     "output_type": "stream",
     "text": [
      "Epoch 5: 100%|██████████| 54/54 [00:01<00:00, 49.49it/s, loss=1.97, acc=27.3]\n"
     ]
    },
    {
     "name": "stdout",
     "output_type": "stream",
     "text": [
      "Epoch 5: Train Loss=1.7465, Train Acc=27.31%, Test Acc=44.44%, Test F1=0.3997\n"
     ]
    },
    {
     "name": "stderr",
     "output_type": "stream",
     "text": [
      "Epoch 6: 100%|██████████| 54/54 [00:01<00:00, 48.33it/s, loss=1.46, acc=33.2]\n"
     ]
    },
    {
     "name": "stdout",
     "output_type": "stream",
     "text": [
      "Epoch 6: Train Loss=1.6102, Train Acc=33.22%, Test Acc=48.15%, Test F1=0.4380\n"
     ]
    },
    {
     "name": "stderr",
     "output_type": "stream",
     "text": [
      "Epoch 7: 100%|██████████| 54/54 [00:01<00:00, 48.45it/s, loss=1.91, acc=36]\n"
     ]
    },
    {
     "name": "stdout",
     "output_type": "stream",
     "text": [
      "Epoch 7: Train Loss=1.5376, Train Acc=36.00%, Test Acc=50.00%, Test F1=0.4541\n"
     ]
    },
    {
     "name": "stderr",
     "output_type": "stream",
     "text": [
      "Epoch 8: 100%|██████████| 54/54 [00:01<00:00, 48.77it/s, loss=1.41, acc=38.8]\n"
     ]
    },
    {
     "name": "stdout",
     "output_type": "stream",
     "text": [
      "Epoch 8: Train Loss=1.4741, Train Acc=38.77%, Test Acc=51.39%, Test F1=0.4765\n"
     ]
    },
    {
     "name": "stderr",
     "output_type": "stream",
     "text": [
      "Epoch 9: 100%|██████████| 54/54 [00:01<00:00, 47.39it/s, loss=1.13, acc=44.6]\n"
     ]
    },
    {
     "name": "stdout",
     "output_type": "stream",
     "text": [
      "Epoch 9: Train Loss=1.3407, Train Acc=44.56%, Test Acc=54.63%, Test F1=0.5091\n"
     ]
    },
    {
     "name": "stderr",
     "output_type": "stream",
     "text": [
      "Epoch 10: 100%|██████████| 54/54 [00:01<00:00, 49.37it/s, loss=1.4, acc=44.3]\n"
     ]
    },
    {
     "name": "stdout",
     "output_type": "stream",
     "text": [
      "Epoch 10: Train Loss=1.2900, Train Acc=44.33%, Test Acc=57.41%, Test F1=0.5403\n"
     ]
    },
    {
     "name": "stderr",
     "output_type": "stream",
     "text": [
      "Epoch 11: 100%|██████████| 54/54 [00:01<00:00, 49.45it/s, loss=1.05, acc=44.8]\n"
     ]
    },
    {
     "name": "stdout",
     "output_type": "stream",
     "text": [
      "Epoch 11: Train Loss=1.2679, Train Acc=44.79%, Test Acc=55.56%, Test F1=0.5315\n"
     ]
    },
    {
     "name": "stderr",
     "output_type": "stream",
     "text": [
      "Epoch 12: 100%|██████████| 54/54 [00:01<00:00, 48.57it/s, loss=0.921, acc=54.9]\n"
     ]
    },
    {
     "name": "stdout",
     "output_type": "stream",
     "text": [
      "Epoch 12: Train Loss=1.1235, Train Acc=54.86%, Test Acc=60.65%, Test F1=0.5976\n"
     ]
    },
    {
     "name": "stderr",
     "output_type": "stream",
     "text": [
      "Epoch 13: 100%|██████████| 54/54 [00:01<00:00, 50.66it/s, loss=0.891, acc=50.5]\n"
     ]
    },
    {
     "name": "stdout",
     "output_type": "stream",
     "text": [
      "Epoch 13: Train Loss=1.1462, Train Acc=50.46%, Test Acc=65.74%, Test F1=0.6408\n"
     ]
    },
    {
     "name": "stderr",
     "output_type": "stream",
     "text": [
      "Epoch 14: 100%|██████████| 54/54 [00:01<00:00, 51.29it/s, loss=0.973, acc=57.4]\n"
     ]
    },
    {
     "name": "stdout",
     "output_type": "stream",
     "text": [
      "Epoch 14: Train Loss=1.0258, Train Acc=57.41%, Test Acc=68.06%, Test F1=0.6724\n"
     ]
    },
    {
     "name": "stderr",
     "output_type": "stream",
     "text": [
      "Epoch 15: 100%|██████████| 54/54 [00:01<00:00, 49.05it/s, loss=0.694, acc=60.3]\n"
     ]
    },
    {
     "name": "stdout",
     "output_type": "stream",
     "text": [
      "Epoch 15: Train Loss=0.9631, Train Acc=60.30%, Test Acc=69.44%, Test F1=0.6895\n"
     ]
    },
    {
     "name": "stderr",
     "output_type": "stream",
     "text": [
      "Epoch 16: 100%|██████████| 54/54 [00:01<00:00, 42.16it/s, loss=0.757, acc=64.2]\n"
     ]
    },
    {
     "name": "stdout",
     "output_type": "stream",
     "text": [
      "Epoch 16: Train Loss=0.9229, Train Acc=64.24%, Test Acc=71.76%, Test F1=0.7088\n"
     ]
    },
    {
     "name": "stderr",
     "output_type": "stream",
     "text": [
      "Epoch 17: 100%|██████████| 54/54 [00:01<00:00, 40.80it/s, loss=0.812, acc=69.8]\n"
     ]
    },
    {
     "name": "stdout",
     "output_type": "stream",
     "text": [
      "Epoch 17: Train Loss=0.7954, Train Acc=69.79%, Test Acc=72.22%, Test F1=0.7106\n"
     ]
    },
    {
     "name": "stderr",
     "output_type": "stream",
     "text": [
      "Epoch 18: 100%|██████████| 54/54 [00:01<00:00, 41.34it/s, loss=0.512, acc=70.5]\n"
     ]
    },
    {
     "name": "stdout",
     "output_type": "stream",
     "text": [
      "Epoch 18: Train Loss=0.7939, Train Acc=70.49%, Test Acc=75.46%, Test F1=0.7531\n"
     ]
    },
    {
     "name": "stderr",
     "output_type": "stream",
     "text": [
      "Epoch 19: 100%|██████████| 54/54 [00:01<00:00, 42.64it/s, loss=0.425, acc=73.3]\n"
     ]
    },
    {
     "name": "stdout",
     "output_type": "stream",
     "text": [
      "Epoch 19: Train Loss=0.7234, Train Acc=73.26%, Test Acc=77.78%, Test F1=0.7777\n"
     ]
    },
    {
     "name": "stderr",
     "output_type": "stream",
     "text": [
      "Epoch 20: 100%|██████████| 54/54 [00:01<00:00, 42.52it/s, loss=0.498, acc=73.5]\n"
     ]
    },
    {
     "name": "stdout",
     "output_type": "stream",
     "text": [
      "Epoch 20: Train Loss=0.7008, Train Acc=73.50%, Test Acc=75.93%, Test F1=0.7590\n"
     ]
    },
    {
     "name": "stderr",
     "output_type": "stream",
     "text": [
      "Epoch 21: 100%|██████████| 54/54 [00:01<00:00, 46.60it/s, loss=0.662, acc=73.1]\n"
     ]
    },
    {
     "name": "stdout",
     "output_type": "stream",
     "text": [
      "Epoch 21: Train Loss=0.7138, Train Acc=73.15%, Test Acc=74.54%, Test F1=0.7422\n"
     ]
    },
    {
     "name": "stderr",
     "output_type": "stream",
     "text": [
      "Epoch 22: 100%|██████████| 54/54 [00:01<00:00, 45.80it/s, loss=0.992, acc=75.7]\n"
     ]
    },
    {
     "name": "stdout",
     "output_type": "stream",
     "text": [
      "Epoch 22: Train Loss=0.6669, Train Acc=75.69%, Test Acc=75.46%, Test F1=0.7527\n"
     ]
    },
    {
     "name": "stderr",
     "output_type": "stream",
     "text": [
      "Epoch 23: 100%|██████████| 54/54 [00:01<00:00, 45.10it/s, loss=0.77, acc=79.3]\n"
     ]
    },
    {
     "name": "stdout",
     "output_type": "stream",
     "text": [
      "Epoch 23: Train Loss=0.6089, Train Acc=79.28%, Test Acc=76.39%, Test F1=0.7624\n"
     ]
    },
    {
     "name": "stderr",
     "output_type": "stream",
     "text": [
      "Epoch 24: 100%|██████████| 54/54 [00:01<00:00, 45.44it/s, loss=0.362, acc=80.4]\n"
     ]
    },
    {
     "name": "stdout",
     "output_type": "stream",
     "text": [
      "Epoch 24: Train Loss=0.5465, Train Acc=80.44%, Test Acc=81.48%, Test F1=0.8130\n"
     ]
    },
    {
     "name": "stderr",
     "output_type": "stream",
     "text": [
      "Epoch 25: 100%|██████████| 54/54 [00:01<00:00, 43.47it/s, loss=0.722, acc=81.9]\n"
     ]
    },
    {
     "name": "stdout",
     "output_type": "stream",
     "text": [
      "Epoch 25: Train Loss=0.5697, Train Acc=81.94%, Test Acc=82.87%, Test F1=0.8268\n"
     ]
    },
    {
     "name": "stderr",
     "output_type": "stream",
     "text": [
      "Epoch 26: 100%|██████████| 54/54 [00:01<00:00, 45.65it/s, loss=0.519, acc=82.6]\n"
     ]
    },
    {
     "name": "stdout",
     "output_type": "stream",
     "text": [
      "Epoch 26: Train Loss=0.5361, Train Acc=82.64%, Test Acc=78.70%, Test F1=0.7856\n"
     ]
    },
    {
     "name": "stderr",
     "output_type": "stream",
     "text": [
      "Epoch 27: 100%|██████████| 54/54 [00:01<00:00, 46.34it/s, loss=0.413, acc=83.2]\n"
     ]
    },
    {
     "name": "stdout",
     "output_type": "stream",
     "text": [
      "Epoch 27: Train Loss=0.4895, Train Acc=83.22%, Test Acc=81.02%, Test F1=0.8094\n"
     ]
    },
    {
     "name": "stderr",
     "output_type": "stream",
     "text": [
      "Epoch 28: 100%|██████████| 54/54 [00:01<00:00, 45.62it/s, loss=0.399, acc=85.4]\n"
     ]
    },
    {
     "name": "stdout",
     "output_type": "stream",
     "text": [
      "Epoch 28: Train Loss=0.4637, Train Acc=85.42%, Test Acc=80.09%, Test F1=0.7981\n"
     ]
    },
    {
     "name": "stderr",
     "output_type": "stream",
     "text": [
      "Epoch 29: 100%|██████████| 54/54 [00:01<00:00, 47.68it/s, loss=0.285, acc=85.5]\n"
     ]
    },
    {
     "name": "stdout",
     "output_type": "stream",
     "text": [
      "Epoch 29: Train Loss=0.4723, Train Acc=85.53%, Test Acc=78.24%, Test F1=0.7778\n"
     ]
    },
    {
     "name": "stderr",
     "output_type": "stream",
     "text": [
      "Epoch 30: 100%|██████████| 54/54 [00:01<00:00, 43.15it/s, loss=0.88, acc=86.8]\n"
     ]
    },
    {
     "name": "stdout",
     "output_type": "stream",
     "text": [
      "Epoch 30: Train Loss=0.4108, Train Acc=86.81%, Test Acc=80.56%, Test F1=0.8036\n"
     ]
    },
    {
     "name": "stderr",
     "output_type": "stream",
     "text": [
      "Epoch 31: 100%|██████████| 54/54 [00:00<00:00, 55.46it/s, loss=0.158, acc=85.6]\n"
     ]
    },
    {
     "name": "stdout",
     "output_type": "stream",
     "text": [
      "Epoch 31: Train Loss=0.4364, Train Acc=85.65%, Test Acc=80.09%, Test F1=0.7962\n"
     ]
    },
    {
     "name": "stderr",
     "output_type": "stream",
     "text": [
      "Epoch 32: 100%|██████████| 54/54 [00:01<00:00, 53.96it/s, loss=0.477, acc=87]\n"
     ]
    },
    {
     "name": "stdout",
     "output_type": "stream",
     "text": [
      "Epoch 32: Train Loss=0.3919, Train Acc=87.04%, Test Acc=78.70%, Test F1=0.7873\n"
     ]
    },
    {
     "name": "stderr",
     "output_type": "stream",
     "text": [
      "Epoch 33: 100%|██████████| 54/54 [00:01<00:00, 53.68it/s, loss=0.28, acc=86.3]\n"
     ]
    },
    {
     "name": "stdout",
     "output_type": "stream",
     "text": [
      "Epoch 33: Train Loss=0.4122, Train Acc=86.34%, Test Acc=77.31%, Test F1=0.7713\n"
     ]
    },
    {
     "name": "stderr",
     "output_type": "stream",
     "text": [
      "Epoch 34: 100%|██████████| 54/54 [00:01<00:00, 53.87it/s, loss=0.31, acc=88.1]\n"
     ]
    },
    {
     "name": "stdout",
     "output_type": "stream",
     "text": [
      "Epoch 34: Train Loss=0.4039, Train Acc=88.08%, Test Acc=78.70%, Test F1=0.7839\n"
     ]
    },
    {
     "name": "stderr",
     "output_type": "stream",
     "text": [
      "Epoch 35: 100%|██████████| 54/54 [00:01<00:00, 53.41it/s, loss=0.67, acc=90]\n"
     ]
    },
    {
     "name": "stdout",
     "output_type": "stream",
     "text": [
      "Epoch 35: Train Loss=0.3158, Train Acc=90.05%, Test Acc=80.09%, Test F1=0.8004\n"
     ]
    },
    {
     "name": "stderr",
     "output_type": "stream",
     "text": [
      "Epoch 36: 100%|██████████| 54/54 [00:00<00:00, 54.14it/s, loss=0.103, acc=87.7]\n"
     ]
    },
    {
     "name": "stdout",
     "output_type": "stream",
     "text": [
      "Epoch 36: Train Loss=0.3943, Train Acc=87.73%, Test Acc=79.63%, Test F1=0.7957\n"
     ]
    },
    {
     "name": "stderr",
     "output_type": "stream",
     "text": [
      "Epoch 37: 100%|██████████| 54/54 [00:00<00:00, 54.15it/s, loss=0.168, acc=88.9]\n"
     ]
    },
    {
     "name": "stdout",
     "output_type": "stream",
     "text": [
      "Epoch 37: Train Loss=0.3792, Train Acc=88.89%, Test Acc=81.48%, Test F1=0.8139\n"
     ]
    },
    {
     "name": "stderr",
     "output_type": "stream",
     "text": [
      "Epoch 38: 100%|██████████| 54/54 [00:01<00:00, 53.23it/s, loss=0.115, acc=91]\n"
     ]
    },
    {
     "name": "stdout",
     "output_type": "stream",
     "text": [
      "Epoch 38: Train Loss=0.2891, Train Acc=90.97%, Test Acc=81.48%, Test F1=0.8133\n"
     ]
    },
    {
     "name": "stderr",
     "output_type": "stream",
     "text": [
      "Epoch 39: 100%|██████████| 54/54 [00:01<00:00, 52.22it/s, loss=0.959, acc=89.8]\n"
     ]
    },
    {
     "name": "stdout",
     "output_type": "stream",
     "text": [
      "Epoch 39: Train Loss=0.3606, Train Acc=89.81%, Test Acc=82.87%, Test F1=0.8270\n"
     ]
    },
    {
     "name": "stderr",
     "output_type": "stream",
     "text": [
      "Epoch 40: 100%|██████████| 54/54 [00:00<00:00, 54.93it/s, loss=0.139, acc=90]\n"
     ]
    },
    {
     "name": "stdout",
     "output_type": "stream",
     "text": [
      "Epoch 40: Train Loss=0.3095, Train Acc=90.05%, Test Acc=83.33%, Test F1=0.8331\n"
     ]
    },
    {
     "name": "stderr",
     "output_type": "stream",
     "text": [
      "Epoch 41: 100%|██████████| 54/54 [00:00<00:00, 56.05it/s, loss=0.167, acc=89]\n"
     ]
    },
    {
     "name": "stdout",
     "output_type": "stream",
     "text": [
      "Epoch 41: Train Loss=0.3705, Train Acc=89.00%, Test Acc=82.87%, Test F1=0.8310\n"
     ]
    },
    {
     "name": "stderr",
     "output_type": "stream",
     "text": [
      "Epoch 42: 100%|██████████| 54/54 [00:00<00:00, 55.06it/s, loss=0.726, acc=90.5]\n"
     ]
    },
    {
     "name": "stdout",
     "output_type": "stream",
     "text": [
      "Epoch 42: Train Loss=0.3019, Train Acc=90.51%, Test Acc=80.09%, Test F1=0.7979\n"
     ]
    },
    {
     "name": "stderr",
     "output_type": "stream",
     "text": [
      "Epoch 43: 100%|██████████| 54/54 [00:01<00:00, 53.41it/s, loss=0.208, acc=88.9]\n"
     ]
    },
    {
     "name": "stdout",
     "output_type": "stream",
     "text": [
      "Epoch 43: Train Loss=0.3569, Train Acc=88.89%, Test Acc=81.94%, Test F1=0.8204\n"
     ]
    },
    {
     "name": "stderr",
     "output_type": "stream",
     "text": [
      "Epoch 44: 100%|██████████| 54/54 [00:00<00:00, 55.15it/s, loss=0.06, acc=90.2]\n"
     ]
    },
    {
     "name": "stdout",
     "output_type": "stream",
     "text": [
      "Epoch 44: Train Loss=0.3533, Train Acc=90.16%, Test Acc=82.41%, Test F1=0.8237\n"
     ]
    },
    {
     "name": "stderr",
     "output_type": "stream",
     "text": [
      "Epoch 45: 100%|██████████| 54/54 [00:00<00:00, 55.09it/s, loss=0.154, acc=91.2]\n"
     ]
    },
    {
     "name": "stdout",
     "output_type": "stream",
     "text": [
      "Epoch 45: Train Loss=0.3112, Train Acc=91.20%, Test Acc=83.33%, Test F1=0.8323\n"
     ]
    },
    {
     "name": "stderr",
     "output_type": "stream",
     "text": [
      "Epoch 46: 100%|██████████| 54/54 [00:00<00:00, 54.93it/s, loss=0.162, acc=90.4]\n"
     ]
    },
    {
     "name": "stdout",
     "output_type": "stream",
     "text": [
      "Epoch 46: Train Loss=0.3276, Train Acc=90.39%, Test Acc=83.33%, Test F1=0.8338\n"
     ]
    },
    {
     "name": "stderr",
     "output_type": "stream",
     "text": [
      "Epoch 47: 100%|██████████| 54/54 [00:00<00:00, 55.19it/s, loss=0.144, acc=92]\n"
     ]
    },
    {
     "name": "stdout",
     "output_type": "stream",
     "text": [
      "Epoch 47: Train Loss=0.2508, Train Acc=92.01%, Test Acc=82.87%, Test F1=0.8298\n"
     ]
    },
    {
     "name": "stderr",
     "output_type": "stream",
     "text": [
      "Epoch 48: 100%|██████████| 54/54 [00:01<00:00, 53.52it/s, loss=0.0432, acc=92.6]\n"
     ]
    },
    {
     "name": "stdout",
     "output_type": "stream",
     "text": [
      "Epoch 48: Train Loss=0.2290, Train Acc=92.59%, Test Acc=85.65%, Test F1=0.8554\n"
     ]
    },
    {
     "name": "stderr",
     "output_type": "stream",
     "text": [
      "Epoch 49: 100%|██████████| 54/54 [00:00<00:00, 54.77it/s, loss=0.336, acc=92]\n"
     ]
    },
    {
     "name": "stdout",
     "output_type": "stream",
     "text": [
      "Epoch 49: Train Loss=0.3009, Train Acc=92.01%, Test Acc=83.80%, Test F1=0.8367\n"
     ]
    },
    {
     "name": "stderr",
     "output_type": "stream",
     "text": [
      "Epoch 50: 100%|██████████| 54/54 [00:00<00:00, 54.07it/s, loss=0.0961, acc=93.1]\n"
     ]
    },
    {
     "name": "stdout",
     "output_type": "stream",
     "text": [
      "Epoch 50: Train Loss=0.2583, Train Acc=93.06%, Test Acc=85.65%, Test F1=0.8561\n"
     ]
    },
    {
     "name": "stderr",
     "output_type": "stream",
     "text": [
      "Epoch 51: 100%|██████████| 54/54 [00:01<00:00, 52.44it/s, loss=0.704, acc=91.9]\n"
     ]
    },
    {
     "name": "stdout",
     "output_type": "stream",
     "text": [
      "Epoch 51: Train Loss=0.2588, Train Acc=91.90%, Test Acc=84.26%, Test F1=0.8401\n"
     ]
    },
    {
     "name": "stderr",
     "output_type": "stream",
     "text": [
      "Epoch 52: 100%|██████████| 54/54 [00:00<00:00, 55.19it/s, loss=1.75, acc=92]\n"
     ]
    },
    {
     "name": "stdout",
     "output_type": "stream",
     "text": [
      "Epoch 52: Train Loss=0.2820, Train Acc=92.01%, Test Acc=82.87%, Test F1=0.8286\n"
     ]
    },
    {
     "name": "stderr",
     "output_type": "stream",
     "text": [
      "Epoch 53: 100%|██████████| 54/54 [00:01<00:00, 53.89it/s, loss=0.0623, acc=92.8]\n"
     ]
    },
    {
     "name": "stdout",
     "output_type": "stream",
     "text": [
      "Epoch 53: Train Loss=0.2343, Train Acc=92.82%, Test Acc=85.19%, Test F1=0.8507\n"
     ]
    },
    {
     "name": "stderr",
     "output_type": "stream",
     "text": [
      "Epoch 54: 100%|██████████| 54/54 [00:01<00:00, 51.19it/s, loss=0.37, acc=92.8]\n"
     ]
    },
    {
     "name": "stdout",
     "output_type": "stream",
     "text": [
      "Epoch 54: Train Loss=0.2604, Train Acc=92.82%, Test Acc=83.33%, Test F1=0.8314\n"
     ]
    },
    {
     "name": "stderr",
     "output_type": "stream",
     "text": [
      "Epoch 55: 100%|██████████| 54/54 [00:00<00:00, 54.71it/s, loss=0.472, acc=93.5]\n"
     ]
    },
    {
     "name": "stdout",
     "output_type": "stream",
     "text": [
      "Epoch 55: Train Loss=0.2396, Train Acc=93.52%, Test Acc=85.65%, Test F1=0.8558\n"
     ]
    },
    {
     "name": "stderr",
     "output_type": "stream",
     "text": [
      "Epoch 56: 100%|██████████| 54/54 [00:01<00:00, 50.94it/s, loss=0.123, acc=93.3]\n"
     ]
    },
    {
     "name": "stdout",
     "output_type": "stream",
     "text": [
      "Epoch 56: Train Loss=0.2491, Train Acc=93.29%, Test Acc=85.19%, Test F1=0.8505\n"
     ]
    },
    {
     "name": "stderr",
     "output_type": "stream",
     "text": [
      "Epoch 57: 100%|██████████| 54/54 [00:01<00:00, 53.61it/s, loss=0.021, acc=92.6]\n"
     ]
    },
    {
     "name": "stdout",
     "output_type": "stream",
     "text": [
      "Epoch 57: Train Loss=0.2773, Train Acc=92.59%, Test Acc=87.04%, Test F1=0.8695\n"
     ]
    },
    {
     "name": "stderr",
     "output_type": "stream",
     "text": [
      "Epoch 58: 100%|██████████| 54/54 [00:00<00:00, 54.75it/s, loss=0.0608, acc=92.9]\n"
     ]
    },
    {
     "name": "stdout",
     "output_type": "stream",
     "text": [
      "Epoch 58: Train Loss=0.2377, Train Acc=92.94%, Test Acc=85.19%, Test F1=0.8520\n"
     ]
    },
    {
     "name": "stderr",
     "output_type": "stream",
     "text": [
      "Epoch 59: 100%|██████████| 54/54 [00:01<00:00, 51.43it/s, loss=0.0431, acc=92]\n"
     ]
    },
    {
     "name": "stdout",
     "output_type": "stream",
     "text": [
      "Epoch 59: Train Loss=0.2576, Train Acc=92.01%, Test Acc=83.80%, Test F1=0.8355\n"
     ]
    },
    {
     "name": "stderr",
     "output_type": "stream",
     "text": [
      "Epoch 60: 100%|██████████| 54/54 [00:01<00:00, 51.99it/s, loss=0.178, acc=92.1]\n"
     ]
    },
    {
     "name": "stdout",
     "output_type": "stream",
     "text": [
      "Epoch 60: Train Loss=0.2495, Train Acc=92.13%, Test Acc=85.19%, Test F1=0.8531\n"
     ]
    },
    {
     "name": "stderr",
     "output_type": "stream",
     "text": [
      "Epoch 61: 100%|██████████| 54/54 [00:01<00:00, 52.42it/s, loss=0.142, acc=92.4]\n"
     ]
    },
    {
     "name": "stdout",
     "output_type": "stream",
     "text": [
      "Epoch 61: Train Loss=0.2390, Train Acc=92.36%, Test Acc=85.19%, Test F1=0.8495\n"
     ]
    },
    {
     "name": "stderr",
     "output_type": "stream",
     "text": [
      "Epoch 62: 100%|██████████| 54/54 [00:01<00:00, 53.63it/s, loss=0.0295, acc=94.7]\n"
     ]
    },
    {
     "name": "stdout",
     "output_type": "stream",
     "text": [
      "Epoch 62: Train Loss=0.1930, Train Acc=94.68%, Test Acc=83.80%, Test F1=0.8388\n"
     ]
    },
    {
     "name": "stderr",
     "output_type": "stream",
     "text": [
      "Epoch 63: 100%|██████████| 54/54 [00:01<00:00, 53.31it/s, loss=0.0484, acc=94.3]\n"
     ]
    },
    {
     "name": "stdout",
     "output_type": "stream",
     "text": [
      "Epoch 63: Train Loss=0.1824, Train Acc=94.33%, Test Acc=83.80%, Test F1=0.8379\n"
     ]
    },
    {
     "name": "stderr",
     "output_type": "stream",
     "text": [
      "Epoch 64: 100%|██████████| 54/54 [00:01<00:00, 51.59it/s, loss=0.333, acc=94.4]\n"
     ]
    },
    {
     "name": "stdout",
     "output_type": "stream",
     "text": [
      "Epoch 64: Train Loss=0.2129, Train Acc=94.44%, Test Acc=84.26%, Test F1=0.8436\n"
     ]
    },
    {
     "name": "stderr",
     "output_type": "stream",
     "text": [
      "Epoch 65: 100%|██████████| 54/54 [00:01<00:00, 53.06it/s, loss=0.226, acc=93.1]\n"
     ]
    },
    {
     "name": "stdout",
     "output_type": "stream",
     "text": [
      "Epoch 65: Train Loss=0.2335, Train Acc=93.06%, Test Acc=84.26%, Test F1=0.8416\n"
     ]
    },
    {
     "name": "stderr",
     "output_type": "stream",
     "text": [
      "Epoch 66: 100%|██████████| 54/54 [00:01<00:00, 53.39it/s, loss=0.0314, acc=94.4]\n"
     ]
    },
    {
     "name": "stdout",
     "output_type": "stream",
     "text": [
      "Epoch 66: Train Loss=0.1798, Train Acc=94.44%, Test Acc=84.72%, Test F1=0.8465\n"
     ]
    },
    {
     "name": "stderr",
     "output_type": "stream",
     "text": [
      "Epoch 67: 100%|██████████| 54/54 [00:01<00:00, 53.73it/s, loss=0.0776, acc=94.1]\n"
     ]
    },
    {
     "name": "stdout",
     "output_type": "stream",
     "text": [
      "Epoch 67: Train Loss=0.1901, Train Acc=94.10%, Test Acc=83.33%, Test F1=0.8321\n"
     ]
    },
    {
     "name": "stderr",
     "output_type": "stream",
     "text": [
      "Epoch 68: 100%|██████████| 54/54 [00:01<00:00, 53.44it/s, loss=0.0334, acc=93.9]\n"
     ]
    },
    {
     "name": "stdout",
     "output_type": "stream",
     "text": [
      "Epoch 68: Train Loss=0.2088, Train Acc=93.87%, Test Acc=84.72%, Test F1=0.8472\n"
     ]
    },
    {
     "name": "stderr",
     "output_type": "stream",
     "text": [
      "Epoch 69: 100%|██████████| 54/54 [00:01<00:00, 53.96it/s, loss=0.0488, acc=94.4]\n"
     ]
    },
    {
     "name": "stdout",
     "output_type": "stream",
     "text": [
      "Epoch 69: Train Loss=0.1916, Train Acc=94.44%, Test Acc=84.26%, Test F1=0.8408\n"
     ]
    },
    {
     "name": "stderr",
     "output_type": "stream",
     "text": [
      "Epoch 70: 100%|██████████| 54/54 [00:00<00:00, 54.75it/s, loss=0.487, acc=94.7]\n"
     ]
    },
    {
     "name": "stdout",
     "output_type": "stream",
     "text": [
      "Epoch 70: Train Loss=0.1848, Train Acc=94.68%, Test Acc=86.11%, Test F1=0.8609\n"
     ]
    },
    {
     "name": "stderr",
     "output_type": "stream",
     "text": [
      "Epoch 71: 100%|██████████| 54/54 [00:00<00:00, 54.29it/s, loss=0.0347, acc=96.1]\n"
     ]
    },
    {
     "name": "stdout",
     "output_type": "stream",
     "text": [
      "Epoch 71: Train Loss=0.1351, Train Acc=96.06%, Test Acc=85.19%, Test F1=0.8497\n"
     ]
    },
    {
     "name": "stderr",
     "output_type": "stream",
     "text": [
      "Epoch 72: 100%|██████████| 54/54 [00:00<00:00, 54.91it/s, loss=0.0714, acc=96.1]\n"
     ]
    },
    {
     "name": "stdout",
     "output_type": "stream",
     "text": [
      "Epoch 72: Train Loss=0.1726, Train Acc=96.06%, Test Acc=84.72%, Test F1=0.8466\n"
     ]
    },
    {
     "name": "stderr",
     "output_type": "stream",
     "text": [
      "Epoch 73: 100%|██████████| 54/54 [00:01<00:00, 53.50it/s, loss=0.0291, acc=95.1]\n"
     ]
    },
    {
     "name": "stdout",
     "output_type": "stream",
     "text": [
      "Epoch 73: Train Loss=0.1609, Train Acc=95.14%, Test Acc=86.57%, Test F1=0.8651\n"
     ]
    },
    {
     "name": "stderr",
     "output_type": "stream",
     "text": [
      "Epoch 74: 100%|██████████| 54/54 [00:00<00:00, 55.04it/s, loss=0.0211, acc=96.1]\n"
     ]
    },
    {
     "name": "stdout",
     "output_type": "stream",
     "text": [
      "Epoch 74: Train Loss=0.1230, Train Acc=96.06%, Test Acc=85.19%, Test F1=0.8507\n"
     ]
    },
    {
     "name": "stderr",
     "output_type": "stream",
     "text": [
      "Epoch 75: 100%|██████████| 54/54 [00:00<00:00, 55.43it/s, loss=0.278, acc=93.3]\n"
     ]
    },
    {
     "name": "stdout",
     "output_type": "stream",
     "text": [
      "Epoch 75: Train Loss=0.2480, Train Acc=93.29%, Test Acc=84.72%, Test F1=0.8466\n"
     ]
    },
    {
     "name": "stderr",
     "output_type": "stream",
     "text": [
      "Epoch 76: 100%|██████████| 54/54 [00:01<00:00, 53.32it/s, loss=0.245, acc=94.3]\n"
     ]
    },
    {
     "name": "stdout",
     "output_type": "stream",
     "text": [
      "Epoch 76: Train Loss=0.1864, Train Acc=94.33%, Test Acc=83.80%, Test F1=0.8361\n"
     ]
    },
    {
     "name": "stderr",
     "output_type": "stream",
     "text": [
      "Epoch 77: 100%|██████████| 54/54 [00:00<00:00, 54.18it/s, loss=0.0174, acc=95.4]\n"
     ]
    },
    {
     "name": "stdout",
     "output_type": "stream",
     "text": [
      "Epoch 77: Train Loss=0.1758, Train Acc=95.37%, Test Acc=85.65%, Test F1=0.8554\n"
     ]
    },
    {
     "name": "stderr",
     "output_type": "stream",
     "text": [
      "Epoch 78: 100%|██████████| 54/54 [00:00<00:00, 54.09it/s, loss=0.946, acc=95.3]\n"
     ]
    },
    {
     "name": "stdout",
     "output_type": "stream",
     "text": [
      "Epoch 78: Train Loss=0.1646, Train Acc=95.25%, Test Acc=83.33%, Test F1=0.8319\n"
     ]
    },
    {
     "name": "stderr",
     "output_type": "stream",
     "text": [
      "Epoch 79: 100%|██████████| 54/54 [00:01<00:00, 50.53it/s, loss=0.00844, acc=95.3]\n"
     ]
    },
    {
     "name": "stdout",
     "output_type": "stream",
     "text": [
      "Epoch 79: Train Loss=0.1929, Train Acc=95.25%, Test Acc=85.19%, Test F1=0.8530\n"
     ]
    },
    {
     "name": "stderr",
     "output_type": "stream",
     "text": [
      "Epoch 80: 100%|██████████| 54/54 [00:01<00:00, 53.21it/s, loss=0.0165, acc=95]\n"
     ]
    },
    {
     "name": "stdout",
     "output_type": "stream",
     "text": [
      "Epoch 80: Train Loss=0.2282, Train Acc=95.02%, Test Acc=84.26%, Test F1=0.8429\n"
     ]
    },
    {
     "name": "stderr",
     "output_type": "stream",
     "text": [
      "Epoch 81: 100%|██████████| 54/54 [00:01<00:00, 51.19it/s, loss=0.125, acc=95.6]\n"
     ]
    },
    {
     "name": "stdout",
     "output_type": "stream",
     "text": [
      "Epoch 81: Train Loss=0.1698, Train Acc=95.60%, Test Acc=85.19%, Test F1=0.8505\n"
     ]
    },
    {
     "name": "stderr",
     "output_type": "stream",
     "text": [
      "Epoch 82: 100%|██████████| 54/54 [00:01<00:00, 52.79it/s, loss=0.438, acc=94.4]\n"
     ]
    },
    {
     "name": "stdout",
     "output_type": "stream",
     "text": [
      "Epoch 82: Train Loss=0.2062, Train Acc=94.44%, Test Acc=82.41%, Test F1=0.8221\n"
     ]
    },
    {
     "name": "stderr",
     "output_type": "stream",
     "text": [
      "Epoch 83: 100%|██████████| 54/54 [00:01<00:00, 52.86it/s, loss=0.0226, acc=96.2]\n"
     ]
    },
    {
     "name": "stdout",
     "output_type": "stream",
     "text": [
      "Epoch 83: Train Loss=0.1557, Train Acc=96.18%, Test Acc=83.33%, Test F1=0.8357\n"
     ]
    },
    {
     "name": "stderr",
     "output_type": "stream",
     "text": [
      "Epoch 84: 100%|██████████| 54/54 [00:01<00:00, 52.02it/s, loss=0.0143, acc=98.3]\n"
     ]
    },
    {
     "name": "stdout",
     "output_type": "stream",
     "text": [
      "Epoch 84: Train Loss=0.0589, Train Acc=98.26%, Test Acc=85.65%, Test F1=0.8560\n"
     ]
    },
    {
     "name": "stderr",
     "output_type": "stream",
     "text": [
      "Epoch 85: 100%|██████████| 54/54 [00:01<00:00, 53.71it/s, loss=0.276, acc=94.7]\n"
     ]
    },
    {
     "name": "stdout",
     "output_type": "stream",
     "text": [
      "Epoch 85: Train Loss=0.2104, Train Acc=94.68%, Test Acc=83.80%, Test F1=0.8403\n"
     ]
    },
    {
     "name": "stderr",
     "output_type": "stream",
     "text": [
      "Epoch 86: 100%|██████████| 54/54 [00:00<00:00, 54.36it/s, loss=0.0193, acc=94.3]\n"
     ]
    },
    {
     "name": "stdout",
     "output_type": "stream",
     "text": [
      "Epoch 86: Train Loss=0.2234, Train Acc=94.33%, Test Acc=85.65%, Test F1=0.8569\n"
     ]
    },
    {
     "name": "stderr",
     "output_type": "stream",
     "text": [
      "Epoch 87: 100%|██████████| 54/54 [00:00<00:00, 54.21it/s, loss=0.0125, acc=97.1]\n"
     ]
    },
    {
     "name": "stdout",
     "output_type": "stream",
     "text": [
      "Epoch 87: Train Loss=0.1121, Train Acc=97.11%, Test Acc=86.11%, Test F1=0.8618\n"
     ]
    },
    {
     "name": "stderr",
     "output_type": "stream",
     "text": [
      "Epoch 88: 100%|██████████| 54/54 [00:00<00:00, 54.72it/s, loss=0.067, acc=97]\n"
     ]
    },
    {
     "name": "stdout",
     "output_type": "stream",
     "text": [
      "Epoch 88: Train Loss=0.0948, Train Acc=96.99%, Test Acc=83.80%, Test F1=0.8389\n"
     ]
    },
    {
     "name": "stderr",
     "output_type": "stream",
     "text": [
      "Epoch 89: 100%|██████████| 54/54 [00:01<00:00, 51.40it/s, loss=0.0204, acc=94.1]\n"
     ]
    },
    {
     "name": "stdout",
     "output_type": "stream",
     "text": [
      "Epoch 89: Train Loss=0.1857, Train Acc=94.10%, Test Acc=85.19%, Test F1=0.8504\n"
     ]
    },
    {
     "name": "stderr",
     "output_type": "stream",
     "text": [
      "Epoch 90: 100%|██████████| 54/54 [00:01<00:00, 51.33it/s, loss=0.454, acc=97]\n"
     ]
    },
    {
     "name": "stdout",
     "output_type": "stream",
     "text": [
      "Epoch 90: Train Loss=0.1159, Train Acc=96.99%, Test Acc=83.33%, Test F1=0.8350\n"
     ]
    },
    {
     "name": "stderr",
     "output_type": "stream",
     "text": [
      "Epoch 91: 100%|██████████| 54/54 [00:01<00:00, 50.58it/s, loss=1.14, acc=93.2]\n"
     ]
    },
    {
     "name": "stdout",
     "output_type": "stream",
     "text": [
      "Epoch 91: Train Loss=0.2820, Train Acc=93.17%, Test Acc=85.19%, Test F1=0.8523\n"
     ]
    },
    {
     "name": "stderr",
     "output_type": "stream",
     "text": [
      "Epoch 92: 100%|██████████| 54/54 [00:01<00:00, 50.07it/s, loss=0.0151, acc=96.6]\n"
     ]
    },
    {
     "name": "stdout",
     "output_type": "stream",
     "text": [
      "Epoch 92: Train Loss=0.1131, Train Acc=96.64%, Test Acc=84.72%, Test F1=0.8464\n"
     ]
    },
    {
     "name": "stderr",
     "output_type": "stream",
     "text": [
      "Epoch 93: 100%|██████████| 54/54 [00:01<00:00, 49.43it/s, loss=0.00729, acc=97.3]\n"
     ]
    },
    {
     "name": "stdout",
     "output_type": "stream",
     "text": [
      "Epoch 93: Train Loss=0.1090, Train Acc=97.34%, Test Acc=85.65%, Test F1=0.8570\n"
     ]
    },
    {
     "name": "stderr",
     "output_type": "stream",
     "text": [
      "Epoch 94: 100%|██████████| 54/54 [00:01<00:00, 49.53it/s, loss=0.0642, acc=95.8]\n"
     ]
    },
    {
     "name": "stdout",
     "output_type": "stream",
     "text": [
      "Epoch 94: Train Loss=0.1523, Train Acc=95.83%, Test Acc=84.26%, Test F1=0.8426\n"
     ]
    },
    {
     "name": "stderr",
     "output_type": "stream",
     "text": [
      "Epoch 95: 100%|██████████| 54/54 [00:01<00:00, 52.22it/s, loss=0.0595, acc=95.9]\n"
     ]
    },
    {
     "name": "stdout",
     "output_type": "stream",
     "text": [
      "Epoch 95: Train Loss=0.1384, Train Acc=95.95%, Test Acc=84.26%, Test F1=0.8435\n"
     ]
    },
    {
     "name": "stderr",
     "output_type": "stream",
     "text": [
      "Epoch 96: 100%|██████████| 54/54 [00:01<00:00, 50.69it/s, loss=0.0108, acc=95.3]\n"
     ]
    },
    {
     "name": "stdout",
     "output_type": "stream",
     "text": [
      "Epoch 96: Train Loss=0.1784, Train Acc=95.25%, Test Acc=85.19%, Test F1=0.8524\n"
     ]
    },
    {
     "name": "stderr",
     "output_type": "stream",
     "text": [
      "Epoch 97: 100%|██████████| 54/54 [00:01<00:00, 48.87it/s, loss=0.0219, acc=97.1]\n"
     ]
    },
    {
     "name": "stdout",
     "output_type": "stream",
     "text": [
      "Epoch 97: Train Loss=0.1323, Train Acc=97.11%, Test Acc=83.33%, Test F1=0.8332\n"
     ]
    },
    {
     "name": "stderr",
     "output_type": "stream",
     "text": [
      "Epoch 98: 100%|██████████| 54/54 [00:01<00:00, 51.67it/s, loss=0.0257, acc=95.9]\n"
     ]
    },
    {
     "name": "stdout",
     "output_type": "stream",
     "text": [
      "Epoch 98: Train Loss=0.1367, Train Acc=95.95%, Test Acc=83.80%, Test F1=0.8382\n"
     ]
    },
    {
     "name": "stderr",
     "output_type": "stream",
     "text": [
      "Epoch 99: 100%|██████████| 54/54 [00:01<00:00, 52.38it/s, loss=0.0765, acc=95.9]\n"
     ]
    },
    {
     "name": "stdout",
     "output_type": "stream",
     "text": [
      "Epoch 99: Train Loss=0.1597, Train Acc=95.95%, Test Acc=84.72%, Test F1=0.8458\n"
     ]
    },
    {
     "name": "stderr",
     "output_type": "stream",
     "text": [
      "Epoch 100: 100%|██████████| 54/54 [00:01<00:00, 53.88it/s, loss=0.0748, acc=96.3]\n"
     ]
    },
    {
     "name": "stdout",
     "output_type": "stream",
     "text": [
      "Epoch 100: Train Loss=0.1377, Train Acc=96.30%, Test Acc=85.19%, Test F1=0.8510\n"
     ]
    },
    {
     "name": "stderr",
     "output_type": "stream",
     "text": [
      "Epoch 101: 100%|██████████| 54/54 [00:01<00:00, 51.17it/s, loss=0.0731, acc=96.3]\n"
     ]
    },
    {
     "name": "stdout",
     "output_type": "stream",
     "text": [
      "Epoch 101: Train Loss=0.1384, Train Acc=96.30%, Test Acc=84.72%, Test F1=0.8464\n"
     ]
    },
    {
     "name": "stderr",
     "output_type": "stream",
     "text": [
      "Epoch 102: 100%|██████████| 54/54 [00:01<00:00, 46.97it/s, loss=0.516, acc=95.4]\n"
     ]
    },
    {
     "name": "stdout",
     "output_type": "stream",
     "text": [
      "Epoch 102: Train Loss=0.1676, Train Acc=95.37%, Test Acc=85.19%, Test F1=0.8507\n"
     ]
    },
    {
     "name": "stderr",
     "output_type": "stream",
     "text": [
      "Epoch 103: 100%|██████████| 54/54 [00:01<00:00, 47.64it/s, loss=0.0655, acc=97]\n"
     ]
    },
    {
     "name": "stdout",
     "output_type": "stream",
     "text": [
      "Epoch 103: Train Loss=0.0911, Train Acc=96.99%, Test Acc=85.65%, Test F1=0.8575\n"
     ]
    },
    {
     "name": "stderr",
     "output_type": "stream",
     "text": [
      "Epoch 104: 100%|██████████| 54/54 [00:01<00:00, 47.98it/s, loss=0.0153, acc=97.9]\n"
     ]
    },
    {
     "name": "stdout",
     "output_type": "stream",
     "text": [
      "Epoch 104: Train Loss=0.0871, Train Acc=97.92%, Test Acc=83.80%, Test F1=0.8375\n"
     ]
    },
    {
     "name": "stderr",
     "output_type": "stream",
     "text": [
      "Epoch 105: 100%|██████████| 54/54 [00:01<00:00, 46.19it/s, loss=0.669, acc=96.6]\n"
     ]
    },
    {
     "name": "stdout",
     "output_type": "stream",
     "text": [
      "Epoch 105: Train Loss=0.1339, Train Acc=96.64%, Test Acc=84.26%, Test F1=0.8430\n"
     ]
    },
    {
     "name": "stderr",
     "output_type": "stream",
     "text": [
      "Epoch 106: 100%|██████████| 54/54 [00:01<00:00, 48.03it/s, loss=0.0635, acc=97]\n"
     ]
    },
    {
     "name": "stdout",
     "output_type": "stream",
     "text": [
      "Epoch 106: Train Loss=0.1257, Train Acc=96.99%, Test Acc=85.19%, Test F1=0.8518\n"
     ]
    },
    {
     "name": "stderr",
     "output_type": "stream",
     "text": [
      "Epoch 107: 100%|██████████| 54/54 [00:01<00:00, 48.59it/s, loss=0.0137, acc=96.6]\n"
     ]
    },
    {
     "name": "stdout",
     "output_type": "stream",
     "text": [
      "Epoch 107: Train Loss=0.1245, Train Acc=96.64%, Test Acc=84.26%, Test F1=0.8429\n",
      "Early stopping at epoch 107\n",
      "\n",
      "Training Summary:\n",
      "  Best Model: Epoch 57, Acc=87.04%, F1=0.8695\n",
      "  Highest: Epoch 57, Acc=87.04%, F1=0.8695\n",
      "Model doesn't have feature gating mechanism\n",
      "\n",
      "Final Results:\n",
      "  Best: Acc=84.26%, F1=0.8429\n",
      "  Highest: Acc=87.04%, F1=0.8695\n",
      "\n",
      "Classification Report:\n",
      "              precision    recall  f1-score   support\n",
      "\n",
      "       Angry       0.89      0.93      0.91        43\n",
      "       Happy       0.67      0.81      0.74        43\n",
      "     Natural       0.93      0.98      0.95        43\n",
      "         Sad       0.87      0.75      0.80        44\n",
      "   Surprised       0.89      0.74      0.81        43\n",
      "\n",
      "    accuracy                           0.84       216\n",
      "   macro avg       0.85      0.84      0.84       216\n",
      "weighted avg       0.85      0.84      0.84       216\n",
      "\n",
      "\n",
      "============================================================\n",
      "Experiment: Bangla Handcrafted\n",
      "============================================================\n",
      "Features shape: (1080, 51)\n",
      "Architecture: Deep DNN with Feature Gating\n",
      "Split: Train=864, Test=216\n",
      "HybridFusion configured: Total=51, MFCC=0, Acoustic=51, Mode=acoustic_only\n",
      "Model parameters: 621,701\n",
      "\n",
      "Training Configuration:\n",
      "  Architecture: HybridFusion\n",
      "  Learning Rate: 0.0005\n",
      "  Batch Size: 16\n",
      "  Description: HybridFusion with prosodic stream processing\n"
     ]
    },
    {
     "name": "stderr",
     "output_type": "stream",
     "text": [
      "Epoch 1: 100%|██████████| 54/54 [00:00<00:00, 73.42it/s, loss=1.85, acc=20.9]\n"
     ]
    },
    {
     "name": "stdout",
     "output_type": "stream",
     "text": [
      "Epoch 1: Train Loss=2.1187, Train Acc=20.95%, Test Acc=21.76%, Test F1=0.1528\n"
     ]
    },
    {
     "name": "stderr",
     "output_type": "stream",
     "text": [
      "Epoch 2: 100%|██████████| 54/54 [00:00<00:00, 72.98it/s, loss=2.18, acc=24.2]\n"
     ]
    },
    {
     "name": "stdout",
     "output_type": "stream",
     "text": [
      "Epoch 2: Train Loss=1.9570, Train Acc=24.19%, Test Acc=25.46%, Test F1=0.1682\n"
     ]
    },
    {
     "name": "stderr",
     "output_type": "stream",
     "text": [
      "Epoch 3: 100%|██████████| 54/54 [00:00<00:00, 72.93it/s, loss=2.07, acc=24.7]\n"
     ]
    },
    {
     "name": "stdout",
     "output_type": "stream",
     "text": [
      "Epoch 3: Train Loss=1.9263, Train Acc=24.65%, Test Acc=29.17%, Test F1=0.2333\n"
     ]
    },
    {
     "name": "stderr",
     "output_type": "stream",
     "text": [
      "Epoch 4: 100%|██████████| 54/54 [00:00<00:00, 72.75it/s, loss=1.68, acc=27.7]\n"
     ]
    },
    {
     "name": "stdout",
     "output_type": "stream",
     "text": [
      "Epoch 4: Train Loss=1.8239, Train Acc=27.66%, Test Acc=30.56%, Test F1=0.2494\n"
     ]
    },
    {
     "name": "stderr",
     "output_type": "stream",
     "text": [
      "Epoch 5: 100%|██████████| 54/54 [00:00<00:00, 73.21it/s, loss=2.35, acc=28]\n"
     ]
    },
    {
     "name": "stdout",
     "output_type": "stream",
     "text": [
      "Epoch 5: Train Loss=1.8041, Train Acc=28.01%, Test Acc=32.87%, Test F1=0.2872\n"
     ]
    },
    {
     "name": "stderr",
     "output_type": "stream",
     "text": [
      "Epoch 6: 100%|██████████| 54/54 [00:00<00:00, 73.82it/s, loss=1.89, acc=32.4]\n"
     ]
    },
    {
     "name": "stdout",
     "output_type": "stream",
     "text": [
      "Epoch 6: Train Loss=1.6571, Train Acc=32.41%, Test Acc=36.57%, Test F1=0.3410\n"
     ]
    },
    {
     "name": "stderr",
     "output_type": "stream",
     "text": [
      "Epoch 7: 100%|██████████| 54/54 [00:00<00:00, 75.01it/s, loss=1.28, acc=34.4]\n"
     ]
    },
    {
     "name": "stdout",
     "output_type": "stream",
     "text": [
      "Epoch 7: Train Loss=1.5671, Train Acc=34.38%, Test Acc=42.59%, Test F1=0.4073\n"
     ]
    },
    {
     "name": "stderr",
     "output_type": "stream",
     "text": [
      "Epoch 8: 100%|██████████| 54/54 [00:00<00:00, 70.82it/s, loss=1.81, acc=39]\n"
     ]
    },
    {
     "name": "stdout",
     "output_type": "stream",
     "text": [
      "Epoch 8: Train Loss=1.4953, Train Acc=39.00%, Test Acc=42.59%, Test F1=0.4131\n"
     ]
    },
    {
     "name": "stderr",
     "output_type": "stream",
     "text": [
      "Epoch 9: 100%|██████████| 54/54 [00:00<00:00, 71.14it/s, loss=1.7, acc=38.9]\n"
     ]
    },
    {
     "name": "stdout",
     "output_type": "stream",
     "text": [
      "Epoch 9: Train Loss=1.4593, Train Acc=38.89%, Test Acc=50.00%, Test F1=0.4884\n"
     ]
    },
    {
     "name": "stderr",
     "output_type": "stream",
     "text": [
      "Epoch 10: 100%|██████████| 54/54 [00:00<00:00, 72.10it/s, loss=1.77, acc=40.2]\n"
     ]
    },
    {
     "name": "stdout",
     "output_type": "stream",
     "text": [
      "Epoch 10: Train Loss=1.4593, Train Acc=40.16%, Test Acc=50.93%, Test F1=0.4945\n"
     ]
    },
    {
     "name": "stderr",
     "output_type": "stream",
     "text": [
      "Epoch 11: 100%|██████████| 54/54 [00:00<00:00, 72.50it/s, loss=1.27, acc=42.4]\n"
     ]
    },
    {
     "name": "stdout",
     "output_type": "stream",
     "text": [
      "Epoch 11: Train Loss=1.3382, Train Acc=42.36%, Test Acc=53.24%, Test F1=0.5207\n"
     ]
    },
    {
     "name": "stderr",
     "output_type": "stream",
     "text": [
      "Epoch 12: 100%|██████████| 54/54 [00:00<00:00, 71.77it/s, loss=1.41, acc=47.8]\n"
     ]
    },
    {
     "name": "stdout",
     "output_type": "stream",
     "text": [
      "Epoch 12: Train Loss=1.2688, Train Acc=47.80%, Test Acc=57.41%, Test F1=0.5680\n"
     ]
    },
    {
     "name": "stderr",
     "output_type": "stream",
     "text": [
      "Epoch 13: 100%|██████████| 54/54 [00:00<00:00, 71.49it/s, loss=1.3, acc=49.8]\n"
     ]
    },
    {
     "name": "stdout",
     "output_type": "stream",
     "text": [
      "Epoch 13: Train Loss=1.2212, Train Acc=49.77%, Test Acc=53.70%, Test F1=0.5263\n"
     ]
    },
    {
     "name": "stderr",
     "output_type": "stream",
     "text": [
      "Epoch 14: 100%|██████████| 54/54 [00:00<00:00, 71.99it/s, loss=1.03, acc=52.8]\n"
     ]
    },
    {
     "name": "stdout",
     "output_type": "stream",
     "text": [
      "Epoch 14: Train Loss=1.1521, Train Acc=52.78%, Test Acc=58.80%, Test F1=0.5854\n"
     ]
    },
    {
     "name": "stderr",
     "output_type": "stream",
     "text": [
      "Epoch 15: 100%|██████████| 54/54 [00:00<00:00, 73.03it/s, loss=1.06, acc=52.5]\n"
     ]
    },
    {
     "name": "stdout",
     "output_type": "stream",
     "text": [
      "Epoch 15: Train Loss=1.1981, Train Acc=52.55%, Test Acc=62.50%, Test F1=0.6219\n"
     ]
    },
    {
     "name": "stderr",
     "output_type": "stream",
     "text": [
      "Epoch 16: 100%|██████████| 54/54 [00:00<00:00, 72.03it/s, loss=1.14, acc=56.7]\n"
     ]
    },
    {
     "name": "stdout",
     "output_type": "stream",
     "text": [
      "Epoch 16: Train Loss=1.1353, Train Acc=56.71%, Test Acc=64.35%, Test F1=0.6437\n"
     ]
    },
    {
     "name": "stderr",
     "output_type": "stream",
     "text": [
      "Epoch 17: 100%|██████████| 54/54 [00:00<00:00, 72.84it/s, loss=0.913, acc=55.9]\n"
     ]
    },
    {
     "name": "stdout",
     "output_type": "stream",
     "text": [
      "Epoch 17: Train Loss=1.0698, Train Acc=55.90%, Test Acc=64.81%, Test F1=0.6461\n"
     ]
    },
    {
     "name": "stderr",
     "output_type": "stream",
     "text": [
      "Epoch 18: 100%|██████████| 54/54 [00:00<00:00, 73.44it/s, loss=1.56, acc=53.2]\n"
     ]
    },
    {
     "name": "stdout",
     "output_type": "stream",
     "text": [
      "Epoch 18: Train Loss=1.1517, Train Acc=53.24%, Test Acc=62.04%, Test F1=0.6205\n"
     ]
    },
    {
     "name": "stderr",
     "output_type": "stream",
     "text": [
      "Epoch 19: 100%|██████████| 54/54 [00:00<00:00, 69.77it/s, loss=1.42, acc=57.5]\n"
     ]
    },
    {
     "name": "stdout",
     "output_type": "stream",
     "text": [
      "Epoch 19: Train Loss=1.0478, Train Acc=57.52%, Test Acc=66.67%, Test F1=0.6649\n"
     ]
    },
    {
     "name": "stderr",
     "output_type": "stream",
     "text": [
      "Epoch 20: 100%|██████████| 54/54 [00:00<00:00, 73.90it/s, loss=0.899, acc=61.8]\n"
     ]
    },
    {
     "name": "stdout",
     "output_type": "stream",
     "text": [
      "Epoch 20: Train Loss=1.0047, Train Acc=61.81%, Test Acc=69.44%, Test F1=0.6965\n"
     ]
    },
    {
     "name": "stderr",
     "output_type": "stream",
     "text": [
      "Epoch 21: 100%|██████████| 54/54 [00:00<00:00, 72.04it/s, loss=1.3, acc=62.8]\n"
     ]
    },
    {
     "name": "stdout",
     "output_type": "stream",
     "text": [
      "Epoch 21: Train Loss=0.9805, Train Acc=62.85%, Test Acc=70.83%, Test F1=0.7082\n"
     ]
    },
    {
     "name": "stderr",
     "output_type": "stream",
     "text": [
      "Epoch 22: 100%|██████████| 54/54 [00:00<00:00, 73.84it/s, loss=1.44, acc=63]\n"
     ]
    },
    {
     "name": "stdout",
     "output_type": "stream",
     "text": [
      "Epoch 22: Train Loss=0.9422, Train Acc=62.96%, Test Acc=69.91%, Test F1=0.7026\n"
     ]
    },
    {
     "name": "stderr",
     "output_type": "stream",
     "text": [
      "Epoch 23: 100%|██████████| 54/54 [00:00<00:00, 73.52it/s, loss=1.01, acc=65.7]\n"
     ]
    },
    {
     "name": "stdout",
     "output_type": "stream",
     "text": [
      "Epoch 23: Train Loss=0.9063, Train Acc=65.74%, Test Acc=70.37%, Test F1=0.7061\n"
     ]
    },
    {
     "name": "stderr",
     "output_type": "stream",
     "text": [
      "Epoch 24: 100%|██████████| 54/54 [00:00<00:00, 73.07it/s, loss=0.676, acc=65.2]\n"
     ]
    },
    {
     "name": "stdout",
     "output_type": "stream",
     "text": [
      "Epoch 24: Train Loss=0.8966, Train Acc=65.16%, Test Acc=69.44%, Test F1=0.6927\n"
     ]
    },
    {
     "name": "stderr",
     "output_type": "stream",
     "text": [
      "Epoch 25: 100%|██████████| 54/54 [00:00<00:00, 74.76it/s, loss=1.03, acc=67.8]\n"
     ]
    },
    {
     "name": "stdout",
     "output_type": "stream",
     "text": [
      "Epoch 25: Train Loss=0.8307, Train Acc=67.82%, Test Acc=70.83%, Test F1=0.7086\n"
     ]
    },
    {
     "name": "stderr",
     "output_type": "stream",
     "text": [
      "Epoch 26: 100%|██████████| 54/54 [00:00<00:00, 73.48it/s, loss=1.67, acc=69.1]\n"
     ]
    },
    {
     "name": "stdout",
     "output_type": "stream",
     "text": [
      "Epoch 26: Train Loss=0.8409, Train Acc=69.10%, Test Acc=70.37%, Test F1=0.7065\n"
     ]
    },
    {
     "name": "stderr",
     "output_type": "stream",
     "text": [
      "Epoch 27: 100%|██████████| 54/54 [00:00<00:00, 73.84it/s, loss=0.719, acc=68.6]\n"
     ]
    },
    {
     "name": "stdout",
     "output_type": "stream",
     "text": [
      "Epoch 27: Train Loss=0.8472, Train Acc=68.63%, Test Acc=70.37%, Test F1=0.7069\n"
     ]
    },
    {
     "name": "stderr",
     "output_type": "stream",
     "text": [
      "Epoch 28: 100%|██████████| 54/54 [00:00<00:00, 73.77it/s, loss=1.3, acc=69.9]\n"
     ]
    },
    {
     "name": "stdout",
     "output_type": "stream",
     "text": [
      "Epoch 28: Train Loss=0.8439, Train Acc=69.91%, Test Acc=74.07%, Test F1=0.7415\n"
     ]
    },
    {
     "name": "stderr",
     "output_type": "stream",
     "text": [
      "Epoch 29: 100%|██████████| 54/54 [00:00<00:00, 71.23it/s, loss=0.944, acc=69.7]\n"
     ]
    },
    {
     "name": "stdout",
     "output_type": "stream",
     "text": [
      "Epoch 29: Train Loss=0.8108, Train Acc=69.68%, Test Acc=75.00%, Test F1=0.7493\n"
     ]
    },
    {
     "name": "stderr",
     "output_type": "stream",
     "text": [
      "Epoch 30: 100%|██████████| 54/54 [00:00<00:00, 63.98it/s, loss=0.481, acc=70.4]\n"
     ]
    },
    {
     "name": "stdout",
     "output_type": "stream",
     "text": [
      "Epoch 30: Train Loss=0.7867, Train Acc=70.37%, Test Acc=73.61%, Test F1=0.7378\n"
     ]
    },
    {
     "name": "stderr",
     "output_type": "stream",
     "text": [
      "Epoch 31: 100%|██████████| 54/54 [00:00<00:00, 66.25it/s, loss=0.529, acc=72]\n"
     ]
    },
    {
     "name": "stdout",
     "output_type": "stream",
     "text": [
      "Epoch 31: Train Loss=0.7470, Train Acc=71.99%, Test Acc=69.44%, Test F1=0.6964\n"
     ]
    },
    {
     "name": "stderr",
     "output_type": "stream",
     "text": [
      "Epoch 32: 100%|██████████| 54/54 [00:00<00:00, 68.81it/s, loss=0.472, acc=73.1]\n"
     ]
    },
    {
     "name": "stdout",
     "output_type": "stream",
     "text": [
      "Epoch 32: Train Loss=0.7524, Train Acc=73.15%, Test Acc=70.83%, Test F1=0.7089\n"
     ]
    },
    {
     "name": "stderr",
     "output_type": "stream",
     "text": [
      "Epoch 33: 100%|██████████| 54/54 [00:00<00:00, 65.28it/s, loss=1.26, acc=74]\n"
     ]
    },
    {
     "name": "stdout",
     "output_type": "stream",
     "text": [
      "Epoch 33: Train Loss=0.6966, Train Acc=73.96%, Test Acc=73.15%, Test F1=0.7340\n"
     ]
    },
    {
     "name": "stderr",
     "output_type": "stream",
     "text": [
      "Epoch 34: 100%|██████████| 54/54 [00:00<00:00, 65.43it/s, loss=0.401, acc=76.7]\n"
     ]
    },
    {
     "name": "stdout",
     "output_type": "stream",
     "text": [
      "Epoch 34: Train Loss=0.6743, Train Acc=76.74%, Test Acc=74.54%, Test F1=0.7428\n"
     ]
    },
    {
     "name": "stderr",
     "output_type": "stream",
     "text": [
      "Epoch 35: 100%|██████████| 54/54 [00:00<00:00, 65.04it/s, loss=0.593, acc=76.2]\n"
     ]
    },
    {
     "name": "stdout",
     "output_type": "stream",
     "text": [
      "Epoch 35: Train Loss=0.6804, Train Acc=76.16%, Test Acc=74.07%, Test F1=0.7408\n"
     ]
    },
    {
     "name": "stderr",
     "output_type": "stream",
     "text": [
      "Epoch 36: 100%|██████████| 54/54 [00:00<00:00, 64.42it/s, loss=0.884, acc=76.4]\n"
     ]
    },
    {
     "name": "stdout",
     "output_type": "stream",
     "text": [
      "Epoch 36: Train Loss=0.6625, Train Acc=76.39%, Test Acc=73.15%, Test F1=0.7302\n"
     ]
    },
    {
     "name": "stderr",
     "output_type": "stream",
     "text": [
      "Epoch 37: 100%|██████████| 54/54 [00:00<00:00, 63.15it/s, loss=0.435, acc=75.9]\n"
     ]
    },
    {
     "name": "stdout",
     "output_type": "stream",
     "text": [
      "Epoch 37: Train Loss=0.6905, Train Acc=75.93%, Test Acc=75.00%, Test F1=0.7500\n"
     ]
    },
    {
     "name": "stderr",
     "output_type": "stream",
     "text": [
      "Epoch 38: 100%|██████████| 54/54 [00:00<00:00, 67.59it/s, loss=0.761, acc=77.5]\n"
     ]
    },
    {
     "name": "stdout",
     "output_type": "stream",
     "text": [
      "Epoch 38: Train Loss=0.6497, Train Acc=77.55%, Test Acc=73.15%, Test F1=0.7306\n"
     ]
    },
    {
     "name": "stderr",
     "output_type": "stream",
     "text": [
      "Epoch 39: 100%|██████████| 54/54 [00:00<00:00, 65.31it/s, loss=0.507, acc=76.9]\n"
     ]
    },
    {
     "name": "stdout",
     "output_type": "stream",
     "text": [
      "Epoch 39: Train Loss=0.6329, Train Acc=76.85%, Test Acc=75.00%, Test F1=0.7509\n"
     ]
    },
    {
     "name": "stderr",
     "output_type": "stream",
     "text": [
      "Epoch 40: 100%|██████████| 54/54 [00:00<00:00, 64.36it/s, loss=0.623, acc=80.6]\n"
     ]
    },
    {
     "name": "stdout",
     "output_type": "stream",
     "text": [
      "Epoch 40: Train Loss=0.5673, Train Acc=80.56%, Test Acc=76.39%, Test F1=0.7657\n"
     ]
    },
    {
     "name": "stderr",
     "output_type": "stream",
     "text": [
      "Epoch 41: 100%|██████████| 54/54 [00:00<00:00, 69.82it/s, loss=0.495, acc=78.2]\n"
     ]
    },
    {
     "name": "stdout",
     "output_type": "stream",
     "text": [
      "Epoch 41: Train Loss=0.6214, Train Acc=78.24%, Test Acc=77.31%, Test F1=0.7739\n"
     ]
    },
    {
     "name": "stderr",
     "output_type": "stream",
     "text": [
      "Epoch 42: 100%|██████████| 54/54 [00:00<00:00, 64.37it/s, loss=0.51, acc=77.4]\n"
     ]
    },
    {
     "name": "stdout",
     "output_type": "stream",
     "text": [
      "Epoch 42: Train Loss=0.6235, Train Acc=77.43%, Test Acc=78.24%, Test F1=0.7799\n"
     ]
    },
    {
     "name": "stderr",
     "output_type": "stream",
     "text": [
      "Epoch 43: 100%|██████████| 54/54 [00:00<00:00, 62.78it/s, loss=1.14, acc=78.8]\n"
     ]
    },
    {
     "name": "stdout",
     "output_type": "stream",
     "text": [
      "Epoch 43: Train Loss=0.6053, Train Acc=78.82%, Test Acc=77.78%, Test F1=0.7746\n"
     ]
    },
    {
     "name": "stderr",
     "output_type": "stream",
     "text": [
      "Epoch 44: 100%|██████████| 54/54 [00:00<00:00, 65.92it/s, loss=0.721, acc=79.5]\n"
     ]
    },
    {
     "name": "stdout",
     "output_type": "stream",
     "text": [
      "Epoch 44: Train Loss=0.5708, Train Acc=79.51%, Test Acc=75.93%, Test F1=0.7600\n"
     ]
    },
    {
     "name": "stderr",
     "output_type": "stream",
     "text": [
      "Epoch 45: 100%|██████████| 54/54 [00:00<00:00, 63.13it/s, loss=0.514, acc=80.2]\n"
     ]
    },
    {
     "name": "stdout",
     "output_type": "stream",
     "text": [
      "Epoch 45: Train Loss=0.5708, Train Acc=80.21%, Test Acc=76.85%, Test F1=0.7674\n"
     ]
    },
    {
     "name": "stderr",
     "output_type": "stream",
     "text": [
      "Epoch 46: 100%|██████████| 54/54 [00:00<00:00, 64.33it/s, loss=0.439, acc=77.9]\n"
     ]
    },
    {
     "name": "stdout",
     "output_type": "stream",
     "text": [
      "Epoch 46: Train Loss=0.6096, Train Acc=77.89%, Test Acc=75.93%, Test F1=0.7558\n"
     ]
    },
    {
     "name": "stderr",
     "output_type": "stream",
     "text": [
      "Epoch 47: 100%|██████████| 54/54 [00:00<00:00, 63.05it/s, loss=0.29, acc=80.1]\n"
     ]
    },
    {
     "name": "stdout",
     "output_type": "stream",
     "text": [
      "Epoch 47: Train Loss=0.6042, Train Acc=80.09%, Test Acc=76.85%, Test F1=0.7674\n"
     ]
    },
    {
     "name": "stderr",
     "output_type": "stream",
     "text": [
      "Epoch 48: 100%|██████████| 54/54 [00:00<00:00, 65.40it/s, loss=0.872, acc=80.7]\n"
     ]
    },
    {
     "name": "stdout",
     "output_type": "stream",
     "text": [
      "Epoch 48: Train Loss=0.5493, Train Acc=80.67%, Test Acc=78.24%, Test F1=0.7826\n"
     ]
    },
    {
     "name": "stderr",
     "output_type": "stream",
     "text": [
      "Epoch 49: 100%|██████████| 54/54 [00:00<00:00, 64.84it/s, loss=0.388, acc=81.1]\n"
     ]
    },
    {
     "name": "stdout",
     "output_type": "stream",
     "text": [
      "Epoch 49: Train Loss=0.5603, Train Acc=81.13%, Test Acc=79.17%, Test F1=0.7918\n"
     ]
    },
    {
     "name": "stderr",
     "output_type": "stream",
     "text": [
      "Epoch 50: 100%|██████████| 54/54 [00:00<00:00, 64.11it/s, loss=0.511, acc=78.9]\n"
     ]
    },
    {
     "name": "stdout",
     "output_type": "stream",
     "text": [
      "Epoch 50: Train Loss=0.5502, Train Acc=78.94%, Test Acc=76.85%, Test F1=0.7679\n"
     ]
    },
    {
     "name": "stderr",
     "output_type": "stream",
     "text": [
      "Epoch 51: 100%|██████████| 54/54 [00:00<00:00, 57.55it/s, loss=0.37, acc=80.9]\n"
     ]
    },
    {
     "name": "stdout",
     "output_type": "stream",
     "text": [
      "Epoch 51: Train Loss=0.4962, Train Acc=80.90%, Test Acc=76.85%, Test F1=0.7684\n"
     ]
    },
    {
     "name": "stderr",
     "output_type": "stream",
     "text": [
      "Epoch 52: 100%|██████████| 54/54 [00:00<00:00, 73.67it/s, loss=0.381, acc=81.2]\n"
     ]
    },
    {
     "name": "stdout",
     "output_type": "stream",
     "text": [
      "Epoch 52: Train Loss=0.5731, Train Acc=81.25%, Test Acc=78.70%, Test F1=0.7868\n"
     ]
    },
    {
     "name": "stderr",
     "output_type": "stream",
     "text": [
      "Epoch 53: 100%|██████████| 54/54 [00:00<00:00, 73.83it/s, loss=0.501, acc=80.8]\n"
     ]
    },
    {
     "name": "stdout",
     "output_type": "stream",
     "text": [
      "Epoch 53: Train Loss=0.5417, Train Acc=80.79%, Test Acc=81.02%, Test F1=0.8109\n"
     ]
    },
    {
     "name": "stderr",
     "output_type": "stream",
     "text": [
      "Epoch 54: 100%|██████████| 54/54 [00:00<00:00, 73.84it/s, loss=1.3, acc=82.1]\n"
     ]
    },
    {
     "name": "stdout",
     "output_type": "stream",
     "text": [
      "Epoch 54: Train Loss=0.5354, Train Acc=82.06%, Test Acc=79.63%, Test F1=0.7934\n"
     ]
    },
    {
     "name": "stderr",
     "output_type": "stream",
     "text": [
      "Epoch 55: 100%|██████████| 54/54 [00:00<00:00, 74.29it/s, loss=0.591, acc=83.1]\n"
     ]
    },
    {
     "name": "stdout",
     "output_type": "stream",
     "text": [
      "Epoch 55: Train Loss=0.5231, Train Acc=83.10%, Test Acc=77.78%, Test F1=0.7767\n"
     ]
    },
    {
     "name": "stderr",
     "output_type": "stream",
     "text": [
      "Epoch 56: 100%|██████████| 54/54 [00:00<00:00, 73.14it/s, loss=0.564, acc=83.3]\n"
     ]
    },
    {
     "name": "stdout",
     "output_type": "stream",
     "text": [
      "Epoch 56: Train Loss=0.4762, Train Acc=83.33%, Test Acc=76.85%, Test F1=0.7629\n"
     ]
    },
    {
     "name": "stderr",
     "output_type": "stream",
     "text": [
      "Epoch 57: 100%|██████████| 54/54 [00:00<00:00, 72.88it/s, loss=0.361, acc=81.8]\n"
     ]
    },
    {
     "name": "stdout",
     "output_type": "stream",
     "text": [
      "Epoch 57: Train Loss=0.5127, Train Acc=81.83%, Test Acc=75.00%, Test F1=0.7490\n"
     ]
    },
    {
     "name": "stderr",
     "output_type": "stream",
     "text": [
      "Epoch 58: 100%|██████████| 54/54 [00:00<00:00, 71.46it/s, loss=0.408, acc=78.9]\n"
     ]
    },
    {
     "name": "stdout",
     "output_type": "stream",
     "text": [
      "Epoch 58: Train Loss=0.5682, Train Acc=78.94%, Test Acc=79.63%, Test F1=0.7929\n"
     ]
    },
    {
     "name": "stderr",
     "output_type": "stream",
     "text": [
      "Epoch 59: 100%|██████████| 54/54 [00:00<00:00, 72.36it/s, loss=0.341, acc=81]\n"
     ]
    },
    {
     "name": "stdout",
     "output_type": "stream",
     "text": [
      "Epoch 59: Train Loss=0.5215, Train Acc=81.02%, Test Acc=75.93%, Test F1=0.7559\n"
     ]
    },
    {
     "name": "stderr",
     "output_type": "stream",
     "text": [
      "Epoch 60: 100%|██████████| 54/54 [00:00<00:00, 69.50it/s, loss=0.907, acc=85.3]\n"
     ]
    },
    {
     "name": "stdout",
     "output_type": "stream",
     "text": [
      "Epoch 60: Train Loss=0.4636, Train Acc=85.30%, Test Acc=78.24%, Test F1=0.7803\n"
     ]
    },
    {
     "name": "stderr",
     "output_type": "stream",
     "text": [
      "Epoch 61: 100%|██████████| 54/54 [00:00<00:00, 73.33it/s, loss=0.353, acc=85.3]\n"
     ]
    },
    {
     "name": "stdout",
     "output_type": "stream",
     "text": [
      "Epoch 61: Train Loss=0.4840, Train Acc=85.30%, Test Acc=74.07%, Test F1=0.7383\n"
     ]
    },
    {
     "name": "stderr",
     "output_type": "stream",
     "text": [
      "Epoch 62: 100%|██████████| 54/54 [00:00<00:00, 73.35it/s, loss=0.366, acc=85.3]\n"
     ]
    },
    {
     "name": "stdout",
     "output_type": "stream",
     "text": [
      "Epoch 62: Train Loss=0.4272, Train Acc=85.30%, Test Acc=78.24%, Test F1=0.7781\n"
     ]
    },
    {
     "name": "stderr",
     "output_type": "stream",
     "text": [
      "Epoch 63: 100%|██████████| 54/54 [00:00<00:00, 74.39it/s, loss=0.807, acc=84.1]\n"
     ]
    },
    {
     "name": "stdout",
     "output_type": "stream",
     "text": [
      "Epoch 63: Train Loss=0.5047, Train Acc=84.14%, Test Acc=76.85%, Test F1=0.7652\n"
     ]
    },
    {
     "name": "stderr",
     "output_type": "stream",
     "text": [
      "Epoch 64: 100%|██████████| 54/54 [00:00<00:00, 74.87it/s, loss=0.549, acc=85.3]\n"
     ]
    },
    {
     "name": "stdout",
     "output_type": "stream",
     "text": [
      "Epoch 64: Train Loss=0.4553, Train Acc=85.30%, Test Acc=78.24%, Test F1=0.7793\n"
     ]
    },
    {
     "name": "stderr",
     "output_type": "stream",
     "text": [
      "Epoch 65: 100%|██████████| 54/54 [00:00<00:00, 71.50it/s, loss=0.116, acc=84.1]\n"
     ]
    },
    {
     "name": "stdout",
     "output_type": "stream",
     "text": [
      "Epoch 65: Train Loss=0.4912, Train Acc=84.14%, Test Acc=78.24%, Test F1=0.7814\n"
     ]
    },
    {
     "name": "stderr",
     "output_type": "stream",
     "text": [
      "Epoch 66: 100%|██████████| 54/54 [00:00<00:00, 72.29it/s, loss=0.456, acc=84.1]\n"
     ]
    },
    {
     "name": "stdout",
     "output_type": "stream",
     "text": [
      "Epoch 66: Train Loss=0.4689, Train Acc=84.14%, Test Acc=77.78%, Test F1=0.7756\n"
     ]
    },
    {
     "name": "stderr",
     "output_type": "stream",
     "text": [
      "Epoch 67: 100%|██████████| 54/54 [00:00<00:00, 73.56it/s, loss=0.402, acc=83.6]\n"
     ]
    },
    {
     "name": "stdout",
     "output_type": "stream",
     "text": [
      "Epoch 67: Train Loss=0.4752, Train Acc=83.56%, Test Acc=79.17%, Test F1=0.7910\n"
     ]
    },
    {
     "name": "stderr",
     "output_type": "stream",
     "text": [
      "Epoch 68: 100%|██████████| 54/54 [00:00<00:00, 71.91it/s, loss=0.363, acc=84.6]\n"
     ]
    },
    {
     "name": "stdout",
     "output_type": "stream",
     "text": [
      "Epoch 68: Train Loss=0.4422, Train Acc=84.61%, Test Acc=77.31%, Test F1=0.7705\n"
     ]
    },
    {
     "name": "stderr",
     "output_type": "stream",
     "text": [
      "Epoch 69: 100%|██████████| 54/54 [00:00<00:00, 69.78it/s, loss=0.245, acc=85.8]\n"
     ]
    },
    {
     "name": "stdout",
     "output_type": "stream",
     "text": [
      "Epoch 69: Train Loss=0.4336, Train Acc=85.76%, Test Acc=76.39%, Test F1=0.7655\n"
     ]
    },
    {
     "name": "stderr",
     "output_type": "stream",
     "text": [
      "Epoch 70: 100%|██████████| 54/54 [00:00<00:00, 71.40it/s, loss=0.181, acc=86.9]\n"
     ]
    },
    {
     "name": "stdout",
     "output_type": "stream",
     "text": [
      "Epoch 70: Train Loss=0.4126, Train Acc=86.92%, Test Acc=78.24%, Test F1=0.7797\n"
     ]
    },
    {
     "name": "stderr",
     "output_type": "stream",
     "text": [
      "Epoch 71: 100%|██████████| 54/54 [00:00<00:00, 68.64it/s, loss=0.348, acc=83.9]\n"
     ]
    },
    {
     "name": "stdout",
     "output_type": "stream",
     "text": [
      "Epoch 71: Train Loss=0.4667, Train Acc=83.91%, Test Acc=76.85%, Test F1=0.7650\n"
     ]
    },
    {
     "name": "stderr",
     "output_type": "stream",
     "text": [
      "Epoch 72: 100%|██████████| 54/54 [00:00<00:00, 74.20it/s, loss=0.33, acc=86.8]\n"
     ]
    },
    {
     "name": "stdout",
     "output_type": "stream",
     "text": [
      "Epoch 72: Train Loss=0.4006, Train Acc=86.81%, Test Acc=76.39%, Test F1=0.7634\n"
     ]
    },
    {
     "name": "stderr",
     "output_type": "stream",
     "text": [
      "Epoch 73: 100%|██████████| 54/54 [00:00<00:00, 70.09it/s, loss=0.322, acc=85.8]\n"
     ]
    },
    {
     "name": "stdout",
     "output_type": "stream",
     "text": [
      "Epoch 73: Train Loss=0.4576, Train Acc=85.76%, Test Acc=75.93%, Test F1=0.7578\n"
     ]
    },
    {
     "name": "stderr",
     "output_type": "stream",
     "text": [
      "Epoch 74: 100%|██████████| 54/54 [00:00<00:00, 71.08it/s, loss=0.71, acc=85.2]\n"
     ]
    },
    {
     "name": "stdout",
     "output_type": "stream",
     "text": [
      "Epoch 74: Train Loss=0.4692, Train Acc=85.19%, Test Acc=76.85%, Test F1=0.7676\n"
     ]
    },
    {
     "name": "stderr",
     "output_type": "stream",
     "text": [
      "Epoch 75: 100%|██████████| 54/54 [00:00<00:00, 73.29it/s, loss=0.112, acc=84.3]\n"
     ]
    },
    {
     "name": "stdout",
     "output_type": "stream",
     "text": [
      "Epoch 75: Train Loss=0.4782, Train Acc=84.26%, Test Acc=77.31%, Test F1=0.7708\n"
     ]
    },
    {
     "name": "stderr",
     "output_type": "stream",
     "text": [
      "Epoch 76: 100%|██████████| 54/54 [00:00<00:00, 73.59it/s, loss=0.169, acc=85.8]\n"
     ]
    },
    {
     "name": "stdout",
     "output_type": "stream",
     "text": [
      "Epoch 76: Train Loss=0.4620, Train Acc=85.76%, Test Acc=76.39%, Test F1=0.7619\n"
     ]
    },
    {
     "name": "stderr",
     "output_type": "stream",
     "text": [
      "Epoch 77: 100%|██████████| 54/54 [00:00<00:00, 73.16it/s, loss=0.174, acc=82.6]\n"
     ]
    },
    {
     "name": "stdout",
     "output_type": "stream",
     "text": [
      "Epoch 77: Train Loss=0.5411, Train Acc=82.64%, Test Acc=76.85%, Test F1=0.7682\n"
     ]
    },
    {
     "name": "stderr",
     "output_type": "stream",
     "text": [
      "Epoch 78: 100%|██████████| 54/54 [00:00<00:00, 73.28it/s, loss=0.152, acc=84.6]\n"
     ]
    },
    {
     "name": "stdout",
     "output_type": "stream",
     "text": [
      "Epoch 78: Train Loss=0.4642, Train Acc=84.61%, Test Acc=78.70%, Test F1=0.7835\n"
     ]
    },
    {
     "name": "stderr",
     "output_type": "stream",
     "text": [
      "Epoch 79: 100%|██████████| 54/54 [00:00<00:00, 73.31it/s, loss=0.355, acc=86]\n"
     ]
    },
    {
     "name": "stdout",
     "output_type": "stream",
     "text": [
      "Epoch 79: Train Loss=0.4065, Train Acc=86.00%, Test Acc=76.85%, Test F1=0.7681\n"
     ]
    },
    {
     "name": "stderr",
     "output_type": "stream",
     "text": [
      "Epoch 80: 100%|██████████| 54/54 [00:00<00:00, 73.50it/s, loss=0.49, acc=84.6]\n"
     ]
    },
    {
     "name": "stdout",
     "output_type": "stream",
     "text": [
      "Epoch 80: Train Loss=0.4201, Train Acc=84.61%, Test Acc=79.17%, Test F1=0.7885\n"
     ]
    },
    {
     "name": "stderr",
     "output_type": "stream",
     "text": [
      "Epoch 81: 100%|██████████| 54/54 [00:00<00:00, 73.93it/s, loss=0.177, acc=87]\n"
     ]
    },
    {
     "name": "stdout",
     "output_type": "stream",
     "text": [
      "Epoch 81: Train Loss=0.3869, Train Acc=87.04%, Test Acc=76.85%, Test F1=0.7662\n"
     ]
    },
    {
     "name": "stderr",
     "output_type": "stream",
     "text": [
      "Epoch 82: 100%|██████████| 54/54 [00:00<00:00, 71.00it/s, loss=0.181, acc=88.8]\n"
     ]
    },
    {
     "name": "stdout",
     "output_type": "stream",
     "text": [
      "Epoch 82: Train Loss=0.3250, Train Acc=88.77%, Test Acc=76.39%, Test F1=0.7617\n"
     ]
    },
    {
     "name": "stderr",
     "output_type": "stream",
     "text": [
      "Epoch 83: 100%|██████████| 54/54 [00:00<00:00, 73.96it/s, loss=0.236, acc=83.8]\n"
     ]
    },
    {
     "name": "stdout",
     "output_type": "stream",
     "text": [
      "Epoch 83: Train Loss=0.4687, Train Acc=83.80%, Test Acc=76.85%, Test F1=0.7680\n"
     ]
    },
    {
     "name": "stderr",
     "output_type": "stream",
     "text": [
      "Epoch 84: 100%|██████████| 54/54 [00:00<00:00, 72.57it/s, loss=0.132, acc=89]\n"
     ]
    },
    {
     "name": "stdout",
     "output_type": "stream",
     "text": [
      "Epoch 84: Train Loss=0.3968, Train Acc=89.00%, Test Acc=79.63%, Test F1=0.7924\n"
     ]
    },
    {
     "name": "stderr",
     "output_type": "stream",
     "text": [
      "Epoch 85: 100%|██████████| 54/54 [00:00<00:00, 73.21it/s, loss=0.197, acc=86.5]\n"
     ]
    },
    {
     "name": "stdout",
     "output_type": "stream",
     "text": [
      "Epoch 85: Train Loss=0.3931, Train Acc=86.46%, Test Acc=76.85%, Test F1=0.7647\n"
     ]
    },
    {
     "name": "stderr",
     "output_type": "stream",
     "text": [
      "Epoch 86: 100%|██████████| 54/54 [00:00<00:00, 75.33it/s, loss=0.504, acc=83.6]\n"
     ]
    },
    {
     "name": "stdout",
     "output_type": "stream",
     "text": [
      "Epoch 86: Train Loss=0.4807, Train Acc=83.56%, Test Acc=78.70%, Test F1=0.7856\n"
     ]
    },
    {
     "name": "stderr",
     "output_type": "stream",
     "text": [
      "Epoch 87: 100%|██████████| 54/54 [00:00<00:00, 73.25it/s, loss=0.42, acc=88.1]\n"
     ]
    },
    {
     "name": "stdout",
     "output_type": "stream",
     "text": [
      "Epoch 87: Train Loss=0.4055, Train Acc=88.08%, Test Acc=77.78%, Test F1=0.7749\n"
     ]
    },
    {
     "name": "stderr",
     "output_type": "stream",
     "text": [
      "Epoch 88: 100%|██████████| 54/54 [00:00<00:00, 72.36it/s, loss=0.345, acc=87.6]\n"
     ]
    },
    {
     "name": "stdout",
     "output_type": "stream",
     "text": [
      "Epoch 88: Train Loss=0.3898, Train Acc=87.62%, Test Acc=77.78%, Test F1=0.7752\n"
     ]
    },
    {
     "name": "stderr",
     "output_type": "stream",
     "text": [
      "Epoch 89: 100%|██████████| 54/54 [00:00<00:00, 72.40it/s, loss=0.57, acc=84.5]\n"
     ]
    },
    {
     "name": "stdout",
     "output_type": "stream",
     "text": [
      "Epoch 89: Train Loss=0.4358, Train Acc=84.49%, Test Acc=78.24%, Test F1=0.7785\n"
     ]
    },
    {
     "name": "stderr",
     "output_type": "stream",
     "text": [
      "Epoch 90: 100%|██████████| 54/54 [00:00<00:00, 71.47it/s, loss=0.78, acc=85.3]\n"
     ]
    },
    {
     "name": "stdout",
     "output_type": "stream",
     "text": [
      "Epoch 90: Train Loss=0.4548, Train Acc=85.30%, Test Acc=77.78%, Test F1=0.7763\n"
     ]
    },
    {
     "name": "stderr",
     "output_type": "stream",
     "text": [
      "Epoch 91: 100%|██████████| 54/54 [00:00<00:00, 72.11it/s, loss=0.494, acc=85.5]\n"
     ]
    },
    {
     "name": "stdout",
     "output_type": "stream",
     "text": [
      "Epoch 91: Train Loss=0.4373, Train Acc=85.53%, Test Acc=77.31%, Test F1=0.7702\n"
     ]
    },
    {
     "name": "stderr",
     "output_type": "stream",
     "text": [
      "Epoch 92: 100%|██████████| 54/54 [00:00<00:00, 73.80it/s, loss=0.142, acc=85.4]\n"
     ]
    },
    {
     "name": "stdout",
     "output_type": "stream",
     "text": [
      "Epoch 92: Train Loss=0.4276, Train Acc=85.42%, Test Acc=76.85%, Test F1=0.7656\n"
     ]
    },
    {
     "name": "stderr",
     "output_type": "stream",
     "text": [
      "Epoch 93: 100%|██████████| 54/54 [00:00<00:00, 71.20it/s, loss=0.132, acc=85.1]\n"
     ]
    },
    {
     "name": "stdout",
     "output_type": "stream",
     "text": [
      "Epoch 93: Train Loss=0.4539, Train Acc=85.07%, Test Acc=77.31%, Test F1=0.7727\n"
     ]
    },
    {
     "name": "stderr",
     "output_type": "stream",
     "text": [
      "Epoch 94: 100%|██████████| 54/54 [00:00<00:00, 73.91it/s, loss=0.542, acc=85.2]\n"
     ]
    },
    {
     "name": "stdout",
     "output_type": "stream",
     "text": [
      "Epoch 94: Train Loss=0.4471, Train Acc=85.19%, Test Acc=76.39%, Test F1=0.7622\n"
     ]
    },
    {
     "name": "stderr",
     "output_type": "stream",
     "text": [
      "Epoch 95: 100%|██████████| 54/54 [00:00<00:00, 73.09it/s, loss=0.221, acc=87.4]\n"
     ]
    },
    {
     "name": "stdout",
     "output_type": "stream",
     "text": [
      "Epoch 95: Train Loss=0.3914, Train Acc=87.38%, Test Acc=77.31%, Test F1=0.7721\n"
     ]
    },
    {
     "name": "stderr",
     "output_type": "stream",
     "text": [
      "Epoch 96: 100%|██████████| 54/54 [00:00<00:00, 72.33it/s, loss=0.587, acc=87.4]\n"
     ]
    },
    {
     "name": "stdout",
     "output_type": "stream",
     "text": [
      "Epoch 96: Train Loss=0.3907, Train Acc=87.38%, Test Acc=77.31%, Test F1=0.7701\n"
     ]
    },
    {
     "name": "stderr",
     "output_type": "stream",
     "text": [
      "Epoch 97: 100%|██████████| 54/54 [00:00<00:00, 72.88it/s, loss=0.633, acc=87.3]\n"
     ]
    },
    {
     "name": "stdout",
     "output_type": "stream",
     "text": [
      "Epoch 97: Train Loss=0.3588, Train Acc=87.27%, Test Acc=79.63%, Test F1=0.7940\n"
     ]
    },
    {
     "name": "stderr",
     "output_type": "stream",
     "text": [
      "Epoch 98: 100%|██████████| 54/54 [00:00<00:00, 72.56it/s, loss=0.0861, acc=86.7]\n"
     ]
    },
    {
     "name": "stdout",
     "output_type": "stream",
     "text": [
      "Epoch 98: Train Loss=0.4248, Train Acc=86.69%, Test Acc=76.85%, Test F1=0.7665\n"
     ]
    },
    {
     "name": "stderr",
     "output_type": "stream",
     "text": [
      "Epoch 99: 100%|██████████| 54/54 [00:00<00:00, 74.66it/s, loss=0.584, acc=86.6]\n"
     ]
    },
    {
     "name": "stdout",
     "output_type": "stream",
     "text": [
      "Epoch 99: Train Loss=0.3826, Train Acc=86.57%, Test Acc=79.63%, Test F1=0.7932\n"
     ]
    },
    {
     "name": "stderr",
     "output_type": "stream",
     "text": [
      "Epoch 100: 100%|██████████| 54/54 [00:00<00:00, 75.97it/s, loss=0.731, acc=85.5]\n"
     ]
    },
    {
     "name": "stdout",
     "output_type": "stream",
     "text": [
      "Epoch 100: Train Loss=0.4278, Train Acc=85.53%, Test Acc=77.31%, Test F1=0.7742\n"
     ]
    },
    {
     "name": "stderr",
     "output_type": "stream",
     "text": [
      "Epoch 101: 100%|██████████| 54/54 [00:00<00:00, 70.48it/s, loss=0.632, acc=86.1]\n"
     ]
    },
    {
     "name": "stdout",
     "output_type": "stream",
     "text": [
      "Epoch 101: Train Loss=0.4207, Train Acc=86.11%, Test Acc=78.70%, Test F1=0.7870\n"
     ]
    },
    {
     "name": "stderr",
     "output_type": "stream",
     "text": [
      "Epoch 102: 100%|██████████| 54/54 [00:00<00:00, 72.87it/s, loss=0.638, acc=86.2]\n"
     ]
    },
    {
     "name": "stdout",
     "output_type": "stream",
     "text": [
      "Epoch 102: Train Loss=0.4233, Train Acc=86.23%, Test Acc=79.17%, Test F1=0.7884\n"
     ]
    },
    {
     "name": "stderr",
     "output_type": "stream",
     "text": [
      "Epoch 103: 100%|██████████| 54/54 [00:00<00:00, 75.60it/s, loss=0.106, acc=85.5]\n"
     ]
    },
    {
     "name": "stdout",
     "output_type": "stream",
     "text": [
      "Epoch 103: Train Loss=0.4520, Train Acc=85.53%, Test Acc=77.31%, Test F1=0.7708\n",
      "Early stopping at epoch 103\n",
      "\n",
      "Training Summary:\n",
      "  Best Model: Epoch 53, Acc=81.02%, F1=0.8109\n",
      "  Highest: Epoch 53, Acc=81.02%, F1=0.8109\n",
      "Model doesn't have feature gating mechanism\n",
      "\n",
      "Final Results:\n",
      "  Best: Acc=77.31%, F1=0.7708\n",
      "  Highest: Acc=81.02%, F1=0.8109\n",
      "\n",
      "Classification Report:\n",
      "              precision    recall  f1-score   support\n",
      "\n",
      "       Angry       0.76      0.88      0.82        43\n",
      "       Happy       0.69      0.67      0.68        43\n",
      "     Natural       0.85      0.91      0.88        43\n",
      "         Sad       0.79      0.70      0.75        44\n",
      "   Surprised       0.77      0.70      0.73        43\n",
      "\n",
      "    accuracy                           0.77       216\n",
      "   macro avg       0.77      0.77      0.77       216\n",
      "weighted avg       0.77      0.77      0.77       216\n",
      "\n",
      "\n",
      "============================================================\n",
      "Experiment: MFCC\n",
      "============================================================\n",
      "Features shape: (1080, 80)\n",
      "Architecture: Deep DNN with Feature Gating\n",
      "Split: Train=864, Test=216\n",
      "HybridFusion configured: Total=80, MFCC=80, Acoustic=0, Mode=mfcc_only\n",
      "Model parameters: 743,844\n",
      "\n",
      "Training Configuration:\n",
      "  Architecture: HybridFusion\n",
      "  Learning Rate: 0.0005\n",
      "  Batch Size: 16\n",
      "  Description: HybridFusion with spectral stream processing\n"
     ]
    },
    {
     "name": "stderr",
     "output_type": "stream",
     "text": [
      "Epoch 1: 100%|██████████| 54/54 [00:00<00:00, 67.03it/s, loss=2.08, acc=19.7]\n"
     ]
    },
    {
     "name": "stdout",
     "output_type": "stream",
     "text": [
      "Epoch 1: Train Loss=2.1831, Train Acc=19.68%, Test Acc=19.44%, Test F1=0.0877\n"
     ]
    },
    {
     "name": "stderr",
     "output_type": "stream",
     "text": [
      "Epoch 2: 100%|██████████| 54/54 [00:00<00:00, 72.55it/s, loss=1.87, acc=20.5]\n"
     ]
    },
    {
     "name": "stdout",
     "output_type": "stream",
     "text": [
      "Epoch 2: Train Loss=2.1082, Train Acc=20.49%, Test Acc=25.46%, Test F1=0.1946\n"
     ]
    },
    {
     "name": "stderr",
     "output_type": "stream",
     "text": [
      "Epoch 3: 100%|██████████| 54/54 [00:00<00:00, 74.94it/s, loss=2.14, acc=24.3]\n"
     ]
    },
    {
     "name": "stdout",
     "output_type": "stream",
     "text": [
      "Epoch 3: Train Loss=2.0069, Train Acc=24.31%, Test Acc=33.80%, Test F1=0.2864\n"
     ]
    },
    {
     "name": "stderr",
     "output_type": "stream",
     "text": [
      "Epoch 4: 100%|██████████| 54/54 [00:00<00:00, 75.59it/s, loss=1.82, acc=20.3]\n"
     ]
    },
    {
     "name": "stdout",
     "output_type": "stream",
     "text": [
      "Epoch 4: Train Loss=1.9689, Train Acc=20.25%, Test Acc=31.48%, Test F1=0.2414\n"
     ]
    },
    {
     "name": "stderr",
     "output_type": "stream",
     "text": [
      "Epoch 5: 100%|██████████| 54/54 [00:00<00:00, 76.38it/s, loss=1.84, acc=23.6]\n"
     ]
    },
    {
     "name": "stdout",
     "output_type": "stream",
     "text": [
      "Epoch 5: Train Loss=1.9120, Train Acc=23.61%, Test Acc=40.74%, Test F1=0.3368\n"
     ]
    },
    {
     "name": "stderr",
     "output_type": "stream",
     "text": [
      "Epoch 6: 100%|██████████| 54/54 [00:00<00:00, 76.84it/s, loss=1.85, acc=24]\n"
     ]
    },
    {
     "name": "stdout",
     "output_type": "stream",
     "text": [
      "Epoch 6: Train Loss=1.9006, Train Acc=23.96%, Test Acc=33.33%, Test F1=0.2285\n"
     ]
    },
    {
     "name": "stderr",
     "output_type": "stream",
     "text": [
      "Epoch 7: 100%|██████████| 54/54 [00:00<00:00, 73.72it/s, loss=1.61, acc=26.5]\n"
     ]
    },
    {
     "name": "stdout",
     "output_type": "stream",
     "text": [
      "Epoch 7: Train Loss=1.7760, Train Acc=26.50%, Test Acc=40.28%, Test F1=0.2991\n"
     ]
    },
    {
     "name": "stderr",
     "output_type": "stream",
     "text": [
      "Epoch 8: 100%|██████████| 54/54 [00:00<00:00, 76.08it/s, loss=2.09, acc=30.9]\n"
     ]
    },
    {
     "name": "stdout",
     "output_type": "stream",
     "text": [
      "Epoch 8: Train Loss=1.6502, Train Acc=30.90%, Test Acc=43.06%, Test F1=0.3607\n"
     ]
    },
    {
     "name": "stderr",
     "output_type": "stream",
     "text": [
      "Epoch 9: 100%|██████████| 54/54 [00:00<00:00, 76.93it/s, loss=1.5, acc=31.5]\n"
     ]
    },
    {
     "name": "stdout",
     "output_type": "stream",
     "text": [
      "Epoch 9: Train Loss=1.6386, Train Acc=31.48%, Test Acc=44.44%, Test F1=0.3487\n"
     ]
    },
    {
     "name": "stderr",
     "output_type": "stream",
     "text": [
      "Epoch 10: 100%|██████████| 54/54 [00:00<00:00, 77.75it/s, loss=1.16, acc=32.1]\n"
     ]
    },
    {
     "name": "stdout",
     "output_type": "stream",
     "text": [
      "Epoch 10: Train Loss=1.5700, Train Acc=32.06%, Test Acc=42.59%, Test F1=0.3536\n"
     ]
    },
    {
     "name": "stderr",
     "output_type": "stream",
     "text": [
      "Epoch 11: 100%|██████████| 54/54 [00:00<00:00, 76.45it/s, loss=1.57, acc=37]\n"
     ]
    },
    {
     "name": "stdout",
     "output_type": "stream",
     "text": [
      "Epoch 11: Train Loss=1.4774, Train Acc=37.04%, Test Acc=44.91%, Test F1=0.3939\n"
     ]
    },
    {
     "name": "stderr",
     "output_type": "stream",
     "text": [
      "Epoch 12: 100%|██████████| 54/54 [00:00<00:00, 75.45it/s, loss=1.53, acc=40.4]\n"
     ]
    },
    {
     "name": "stdout",
     "output_type": "stream",
     "text": [
      "Epoch 12: Train Loss=1.4143, Train Acc=40.39%, Test Acc=45.83%, Test F1=0.4049\n"
     ]
    },
    {
     "name": "stderr",
     "output_type": "stream",
     "text": [
      "Epoch 13: 100%|██████████| 54/54 [00:00<00:00, 77.28it/s, loss=1.52, acc=40.2]\n"
     ]
    },
    {
     "name": "stdout",
     "output_type": "stream",
     "text": [
      "Epoch 13: Train Loss=1.3491, Train Acc=40.16%, Test Acc=48.15%, Test F1=0.4249\n"
     ]
    },
    {
     "name": "stderr",
     "output_type": "stream",
     "text": [
      "Epoch 14: 100%|██████████| 54/54 [00:00<00:00, 78.98it/s, loss=1.49, acc=41.4]\n"
     ]
    },
    {
     "name": "stdout",
     "output_type": "stream",
     "text": [
      "Epoch 14: Train Loss=1.3346, Train Acc=41.44%, Test Acc=49.54%, Test F1=0.4528\n"
     ]
    },
    {
     "name": "stderr",
     "output_type": "stream",
     "text": [
      "Epoch 15: 100%|██████████| 54/54 [00:00<00:00, 81.91it/s, loss=1.11, acc=47.3]\n"
     ]
    },
    {
     "name": "stdout",
     "output_type": "stream",
     "text": [
      "Epoch 15: Train Loss=1.2230, Train Acc=47.34%, Test Acc=55.09%, Test F1=0.5116\n"
     ]
    },
    {
     "name": "stderr",
     "output_type": "stream",
     "text": [
      "Epoch 16: 100%|██████████| 54/54 [00:00<00:00, 82.56it/s, loss=1.22, acc=49.7]\n"
     ]
    },
    {
     "name": "stdout",
     "output_type": "stream",
     "text": [
      "Epoch 16: Train Loss=1.1379, Train Acc=49.65%, Test Acc=50.93%, Test F1=0.4633\n"
     ]
    },
    {
     "name": "stderr",
     "output_type": "stream",
     "text": [
      "Epoch 17: 100%|██████████| 54/54 [00:00<00:00, 80.90it/s, loss=1.29, acc=51]\n"
     ]
    },
    {
     "name": "stdout",
     "output_type": "stream",
     "text": [
      "Epoch 17: Train Loss=1.2026, Train Acc=51.04%, Test Acc=50.93%, Test F1=0.4819\n"
     ]
    },
    {
     "name": "stderr",
     "output_type": "stream",
     "text": [
      "Epoch 18: 100%|██████████| 54/54 [00:00<00:00, 80.14it/s, loss=1.19, acc=49.4]\n"
     ]
    },
    {
     "name": "stdout",
     "output_type": "stream",
     "text": [
      "Epoch 18: Train Loss=1.1209, Train Acc=49.42%, Test Acc=53.24%, Test F1=0.5042\n"
     ]
    },
    {
     "name": "stderr",
     "output_type": "stream",
     "text": [
      "Epoch 19: 100%|██████████| 54/54 [00:00<00:00, 76.55it/s, loss=0.964, acc=50.8]\n"
     ]
    },
    {
     "name": "stdout",
     "output_type": "stream",
     "text": [
      "Epoch 19: Train Loss=1.1222, Train Acc=50.81%, Test Acc=55.09%, Test F1=0.5176\n"
     ]
    },
    {
     "name": "stderr",
     "output_type": "stream",
     "text": [
      "Epoch 20: 100%|██████████| 54/54 [00:00<00:00, 75.09it/s, loss=1.24, acc=57.5]\n"
     ]
    },
    {
     "name": "stdout",
     "output_type": "stream",
     "text": [
      "Epoch 20: Train Loss=1.0134, Train Acc=57.52%, Test Acc=56.94%, Test F1=0.5431\n"
     ]
    },
    {
     "name": "stderr",
     "output_type": "stream",
     "text": [
      "Epoch 21: 100%|██████████| 54/54 [00:00<00:00, 79.32it/s, loss=0.857, acc=56.6]\n"
     ]
    },
    {
     "name": "stdout",
     "output_type": "stream",
     "text": [
      "Epoch 21: Train Loss=1.0472, Train Acc=56.60%, Test Acc=56.94%, Test F1=0.5498\n"
     ]
    },
    {
     "name": "stderr",
     "output_type": "stream",
     "text": [
      "Epoch 22: 100%|██████████| 54/54 [00:00<00:00, 80.24it/s, loss=0.838, acc=59.3]\n"
     ]
    },
    {
     "name": "stdout",
     "output_type": "stream",
     "text": [
      "Epoch 22: Train Loss=1.0131, Train Acc=59.26%, Test Acc=59.72%, Test F1=0.5821\n"
     ]
    },
    {
     "name": "stderr",
     "output_type": "stream",
     "text": [
      "Epoch 23: 100%|██████████| 54/54 [00:00<00:00, 80.59it/s, loss=0.792, acc=63.1]\n"
     ]
    },
    {
     "name": "stdout",
     "output_type": "stream",
     "text": [
      "Epoch 23: Train Loss=0.8873, Train Acc=63.08%, Test Acc=60.19%, Test F1=0.5901\n"
     ]
    },
    {
     "name": "stderr",
     "output_type": "stream",
     "text": [
      "Epoch 24: 100%|██████████| 54/54 [00:00<00:00, 75.96it/s, loss=1.03, acc=64.7]\n"
     ]
    },
    {
     "name": "stdout",
     "output_type": "stream",
     "text": [
      "Epoch 24: Train Loss=0.9049, Train Acc=64.70%, Test Acc=62.04%, Test F1=0.6081\n"
     ]
    },
    {
     "name": "stderr",
     "output_type": "stream",
     "text": [
      "Epoch 25: 100%|██████████| 54/54 [00:00<00:00, 80.48it/s, loss=0.948, acc=66.6]\n"
     ]
    },
    {
     "name": "stdout",
     "output_type": "stream",
     "text": [
      "Epoch 25: Train Loss=0.8797, Train Acc=66.55%, Test Acc=60.65%, Test F1=0.5949\n"
     ]
    },
    {
     "name": "stderr",
     "output_type": "stream",
     "text": [
      "Epoch 26: 100%|██████████| 54/54 [00:00<00:00, 78.16it/s, loss=0.621, acc=68.9]\n"
     ]
    },
    {
     "name": "stdout",
     "output_type": "stream",
     "text": [
      "Epoch 26: Train Loss=0.8451, Train Acc=68.87%, Test Acc=62.04%, Test F1=0.6031\n"
     ]
    },
    {
     "name": "stderr",
     "output_type": "stream",
     "text": [
      "Epoch 27: 100%|██████████| 54/54 [00:00<00:00, 80.49it/s, loss=0.539, acc=69.2]\n"
     ]
    },
    {
     "name": "stdout",
     "output_type": "stream",
     "text": [
      "Epoch 27: Train Loss=0.7882, Train Acc=69.21%, Test Acc=62.04%, Test F1=0.6061\n"
     ]
    },
    {
     "name": "stderr",
     "output_type": "stream",
     "text": [
      "Epoch 28: 100%|██████████| 54/54 [00:00<00:00, 78.80it/s, loss=0.799, acc=70.7]\n"
     ]
    },
    {
     "name": "stdout",
     "output_type": "stream",
     "text": [
      "Epoch 28: Train Loss=0.7991, Train Acc=70.72%, Test Acc=65.74%, Test F1=0.6558\n"
     ]
    },
    {
     "name": "stderr",
     "output_type": "stream",
     "text": [
      "Epoch 29: 100%|██████████| 54/54 [00:00<00:00, 78.17it/s, loss=0.725, acc=73.6]\n"
     ]
    },
    {
     "name": "stdout",
     "output_type": "stream",
     "text": [
      "Epoch 29: Train Loss=0.7600, Train Acc=73.61%, Test Acc=68.06%, Test F1=0.6765\n"
     ]
    },
    {
     "name": "stderr",
     "output_type": "stream",
     "text": [
      "Epoch 30: 100%|██████████| 54/54 [00:00<00:00, 79.96it/s, loss=0.708, acc=76.4]\n"
     ]
    },
    {
     "name": "stdout",
     "output_type": "stream",
     "text": [
      "Epoch 30: Train Loss=0.6822, Train Acc=76.39%, Test Acc=66.67%, Test F1=0.6603\n"
     ]
    },
    {
     "name": "stderr",
     "output_type": "stream",
     "text": [
      "Epoch 31: 100%|██████████| 54/54 [00:00<00:00, 79.03it/s, loss=0.789, acc=76.2]\n"
     ]
    },
    {
     "name": "stdout",
     "output_type": "stream",
     "text": [
      "Epoch 31: Train Loss=0.6877, Train Acc=76.16%, Test Acc=63.43%, Test F1=0.6232\n"
     ]
    },
    {
     "name": "stderr",
     "output_type": "stream",
     "text": [
      "Epoch 32: 100%|██████████| 54/54 [00:00<00:00, 78.01it/s, loss=0.418, acc=77.7]\n"
     ]
    },
    {
     "name": "stdout",
     "output_type": "stream",
     "text": [
      "Epoch 32: Train Loss=0.6730, Train Acc=77.66%, Test Acc=71.30%, Test F1=0.7099\n"
     ]
    },
    {
     "name": "stderr",
     "output_type": "stream",
     "text": [
      "Epoch 33: 100%|██████████| 54/54 [00:00<00:00, 78.82it/s, loss=0.475, acc=78]\n"
     ]
    },
    {
     "name": "stdout",
     "output_type": "stream",
     "text": [
      "Epoch 33: Train Loss=0.6384, Train Acc=78.01%, Test Acc=69.91%, Test F1=0.6965\n"
     ]
    },
    {
     "name": "stderr",
     "output_type": "stream",
     "text": [
      "Epoch 34: 100%|██████████| 54/54 [00:00<00:00, 78.44it/s, loss=0.447, acc=77.4]\n"
     ]
    },
    {
     "name": "stdout",
     "output_type": "stream",
     "text": [
      "Epoch 34: Train Loss=0.6285, Train Acc=77.43%, Test Acc=67.59%, Test F1=0.6664\n"
     ]
    },
    {
     "name": "stderr",
     "output_type": "stream",
     "text": [
      "Epoch 35: 100%|██████████| 54/54 [00:00<00:00, 80.54it/s, loss=0.72, acc=80.4]\n"
     ]
    },
    {
     "name": "stdout",
     "output_type": "stream",
     "text": [
      "Epoch 35: Train Loss=0.6055, Train Acc=80.44%, Test Acc=70.37%, Test F1=0.7027\n"
     ]
    },
    {
     "name": "stderr",
     "output_type": "stream",
     "text": [
      "Epoch 36: 100%|██████████| 54/54 [00:00<00:00, 74.60it/s, loss=0.542, acc=79.6]\n"
     ]
    },
    {
     "name": "stdout",
     "output_type": "stream",
     "text": [
      "Epoch 36: Train Loss=0.6168, Train Acc=79.63%, Test Acc=69.44%, Test F1=0.6882\n"
     ]
    },
    {
     "name": "stderr",
     "output_type": "stream",
     "text": [
      "Epoch 37: 100%|██████████| 54/54 [00:00<00:00, 79.79it/s, loss=0.535, acc=80.2]\n"
     ]
    },
    {
     "name": "stdout",
     "output_type": "stream",
     "text": [
      "Epoch 37: Train Loss=0.5965, Train Acc=80.21%, Test Acc=71.30%, Test F1=0.7026\n"
     ]
    },
    {
     "name": "stderr",
     "output_type": "stream",
     "text": [
      "Epoch 38: 100%|██████████| 54/54 [00:00<00:00, 78.38it/s, loss=0.886, acc=79.6]\n"
     ]
    },
    {
     "name": "stdout",
     "output_type": "stream",
     "text": [
      "Epoch 38: Train Loss=0.5774, Train Acc=79.63%, Test Acc=71.30%, Test F1=0.7092\n"
     ]
    },
    {
     "name": "stderr",
     "output_type": "stream",
     "text": [
      "Epoch 39: 100%|██████████| 54/54 [00:00<00:00, 81.73it/s, loss=0.141, acc=81.5]\n"
     ]
    },
    {
     "name": "stdout",
     "output_type": "stream",
     "text": [
      "Epoch 39: Train Loss=0.5340, Train Acc=81.48%, Test Acc=68.52%, Test F1=0.6747\n"
     ]
    },
    {
     "name": "stderr",
     "output_type": "stream",
     "text": [
      "Epoch 40: 100%|██████████| 54/54 [00:00<00:00, 80.97it/s, loss=0.844, acc=80.3]\n"
     ]
    },
    {
     "name": "stdout",
     "output_type": "stream",
     "text": [
      "Epoch 40: Train Loss=0.5564, Train Acc=80.32%, Test Acc=72.22%, Test F1=0.7206\n"
     ]
    },
    {
     "name": "stderr",
     "output_type": "stream",
     "text": [
      "Epoch 41: 100%|██████████| 54/54 [00:00<00:00, 79.15it/s, loss=0.481, acc=82.8]\n"
     ]
    },
    {
     "name": "stdout",
     "output_type": "stream",
     "text": [
      "Epoch 41: Train Loss=0.5452, Train Acc=82.75%, Test Acc=71.76%, Test F1=0.7122\n"
     ]
    },
    {
     "name": "stderr",
     "output_type": "stream",
     "text": [
      "Epoch 42: 100%|██████████| 54/54 [00:00<00:00, 78.86it/s, loss=0.782, acc=86.2]\n"
     ]
    },
    {
     "name": "stdout",
     "output_type": "stream",
     "text": [
      "Epoch 42: Train Loss=0.4592, Train Acc=86.23%, Test Acc=70.37%, Test F1=0.6945\n"
     ]
    },
    {
     "name": "stderr",
     "output_type": "stream",
     "text": [
      "Epoch 43: 100%|██████████| 54/54 [00:00<00:00, 78.65it/s, loss=0.751, acc=82.4]\n"
     ]
    },
    {
     "name": "stdout",
     "output_type": "stream",
     "text": [
      "Epoch 43: Train Loss=0.5535, Train Acc=82.41%, Test Acc=74.54%, Test F1=0.7434\n"
     ]
    },
    {
     "name": "stderr",
     "output_type": "stream",
     "text": [
      "Epoch 44: 100%|██████████| 54/54 [00:00<00:00, 79.41it/s, loss=0.657, acc=83.7]\n"
     ]
    },
    {
     "name": "stdout",
     "output_type": "stream",
     "text": [
      "Epoch 44: Train Loss=0.5011, Train Acc=83.68%, Test Acc=72.22%, Test F1=0.7182\n"
     ]
    },
    {
     "name": "stderr",
     "output_type": "stream",
     "text": [
      "Epoch 45: 100%|██████████| 54/54 [00:00<00:00, 79.31it/s, loss=0.519, acc=83.3]\n"
     ]
    },
    {
     "name": "stdout",
     "output_type": "stream",
     "text": [
      "Epoch 45: Train Loss=0.5055, Train Acc=83.33%, Test Acc=72.69%, Test F1=0.7207\n"
     ]
    },
    {
     "name": "stderr",
     "output_type": "stream",
     "text": [
      "Epoch 46: 100%|██████████| 54/54 [00:00<00:00, 82.53it/s, loss=0.187, acc=83.4]\n"
     ]
    },
    {
     "name": "stdout",
     "output_type": "stream",
     "text": [
      "Epoch 46: Train Loss=0.4854, Train Acc=83.45%, Test Acc=71.76%, Test F1=0.7058\n"
     ]
    },
    {
     "name": "stderr",
     "output_type": "stream",
     "text": [
      "Epoch 47: 100%|██████████| 54/54 [00:00<00:00, 81.20it/s, loss=0.189, acc=85.9]\n"
     ]
    },
    {
     "name": "stdout",
     "output_type": "stream",
     "text": [
      "Epoch 47: Train Loss=0.4980, Train Acc=85.88%, Test Acc=74.07%, Test F1=0.7363\n"
     ]
    },
    {
     "name": "stderr",
     "output_type": "stream",
     "text": [
      "Epoch 48: 100%|██████████| 54/54 [00:00<00:00, 77.26it/s, loss=0.393, acc=84.6]\n"
     ]
    },
    {
     "name": "stdout",
     "output_type": "stream",
     "text": [
      "Epoch 48: Train Loss=0.4611, Train Acc=84.61%, Test Acc=73.61%, Test F1=0.7358\n"
     ]
    },
    {
     "name": "stderr",
     "output_type": "stream",
     "text": [
      "Epoch 49: 100%|██████████| 54/54 [00:00<00:00, 82.06it/s, loss=0.985, acc=86.7]\n"
     ]
    },
    {
     "name": "stdout",
     "output_type": "stream",
     "text": [
      "Epoch 49: Train Loss=0.4324, Train Acc=86.69%, Test Acc=72.22%, Test F1=0.7240\n"
     ]
    },
    {
     "name": "stderr",
     "output_type": "stream",
     "text": [
      "Epoch 50: 100%|██████████| 54/54 [00:00<00:00, 81.30it/s, loss=0.334, acc=86.3]\n"
     ]
    },
    {
     "name": "stdout",
     "output_type": "stream",
     "text": [
      "Epoch 50: Train Loss=0.4500, Train Acc=86.34%, Test Acc=72.69%, Test F1=0.7260\n"
     ]
    },
    {
     "name": "stderr",
     "output_type": "stream",
     "text": [
      "Epoch 51: 100%|██████████| 54/54 [00:00<00:00, 80.27it/s, loss=0.241, acc=89.1]\n"
     ]
    },
    {
     "name": "stdout",
     "output_type": "stream",
     "text": [
      "Epoch 51: Train Loss=0.3672, Train Acc=89.12%, Test Acc=73.15%, Test F1=0.7299\n"
     ]
    },
    {
     "name": "stderr",
     "output_type": "stream",
     "text": [
      "Epoch 52: 100%|██████████| 54/54 [00:00<00:00, 81.41it/s, loss=1.59, acc=87.6]\n"
     ]
    },
    {
     "name": "stdout",
     "output_type": "stream",
     "text": [
      "Epoch 52: Train Loss=0.4003, Train Acc=87.62%, Test Acc=73.61%, Test F1=0.7344\n"
     ]
    },
    {
     "name": "stderr",
     "output_type": "stream",
     "text": [
      "Epoch 53: 100%|██████████| 54/54 [00:00<00:00, 80.43it/s, loss=0.157, acc=87.5]\n"
     ]
    },
    {
     "name": "stdout",
     "output_type": "stream",
     "text": [
      "Epoch 53: Train Loss=0.4033, Train Acc=87.50%, Test Acc=72.22%, Test F1=0.7224\n"
     ]
    },
    {
     "name": "stderr",
     "output_type": "stream",
     "text": [
      "Epoch 54: 100%|██████████| 54/54 [00:00<00:00, 82.04it/s, loss=0.108, acc=88.7]\n"
     ]
    },
    {
     "name": "stdout",
     "output_type": "stream",
     "text": [
      "Epoch 54: Train Loss=0.3793, Train Acc=88.66%, Test Acc=75.93%, Test F1=0.7568\n"
     ]
    },
    {
     "name": "stderr",
     "output_type": "stream",
     "text": [
      "Epoch 55: 100%|██████████| 54/54 [00:00<00:00, 81.32it/s, loss=0.0496, acc=89.1]\n"
     ]
    },
    {
     "name": "stdout",
     "output_type": "stream",
     "text": [
      "Epoch 55: Train Loss=0.3581, Train Acc=89.12%, Test Acc=74.54%, Test F1=0.7388\n"
     ]
    },
    {
     "name": "stderr",
     "output_type": "stream",
     "text": [
      "Epoch 56: 100%|██████████| 54/54 [00:00<00:00, 83.58it/s, loss=0.344, acc=88.5]\n"
     ]
    },
    {
     "name": "stdout",
     "output_type": "stream",
     "text": [
      "Epoch 56: Train Loss=0.3818, Train Acc=88.54%, Test Acc=75.93%, Test F1=0.7581\n"
     ]
    },
    {
     "name": "stderr",
     "output_type": "stream",
     "text": [
      "Epoch 57: 100%|██████████| 54/54 [00:00<00:00, 81.62it/s, loss=0.483, acc=87.8]\n"
     ]
    },
    {
     "name": "stdout",
     "output_type": "stream",
     "text": [
      "Epoch 57: Train Loss=0.3829, Train Acc=87.85%, Test Acc=75.00%, Test F1=0.7486\n"
     ]
    },
    {
     "name": "stderr",
     "output_type": "stream",
     "text": [
      "Epoch 58: 100%|██████████| 54/54 [00:00<00:00, 82.41it/s, loss=1.36, acc=89.7]\n"
     ]
    },
    {
     "name": "stdout",
     "output_type": "stream",
     "text": [
      "Epoch 58: Train Loss=0.3811, Train Acc=89.70%, Test Acc=75.46%, Test F1=0.7493\n"
     ]
    },
    {
     "name": "stderr",
     "output_type": "stream",
     "text": [
      "Epoch 59: 100%|██████████| 54/54 [00:00<00:00, 82.71it/s, loss=0.468, acc=91.1]\n"
     ]
    },
    {
     "name": "stdout",
     "output_type": "stream",
     "text": [
      "Epoch 59: Train Loss=0.3274, Train Acc=91.09%, Test Acc=75.00%, Test F1=0.7483\n"
     ]
    },
    {
     "name": "stderr",
     "output_type": "stream",
     "text": [
      "Epoch 60: 100%|██████████| 54/54 [00:00<00:00, 77.33it/s, loss=0.174, acc=90.4]\n"
     ]
    },
    {
     "name": "stdout",
     "output_type": "stream",
     "text": [
      "Epoch 60: Train Loss=0.3256, Train Acc=90.39%, Test Acc=73.15%, Test F1=0.7289\n"
     ]
    },
    {
     "name": "stderr",
     "output_type": "stream",
     "text": [
      "Epoch 61: 100%|██████████| 54/54 [00:00<00:00, 82.11it/s, loss=1.16, acc=90]\n"
     ]
    },
    {
     "name": "stdout",
     "output_type": "stream",
     "text": [
      "Epoch 61: Train Loss=0.3496, Train Acc=90.05%, Test Acc=76.85%, Test F1=0.7677\n"
     ]
    },
    {
     "name": "stderr",
     "output_type": "stream",
     "text": [
      "Epoch 62: 100%|██████████| 54/54 [00:00<00:00, 80.65it/s, loss=0.0868, acc=92]\n"
     ]
    },
    {
     "name": "stdout",
     "output_type": "stream",
     "text": [
      "Epoch 62: Train Loss=0.2987, Train Acc=92.01%, Test Acc=77.31%, Test F1=0.7712\n"
     ]
    },
    {
     "name": "stderr",
     "output_type": "stream",
     "text": [
      "Epoch 63: 100%|██████████| 54/54 [00:00<00:00, 78.87it/s, loss=0.112, acc=90]\n"
     ]
    },
    {
     "name": "stdout",
     "output_type": "stream",
     "text": [
      "Epoch 63: Train Loss=0.3116, Train Acc=90.05%, Test Acc=78.70%, Test F1=0.7870\n"
     ]
    },
    {
     "name": "stderr",
     "output_type": "stream",
     "text": [
      "Epoch 64: 100%|██████████| 54/54 [00:00<00:00, 81.52it/s, loss=0.336, acc=91.6]\n"
     ]
    },
    {
     "name": "stdout",
     "output_type": "stream",
     "text": [
      "Epoch 64: Train Loss=0.2858, Train Acc=91.55%, Test Acc=75.93%, Test F1=0.7562\n"
     ]
    },
    {
     "name": "stderr",
     "output_type": "stream",
     "text": [
      "Epoch 65: 100%|██████████| 54/54 [00:00<00:00, 80.04it/s, loss=0.951, acc=91]\n"
     ]
    },
    {
     "name": "stdout",
     "output_type": "stream",
     "text": [
      "Epoch 65: Train Loss=0.2755, Train Acc=90.97%, Test Acc=77.78%, Test F1=0.7783\n"
     ]
    },
    {
     "name": "stderr",
     "output_type": "stream",
     "text": [
      "Epoch 66: 100%|██████████| 54/54 [00:00<00:00, 80.40it/s, loss=0.446, acc=90.5]\n"
     ]
    },
    {
     "name": "stdout",
     "output_type": "stream",
     "text": [
      "Epoch 66: Train Loss=0.3115, Train Acc=90.51%, Test Acc=78.24%, Test F1=0.7814\n"
     ]
    },
    {
     "name": "stderr",
     "output_type": "stream",
     "text": [
      "Epoch 67: 100%|██████████| 54/54 [00:00<00:00, 82.77it/s, loss=0.0652, acc=92.9]\n"
     ]
    },
    {
     "name": "stdout",
     "output_type": "stream",
     "text": [
      "Epoch 67: Train Loss=0.2394, Train Acc=92.94%, Test Acc=75.46%, Test F1=0.7506\n"
     ]
    },
    {
     "name": "stderr",
     "output_type": "stream",
     "text": [
      "Epoch 68: 100%|██████████| 54/54 [00:00<00:00, 80.86it/s, loss=0.467, acc=90.4]\n"
     ]
    },
    {
     "name": "stdout",
     "output_type": "stream",
     "text": [
      "Epoch 68: Train Loss=0.3536, Train Acc=90.39%, Test Acc=76.85%, Test F1=0.7660\n"
     ]
    },
    {
     "name": "stderr",
     "output_type": "stream",
     "text": [
      "Epoch 69: 100%|██████████| 54/54 [00:00<00:00, 84.43it/s, loss=0.15, acc=92.7]\n"
     ]
    },
    {
     "name": "stdout",
     "output_type": "stream",
     "text": [
      "Epoch 69: Train Loss=0.2492, Train Acc=92.71%, Test Acc=77.31%, Test F1=0.7733\n"
     ]
    },
    {
     "name": "stderr",
     "output_type": "stream",
     "text": [
      "Epoch 70: 100%|██████████| 54/54 [00:00<00:00, 83.40it/s, loss=0.0552, acc=92.5]\n"
     ]
    },
    {
     "name": "stdout",
     "output_type": "stream",
     "text": [
      "Epoch 70: Train Loss=0.2521, Train Acc=92.48%, Test Acc=77.78%, Test F1=0.7768\n"
     ]
    },
    {
     "name": "stderr",
     "output_type": "stream",
     "text": [
      "Epoch 71: 100%|██████████| 54/54 [00:00<00:00, 81.37it/s, loss=0.175, acc=91.9]\n"
     ]
    },
    {
     "name": "stdout",
     "output_type": "stream",
     "text": [
      "Epoch 71: Train Loss=0.3106, Train Acc=91.90%, Test Acc=77.31%, Test F1=0.7735\n"
     ]
    },
    {
     "name": "stderr",
     "output_type": "stream",
     "text": [
      "Epoch 72: 100%|██████████| 54/54 [00:00<00:00, 81.19it/s, loss=0.122, acc=91.9]\n"
     ]
    },
    {
     "name": "stdout",
     "output_type": "stream",
     "text": [
      "Epoch 72: Train Loss=0.3116, Train Acc=91.90%, Test Acc=76.85%, Test F1=0.7691\n"
     ]
    },
    {
     "name": "stderr",
     "output_type": "stream",
     "text": [
      "Epoch 73: 100%|██████████| 54/54 [00:00<00:00, 81.68it/s, loss=0.264, acc=92.8]\n"
     ]
    },
    {
     "name": "stdout",
     "output_type": "stream",
     "text": [
      "Epoch 73: Train Loss=0.2609, Train Acc=92.82%, Test Acc=77.78%, Test F1=0.7750\n"
     ]
    },
    {
     "name": "stderr",
     "output_type": "stream",
     "text": [
      "Epoch 74: 100%|██████████| 54/54 [00:00<00:00, 82.62it/s, loss=0.0508, acc=91.2]\n"
     ]
    },
    {
     "name": "stdout",
     "output_type": "stream",
     "text": [
      "Epoch 74: Train Loss=0.3224, Train Acc=91.20%, Test Acc=77.31%, Test F1=0.7714\n"
     ]
    },
    {
     "name": "stderr",
     "output_type": "stream",
     "text": [
      "Epoch 75: 100%|██████████| 54/54 [00:00<00:00, 81.65it/s, loss=0.849, acc=92.1]\n"
     ]
    },
    {
     "name": "stdout",
     "output_type": "stream",
     "text": [
      "Epoch 75: Train Loss=0.2620, Train Acc=92.13%, Test Acc=79.63%, Test F1=0.7951\n"
     ]
    },
    {
     "name": "stderr",
     "output_type": "stream",
     "text": [
      "Epoch 76: 100%|██████████| 54/54 [00:00<00:00, 81.68it/s, loss=0.238, acc=91.9]\n"
     ]
    },
    {
     "name": "stdout",
     "output_type": "stream",
     "text": [
      "Epoch 76: Train Loss=0.2729, Train Acc=91.90%, Test Acc=78.70%, Test F1=0.7857\n"
     ]
    },
    {
     "name": "stderr",
     "output_type": "stream",
     "text": [
      "Epoch 77: 100%|██████████| 54/54 [00:00<00:00, 80.60it/s, loss=0.29, acc=91.6]\n"
     ]
    },
    {
     "name": "stdout",
     "output_type": "stream",
     "text": [
      "Epoch 77: Train Loss=0.2945, Train Acc=91.55%, Test Acc=77.31%, Test F1=0.7706\n"
     ]
    },
    {
     "name": "stderr",
     "output_type": "stream",
     "text": [
      "Epoch 78: 100%|██████████| 54/54 [00:00<00:00, 81.37it/s, loss=0.289, acc=92]\n"
     ]
    },
    {
     "name": "stdout",
     "output_type": "stream",
     "text": [
      "Epoch 78: Train Loss=0.3150, Train Acc=92.01%, Test Acc=78.70%, Test F1=0.7870\n"
     ]
    },
    {
     "name": "stderr",
     "output_type": "stream",
     "text": [
      "Epoch 79: 100%|██████████| 54/54 [00:00<00:00, 79.01it/s, loss=0.341, acc=92.6]\n"
     ]
    },
    {
     "name": "stdout",
     "output_type": "stream",
     "text": [
      "Epoch 79: Train Loss=0.2586, Train Acc=92.59%, Test Acc=75.46%, Test F1=0.7531\n"
     ]
    },
    {
     "name": "stderr",
     "output_type": "stream",
     "text": [
      "Epoch 80: 100%|██████████| 54/54 [00:00<00:00, 80.68it/s, loss=0.28, acc=92.4]\n"
     ]
    },
    {
     "name": "stdout",
     "output_type": "stream",
     "text": [
      "Epoch 80: Train Loss=0.2615, Train Acc=92.36%, Test Acc=77.78%, Test F1=0.7765\n"
     ]
    },
    {
     "name": "stderr",
     "output_type": "stream",
     "text": [
      "Epoch 81: 100%|██████████| 54/54 [00:00<00:00, 82.63it/s, loss=0.177, acc=92.2]\n"
     ]
    },
    {
     "name": "stdout",
     "output_type": "stream",
     "text": [
      "Epoch 81: Train Loss=0.2989, Train Acc=92.25%, Test Acc=77.31%, Test F1=0.7702\n"
     ]
    },
    {
     "name": "stderr",
     "output_type": "stream",
     "text": [
      "Epoch 82: 100%|██████████| 54/54 [00:00<00:00, 80.77it/s, loss=0.0823, acc=91.1]\n"
     ]
    },
    {
     "name": "stdout",
     "output_type": "stream",
     "text": [
      "Epoch 82: Train Loss=0.2994, Train Acc=91.09%, Test Acc=78.24%, Test F1=0.7783\n"
     ]
    },
    {
     "name": "stderr",
     "output_type": "stream",
     "text": [
      "Epoch 83: 100%|██████████| 54/54 [00:00<00:00, 82.69it/s, loss=0.378, acc=95.3]\n"
     ]
    },
    {
     "name": "stdout",
     "output_type": "stream",
     "text": [
      "Epoch 83: Train Loss=0.2012, Train Acc=95.25%, Test Acc=77.78%, Test F1=0.7754\n"
     ]
    },
    {
     "name": "stderr",
     "output_type": "stream",
     "text": [
      "Epoch 84: 100%|██████████| 54/54 [00:00<00:00, 82.61it/s, loss=0.0419, acc=93.5]\n"
     ]
    },
    {
     "name": "stdout",
     "output_type": "stream",
     "text": [
      "Epoch 84: Train Loss=0.2608, Train Acc=93.52%, Test Acc=80.56%, Test F1=0.8045\n"
     ]
    },
    {
     "name": "stderr",
     "output_type": "stream",
     "text": [
      "Epoch 85: 100%|██████████| 54/54 [00:00<00:00, 80.75it/s, loss=0.257, acc=93.6]\n"
     ]
    },
    {
     "name": "stdout",
     "output_type": "stream",
     "text": [
      "Epoch 85: Train Loss=0.2376, Train Acc=93.63%, Test Acc=79.63%, Test F1=0.7949\n"
     ]
    },
    {
     "name": "stderr",
     "output_type": "stream",
     "text": [
      "Epoch 86: 100%|██████████| 54/54 [00:00<00:00, 77.17it/s, loss=0.105, acc=94]\n"
     ]
    },
    {
     "name": "stdout",
     "output_type": "stream",
     "text": [
      "Epoch 86: Train Loss=0.2012, Train Acc=93.98%, Test Acc=79.63%, Test F1=0.7967\n"
     ]
    },
    {
     "name": "stderr",
     "output_type": "stream",
     "text": [
      "Epoch 87: 100%|██████████| 54/54 [00:00<00:00, 72.07it/s, loss=0.0128, acc=93.4]\n"
     ]
    },
    {
     "name": "stdout",
     "output_type": "stream",
     "text": [
      "Epoch 87: Train Loss=0.2090, Train Acc=93.40%, Test Acc=79.17%, Test F1=0.7901\n"
     ]
    },
    {
     "name": "stderr",
     "output_type": "stream",
     "text": [
      "Epoch 88: 100%|██████████| 54/54 [00:00<00:00, 74.63it/s, loss=0.365, acc=92.6]\n"
     ]
    },
    {
     "name": "stdout",
     "output_type": "stream",
     "text": [
      "Epoch 88: Train Loss=0.2498, Train Acc=92.59%, Test Acc=77.31%, Test F1=0.7709\n"
     ]
    },
    {
     "name": "stderr",
     "output_type": "stream",
     "text": [
      "Epoch 89: 100%|██████████| 54/54 [00:00<00:00, 70.89it/s, loss=0.265, acc=92.8]\n"
     ]
    },
    {
     "name": "stdout",
     "output_type": "stream",
     "text": [
      "Epoch 89: Train Loss=0.2877, Train Acc=92.82%, Test Acc=77.78%, Test F1=0.7776\n"
     ]
    },
    {
     "name": "stderr",
     "output_type": "stream",
     "text": [
      "Epoch 90: 100%|██████████| 54/54 [00:00<00:00, 75.43it/s, loss=0.32, acc=93.6]\n"
     ]
    },
    {
     "name": "stdout",
     "output_type": "stream",
     "text": [
      "Epoch 90: Train Loss=0.2314, Train Acc=93.63%, Test Acc=79.17%, Test F1=0.7907\n"
     ]
    },
    {
     "name": "stderr",
     "output_type": "stream",
     "text": [
      "Epoch 91: 100%|██████████| 54/54 [00:00<00:00, 68.28it/s, loss=0.0391, acc=93.3]\n"
     ]
    },
    {
     "name": "stdout",
     "output_type": "stream",
     "text": [
      "Epoch 91: Train Loss=0.2247, Train Acc=93.29%, Test Acc=77.78%, Test F1=0.7773\n"
     ]
    },
    {
     "name": "stderr",
     "output_type": "stream",
     "text": [
      "Epoch 92: 100%|██████████| 54/54 [00:00<00:00, 69.48it/s, loss=0.5, acc=93.6]\n"
     ]
    },
    {
     "name": "stdout",
     "output_type": "stream",
     "text": [
      "Epoch 92: Train Loss=0.2344, Train Acc=93.63%, Test Acc=78.24%, Test F1=0.7823\n"
     ]
    },
    {
     "name": "stderr",
     "output_type": "stream",
     "text": [
      "Epoch 93: 100%|██████████| 54/54 [00:00<00:00, 68.65it/s, loss=0.0202, acc=94.3]\n"
     ]
    },
    {
     "name": "stdout",
     "output_type": "stream",
     "text": [
      "Epoch 93: Train Loss=0.2324, Train Acc=94.33%, Test Acc=77.31%, Test F1=0.7733\n"
     ]
    },
    {
     "name": "stderr",
     "output_type": "stream",
     "text": [
      "Epoch 94: 100%|██████████| 54/54 [00:00<00:00, 70.21it/s, loss=0.0297, acc=94.9]\n"
     ]
    },
    {
     "name": "stdout",
     "output_type": "stream",
     "text": [
      "Epoch 94: Train Loss=0.2290, Train Acc=94.91%, Test Acc=78.70%, Test F1=0.7843\n"
     ]
    },
    {
     "name": "stderr",
     "output_type": "stream",
     "text": [
      "Epoch 95: 100%|██████████| 54/54 [00:00<00:00, 71.75it/s, loss=0.028, acc=94.7]\n"
     ]
    },
    {
     "name": "stdout",
     "output_type": "stream",
     "text": [
      "Epoch 95: Train Loss=0.1959, Train Acc=94.68%, Test Acc=76.85%, Test F1=0.7692\n"
     ]
    },
    {
     "name": "stderr",
     "output_type": "stream",
     "text": [
      "Epoch 96: 100%|██████████| 54/54 [00:00<00:00, 67.17it/s, loss=0.351, acc=93.1]\n"
     ]
    },
    {
     "name": "stdout",
     "output_type": "stream",
     "text": [
      "Epoch 96: Train Loss=0.2631, Train Acc=93.06%, Test Acc=78.24%, Test F1=0.7826\n"
     ]
    },
    {
     "name": "stderr",
     "output_type": "stream",
     "text": [
      "Epoch 97: 100%|██████████| 54/54 [00:00<00:00, 69.52it/s, loss=0.0237, acc=96.2]\n"
     ]
    },
    {
     "name": "stdout",
     "output_type": "stream",
     "text": [
      "Epoch 97: Train Loss=0.1386, Train Acc=96.18%, Test Acc=78.70%, Test F1=0.7877\n"
     ]
    },
    {
     "name": "stderr",
     "output_type": "stream",
     "text": [
      "Epoch 98: 100%|██████████| 54/54 [00:00<00:00, 70.93it/s, loss=0.0286, acc=93.9]\n"
     ]
    },
    {
     "name": "stdout",
     "output_type": "stream",
     "text": [
      "Epoch 98: Train Loss=0.2283, Train Acc=93.87%, Test Acc=78.24%, Test F1=0.7809\n"
     ]
    },
    {
     "name": "stderr",
     "output_type": "stream",
     "text": [
      "Epoch 99: 100%|██████████| 54/54 [00:00<00:00, 73.90it/s, loss=0.412, acc=93.9]\n"
     ]
    },
    {
     "name": "stdout",
     "output_type": "stream",
     "text": [
      "Epoch 99: Train Loss=0.2290, Train Acc=93.87%, Test Acc=78.24%, Test F1=0.7822\n"
     ]
    },
    {
     "name": "stderr",
     "output_type": "stream",
     "text": [
      "Epoch 100: 100%|██████████| 54/54 [00:00<00:00, 74.52it/s, loss=0.259, acc=93.5]\n"
     ]
    },
    {
     "name": "stdout",
     "output_type": "stream",
     "text": [
      "Epoch 100: Train Loss=0.2227, Train Acc=93.52%, Test Acc=79.17%, Test F1=0.7912\n"
     ]
    },
    {
     "name": "stderr",
     "output_type": "stream",
     "text": [
      "Epoch 101: 100%|██████████| 54/54 [00:00<00:00, 72.34it/s, loss=0.121, acc=93.6]\n"
     ]
    },
    {
     "name": "stdout",
     "output_type": "stream",
     "text": [
      "Epoch 101: Train Loss=0.2687, Train Acc=93.63%, Test Acc=79.17%, Test F1=0.7932\n"
     ]
    },
    {
     "name": "stderr",
     "output_type": "stream",
     "text": [
      "Epoch 102: 100%|██████████| 54/54 [00:00<00:00, 69.93it/s, loss=0.463, acc=95]\n"
     ]
    },
    {
     "name": "stdout",
     "output_type": "stream",
     "text": [
      "Epoch 102: Train Loss=0.1918, Train Acc=95.02%, Test Acc=79.17%, Test F1=0.7906\n"
     ]
    },
    {
     "name": "stderr",
     "output_type": "stream",
     "text": [
      "Epoch 103: 100%|██████████| 54/54 [00:00<00:00, 71.33it/s, loss=0.0972, acc=91]\n"
     ]
    },
    {
     "name": "stdout",
     "output_type": "stream",
     "text": [
      "Epoch 103: Train Loss=0.3415, Train Acc=90.97%, Test Acc=78.70%, Test F1=0.7882\n"
     ]
    },
    {
     "name": "stderr",
     "output_type": "stream",
     "text": [
      "Epoch 104: 100%|██████████| 54/54 [00:00<00:00, 69.14it/s, loss=0.048, acc=92.9]\n"
     ]
    },
    {
     "name": "stdout",
     "output_type": "stream",
     "text": [
      "Epoch 104: Train Loss=0.2689, Train Acc=92.94%, Test Acc=76.85%, Test F1=0.7684\n"
     ]
    },
    {
     "name": "stderr",
     "output_type": "stream",
     "text": [
      "Epoch 105: 100%|██████████| 54/54 [00:00<00:00, 68.71it/s, loss=0.28, acc=94.8]\n"
     ]
    },
    {
     "name": "stdout",
     "output_type": "stream",
     "text": [
      "Epoch 105: Train Loss=0.1735, Train Acc=94.79%, Test Acc=76.39%, Test F1=0.7636\n"
     ]
    },
    {
     "name": "stderr",
     "output_type": "stream",
     "text": [
      "Epoch 106: 100%|██████████| 54/54 [00:00<00:00, 70.66it/s, loss=1.09, acc=94.1]\n"
     ]
    },
    {
     "name": "stdout",
     "output_type": "stream",
     "text": [
      "Epoch 106: Train Loss=0.2797, Train Acc=94.10%, Test Acc=80.56%, Test F1=0.8048\n"
     ]
    },
    {
     "name": "stderr",
     "output_type": "stream",
     "text": [
      "Epoch 107: 100%|██████████| 54/54 [00:00<00:00, 71.55it/s, loss=0.338, acc=94.1]\n"
     ]
    },
    {
     "name": "stdout",
     "output_type": "stream",
     "text": [
      "Epoch 107: Train Loss=0.2333, Train Acc=94.10%, Test Acc=78.70%, Test F1=0.7868\n"
     ]
    },
    {
     "name": "stderr",
     "output_type": "stream",
     "text": [
      "Epoch 108: 100%|██████████| 54/54 [00:00<00:00, 68.25it/s, loss=0.63, acc=93.9]\n"
     ]
    },
    {
     "name": "stdout",
     "output_type": "stream",
     "text": [
      "Epoch 108: Train Loss=0.2303, Train Acc=93.87%, Test Acc=78.24%, Test F1=0.7822\n"
     ]
    },
    {
     "name": "stderr",
     "output_type": "stream",
     "text": [
      "Epoch 109: 100%|██████████| 54/54 [00:00<00:00, 62.84it/s, loss=0.0395, acc=93.1]\n"
     ]
    },
    {
     "name": "stdout",
     "output_type": "stream",
     "text": [
      "Epoch 109: Train Loss=0.2760, Train Acc=93.06%, Test Acc=79.17%, Test F1=0.7911\n"
     ]
    },
    {
     "name": "stderr",
     "output_type": "stream",
     "text": [
      "Epoch 110: 100%|██████████| 54/54 [00:00<00:00, 60.95it/s, loss=0.256, acc=93.6]\n"
     ]
    },
    {
     "name": "stdout",
     "output_type": "stream",
     "text": [
      "Epoch 110: Train Loss=0.2180, Train Acc=93.63%, Test Acc=76.39%, Test F1=0.7648\n"
     ]
    },
    {
     "name": "stderr",
     "output_type": "stream",
     "text": [
      "Epoch 111: 100%|██████████| 54/54 [00:00<00:00, 81.05it/s, loss=0.0253, acc=93.2]\n"
     ]
    },
    {
     "name": "stdout",
     "output_type": "stream",
     "text": [
      "Epoch 111: Train Loss=0.2617, Train Acc=93.17%, Test Acc=78.70%, Test F1=0.7866\n"
     ]
    },
    {
     "name": "stderr",
     "output_type": "stream",
     "text": [
      "Epoch 112: 100%|██████████| 54/54 [00:00<00:00, 76.67it/s, loss=0.0232, acc=92.8]\n"
     ]
    },
    {
     "name": "stdout",
     "output_type": "stream",
     "text": [
      "Epoch 112: Train Loss=0.2526, Train Acc=92.82%, Test Acc=76.85%, Test F1=0.7690\n"
     ]
    },
    {
     "name": "stderr",
     "output_type": "stream",
     "text": [
      "Epoch 113: 100%|██████████| 54/54 [00:00<00:00, 76.62it/s, loss=0.0474, acc=95.1]\n"
     ]
    },
    {
     "name": "stdout",
     "output_type": "stream",
     "text": [
      "Epoch 113: Train Loss=0.1930, Train Acc=95.14%, Test Acc=78.24%, Test F1=0.7840\n"
     ]
    },
    {
     "name": "stderr",
     "output_type": "stream",
     "text": [
      "Epoch 114: 100%|██████████| 54/54 [00:00<00:00, 78.13it/s, loss=0.241, acc=93.5]\n"
     ]
    },
    {
     "name": "stdout",
     "output_type": "stream",
     "text": [
      "Epoch 114: Train Loss=0.1819, Train Acc=93.52%, Test Acc=79.17%, Test F1=0.7917\n"
     ]
    },
    {
     "name": "stderr",
     "output_type": "stream",
     "text": [
      "Epoch 115: 100%|██████████| 54/54 [00:00<00:00, 75.80it/s, loss=0.178, acc=94.3]\n"
     ]
    },
    {
     "name": "stdout",
     "output_type": "stream",
     "text": [
      "Epoch 115: Train Loss=0.1902, Train Acc=94.33%, Test Acc=78.24%, Test F1=0.7838\n"
     ]
    },
    {
     "name": "stderr",
     "output_type": "stream",
     "text": [
      "Epoch 116: 100%|██████████| 54/54 [00:00<00:00, 77.02it/s, loss=0.156, acc=93.1]\n"
     ]
    },
    {
     "name": "stdout",
     "output_type": "stream",
     "text": [
      "Epoch 116: Train Loss=0.2476, Train Acc=93.06%, Test Acc=78.70%, Test F1=0.7886\n"
     ]
    },
    {
     "name": "stderr",
     "output_type": "stream",
     "text": [
      "Epoch 117: 100%|██████████| 54/54 [00:00<00:00, 75.71it/s, loss=0.16, acc=95.3]\n"
     ]
    },
    {
     "name": "stdout",
     "output_type": "stream",
     "text": [
      "Epoch 117: Train Loss=0.1903, Train Acc=95.25%, Test Acc=78.70%, Test F1=0.7867\n"
     ]
    },
    {
     "name": "stderr",
     "output_type": "stream",
     "text": [
      "Epoch 118: 100%|██████████| 54/54 [00:00<00:00, 79.42it/s, loss=0.0119, acc=93.3]\n"
     ]
    },
    {
     "name": "stdout",
     "output_type": "stream",
     "text": [
      "Epoch 118: Train Loss=0.2689, Train Acc=93.29%, Test Acc=78.24%, Test F1=0.7828\n"
     ]
    },
    {
     "name": "stderr",
     "output_type": "stream",
     "text": [
      "Epoch 119: 100%|██████████| 54/54 [00:00<00:00, 80.64it/s, loss=0.188, acc=94.3]\n"
     ]
    },
    {
     "name": "stdout",
     "output_type": "stream",
     "text": [
      "Epoch 119: Train Loss=0.1823, Train Acc=94.33%, Test Acc=78.24%, Test F1=0.7836\n"
     ]
    },
    {
     "name": "stderr",
     "output_type": "stream",
     "text": [
      "Epoch 120: 100%|██████████| 54/54 [00:00<00:00, 81.07it/s, loss=0.534, acc=95.3]\n"
     ]
    },
    {
     "name": "stdout",
     "output_type": "stream",
     "text": [
      "Epoch 120: Train Loss=0.2005, Train Acc=95.25%, Test Acc=78.70%, Test F1=0.7864\n"
     ]
    },
    {
     "name": "stderr",
     "output_type": "stream",
     "text": [
      "Epoch 121: 100%|██████████| 54/54 [00:00<00:00, 78.79it/s, loss=0.0344, acc=94.9]\n"
     ]
    },
    {
     "name": "stdout",
     "output_type": "stream",
     "text": [
      "Epoch 121: Train Loss=0.1905, Train Acc=94.91%, Test Acc=80.09%, Test F1=0.8016\n"
     ]
    },
    {
     "name": "stderr",
     "output_type": "stream",
     "text": [
      "Epoch 122: 100%|██████████| 54/54 [00:00<00:00, 78.78it/s, loss=0.013, acc=95]\n"
     ]
    },
    {
     "name": "stdout",
     "output_type": "stream",
     "text": [
      "Epoch 122: Train Loss=0.1844, Train Acc=95.02%, Test Acc=79.63%, Test F1=0.7970\n"
     ]
    },
    {
     "name": "stderr",
     "output_type": "stream",
     "text": [
      "Epoch 123: 100%|██████████| 54/54 [00:00<00:00, 79.87it/s, loss=0.0408, acc=93.6]\n"
     ]
    },
    {
     "name": "stdout",
     "output_type": "stream",
     "text": [
      "Epoch 123: Train Loss=0.2236, Train Acc=93.63%, Test Acc=79.63%, Test F1=0.7975\n"
     ]
    },
    {
     "name": "stderr",
     "output_type": "stream",
     "text": [
      "Epoch 124: 100%|██████████| 54/54 [00:00<00:00, 80.57it/s, loss=0.0333, acc=95.3]\n"
     ]
    },
    {
     "name": "stdout",
     "output_type": "stream",
     "text": [
      "Epoch 124: Train Loss=0.1810, Train Acc=95.25%, Test Acc=79.63%, Test F1=0.7973\n"
     ]
    },
    {
     "name": "stderr",
     "output_type": "stream",
     "text": [
      "Epoch 125: 100%|██████████| 54/54 [00:00<00:00, 80.59it/s, loss=0.0342, acc=94.4]\n"
     ]
    },
    {
     "name": "stdout",
     "output_type": "stream",
     "text": [
      "Epoch 125: Train Loss=0.2141, Train Acc=94.44%, Test Acc=76.85%, Test F1=0.7662\n"
     ]
    },
    {
     "name": "stderr",
     "output_type": "stream",
     "text": [
      "Epoch 126: 100%|██████████| 54/54 [00:00<00:00, 80.39it/s, loss=1.01, acc=94.3]\n"
     ]
    },
    {
     "name": "stdout",
     "output_type": "stream",
     "text": [
      "Epoch 126: Train Loss=0.2175, Train Acc=94.33%, Test Acc=78.70%, Test F1=0.7879\n"
     ]
    },
    {
     "name": "stderr",
     "output_type": "stream",
     "text": [
      "Epoch 127: 100%|██████████| 54/54 [00:00<00:00, 79.08it/s, loss=0.401, acc=93.2]\n"
     ]
    },
    {
     "name": "stdout",
     "output_type": "stream",
     "text": [
      "Epoch 127: Train Loss=0.2625, Train Acc=93.17%, Test Acc=77.78%, Test F1=0.7792\n"
     ]
    },
    {
     "name": "stderr",
     "output_type": "stream",
     "text": [
      "Epoch 128: 100%|██████████| 54/54 [00:00<00:00, 79.85it/s, loss=0.299, acc=93.2]\n"
     ]
    },
    {
     "name": "stdout",
     "output_type": "stream",
     "text": [
      "Epoch 128: Train Loss=0.2308, Train Acc=93.17%, Test Acc=77.78%, Test F1=0.7777\n"
     ]
    },
    {
     "name": "stderr",
     "output_type": "stream",
     "text": [
      "Epoch 129: 100%|██████████| 54/54 [00:00<00:00, 79.14it/s, loss=0.0972, acc=95.6]\n"
     ]
    },
    {
     "name": "stdout",
     "output_type": "stream",
     "text": [
      "Epoch 129: Train Loss=0.1568, Train Acc=95.60%, Test Acc=77.78%, Test F1=0.7780\n"
     ]
    },
    {
     "name": "stderr",
     "output_type": "stream",
     "text": [
      "Epoch 130: 100%|██████████| 54/54 [00:00<00:00, 81.11it/s, loss=0.0455, acc=93.8]\n"
     ]
    },
    {
     "name": "stdout",
     "output_type": "stream",
     "text": [
      "Epoch 130: Train Loss=0.2313, Train Acc=93.75%, Test Acc=77.31%, Test F1=0.7736\n"
     ]
    },
    {
     "name": "stderr",
     "output_type": "stream",
     "text": [
      "Epoch 131: 100%|██████████| 54/54 [00:00<00:00, 80.40it/s, loss=0.0352, acc=94.9]\n"
     ]
    },
    {
     "name": "stdout",
     "output_type": "stream",
     "text": [
      "Epoch 131: Train Loss=0.2066, Train Acc=94.91%, Test Acc=79.17%, Test F1=0.7899\n"
     ]
    },
    {
     "name": "stderr",
     "output_type": "stream",
     "text": [
      "Epoch 132: 100%|██████████| 54/54 [00:00<00:00, 80.28it/s, loss=0.487, acc=94]\n"
     ]
    },
    {
     "name": "stdout",
     "output_type": "stream",
     "text": [
      "Epoch 132: Train Loss=0.2060, Train Acc=93.98%, Test Acc=80.09%, Test F1=0.8021\n"
     ]
    },
    {
     "name": "stderr",
     "output_type": "stream",
     "text": [
      "Epoch 133: 100%|██████████| 54/54 [00:00<00:00, 79.07it/s, loss=0.187, acc=95.3]\n"
     ]
    },
    {
     "name": "stdout",
     "output_type": "stream",
     "text": [
      "Epoch 133: Train Loss=0.1965, Train Acc=95.25%, Test Acc=78.24%, Test F1=0.7824\n"
     ]
    },
    {
     "name": "stderr",
     "output_type": "stream",
     "text": [
      "Epoch 134: 100%|██████████| 54/54 [00:00<00:00, 80.59it/s, loss=0.0163, acc=94.4]\n"
     ]
    },
    {
     "name": "stdout",
     "output_type": "stream",
     "text": [
      "Epoch 134: Train Loss=0.2427, Train Acc=94.44%, Test Acc=80.56%, Test F1=0.8063\n",
      "Early stopping at epoch 134\n",
      "\n",
      "Training Summary:\n",
      "  Best Model: Epoch 84, Acc=80.56%, F1=0.8045\n",
      "  Highest: Epoch 84, Acc=80.56%, F1=0.8045\n",
      "Model doesn't have feature gating mechanism\n",
      "\n",
      "Final Results:\n",
      "  Best: Acc=80.56%, F1=0.8063\n",
      "  Highest: Acc=80.56%, F1=0.8045\n",
      "\n",
      "Classification Report:\n",
      "              precision    recall  f1-score   support\n",
      "\n",
      "       Angry       0.78      0.91      0.84        43\n",
      "       Happy       0.65      0.74      0.70        43\n",
      "     Natural       0.93      0.88      0.90        43\n",
      "         Sad       0.91      0.68      0.78        44\n",
      "   Surprised       0.81      0.81      0.81        43\n",
      "\n",
      "    accuracy                           0.81       216\n",
      "   macro avg       0.82      0.81      0.81       216\n",
      "weighted avg       0.82      0.81      0.81       216\n",
      "\n",
      "\n",
      "============================================================\n",
      "Experiment: Mel-Spectrogram\n",
      "============================================================\n",
      "Features shape: (1080, 3, 128, 94)\n",
      "Architecture: CNN+LSTM (temporal structure)\n",
      "Split: Train=864, Test=216\n",
      "Model parameters: 6,920,454\n",
      "\n",
      "Training Configuration:\n",
      "  Architecture: CNN+LSTM\n",
      "  Learning Rate: 0.0005\n",
      "  Batch Size: 16\n",
      "  Description: CNN+LSTM for temporal mel-spectrograms\n"
     ]
    },
    {
     "name": "stderr",
     "output_type": "stream",
     "text": [
      "Epoch 1: 100%|██████████| 54/54 [00:02<00:00, 23.53it/s, loss=2.05, acc=20.3]\n"
     ]
    },
    {
     "name": "stdout",
     "output_type": "stream",
     "text": [
      "Epoch 1: Train Loss=2.2639, Train Acc=20.25%, Test Acc=25.93%, Test F1=0.1987\n"
     ]
    },
    {
     "name": "stderr",
     "output_type": "stream",
     "text": [
      "Epoch 2: 100%|██████████| 54/54 [00:02<00:00, 23.70it/s, loss=1.63, acc=21.8]\n"
     ]
    },
    {
     "name": "stdout",
     "output_type": "stream",
     "text": [
      "Epoch 2: Train Loss=2.0960, Train Acc=21.76%, Test Acc=22.69%, Test F1=0.1133\n"
     ]
    },
    {
     "name": "stderr",
     "output_type": "stream",
     "text": [
      "Epoch 3: 100%|██████████| 54/54 [00:02<00:00, 23.77it/s, loss=1.9, acc=20.6]\n"
     ]
    },
    {
     "name": "stdout",
     "output_type": "stream",
     "text": [
      "Epoch 3: Train Loss=2.0300, Train Acc=20.60%, Test Acc=26.85%, Test F1=0.1554\n"
     ]
    },
    {
     "name": "stderr",
     "output_type": "stream",
     "text": [
      "Epoch 4: 100%|██████████| 54/54 [00:02<00:00, 23.54it/s, loss=1.8, acc=25.6]\n"
     ]
    },
    {
     "name": "stdout",
     "output_type": "stream",
     "text": [
      "Epoch 4: Train Loss=1.8499, Train Acc=25.58%, Test Acc=24.07%, Test F1=0.1257\n"
     ]
    },
    {
     "name": "stderr",
     "output_type": "stream",
     "text": [
      "Epoch 5: 100%|██████████| 54/54 [00:02<00:00, 23.70it/s, loss=1.56, acc=30.2]\n"
     ]
    },
    {
     "name": "stdout",
     "output_type": "stream",
     "text": [
      "Epoch 5: Train Loss=1.6926, Train Acc=30.21%, Test Acc=44.91%, Test F1=0.3720\n"
     ]
    },
    {
     "name": "stderr",
     "output_type": "stream",
     "text": [
      "Epoch 6: 100%|██████████| 54/54 [00:02<00:00, 23.87it/s, loss=1.6, acc=34.1]\n"
     ]
    },
    {
     "name": "stdout",
     "output_type": "stream",
     "text": [
      "Epoch 6: Train Loss=1.6249, Train Acc=34.14%, Test Acc=40.74%, Test F1=0.3555\n"
     ]
    },
    {
     "name": "stderr",
     "output_type": "stream",
     "text": [
      "Epoch 7: 100%|██████████| 54/54 [00:02<00:00, 23.77it/s, loss=1.41, acc=37.7]\n"
     ]
    },
    {
     "name": "stdout",
     "output_type": "stream",
     "text": [
      "Epoch 7: Train Loss=1.5062, Train Acc=37.73%, Test Acc=37.50%, Test F1=0.2875\n"
     ]
    },
    {
     "name": "stderr",
     "output_type": "stream",
     "text": [
      "Epoch 8: 100%|██████████| 54/54 [00:02<00:00, 23.77it/s, loss=1.54, acc=36.7]\n"
     ]
    },
    {
     "name": "stdout",
     "output_type": "stream",
     "text": [
      "Epoch 8: Train Loss=1.4898, Train Acc=36.69%, Test Acc=48.61%, Test F1=0.4038\n"
     ]
    },
    {
     "name": "stderr",
     "output_type": "stream",
     "text": [
      "Epoch 9: 100%|██████████| 54/54 [00:02<00:00, 23.60it/s, loss=1.02, acc=43.8]\n"
     ]
    },
    {
     "name": "stdout",
     "output_type": "stream",
     "text": [
      "Epoch 9: Train Loss=1.3622, Train Acc=43.75%, Test Acc=50.46%, Test F1=0.4052\n"
     ]
    },
    {
     "name": "stderr",
     "output_type": "stream",
     "text": [
      "Epoch 10: 100%|██████████| 54/54 [00:02<00:00, 23.86it/s, loss=1.6, acc=44.6]\n"
     ]
    },
    {
     "name": "stdout",
     "output_type": "stream",
     "text": [
      "Epoch 10: Train Loss=1.3010, Train Acc=44.56%, Test Acc=54.17%, Test F1=0.4648\n"
     ]
    },
    {
     "name": "stderr",
     "output_type": "stream",
     "text": [
      "Epoch 11: 100%|██████████| 54/54 [00:02<00:00, 23.60it/s, loss=0.948, acc=47.2]\n"
     ]
    },
    {
     "name": "stdout",
     "output_type": "stream",
     "text": [
      "Epoch 11: Train Loss=1.2225, Train Acc=47.22%, Test Acc=46.76%, Test F1=0.3759\n"
     ]
    },
    {
     "name": "stderr",
     "output_type": "stream",
     "text": [
      "Epoch 12: 100%|██████████| 54/54 [00:02<00:00, 23.76it/s, loss=1.08, acc=49.8]\n"
     ]
    },
    {
     "name": "stdout",
     "output_type": "stream",
     "text": [
      "Epoch 12: Train Loss=1.1547, Train Acc=49.77%, Test Acc=50.46%, Test F1=0.4502\n"
     ]
    },
    {
     "name": "stderr",
     "output_type": "stream",
     "text": [
      "Epoch 13: 100%|██████████| 54/54 [00:02<00:00, 23.66it/s, loss=1.02, acc=49.2]\n"
     ]
    },
    {
     "name": "stdout",
     "output_type": "stream",
     "text": [
      "Epoch 13: Train Loss=1.1117, Train Acc=49.19%, Test Acc=54.63%, Test F1=0.4703\n"
     ]
    },
    {
     "name": "stderr",
     "output_type": "stream",
     "text": [
      "Epoch 14: 100%|██████████| 54/54 [00:02<00:00, 23.63it/s, loss=1.13, acc=50.7]\n"
     ]
    },
    {
     "name": "stdout",
     "output_type": "stream",
     "text": [
      "Epoch 14: Train Loss=1.1048, Train Acc=50.69%, Test Acc=48.15%, Test F1=0.4149\n"
     ]
    },
    {
     "name": "stderr",
     "output_type": "stream",
     "text": [
      "Epoch 15: 100%|██████████| 54/54 [00:02<00:00, 23.58it/s, loss=1.1, acc=56.2]\n"
     ]
    },
    {
     "name": "stdout",
     "output_type": "stream",
     "text": [
      "Epoch 15: Train Loss=1.0260, Train Acc=56.25%, Test Acc=50.00%, Test F1=0.4595\n"
     ]
    },
    {
     "name": "stderr",
     "output_type": "stream",
     "text": [
      "Epoch 16: 100%|██████████| 54/54 [00:02<00:00, 23.49it/s, loss=0.793, acc=60.1]\n"
     ]
    },
    {
     "name": "stdout",
     "output_type": "stream",
     "text": [
      "Epoch 16: Train Loss=0.9690, Train Acc=60.07%, Test Acc=55.56%, Test F1=0.5013\n"
     ]
    },
    {
     "name": "stderr",
     "output_type": "stream",
     "text": [
      "Epoch 17: 100%|██████████| 54/54 [00:02<00:00, 23.61it/s, loss=0.869, acc=62.4]\n"
     ]
    },
    {
     "name": "stdout",
     "output_type": "stream",
     "text": [
      "Epoch 17: Train Loss=0.9174, Train Acc=62.38%, Test Acc=58.80%, Test F1=0.5749\n"
     ]
    },
    {
     "name": "stderr",
     "output_type": "stream",
     "text": [
      "Epoch 18: 100%|██████████| 54/54 [00:02<00:00, 23.67it/s, loss=1.13, acc=64.1]\n"
     ]
    },
    {
     "name": "stdout",
     "output_type": "stream",
     "text": [
      "Epoch 18: Train Loss=0.8148, Train Acc=64.12%, Test Acc=58.80%, Test F1=0.5611\n"
     ]
    },
    {
     "name": "stderr",
     "output_type": "stream",
     "text": [
      "Epoch 19: 100%|██████████| 54/54 [00:02<00:00, 23.53it/s, loss=0.946, acc=64.1]\n"
     ]
    },
    {
     "name": "stdout",
     "output_type": "stream",
     "text": [
      "Epoch 19: Train Loss=0.8010, Train Acc=64.12%, Test Acc=60.65%, Test F1=0.6074\n"
     ]
    },
    {
     "name": "stderr",
     "output_type": "stream",
     "text": [
      "Epoch 20: 100%|██████████| 54/54 [00:02<00:00, 23.65it/s, loss=0.764, acc=68.4]\n"
     ]
    },
    {
     "name": "stdout",
     "output_type": "stream",
     "text": [
      "Epoch 20: Train Loss=0.7756, Train Acc=68.40%, Test Acc=61.57%, Test F1=0.6078\n"
     ]
    },
    {
     "name": "stderr",
     "output_type": "stream",
     "text": [
      "Epoch 21: 100%|██████████| 54/54 [00:02<00:00, 23.52it/s, loss=0.527, acc=70.3]\n"
     ]
    },
    {
     "name": "stdout",
     "output_type": "stream",
     "text": [
      "Epoch 21: Train Loss=0.6997, Train Acc=70.25%, Test Acc=60.19%, Test F1=0.5749\n"
     ]
    },
    {
     "name": "stderr",
     "output_type": "stream",
     "text": [
      "Epoch 22: 100%|██████████| 54/54 [00:02<00:00, 23.61it/s, loss=1.21, acc=75.7]\n"
     ]
    },
    {
     "name": "stdout",
     "output_type": "stream",
     "text": [
      "Epoch 22: Train Loss=0.6468, Train Acc=75.69%, Test Acc=66.67%, Test F1=0.6518\n"
     ]
    },
    {
     "name": "stderr",
     "output_type": "stream",
     "text": [
      "Epoch 23: 100%|██████████| 54/54 [00:02<00:00, 23.55it/s, loss=0.535, acc=77.7]\n"
     ]
    },
    {
     "name": "stdout",
     "output_type": "stream",
     "text": [
      "Epoch 23: Train Loss=0.5635, Train Acc=77.66%, Test Acc=67.59%, Test F1=0.6788\n"
     ]
    },
    {
     "name": "stderr",
     "output_type": "stream",
     "text": [
      "Epoch 24: 100%|██████████| 54/54 [00:02<00:00, 23.54it/s, loss=0.473, acc=79.3]\n"
     ]
    },
    {
     "name": "stdout",
     "output_type": "stream",
     "text": [
      "Epoch 24: Train Loss=0.5265, Train Acc=79.28%, Test Acc=62.96%, Test F1=0.6332\n"
     ]
    },
    {
     "name": "stderr",
     "output_type": "stream",
     "text": [
      "Epoch 25: 100%|██████████| 54/54 [00:02<00:00, 23.67it/s, loss=0.36, acc=81.4]\n"
     ]
    },
    {
     "name": "stdout",
     "output_type": "stream",
     "text": [
      "Epoch 25: Train Loss=0.4859, Train Acc=81.37%, Test Acc=67.13%, Test F1=0.6530\n"
     ]
    },
    {
     "name": "stderr",
     "output_type": "stream",
     "text": [
      "Epoch 26: 100%|██████████| 54/54 [00:02<00:00, 23.23it/s, loss=0.343, acc=82.1]\n"
     ]
    },
    {
     "name": "stdout",
     "output_type": "stream",
     "text": [
      "Epoch 26: Train Loss=0.5341, Train Acc=82.06%, Test Acc=68.52%, Test F1=0.6830\n"
     ]
    },
    {
     "name": "stderr",
     "output_type": "stream",
     "text": [
      "Epoch 27: 100%|██████████| 54/54 [00:02<00:00, 23.47it/s, loss=0.503, acc=82.1]\n"
     ]
    },
    {
     "name": "stdout",
     "output_type": "stream",
     "text": [
      "Epoch 27: Train Loss=0.5002, Train Acc=82.06%, Test Acc=66.20%, Test F1=0.6571\n"
     ]
    },
    {
     "name": "stderr",
     "output_type": "stream",
     "text": [
      "Epoch 28: 100%|██████████| 54/54 [00:02<00:00, 23.49it/s, loss=0.427, acc=85.9]\n"
     ]
    },
    {
     "name": "stdout",
     "output_type": "stream",
     "text": [
      "Epoch 28: Train Loss=0.3913, Train Acc=85.88%, Test Acc=73.15%, Test F1=0.7368\n"
     ]
    },
    {
     "name": "stderr",
     "output_type": "stream",
     "text": [
      "Epoch 29: 100%|██████████| 54/54 [00:02<00:00, 23.61it/s, loss=0.473, acc=86.2]\n"
     ]
    },
    {
     "name": "stdout",
     "output_type": "stream",
     "text": [
      "Epoch 29: Train Loss=0.3873, Train Acc=86.23%, Test Acc=64.81%, Test F1=0.6484\n"
     ]
    },
    {
     "name": "stderr",
     "output_type": "stream",
     "text": [
      "Epoch 30: 100%|██████████| 54/54 [00:02<00:00, 23.68it/s, loss=0.227, acc=90.5]\n"
     ]
    },
    {
     "name": "stdout",
     "output_type": "stream",
     "text": [
      "Epoch 30: Train Loss=0.3060, Train Acc=90.51%, Test Acc=68.52%, Test F1=0.6769\n"
     ]
    },
    {
     "name": "stderr",
     "output_type": "stream",
     "text": [
      "Epoch 31: 100%|██████████| 54/54 [00:02<00:00, 23.37it/s, loss=0.289, acc=87.3]\n"
     ]
    },
    {
     "name": "stdout",
     "output_type": "stream",
     "text": [
      "Epoch 31: Train Loss=0.3722, Train Acc=87.27%, Test Acc=69.91%, Test F1=0.6950\n"
     ]
    },
    {
     "name": "stderr",
     "output_type": "stream",
     "text": [
      "Epoch 32: 100%|██████████| 54/54 [00:02<00:00, 23.49it/s, loss=0.408, acc=88.8]\n"
     ]
    },
    {
     "name": "stdout",
     "output_type": "stream",
     "text": [
      "Epoch 32: Train Loss=0.3769, Train Acc=88.77%, Test Acc=71.30%, Test F1=0.7044\n"
     ]
    },
    {
     "name": "stderr",
     "output_type": "stream",
     "text": [
      "Epoch 33: 100%|██████████| 54/54 [00:02<00:00, 23.58it/s, loss=0.0777, acc=89.5]\n"
     ]
    },
    {
     "name": "stdout",
     "output_type": "stream",
     "text": [
      "Epoch 33: Train Loss=0.3587, Train Acc=89.47%, Test Acc=71.30%, Test F1=0.7134\n"
     ]
    },
    {
     "name": "stderr",
     "output_type": "stream",
     "text": [
      "Epoch 34: 100%|██████████| 54/54 [00:02<00:00, 23.55it/s, loss=0.39, acc=90.9]\n"
     ]
    },
    {
     "name": "stdout",
     "output_type": "stream",
     "text": [
      "Epoch 34: Train Loss=0.3051, Train Acc=90.86%, Test Acc=70.37%, Test F1=0.7008\n"
     ]
    },
    {
     "name": "stderr",
     "output_type": "stream",
     "text": [
      "Epoch 35: 100%|██████████| 54/54 [00:02<00:00, 23.52it/s, loss=0.525, acc=90.3]\n"
     ]
    },
    {
     "name": "stdout",
     "output_type": "stream",
     "text": [
      "Epoch 35: Train Loss=0.3118, Train Acc=90.28%, Test Acc=77.31%, Test F1=0.7725\n"
     ]
    },
    {
     "name": "stderr",
     "output_type": "stream",
     "text": [
      "Epoch 36: 100%|██████████| 54/54 [00:02<00:00, 23.58it/s, loss=0.0906, acc=92.4]\n"
     ]
    },
    {
     "name": "stdout",
     "output_type": "stream",
     "text": [
      "Epoch 36: Train Loss=0.2682, Train Acc=92.36%, Test Acc=71.76%, Test F1=0.7134\n"
     ]
    },
    {
     "name": "stderr",
     "output_type": "stream",
     "text": [
      "Epoch 37: 100%|██████████| 54/54 [00:02<00:00, 23.67it/s, loss=0.173, acc=91.8]\n"
     ]
    },
    {
     "name": "stdout",
     "output_type": "stream",
     "text": [
      "Epoch 37: Train Loss=0.2945, Train Acc=91.78%, Test Acc=72.22%, Test F1=0.7239\n"
     ]
    },
    {
     "name": "stderr",
     "output_type": "stream",
     "text": [
      "Epoch 38: 100%|██████████| 54/54 [00:02<00:00, 23.48it/s, loss=0.103, acc=93.3]\n"
     ]
    },
    {
     "name": "stdout",
     "output_type": "stream",
     "text": [
      "Epoch 38: Train Loss=0.2317, Train Acc=93.29%, Test Acc=75.00%, Test F1=0.7465\n"
     ]
    },
    {
     "name": "stderr",
     "output_type": "stream",
     "text": [
      "Epoch 39: 100%|██████████| 54/54 [00:02<00:00, 23.64it/s, loss=0.0587, acc=94.8]\n"
     ]
    },
    {
     "name": "stdout",
     "output_type": "stream",
     "text": [
      "Epoch 39: Train Loss=0.1680, Train Acc=94.79%, Test Acc=73.61%, Test F1=0.7290\n"
     ]
    },
    {
     "name": "stderr",
     "output_type": "stream",
     "text": [
      "Epoch 40: 100%|██████████| 54/54 [00:02<00:00, 23.39it/s, loss=0.23, acc=92.2]\n"
     ]
    },
    {
     "name": "stdout",
     "output_type": "stream",
     "text": [
      "Epoch 40: Train Loss=0.2838, Train Acc=92.25%, Test Acc=75.00%, Test F1=0.7499\n"
     ]
    },
    {
     "name": "stderr",
     "output_type": "stream",
     "text": [
      "Epoch 41: 100%|██████████| 54/54 [00:02<00:00, 23.52it/s, loss=0.101, acc=96.1]\n"
     ]
    },
    {
     "name": "stdout",
     "output_type": "stream",
     "text": [
      "Epoch 41: Train Loss=0.1350, Train Acc=96.06%, Test Acc=73.15%, Test F1=0.7302\n"
     ]
    },
    {
     "name": "stderr",
     "output_type": "stream",
     "text": [
      "Epoch 42: 100%|██████████| 54/54 [00:02<00:00, 23.50it/s, loss=0.0453, acc=96.8]\n"
     ]
    },
    {
     "name": "stdout",
     "output_type": "stream",
     "text": [
      "Epoch 42: Train Loss=0.1169, Train Acc=96.76%, Test Acc=74.07%, Test F1=0.7433\n"
     ]
    },
    {
     "name": "stderr",
     "output_type": "stream",
     "text": [
      "Epoch 43: 100%|██████████| 54/54 [00:02<00:00, 23.53it/s, loss=0.0237, acc=94.7]\n"
     ]
    },
    {
     "name": "stdout",
     "output_type": "stream",
     "text": [
      "Epoch 43: Train Loss=0.1761, Train Acc=94.68%, Test Acc=74.54%, Test F1=0.7415\n"
     ]
    },
    {
     "name": "stderr",
     "output_type": "stream",
     "text": [
      "Epoch 44: 100%|██████████| 54/54 [00:02<00:00, 23.51it/s, loss=0.0172, acc=97.6]\n"
     ]
    },
    {
     "name": "stdout",
     "output_type": "stream",
     "text": [
      "Epoch 44: Train Loss=0.1073, Train Acc=97.57%, Test Acc=77.78%, Test F1=0.7784\n"
     ]
    },
    {
     "name": "stderr",
     "output_type": "stream",
     "text": [
      "Epoch 45: 100%|██████████| 54/54 [00:02<00:00, 23.51it/s, loss=0.0241, acc=99.2]\n"
     ]
    },
    {
     "name": "stdout",
     "output_type": "stream",
     "text": [
      "Epoch 45: Train Loss=0.0387, Train Acc=99.19%, Test Acc=80.09%, Test F1=0.8008\n"
     ]
    },
    {
     "name": "stderr",
     "output_type": "stream",
     "text": [
      "Epoch 46: 100%|██████████| 54/54 [00:02<00:00, 23.73it/s, loss=0.0113, acc=99.2]\n"
     ]
    },
    {
     "name": "stdout",
     "output_type": "stream",
     "text": [
      "Epoch 46: Train Loss=0.0461, Train Acc=99.19%, Test Acc=78.70%, Test F1=0.7887\n"
     ]
    },
    {
     "name": "stderr",
     "output_type": "stream",
     "text": [
      "Epoch 47: 100%|██████████| 54/54 [00:02<00:00, 23.59it/s, loss=0.00863, acc=99.7]\n"
     ]
    },
    {
     "name": "stdout",
     "output_type": "stream",
     "text": [
      "Epoch 47: Train Loss=0.0286, Train Acc=99.65%, Test Acc=79.63%, Test F1=0.7960\n"
     ]
    },
    {
     "name": "stderr",
     "output_type": "stream",
     "text": [
      "Epoch 48: 100%|██████████| 54/54 [00:02<00:00, 23.45it/s, loss=0.0414, acc=100]\n"
     ]
    },
    {
     "name": "stdout",
     "output_type": "stream",
     "text": [
      "Epoch 48: Train Loss=0.0200, Train Acc=100.00%, Test Acc=76.85%, Test F1=0.7656\n"
     ]
    },
    {
     "name": "stderr",
     "output_type": "stream",
     "text": [
      "Epoch 49: 100%|██████████| 54/54 [00:02<00:00, 23.47it/s, loss=0.0398, acc=99.2]\n"
     ]
    },
    {
     "name": "stdout",
     "output_type": "stream",
     "text": [
      "Epoch 49: Train Loss=0.0271, Train Acc=99.19%, Test Acc=78.70%, Test F1=0.7867\n"
     ]
    },
    {
     "name": "stderr",
     "output_type": "stream",
     "text": [
      "Epoch 50: 100%|██████████| 54/54 [00:02<00:00, 23.64it/s, loss=0.0193, acc=99.7]\n"
     ]
    },
    {
     "name": "stdout",
     "output_type": "stream",
     "text": [
      "Epoch 50: Train Loss=0.0185, Train Acc=99.65%, Test Acc=78.70%, Test F1=0.7886\n"
     ]
    },
    {
     "name": "stderr",
     "output_type": "stream",
     "text": [
      "Epoch 51: 100%|██████████| 54/54 [00:02<00:00, 23.48it/s, loss=0.00442, acc=99.5]\n"
     ]
    },
    {
     "name": "stdout",
     "output_type": "stream",
     "text": [
      "Epoch 51: Train Loss=0.0285, Train Acc=99.54%, Test Acc=80.56%, Test F1=0.8054\n"
     ]
    },
    {
     "name": "stderr",
     "output_type": "stream",
     "text": [
      "Epoch 52: 100%|██████████| 54/54 [00:02<00:00, 23.43it/s, loss=0.00566, acc=99.5]\n"
     ]
    },
    {
     "name": "stdout",
     "output_type": "stream",
     "text": [
      "Epoch 52: Train Loss=0.0476, Train Acc=99.54%, Test Acc=76.39%, Test F1=0.7648\n"
     ]
    },
    {
     "name": "stderr",
     "output_type": "stream",
     "text": [
      "Epoch 53: 100%|██████████| 54/54 [00:02<00:00, 23.59it/s, loss=0.00624, acc=99.7]\n"
     ]
    },
    {
     "name": "stdout",
     "output_type": "stream",
     "text": [
      "Epoch 53: Train Loss=0.0176, Train Acc=99.65%, Test Acc=76.39%, Test F1=0.7633\n"
     ]
    },
    {
     "name": "stderr",
     "output_type": "stream",
     "text": [
      "Epoch 54: 100%|██████████| 54/54 [00:02<00:00, 23.61it/s, loss=0.0243, acc=99.8]\n"
     ]
    },
    {
     "name": "stdout",
     "output_type": "stream",
     "text": [
      "Epoch 54: Train Loss=0.0144, Train Acc=99.77%, Test Acc=77.31%, Test F1=0.7729\n"
     ]
    },
    {
     "name": "stderr",
     "output_type": "stream",
     "text": [
      "Epoch 55: 100%|██████████| 54/54 [00:02<00:00, 23.54it/s, loss=0.0053, acc=99.7]\n"
     ]
    },
    {
     "name": "stdout",
     "output_type": "stream",
     "text": [
      "Epoch 55: Train Loss=0.0205, Train Acc=99.65%, Test Acc=77.31%, Test F1=0.7703\n"
     ]
    },
    {
     "name": "stderr",
     "output_type": "stream",
     "text": [
      "Epoch 56: 100%|██████████| 54/54 [00:02<00:00, 23.59it/s, loss=0.00912, acc=99.7]\n"
     ]
    },
    {
     "name": "stdout",
     "output_type": "stream",
     "text": [
      "Epoch 56: Train Loss=0.0371, Train Acc=99.65%, Test Acc=74.54%, Test F1=0.7386\n"
     ]
    },
    {
     "name": "stderr",
     "output_type": "stream",
     "text": [
      "Epoch 57: 100%|██████████| 54/54 [00:02<00:00, 23.69it/s, loss=0.00305, acc=99.5]\n"
     ]
    },
    {
     "name": "stdout",
     "output_type": "stream",
     "text": [
      "Epoch 57: Train Loss=0.0176, Train Acc=99.54%, Test Acc=75.46%, Test F1=0.7527\n"
     ]
    },
    {
     "name": "stderr",
     "output_type": "stream",
     "text": [
      "Epoch 58: 100%|██████████| 54/54 [00:02<00:00, 23.52it/s, loss=0.0195, acc=99.4]\n"
     ]
    },
    {
     "name": "stdout",
     "output_type": "stream",
     "text": [
      "Epoch 58: Train Loss=0.0261, Train Acc=99.42%, Test Acc=77.78%, Test F1=0.7745\n"
     ]
    },
    {
     "name": "stderr",
     "output_type": "stream",
     "text": [
      "Epoch 59: 100%|██████████| 54/54 [00:02<00:00, 23.56it/s, loss=0.344, acc=99.3]\n"
     ]
    },
    {
     "name": "stdout",
     "output_type": "stream",
     "text": [
      "Epoch 59: Train Loss=0.0453, Train Acc=99.31%, Test Acc=75.93%, Test F1=0.7563\n"
     ]
    },
    {
     "name": "stderr",
     "output_type": "stream",
     "text": [
      "Epoch 60: 100%|██████████| 54/54 [00:02<00:00, 23.63it/s, loss=0.00246, acc=99.7]\n"
     ]
    },
    {
     "name": "stdout",
     "output_type": "stream",
     "text": [
      "Epoch 60: Train Loss=0.0146, Train Acc=99.65%, Test Acc=79.17%, Test F1=0.7896\n"
     ]
    },
    {
     "name": "stderr",
     "output_type": "stream",
     "text": [
      "Epoch 61: 100%|██████████| 54/54 [00:02<00:00, 23.62it/s, loss=0.0759, acc=99.7]\n"
     ]
    },
    {
     "name": "stdout",
     "output_type": "stream",
     "text": [
      "Epoch 61: Train Loss=0.0116, Train Acc=99.65%, Test Acc=77.31%, Test F1=0.7685\n"
     ]
    },
    {
     "name": "stderr",
     "output_type": "stream",
     "text": [
      "Epoch 62: 100%|██████████| 54/54 [00:02<00:00, 23.49it/s, loss=0.0029, acc=99.7]\n"
     ]
    },
    {
     "name": "stdout",
     "output_type": "stream",
     "text": [
      "Epoch 62: Train Loss=0.0160, Train Acc=99.65%, Test Acc=75.93%, Test F1=0.7572\n"
     ]
    },
    {
     "name": "stderr",
     "output_type": "stream",
     "text": [
      "Epoch 63: 100%|██████████| 54/54 [00:02<00:00, 23.73it/s, loss=0.00309, acc=99.9]\n"
     ]
    },
    {
     "name": "stdout",
     "output_type": "stream",
     "text": [
      "Epoch 63: Train Loss=0.0084, Train Acc=99.88%, Test Acc=77.31%, Test F1=0.7704\n"
     ]
    },
    {
     "name": "stderr",
     "output_type": "stream",
     "text": [
      "Epoch 64: 100%|██████████| 54/54 [00:02<00:00, 23.77it/s, loss=0.00354, acc=99.5]\n"
     ]
    },
    {
     "name": "stdout",
     "output_type": "stream",
     "text": [
      "Epoch 64: Train Loss=0.0159, Train Acc=99.54%, Test Acc=77.78%, Test F1=0.7773\n"
     ]
    },
    {
     "name": "stderr",
     "output_type": "stream",
     "text": [
      "Epoch 65: 100%|██████████| 54/54 [00:02<00:00, 23.61it/s, loss=0.00356, acc=99.5]\n"
     ]
    },
    {
     "name": "stdout",
     "output_type": "stream",
     "text": [
      "Epoch 65: Train Loss=0.0160, Train Acc=99.54%, Test Acc=76.85%, Test F1=0.7677\n"
     ]
    },
    {
     "name": "stderr",
     "output_type": "stream",
     "text": [
      "Epoch 66: 100%|██████████| 54/54 [00:02<00:00, 23.54it/s, loss=0.00993, acc=99.9]\n"
     ]
    },
    {
     "name": "stdout",
     "output_type": "stream",
     "text": [
      "Epoch 66: Train Loss=0.0108, Train Acc=99.88%, Test Acc=76.39%, Test F1=0.7617\n"
     ]
    },
    {
     "name": "stderr",
     "output_type": "stream",
     "text": [
      "Epoch 67: 100%|██████████| 54/54 [00:02<00:00, 23.60it/s, loss=0.00443, acc=100]\n"
     ]
    },
    {
     "name": "stdout",
     "output_type": "stream",
     "text": [
      "Epoch 67: Train Loss=0.0066, Train Acc=100.00%, Test Acc=78.24%, Test F1=0.7834\n"
     ]
    },
    {
     "name": "stderr",
     "output_type": "stream",
     "text": [
      "Epoch 68: 100%|██████████| 54/54 [00:02<00:00, 23.61it/s, loss=0.00187, acc=100]\n"
     ]
    },
    {
     "name": "stdout",
     "output_type": "stream",
     "text": [
      "Epoch 68: Train Loss=0.0050, Train Acc=100.00%, Test Acc=77.78%, Test F1=0.7768\n"
     ]
    },
    {
     "name": "stderr",
     "output_type": "stream",
     "text": [
      "Epoch 69: 100%|██████████| 54/54 [00:02<00:00, 23.46it/s, loss=0.00402, acc=99.8]\n"
     ]
    },
    {
     "name": "stdout",
     "output_type": "stream",
     "text": [
      "Epoch 69: Train Loss=0.0110, Train Acc=99.77%, Test Acc=77.31%, Test F1=0.7724\n"
     ]
    },
    {
     "name": "stderr",
     "output_type": "stream",
     "text": [
      "Epoch 70: 100%|██████████| 54/54 [00:02<00:00, 23.55it/s, loss=0.00703, acc=99.8]\n"
     ]
    },
    {
     "name": "stdout",
     "output_type": "stream",
     "text": [
      "Epoch 70: Train Loss=0.0100, Train Acc=99.77%, Test Acc=76.39%, Test F1=0.7636\n"
     ]
    },
    {
     "name": "stderr",
     "output_type": "stream",
     "text": [
      "Epoch 71: 100%|██████████| 54/54 [00:02<00:00, 23.55it/s, loss=0.00278, acc=99.9]\n"
     ]
    },
    {
     "name": "stdout",
     "output_type": "stream",
     "text": [
      "Epoch 71: Train Loss=0.0072, Train Acc=99.88%, Test Acc=78.70%, Test F1=0.7864\n"
     ]
    },
    {
     "name": "stderr",
     "output_type": "stream",
     "text": [
      "Epoch 72: 100%|██████████| 54/54 [00:02<00:00, 23.76it/s, loss=0.00364, acc=100]\n"
     ]
    },
    {
     "name": "stdout",
     "output_type": "stream",
     "text": [
      "Epoch 72: Train Loss=0.0051, Train Acc=100.00%, Test Acc=77.31%, Test F1=0.7719\n"
     ]
    },
    {
     "name": "stderr",
     "output_type": "stream",
     "text": [
      "Epoch 73: 100%|██████████| 54/54 [00:02<00:00, 23.58it/s, loss=0.00368, acc=99.8]\n"
     ]
    },
    {
     "name": "stdout",
     "output_type": "stream",
     "text": [
      "Epoch 73: Train Loss=0.0093, Train Acc=99.77%, Test Acc=79.17%, Test F1=0.7910\n"
     ]
    },
    {
     "name": "stderr",
     "output_type": "stream",
     "text": [
      "Epoch 74: 100%|██████████| 54/54 [00:02<00:00, 23.70it/s, loss=0.0032, acc=100]\n"
     ]
    },
    {
     "name": "stdout",
     "output_type": "stream",
     "text": [
      "Epoch 74: Train Loss=0.0068, Train Acc=100.00%, Test Acc=78.70%, Test F1=0.7864\n"
     ]
    },
    {
     "name": "stderr",
     "output_type": "stream",
     "text": [
      "Epoch 75: 100%|██████████| 54/54 [00:02<00:00, 23.66it/s, loss=0.00305, acc=100]\n"
     ]
    },
    {
     "name": "stdout",
     "output_type": "stream",
     "text": [
      "Epoch 75: Train Loss=0.0049, Train Acc=100.00%, Test Acc=78.24%, Test F1=0.7819\n"
     ]
    },
    {
     "name": "stderr",
     "output_type": "stream",
     "text": [
      "Epoch 76: 100%|██████████| 54/54 [00:02<00:00, 23.66it/s, loss=0.0028, acc=99.9]\n"
     ]
    },
    {
     "name": "stdout",
     "output_type": "stream",
     "text": [
      "Epoch 76: Train Loss=0.0085, Train Acc=99.88%, Test Acc=78.70%, Test F1=0.7869\n"
     ]
    },
    {
     "name": "stderr",
     "output_type": "stream",
     "text": [
      "Epoch 77: 100%|██████████| 54/54 [00:02<00:00, 23.70it/s, loss=0.0103, acc=100]\n"
     ]
    },
    {
     "name": "stdout",
     "output_type": "stream",
     "text": [
      "Epoch 77: Train Loss=0.0059, Train Acc=100.00%, Test Acc=78.24%, Test F1=0.7820\n"
     ]
    },
    {
     "name": "stderr",
     "output_type": "stream",
     "text": [
      "Epoch 78: 100%|██████████| 54/54 [00:02<00:00, 23.62it/s, loss=0.00299, acc=100]\n"
     ]
    },
    {
     "name": "stdout",
     "output_type": "stream",
     "text": [
      "Epoch 78: Train Loss=0.0047, Train Acc=100.00%, Test Acc=77.31%, Test F1=0.7729\n"
     ]
    },
    {
     "name": "stderr",
     "output_type": "stream",
     "text": [
      "Epoch 79: 100%|██████████| 54/54 [00:02<00:00, 23.59it/s, loss=0.132, acc=99.9]\n"
     ]
    },
    {
     "name": "stdout",
     "output_type": "stream",
     "text": [
      "Epoch 79: Train Loss=0.0079, Train Acc=99.88%, Test Acc=78.70%, Test F1=0.7870\n"
     ]
    },
    {
     "name": "stderr",
     "output_type": "stream",
     "text": [
      "Epoch 80: 100%|██████████| 54/54 [00:02<00:00, 23.12it/s, loss=0.00598, acc=100]\n"
     ]
    },
    {
     "name": "stdout",
     "output_type": "stream",
     "text": [
      "Epoch 80: Train Loss=0.0057, Train Acc=100.00%, Test Acc=79.17%, Test F1=0.7915\n"
     ]
    },
    {
     "name": "stderr",
     "output_type": "stream",
     "text": [
      "Epoch 81: 100%|██████████| 54/54 [00:02<00:00, 23.68it/s, loss=0.000864, acc=100]\n"
     ]
    },
    {
     "name": "stdout",
     "output_type": "stream",
     "text": [
      "Epoch 81: Train Loss=0.0049, Train Acc=100.00%, Test Acc=77.78%, Test F1=0.7775\n"
     ]
    },
    {
     "name": "stderr",
     "output_type": "stream",
     "text": [
      "Epoch 82: 100%|██████████| 54/54 [00:02<00:00, 23.51it/s, loss=0.00235, acc=99.9]\n"
     ]
    },
    {
     "name": "stdout",
     "output_type": "stream",
     "text": [
      "Epoch 82: Train Loss=0.0051, Train Acc=99.88%, Test Acc=78.24%, Test F1=0.7826\n"
     ]
    },
    {
     "name": "stderr",
     "output_type": "stream",
     "text": [
      "Epoch 83: 100%|██████████| 54/54 [00:02<00:00, 23.58it/s, loss=0.00377, acc=100]\n"
     ]
    },
    {
     "name": "stdout",
     "output_type": "stream",
     "text": [
      "Epoch 83: Train Loss=0.0049, Train Acc=100.00%, Test Acc=78.24%, Test F1=0.7816\n"
     ]
    },
    {
     "name": "stderr",
     "output_type": "stream",
     "text": [
      "Epoch 84: 100%|██████████| 54/54 [00:02<00:00, 23.49it/s, loss=0.0119, acc=100]\n"
     ]
    },
    {
     "name": "stdout",
     "output_type": "stream",
     "text": [
      "Epoch 84: Train Loss=0.0054, Train Acc=100.00%, Test Acc=78.70%, Test F1=0.7867\n"
     ]
    },
    {
     "name": "stderr",
     "output_type": "stream",
     "text": [
      "Epoch 85: 100%|██████████| 54/54 [00:02<00:00, 23.54it/s, loss=0.00189, acc=100]\n"
     ]
    },
    {
     "name": "stdout",
     "output_type": "stream",
     "text": [
      "Epoch 85: Train Loss=0.0054, Train Acc=100.00%, Test Acc=78.70%, Test F1=0.7869\n"
     ]
    },
    {
     "name": "stderr",
     "output_type": "stream",
     "text": [
      "Epoch 86: 100%|██████████| 54/54 [00:02<00:00, 23.54it/s, loss=0.000754, acc=99.9]\n"
     ]
    },
    {
     "name": "stdout",
     "output_type": "stream",
     "text": [
      "Epoch 86: Train Loss=0.0076, Train Acc=99.88%, Test Acc=80.09%, Test F1=0.8001\n"
     ]
    },
    {
     "name": "stderr",
     "output_type": "stream",
     "text": [
      "Epoch 87: 100%|██████████| 54/54 [00:02<00:00, 23.61it/s, loss=0.0034, acc=100]\n"
     ]
    },
    {
     "name": "stdout",
     "output_type": "stream",
     "text": [
      "Epoch 87: Train Loss=0.0050, Train Acc=100.00%, Test Acc=79.17%, Test F1=0.7910\n"
     ]
    },
    {
     "name": "stderr",
     "output_type": "stream",
     "text": [
      "Epoch 88: 100%|██████████| 54/54 [00:02<00:00, 23.65it/s, loss=0.00495, acc=100]\n"
     ]
    },
    {
     "name": "stdout",
     "output_type": "stream",
     "text": [
      "Epoch 88: Train Loss=0.0052, Train Acc=100.00%, Test Acc=78.70%, Test F1=0.7864\n"
     ]
    },
    {
     "name": "stderr",
     "output_type": "stream",
     "text": [
      "Epoch 89: 100%|██████████| 54/54 [00:02<00:00, 23.62it/s, loss=0.00145, acc=100]\n"
     ]
    },
    {
     "name": "stdout",
     "output_type": "stream",
     "text": [
      "Epoch 89: Train Loss=0.0049, Train Acc=100.00%, Test Acc=79.17%, Test F1=0.7910\n"
     ]
    },
    {
     "name": "stderr",
     "output_type": "stream",
     "text": [
      "Epoch 90: 100%|██████████| 54/54 [00:02<00:00, 23.63it/s, loss=0.000287, acc=100]\n"
     ]
    },
    {
     "name": "stdout",
     "output_type": "stream",
     "text": [
      "Epoch 90: Train Loss=0.0038, Train Acc=100.00%, Test Acc=78.24%, Test F1=0.7820\n"
     ]
    },
    {
     "name": "stderr",
     "output_type": "stream",
     "text": [
      "Epoch 91: 100%|██████████| 54/54 [00:02<00:00, 23.62it/s, loss=0.0495, acc=100]\n"
     ]
    },
    {
     "name": "stdout",
     "output_type": "stream",
     "text": [
      "Epoch 91: Train Loss=0.0052, Train Acc=100.00%, Test Acc=78.24%, Test F1=0.7821\n"
     ]
    },
    {
     "name": "stderr",
     "output_type": "stream",
     "text": [
      "Epoch 92: 100%|██████████| 54/54 [00:02<00:00, 23.62it/s, loss=0.00173, acc=99.9]\n"
     ]
    },
    {
     "name": "stdout",
     "output_type": "stream",
     "text": [
      "Epoch 92: Train Loss=0.0082, Train Acc=99.88%, Test Acc=79.17%, Test F1=0.7910\n"
     ]
    },
    {
     "name": "stderr",
     "output_type": "stream",
     "text": [
      "Epoch 93: 100%|██████████| 54/54 [00:02<00:00, 23.73it/s, loss=0.00157, acc=100]\n"
     ]
    },
    {
     "name": "stdout",
     "output_type": "stream",
     "text": [
      "Epoch 93: Train Loss=0.0064, Train Acc=100.00%, Test Acc=79.17%, Test F1=0.7909\n"
     ]
    },
    {
     "name": "stderr",
     "output_type": "stream",
     "text": [
      "Epoch 94: 100%|██████████| 54/54 [00:02<00:00, 23.49it/s, loss=0.0047, acc=100]\n"
     ]
    },
    {
     "name": "stdout",
     "output_type": "stream",
     "text": [
      "Epoch 94: Train Loss=0.0054, Train Acc=100.00%, Test Acc=77.31%, Test F1=0.7726\n"
     ]
    },
    {
     "name": "stderr",
     "output_type": "stream",
     "text": [
      "Epoch 95: 100%|██████████| 54/54 [00:02<00:00, 23.58it/s, loss=0.0026, acc=100]\n"
     ]
    },
    {
     "name": "stdout",
     "output_type": "stream",
     "text": [
      "Epoch 95: Train Loss=0.0056, Train Acc=100.00%, Test Acc=78.70%, Test F1=0.7866\n"
     ]
    },
    {
     "name": "stderr",
     "output_type": "stream",
     "text": [
      "Epoch 96: 100%|██████████| 54/54 [00:02<00:00, 23.45it/s, loss=0.00261, acc=100]\n"
     ]
    },
    {
     "name": "stdout",
     "output_type": "stream",
     "text": [
      "Epoch 96: Train Loss=0.0060, Train Acc=100.00%, Test Acc=77.31%, Test F1=0.7733\n"
     ]
    },
    {
     "name": "stderr",
     "output_type": "stream",
     "text": [
      "Epoch 97: 100%|██████████| 54/54 [00:02<00:00, 23.44it/s, loss=0.00347, acc=100]\n"
     ]
    },
    {
     "name": "stdout",
     "output_type": "stream",
     "text": [
      "Epoch 97: Train Loss=0.0035, Train Acc=100.00%, Test Acc=78.70%, Test F1=0.7861\n"
     ]
    },
    {
     "name": "stderr",
     "output_type": "stream",
     "text": [
      "Epoch 98: 100%|██████████| 54/54 [00:02<00:00, 23.53it/s, loss=0.00468, acc=99.9]\n"
     ]
    },
    {
     "name": "stdout",
     "output_type": "stream",
     "text": [
      "Epoch 98: Train Loss=0.0078, Train Acc=99.88%, Test Acc=78.70%, Test F1=0.7864\n"
     ]
    },
    {
     "name": "stderr",
     "output_type": "stream",
     "text": [
      "Epoch 99: 100%|██████████| 54/54 [00:02<00:00, 23.41it/s, loss=0.00381, acc=100]\n"
     ]
    },
    {
     "name": "stdout",
     "output_type": "stream",
     "text": [
      "Epoch 99: Train Loss=0.0043, Train Acc=100.00%, Test Acc=79.63%, Test F1=0.7955\n"
     ]
    },
    {
     "name": "stderr",
     "output_type": "stream",
     "text": [
      "Epoch 100: 100%|██████████| 54/54 [00:02<00:00, 23.66it/s, loss=0.0215, acc=99.8]\n"
     ]
    },
    {
     "name": "stdout",
     "output_type": "stream",
     "text": [
      "Epoch 100: Train Loss=0.0089, Train Acc=99.77%, Test Acc=78.24%, Test F1=0.7808\n"
     ]
    },
    {
     "name": "stderr",
     "output_type": "stream",
     "text": [
      "Epoch 101: 100%|██████████| 54/54 [00:02<00:00, 23.47it/s, loss=0.00248, acc=100]\n"
     ]
    },
    {
     "name": "stdout",
     "output_type": "stream",
     "text": [
      "Epoch 101: Train Loss=0.0029, Train Acc=100.00%, Test Acc=79.17%, Test F1=0.7906\n",
      "Early stopping at epoch 101\n",
      "\n",
      "Training Summary:\n",
      "  Best Model: Epoch 51, Acc=80.56%, F1=0.8054\n",
      "  Highest: Epoch 51, Acc=80.56%, F1=0.8054\n",
      "\n",
      "Final Results:\n",
      "  Best: Acc=79.17%, F1=0.7906\n",
      "  Highest: Acc=80.56%, F1=0.8054\n",
      "\n",
      "Classification Report:\n",
      "              precision    recall  f1-score   support\n",
      "\n",
      "       Angry       0.86      0.84      0.85        43\n",
      "       Happy       0.74      0.72      0.73        43\n",
      "     Natural       0.81      0.91      0.86        43\n",
      "         Sad       0.82      0.70      0.76        44\n",
      "   Surprised       0.74      0.79      0.76        43\n",
      "\n",
      "    accuracy                           0.79       216\n",
      "   macro avg       0.79      0.79      0.79       216\n",
      "weighted avg       0.79      0.79      0.79       216\n",
      "\n",
      "\n",
      "======================================================================\n",
      "FEATURE IMPORTANCE ANALYSIS\n",
      "======================================================================\n",
      "No experiments with feature gating to visualize\n",
      "\n",
      "======================================================================\n",
      "RESULTS SUMMARY - BanglaSER\n",
      "======================================================================\n",
      "\n",
      "Rank Feature Type         Architecture Params     Final Acc  Highest Acc \n",
      "--------------------------------------------------------------------------------\n",
      "1    All Features         HybridFusion 1.2M       84.26%       87.04%\n",
      "2    Bangla Handcrafted   HybridFusion 0.6M       77.31%       81.02%\n",
      "3    MFCC                 HybridFusion 0.7M       80.56%       80.56%\n",
      "4    Mel-Spectrogram      CNN+LSTM     6.9M       79.17%       80.56%\n",
      "\n",
      "======================================================================\n",
      "IMPROVEMENTS OVER MEL-SPECTROGRAM:\n",
      "======================================================================\n",
      "All Features: +6.48% ✓\n",
      "Bangla Handcrafted: +0.46% ✓\n",
      "MFCC: +0.00% ✗\n",
      "\n",
      "Results saved to banglaser_results.pkl\n",
      "======================================================================\n",
      "BANGLA SER: Adaptive Architecture with Feature Gating\n",
      "Dataset: KBES\n",
      "CNN+LSTM for Spectrograms | DNN+Gating for Static Features\n",
      "======================================================================\n",
      "Loading features from /kaggle/input/banglaser-kbes/banglaser-kbes/kbes_features.pkl\n",
      "Mel-spectrogram shape: (900, 3, 128, 94)\n",
      "MFCC features shape: (900, 80)\n",
      "Bangla handcrafted features shape: (900, 51)\n",
      "All acoustic features shape: (900, 131)\n",
      "Total samples: 900\n",
      "Number of emotion classes: 9\n",
      "Unique emotion labels: [0 1 2 3 4 5 6 7 8]\n",
      "Emotion names: ['Angry (High)', 'Angry (Low)', 'Disgust (High)', 'Disgust (Low)', 'Happy (High)', 'Happy (Low)', 'Neutral', 'Sad (High)', 'Sad (Low)']...\n",
      "\n",
      "Dataset Statistics:\n",
      "  Total samples: 900\n",
      "  Number of classes: 9\n",
      "  Class distribution:\n",
      "    Angry (High): 100 samples (11.1%)\n",
      "    Angry (Low): 100 samples (11.1%)\n",
      "    Disgust (High): 100 samples (11.1%)\n",
      "    Disgust (Low): 100 samples (11.1%)\n",
      "    Happy (High): 100 samples (11.1%)\n",
      "    Happy (Low): 100 samples (11.1%)\n",
      "    Neutral: 100 samples (11.1%)\n",
      "    Sad (High): 100 samples (11.1%)\n",
      "    Sad (Low): 100 samples (11.1%)\n",
      "\n",
      "======================================================================\n",
      "ARCHITECTURE ASSIGNMENTS:\n",
      "======================================================================\n",
      "\n",
      "All Features:\n",
      "  Architecture: HybridFusion\n",
      "  Learning Rate: 5e-04\n",
      "  Batch Size: 16\n",
      "\n",
      "MFCC:\n",
      "  Architecture: HybridFusion\n",
      "  Learning Rate: 5e-04\n",
      "  Batch Size: 16\n",
      "\n",
      "Bangla Handcrafted:\n",
      "  Architecture: HybridFusion\n",
      "  Learning Rate: 5e-04\n",
      "  Batch Size: 16\n",
      "\n",
      "Mel-Spectrogram:\n",
      "  Architecture: CNN+LSTM\n",
      "  Learning Rate: 5e-04\n",
      "  Batch Size: 16\n",
      "\n",
      "Device: cuda\n",
      "GPU: Tesla P100-PCIE-16GB\n",
      "\n",
      "Dataset: KBES\n",
      "Number of classes: 9\n",
      "\n",
      "============================================================\n",
      "Experiment: All Features\n",
      "============================================================\n",
      "Features shape: (900, 131)\n",
      "Architecture: Deep DNN with Feature Gating\n",
      "Split: Train=720, Test=180\n",
      "HybridFusion configured: Total=131, MFCC=80, Acoustic=51, Mode=combined\n",
      "Model parameters: 1,184,314\n",
      "\n",
      "Training Configuration:\n",
      "  Architecture: HybridFusion\n",
      "  Learning Rate: 0.0005\n",
      "  Batch Size: 16\n",
      "  Description: HybridFusion with dual-stream KAN-DNN processing\n"
     ]
    },
    {
     "name": "stderr",
     "output_type": "stream",
     "text": [
      "Epoch 1: 100%|██████████| 45/45 [00:00<00:00, 46.48it/s, loss=2.84, acc=12.1]\n"
     ]
    },
    {
     "name": "stdout",
     "output_type": "stream",
     "text": [
      "Epoch 1: Train Loss=2.7897, Train Acc=12.08%, Test Acc=15.00%, Test F1=0.1004\n"
     ]
    },
    {
     "name": "stderr",
     "output_type": "stream",
     "text": [
      "Epoch 2: 100%|██████████| 45/45 [00:00<00:00, 45.75it/s, loss=2.64, acc=11.9]\n"
     ]
    },
    {
     "name": "stdout",
     "output_type": "stream",
     "text": [
      "Epoch 2: Train Loss=2.7489, Train Acc=11.94%, Test Acc=21.67%, Test F1=0.1697\n"
     ]
    },
    {
     "name": "stderr",
     "output_type": "stream",
     "text": [
      "Epoch 3: 100%|██████████| 45/45 [00:00<00:00, 47.10it/s, loss=2.48, acc=13.8]\n"
     ]
    },
    {
     "name": "stdout",
     "output_type": "stream",
     "text": [
      "Epoch 3: Train Loss=2.6322, Train Acc=13.75%, Test Acc=25.56%, Test F1=0.2376\n"
     ]
    },
    {
     "name": "stderr",
     "output_type": "stream",
     "text": [
      "Epoch 4: 100%|██████████| 45/45 [00:00<00:00, 47.54it/s, loss=2.64, acc=14.2]\n"
     ]
    },
    {
     "name": "stdout",
     "output_type": "stream",
     "text": [
      "Epoch 4: Train Loss=2.5333, Train Acc=14.17%, Test Acc=26.11%, Test F1=0.2061\n"
     ]
    },
    {
     "name": "stderr",
     "output_type": "stream",
     "text": [
      "Epoch 5: 100%|██████████| 45/45 [00:00<00:00, 46.85it/s, loss=2.3, acc=15.3]\n"
     ]
    },
    {
     "name": "stdout",
     "output_type": "stream",
     "text": [
      "Epoch 5: Train Loss=2.4713, Train Acc=15.28%, Test Acc=31.67%, Test F1=0.3017\n"
     ]
    },
    {
     "name": "stderr",
     "output_type": "stream",
     "text": [
      "Epoch 6: 100%|██████████| 45/45 [00:00<00:00, 46.36it/s, loss=2.52, acc=18.6]\n"
     ]
    },
    {
     "name": "stdout",
     "output_type": "stream",
     "text": [
      "Epoch 6: Train Loss=2.3256, Train Acc=18.61%, Test Acc=35.56%, Test F1=0.3176\n"
     ]
    },
    {
     "name": "stderr",
     "output_type": "stream",
     "text": [
      "Epoch 7: 100%|██████████| 45/45 [00:00<00:00, 47.30it/s, loss=2.44, acc=19.3]\n"
     ]
    },
    {
     "name": "stdout",
     "output_type": "stream",
     "text": [
      "Epoch 7: Train Loss=2.3042, Train Acc=19.31%, Test Acc=32.22%, Test F1=0.2832\n"
     ]
    },
    {
     "name": "stderr",
     "output_type": "stream",
     "text": [
      "Epoch 8: 100%|██████████| 45/45 [00:00<00:00, 47.65it/s, loss=2.24, acc=19.7]\n"
     ]
    },
    {
     "name": "stdout",
     "output_type": "stream",
     "text": [
      "Epoch 8: Train Loss=2.2395, Train Acc=19.72%, Test Acc=37.22%, Test F1=0.3287\n"
     ]
    },
    {
     "name": "stderr",
     "output_type": "stream",
     "text": [
      "Epoch 9: 100%|██████████| 45/45 [00:00<00:00, 48.22it/s, loss=2.11, acc=24.2]\n"
     ]
    },
    {
     "name": "stdout",
     "output_type": "stream",
     "text": [
      "Epoch 9: Train Loss=2.1200, Train Acc=24.17%, Test Acc=32.78%, Test F1=0.2932\n"
     ]
    },
    {
     "name": "stderr",
     "output_type": "stream",
     "text": [
      "Epoch 10: 100%|██████████| 45/45 [00:00<00:00, 47.98it/s, loss=2.59, acc=24.7]\n"
     ]
    },
    {
     "name": "stdout",
     "output_type": "stream",
     "text": [
      "Epoch 10: Train Loss=2.1318, Train Acc=24.72%, Test Acc=33.33%, Test F1=0.2967\n"
     ]
    },
    {
     "name": "stderr",
     "output_type": "stream",
     "text": [
      "Epoch 11: 100%|██████████| 45/45 [00:00<00:00, 46.32it/s, loss=1.95, acc=24.7]\n"
     ]
    },
    {
     "name": "stdout",
     "output_type": "stream",
     "text": [
      "Epoch 11: Train Loss=2.0451, Train Acc=24.72%, Test Acc=38.89%, Test F1=0.3475\n"
     ]
    },
    {
     "name": "stderr",
     "output_type": "stream",
     "text": [
      "Epoch 12: 100%|██████████| 45/45 [00:00<00:00, 48.17it/s, loss=2.21, acc=30.6]\n"
     ]
    },
    {
     "name": "stdout",
     "output_type": "stream",
     "text": [
      "Epoch 12: Train Loss=1.9196, Train Acc=30.56%, Test Acc=41.67%, Test F1=0.3828\n"
     ]
    },
    {
     "name": "stderr",
     "output_type": "stream",
     "text": [
      "Epoch 13: 100%|██████████| 45/45 [00:00<00:00, 48.41it/s, loss=2.03, acc=30.7]\n"
     ]
    },
    {
     "name": "stdout",
     "output_type": "stream",
     "text": [
      "Epoch 13: Train Loss=1.8956, Train Acc=30.69%, Test Acc=37.22%, Test F1=0.3493\n"
     ]
    },
    {
     "name": "stderr",
     "output_type": "stream",
     "text": [
      "Epoch 14: 100%|██████████| 45/45 [00:00<00:00, 48.23it/s, loss=1.36, acc=32.8]\n"
     ]
    },
    {
     "name": "stdout",
     "output_type": "stream",
     "text": [
      "Epoch 14: Train Loss=1.8547, Train Acc=32.78%, Test Acc=36.67%, Test F1=0.3462\n"
     ]
    },
    {
     "name": "stderr",
     "output_type": "stream",
     "text": [
      "Epoch 15: 100%|██████████| 45/45 [00:00<00:00, 46.56it/s, loss=1.7, acc=33.6]\n"
     ]
    },
    {
     "name": "stdout",
     "output_type": "stream",
     "text": [
      "Epoch 15: Train Loss=1.8303, Train Acc=33.61%, Test Acc=38.89%, Test F1=0.3741\n"
     ]
    },
    {
     "name": "stderr",
     "output_type": "stream",
     "text": [
      "Epoch 16: 100%|██████████| 45/45 [00:00<00:00, 47.61it/s, loss=2.06, acc=37.2]\n"
     ]
    },
    {
     "name": "stdout",
     "output_type": "stream",
     "text": [
      "Epoch 16: Train Loss=1.7557, Train Acc=37.22%, Test Acc=41.11%, Test F1=0.3763\n"
     ]
    },
    {
     "name": "stderr",
     "output_type": "stream",
     "text": [
      "Epoch 17: 100%|██████████| 45/45 [00:00<00:00, 47.38it/s, loss=1.41, acc=39.2]\n"
     ]
    },
    {
     "name": "stdout",
     "output_type": "stream",
     "text": [
      "Epoch 17: Train Loss=1.6267, Train Acc=39.17%, Test Acc=42.22%, Test F1=0.3924\n"
     ]
    },
    {
     "name": "stderr",
     "output_type": "stream",
     "text": [
      "Epoch 18: 100%|██████████| 45/45 [00:00<00:00, 46.34it/s, loss=1.61, acc=40.4]\n"
     ]
    },
    {
     "name": "stdout",
     "output_type": "stream",
     "text": [
      "Epoch 18: Train Loss=1.6339, Train Acc=40.42%, Test Acc=40.00%, Test F1=0.3828\n"
     ]
    },
    {
     "name": "stderr",
     "output_type": "stream",
     "text": [
      "Epoch 19: 100%|██████████| 45/45 [00:00<00:00, 46.61it/s, loss=1.52, acc=41.4]\n"
     ]
    },
    {
     "name": "stdout",
     "output_type": "stream",
     "text": [
      "Epoch 19: Train Loss=1.5671, Train Acc=41.39%, Test Acc=44.44%, Test F1=0.4328\n"
     ]
    },
    {
     "name": "stderr",
     "output_type": "stream",
     "text": [
      "Epoch 20: 100%|██████████| 45/45 [00:00<00:00, 47.15it/s, loss=1.18, acc=43.9]\n"
     ]
    },
    {
     "name": "stdout",
     "output_type": "stream",
     "text": [
      "Epoch 20: Train Loss=1.5437, Train Acc=43.89%, Test Acc=42.22%, Test F1=0.4234\n"
     ]
    },
    {
     "name": "stderr",
     "output_type": "stream",
     "text": [
      "Epoch 21: 100%|██████████| 45/45 [00:00<00:00, 47.27it/s, loss=1.35, acc=44]\n"
     ]
    },
    {
     "name": "stdout",
     "output_type": "stream",
     "text": [
      "Epoch 21: Train Loss=1.5494, Train Acc=44.03%, Test Acc=50.00%, Test F1=0.4978\n"
     ]
    },
    {
     "name": "stderr",
     "output_type": "stream",
     "text": [
      "Epoch 22: 100%|██████████| 45/45 [00:00<00:00, 48.09it/s, loss=1.18, acc=49.3]\n"
     ]
    },
    {
     "name": "stdout",
     "output_type": "stream",
     "text": [
      "Epoch 22: Train Loss=1.4059, Train Acc=49.31%, Test Acc=50.00%, Test F1=0.5018\n"
     ]
    },
    {
     "name": "stderr",
     "output_type": "stream",
     "text": [
      "Epoch 23: 100%|██████████| 45/45 [00:00<00:00, 47.79it/s, loss=1.46, acc=51.5]\n"
     ]
    },
    {
     "name": "stdout",
     "output_type": "stream",
     "text": [
      "Epoch 23: Train Loss=1.3473, Train Acc=51.53%, Test Acc=50.56%, Test F1=0.5000\n"
     ]
    },
    {
     "name": "stderr",
     "output_type": "stream",
     "text": [
      "Epoch 24: 100%|██████████| 45/45 [00:00<00:00, 47.42it/s, loss=1.45, acc=53.1]\n"
     ]
    },
    {
     "name": "stdout",
     "output_type": "stream",
     "text": [
      "Epoch 24: Train Loss=1.3123, Train Acc=53.06%, Test Acc=48.33%, Test F1=0.4786\n"
     ]
    },
    {
     "name": "stderr",
     "output_type": "stream",
     "text": [
      "Epoch 25: 100%|██████████| 45/45 [00:00<00:00, 47.59it/s, loss=1.56, acc=55]\n"
     ]
    },
    {
     "name": "stdout",
     "output_type": "stream",
     "text": [
      "Epoch 25: Train Loss=1.2843, Train Acc=55.00%, Test Acc=51.67%, Test F1=0.5178\n"
     ]
    },
    {
     "name": "stderr",
     "output_type": "stream",
     "text": [
      "Epoch 26: 100%|██████████| 45/45 [00:00<00:00, 47.22it/s, loss=1.26, acc=56.2]\n"
     ]
    },
    {
     "name": "stdout",
     "output_type": "stream",
     "text": [
      "Epoch 26: Train Loss=1.2590, Train Acc=56.25%, Test Acc=48.89%, Test F1=0.4926\n"
     ]
    },
    {
     "name": "stderr",
     "output_type": "stream",
     "text": [
      "Epoch 27: 100%|██████████| 45/45 [00:00<00:00, 46.57it/s, loss=0.707, acc=59]\n"
     ]
    },
    {
     "name": "stdout",
     "output_type": "stream",
     "text": [
      "Epoch 27: Train Loss=1.1602, Train Acc=59.03%, Test Acc=50.56%, Test F1=0.4973\n"
     ]
    },
    {
     "name": "stderr",
     "output_type": "stream",
     "text": [
      "Epoch 28: 100%|██████████| 45/45 [00:01<00:00, 44.73it/s, loss=1.58, acc=58.8]\n"
     ]
    },
    {
     "name": "stdout",
     "output_type": "stream",
     "text": [
      "Epoch 28: Train Loss=1.2292, Train Acc=58.75%, Test Acc=55.56%, Test F1=0.5498\n"
     ]
    },
    {
     "name": "stderr",
     "output_type": "stream",
     "text": [
      "Epoch 29: 100%|██████████| 45/45 [00:00<00:00, 47.96it/s, loss=1.02, acc=60.4]\n"
     ]
    },
    {
     "name": "stdout",
     "output_type": "stream",
     "text": [
      "Epoch 29: Train Loss=1.0945, Train Acc=60.42%, Test Acc=48.33%, Test F1=0.4783\n"
     ]
    },
    {
     "name": "stderr",
     "output_type": "stream",
     "text": [
      "Epoch 30: 100%|██████████| 45/45 [00:00<00:00, 47.20it/s, loss=1.01, acc=61]\n"
     ]
    },
    {
     "name": "stdout",
     "output_type": "stream",
     "text": [
      "Epoch 30: Train Loss=1.1529, Train Acc=60.97%, Test Acc=51.67%, Test F1=0.5094\n"
     ]
    },
    {
     "name": "stderr",
     "output_type": "stream",
     "text": [
      "Epoch 31: 100%|██████████| 45/45 [00:00<00:00, 46.56it/s, loss=1.56, acc=60]\n"
     ]
    },
    {
     "name": "stdout",
     "output_type": "stream",
     "text": [
      "Epoch 31: Train Loss=1.1380, Train Acc=60.00%, Test Acc=50.56%, Test F1=0.5047\n"
     ]
    },
    {
     "name": "stderr",
     "output_type": "stream",
     "text": [
      "Epoch 32: 100%|██████████| 45/45 [00:00<00:00, 46.09it/s, loss=1.11, acc=61.9]\n"
     ]
    },
    {
     "name": "stdout",
     "output_type": "stream",
     "text": [
      "Epoch 32: Train Loss=1.0585, Train Acc=61.94%, Test Acc=55.00%, Test F1=0.5541\n"
     ]
    },
    {
     "name": "stderr",
     "output_type": "stream",
     "text": [
      "Epoch 33: 100%|██████████| 45/45 [00:00<00:00, 46.66it/s, loss=0.791, acc=63.1]\n"
     ]
    },
    {
     "name": "stdout",
     "output_type": "stream",
     "text": [
      "Epoch 33: Train Loss=1.0486, Train Acc=63.06%, Test Acc=53.89%, Test F1=0.5391\n"
     ]
    },
    {
     "name": "stderr",
     "output_type": "stream",
     "text": [
      "Epoch 34: 100%|██████████| 45/45 [00:00<00:00, 47.42it/s, loss=1.17, acc=66.4]\n"
     ]
    },
    {
     "name": "stdout",
     "output_type": "stream",
     "text": [
      "Epoch 34: Train Loss=0.9839, Train Acc=66.39%, Test Acc=51.11%, Test F1=0.5146\n"
     ]
    },
    {
     "name": "stderr",
     "output_type": "stream",
     "text": [
      "Epoch 35: 100%|██████████| 45/45 [00:00<00:00, 46.85it/s, loss=0.949, acc=68.5]\n"
     ]
    },
    {
     "name": "stdout",
     "output_type": "stream",
     "text": [
      "Epoch 35: Train Loss=0.9456, Train Acc=68.47%, Test Acc=52.22%, Test F1=0.5241\n"
     ]
    },
    {
     "name": "stderr",
     "output_type": "stream",
     "text": [
      "Epoch 36: 100%|██████████| 45/45 [00:00<00:00, 47.33it/s, loss=0.947, acc=66.4]\n"
     ]
    },
    {
     "name": "stdout",
     "output_type": "stream",
     "text": [
      "Epoch 36: Train Loss=0.9321, Train Acc=66.39%, Test Acc=54.44%, Test F1=0.5412\n"
     ]
    },
    {
     "name": "stderr",
     "output_type": "stream",
     "text": [
      "Epoch 37: 100%|██████████| 45/45 [00:01<00:00, 44.84it/s, loss=0.433, acc=69.3]\n"
     ]
    },
    {
     "name": "stdout",
     "output_type": "stream",
     "text": [
      "Epoch 37: Train Loss=0.8884, Train Acc=69.31%, Test Acc=54.44%, Test F1=0.5451\n"
     ]
    },
    {
     "name": "stderr",
     "output_type": "stream",
     "text": [
      "Epoch 38: 100%|██████████| 45/45 [00:00<00:00, 47.23it/s, loss=0.946, acc=70.7]\n"
     ]
    },
    {
     "name": "stdout",
     "output_type": "stream",
     "text": [
      "Epoch 38: Train Loss=0.8311, Train Acc=70.69%, Test Acc=55.00%, Test F1=0.5484\n"
     ]
    },
    {
     "name": "stderr",
     "output_type": "stream",
     "text": [
      "Epoch 39: 100%|██████████| 45/45 [00:00<00:00, 47.39it/s, loss=1, acc=72.5]\n"
     ]
    },
    {
     "name": "stdout",
     "output_type": "stream",
     "text": [
      "Epoch 39: Train Loss=0.8668, Train Acc=72.50%, Test Acc=52.22%, Test F1=0.5223\n"
     ]
    },
    {
     "name": "stderr",
     "output_type": "stream",
     "text": [
      "Epoch 40: 100%|██████████| 45/45 [00:00<00:00, 47.35it/s, loss=1.06, acc=72.2]\n"
     ]
    },
    {
     "name": "stdout",
     "output_type": "stream",
     "text": [
      "Epoch 40: Train Loss=0.8445, Train Acc=72.22%, Test Acc=53.33%, Test F1=0.5367\n"
     ]
    },
    {
     "name": "stderr",
     "output_type": "stream",
     "text": [
      "Epoch 41: 100%|██████████| 45/45 [00:00<00:00, 46.45it/s, loss=0.418, acc=72.8]\n"
     ]
    },
    {
     "name": "stdout",
     "output_type": "stream",
     "text": [
      "Epoch 41: Train Loss=0.8101, Train Acc=72.78%, Test Acc=52.78%, Test F1=0.5307\n"
     ]
    },
    {
     "name": "stderr",
     "output_type": "stream",
     "text": [
      "Epoch 42: 100%|██████████| 45/45 [00:00<00:00, 47.08it/s, loss=0.905, acc=75.1]\n"
     ]
    },
    {
     "name": "stdout",
     "output_type": "stream",
     "text": [
      "Epoch 42: Train Loss=0.7724, Train Acc=75.14%, Test Acc=55.56%, Test F1=0.5512\n"
     ]
    },
    {
     "name": "stderr",
     "output_type": "stream",
     "text": [
      "Epoch 43: 100%|██████████| 45/45 [00:00<00:00, 46.00it/s, loss=0.931, acc=77.4]\n"
     ]
    },
    {
     "name": "stdout",
     "output_type": "stream",
     "text": [
      "Epoch 43: Train Loss=0.7180, Train Acc=77.36%, Test Acc=50.56%, Test F1=0.4980\n"
     ]
    },
    {
     "name": "stderr",
     "output_type": "stream",
     "text": [
      "Epoch 44: 100%|██████████| 45/45 [00:00<00:00, 46.75it/s, loss=0.796, acc=72.6]\n"
     ]
    },
    {
     "name": "stdout",
     "output_type": "stream",
     "text": [
      "Epoch 44: Train Loss=0.7896, Train Acc=72.64%, Test Acc=57.22%, Test F1=0.5704\n"
     ]
    },
    {
     "name": "stderr",
     "output_type": "stream",
     "text": [
      "Epoch 45: 100%|██████████| 45/45 [00:00<00:00, 48.29it/s, loss=0.839, acc=76.7]\n"
     ]
    },
    {
     "name": "stdout",
     "output_type": "stream",
     "text": [
      "Epoch 45: Train Loss=0.7663, Train Acc=76.67%, Test Acc=55.00%, Test F1=0.5492\n"
     ]
    },
    {
     "name": "stderr",
     "output_type": "stream",
     "text": [
      "Epoch 46: 100%|██████████| 45/45 [00:00<00:00, 46.27it/s, loss=0.428, acc=76.2]\n"
     ]
    },
    {
     "name": "stdout",
     "output_type": "stream",
     "text": [
      "Epoch 46: Train Loss=0.7504, Train Acc=76.25%, Test Acc=56.67%, Test F1=0.5671\n"
     ]
    },
    {
     "name": "stderr",
     "output_type": "stream",
     "text": [
      "Epoch 47: 100%|██████████| 45/45 [00:00<00:00, 47.88it/s, loss=0.679, acc=77.1]\n"
     ]
    },
    {
     "name": "stdout",
     "output_type": "stream",
     "text": [
      "Epoch 47: Train Loss=0.7303, Train Acc=77.08%, Test Acc=56.67%, Test F1=0.5719\n"
     ]
    },
    {
     "name": "stderr",
     "output_type": "stream",
     "text": [
      "Epoch 48: 100%|██████████| 45/45 [00:00<00:00, 47.27it/s, loss=0.347, acc=80]\n"
     ]
    },
    {
     "name": "stdout",
     "output_type": "stream",
     "text": [
      "Epoch 48: Train Loss=0.6477, Train Acc=80.00%, Test Acc=57.22%, Test F1=0.5699\n"
     ]
    },
    {
     "name": "stderr",
     "output_type": "stream",
     "text": [
      "Epoch 49: 100%|██████████| 45/45 [00:00<00:00, 47.70it/s, loss=0.706, acc=81]\n"
     ]
    },
    {
     "name": "stdout",
     "output_type": "stream",
     "text": [
      "Epoch 49: Train Loss=0.6463, Train Acc=80.97%, Test Acc=55.00%, Test F1=0.5481\n"
     ]
    },
    {
     "name": "stderr",
     "output_type": "stream",
     "text": [
      "Epoch 50: 100%|██████████| 45/45 [00:00<00:00, 47.92it/s, loss=1.28, acc=75.4]\n"
     ]
    },
    {
     "name": "stdout",
     "output_type": "stream",
     "text": [
      "Epoch 50: Train Loss=0.7141, Train Acc=75.42%, Test Acc=52.78%, Test F1=0.5316\n"
     ]
    },
    {
     "name": "stderr",
     "output_type": "stream",
     "text": [
      "Epoch 51: 100%|██████████| 45/45 [00:00<00:00, 47.81it/s, loss=0.74, acc=79.2]\n"
     ]
    },
    {
     "name": "stdout",
     "output_type": "stream",
     "text": [
      "Epoch 51: Train Loss=0.6400, Train Acc=79.17%, Test Acc=55.56%, Test F1=0.5572\n"
     ]
    },
    {
     "name": "stderr",
     "output_type": "stream",
     "text": [
      "Epoch 52: 100%|██████████| 45/45 [00:00<00:00, 47.03it/s, loss=0.399, acc=76.9]\n"
     ]
    },
    {
     "name": "stdout",
     "output_type": "stream",
     "text": [
      "Epoch 52: Train Loss=0.6987, Train Acc=76.94%, Test Acc=54.44%, Test F1=0.5493\n"
     ]
    },
    {
     "name": "stderr",
     "output_type": "stream",
     "text": [
      "Epoch 53: 100%|██████████| 45/45 [00:00<00:00, 48.30it/s, loss=0.613, acc=78.6]\n"
     ]
    },
    {
     "name": "stdout",
     "output_type": "stream",
     "text": [
      "Epoch 53: Train Loss=0.6626, Train Acc=78.61%, Test Acc=56.67%, Test F1=0.5638\n"
     ]
    },
    {
     "name": "stderr",
     "output_type": "stream",
     "text": [
      "Epoch 54: 100%|██████████| 45/45 [00:00<00:00, 47.13it/s, loss=0.715, acc=78.2]\n"
     ]
    },
    {
     "name": "stdout",
     "output_type": "stream",
     "text": [
      "Epoch 54: Train Loss=0.6909, Train Acc=78.19%, Test Acc=57.22%, Test F1=0.5782\n"
     ]
    },
    {
     "name": "stderr",
     "output_type": "stream",
     "text": [
      "Epoch 55: 100%|██████████| 45/45 [00:00<00:00, 46.55it/s, loss=0.35, acc=82.4]\n"
     ]
    },
    {
     "name": "stdout",
     "output_type": "stream",
     "text": [
      "Epoch 55: Train Loss=0.5799, Train Acc=82.36%, Test Acc=55.00%, Test F1=0.5538\n"
     ]
    },
    {
     "name": "stderr",
     "output_type": "stream",
     "text": [
      "Epoch 56: 100%|██████████| 45/45 [00:00<00:00, 46.30it/s, loss=0.414, acc=83.3]\n"
     ]
    },
    {
     "name": "stdout",
     "output_type": "stream",
     "text": [
      "Epoch 56: Train Loss=0.5449, Train Acc=83.33%, Test Acc=54.44%, Test F1=0.5514\n"
     ]
    },
    {
     "name": "stderr",
     "output_type": "stream",
     "text": [
      "Epoch 57: 100%|██████████| 45/45 [00:00<00:00, 47.65it/s, loss=0.508, acc=81.7]\n"
     ]
    },
    {
     "name": "stdout",
     "output_type": "stream",
     "text": [
      "Epoch 57: Train Loss=0.5818, Train Acc=81.67%, Test Acc=55.00%, Test F1=0.5475\n"
     ]
    },
    {
     "name": "stderr",
     "output_type": "stream",
     "text": [
      "Epoch 58: 100%|██████████| 45/45 [00:00<00:00, 48.01it/s, loss=0.51, acc=78.8]\n"
     ]
    },
    {
     "name": "stdout",
     "output_type": "stream",
     "text": [
      "Epoch 58: Train Loss=0.6335, Train Acc=78.75%, Test Acc=54.44%, Test F1=0.5444\n"
     ]
    },
    {
     "name": "stderr",
     "output_type": "stream",
     "text": [
      "Epoch 59: 100%|██████████| 45/45 [00:00<00:00, 47.51it/s, loss=0.369, acc=82.6]\n"
     ]
    },
    {
     "name": "stdout",
     "output_type": "stream",
     "text": [
      "Epoch 59: Train Loss=0.5480, Train Acc=82.64%, Test Acc=58.33%, Test F1=0.5864\n"
     ]
    },
    {
     "name": "stderr",
     "output_type": "stream",
     "text": [
      "Epoch 60: 100%|██████████| 45/45 [00:00<00:00, 47.85it/s, loss=0.802, acc=81.7]\n"
     ]
    },
    {
     "name": "stdout",
     "output_type": "stream",
     "text": [
      "Epoch 60: Train Loss=0.5614, Train Acc=81.67%, Test Acc=57.22%, Test F1=0.5775\n"
     ]
    },
    {
     "name": "stderr",
     "output_type": "stream",
     "text": [
      "Epoch 61: 100%|██████████| 45/45 [00:00<00:00, 47.42it/s, loss=0.646, acc=79.2]\n"
     ]
    },
    {
     "name": "stdout",
     "output_type": "stream",
     "text": [
      "Epoch 61: Train Loss=0.6075, Train Acc=79.17%, Test Acc=55.56%, Test F1=0.5523\n"
     ]
    },
    {
     "name": "stderr",
     "output_type": "stream",
     "text": [
      "Epoch 62: 100%|██████████| 45/45 [00:00<00:00, 47.51it/s, loss=0.311, acc=82.5]\n"
     ]
    },
    {
     "name": "stdout",
     "output_type": "stream",
     "text": [
      "Epoch 62: Train Loss=0.5602, Train Acc=82.50%, Test Acc=55.00%, Test F1=0.5508\n"
     ]
    },
    {
     "name": "stderr",
     "output_type": "stream",
     "text": [
      "Epoch 63: 100%|██████████| 45/45 [00:00<00:00, 47.24it/s, loss=0.388, acc=82.9]\n"
     ]
    },
    {
     "name": "stdout",
     "output_type": "stream",
     "text": [
      "Epoch 63: Train Loss=0.5645, Train Acc=82.92%, Test Acc=56.11%, Test F1=0.5606\n"
     ]
    },
    {
     "name": "stderr",
     "output_type": "stream",
     "text": [
      "Epoch 64: 100%|██████████| 45/45 [00:00<00:00, 47.74it/s, loss=0.68, acc=82.8]\n"
     ]
    },
    {
     "name": "stdout",
     "output_type": "stream",
     "text": [
      "Epoch 64: Train Loss=0.5487, Train Acc=82.78%, Test Acc=56.67%, Test F1=0.5700\n"
     ]
    },
    {
     "name": "stderr",
     "output_type": "stream",
     "text": [
      "Epoch 65: 100%|██████████| 45/45 [00:00<00:00, 47.15it/s, loss=0.259, acc=84.2]\n"
     ]
    },
    {
     "name": "stdout",
     "output_type": "stream",
     "text": [
      "Epoch 65: Train Loss=0.5346, Train Acc=84.17%, Test Acc=55.56%, Test F1=0.5524\n"
     ]
    },
    {
     "name": "stderr",
     "output_type": "stream",
     "text": [
      "Epoch 66: 100%|██████████| 45/45 [00:00<00:00, 46.69it/s, loss=0.336, acc=83.6]\n"
     ]
    },
    {
     "name": "stdout",
     "output_type": "stream",
     "text": [
      "Epoch 66: Train Loss=0.5361, Train Acc=83.61%, Test Acc=55.00%, Test F1=0.5516\n"
     ]
    },
    {
     "name": "stderr",
     "output_type": "stream",
     "text": [
      "Epoch 67: 100%|██████████| 45/45 [00:00<00:00, 48.15it/s, loss=0.278, acc=87.2]\n"
     ]
    },
    {
     "name": "stdout",
     "output_type": "stream",
     "text": [
      "Epoch 67: Train Loss=0.4581, Train Acc=87.22%, Test Acc=53.89%, Test F1=0.5389\n"
     ]
    },
    {
     "name": "stderr",
     "output_type": "stream",
     "text": [
      "Epoch 68: 100%|██████████| 45/45 [00:00<00:00, 47.90it/s, loss=0.43, acc=84.4]\n"
     ]
    },
    {
     "name": "stdout",
     "output_type": "stream",
     "text": [
      "Epoch 68: Train Loss=0.4993, Train Acc=84.44%, Test Acc=55.56%, Test F1=0.5559\n"
     ]
    },
    {
     "name": "stderr",
     "output_type": "stream",
     "text": [
      "Epoch 69: 100%|██████████| 45/45 [00:00<00:00, 47.60it/s, loss=0.417, acc=82.2]\n"
     ]
    },
    {
     "name": "stdout",
     "output_type": "stream",
     "text": [
      "Epoch 69: Train Loss=0.5455, Train Acc=82.22%, Test Acc=53.33%, Test F1=0.5324\n"
     ]
    },
    {
     "name": "stderr",
     "output_type": "stream",
     "text": [
      "Epoch 70: 100%|██████████| 45/45 [00:00<00:00, 47.71it/s, loss=0.241, acc=82.8]\n"
     ]
    },
    {
     "name": "stdout",
     "output_type": "stream",
     "text": [
      "Epoch 70: Train Loss=0.5148, Train Acc=82.78%, Test Acc=56.67%, Test F1=0.5683\n"
     ]
    },
    {
     "name": "stderr",
     "output_type": "stream",
     "text": [
      "Epoch 71: 100%|██████████| 45/45 [00:00<00:00, 46.15it/s, loss=0.188, acc=83.9]\n"
     ]
    },
    {
     "name": "stdout",
     "output_type": "stream",
     "text": [
      "Epoch 71: Train Loss=0.5403, Train Acc=83.89%, Test Acc=54.44%, Test F1=0.5413\n"
     ]
    },
    {
     "name": "stderr",
     "output_type": "stream",
     "text": [
      "Epoch 72: 100%|██████████| 45/45 [00:01<00:00, 44.91it/s, loss=0.424, acc=85.6]\n"
     ]
    },
    {
     "name": "stdout",
     "output_type": "stream",
     "text": [
      "Epoch 72: Train Loss=0.5007, Train Acc=85.56%, Test Acc=53.89%, Test F1=0.5315\n"
     ]
    },
    {
     "name": "stderr",
     "output_type": "stream",
     "text": [
      "Epoch 73: 100%|██████████| 45/45 [00:00<00:00, 47.53it/s, loss=0.295, acc=85]\n"
     ]
    },
    {
     "name": "stdout",
     "output_type": "stream",
     "text": [
      "Epoch 73: Train Loss=0.4757, Train Acc=85.00%, Test Acc=53.33%, Test F1=0.5292\n"
     ]
    },
    {
     "name": "stderr",
     "output_type": "stream",
     "text": [
      "Epoch 74: 100%|██████████| 45/45 [00:00<00:00, 48.03it/s, loss=0.799, acc=83.9]\n"
     ]
    },
    {
     "name": "stdout",
     "output_type": "stream",
     "text": [
      "Epoch 74: Train Loss=0.5384, Train Acc=83.89%, Test Acc=55.00%, Test F1=0.5454\n"
     ]
    },
    {
     "name": "stderr",
     "output_type": "stream",
     "text": [
      "Epoch 75: 100%|██████████| 45/45 [00:00<00:00, 48.13it/s, loss=0.329, acc=83.8]\n"
     ]
    },
    {
     "name": "stdout",
     "output_type": "stream",
     "text": [
      "Epoch 75: Train Loss=0.5358, Train Acc=83.75%, Test Acc=56.67%, Test F1=0.5666\n"
     ]
    },
    {
     "name": "stderr",
     "output_type": "stream",
     "text": [
      "Epoch 76: 100%|██████████| 45/45 [00:00<00:00, 47.88it/s, loss=0.376, acc=84.6]\n"
     ]
    },
    {
     "name": "stdout",
     "output_type": "stream",
     "text": [
      "Epoch 76: Train Loss=0.5283, Train Acc=84.58%, Test Acc=57.22%, Test F1=0.5712\n"
     ]
    },
    {
     "name": "stderr",
     "output_type": "stream",
     "text": [
      "Epoch 77: 100%|██████████| 45/45 [00:00<00:00, 49.41it/s, loss=0.834, acc=82.1]\n"
     ]
    },
    {
     "name": "stdout",
     "output_type": "stream",
     "text": [
      "Epoch 77: Train Loss=0.5590, Train Acc=82.08%, Test Acc=56.11%, Test F1=0.5604\n"
     ]
    },
    {
     "name": "stderr",
     "output_type": "stream",
     "text": [
      "Epoch 78: 100%|██████████| 45/45 [00:00<00:00, 49.21it/s, loss=0.514, acc=83.8]\n"
     ]
    },
    {
     "name": "stdout",
     "output_type": "stream",
     "text": [
      "Epoch 78: Train Loss=0.4853, Train Acc=83.75%, Test Acc=55.56%, Test F1=0.5545\n"
     ]
    },
    {
     "name": "stderr",
     "output_type": "stream",
     "text": [
      "Epoch 79: 100%|██████████| 45/45 [00:00<00:00, 48.79it/s, loss=0.748, acc=83.3]\n"
     ]
    },
    {
     "name": "stdout",
     "output_type": "stream",
     "text": [
      "Epoch 79: Train Loss=0.5283, Train Acc=83.33%, Test Acc=55.56%, Test F1=0.5491\n"
     ]
    },
    {
     "name": "stderr",
     "output_type": "stream",
     "text": [
      "Epoch 80: 100%|██████████| 45/45 [00:00<00:00, 49.74it/s, loss=0.562, acc=84.7]\n"
     ]
    },
    {
     "name": "stdout",
     "output_type": "stream",
     "text": [
      "Epoch 80: Train Loss=0.4944, Train Acc=84.72%, Test Acc=56.67%, Test F1=0.5684\n"
     ]
    },
    {
     "name": "stderr",
     "output_type": "stream",
     "text": [
      "Epoch 81: 100%|██████████| 45/45 [00:00<00:00, 45.95it/s, loss=0.882, acc=83.5]\n"
     ]
    },
    {
     "name": "stdout",
     "output_type": "stream",
     "text": [
      "Epoch 81: Train Loss=0.5040, Train Acc=83.47%, Test Acc=57.22%, Test F1=0.5719\n"
     ]
    },
    {
     "name": "stderr",
     "output_type": "stream",
     "text": [
      "Epoch 82: 100%|██████████| 45/45 [00:00<00:00, 49.20it/s, loss=0.706, acc=87.1]\n"
     ]
    },
    {
     "name": "stdout",
     "output_type": "stream",
     "text": [
      "Epoch 82: Train Loss=0.4452, Train Acc=87.08%, Test Acc=54.44%, Test F1=0.5385\n"
     ]
    },
    {
     "name": "stderr",
     "output_type": "stream",
     "text": [
      "Epoch 83: 100%|██████████| 45/45 [00:00<00:00, 48.44it/s, loss=0.474, acc=84.2]\n"
     ]
    },
    {
     "name": "stdout",
     "output_type": "stream",
     "text": [
      "Epoch 83: Train Loss=0.4634, Train Acc=84.17%, Test Acc=53.89%, Test F1=0.5340\n"
     ]
    },
    {
     "name": "stderr",
     "output_type": "stream",
     "text": [
      "Epoch 84: 100%|██████████| 45/45 [00:00<00:00, 48.30it/s, loss=0.992, acc=84.7]\n"
     ]
    },
    {
     "name": "stdout",
     "output_type": "stream",
     "text": [
      "Epoch 84: Train Loss=0.4755, Train Acc=84.72%, Test Acc=54.44%, Test F1=0.5484\n"
     ]
    },
    {
     "name": "stderr",
     "output_type": "stream",
     "text": [
      "Epoch 85: 100%|██████████| 45/45 [00:00<00:00, 48.60it/s, loss=0.522, acc=85.8]\n"
     ]
    },
    {
     "name": "stdout",
     "output_type": "stream",
     "text": [
      "Epoch 85: Train Loss=0.4510, Train Acc=85.83%, Test Acc=55.56%, Test F1=0.5526\n"
     ]
    },
    {
     "name": "stderr",
     "output_type": "stream",
     "text": [
      "Epoch 86: 100%|██████████| 45/45 [00:00<00:00, 49.19it/s, loss=0.725, acc=84.2]\n"
     ]
    },
    {
     "name": "stdout",
     "output_type": "stream",
     "text": [
      "Epoch 86: Train Loss=0.5233, Train Acc=84.17%, Test Acc=56.67%, Test F1=0.5660\n"
     ]
    },
    {
     "name": "stderr",
     "output_type": "stream",
     "text": [
      "Epoch 87: 100%|██████████| 45/45 [00:00<00:00, 49.23it/s, loss=0.479, acc=86.9]\n"
     ]
    },
    {
     "name": "stdout",
     "output_type": "stream",
     "text": [
      "Epoch 87: Train Loss=0.4260, Train Acc=86.94%, Test Acc=56.67%, Test F1=0.5662\n"
     ]
    },
    {
     "name": "stderr",
     "output_type": "stream",
     "text": [
      "Epoch 88: 100%|██████████| 45/45 [00:00<00:00, 48.10it/s, loss=0.955, acc=85.8]\n"
     ]
    },
    {
     "name": "stdout",
     "output_type": "stream",
     "text": [
      "Epoch 88: Train Loss=0.4743, Train Acc=85.83%, Test Acc=57.22%, Test F1=0.5716\n"
     ]
    },
    {
     "name": "stderr",
     "output_type": "stream",
     "text": [
      "Epoch 89: 100%|██████████| 45/45 [00:00<00:00, 49.30it/s, loss=0.255, acc=85.1]\n"
     ]
    },
    {
     "name": "stdout",
     "output_type": "stream",
     "text": [
      "Epoch 89: Train Loss=0.5005, Train Acc=85.14%, Test Acc=56.67%, Test F1=0.5651\n"
     ]
    },
    {
     "name": "stderr",
     "output_type": "stream",
     "text": [
      "Epoch 90: 100%|██████████| 45/45 [00:00<00:00, 47.17it/s, loss=0.72, acc=88.2]\n"
     ]
    },
    {
     "name": "stdout",
     "output_type": "stream",
     "text": [
      "Epoch 90: Train Loss=0.4097, Train Acc=88.19%, Test Acc=55.00%, Test F1=0.5488\n"
     ]
    },
    {
     "name": "stderr",
     "output_type": "stream",
     "text": [
      "Epoch 91: 100%|██████████| 45/45 [00:00<00:00, 48.96it/s, loss=0.201, acc=82.6]\n"
     ]
    },
    {
     "name": "stdout",
     "output_type": "stream",
     "text": [
      "Epoch 91: Train Loss=0.5130, Train Acc=82.64%, Test Acc=57.22%, Test F1=0.5701\n"
     ]
    },
    {
     "name": "stderr",
     "output_type": "stream",
     "text": [
      "Epoch 92: 100%|██████████| 45/45 [00:00<00:00, 49.28it/s, loss=0.183, acc=87.1]\n"
     ]
    },
    {
     "name": "stdout",
     "output_type": "stream",
     "text": [
      "Epoch 92: Train Loss=0.4540, Train Acc=87.08%, Test Acc=55.56%, Test F1=0.5506\n"
     ]
    },
    {
     "name": "stderr",
     "output_type": "stream",
     "text": [
      "Epoch 93: 100%|██████████| 45/45 [00:00<00:00, 49.91it/s, loss=0.39, acc=85.8]\n"
     ]
    },
    {
     "name": "stdout",
     "output_type": "stream",
     "text": [
      "Epoch 93: Train Loss=0.4785, Train Acc=85.83%, Test Acc=54.44%, Test F1=0.5421\n"
     ]
    },
    {
     "name": "stderr",
     "output_type": "stream",
     "text": [
      "Epoch 94: 100%|██████████| 45/45 [00:00<00:00, 49.42it/s, loss=0.619, acc=83.3]\n"
     ]
    },
    {
     "name": "stdout",
     "output_type": "stream",
     "text": [
      "Epoch 94: Train Loss=0.5422, Train Acc=83.33%, Test Acc=58.33%, Test F1=0.5848\n"
     ]
    },
    {
     "name": "stderr",
     "output_type": "stream",
     "text": [
      "Epoch 95: 100%|██████████| 45/45 [00:00<00:00, 49.41it/s, loss=0.523, acc=86.2]\n"
     ]
    },
    {
     "name": "stdout",
     "output_type": "stream",
     "text": [
      "Epoch 95: Train Loss=0.4341, Train Acc=86.25%, Test Acc=56.67%, Test F1=0.5706\n"
     ]
    },
    {
     "name": "stderr",
     "output_type": "stream",
     "text": [
      "Epoch 96: 100%|██████████| 45/45 [00:00<00:00, 50.82it/s, loss=0.268, acc=87.2]\n"
     ]
    },
    {
     "name": "stdout",
     "output_type": "stream",
     "text": [
      "Epoch 96: Train Loss=0.4580, Train Acc=87.22%, Test Acc=54.44%, Test F1=0.5414\n"
     ]
    },
    {
     "name": "stderr",
     "output_type": "stream",
     "text": [
      "Epoch 97: 100%|██████████| 45/45 [00:00<00:00, 51.95it/s, loss=0.408, acc=85.3]\n"
     ]
    },
    {
     "name": "stdout",
     "output_type": "stream",
     "text": [
      "Epoch 97: Train Loss=0.4662, Train Acc=85.28%, Test Acc=54.44%, Test F1=0.5412\n"
     ]
    },
    {
     "name": "stderr",
     "output_type": "stream",
     "text": [
      "Epoch 98: 100%|██████████| 45/45 [00:00<00:00, 52.06it/s, loss=2.84, acc=84.4]\n"
     ]
    },
    {
     "name": "stdout",
     "output_type": "stream",
     "text": [
      "Epoch 98: Train Loss=0.5151, Train Acc=84.44%, Test Acc=55.56%, Test F1=0.5536\n"
     ]
    },
    {
     "name": "stderr",
     "output_type": "stream",
     "text": [
      "Epoch 99: 100%|██████████| 45/45 [00:00<00:00, 51.98it/s, loss=0.635, acc=86.7]\n"
     ]
    },
    {
     "name": "stdout",
     "output_type": "stream",
     "text": [
      "Epoch 99: Train Loss=0.4422, Train Acc=86.67%, Test Acc=55.00%, Test F1=0.5515\n"
     ]
    },
    {
     "name": "stderr",
     "output_type": "stream",
     "text": [
      "Epoch 100: 100%|██████████| 45/45 [00:00<00:00, 50.03it/s, loss=0.908, acc=84.7]\n"
     ]
    },
    {
     "name": "stdout",
     "output_type": "stream",
     "text": [
      "Epoch 100: Train Loss=0.4811, Train Acc=84.72%, Test Acc=54.44%, Test F1=0.5401\n"
     ]
    },
    {
     "name": "stderr",
     "output_type": "stream",
     "text": [
      "Epoch 101: 100%|██████████| 45/45 [00:00<00:00, 50.20it/s, loss=0.265, acc=86.4]\n"
     ]
    },
    {
     "name": "stdout",
     "output_type": "stream",
     "text": [
      "Epoch 101: Train Loss=0.4653, Train Acc=86.39%, Test Acc=53.33%, Test F1=0.5307\n"
     ]
    },
    {
     "name": "stderr",
     "output_type": "stream",
     "text": [
      "Epoch 102: 100%|██████████| 45/45 [00:00<00:00, 50.74it/s, loss=0.178, acc=87.5]\n"
     ]
    },
    {
     "name": "stdout",
     "output_type": "stream",
     "text": [
      "Epoch 102: Train Loss=0.4145, Train Acc=87.50%, Test Acc=57.22%, Test F1=0.5742\n"
     ]
    },
    {
     "name": "stderr",
     "output_type": "stream",
     "text": [
      "Epoch 103: 100%|██████████| 45/45 [00:01<00:00, 44.43it/s, loss=0.519, acc=85.1]\n"
     ]
    },
    {
     "name": "stdout",
     "output_type": "stream",
     "text": [
      "Epoch 103: Train Loss=0.4797, Train Acc=85.14%, Test Acc=56.67%, Test F1=0.5655\n"
     ]
    },
    {
     "name": "stderr",
     "output_type": "stream",
     "text": [
      "Epoch 104: 100%|██████████| 45/45 [00:00<00:00, 46.56it/s, loss=0.302, acc=86.5]\n"
     ]
    },
    {
     "name": "stdout",
     "output_type": "stream",
     "text": [
      "Epoch 104: Train Loss=0.4310, Train Acc=86.53%, Test Acc=53.89%, Test F1=0.5375\n"
     ]
    },
    {
     "name": "stderr",
     "output_type": "stream",
     "text": [
      "Epoch 105: 100%|██████████| 45/45 [00:00<00:00, 47.30it/s, loss=0.151, acc=85.3]\n"
     ]
    },
    {
     "name": "stdout",
     "output_type": "stream",
     "text": [
      "Epoch 105: Train Loss=0.4572, Train Acc=85.28%, Test Acc=57.22%, Test F1=0.5726\n"
     ]
    },
    {
     "name": "stderr",
     "output_type": "stream",
     "text": [
      "Epoch 106: 100%|██████████| 45/45 [00:00<00:00, 46.07it/s, loss=0.161, acc=86.5]\n"
     ]
    },
    {
     "name": "stdout",
     "output_type": "stream",
     "text": [
      "Epoch 106: Train Loss=0.4773, Train Acc=86.53%, Test Acc=55.00%, Test F1=0.5462\n"
     ]
    },
    {
     "name": "stderr",
     "output_type": "stream",
     "text": [
      "Epoch 107: 100%|██████████| 45/45 [00:01<00:00, 42.17it/s, loss=0.33, acc=85.7]\n"
     ]
    },
    {
     "name": "stdout",
     "output_type": "stream",
     "text": [
      "Epoch 107: Train Loss=0.4619, Train Acc=85.69%, Test Acc=54.44%, Test F1=0.5439\n"
     ]
    },
    {
     "name": "stderr",
     "output_type": "stream",
     "text": [
      "Epoch 108: 100%|██████████| 45/45 [00:01<00:00, 44.24it/s, loss=0.282, acc=87.5]\n"
     ]
    },
    {
     "name": "stdout",
     "output_type": "stream",
     "text": [
      "Epoch 108: Train Loss=0.4035, Train Acc=87.50%, Test Acc=55.00%, Test F1=0.5448\n"
     ]
    },
    {
     "name": "stderr",
     "output_type": "stream",
     "text": [
      "Epoch 109: 100%|██████████| 45/45 [00:01<00:00, 44.95it/s, loss=0.376, acc=86.4]\n"
     ]
    },
    {
     "name": "stdout",
     "output_type": "stream",
     "text": [
      "Epoch 109: Train Loss=0.4255, Train Acc=86.39%, Test Acc=53.89%, Test F1=0.5315\n",
      "Early stopping at epoch 109\n",
      "\n",
      "Training Summary:\n",
      "  Best Model: Epoch 59, Acc=58.33%, F1=0.5864\n",
      "  Highest: Epoch 59, Acc=58.33%, F1=0.5864\n",
      "Model doesn't have feature gating mechanism\n",
      "\n",
      "Final Results:\n",
      "  Best: Acc=53.89%, F1=0.5315\n",
      "  Highest: Acc=58.33%, F1=0.5864\n",
      "\n",
      "Classification Report:\n",
      "                precision    recall  f1-score   support\n",
      "\n",
      "  Angry (High)       0.60      0.45      0.51        20\n",
      "   Angry (Low)       0.40      0.50      0.44        20\n",
      "Disgust (High)       0.29      0.45      0.35        20\n",
      " Disgust (Low)       0.67      0.20      0.31        20\n",
      "  Happy (High)       0.83      0.75      0.79        20\n",
      "   Happy (Low)       0.38      0.25      0.30        20\n",
      "       Neutral       0.47      0.80      0.59        20\n",
      "    Sad (High)       0.71      0.85      0.77        20\n",
      "     Sad (Low)       0.86      0.60      0.71        20\n",
      "\n",
      "      accuracy                           0.54       180\n",
      "     macro avg       0.58      0.54      0.53       180\n",
      "  weighted avg       0.58      0.54      0.53       180\n",
      "\n",
      "\n",
      "============================================================\n",
      "Experiment: Bangla Handcrafted\n",
      "============================================================\n",
      "Features shape: (900, 51)\n",
      "Architecture: Deep DNN with Feature Gating\n",
      "Split: Train=720, Test=180\n",
      "HybridFusion configured: Total=51, MFCC=0, Acoustic=51, Mode=acoustic_only\n",
      "Model parameters: 622,217\n",
      "\n",
      "Training Configuration:\n",
      "  Architecture: HybridFusion\n",
      "  Learning Rate: 0.0005\n",
      "  Batch Size: 16\n",
      "  Description: HybridFusion with prosodic stream processing\n"
     ]
    },
    {
     "name": "stderr",
     "output_type": "stream",
     "text": [
      "Epoch 1: 100%|██████████| 45/45 [00:00<00:00, 71.37it/s, loss=2.79, acc=11]\n"
     ]
    },
    {
     "name": "stdout",
     "output_type": "stream",
     "text": [
      "Epoch 1: Train Loss=2.8177, Train Acc=10.97%, Test Acc=15.00%, Test F1=0.1058\n"
     ]
    },
    {
     "name": "stderr",
     "output_type": "stream",
     "text": [
      "Epoch 2: 100%|██████████| 45/45 [00:00<00:00, 71.35it/s, loss=2.61, acc=9.72]\n"
     ]
    },
    {
     "name": "stdout",
     "output_type": "stream",
     "text": [
      "Epoch 2: Train Loss=2.7242, Train Acc=9.72%, Test Acc=13.89%, Test F1=0.1139\n"
     ]
    },
    {
     "name": "stderr",
     "output_type": "stream",
     "text": [
      "Epoch 3: 100%|██████████| 45/45 [00:00<00:00, 70.50it/s, loss=2.97, acc=12.8]\n"
     ]
    },
    {
     "name": "stdout",
     "output_type": "stream",
     "text": [
      "Epoch 3: Train Loss=2.6849, Train Acc=12.78%, Test Acc=23.89%, Test F1=0.1997\n"
     ]
    },
    {
     "name": "stderr",
     "output_type": "stream",
     "text": [
      "Epoch 4: 100%|██████████| 45/45 [00:00<00:00, 72.00it/s, loss=2.48, acc=16.8]\n"
     ]
    },
    {
     "name": "stdout",
     "output_type": "stream",
     "text": [
      "Epoch 4: Train Loss=2.5169, Train Acc=16.81%, Test Acc=25.00%, Test F1=0.2177\n"
     ]
    },
    {
     "name": "stderr",
     "output_type": "stream",
     "text": [
      "Epoch 5: 100%|██████████| 45/45 [00:00<00:00, 68.99it/s, loss=2.75, acc=14.7]\n"
     ]
    },
    {
     "name": "stdout",
     "output_type": "stream",
     "text": [
      "Epoch 5: Train Loss=2.5414, Train Acc=14.72%, Test Acc=23.89%, Test F1=0.1741\n"
     ]
    },
    {
     "name": "stderr",
     "output_type": "stream",
     "text": [
      "Epoch 6: 100%|██████████| 45/45 [00:00<00:00, 70.80it/s, loss=2.08, acc=13.6]\n"
     ]
    },
    {
     "name": "stdout",
     "output_type": "stream",
     "text": [
      "Epoch 6: Train Loss=2.4112, Train Acc=13.61%, Test Acc=25.00%, Test F1=0.2167\n"
     ]
    },
    {
     "name": "stderr",
     "output_type": "stream",
     "text": [
      "Epoch 7: 100%|██████████| 45/45 [00:00<00:00, 68.02it/s, loss=1.9, acc=17.2]\n"
     ]
    },
    {
     "name": "stdout",
     "output_type": "stream",
     "text": [
      "Epoch 7: Train Loss=2.3764, Train Acc=17.22%, Test Acc=24.44%, Test F1=0.1987\n"
     ]
    },
    {
     "name": "stderr",
     "output_type": "stream",
     "text": [
      "Epoch 8: 100%|██████████| 45/45 [00:00<00:00, 70.35it/s, loss=2.46, acc=18.9]\n"
     ]
    },
    {
     "name": "stdout",
     "output_type": "stream",
     "text": [
      "Epoch 8: Train Loss=2.2587, Train Acc=18.89%, Test Acc=28.33%, Test F1=0.2612\n"
     ]
    },
    {
     "name": "stderr",
     "output_type": "stream",
     "text": [
      "Epoch 9: 100%|██████████| 45/45 [00:00<00:00, 69.72it/s, loss=2.42, acc=17.5]\n"
     ]
    },
    {
     "name": "stdout",
     "output_type": "stream",
     "text": [
      "Epoch 9: Train Loss=2.2655, Train Acc=17.50%, Test Acc=31.11%, Test F1=0.2619\n"
     ]
    },
    {
     "name": "stderr",
     "output_type": "stream",
     "text": [
      "Epoch 10: 100%|██████████| 45/45 [00:00<00:00, 70.69it/s, loss=1.97, acc=21.4]\n"
     ]
    },
    {
     "name": "stdout",
     "output_type": "stream",
     "text": [
      "Epoch 10: Train Loss=2.2044, Train Acc=21.39%, Test Acc=33.89%, Test F1=0.2847\n"
     ]
    },
    {
     "name": "stderr",
     "output_type": "stream",
     "text": [
      "Epoch 11: 100%|██████████| 45/45 [00:00<00:00, 69.23it/s, loss=2.06, acc=22.6]\n"
     ]
    },
    {
     "name": "stdout",
     "output_type": "stream",
     "text": [
      "Epoch 11: Train Loss=2.2328, Train Acc=22.64%, Test Acc=33.33%, Test F1=0.2683\n"
     ]
    },
    {
     "name": "stderr",
     "output_type": "stream",
     "text": [
      "Epoch 12: 100%|██████████| 45/45 [00:00<00:00, 68.78it/s, loss=1.78, acc=21.7]\n"
     ]
    },
    {
     "name": "stdout",
     "output_type": "stream",
     "text": [
      "Epoch 12: Train Loss=2.0937, Train Acc=21.67%, Test Acc=32.78%, Test F1=0.2690\n"
     ]
    },
    {
     "name": "stderr",
     "output_type": "stream",
     "text": [
      "Epoch 13: 100%|██████████| 45/45 [00:00<00:00, 71.03it/s, loss=2.56, acc=21.8]\n"
     ]
    },
    {
     "name": "stdout",
     "output_type": "stream",
     "text": [
      "Epoch 13: Train Loss=2.1053, Train Acc=21.81%, Test Acc=33.33%, Test F1=0.2695\n"
     ]
    },
    {
     "name": "stderr",
     "output_type": "stream",
     "text": [
      "Epoch 14: 100%|██████████| 45/45 [00:00<00:00, 73.54it/s, loss=1.97, acc=26.5]\n"
     ]
    },
    {
     "name": "stdout",
     "output_type": "stream",
     "text": [
      "Epoch 14: Train Loss=1.9896, Train Acc=26.53%, Test Acc=35.00%, Test F1=0.2869\n"
     ]
    },
    {
     "name": "stderr",
     "output_type": "stream",
     "text": [
      "Epoch 15: 100%|██████████| 45/45 [00:00<00:00, 71.09it/s, loss=1.86, acc=25.1]\n"
     ]
    },
    {
     "name": "stdout",
     "output_type": "stream",
     "text": [
      "Epoch 15: Train Loss=1.9875, Train Acc=25.14%, Test Acc=35.00%, Test F1=0.2973\n"
     ]
    },
    {
     "name": "stderr",
     "output_type": "stream",
     "text": [
      "Epoch 16: 100%|██████████| 45/45 [00:00<00:00, 73.03it/s, loss=1.61, acc=29.3]\n"
     ]
    },
    {
     "name": "stdout",
     "output_type": "stream",
     "text": [
      "Epoch 16: Train Loss=1.9134, Train Acc=29.31%, Test Acc=37.78%, Test F1=0.3179\n"
     ]
    },
    {
     "name": "stderr",
     "output_type": "stream",
     "text": [
      "Epoch 17: 100%|██████████| 45/45 [00:00<00:00, 69.87it/s, loss=1.98, acc=28.6]\n"
     ]
    },
    {
     "name": "stdout",
     "output_type": "stream",
     "text": [
      "Epoch 17: Train Loss=1.9606, Train Acc=28.61%, Test Acc=37.78%, Test F1=0.3123\n"
     ]
    },
    {
     "name": "stderr",
     "output_type": "stream",
     "text": [
      "Epoch 18: 100%|██████████| 45/45 [00:00<00:00, 65.76it/s, loss=2.25, acc=29.6]\n"
     ]
    },
    {
     "name": "stdout",
     "output_type": "stream",
     "text": [
      "Epoch 18: Train Loss=1.9331, Train Acc=29.58%, Test Acc=40.56%, Test F1=0.3627\n"
     ]
    },
    {
     "name": "stderr",
     "output_type": "stream",
     "text": [
      "Epoch 19: 100%|██████████| 45/45 [00:00<00:00, 62.43it/s, loss=2.11, acc=31.9]\n"
     ]
    },
    {
     "name": "stdout",
     "output_type": "stream",
     "text": [
      "Epoch 19: Train Loss=1.8761, Train Acc=31.94%, Test Acc=40.00%, Test F1=0.3540\n"
     ]
    },
    {
     "name": "stderr",
     "output_type": "stream",
     "text": [
      "Epoch 20: 100%|██████████| 45/45 [00:00<00:00, 81.93it/s, loss=1.89, acc=33.2]\n"
     ]
    },
    {
     "name": "stdout",
     "output_type": "stream",
     "text": [
      "Epoch 20: Train Loss=1.8242, Train Acc=33.19%, Test Acc=43.33%, Test F1=0.3872\n"
     ]
    },
    {
     "name": "stderr",
     "output_type": "stream",
     "text": [
      "Epoch 21: 100%|██████████| 45/45 [00:00<00:00, 79.71it/s, loss=1.75, acc=30.8]\n"
     ]
    },
    {
     "name": "stdout",
     "output_type": "stream",
     "text": [
      "Epoch 21: Train Loss=1.8379, Train Acc=30.83%, Test Acc=39.44%, Test F1=0.3396\n"
     ]
    },
    {
     "name": "stderr",
     "output_type": "stream",
     "text": [
      "Epoch 22: 100%|██████████| 45/45 [00:00<00:00, 80.38it/s, loss=1.88, acc=30.8]\n"
     ]
    },
    {
     "name": "stdout",
     "output_type": "stream",
     "text": [
      "Epoch 22: Train Loss=1.8075, Train Acc=30.83%, Test Acc=43.89%, Test F1=0.3997\n"
     ]
    },
    {
     "name": "stderr",
     "output_type": "stream",
     "text": [
      "Epoch 23: 100%|██████████| 45/45 [00:00<00:00, 83.09it/s, loss=2.22, acc=34.9]\n"
     ]
    },
    {
     "name": "stdout",
     "output_type": "stream",
     "text": [
      "Epoch 23: Train Loss=1.7659, Train Acc=34.86%, Test Acc=43.89%, Test F1=0.4076\n"
     ]
    },
    {
     "name": "stderr",
     "output_type": "stream",
     "text": [
      "Epoch 24: 100%|██████████| 45/45 [00:00<00:00, 77.30it/s, loss=1.54, acc=34.6]\n"
     ]
    },
    {
     "name": "stdout",
     "output_type": "stream",
     "text": [
      "Epoch 24: Train Loss=1.7322, Train Acc=34.58%, Test Acc=41.67%, Test F1=0.3827\n"
     ]
    },
    {
     "name": "stderr",
     "output_type": "stream",
     "text": [
      "Epoch 25: 100%|██████████| 45/45 [00:00<00:00, 79.08it/s, loss=1.56, acc=39.6]\n"
     ]
    },
    {
     "name": "stdout",
     "output_type": "stream",
     "text": [
      "Epoch 25: Train Loss=1.7147, Train Acc=39.58%, Test Acc=43.33%, Test F1=0.4037\n"
     ]
    },
    {
     "name": "stderr",
     "output_type": "stream",
     "text": [
      "Epoch 26: 100%|██████████| 45/45 [00:00<00:00, 77.83it/s, loss=1.65, acc=37.5]\n"
     ]
    },
    {
     "name": "stdout",
     "output_type": "stream",
     "text": [
      "Epoch 26: Train Loss=1.6979, Train Acc=37.50%, Test Acc=44.44%, Test F1=0.4114\n"
     ]
    },
    {
     "name": "stderr",
     "output_type": "stream",
     "text": [
      "Epoch 27: 100%|██████████| 45/45 [00:00<00:00, 79.65it/s, loss=2.1, acc=39.4]\n"
     ]
    },
    {
     "name": "stdout",
     "output_type": "stream",
     "text": [
      "Epoch 27: Train Loss=1.6661, Train Acc=39.44%, Test Acc=43.89%, Test F1=0.4095\n"
     ]
    },
    {
     "name": "stderr",
     "output_type": "stream",
     "text": [
      "Epoch 28: 100%|██████████| 45/45 [00:00<00:00, 82.52it/s, loss=1.67, acc=39.6]\n"
     ]
    },
    {
     "name": "stdout",
     "output_type": "stream",
     "text": [
      "Epoch 28: Train Loss=1.6595, Train Acc=39.58%, Test Acc=43.89%, Test F1=0.4074\n"
     ]
    },
    {
     "name": "stderr",
     "output_type": "stream",
     "text": [
      "Epoch 29: 100%|██████████| 45/45 [00:00<00:00, 80.02it/s, loss=1.1, acc=43.3]\n"
     ]
    },
    {
     "name": "stdout",
     "output_type": "stream",
     "text": [
      "Epoch 29: Train Loss=1.6008, Train Acc=43.33%, Test Acc=41.67%, Test F1=0.3851\n"
     ]
    },
    {
     "name": "stderr",
     "output_type": "stream",
     "text": [
      "Epoch 30: 100%|██████████| 45/45 [00:00<00:00, 78.32it/s, loss=1.66, acc=41.8]\n"
     ]
    },
    {
     "name": "stdout",
     "output_type": "stream",
     "text": [
      "Epoch 30: Train Loss=1.5690, Train Acc=41.81%, Test Acc=45.56%, Test F1=0.4354\n"
     ]
    },
    {
     "name": "stderr",
     "output_type": "stream",
     "text": [
      "Epoch 31: 100%|██████████| 45/45 [00:00<00:00, 79.87it/s, loss=1.64, acc=42.8]\n"
     ]
    },
    {
     "name": "stdout",
     "output_type": "stream",
     "text": [
      "Epoch 31: Train Loss=1.5806, Train Acc=42.78%, Test Acc=43.89%, Test F1=0.4131\n"
     ]
    },
    {
     "name": "stderr",
     "output_type": "stream",
     "text": [
      "Epoch 32: 100%|██████████| 45/45 [00:00<00:00, 79.65it/s, loss=1.68, acc=45.6]\n"
     ]
    },
    {
     "name": "stdout",
     "output_type": "stream",
     "text": [
      "Epoch 32: Train Loss=1.5121, Train Acc=45.56%, Test Acc=45.56%, Test F1=0.4391\n"
     ]
    },
    {
     "name": "stderr",
     "output_type": "stream",
     "text": [
      "Epoch 33: 100%|██████████| 45/45 [00:00<00:00, 80.16it/s, loss=1.27, acc=48.3]\n"
     ]
    },
    {
     "name": "stdout",
     "output_type": "stream",
     "text": [
      "Epoch 33: Train Loss=1.5029, Train Acc=48.33%, Test Acc=44.44%, Test F1=0.4217\n"
     ]
    },
    {
     "name": "stderr",
     "output_type": "stream",
     "text": [
      "Epoch 34: 100%|██████████| 45/45 [00:00<00:00, 78.99it/s, loss=1.33, acc=47.8]\n"
     ]
    },
    {
     "name": "stdout",
     "output_type": "stream",
     "text": [
      "Epoch 34: Train Loss=1.5041, Train Acc=47.78%, Test Acc=48.33%, Test F1=0.4567\n"
     ]
    },
    {
     "name": "stderr",
     "output_type": "stream",
     "text": [
      "Epoch 35: 100%|██████████| 45/45 [00:00<00:00, 82.30it/s, loss=1.57, acc=44.9]\n"
     ]
    },
    {
     "name": "stdout",
     "output_type": "stream",
     "text": [
      "Epoch 35: Train Loss=1.5440, Train Acc=44.86%, Test Acc=47.22%, Test F1=0.4488\n"
     ]
    },
    {
     "name": "stderr",
     "output_type": "stream",
     "text": [
      "Epoch 36: 100%|██████████| 45/45 [00:00<00:00, 81.30it/s, loss=1.34, acc=49]\n"
     ]
    },
    {
     "name": "stdout",
     "output_type": "stream",
     "text": [
      "Epoch 36: Train Loss=1.4517, Train Acc=49.03%, Test Acc=45.56%, Test F1=0.4242\n"
     ]
    },
    {
     "name": "stderr",
     "output_type": "stream",
     "text": [
      "Epoch 37: 100%|██████████| 45/45 [00:00<00:00, 82.48it/s, loss=1.36, acc=47.8]\n"
     ]
    },
    {
     "name": "stdout",
     "output_type": "stream",
     "text": [
      "Epoch 37: Train Loss=1.3997, Train Acc=47.78%, Test Acc=45.00%, Test F1=0.4343\n"
     ]
    },
    {
     "name": "stderr",
     "output_type": "stream",
     "text": [
      "Epoch 38: 100%|██████████| 45/45 [00:00<00:00, 77.67it/s, loss=1.58, acc=49.4]\n"
     ]
    },
    {
     "name": "stdout",
     "output_type": "stream",
     "text": [
      "Epoch 38: Train Loss=1.4366, Train Acc=49.44%, Test Acc=50.00%, Test F1=0.4916\n"
     ]
    },
    {
     "name": "stderr",
     "output_type": "stream",
     "text": [
      "Epoch 39: 100%|██████████| 45/45 [00:00<00:00, 79.65it/s, loss=1.59, acc=51.1]\n"
     ]
    },
    {
     "name": "stdout",
     "output_type": "stream",
     "text": [
      "Epoch 39: Train Loss=1.3992, Train Acc=51.11%, Test Acc=46.11%, Test F1=0.4560\n"
     ]
    },
    {
     "name": "stderr",
     "output_type": "stream",
     "text": [
      "Epoch 40: 100%|██████████| 45/45 [00:00<00:00, 78.51it/s, loss=1.08, acc=51.7]\n"
     ]
    },
    {
     "name": "stdout",
     "output_type": "stream",
     "text": [
      "Epoch 40: Train Loss=1.3909, Train Acc=51.67%, Test Acc=46.11%, Test F1=0.4599\n"
     ]
    },
    {
     "name": "stderr",
     "output_type": "stream",
     "text": [
      "Epoch 41: 100%|██████████| 45/45 [00:00<00:00, 80.57it/s, loss=1.33, acc=53.5]\n"
     ]
    },
    {
     "name": "stdout",
     "output_type": "stream",
     "text": [
      "Epoch 41: Train Loss=1.2972, Train Acc=53.47%, Test Acc=48.89%, Test F1=0.4707\n"
     ]
    },
    {
     "name": "stderr",
     "output_type": "stream",
     "text": [
      "Epoch 42: 100%|██████████| 45/45 [00:00<00:00, 78.95it/s, loss=1.31, acc=54]\n"
     ]
    },
    {
     "name": "stdout",
     "output_type": "stream",
     "text": [
      "Epoch 42: Train Loss=1.3542, Train Acc=54.03%, Test Acc=47.78%, Test F1=0.4600\n"
     ]
    },
    {
     "name": "stderr",
     "output_type": "stream",
     "text": [
      "Epoch 43: 100%|██████████| 45/45 [00:00<00:00, 80.56it/s, loss=1.33, acc=53.5]\n"
     ]
    },
    {
     "name": "stdout",
     "output_type": "stream",
     "text": [
      "Epoch 43: Train Loss=1.3555, Train Acc=53.47%, Test Acc=44.44%, Test F1=0.4290\n"
     ]
    },
    {
     "name": "stderr",
     "output_type": "stream",
     "text": [
      "Epoch 44: 100%|██████████| 45/45 [00:00<00:00, 78.57it/s, loss=1.04, acc=54]\n"
     ]
    },
    {
     "name": "stdout",
     "output_type": "stream",
     "text": [
      "Epoch 44: Train Loss=1.3157, Train Acc=54.03%, Test Acc=44.44%, Test F1=0.4503\n"
     ]
    },
    {
     "name": "stderr",
     "output_type": "stream",
     "text": [
      "Epoch 45: 100%|██████████| 45/45 [00:00<00:00, 79.26it/s, loss=1.67, acc=53.2]\n"
     ]
    },
    {
     "name": "stdout",
     "output_type": "stream",
     "text": [
      "Epoch 45: Train Loss=1.3640, Train Acc=53.19%, Test Acc=43.89%, Test F1=0.4350\n"
     ]
    },
    {
     "name": "stderr",
     "output_type": "stream",
     "text": [
      "Epoch 46: 100%|██████████| 45/45 [00:00<00:00, 81.72it/s, loss=1.02, acc=51.9]\n"
     ]
    },
    {
     "name": "stdout",
     "output_type": "stream",
     "text": [
      "Epoch 46: Train Loss=1.2834, Train Acc=51.94%, Test Acc=47.22%, Test F1=0.4664\n"
     ]
    },
    {
     "name": "stderr",
     "output_type": "stream",
     "text": [
      "Epoch 47: 100%|██████████| 45/45 [00:00<00:00, 84.54it/s, loss=1.85, acc=54.6]\n"
     ]
    },
    {
     "name": "stdout",
     "output_type": "stream",
     "text": [
      "Epoch 47: Train Loss=1.2837, Train Acc=54.58%, Test Acc=47.22%, Test F1=0.4632\n"
     ]
    },
    {
     "name": "stderr",
     "output_type": "stream",
     "text": [
      "Epoch 48: 100%|██████████| 45/45 [00:00<00:00, 82.51it/s, loss=0.996, acc=55.7]\n"
     ]
    },
    {
     "name": "stdout",
     "output_type": "stream",
     "text": [
      "Epoch 48: Train Loss=1.2283, Train Acc=55.69%, Test Acc=47.22%, Test F1=0.4703\n"
     ]
    },
    {
     "name": "stderr",
     "output_type": "stream",
     "text": [
      "Epoch 49: 100%|██████████| 45/45 [00:00<00:00, 81.63it/s, loss=0.715, acc=58.5]\n"
     ]
    },
    {
     "name": "stdout",
     "output_type": "stream",
     "text": [
      "Epoch 49: Train Loss=1.2127, Train Acc=58.47%, Test Acc=45.00%, Test F1=0.4493\n"
     ]
    },
    {
     "name": "stderr",
     "output_type": "stream",
     "text": [
      "Epoch 50: 100%|██████████| 45/45 [00:00<00:00, 79.18it/s, loss=1.64, acc=60.1]\n"
     ]
    },
    {
     "name": "stdout",
     "output_type": "stream",
     "text": [
      "Epoch 50: Train Loss=1.1936, Train Acc=60.14%, Test Acc=46.11%, Test F1=0.4464\n"
     ]
    },
    {
     "name": "stderr",
     "output_type": "stream",
     "text": [
      "Epoch 51: 100%|██████████| 45/45 [00:00<00:00, 79.97it/s, loss=0.766, acc=58.3]\n"
     ]
    },
    {
     "name": "stdout",
     "output_type": "stream",
     "text": [
      "Epoch 51: Train Loss=1.1496, Train Acc=58.33%, Test Acc=44.44%, Test F1=0.4352\n"
     ]
    },
    {
     "name": "stderr",
     "output_type": "stream",
     "text": [
      "Epoch 52: 100%|██████████| 45/45 [00:00<00:00, 74.79it/s, loss=1.21, acc=62.2]\n"
     ]
    },
    {
     "name": "stdout",
     "output_type": "stream",
     "text": [
      "Epoch 52: Train Loss=1.1283, Train Acc=62.22%, Test Acc=47.22%, Test F1=0.4689\n"
     ]
    },
    {
     "name": "stderr",
     "output_type": "stream",
     "text": [
      "Epoch 53: 100%|██████████| 45/45 [00:00<00:00, 81.05it/s, loss=1.02, acc=61.1]\n"
     ]
    },
    {
     "name": "stdout",
     "output_type": "stream",
     "text": [
      "Epoch 53: Train Loss=1.1372, Train Acc=61.11%, Test Acc=47.78%, Test F1=0.4676\n"
     ]
    },
    {
     "name": "stderr",
     "output_type": "stream",
     "text": [
      "Epoch 54: 100%|██████████| 45/45 [00:00<00:00, 83.39it/s, loss=1.12, acc=62.4]\n"
     ]
    },
    {
     "name": "stdout",
     "output_type": "stream",
     "text": [
      "Epoch 54: Train Loss=1.1300, Train Acc=62.36%, Test Acc=46.67%, Test F1=0.4631\n"
     ]
    },
    {
     "name": "stderr",
     "output_type": "stream",
     "text": [
      "Epoch 55: 100%|██████████| 45/45 [00:00<00:00, 81.45it/s, loss=0.741, acc=61.8]\n"
     ]
    },
    {
     "name": "stdout",
     "output_type": "stream",
     "text": [
      "Epoch 55: Train Loss=1.1081, Train Acc=61.81%, Test Acc=47.78%, Test F1=0.4739\n"
     ]
    },
    {
     "name": "stderr",
     "output_type": "stream",
     "text": [
      "Epoch 56: 100%|██████████| 45/45 [00:00<00:00, 82.01it/s, loss=0.748, acc=61.7]\n"
     ]
    },
    {
     "name": "stdout",
     "output_type": "stream",
     "text": [
      "Epoch 56: Train Loss=1.0838, Train Acc=61.67%, Test Acc=45.56%, Test F1=0.4519\n"
     ]
    },
    {
     "name": "stderr",
     "output_type": "stream",
     "text": [
      "Epoch 57: 100%|██████████| 45/45 [00:00<00:00, 83.51it/s, loss=1.95, acc=60.8]\n"
     ]
    },
    {
     "name": "stdout",
     "output_type": "stream",
     "text": [
      "Epoch 57: Train Loss=1.0990, Train Acc=60.83%, Test Acc=45.56%, Test F1=0.4548\n"
     ]
    },
    {
     "name": "stderr",
     "output_type": "stream",
     "text": [
      "Epoch 58: 100%|██████████| 45/45 [00:00<00:00, 82.82it/s, loss=0.97, acc=63.8]\n"
     ]
    },
    {
     "name": "stdout",
     "output_type": "stream",
     "text": [
      "Epoch 58: Train Loss=1.0822, Train Acc=63.75%, Test Acc=49.44%, Test F1=0.4928\n"
     ]
    },
    {
     "name": "stderr",
     "output_type": "stream",
     "text": [
      "Epoch 59: 100%|██████████| 45/45 [00:00<00:00, 79.68it/s, loss=1.09, acc=65]\n"
     ]
    },
    {
     "name": "stdout",
     "output_type": "stream",
     "text": [
      "Epoch 59: Train Loss=1.0872, Train Acc=65.00%, Test Acc=47.78%, Test F1=0.4768\n"
     ]
    },
    {
     "name": "stderr",
     "output_type": "stream",
     "text": [
      "Epoch 60: 100%|██████████| 45/45 [00:00<00:00, 78.97it/s, loss=1.32, acc=63.3]\n"
     ]
    },
    {
     "name": "stdout",
     "output_type": "stream",
     "text": [
      "Epoch 60: Train Loss=1.0291, Train Acc=63.33%, Test Acc=47.78%, Test F1=0.4781\n"
     ]
    },
    {
     "name": "stderr",
     "output_type": "stream",
     "text": [
      "Epoch 61: 100%|██████████| 45/45 [00:00<00:00, 76.11it/s, loss=1.6, acc=61.8]\n"
     ]
    },
    {
     "name": "stdout",
     "output_type": "stream",
     "text": [
      "Epoch 61: Train Loss=1.1025, Train Acc=61.81%, Test Acc=48.33%, Test F1=0.4853\n"
     ]
    },
    {
     "name": "stderr",
     "output_type": "stream",
     "text": [
      "Epoch 62: 100%|██████████| 45/45 [00:00<00:00, 77.74it/s, loss=1.59, acc=65.4]\n"
     ]
    },
    {
     "name": "stdout",
     "output_type": "stream",
     "text": [
      "Epoch 62: Train Loss=1.0371, Train Acc=65.42%, Test Acc=49.44%, Test F1=0.4882\n"
     ]
    },
    {
     "name": "stderr",
     "output_type": "stream",
     "text": [
      "Epoch 63: 100%|██████████| 45/45 [00:00<00:00, 74.31it/s, loss=1.21, acc=62.8]\n"
     ]
    },
    {
     "name": "stdout",
     "output_type": "stream",
     "text": [
      "Epoch 63: Train Loss=1.0806, Train Acc=62.78%, Test Acc=48.33%, Test F1=0.4875\n"
     ]
    },
    {
     "name": "stderr",
     "output_type": "stream",
     "text": [
      "Epoch 64: 100%|██████████| 45/45 [00:00<00:00, 78.17it/s, loss=0.91, acc=65]\n"
     ]
    },
    {
     "name": "stdout",
     "output_type": "stream",
     "text": [
      "Epoch 64: Train Loss=1.0428, Train Acc=65.00%, Test Acc=48.33%, Test F1=0.4764\n"
     ]
    },
    {
     "name": "stderr",
     "output_type": "stream",
     "text": [
      "Epoch 65: 100%|██████████| 45/45 [00:00<00:00, 82.69it/s, loss=0.995, acc=66.7]\n"
     ]
    },
    {
     "name": "stdout",
     "output_type": "stream",
     "text": [
      "Epoch 65: Train Loss=1.0359, Train Acc=66.67%, Test Acc=49.44%, Test F1=0.4932\n"
     ]
    },
    {
     "name": "stderr",
     "output_type": "stream",
     "text": [
      "Epoch 66: 100%|██████████| 45/45 [00:00<00:00, 78.79it/s, loss=1.15, acc=63.8]\n"
     ]
    },
    {
     "name": "stdout",
     "output_type": "stream",
     "text": [
      "Epoch 66: Train Loss=1.0882, Train Acc=63.75%, Test Acc=48.33%, Test F1=0.4863\n"
     ]
    },
    {
     "name": "stderr",
     "output_type": "stream",
     "text": [
      "Epoch 67: 100%|██████████| 45/45 [00:00<00:00, 81.95it/s, loss=1.32, acc=65.3]\n"
     ]
    },
    {
     "name": "stdout",
     "output_type": "stream",
     "text": [
      "Epoch 67: Train Loss=1.0619, Train Acc=65.28%, Test Acc=47.22%, Test F1=0.4705\n"
     ]
    },
    {
     "name": "stderr",
     "output_type": "stream",
     "text": [
      "Epoch 68: 100%|██████████| 45/45 [00:00<00:00, 81.20it/s, loss=1.72, acc=66.8]\n"
     ]
    },
    {
     "name": "stdout",
     "output_type": "stream",
     "text": [
      "Epoch 68: Train Loss=0.9963, Train Acc=66.81%, Test Acc=48.89%, Test F1=0.4902\n"
     ]
    },
    {
     "name": "stderr",
     "output_type": "stream",
     "text": [
      "Epoch 69: 100%|██████████| 45/45 [00:00<00:00, 83.33it/s, loss=1.12, acc=69.3]\n"
     ]
    },
    {
     "name": "stdout",
     "output_type": "stream",
     "text": [
      "Epoch 69: Train Loss=0.9489, Train Acc=69.31%, Test Acc=48.33%, Test F1=0.4798\n"
     ]
    },
    {
     "name": "stderr",
     "output_type": "stream",
     "text": [
      "Epoch 70: 100%|██████████| 45/45 [00:00<00:00, 80.15it/s, loss=0.554, acc=64.9]\n"
     ]
    },
    {
     "name": "stdout",
     "output_type": "stream",
     "text": [
      "Epoch 70: Train Loss=1.0185, Train Acc=64.86%, Test Acc=49.44%, Test F1=0.4968\n"
     ]
    },
    {
     "name": "stderr",
     "output_type": "stream",
     "text": [
      "Epoch 71: 100%|██████████| 45/45 [00:00<00:00, 82.29it/s, loss=0.689, acc=66.4]\n"
     ]
    },
    {
     "name": "stdout",
     "output_type": "stream",
     "text": [
      "Epoch 71: Train Loss=1.0562, Train Acc=66.39%, Test Acc=47.78%, Test F1=0.4840\n"
     ]
    },
    {
     "name": "stderr",
     "output_type": "stream",
     "text": [
      "Epoch 72: 100%|██████████| 45/45 [00:00<00:00, 80.88it/s, loss=0.94, acc=66.2]\n"
     ]
    },
    {
     "name": "stdout",
     "output_type": "stream",
     "text": [
      "Epoch 72: Train Loss=1.0209, Train Acc=66.25%, Test Acc=50.00%, Test F1=0.5012\n"
     ]
    },
    {
     "name": "stderr",
     "output_type": "stream",
     "text": [
      "Epoch 73: 100%|██████████| 45/45 [00:00<00:00, 83.17it/s, loss=1.22, acc=63.3]\n"
     ]
    },
    {
     "name": "stdout",
     "output_type": "stream",
     "text": [
      "Epoch 73: Train Loss=1.0379, Train Acc=63.33%, Test Acc=48.89%, Test F1=0.4878\n"
     ]
    },
    {
     "name": "stderr",
     "output_type": "stream",
     "text": [
      "Epoch 74: 100%|██████████| 45/45 [00:00<00:00, 82.85it/s, loss=0.676, acc=65.3]\n"
     ]
    },
    {
     "name": "stdout",
     "output_type": "stream",
     "text": [
      "Epoch 74: Train Loss=1.0425, Train Acc=65.28%, Test Acc=48.33%, Test F1=0.4778\n"
     ]
    },
    {
     "name": "stderr",
     "output_type": "stream",
     "text": [
      "Epoch 75: 100%|██████████| 45/45 [00:00<00:00, 82.48it/s, loss=0.771, acc=65]\n"
     ]
    },
    {
     "name": "stdout",
     "output_type": "stream",
     "text": [
      "Epoch 75: Train Loss=1.0181, Train Acc=65.00%, Test Acc=50.00%, Test F1=0.4966\n"
     ]
    },
    {
     "name": "stderr",
     "output_type": "stream",
     "text": [
      "Epoch 76: 100%|██████████| 45/45 [00:00<00:00, 79.68it/s, loss=0.856, acc=63.8]\n"
     ]
    },
    {
     "name": "stdout",
     "output_type": "stream",
     "text": [
      "Epoch 76: Train Loss=1.0589, Train Acc=63.75%, Test Acc=48.33%, Test F1=0.4875\n"
     ]
    },
    {
     "name": "stderr",
     "output_type": "stream",
     "text": [
      "Epoch 77: 100%|██████████| 45/45 [00:00<00:00, 79.73it/s, loss=0.592, acc=67.8]\n"
     ]
    },
    {
     "name": "stdout",
     "output_type": "stream",
     "text": [
      "Epoch 77: Train Loss=0.9709, Train Acc=67.78%, Test Acc=47.78%, Test F1=0.4908\n"
     ]
    },
    {
     "name": "stderr",
     "output_type": "stream",
     "text": [
      "Epoch 78: 100%|██████████| 45/45 [00:00<00:00, 80.31it/s, loss=1.13, acc=66.8]\n"
     ]
    },
    {
     "name": "stdout",
     "output_type": "stream",
     "text": [
      "Epoch 78: Train Loss=0.9502, Train Acc=66.81%, Test Acc=48.89%, Test F1=0.4934\n"
     ]
    },
    {
     "name": "stderr",
     "output_type": "stream",
     "text": [
      "Epoch 79: 100%|██████████| 45/45 [00:00<00:00, 82.44it/s, loss=1.1, acc=67.1]\n"
     ]
    },
    {
     "name": "stdout",
     "output_type": "stream",
     "text": [
      "Epoch 79: Train Loss=0.9870, Train Acc=67.08%, Test Acc=50.56%, Test F1=0.5054\n"
     ]
    },
    {
     "name": "stderr",
     "output_type": "stream",
     "text": [
      "Epoch 80: 100%|██████████| 45/45 [00:00<00:00, 76.97it/s, loss=1.02, acc=67.1]\n"
     ]
    },
    {
     "name": "stdout",
     "output_type": "stream",
     "text": [
      "Epoch 80: Train Loss=0.9591, Train Acc=67.08%, Test Acc=49.44%, Test F1=0.4968\n"
     ]
    },
    {
     "name": "stderr",
     "output_type": "stream",
     "text": [
      "Epoch 81: 100%|██████████| 45/45 [00:00<00:00, 80.70it/s, loss=1.1, acc=67.4]\n"
     ]
    },
    {
     "name": "stdout",
     "output_type": "stream",
     "text": [
      "Epoch 81: Train Loss=1.0069, Train Acc=67.36%, Test Acc=50.56%, Test F1=0.5098\n"
     ]
    },
    {
     "name": "stderr",
     "output_type": "stream",
     "text": [
      "Epoch 82: 100%|██████████| 45/45 [00:00<00:00, 83.36it/s, loss=0.968, acc=65.8]\n"
     ]
    },
    {
     "name": "stdout",
     "output_type": "stream",
     "text": [
      "Epoch 82: Train Loss=0.9977, Train Acc=65.83%, Test Acc=51.11%, Test F1=0.5147\n"
     ]
    },
    {
     "name": "stderr",
     "output_type": "stream",
     "text": [
      "Epoch 83: 100%|██████████| 45/45 [00:00<00:00, 81.06it/s, loss=0.645, acc=66.4]\n"
     ]
    },
    {
     "name": "stdout",
     "output_type": "stream",
     "text": [
      "Epoch 83: Train Loss=0.9265, Train Acc=66.39%, Test Acc=48.33%, Test F1=0.4921\n"
     ]
    },
    {
     "name": "stderr",
     "output_type": "stream",
     "text": [
      "Epoch 84: 100%|██████████| 45/45 [00:00<00:00, 81.38it/s, loss=1.03, acc=64.9]\n"
     ]
    },
    {
     "name": "stdout",
     "output_type": "stream",
     "text": [
      "Epoch 84: Train Loss=1.0229, Train Acc=64.86%, Test Acc=50.00%, Test F1=0.5023\n"
     ]
    },
    {
     "name": "stderr",
     "output_type": "stream",
     "text": [
      "Epoch 85: 100%|██████████| 45/45 [00:00<00:00, 78.18it/s, loss=0.744, acc=64.9]\n"
     ]
    },
    {
     "name": "stdout",
     "output_type": "stream",
     "text": [
      "Epoch 85: Train Loss=0.9743, Train Acc=64.86%, Test Acc=48.33%, Test F1=0.4820\n"
     ]
    },
    {
     "name": "stderr",
     "output_type": "stream",
     "text": [
      "Epoch 86: 100%|██████████| 45/45 [00:00<00:00, 82.02it/s, loss=1.04, acc=67.5]\n"
     ]
    },
    {
     "name": "stdout",
     "output_type": "stream",
     "text": [
      "Epoch 86: Train Loss=0.9950, Train Acc=67.50%, Test Acc=50.00%, Test F1=0.4996\n"
     ]
    },
    {
     "name": "stderr",
     "output_type": "stream",
     "text": [
      "Epoch 87: 100%|██████████| 45/45 [00:00<00:00, 79.48it/s, loss=0.804, acc=65.8]\n"
     ]
    },
    {
     "name": "stdout",
     "output_type": "stream",
     "text": [
      "Epoch 87: Train Loss=1.0250, Train Acc=65.83%, Test Acc=51.67%, Test F1=0.5164\n"
     ]
    },
    {
     "name": "stderr",
     "output_type": "stream",
     "text": [
      "Epoch 88: 100%|██████████| 45/45 [00:00<00:00, 81.89it/s, loss=1.31, acc=67.4]\n"
     ]
    },
    {
     "name": "stdout",
     "output_type": "stream",
     "text": [
      "Epoch 88: Train Loss=1.0182, Train Acc=67.36%, Test Acc=50.56%, Test F1=0.5038\n"
     ]
    },
    {
     "name": "stderr",
     "output_type": "stream",
     "text": [
      "Epoch 89: 100%|██████████| 45/45 [00:00<00:00, 82.98it/s, loss=1.51, acc=67.5]\n"
     ]
    },
    {
     "name": "stdout",
     "output_type": "stream",
     "text": [
      "Epoch 89: Train Loss=0.9770, Train Acc=67.50%, Test Acc=52.78%, Test F1=0.5268\n"
     ]
    },
    {
     "name": "stderr",
     "output_type": "stream",
     "text": [
      "Epoch 90: 100%|██████████| 45/45 [00:00<00:00, 79.03it/s, loss=0.79, acc=64.3]\n"
     ]
    },
    {
     "name": "stdout",
     "output_type": "stream",
     "text": [
      "Epoch 90: Train Loss=0.9915, Train Acc=64.31%, Test Acc=51.11%, Test F1=0.5089\n"
     ]
    },
    {
     "name": "stderr",
     "output_type": "stream",
     "text": [
      "Epoch 91: 100%|██████████| 45/45 [00:00<00:00, 84.48it/s, loss=1.54, acc=68.1]\n"
     ]
    },
    {
     "name": "stdout",
     "output_type": "stream",
     "text": [
      "Epoch 91: Train Loss=0.9986, Train Acc=68.06%, Test Acc=48.89%, Test F1=0.4943\n"
     ]
    },
    {
     "name": "stderr",
     "output_type": "stream",
     "text": [
      "Epoch 92: 100%|██████████| 45/45 [00:00<00:00, 82.59it/s, loss=0.844, acc=69.3]\n"
     ]
    },
    {
     "name": "stdout",
     "output_type": "stream",
     "text": [
      "Epoch 92: Train Loss=0.9341, Train Acc=69.31%, Test Acc=51.67%, Test F1=0.5152\n"
     ]
    },
    {
     "name": "stderr",
     "output_type": "stream",
     "text": [
      "Epoch 93: 100%|██████████| 45/45 [00:00<00:00, 81.46it/s, loss=0.752, acc=65.8]\n"
     ]
    },
    {
     "name": "stdout",
     "output_type": "stream",
     "text": [
      "Epoch 93: Train Loss=0.9970, Train Acc=65.83%, Test Acc=51.11%, Test F1=0.5185\n"
     ]
    },
    {
     "name": "stderr",
     "output_type": "stream",
     "text": [
      "Epoch 94: 100%|██████████| 45/45 [00:00<00:00, 84.12it/s, loss=0.863, acc=65.6]\n"
     ]
    },
    {
     "name": "stdout",
     "output_type": "stream",
     "text": [
      "Epoch 94: Train Loss=1.0194, Train Acc=65.56%, Test Acc=50.00%, Test F1=0.4994\n"
     ]
    },
    {
     "name": "stderr",
     "output_type": "stream",
     "text": [
      "Epoch 95: 100%|██████████| 45/45 [00:00<00:00, 82.29it/s, loss=1.15, acc=68.3]\n"
     ]
    },
    {
     "name": "stdout",
     "output_type": "stream",
     "text": [
      "Epoch 95: Train Loss=0.9297, Train Acc=68.33%, Test Acc=50.56%, Test F1=0.5066\n"
     ]
    },
    {
     "name": "stderr",
     "output_type": "stream",
     "text": [
      "Epoch 96: 100%|██████████| 45/45 [00:00<00:00, 80.51it/s, loss=1.06, acc=70]\n"
     ]
    },
    {
     "name": "stdout",
     "output_type": "stream",
     "text": [
      "Epoch 96: Train Loss=0.9112, Train Acc=70.00%, Test Acc=51.11%, Test F1=0.5194\n"
     ]
    },
    {
     "name": "stderr",
     "output_type": "stream",
     "text": [
      "Epoch 97: 100%|██████████| 45/45 [00:00<00:00, 82.07it/s, loss=1.27, acc=68.3]\n"
     ]
    },
    {
     "name": "stdout",
     "output_type": "stream",
     "text": [
      "Epoch 97: Train Loss=0.9516, Train Acc=68.33%, Test Acc=48.89%, Test F1=0.4903\n"
     ]
    },
    {
     "name": "stderr",
     "output_type": "stream",
     "text": [
      "Epoch 98: 100%|██████████| 45/45 [00:00<00:00, 81.62it/s, loss=0.69, acc=66.4]\n"
     ]
    },
    {
     "name": "stdout",
     "output_type": "stream",
     "text": [
      "Epoch 98: Train Loss=0.9654, Train Acc=66.39%, Test Acc=47.78%, Test F1=0.4829\n"
     ]
    },
    {
     "name": "stderr",
     "output_type": "stream",
     "text": [
      "Epoch 99: 100%|██████████| 45/45 [00:00<00:00, 81.22it/s, loss=0.755, acc=66.9]\n"
     ]
    },
    {
     "name": "stdout",
     "output_type": "stream",
     "text": [
      "Epoch 99: Train Loss=0.9407, Train Acc=66.94%, Test Acc=50.00%, Test F1=0.5059\n"
     ]
    },
    {
     "name": "stderr",
     "output_type": "stream",
     "text": [
      "Epoch 100: 100%|██████████| 45/45 [00:00<00:00, 80.83it/s, loss=0.534, acc=67.2]\n"
     ]
    },
    {
     "name": "stdout",
     "output_type": "stream",
     "text": [
      "Epoch 100: Train Loss=0.9828, Train Acc=67.22%, Test Acc=50.00%, Test F1=0.5042\n"
     ]
    },
    {
     "name": "stderr",
     "output_type": "stream",
     "text": [
      "Epoch 101: 100%|██████████| 45/45 [00:00<00:00, 82.26it/s, loss=1.01, acc=67.5]\n"
     ]
    },
    {
     "name": "stdout",
     "output_type": "stream",
     "text": [
      "Epoch 101: Train Loss=0.9663, Train Acc=67.50%, Test Acc=52.22%, Test F1=0.5173\n"
     ]
    },
    {
     "name": "stderr",
     "output_type": "stream",
     "text": [
      "Epoch 102: 100%|██████████| 45/45 [00:00<00:00, 77.35it/s, loss=1, acc=65.7]\n"
     ]
    },
    {
     "name": "stdout",
     "output_type": "stream",
     "text": [
      "Epoch 102: Train Loss=0.9677, Train Acc=65.69%, Test Acc=48.89%, Test F1=0.4872\n"
     ]
    },
    {
     "name": "stderr",
     "output_type": "stream",
     "text": [
      "Epoch 103: 100%|██████████| 45/45 [00:00<00:00, 80.25it/s, loss=0.532, acc=68.6]\n"
     ]
    },
    {
     "name": "stdout",
     "output_type": "stream",
     "text": [
      "Epoch 103: Train Loss=0.9872, Train Acc=68.61%, Test Acc=53.33%, Test F1=0.5307\n"
     ]
    },
    {
     "name": "stderr",
     "output_type": "stream",
     "text": [
      "Epoch 104: 100%|██████████| 45/45 [00:00<00:00, 78.11it/s, loss=1.27, acc=65.6]\n"
     ]
    },
    {
     "name": "stdout",
     "output_type": "stream",
     "text": [
      "Epoch 104: Train Loss=1.0136, Train Acc=65.56%, Test Acc=48.89%, Test F1=0.4874\n"
     ]
    },
    {
     "name": "stderr",
     "output_type": "stream",
     "text": [
      "Epoch 105: 100%|██████████| 45/45 [00:00<00:00, 80.08it/s, loss=0.913, acc=66.7]\n"
     ]
    },
    {
     "name": "stdout",
     "output_type": "stream",
     "text": [
      "Epoch 105: Train Loss=0.9645, Train Acc=66.67%, Test Acc=50.56%, Test F1=0.5052\n"
     ]
    },
    {
     "name": "stderr",
     "output_type": "stream",
     "text": [
      "Epoch 106: 100%|██████████| 45/45 [00:00<00:00, 78.26it/s, loss=1.19, acc=67.9]\n"
     ]
    },
    {
     "name": "stdout",
     "output_type": "stream",
     "text": [
      "Epoch 106: Train Loss=0.9767, Train Acc=67.92%, Test Acc=47.22%, Test F1=0.4779\n"
     ]
    },
    {
     "name": "stderr",
     "output_type": "stream",
     "text": [
      "Epoch 107: 100%|██████████| 45/45 [00:00<00:00, 80.61it/s, loss=0.455, acc=66.5]\n"
     ]
    },
    {
     "name": "stdout",
     "output_type": "stream",
     "text": [
      "Epoch 107: Train Loss=0.9728, Train Acc=66.53%, Test Acc=48.89%, Test F1=0.4899\n"
     ]
    },
    {
     "name": "stderr",
     "output_type": "stream",
     "text": [
      "Epoch 108: 100%|██████████| 45/45 [00:00<00:00, 81.80it/s, loss=0.919, acc=67.6]\n"
     ]
    },
    {
     "name": "stdout",
     "output_type": "stream",
     "text": [
      "Epoch 108: Train Loss=0.9937, Train Acc=67.64%, Test Acc=51.11%, Test F1=0.5139\n"
     ]
    },
    {
     "name": "stderr",
     "output_type": "stream",
     "text": [
      "Epoch 109: 100%|██████████| 45/45 [00:00<00:00, 78.20it/s, loss=0.516, acc=71.1]\n"
     ]
    },
    {
     "name": "stdout",
     "output_type": "stream",
     "text": [
      "Epoch 109: Train Loss=0.9055, Train Acc=71.11%, Test Acc=50.00%, Test F1=0.5066\n"
     ]
    },
    {
     "name": "stderr",
     "output_type": "stream",
     "text": [
      "Epoch 110: 100%|██████████| 45/45 [00:00<00:00, 79.15it/s, loss=0.55, acc=68.2]\n"
     ]
    },
    {
     "name": "stdout",
     "output_type": "stream",
     "text": [
      "Epoch 110: Train Loss=0.9354, Train Acc=68.19%, Test Acc=50.56%, Test F1=0.5113\n"
     ]
    },
    {
     "name": "stderr",
     "output_type": "stream",
     "text": [
      "Epoch 111: 100%|██████████| 45/45 [00:00<00:00, 81.31it/s, loss=1.25, acc=69.2]\n"
     ]
    },
    {
     "name": "stdout",
     "output_type": "stream",
     "text": [
      "Epoch 111: Train Loss=0.9615, Train Acc=69.17%, Test Acc=50.56%, Test F1=0.5072\n"
     ]
    },
    {
     "name": "stderr",
     "output_type": "stream",
     "text": [
      "Epoch 112: 100%|██████████| 45/45 [00:00<00:00, 80.32it/s, loss=1.04, acc=68.6]\n"
     ]
    },
    {
     "name": "stdout",
     "output_type": "stream",
     "text": [
      "Epoch 112: Train Loss=0.9450, Train Acc=68.61%, Test Acc=50.00%, Test F1=0.5023\n"
     ]
    },
    {
     "name": "stderr",
     "output_type": "stream",
     "text": [
      "Epoch 113: 100%|██████████| 45/45 [00:00<00:00, 80.12it/s, loss=1.25, acc=68.8]\n"
     ]
    },
    {
     "name": "stdout",
     "output_type": "stream",
     "text": [
      "Epoch 113: Train Loss=0.9198, Train Acc=68.75%, Test Acc=46.67%, Test F1=0.4697\n"
     ]
    },
    {
     "name": "stderr",
     "output_type": "stream",
     "text": [
      "Epoch 114: 100%|██████████| 45/45 [00:00<00:00, 82.92it/s, loss=0.592, acc=67.5]\n"
     ]
    },
    {
     "name": "stdout",
     "output_type": "stream",
     "text": [
      "Epoch 114: Train Loss=0.9496, Train Acc=67.50%, Test Acc=48.89%, Test F1=0.4930\n"
     ]
    },
    {
     "name": "stderr",
     "output_type": "stream",
     "text": [
      "Epoch 115: 100%|██████████| 45/45 [00:00<00:00, 78.20it/s, loss=1.35, acc=68.2]\n"
     ]
    },
    {
     "name": "stdout",
     "output_type": "stream",
     "text": [
      "Epoch 115: Train Loss=0.9217, Train Acc=68.19%, Test Acc=51.11%, Test F1=0.5147\n"
     ]
    },
    {
     "name": "stderr",
     "output_type": "stream",
     "text": [
      "Epoch 116: 100%|██████████| 45/45 [00:00<00:00, 80.32it/s, loss=0.849, acc=66.7]\n"
     ]
    },
    {
     "name": "stdout",
     "output_type": "stream",
     "text": [
      "Epoch 116: Train Loss=0.9608, Train Acc=66.67%, Test Acc=49.44%, Test F1=0.5012\n"
     ]
    },
    {
     "name": "stderr",
     "output_type": "stream",
     "text": [
      "Epoch 117: 100%|██████████| 45/45 [00:00<00:00, 78.95it/s, loss=0.782, acc=68.9]\n"
     ]
    },
    {
     "name": "stdout",
     "output_type": "stream",
     "text": [
      "Epoch 117: Train Loss=0.9141, Train Acc=68.89%, Test Acc=49.44%, Test F1=0.4934\n"
     ]
    },
    {
     "name": "stderr",
     "output_type": "stream",
     "text": [
      "Epoch 118: 100%|██████████| 45/45 [00:00<00:00, 78.39it/s, loss=1.13, acc=69]\n"
     ]
    },
    {
     "name": "stdout",
     "output_type": "stream",
     "text": [
      "Epoch 118: Train Loss=0.9194, Train Acc=69.03%, Test Acc=48.89%, Test F1=0.4941\n"
     ]
    },
    {
     "name": "stderr",
     "output_type": "stream",
     "text": [
      "Epoch 119: 100%|██████████| 45/45 [00:00<00:00, 82.42it/s, loss=1.52, acc=65.3]\n"
     ]
    },
    {
     "name": "stdout",
     "output_type": "stream",
     "text": [
      "Epoch 119: Train Loss=0.9819, Train Acc=65.28%, Test Acc=48.89%, Test F1=0.4900\n"
     ]
    },
    {
     "name": "stderr",
     "output_type": "stream",
     "text": [
      "Epoch 120: 100%|██████████| 45/45 [00:00<00:00, 80.87it/s, loss=0.967, acc=68.2]\n"
     ]
    },
    {
     "name": "stdout",
     "output_type": "stream",
     "text": [
      "Epoch 120: Train Loss=0.9444, Train Acc=68.19%, Test Acc=48.89%, Test F1=0.4893\n"
     ]
    },
    {
     "name": "stderr",
     "output_type": "stream",
     "text": [
      "Epoch 121: 100%|██████████| 45/45 [00:00<00:00, 81.32it/s, loss=0.745, acc=68.6]\n"
     ]
    },
    {
     "name": "stdout",
     "output_type": "stream",
     "text": [
      "Epoch 121: Train Loss=0.9259, Train Acc=68.61%, Test Acc=48.33%, Test F1=0.4877\n"
     ]
    },
    {
     "name": "stderr",
     "output_type": "stream",
     "text": [
      "Epoch 122: 100%|██████████| 45/45 [00:00<00:00, 79.32it/s, loss=0.973, acc=69.3]\n"
     ]
    },
    {
     "name": "stdout",
     "output_type": "stream",
     "text": [
      "Epoch 122: Train Loss=0.9298, Train Acc=69.31%, Test Acc=49.44%, Test F1=0.4980\n"
     ]
    },
    {
     "name": "stderr",
     "output_type": "stream",
     "text": [
      "Epoch 123: 100%|██████████| 45/45 [00:00<00:00, 74.27it/s, loss=0.872, acc=66.2]\n"
     ]
    },
    {
     "name": "stdout",
     "output_type": "stream",
     "text": [
      "Epoch 123: Train Loss=0.9875, Train Acc=66.25%, Test Acc=50.00%, Test F1=0.5024\n"
     ]
    },
    {
     "name": "stderr",
     "output_type": "stream",
     "text": [
      "Epoch 124: 100%|██████████| 45/45 [00:00<00:00, 77.94it/s, loss=0.826, acc=68.9]\n"
     ]
    },
    {
     "name": "stdout",
     "output_type": "stream",
     "text": [
      "Epoch 124: Train Loss=0.9274, Train Acc=68.89%, Test Acc=49.44%, Test F1=0.4976\n"
     ]
    },
    {
     "name": "stderr",
     "output_type": "stream",
     "text": [
      "Epoch 125: 100%|██████████| 45/45 [00:00<00:00, 79.99it/s, loss=0.781, acc=66.2]\n"
     ]
    },
    {
     "name": "stdout",
     "output_type": "stream",
     "text": [
      "Epoch 125: Train Loss=0.9944, Train Acc=66.25%, Test Acc=48.33%, Test F1=0.4925\n"
     ]
    },
    {
     "name": "stderr",
     "output_type": "stream",
     "text": [
      "Epoch 126: 100%|██████████| 45/45 [00:00<00:00, 77.55it/s, loss=0.776, acc=68.2]\n"
     ]
    },
    {
     "name": "stdout",
     "output_type": "stream",
     "text": [
      "Epoch 126: Train Loss=0.9290, Train Acc=68.19%, Test Acc=49.44%, Test F1=0.4961\n"
     ]
    },
    {
     "name": "stderr",
     "output_type": "stream",
     "text": [
      "Epoch 127: 100%|██████████| 45/45 [00:00<00:00, 79.86it/s, loss=1.02, acc=68.6]\n"
     ]
    },
    {
     "name": "stdout",
     "output_type": "stream",
     "text": [
      "Epoch 127: Train Loss=0.9352, Train Acc=68.61%, Test Acc=48.33%, Test F1=0.4854\n"
     ]
    },
    {
     "name": "stderr",
     "output_type": "stream",
     "text": [
      "Epoch 128: 100%|██████████| 45/45 [00:00<00:00, 77.37it/s, loss=1.58, acc=69.6]\n"
     ]
    },
    {
     "name": "stdout",
     "output_type": "stream",
     "text": [
      "Epoch 128: Train Loss=0.9621, Train Acc=69.58%, Test Acc=48.89%, Test F1=0.4916\n"
     ]
    },
    {
     "name": "stderr",
     "output_type": "stream",
     "text": [
      "Epoch 129: 100%|██████████| 45/45 [00:00<00:00, 79.77it/s, loss=0.701, acc=69.9]\n"
     ]
    },
    {
     "name": "stdout",
     "output_type": "stream",
     "text": [
      "Epoch 129: Train Loss=0.9329, Train Acc=69.86%, Test Acc=51.11%, Test F1=0.5128\n"
     ]
    },
    {
     "name": "stderr",
     "output_type": "stream",
     "text": [
      "Epoch 130: 100%|██████████| 45/45 [00:00<00:00, 78.18it/s, loss=1.27, acc=71.2]\n"
     ]
    },
    {
     "name": "stdout",
     "output_type": "stream",
     "text": [
      "Epoch 130: Train Loss=0.8756, Train Acc=71.25%, Test Acc=49.44%, Test F1=0.5044\n"
     ]
    },
    {
     "name": "stderr",
     "output_type": "stream",
     "text": [
      "Epoch 131: 100%|██████████| 45/45 [00:00<00:00, 79.70it/s, loss=1.46, acc=67.4]\n"
     ]
    },
    {
     "name": "stdout",
     "output_type": "stream",
     "text": [
      "Epoch 131: Train Loss=0.9532, Train Acc=67.36%, Test Acc=47.22%, Test F1=0.4795\n"
     ]
    },
    {
     "name": "stderr",
     "output_type": "stream",
     "text": [
      "Epoch 132: 100%|██████████| 45/45 [00:00<00:00, 79.75it/s, loss=0.697, acc=67.6]\n"
     ]
    },
    {
     "name": "stdout",
     "output_type": "stream",
     "text": [
      "Epoch 132: Train Loss=0.9236, Train Acc=67.64%, Test Acc=48.89%, Test F1=0.4917\n"
     ]
    },
    {
     "name": "stderr",
     "output_type": "stream",
     "text": [
      "Epoch 133: 100%|██████████| 45/45 [00:00<00:00, 80.77it/s, loss=1.04, acc=64.9]\n"
     ]
    },
    {
     "name": "stdout",
     "output_type": "stream",
     "text": [
      "Epoch 133: Train Loss=0.9776, Train Acc=64.86%, Test Acc=48.89%, Test F1=0.4930\n"
     ]
    },
    {
     "name": "stderr",
     "output_type": "stream",
     "text": [
      "Epoch 134: 100%|██████████| 45/45 [00:00<00:00, 79.85it/s, loss=0.653, acc=67.8]\n"
     ]
    },
    {
     "name": "stdout",
     "output_type": "stream",
     "text": [
      "Epoch 134: Train Loss=0.9482, Train Acc=67.78%, Test Acc=51.67%, Test F1=0.5239\n"
     ]
    },
    {
     "name": "stderr",
     "output_type": "stream",
     "text": [
      "Epoch 135: 100%|██████████| 45/45 [00:00<00:00, 79.54it/s, loss=0.531, acc=66]\n"
     ]
    },
    {
     "name": "stdout",
     "output_type": "stream",
     "text": [
      "Epoch 135: Train Loss=0.9864, Train Acc=65.97%, Test Acc=49.44%, Test F1=0.4989\n"
     ]
    },
    {
     "name": "stderr",
     "output_type": "stream",
     "text": [
      "Epoch 136: 100%|██████████| 45/45 [00:00<00:00, 76.77it/s, loss=0.899, acc=67.8]\n"
     ]
    },
    {
     "name": "stdout",
     "output_type": "stream",
     "text": [
      "Epoch 136: Train Loss=0.9917, Train Acc=67.78%, Test Acc=48.89%, Test F1=0.4995\n"
     ]
    },
    {
     "name": "stderr",
     "output_type": "stream",
     "text": [
      "Epoch 137: 100%|██████████| 45/45 [00:00<00:00, 82.13it/s, loss=0.918, acc=66]\n"
     ]
    },
    {
     "name": "stdout",
     "output_type": "stream",
     "text": [
      "Epoch 137: Train Loss=1.0093, Train Acc=65.97%, Test Acc=48.33%, Test F1=0.4873\n"
     ]
    },
    {
     "name": "stderr",
     "output_type": "stream",
     "text": [
      "Epoch 138: 100%|██████████| 45/45 [00:00<00:00, 81.00it/s, loss=0.549, acc=69.3]\n"
     ]
    },
    {
     "name": "stdout",
     "output_type": "stream",
     "text": [
      "Epoch 138: Train Loss=0.9878, Train Acc=69.31%, Test Acc=48.89%, Test F1=0.4918\n"
     ]
    },
    {
     "name": "stderr",
     "output_type": "stream",
     "text": [
      "Epoch 139: 100%|██████████| 45/45 [00:00<00:00, 79.31it/s, loss=1.11, acc=70.1]\n"
     ]
    },
    {
     "name": "stdout",
     "output_type": "stream",
     "text": [
      "Epoch 139: Train Loss=0.9446, Train Acc=70.14%, Test Acc=48.33%, Test F1=0.4866\n"
     ]
    },
    {
     "name": "stderr",
     "output_type": "stream",
     "text": [
      "Epoch 140: 100%|██████████| 45/45 [00:00<00:00, 80.91it/s, loss=0.657, acc=66.4]\n"
     ]
    },
    {
     "name": "stdout",
     "output_type": "stream",
     "text": [
      "Epoch 140: Train Loss=0.9710, Train Acc=66.39%, Test Acc=48.89%, Test F1=0.4981\n"
     ]
    },
    {
     "name": "stderr",
     "output_type": "stream",
     "text": [
      "Epoch 141: 100%|██████████| 45/45 [00:00<00:00, 82.34it/s, loss=1.39, acc=67.4]\n"
     ]
    },
    {
     "name": "stdout",
     "output_type": "stream",
     "text": [
      "Epoch 141: Train Loss=0.9938, Train Acc=67.36%, Test Acc=51.67%, Test F1=0.5174\n"
     ]
    },
    {
     "name": "stderr",
     "output_type": "stream",
     "text": [
      "Epoch 142: 100%|██████████| 45/45 [00:00<00:00, 79.09it/s, loss=1.05, acc=65.3]\n"
     ]
    },
    {
     "name": "stdout",
     "output_type": "stream",
     "text": [
      "Epoch 142: Train Loss=1.0126, Train Acc=65.28%, Test Acc=48.33%, Test F1=0.4891\n"
     ]
    },
    {
     "name": "stderr",
     "output_type": "stream",
     "text": [
      "Epoch 143: 100%|██████████| 45/45 [00:00<00:00, 81.34it/s, loss=0.899, acc=68.9]\n"
     ]
    },
    {
     "name": "stdout",
     "output_type": "stream",
     "text": [
      "Epoch 143: Train Loss=0.9320, Train Acc=68.89%, Test Acc=49.44%, Test F1=0.5009\n"
     ]
    },
    {
     "name": "stderr",
     "output_type": "stream",
     "text": [
      "Epoch 144: 100%|██████████| 45/45 [00:00<00:00, 78.90it/s, loss=0.548, acc=66.5]\n"
     ]
    },
    {
     "name": "stdout",
     "output_type": "stream",
     "text": [
      "Epoch 144: Train Loss=1.0188, Train Acc=66.53%, Test Acc=51.67%, Test F1=0.5140\n"
     ]
    },
    {
     "name": "stderr",
     "output_type": "stream",
     "text": [
      "Epoch 145: 100%|██████████| 45/45 [00:00<00:00, 81.64it/s, loss=1.14, acc=68.8]\n"
     ]
    },
    {
     "name": "stdout",
     "output_type": "stream",
     "text": [
      "Epoch 145: Train Loss=0.9007, Train Acc=68.75%, Test Acc=49.44%, Test F1=0.4897\n"
     ]
    },
    {
     "name": "stderr",
     "output_type": "stream",
     "text": [
      "Epoch 146: 100%|██████████| 45/45 [00:00<00:00, 80.91it/s, loss=0.689, acc=69.9]\n"
     ]
    },
    {
     "name": "stdout",
     "output_type": "stream",
     "text": [
      "Epoch 146: Train Loss=0.9126, Train Acc=69.86%, Test Acc=50.56%, Test F1=0.5080\n"
     ]
    },
    {
     "name": "stderr",
     "output_type": "stream",
     "text": [
      "Epoch 147: 100%|██████████| 45/45 [00:00<00:00, 80.31it/s, loss=1.04, acc=67.6]\n"
     ]
    },
    {
     "name": "stdout",
     "output_type": "stream",
     "text": [
      "Epoch 147: Train Loss=0.9339, Train Acc=67.64%, Test Acc=50.56%, Test F1=0.5086\n"
     ]
    },
    {
     "name": "stderr",
     "output_type": "stream",
     "text": [
      "Epoch 148: 100%|██████████| 45/45 [00:00<00:00, 79.65it/s, loss=0.98, acc=66.4]\n"
     ]
    },
    {
     "name": "stdout",
     "output_type": "stream",
     "text": [
      "Epoch 148: Train Loss=0.9509, Train Acc=66.39%, Test Acc=49.44%, Test F1=0.5032\n"
     ]
    },
    {
     "name": "stderr",
     "output_type": "stream",
     "text": [
      "Epoch 149: 100%|██████████| 45/45 [00:00<00:00, 78.51it/s, loss=0.976, acc=66]\n"
     ]
    },
    {
     "name": "stdout",
     "output_type": "stream",
     "text": [
      "Epoch 149: Train Loss=0.9754, Train Acc=65.97%, Test Acc=50.00%, Test F1=0.5036\n"
     ]
    },
    {
     "name": "stderr",
     "output_type": "stream",
     "text": [
      "Epoch 150: 100%|██████████| 45/45 [00:00<00:00, 80.90it/s, loss=0.66, acc=66.5]\n"
     ]
    },
    {
     "name": "stdout",
     "output_type": "stream",
     "text": [
      "Epoch 150: Train Loss=1.0088, Train Acc=66.53%, Test Acc=49.44%, Test F1=0.5018\n"
     ]
    },
    {
     "name": "stderr",
     "output_type": "stream",
     "text": [
      "Epoch 151: 100%|██████████| 45/45 [00:00<00:00, 79.40it/s, loss=1.39, acc=67.9]\n"
     ]
    },
    {
     "name": "stdout",
     "output_type": "stream",
     "text": [
      "Epoch 151: Train Loss=0.9589, Train Acc=67.92%, Test Acc=50.00%, Test F1=0.5087\n"
     ]
    },
    {
     "name": "stderr",
     "output_type": "stream",
     "text": [
      "Epoch 152: 100%|██████████| 45/45 [00:00<00:00, 80.72it/s, loss=0.91, acc=67.2]\n"
     ]
    },
    {
     "name": "stdout",
     "output_type": "stream",
     "text": [
      "Epoch 152: Train Loss=0.9487, Train Acc=67.22%, Test Acc=50.00%, Test F1=0.5044\n"
     ]
    },
    {
     "name": "stderr",
     "output_type": "stream",
     "text": [
      "Epoch 153: 100%|██████████| 45/45 [00:00<00:00, 81.57it/s, loss=1.4, acc=65.8]\n"
     ]
    },
    {
     "name": "stdout",
     "output_type": "stream",
     "text": [
      "Epoch 153: Train Loss=0.9787, Train Acc=65.83%, Test Acc=48.89%, Test F1=0.4926\n",
      "Early stopping at epoch 153\n",
      "\n",
      "Training Summary:\n",
      "  Best Model: Epoch 103, Acc=53.33%, F1=0.5307\n",
      "  Highest: Epoch 103, Acc=53.33%, F1=0.5307\n",
      "Model doesn't have feature gating mechanism\n",
      "\n",
      "Final Results:\n",
      "  Best: Acc=48.89%, F1=0.4926\n",
      "  Highest: Acc=53.33%, F1=0.5307\n",
      "\n",
      "Classification Report:\n",
      "                precision    recall  f1-score   support\n",
      "\n",
      "  Angry (High)       0.46      0.60      0.52        20\n",
      "   Angry (Low)       0.33      0.30      0.32        20\n",
      "Disgust (High)       0.23      0.25      0.24        20\n",
      " Disgust (Low)       0.46      0.30      0.36        20\n",
      "  Happy (High)       0.89      0.80      0.84        20\n",
      "   Happy (Low)       0.24      0.25      0.24        20\n",
      "       Neutral       0.44      0.55      0.49        20\n",
      "    Sad (High)       0.93      0.70      0.80        20\n",
      "     Sad (Low)       0.59      0.65      0.62        20\n",
      "\n",
      "      accuracy                           0.49       180\n",
      "     macro avg       0.51      0.49      0.49       180\n",
      "  weighted avg       0.51      0.49      0.49       180\n",
      "\n",
      "\n",
      "============================================================\n",
      "Experiment: MFCC\n",
      "============================================================\n",
      "Features shape: (900, 80)\n",
      "Architecture: Deep DNN with Feature Gating\n",
      "Split: Train=720, Test=180\n",
      "HybridFusion configured: Total=80, MFCC=80, Acoustic=0, Mode=mfcc_only\n",
      "Model parameters: 744,360\n",
      "\n",
      "Training Configuration:\n",
      "  Architecture: HybridFusion\n",
      "  Learning Rate: 0.0005\n",
      "  Batch Size: 16\n",
      "  Description: HybridFusion with spectral stream processing\n"
     ]
    },
    {
     "name": "stderr",
     "output_type": "stream",
     "text": [
      "Epoch 1: 100%|██████████| 45/45 [00:00<00:00, 77.99it/s, loss=2.54, acc=10.8]\n"
     ]
    },
    {
     "name": "stdout",
     "output_type": "stream",
     "text": [
      "Epoch 1: Train Loss=2.8664, Train Acc=10.83%, Test Acc=11.11%, Test F1=0.0228\n"
     ]
    },
    {
     "name": "stderr",
     "output_type": "stream",
     "text": [
      "Epoch 2: 100%|██████████| 45/45 [00:00<00:00, 78.53it/s, loss=3, acc=10.3]\n"
     ]
    },
    {
     "name": "stdout",
     "output_type": "stream",
     "text": [
      "Epoch 2: Train Loss=2.7481, Train Acc=10.28%, Test Acc=12.22%, Test F1=0.0652\n"
     ]
    },
    {
     "name": "stderr",
     "output_type": "stream",
     "text": [
      "Epoch 3: 100%|██████████| 45/45 [00:00<00:00, 76.66it/s, loss=3.01, acc=10.8]\n"
     ]
    },
    {
     "name": "stdout",
     "output_type": "stream",
     "text": [
      "Epoch 3: Train Loss=2.7034, Train Acc=10.83%, Test Acc=17.78%, Test F1=0.1216\n"
     ]
    },
    {
     "name": "stderr",
     "output_type": "stream",
     "text": [
      "Epoch 4: 100%|██████████| 45/45 [00:00<00:00, 80.25it/s, loss=2.27, acc=10.1]\n"
     ]
    },
    {
     "name": "stdout",
     "output_type": "stream",
     "text": [
      "Epoch 4: Train Loss=2.6719, Train Acc=10.14%, Test Acc=16.11%, Test F1=0.0913\n"
     ]
    },
    {
     "name": "stderr",
     "output_type": "stream",
     "text": [
      "Epoch 5: 100%|██████████| 45/45 [00:00<00:00, 79.39it/s, loss=2.53, acc=12.1]\n"
     ]
    },
    {
     "name": "stdout",
     "output_type": "stream",
     "text": [
      "Epoch 5: Train Loss=2.5693, Train Acc=12.08%, Test Acc=16.67%, Test F1=0.1022\n"
     ]
    },
    {
     "name": "stderr",
     "output_type": "stream",
     "text": [
      "Epoch 6: 100%|██████████| 45/45 [00:00<00:00, 77.40it/s, loss=2.65, acc=16.7]\n"
     ]
    },
    {
     "name": "stdout",
     "output_type": "stream",
     "text": [
      "Epoch 6: Train Loss=2.4555, Train Acc=16.67%, Test Acc=21.11%, Test F1=0.1346\n"
     ]
    },
    {
     "name": "stderr",
     "output_type": "stream",
     "text": [
      "Epoch 7: 100%|██████████| 45/45 [00:00<00:00, 78.84it/s, loss=2.81, acc=11.9]\n"
     ]
    },
    {
     "name": "stdout",
     "output_type": "stream",
     "text": [
      "Epoch 7: Train Loss=2.4667, Train Acc=11.94%, Test Acc=18.33%, Test F1=0.1260\n"
     ]
    },
    {
     "name": "stderr",
     "output_type": "stream",
     "text": [
      "Epoch 8: 100%|██████████| 45/45 [00:00<00:00, 79.92it/s, loss=2.07, acc=14.9]\n"
     ]
    },
    {
     "name": "stdout",
     "output_type": "stream",
     "text": [
      "Epoch 8: Train Loss=2.4509, Train Acc=14.86%, Test Acc=18.33%, Test F1=0.1284\n"
     ]
    },
    {
     "name": "stderr",
     "output_type": "stream",
     "text": [
      "Epoch 9: 100%|██████████| 45/45 [00:00<00:00, 80.29it/s, loss=2.23, acc=15]\n"
     ]
    },
    {
     "name": "stdout",
     "output_type": "stream",
     "text": [
      "Epoch 9: Train Loss=2.4115, Train Acc=15.00%, Test Acc=23.89%, Test F1=0.1873\n"
     ]
    },
    {
     "name": "stderr",
     "output_type": "stream",
     "text": [
      "Epoch 10: 100%|██████████| 45/45 [00:00<00:00, 78.88it/s, loss=2.1, acc=18.6]\n"
     ]
    },
    {
     "name": "stdout",
     "output_type": "stream",
     "text": [
      "Epoch 10: Train Loss=2.3134, Train Acc=18.61%, Test Acc=16.67%, Test F1=0.1193\n"
     ]
    },
    {
     "name": "stderr",
     "output_type": "stream",
     "text": [
      "Epoch 11: 100%|██████████| 45/45 [00:00<00:00, 76.15it/s, loss=2.24, acc=16.2]\n"
     ]
    },
    {
     "name": "stdout",
     "output_type": "stream",
     "text": [
      "Epoch 11: Train Loss=2.3415, Train Acc=16.25%, Test Acc=21.67%, Test F1=0.1786\n"
     ]
    },
    {
     "name": "stderr",
     "output_type": "stream",
     "text": [
      "Epoch 12: 100%|██████████| 45/45 [00:00<00:00, 78.84it/s, loss=2.12, acc=18.3]\n"
     ]
    },
    {
     "name": "stdout",
     "output_type": "stream",
     "text": [
      "Epoch 12: Train Loss=2.2956, Train Acc=18.33%, Test Acc=20.00%, Test F1=0.1458\n"
     ]
    },
    {
     "name": "stderr",
     "output_type": "stream",
     "text": [
      "Epoch 13: 100%|██████████| 45/45 [00:00<00:00, 80.29it/s, loss=1.85, acc=22.8]\n"
     ]
    },
    {
     "name": "stdout",
     "output_type": "stream",
     "text": [
      "Epoch 13: Train Loss=2.1285, Train Acc=22.78%, Test Acc=26.67%, Test F1=0.2017\n"
     ]
    },
    {
     "name": "stderr",
     "output_type": "stream",
     "text": [
      "Epoch 14: 100%|██████████| 45/45 [00:00<00:00, 79.55it/s, loss=2.22, acc=21.7]\n"
     ]
    },
    {
     "name": "stdout",
     "output_type": "stream",
     "text": [
      "Epoch 14: Train Loss=2.1377, Train Acc=21.67%, Test Acc=28.33%, Test F1=0.2365\n"
     ]
    },
    {
     "name": "stderr",
     "output_type": "stream",
     "text": [
      "Epoch 15: 100%|██████████| 45/45 [00:00<00:00, 75.80it/s, loss=2.27, acc=18.9]\n"
     ]
    },
    {
     "name": "stdout",
     "output_type": "stream",
     "text": [
      "Epoch 15: Train Loss=2.1481, Train Acc=18.89%, Test Acc=31.67%, Test F1=0.2801\n"
     ]
    },
    {
     "name": "stderr",
     "output_type": "stream",
     "text": [
      "Epoch 16: 100%|██████████| 45/45 [00:00<00:00, 74.53it/s, loss=1.87, acc=24]\n"
     ]
    },
    {
     "name": "stdout",
     "output_type": "stream",
     "text": [
      "Epoch 16: Train Loss=2.0226, Train Acc=24.03%, Test Acc=29.44%, Test F1=0.2425\n"
     ]
    },
    {
     "name": "stderr",
     "output_type": "stream",
     "text": [
      "Epoch 17: 100%|██████████| 45/45 [00:00<00:00, 79.48it/s, loss=1.9, acc=29.2]\n"
     ]
    },
    {
     "name": "stdout",
     "output_type": "stream",
     "text": [
      "Epoch 17: Train Loss=1.9399, Train Acc=29.17%, Test Acc=36.11%, Test F1=0.3103\n"
     ]
    },
    {
     "name": "stderr",
     "output_type": "stream",
     "text": [
      "Epoch 18: 100%|██████████| 45/45 [00:00<00:00, 78.02it/s, loss=2.48, acc=27.6]\n"
     ]
    },
    {
     "name": "stdout",
     "output_type": "stream",
     "text": [
      "Epoch 18: Train Loss=1.9478, Train Acc=27.64%, Test Acc=34.44%, Test F1=0.3031\n"
     ]
    },
    {
     "name": "stderr",
     "output_type": "stream",
     "text": [
      "Epoch 19: 100%|██████████| 45/45 [00:00<00:00, 79.15it/s, loss=1.58, acc=31.5]\n"
     ]
    },
    {
     "name": "stdout",
     "output_type": "stream",
     "text": [
      "Epoch 19: Train Loss=1.8290, Train Acc=31.53%, Test Acc=42.22%, Test F1=0.3924\n"
     ]
    },
    {
     "name": "stderr",
     "output_type": "stream",
     "text": [
      "Epoch 20: 100%|██████████| 45/45 [00:00<00:00, 79.62it/s, loss=2.08, acc=29.4]\n"
     ]
    },
    {
     "name": "stdout",
     "output_type": "stream",
     "text": [
      "Epoch 20: Train Loss=1.8647, Train Acc=29.44%, Test Acc=36.11%, Test F1=0.3256\n"
     ]
    },
    {
     "name": "stderr",
     "output_type": "stream",
     "text": [
      "Epoch 21: 100%|██████████| 45/45 [00:00<00:00, 79.14it/s, loss=1.57, acc=34]\n"
     ]
    },
    {
     "name": "stdout",
     "output_type": "stream",
     "text": [
      "Epoch 21: Train Loss=1.8053, Train Acc=34.03%, Test Acc=40.00%, Test F1=0.3563\n"
     ]
    },
    {
     "name": "stderr",
     "output_type": "stream",
     "text": [
      "Epoch 22: 100%|██████████| 45/45 [00:00<00:00, 79.81it/s, loss=1.54, acc=36.4]\n"
     ]
    },
    {
     "name": "stdout",
     "output_type": "stream",
     "text": [
      "Epoch 22: Train Loss=1.7531, Train Acc=36.39%, Test Acc=40.00%, Test F1=0.3472\n"
     ]
    },
    {
     "name": "stderr",
     "output_type": "stream",
     "text": [
      "Epoch 23: 100%|██████████| 45/45 [00:00<00:00, 79.07it/s, loss=1.74, acc=39.3]\n"
     ]
    },
    {
     "name": "stdout",
     "output_type": "stream",
     "text": [
      "Epoch 23: Train Loss=1.6832, Train Acc=39.31%, Test Acc=40.00%, Test F1=0.3704\n"
     ]
    },
    {
     "name": "stderr",
     "output_type": "stream",
     "text": [
      "Epoch 24: 100%|██████████| 45/45 [00:00<00:00, 78.81it/s, loss=1.5, acc=37.2]\n"
     ]
    },
    {
     "name": "stdout",
     "output_type": "stream",
     "text": [
      "Epoch 24: Train Loss=1.6564, Train Acc=37.22%, Test Acc=41.11%, Test F1=0.3758\n"
     ]
    },
    {
     "name": "stderr",
     "output_type": "stream",
     "text": [
      "Epoch 25: 100%|██████████| 45/45 [00:00<00:00, 74.68it/s, loss=1.58, acc=40]\n"
     ]
    },
    {
     "name": "stdout",
     "output_type": "stream",
     "text": [
      "Epoch 25: Train Loss=1.6174, Train Acc=40.00%, Test Acc=42.78%, Test F1=0.4015\n"
     ]
    },
    {
     "name": "stderr",
     "output_type": "stream",
     "text": [
      "Epoch 26: 100%|██████████| 45/45 [00:00<00:00, 78.36it/s, loss=1.66, acc=43.3]\n"
     ]
    },
    {
     "name": "stdout",
     "output_type": "stream",
     "text": [
      "Epoch 26: Train Loss=1.5809, Train Acc=43.33%, Test Acc=46.67%, Test F1=0.4356\n"
     ]
    },
    {
     "name": "stderr",
     "output_type": "stream",
     "text": [
      "Epoch 27: 100%|██████████| 45/45 [00:00<00:00, 79.47it/s, loss=2.19, acc=43.6]\n"
     ]
    },
    {
     "name": "stdout",
     "output_type": "stream",
     "text": [
      "Epoch 27: Train Loss=1.5193, Train Acc=43.61%, Test Acc=43.89%, Test F1=0.4167\n"
     ]
    },
    {
     "name": "stderr",
     "output_type": "stream",
     "text": [
      "Epoch 28: 100%|██████████| 45/45 [00:00<00:00, 78.70it/s, loss=1.54, acc=46]\n"
     ]
    },
    {
     "name": "stdout",
     "output_type": "stream",
     "text": [
      "Epoch 28: Train Loss=1.4893, Train Acc=45.97%, Test Acc=45.56%, Test F1=0.4314\n"
     ]
    },
    {
     "name": "stderr",
     "output_type": "stream",
     "text": [
      "Epoch 29: 100%|██████████| 45/45 [00:00<00:00, 76.46it/s, loss=1.47, acc=44.7]\n"
     ]
    },
    {
     "name": "stdout",
     "output_type": "stream",
     "text": [
      "Epoch 29: Train Loss=1.4933, Train Acc=44.72%, Test Acc=45.00%, Test F1=0.4390\n"
     ]
    },
    {
     "name": "stderr",
     "output_type": "stream",
     "text": [
      "Epoch 30: 100%|██████████| 45/45 [00:00<00:00, 79.02it/s, loss=1.63, acc=50.4]\n"
     ]
    },
    {
     "name": "stdout",
     "output_type": "stream",
     "text": [
      "Epoch 30: Train Loss=1.4042, Train Acc=50.42%, Test Acc=45.00%, Test F1=0.4321\n"
     ]
    },
    {
     "name": "stderr",
     "output_type": "stream",
     "text": [
      "Epoch 31: 100%|██████████| 45/45 [00:00<00:00, 79.01it/s, loss=1.76, acc=49.9]\n"
     ]
    },
    {
     "name": "stdout",
     "output_type": "stream",
     "text": [
      "Epoch 31: Train Loss=1.4648, Train Acc=49.86%, Test Acc=42.22%, Test F1=0.4074\n"
     ]
    },
    {
     "name": "stderr",
     "output_type": "stream",
     "text": [
      "Epoch 32: 100%|██████████| 45/45 [00:00<00:00, 79.83it/s, loss=1.37, acc=52.9]\n"
     ]
    },
    {
     "name": "stdout",
     "output_type": "stream",
     "text": [
      "Epoch 32: Train Loss=1.3697, Train Acc=52.92%, Test Acc=44.44%, Test F1=0.4271\n"
     ]
    },
    {
     "name": "stderr",
     "output_type": "stream",
     "text": [
      "Epoch 33: 100%|██████████| 45/45 [00:00<00:00, 78.50it/s, loss=1.48, acc=55.1]\n"
     ]
    },
    {
     "name": "stdout",
     "output_type": "stream",
     "text": [
      "Epoch 33: Train Loss=1.3600, Train Acc=55.14%, Test Acc=44.44%, Test F1=0.4296\n"
     ]
    },
    {
     "name": "stderr",
     "output_type": "stream",
     "text": [
      "Epoch 34: 100%|██████████| 45/45 [00:00<00:00, 71.53it/s, loss=1.37, acc=54]\n"
     ]
    },
    {
     "name": "stdout",
     "output_type": "stream",
     "text": [
      "Epoch 34: Train Loss=1.3257, Train Acc=54.03%, Test Acc=48.89%, Test F1=0.4753\n"
     ]
    },
    {
     "name": "stderr",
     "output_type": "stream",
     "text": [
      "Epoch 35: 100%|██████████| 45/45 [00:00<00:00, 72.06it/s, loss=1.19, acc=54.4]\n"
     ]
    },
    {
     "name": "stdout",
     "output_type": "stream",
     "text": [
      "Epoch 35: Train Loss=1.2677, Train Acc=54.44%, Test Acc=47.78%, Test F1=0.4782\n"
     ]
    },
    {
     "name": "stderr",
     "output_type": "stream",
     "text": [
      "Epoch 36: 100%|██████████| 45/45 [00:00<00:00, 69.71it/s, loss=2.25, acc=52.9]\n"
     ]
    },
    {
     "name": "stdout",
     "output_type": "stream",
     "text": [
      "Epoch 36: Train Loss=1.2951, Train Acc=52.92%, Test Acc=45.56%, Test F1=0.4596\n"
     ]
    },
    {
     "name": "stderr",
     "output_type": "stream",
     "text": [
      "Epoch 37: 100%|██████████| 45/45 [00:00<00:00, 66.95it/s, loss=1.53, acc=52.9]\n"
     ]
    },
    {
     "name": "stdout",
     "output_type": "stream",
     "text": [
      "Epoch 37: Train Loss=1.3053, Train Acc=52.92%, Test Acc=48.33%, Test F1=0.4775\n"
     ]
    },
    {
     "name": "stderr",
     "output_type": "stream",
     "text": [
      "Epoch 38: 100%|██████████| 45/45 [00:00<00:00, 73.58it/s, loss=1.07, acc=56.8]\n"
     ]
    },
    {
     "name": "stdout",
     "output_type": "stream",
     "text": [
      "Epoch 38: Train Loss=1.2664, Train Acc=56.81%, Test Acc=51.67%, Test F1=0.5153\n"
     ]
    },
    {
     "name": "stderr",
     "output_type": "stream",
     "text": [
      "Epoch 39: 100%|██████████| 45/45 [00:00<00:00, 65.85it/s, loss=1.51, acc=59]\n"
     ]
    },
    {
     "name": "stdout",
     "output_type": "stream",
     "text": [
      "Epoch 39: Train Loss=1.1799, Train Acc=59.03%, Test Acc=48.33%, Test F1=0.4740\n"
     ]
    },
    {
     "name": "stderr",
     "output_type": "stream",
     "text": [
      "Epoch 40: 100%|██████████| 45/45 [00:00<00:00, 67.49it/s, loss=1.16, acc=59.9]\n"
     ]
    },
    {
     "name": "stdout",
     "output_type": "stream",
     "text": [
      "Epoch 40: Train Loss=1.1666, Train Acc=59.86%, Test Acc=51.11%, Test F1=0.5068\n"
     ]
    },
    {
     "name": "stderr",
     "output_type": "stream",
     "text": [
      "Epoch 41: 100%|██████████| 45/45 [00:00<00:00, 68.67it/s, loss=1.27, acc=61.7]\n"
     ]
    },
    {
     "name": "stdout",
     "output_type": "stream",
     "text": [
      "Epoch 41: Train Loss=1.1533, Train Acc=61.67%, Test Acc=46.11%, Test F1=0.4692\n"
     ]
    },
    {
     "name": "stderr",
     "output_type": "stream",
     "text": [
      "Epoch 42: 100%|██████████| 45/45 [00:00<00:00, 67.92it/s, loss=0.99, acc=62.1]\n"
     ]
    },
    {
     "name": "stdout",
     "output_type": "stream",
     "text": [
      "Epoch 42: Train Loss=1.1291, Train Acc=62.08%, Test Acc=46.67%, Test F1=0.4643\n"
     ]
    },
    {
     "name": "stderr",
     "output_type": "stream",
     "text": [
      "Epoch 43: 100%|██████████| 45/45 [00:00<00:00, 67.14it/s, loss=1.16, acc=60.1]\n"
     ]
    },
    {
     "name": "stdout",
     "output_type": "stream",
     "text": [
      "Epoch 43: Train Loss=1.0877, Train Acc=60.14%, Test Acc=48.89%, Test F1=0.4888\n"
     ]
    },
    {
     "name": "stderr",
     "output_type": "stream",
     "text": [
      "Epoch 44: 100%|██████████| 45/45 [00:00<00:00, 67.48it/s, loss=0.955, acc=61.4]\n"
     ]
    },
    {
     "name": "stdout",
     "output_type": "stream",
     "text": [
      "Epoch 44: Train Loss=1.0797, Train Acc=61.39%, Test Acc=44.44%, Test F1=0.4435\n"
     ]
    },
    {
     "name": "stderr",
     "output_type": "stream",
     "text": [
      "Epoch 45: 100%|██████████| 45/45 [00:00<00:00, 69.56it/s, loss=1.42, acc=64.4]\n"
     ]
    },
    {
     "name": "stdout",
     "output_type": "stream",
     "text": [
      "Epoch 45: Train Loss=1.0329, Train Acc=64.44%, Test Acc=46.67%, Test F1=0.4771\n"
     ]
    },
    {
     "name": "stderr",
     "output_type": "stream",
     "text": [
      "Epoch 46: 100%|██████████| 45/45 [00:00<00:00, 69.40it/s, loss=1.25, acc=64.9]\n"
     ]
    },
    {
     "name": "stdout",
     "output_type": "stream",
     "text": [
      "Epoch 46: Train Loss=1.0219, Train Acc=64.86%, Test Acc=48.89%, Test F1=0.4970\n"
     ]
    },
    {
     "name": "stderr",
     "output_type": "stream",
     "text": [
      "Epoch 47: 100%|██████████| 45/45 [00:00<00:00, 68.19it/s, loss=1.15, acc=63.2]\n"
     ]
    },
    {
     "name": "stdout",
     "output_type": "stream",
     "text": [
      "Epoch 47: Train Loss=1.0701, Train Acc=63.19%, Test Acc=46.67%, Test F1=0.4732\n"
     ]
    },
    {
     "name": "stderr",
     "output_type": "stream",
     "text": [
      "Epoch 48: 100%|██████████| 45/45 [00:00<00:00, 67.95it/s, loss=1.02, acc=69.9]\n"
     ]
    },
    {
     "name": "stdout",
     "output_type": "stream",
     "text": [
      "Epoch 48: Train Loss=0.9651, Train Acc=69.86%, Test Acc=49.44%, Test F1=0.4963\n"
     ]
    },
    {
     "name": "stderr",
     "output_type": "stream",
     "text": [
      "Epoch 49: 100%|██████████| 45/45 [00:00<00:00, 67.15it/s, loss=1.24, acc=68.5]\n"
     ]
    },
    {
     "name": "stdout",
     "output_type": "stream",
     "text": [
      "Epoch 49: Train Loss=0.9287, Train Acc=68.47%, Test Acc=48.33%, Test F1=0.4840\n"
     ]
    },
    {
     "name": "stderr",
     "output_type": "stream",
     "text": [
      "Epoch 50: 100%|██████████| 45/45 [00:00<00:00, 68.10it/s, loss=0.93, acc=69.9]\n"
     ]
    },
    {
     "name": "stdout",
     "output_type": "stream",
     "text": [
      "Epoch 50: Train Loss=0.8999, Train Acc=69.86%, Test Acc=46.67%, Test F1=0.4646\n"
     ]
    },
    {
     "name": "stderr",
     "output_type": "stream",
     "text": [
      "Epoch 51: 100%|██████████| 45/45 [00:00<00:00, 66.01it/s, loss=0.729, acc=65.6]\n"
     ]
    },
    {
     "name": "stdout",
     "output_type": "stream",
     "text": [
      "Epoch 51: Train Loss=0.9779, Train Acc=65.56%, Test Acc=47.78%, Test F1=0.4807\n"
     ]
    },
    {
     "name": "stderr",
     "output_type": "stream",
     "text": [
      "Epoch 52: 100%|██████████| 45/45 [00:00<00:00, 67.34it/s, loss=0.543, acc=70]\n"
     ]
    },
    {
     "name": "stdout",
     "output_type": "stream",
     "text": [
      "Epoch 52: Train Loss=0.8983, Train Acc=70.00%, Test Acc=48.33%, Test F1=0.4837\n"
     ]
    },
    {
     "name": "stderr",
     "output_type": "stream",
     "text": [
      "Epoch 53: 100%|██████████| 45/45 [00:00<00:00, 64.92it/s, loss=1.37, acc=67.8]\n"
     ]
    },
    {
     "name": "stdout",
     "output_type": "stream",
     "text": [
      "Epoch 53: Train Loss=0.9435, Train Acc=67.78%, Test Acc=50.00%, Test F1=0.5017\n"
     ]
    },
    {
     "name": "stderr",
     "output_type": "stream",
     "text": [
      "Epoch 54: 100%|██████████| 45/45 [00:00<00:00, 68.50it/s, loss=0.637, acc=69.4]\n"
     ]
    },
    {
     "name": "stdout",
     "output_type": "stream",
     "text": [
      "Epoch 54: Train Loss=0.9360, Train Acc=69.44%, Test Acc=47.78%, Test F1=0.4784\n"
     ]
    },
    {
     "name": "stderr",
     "output_type": "stream",
     "text": [
      "Epoch 55: 100%|██████████| 45/45 [00:00<00:00, 70.26it/s, loss=0.851, acc=70.1]\n"
     ]
    },
    {
     "name": "stdout",
     "output_type": "stream",
     "text": [
      "Epoch 55: Train Loss=0.9009, Train Acc=70.14%, Test Acc=48.89%, Test F1=0.4901\n"
     ]
    },
    {
     "name": "stderr",
     "output_type": "stream",
     "text": [
      "Epoch 56: 100%|██████████| 45/45 [00:00<00:00, 70.25it/s, loss=0.828, acc=70.3]\n"
     ]
    },
    {
     "name": "stdout",
     "output_type": "stream",
     "text": [
      "Epoch 56: Train Loss=0.8453, Train Acc=70.28%, Test Acc=48.89%, Test F1=0.4868\n"
     ]
    },
    {
     "name": "stderr",
     "output_type": "stream",
     "text": [
      "Epoch 57: 100%|██████████| 45/45 [00:00<00:00, 68.94it/s, loss=0.958, acc=72.9]\n"
     ]
    },
    {
     "name": "stdout",
     "output_type": "stream",
     "text": [
      "Epoch 57: Train Loss=0.7912, Train Acc=72.92%, Test Acc=46.67%, Test F1=0.4643\n"
     ]
    },
    {
     "name": "stderr",
     "output_type": "stream",
     "text": [
      "Epoch 58: 100%|██████████| 45/45 [00:00<00:00, 66.30it/s, loss=1.08, acc=71.4]\n"
     ]
    },
    {
     "name": "stdout",
     "output_type": "stream",
     "text": [
      "Epoch 58: Train Loss=0.8883, Train Acc=71.39%, Test Acc=48.33%, Test F1=0.4878\n"
     ]
    },
    {
     "name": "stderr",
     "output_type": "stream",
     "text": [
      "Epoch 59: 100%|██████████| 45/45 [00:00<00:00, 68.46it/s, loss=1.24, acc=70.8]\n"
     ]
    },
    {
     "name": "stdout",
     "output_type": "stream",
     "text": [
      "Epoch 59: Train Loss=0.8795, Train Acc=70.83%, Test Acc=46.67%, Test F1=0.4672\n"
     ]
    },
    {
     "name": "stderr",
     "output_type": "stream",
     "text": [
      "Epoch 60: 100%|██████████| 45/45 [00:00<00:00, 72.74it/s, loss=0.703, acc=73.8]\n"
     ]
    },
    {
     "name": "stdout",
     "output_type": "stream",
     "text": [
      "Epoch 60: Train Loss=0.8080, Train Acc=73.75%, Test Acc=47.78%, Test F1=0.4814\n"
     ]
    },
    {
     "name": "stderr",
     "output_type": "stream",
     "text": [
      "Epoch 61: 100%|██████████| 45/45 [00:00<00:00, 71.75it/s, loss=0.882, acc=74]\n"
     ]
    },
    {
     "name": "stdout",
     "output_type": "stream",
     "text": [
      "Epoch 61: Train Loss=0.8173, Train Acc=74.03%, Test Acc=48.89%, Test F1=0.4911\n"
     ]
    },
    {
     "name": "stderr",
     "output_type": "stream",
     "text": [
      "Epoch 62: 100%|██████████| 45/45 [00:00<00:00, 66.96it/s, loss=0.562, acc=74.4]\n"
     ]
    },
    {
     "name": "stdout",
     "output_type": "stream",
     "text": [
      "Epoch 62: Train Loss=0.7931, Train Acc=74.44%, Test Acc=49.44%, Test F1=0.4940\n"
     ]
    },
    {
     "name": "stderr",
     "output_type": "stream",
     "text": [
      "Epoch 63: 100%|██████████| 45/45 [00:00<00:00, 57.48it/s, loss=0.756, acc=75.3]\n"
     ]
    },
    {
     "name": "stdout",
     "output_type": "stream",
     "text": [
      "Epoch 63: Train Loss=0.7728, Train Acc=75.28%, Test Acc=49.44%, Test F1=0.4960\n"
     ]
    },
    {
     "name": "stderr",
     "output_type": "stream",
     "text": [
      "Epoch 64: 100%|██████████| 45/45 [00:00<00:00, 74.28it/s, loss=0.812, acc=73.9]\n"
     ]
    },
    {
     "name": "stdout",
     "output_type": "stream",
     "text": [
      "Epoch 64: Train Loss=0.7552, Train Acc=73.89%, Test Acc=49.44%, Test F1=0.4930\n"
     ]
    },
    {
     "name": "stderr",
     "output_type": "stream",
     "text": [
      "Epoch 65: 100%|██████████| 45/45 [00:00<00:00, 74.54it/s, loss=1, acc=74]\n"
     ]
    },
    {
     "name": "stdout",
     "output_type": "stream",
     "text": [
      "Epoch 65: Train Loss=0.7894, Train Acc=74.03%, Test Acc=48.89%, Test F1=0.4904\n"
     ]
    },
    {
     "name": "stderr",
     "output_type": "stream",
     "text": [
      "Epoch 66: 100%|██████████| 45/45 [00:00<00:00, 74.72it/s, loss=0.592, acc=71.7]\n"
     ]
    },
    {
     "name": "stdout",
     "output_type": "stream",
     "text": [
      "Epoch 66: Train Loss=0.8256, Train Acc=71.67%, Test Acc=50.56%, Test F1=0.5089\n"
     ]
    },
    {
     "name": "stderr",
     "output_type": "stream",
     "text": [
      "Epoch 67: 100%|██████████| 45/45 [00:00<00:00, 77.78it/s, loss=1.22, acc=74.3]\n"
     ]
    },
    {
     "name": "stdout",
     "output_type": "stream",
     "text": [
      "Epoch 67: Train Loss=0.7910, Train Acc=74.31%, Test Acc=47.78%, Test F1=0.4806\n"
     ]
    },
    {
     "name": "stderr",
     "output_type": "stream",
     "text": [
      "Epoch 68: 100%|██████████| 45/45 [00:00<00:00, 80.25it/s, loss=0.798, acc=74.2]\n"
     ]
    },
    {
     "name": "stdout",
     "output_type": "stream",
     "text": [
      "Epoch 68: Train Loss=0.8371, Train Acc=74.17%, Test Acc=48.89%, Test F1=0.4929\n"
     ]
    },
    {
     "name": "stderr",
     "output_type": "stream",
     "text": [
      "Epoch 69: 100%|██████████| 45/45 [00:00<00:00, 76.23it/s, loss=0.35, acc=76]\n"
     ]
    },
    {
     "name": "stdout",
     "output_type": "stream",
     "text": [
      "Epoch 69: Train Loss=0.7954, Train Acc=75.97%, Test Acc=49.44%, Test F1=0.5000\n"
     ]
    },
    {
     "name": "stderr",
     "output_type": "stream",
     "text": [
      "Epoch 70: 100%|██████████| 45/45 [00:00<00:00, 80.00it/s, loss=0.765, acc=75.8]\n"
     ]
    },
    {
     "name": "stdout",
     "output_type": "stream",
     "text": [
      "Epoch 70: Train Loss=0.7372, Train Acc=75.83%, Test Acc=47.22%, Test F1=0.4777\n"
     ]
    },
    {
     "name": "stderr",
     "output_type": "stream",
     "text": [
      "Epoch 71: 100%|██████████| 45/45 [00:00<00:00, 78.21it/s, loss=0.537, acc=78.6]\n"
     ]
    },
    {
     "name": "stdout",
     "output_type": "stream",
     "text": [
      "Epoch 71: Train Loss=0.7155, Train Acc=78.61%, Test Acc=47.78%, Test F1=0.4835\n"
     ]
    },
    {
     "name": "stderr",
     "output_type": "stream",
     "text": [
      "Epoch 72: 100%|██████████| 45/45 [00:00<00:00, 75.14it/s, loss=0.497, acc=77.1]\n"
     ]
    },
    {
     "name": "stdout",
     "output_type": "stream",
     "text": [
      "Epoch 72: Train Loss=0.7692, Train Acc=77.08%, Test Acc=47.78%, Test F1=0.4835\n"
     ]
    },
    {
     "name": "stderr",
     "output_type": "stream",
     "text": [
      "Epoch 73: 100%|██████████| 45/45 [00:00<00:00, 76.21it/s, loss=0.409, acc=75.7]\n"
     ]
    },
    {
     "name": "stdout",
     "output_type": "stream",
     "text": [
      "Epoch 73: Train Loss=0.7833, Train Acc=75.69%, Test Acc=48.33%, Test F1=0.4891\n"
     ]
    },
    {
     "name": "stderr",
     "output_type": "stream",
     "text": [
      "Epoch 74: 100%|██████████| 45/45 [00:00<00:00, 76.39it/s, loss=1.61, acc=72.6]\n"
     ]
    },
    {
     "name": "stdout",
     "output_type": "stream",
     "text": [
      "Epoch 74: Train Loss=0.7996, Train Acc=72.64%, Test Acc=48.89%, Test F1=0.4877\n"
     ]
    },
    {
     "name": "stderr",
     "output_type": "stream",
     "text": [
      "Epoch 75: 100%|██████████| 45/45 [00:00<00:00, 77.40it/s, loss=1.14, acc=75.8]\n"
     ]
    },
    {
     "name": "stdout",
     "output_type": "stream",
     "text": [
      "Epoch 75: Train Loss=0.7489, Train Acc=75.83%, Test Acc=50.56%, Test F1=0.5058\n"
     ]
    },
    {
     "name": "stderr",
     "output_type": "stream",
     "text": [
      "Epoch 76: 100%|██████████| 45/45 [00:00<00:00, 68.02it/s, loss=1.02, acc=75.4]\n"
     ]
    },
    {
     "name": "stdout",
     "output_type": "stream",
     "text": [
      "Epoch 76: Train Loss=0.7242, Train Acc=75.42%, Test Acc=50.56%, Test F1=0.5069\n"
     ]
    },
    {
     "name": "stderr",
     "output_type": "stream",
     "text": [
      "Epoch 77: 100%|██████████| 45/45 [00:00<00:00, 67.96it/s, loss=0.72, acc=76.9]\n"
     ]
    },
    {
     "name": "stdout",
     "output_type": "stream",
     "text": [
      "Epoch 77: Train Loss=0.6908, Train Acc=76.94%, Test Acc=50.00%, Test F1=0.5034\n"
     ]
    },
    {
     "name": "stderr",
     "output_type": "stream",
     "text": [
      "Epoch 78: 100%|██████████| 45/45 [00:00<00:00, 70.45it/s, loss=1.31, acc=78.1]\n"
     ]
    },
    {
     "name": "stdout",
     "output_type": "stream",
     "text": [
      "Epoch 78: Train Loss=0.6998, Train Acc=78.06%, Test Acc=50.56%, Test F1=0.4989\n"
     ]
    },
    {
     "name": "stderr",
     "output_type": "stream",
     "text": [
      "Epoch 79: 100%|██████████| 45/45 [00:00<00:00, 68.91it/s, loss=0.853, acc=73.3]\n"
     ]
    },
    {
     "name": "stdout",
     "output_type": "stream",
     "text": [
      "Epoch 79: Train Loss=0.7818, Train Acc=73.33%, Test Acc=49.44%, Test F1=0.4938\n"
     ]
    },
    {
     "name": "stderr",
     "output_type": "stream",
     "text": [
      "Epoch 80: 100%|██████████| 45/45 [00:00<00:00, 70.04it/s, loss=0.908, acc=74.2]\n"
     ]
    },
    {
     "name": "stdout",
     "output_type": "stream",
     "text": [
      "Epoch 80: Train Loss=0.8106, Train Acc=74.17%, Test Acc=50.00%, Test F1=0.5000\n"
     ]
    },
    {
     "name": "stderr",
     "output_type": "stream",
     "text": [
      "Epoch 81: 100%|██████████| 45/45 [00:00<00:00, 69.19it/s, loss=0.739, acc=79.3]\n"
     ]
    },
    {
     "name": "stdout",
     "output_type": "stream",
     "text": [
      "Epoch 81: Train Loss=0.6708, Train Acc=79.31%, Test Acc=50.00%, Test F1=0.4985\n"
     ]
    },
    {
     "name": "stderr",
     "output_type": "stream",
     "text": [
      "Epoch 82: 100%|██████████| 45/45 [00:00<00:00, 69.78it/s, loss=0.446, acc=79.9]\n"
     ]
    },
    {
     "name": "stdout",
     "output_type": "stream",
     "text": [
      "Epoch 82: Train Loss=0.6590, Train Acc=79.86%, Test Acc=50.00%, Test F1=0.5011\n"
     ]
    },
    {
     "name": "stderr",
     "output_type": "stream",
     "text": [
      "Epoch 83: 100%|██████████| 45/45 [00:00<00:00, 70.61it/s, loss=0.495, acc=76]\n"
     ]
    },
    {
     "name": "stdout",
     "output_type": "stream",
     "text": [
      "Epoch 83: Train Loss=0.7505, Train Acc=75.97%, Test Acc=50.00%, Test F1=0.5035\n"
     ]
    },
    {
     "name": "stderr",
     "output_type": "stream",
     "text": [
      "Epoch 84: 100%|██████████| 45/45 [00:00<00:00, 70.55it/s, loss=0.611, acc=76]\n"
     ]
    },
    {
     "name": "stdout",
     "output_type": "stream",
     "text": [
      "Epoch 84: Train Loss=0.7332, Train Acc=75.97%, Test Acc=47.22%, Test F1=0.4739\n"
     ]
    },
    {
     "name": "stderr",
     "output_type": "stream",
     "text": [
      "Epoch 85: 100%|██████████| 45/45 [00:00<00:00, 70.08it/s, loss=0.378, acc=77.6]\n"
     ]
    },
    {
     "name": "stdout",
     "output_type": "stream",
     "text": [
      "Epoch 85: Train Loss=0.6829, Train Acc=77.64%, Test Acc=48.33%, Test F1=0.4870\n"
     ]
    },
    {
     "name": "stderr",
     "output_type": "stream",
     "text": [
      "Epoch 86: 100%|██████████| 45/45 [00:00<00:00, 69.87it/s, loss=0.6, acc=75.4]\n"
     ]
    },
    {
     "name": "stdout",
     "output_type": "stream",
     "text": [
      "Epoch 86: Train Loss=0.7233, Train Acc=75.42%, Test Acc=50.00%, Test F1=0.4988\n"
     ]
    },
    {
     "name": "stderr",
     "output_type": "stream",
     "text": [
      "Epoch 87: 100%|██████████| 45/45 [00:00<00:00, 69.60it/s, loss=0.479, acc=77.4]\n"
     ]
    },
    {
     "name": "stdout",
     "output_type": "stream",
     "text": [
      "Epoch 87: Train Loss=0.6912, Train Acc=77.36%, Test Acc=50.56%, Test F1=0.5044\n"
     ]
    },
    {
     "name": "stderr",
     "output_type": "stream",
     "text": [
      "Epoch 88: 100%|██████████| 45/45 [00:00<00:00, 70.38it/s, loss=0.434, acc=74.2]\n"
     ]
    },
    {
     "name": "stdout",
     "output_type": "stream",
     "text": [
      "Epoch 88: Train Loss=0.7357, Train Acc=74.17%, Test Acc=49.44%, Test F1=0.4907\n",
      "Early stopping at epoch 88\n",
      "\n",
      "Training Summary:\n",
      "  Best Model: Epoch 38, Acc=51.67%, F1=0.5153\n",
      "  Highest: Epoch 38, Acc=51.67%, F1=0.5153\n",
      "Model doesn't have feature gating mechanism\n",
      "\n",
      "Final Results:\n",
      "  Best: Acc=49.44%, F1=0.4907\n",
      "  Highest: Acc=51.67%, F1=0.5153\n",
      "\n",
      "Classification Report:\n",
      "                precision    recall  f1-score   support\n",
      "\n",
      "  Angry (High)       0.73      0.40      0.52        20\n",
      "   Angry (Low)       0.34      0.50      0.41        20\n",
      "Disgust (High)       0.32      0.30      0.31        20\n",
      " Disgust (Low)       0.67      0.60      0.63        20\n",
      "  Happy (High)       0.78      0.70      0.74        20\n",
      "   Happy (Low)       0.21      0.15      0.18        20\n",
      "       Neutral       0.35      0.55      0.43        20\n",
      "    Sad (High)       0.63      0.85      0.72        20\n",
      "     Sad (Low)       0.62      0.40      0.48        20\n",
      "\n",
      "      accuracy                           0.49       180\n",
      "     macro avg       0.52      0.49      0.49       180\n",
      "  weighted avg       0.52      0.49      0.49       180\n",
      "\n",
      "\n",
      "============================================================\n",
      "Experiment: Mel-Spectrogram\n",
      "============================================================\n",
      "Features shape: (900, 3, 128, 94)\n",
      "Architecture: CNN+LSTM (temporal structure)\n",
      "Split: Train=720, Test=180\n",
      "Model parameters: 6,920,970\n",
      "\n",
      "Training Configuration:\n",
      "  Architecture: CNN+LSTM\n",
      "  Learning Rate: 0.0005\n",
      "  Batch Size: 16\n",
      "  Description: CNN+LSTM for temporal mel-spectrograms\n"
     ]
    },
    {
     "name": "stderr",
     "output_type": "stream",
     "text": [
      "Epoch 1: 100%|██████████| 45/45 [00:01<00:00, 23.26it/s, loss=2.56, acc=9.86]\n"
     ]
    },
    {
     "name": "stdout",
     "output_type": "stream",
     "text": [
      "Epoch 1: Train Loss=2.7966, Train Acc=9.86%, Test Acc=18.89%, Test F1=0.0803\n"
     ]
    },
    {
     "name": "stderr",
     "output_type": "stream",
     "text": [
      "Epoch 2: 100%|██████████| 45/45 [00:01<00:00, 23.25it/s, loss=2.54, acc=12.9]\n"
     ]
    },
    {
     "name": "stdout",
     "output_type": "stream",
     "text": [
      "Epoch 2: Train Loss=2.5957, Train Acc=12.92%, Test Acc=21.67%, Test F1=0.1296\n"
     ]
    },
    {
     "name": "stderr",
     "output_type": "stream",
     "text": [
      "Epoch 3: 100%|██████████| 45/45 [00:01<00:00, 23.39it/s, loss=2.44, acc=13.3]\n"
     ]
    },
    {
     "name": "stdout",
     "output_type": "stream",
     "text": [
      "Epoch 3: Train Loss=2.6710, Train Acc=13.33%, Test Acc=27.22%, Test F1=0.1976\n"
     ]
    },
    {
     "name": "stderr",
     "output_type": "stream",
     "text": [
      "Epoch 4: 100%|██████████| 45/45 [00:01<00:00, 23.16it/s, loss=3.03, acc=14.9]\n"
     ]
    },
    {
     "name": "stdout",
     "output_type": "stream",
     "text": [
      "Epoch 4: Train Loss=2.4884, Train Acc=14.86%, Test Acc=16.67%, Test F1=0.1257\n"
     ]
    },
    {
     "name": "stderr",
     "output_type": "stream",
     "text": [
      "Epoch 5: 100%|██████████| 45/45 [00:01<00:00, 22.92it/s, loss=2.31, acc=18.2]\n"
     ]
    },
    {
     "name": "stdout",
     "output_type": "stream",
     "text": [
      "Epoch 5: Train Loss=2.3438, Train Acc=18.19%, Test Acc=28.33%, Test F1=0.1818\n"
     ]
    },
    {
     "name": "stderr",
     "output_type": "stream",
     "text": [
      "Epoch 6: 100%|██████████| 45/45 [00:01<00:00, 23.35it/s, loss=2.38, acc=20.6]\n"
     ]
    },
    {
     "name": "stdout",
     "output_type": "stream",
     "text": [
      "Epoch 6: Train Loss=2.3124, Train Acc=20.56%, Test Acc=23.89%, Test F1=0.1968\n"
     ]
    },
    {
     "name": "stderr",
     "output_type": "stream",
     "text": [
      "Epoch 7: 100%|██████████| 45/45 [00:01<00:00, 23.43it/s, loss=2.31, acc=21]\n"
     ]
    },
    {
     "name": "stdout",
     "output_type": "stream",
     "text": [
      "Epoch 7: Train Loss=2.2684, Train Acc=20.97%, Test Acc=30.00%, Test F1=0.1913\n"
     ]
    },
    {
     "name": "stderr",
     "output_type": "stream",
     "text": [
      "Epoch 8: 100%|██████████| 45/45 [00:01<00:00, 23.37it/s, loss=1.73, acc=23.3]\n"
     ]
    },
    {
     "name": "stdout",
     "output_type": "stream",
     "text": [
      "Epoch 8: Train Loss=2.1205, Train Acc=23.33%, Test Acc=19.44%, Test F1=0.1253\n"
     ]
    },
    {
     "name": "stderr",
     "output_type": "stream",
     "text": [
      "Epoch 9: 100%|██████████| 45/45 [00:01<00:00, 23.31it/s, loss=1.76, acc=22.8]\n"
     ]
    },
    {
     "name": "stdout",
     "output_type": "stream",
     "text": [
      "Epoch 9: Train Loss=2.1082, Train Acc=22.78%, Test Acc=30.56%, Test F1=0.2149\n"
     ]
    },
    {
     "name": "stderr",
     "output_type": "stream",
     "text": [
      "Epoch 10: 100%|██████████| 45/45 [00:01<00:00, 23.37it/s, loss=2.28, acc=24.3]\n"
     ]
    },
    {
     "name": "stdout",
     "output_type": "stream",
     "text": [
      "Epoch 10: Train Loss=2.0940, Train Acc=24.31%, Test Acc=29.44%, Test F1=0.2112\n"
     ]
    },
    {
     "name": "stderr",
     "output_type": "stream",
     "text": [
      "Epoch 11: 100%|██████████| 45/45 [00:01<00:00, 23.31it/s, loss=2.44, acc=24.2]\n"
     ]
    },
    {
     "name": "stdout",
     "output_type": "stream",
     "text": [
      "Epoch 11: Train Loss=2.0483, Train Acc=24.17%, Test Acc=30.00%, Test F1=0.2320\n"
     ]
    },
    {
     "name": "stderr",
     "output_type": "stream",
     "text": [
      "Epoch 12: 100%|██████████| 45/45 [00:01<00:00, 23.23it/s, loss=2.09, acc=24.3]\n"
     ]
    },
    {
     "name": "stdout",
     "output_type": "stream",
     "text": [
      "Epoch 12: Train Loss=2.0150, Train Acc=24.31%, Test Acc=32.78%, Test F1=0.2554\n"
     ]
    },
    {
     "name": "stderr",
     "output_type": "stream",
     "text": [
      "Epoch 13: 100%|██████████| 45/45 [00:01<00:00, 23.28it/s, loss=2.01, acc=26.5]\n"
     ]
    },
    {
     "name": "stdout",
     "output_type": "stream",
     "text": [
      "Epoch 13: Train Loss=1.9886, Train Acc=26.53%, Test Acc=36.11%, Test F1=0.2598\n"
     ]
    },
    {
     "name": "stderr",
     "output_type": "stream",
     "text": [
      "Epoch 14: 100%|██████████| 45/45 [00:01<00:00, 23.34it/s, loss=2.92, acc=26.1]\n"
     ]
    },
    {
     "name": "stdout",
     "output_type": "stream",
     "text": [
      "Epoch 14: Train Loss=1.9893, Train Acc=26.11%, Test Acc=41.67%, Test F1=0.3328\n"
     ]
    },
    {
     "name": "stderr",
     "output_type": "stream",
     "text": [
      "Epoch 15: 100%|██████████| 45/45 [00:01<00:00, 23.28it/s, loss=1.41, acc=33.6]\n"
     ]
    },
    {
     "name": "stdout",
     "output_type": "stream",
     "text": [
      "Epoch 15: Train Loss=1.8423, Train Acc=33.61%, Test Acc=37.22%, Test F1=0.3069\n"
     ]
    },
    {
     "name": "stderr",
     "output_type": "stream",
     "text": [
      "Epoch 16: 100%|██████████| 45/45 [00:01<00:00, 23.35it/s, loss=1.95, acc=32.8]\n"
     ]
    },
    {
     "name": "stdout",
     "output_type": "stream",
     "text": [
      "Epoch 16: Train Loss=1.8467, Train Acc=32.78%, Test Acc=38.33%, Test F1=0.3170\n"
     ]
    },
    {
     "name": "stderr",
     "output_type": "stream",
     "text": [
      "Epoch 17: 100%|██████████| 45/45 [00:01<00:00, 23.23it/s, loss=1.95, acc=31.9]\n"
     ]
    },
    {
     "name": "stdout",
     "output_type": "stream",
     "text": [
      "Epoch 17: Train Loss=1.8314, Train Acc=31.94%, Test Acc=40.00%, Test F1=0.3373\n"
     ]
    },
    {
     "name": "stderr",
     "output_type": "stream",
     "text": [
      "Epoch 18: 100%|██████████| 45/45 [00:01<00:00, 23.49it/s, loss=1.46, acc=37.1]\n"
     ]
    },
    {
     "name": "stdout",
     "output_type": "stream",
     "text": [
      "Epoch 18: Train Loss=1.7208, Train Acc=37.08%, Test Acc=43.89%, Test F1=0.3505\n"
     ]
    },
    {
     "name": "stderr",
     "output_type": "stream",
     "text": [
      "Epoch 19: 100%|██████████| 45/45 [00:01<00:00, 23.21it/s, loss=1.73, acc=39]\n"
     ]
    },
    {
     "name": "stdout",
     "output_type": "stream",
     "text": [
      "Epoch 19: Train Loss=1.6724, Train Acc=39.03%, Test Acc=42.22%, Test F1=0.3808\n"
     ]
    },
    {
     "name": "stderr",
     "output_type": "stream",
     "text": [
      "Epoch 20: 100%|██████████| 45/45 [00:01<00:00, 23.22it/s, loss=1.37, acc=36.4]\n"
     ]
    },
    {
     "name": "stdout",
     "output_type": "stream",
     "text": [
      "Epoch 20: Train Loss=1.6713, Train Acc=36.39%, Test Acc=36.67%, Test F1=0.3076\n"
     ]
    },
    {
     "name": "stderr",
     "output_type": "stream",
     "text": [
      "Epoch 21: 100%|██████████| 45/45 [00:01<00:00, 23.31it/s, loss=2.04, acc=37.1]\n"
     ]
    },
    {
     "name": "stdout",
     "output_type": "stream",
     "text": [
      "Epoch 21: Train Loss=1.6307, Train Acc=37.08%, Test Acc=42.22%, Test F1=0.3788\n"
     ]
    },
    {
     "name": "stderr",
     "output_type": "stream",
     "text": [
      "Epoch 22: 100%|██████████| 45/45 [00:01<00:00, 23.40it/s, loss=1.83, acc=44.2]\n"
     ]
    },
    {
     "name": "stdout",
     "output_type": "stream",
     "text": [
      "Epoch 22: Train Loss=1.5203, Train Acc=44.17%, Test Acc=37.78%, Test F1=0.3246\n"
     ]
    },
    {
     "name": "stderr",
     "output_type": "stream",
     "text": [
      "Epoch 23: 100%|██████████| 45/45 [00:01<00:00, 23.37it/s, loss=1.55, acc=41.9]\n"
     ]
    },
    {
     "name": "stdout",
     "output_type": "stream",
     "text": [
      "Epoch 23: Train Loss=1.5235, Train Acc=41.94%, Test Acc=40.56%, Test F1=0.3446\n"
     ]
    },
    {
     "name": "stderr",
     "output_type": "stream",
     "text": [
      "Epoch 24: 100%|██████████| 45/45 [00:01<00:00, 23.34it/s, loss=1.31, acc=47.4]\n"
     ]
    },
    {
     "name": "stdout",
     "output_type": "stream",
     "text": [
      "Epoch 24: Train Loss=1.4559, Train Acc=47.36%, Test Acc=46.67%, Test F1=0.3924\n"
     ]
    },
    {
     "name": "stderr",
     "output_type": "stream",
     "text": [
      "Epoch 25: 100%|██████████| 45/45 [00:01<00:00, 23.22it/s, loss=2.29, acc=44.2]\n"
     ]
    },
    {
     "name": "stdout",
     "output_type": "stream",
     "text": [
      "Epoch 25: Train Loss=1.4490, Train Acc=44.17%, Test Acc=42.78%, Test F1=0.3901\n"
     ]
    },
    {
     "name": "stderr",
     "output_type": "stream",
     "text": [
      "Epoch 26: 100%|██████████| 45/45 [00:01<00:00, 23.24it/s, loss=1.58, acc=47.5]\n"
     ]
    },
    {
     "name": "stdout",
     "output_type": "stream",
     "text": [
      "Epoch 26: Train Loss=1.3974, Train Acc=47.50%, Test Acc=43.89%, Test F1=0.4066\n"
     ]
    },
    {
     "name": "stderr",
     "output_type": "stream",
     "text": [
      "Epoch 27: 100%|██████████| 45/45 [00:01<00:00, 23.44it/s, loss=1.69, acc=51.9]\n"
     ]
    },
    {
     "name": "stdout",
     "output_type": "stream",
     "text": [
      "Epoch 27: Train Loss=1.3168, Train Acc=51.94%, Test Acc=51.11%, Test F1=0.4891\n"
     ]
    },
    {
     "name": "stderr",
     "output_type": "stream",
     "text": [
      "Epoch 28: 100%|██████████| 45/45 [00:01<00:00, 23.16it/s, loss=1.13, acc=50.7]\n"
     ]
    },
    {
     "name": "stdout",
     "output_type": "stream",
     "text": [
      "Epoch 28: Train Loss=1.3438, Train Acc=50.69%, Test Acc=48.33%, Test F1=0.4621\n"
     ]
    },
    {
     "name": "stderr",
     "output_type": "stream",
     "text": [
      "Epoch 29: 100%|██████████| 45/45 [00:01<00:00, 23.25it/s, loss=1.2, acc=52.9]\n"
     ]
    },
    {
     "name": "stdout",
     "output_type": "stream",
     "text": [
      "Epoch 29: Train Loss=1.2561, Train Acc=52.92%, Test Acc=46.67%, Test F1=0.4417\n"
     ]
    },
    {
     "name": "stderr",
     "output_type": "stream",
     "text": [
      "Epoch 30: 100%|██████████| 45/45 [00:01<00:00, 23.44it/s, loss=1.17, acc=58.1]\n"
     ]
    },
    {
     "name": "stdout",
     "output_type": "stream",
     "text": [
      "Epoch 30: Train Loss=1.1390, Train Acc=58.06%, Test Acc=50.56%, Test F1=0.5000\n"
     ]
    },
    {
     "name": "stderr",
     "output_type": "stream",
     "text": [
      "Epoch 31: 100%|██████████| 45/45 [00:01<00:00, 23.31it/s, loss=1.26, acc=59.2]\n"
     ]
    },
    {
     "name": "stdout",
     "output_type": "stream",
     "text": [
      "Epoch 31: Train Loss=1.1279, Train Acc=59.17%, Test Acc=43.89%, Test F1=0.4199\n"
     ]
    },
    {
     "name": "stderr",
     "output_type": "stream",
     "text": [
      "Epoch 32: 100%|██████████| 45/45 [00:01<00:00, 23.31it/s, loss=1.4, acc=56]\n"
     ]
    },
    {
     "name": "stdout",
     "output_type": "stream",
     "text": [
      "Epoch 32: Train Loss=1.1798, Train Acc=55.97%, Test Acc=50.56%, Test F1=0.4996\n"
     ]
    },
    {
     "name": "stderr",
     "output_type": "stream",
     "text": [
      "Epoch 33: 100%|██████████| 45/45 [00:01<00:00, 23.38it/s, loss=0.925, acc=60.7]\n"
     ]
    },
    {
     "name": "stdout",
     "output_type": "stream",
     "text": [
      "Epoch 33: Train Loss=1.0928, Train Acc=60.69%, Test Acc=50.00%, Test F1=0.4907\n"
     ]
    },
    {
     "name": "stderr",
     "output_type": "stream",
     "text": [
      "Epoch 34: 100%|██████████| 45/45 [00:01<00:00, 23.40it/s, loss=1.6, acc=62.8]\n"
     ]
    },
    {
     "name": "stdout",
     "output_type": "stream",
     "text": [
      "Epoch 34: Train Loss=1.0537, Train Acc=62.78%, Test Acc=47.22%, Test F1=0.4604\n"
     ]
    },
    {
     "name": "stderr",
     "output_type": "stream",
     "text": [
      "Epoch 35: 100%|██████████| 45/45 [00:01<00:00, 23.32it/s, loss=1.22, acc=65.1]\n"
     ]
    },
    {
     "name": "stdout",
     "output_type": "stream",
     "text": [
      "Epoch 35: Train Loss=0.9791, Train Acc=65.14%, Test Acc=51.11%, Test F1=0.4925\n"
     ]
    },
    {
     "name": "stderr",
     "output_type": "stream",
     "text": [
      "Epoch 36: 100%|██████████| 45/45 [00:01<00:00, 23.18it/s, loss=1.22, acc=68.2]\n"
     ]
    },
    {
     "name": "stdout",
     "output_type": "stream",
     "text": [
      "Epoch 36: Train Loss=0.8867, Train Acc=68.19%, Test Acc=55.00%, Test F1=0.5358\n"
     ]
    },
    {
     "name": "stderr",
     "output_type": "stream",
     "text": [
      "Epoch 37: 100%|██████████| 45/45 [00:01<00:00, 23.18it/s, loss=0.901, acc=73.2]\n"
     ]
    },
    {
     "name": "stdout",
     "output_type": "stream",
     "text": [
      "Epoch 37: Train Loss=0.7844, Train Acc=73.19%, Test Acc=52.78%, Test F1=0.5280\n"
     ]
    },
    {
     "name": "stderr",
     "output_type": "stream",
     "text": [
      "Epoch 38: 100%|██████████| 45/45 [00:01<00:00, 23.25it/s, loss=1.16, acc=77.1]\n"
     ]
    },
    {
     "name": "stdout",
     "output_type": "stream",
     "text": [
      "Epoch 38: Train Loss=0.7333, Train Acc=77.08%, Test Acc=51.67%, Test F1=0.5197\n"
     ]
    },
    {
     "name": "stderr",
     "output_type": "stream",
     "text": [
      "Epoch 39: 100%|██████████| 45/45 [00:01<00:00, 23.36it/s, loss=0.375, acc=79]\n"
     ]
    },
    {
     "name": "stdout",
     "output_type": "stream",
     "text": [
      "Epoch 39: Train Loss=0.6625, Train Acc=79.03%, Test Acc=48.33%, Test F1=0.4676\n"
     ]
    },
    {
     "name": "stderr",
     "output_type": "stream",
     "text": [
      "Epoch 40: 100%|██████████| 45/45 [00:01<00:00, 23.25it/s, loss=0.587, acc=78.1]\n"
     ]
    },
    {
     "name": "stdout",
     "output_type": "stream",
     "text": [
      "Epoch 40: Train Loss=0.6468, Train Acc=78.06%, Test Acc=55.00%, Test F1=0.5620\n"
     ]
    },
    {
     "name": "stderr",
     "output_type": "stream",
     "text": [
      "Epoch 41: 100%|██████████| 45/45 [00:01<00:00, 23.36it/s, loss=0.576, acc=81.4]\n"
     ]
    },
    {
     "name": "stdout",
     "output_type": "stream",
     "text": [
      "Epoch 41: Train Loss=0.5902, Train Acc=81.39%, Test Acc=52.78%, Test F1=0.5190\n"
     ]
    },
    {
     "name": "stderr",
     "output_type": "stream",
     "text": [
      "Epoch 42: 100%|██████████| 45/45 [00:01<00:00, 23.51it/s, loss=0.741, acc=85.4]\n"
     ]
    },
    {
     "name": "stdout",
     "output_type": "stream",
     "text": [
      "Epoch 42: Train Loss=0.5213, Train Acc=85.42%, Test Acc=50.56%, Test F1=0.5147\n"
     ]
    },
    {
     "name": "stderr",
     "output_type": "stream",
     "text": [
      "Epoch 43: 100%|██████████| 45/45 [00:01<00:00, 23.49it/s, loss=0.259, acc=85.6]\n"
     ]
    },
    {
     "name": "stdout",
     "output_type": "stream",
     "text": [
      "Epoch 43: Train Loss=0.5128, Train Acc=85.56%, Test Acc=55.00%, Test F1=0.5540\n"
     ]
    },
    {
     "name": "stderr",
     "output_type": "stream",
     "text": [
      "Epoch 44: 100%|██████████| 45/45 [00:01<00:00, 23.30it/s, loss=0.39, acc=87.8]\n"
     ]
    },
    {
     "name": "stdout",
     "output_type": "stream",
     "text": [
      "Epoch 44: Train Loss=0.4440, Train Acc=87.78%, Test Acc=52.78%, Test F1=0.5260\n"
     ]
    },
    {
     "name": "stderr",
     "output_type": "stream",
     "text": [
      "Epoch 45: 100%|██████████| 45/45 [00:01<00:00, 23.32it/s, loss=0.292, acc=90]\n"
     ]
    },
    {
     "name": "stdout",
     "output_type": "stream",
     "text": [
      "Epoch 45: Train Loss=0.3941, Train Acc=90.00%, Test Acc=51.67%, Test F1=0.5247\n"
     ]
    },
    {
     "name": "stderr",
     "output_type": "stream",
     "text": [
      "Epoch 46: 100%|██████████| 45/45 [00:01<00:00, 23.28it/s, loss=0.357, acc=89.2]\n"
     ]
    },
    {
     "name": "stdout",
     "output_type": "stream",
     "text": [
      "Epoch 46: Train Loss=0.4071, Train Acc=89.17%, Test Acc=54.44%, Test F1=0.5426\n"
     ]
    },
    {
     "name": "stderr",
     "output_type": "stream",
     "text": [
      "Epoch 47: 100%|██████████| 45/45 [00:01<00:00, 23.15it/s, loss=0.45, acc=93.5]\n"
     ]
    },
    {
     "name": "stdout",
     "output_type": "stream",
     "text": [
      "Epoch 47: Train Loss=0.3083, Train Acc=93.47%, Test Acc=53.89%, Test F1=0.5427\n"
     ]
    },
    {
     "name": "stderr",
     "output_type": "stream",
     "text": [
      "Epoch 48: 100%|██████████| 45/45 [00:01<00:00, 23.17it/s, loss=0.31, acc=94]\n"
     ]
    },
    {
     "name": "stdout",
     "output_type": "stream",
     "text": [
      "Epoch 48: Train Loss=0.2962, Train Acc=94.03%, Test Acc=56.11%, Test F1=0.5645\n"
     ]
    },
    {
     "name": "stderr",
     "output_type": "stream",
     "text": [
      "Epoch 49: 100%|██████████| 45/45 [00:01<00:00, 23.27it/s, loss=0.29, acc=94.6]\n"
     ]
    },
    {
     "name": "stdout",
     "output_type": "stream",
     "text": [
      "Epoch 49: Train Loss=0.2676, Train Acc=94.58%, Test Acc=54.44%, Test F1=0.5563\n"
     ]
    },
    {
     "name": "stderr",
     "output_type": "stream",
     "text": [
      "Epoch 50: 100%|██████████| 45/45 [00:01<00:00, 23.45it/s, loss=0.154, acc=93.9]\n"
     ]
    },
    {
     "name": "stdout",
     "output_type": "stream",
     "text": [
      "Epoch 50: Train Loss=0.2790, Train Acc=93.89%, Test Acc=55.00%, Test F1=0.5565\n"
     ]
    },
    {
     "name": "stderr",
     "output_type": "stream",
     "text": [
      "Epoch 51: 100%|██████████| 45/45 [00:01<00:00, 23.27it/s, loss=0.272, acc=96]\n"
     ]
    },
    {
     "name": "stdout",
     "output_type": "stream",
     "text": [
      "Epoch 51: Train Loss=0.2439, Train Acc=95.97%, Test Acc=54.44%, Test F1=0.5557\n"
     ]
    },
    {
     "name": "stderr",
     "output_type": "stream",
     "text": [
      "Epoch 52: 100%|██████████| 45/45 [00:01<00:00, 23.33it/s, loss=0.194, acc=95.7]\n"
     ]
    },
    {
     "name": "stdout",
     "output_type": "stream",
     "text": [
      "Epoch 52: Train Loss=0.2541, Train Acc=95.69%, Test Acc=55.56%, Test F1=0.5565\n"
     ]
    },
    {
     "name": "stderr",
     "output_type": "stream",
     "text": [
      "Epoch 53: 100%|██████████| 45/45 [00:01<00:00, 23.24it/s, loss=0.139, acc=95.6]\n"
     ]
    },
    {
     "name": "stdout",
     "output_type": "stream",
     "text": [
      "Epoch 53: Train Loss=0.2085, Train Acc=95.56%, Test Acc=57.22%, Test F1=0.5741\n"
     ]
    },
    {
     "name": "stderr",
     "output_type": "stream",
     "text": [
      "Epoch 54: 100%|██████████| 45/45 [00:01<00:00, 23.39it/s, loss=0.117, acc=97.5]\n"
     ]
    },
    {
     "name": "stdout",
     "output_type": "stream",
     "text": [
      "Epoch 54: Train Loss=0.1743, Train Acc=97.50%, Test Acc=55.56%, Test F1=0.5589\n"
     ]
    },
    {
     "name": "stderr",
     "output_type": "stream",
     "text": [
      "Epoch 55: 100%|██████████| 45/45 [00:01<00:00, 23.29it/s, loss=0.401, acc=96.7]\n"
     ]
    },
    {
     "name": "stdout",
     "output_type": "stream",
     "text": [
      "Epoch 55: Train Loss=0.1961, Train Acc=96.67%, Test Acc=55.56%, Test F1=0.5596\n"
     ]
    },
    {
     "name": "stderr",
     "output_type": "stream",
     "text": [
      "Epoch 56: 100%|██████████| 45/45 [00:01<00:00, 23.45it/s, loss=0.368, acc=97.8]\n"
     ]
    },
    {
     "name": "stdout",
     "output_type": "stream",
     "text": [
      "Epoch 56: Train Loss=0.1688, Train Acc=97.78%, Test Acc=57.22%, Test F1=0.5824\n"
     ]
    },
    {
     "name": "stderr",
     "output_type": "stream",
     "text": [
      "Epoch 57: 100%|██████████| 45/45 [00:01<00:00, 23.33it/s, loss=0.338, acc=96.1]\n"
     ]
    },
    {
     "name": "stdout",
     "output_type": "stream",
     "text": [
      "Epoch 57: Train Loss=0.1828, Train Acc=96.11%, Test Acc=56.67%, Test F1=0.5760\n"
     ]
    },
    {
     "name": "stderr",
     "output_type": "stream",
     "text": [
      "Epoch 58: 100%|██████████| 45/45 [00:01<00:00, 23.40it/s, loss=0.135, acc=96.9]\n"
     ]
    },
    {
     "name": "stdout",
     "output_type": "stream",
     "text": [
      "Epoch 58: Train Loss=0.1745, Train Acc=96.94%, Test Acc=54.44%, Test F1=0.5494\n"
     ]
    },
    {
     "name": "stderr",
     "output_type": "stream",
     "text": [
      "Epoch 59: 100%|██████████| 45/45 [00:01<00:00, 23.64it/s, loss=0.0958, acc=98.2]\n"
     ]
    },
    {
     "name": "stdout",
     "output_type": "stream",
     "text": [
      "Epoch 59: Train Loss=0.1489, Train Acc=98.19%, Test Acc=56.11%, Test F1=0.5725\n"
     ]
    },
    {
     "name": "stderr",
     "output_type": "stream",
     "text": [
      "Epoch 60: 100%|██████████| 45/45 [00:01<00:00, 23.34it/s, loss=0.0625, acc=96.8]\n"
     ]
    },
    {
     "name": "stdout",
     "output_type": "stream",
     "text": [
      "Epoch 60: Train Loss=0.1603, Train Acc=96.81%, Test Acc=55.00%, Test F1=0.5564\n"
     ]
    },
    {
     "name": "stderr",
     "output_type": "stream",
     "text": [
      "Epoch 61: 100%|██████████| 45/45 [00:01<00:00, 23.45it/s, loss=0.185, acc=98.5]\n"
     ]
    },
    {
     "name": "stdout",
     "output_type": "stream",
     "text": [
      "Epoch 61: Train Loss=0.1183, Train Acc=98.47%, Test Acc=53.89%, Test F1=0.5456\n"
     ]
    },
    {
     "name": "stderr",
     "output_type": "stream",
     "text": [
      "Epoch 62: 100%|██████████| 45/45 [00:01<00:00, 23.28it/s, loss=0.066, acc=97.9]\n"
     ]
    },
    {
     "name": "stdout",
     "output_type": "stream",
     "text": [
      "Epoch 62: Train Loss=0.1282, Train Acc=97.92%, Test Acc=55.56%, Test F1=0.5619\n"
     ]
    },
    {
     "name": "stderr",
     "output_type": "stream",
     "text": [
      "Epoch 63: 100%|██████████| 45/45 [00:01<00:00, 23.51it/s, loss=0.0854, acc=98.5]\n"
     ]
    },
    {
     "name": "stdout",
     "output_type": "stream",
     "text": [
      "Epoch 63: Train Loss=0.1179, Train Acc=98.47%, Test Acc=53.33%, Test F1=0.5360\n"
     ]
    },
    {
     "name": "stderr",
     "output_type": "stream",
     "text": [
      "Epoch 64: 100%|██████████| 45/45 [00:01<00:00, 23.45it/s, loss=0.0816, acc=98.9]\n"
     ]
    },
    {
     "name": "stdout",
     "output_type": "stream",
     "text": [
      "Epoch 64: Train Loss=0.1099, Train Acc=98.89%, Test Acc=56.67%, Test F1=0.5728\n"
     ]
    },
    {
     "name": "stderr",
     "output_type": "stream",
     "text": [
      "Epoch 65: 100%|██████████| 45/45 [00:01<00:00, 23.32it/s, loss=0.0448, acc=98.5]\n"
     ]
    },
    {
     "name": "stdout",
     "output_type": "stream",
     "text": [
      "Epoch 65: Train Loss=0.1085, Train Acc=98.47%, Test Acc=57.22%, Test F1=0.5734\n"
     ]
    },
    {
     "name": "stderr",
     "output_type": "stream",
     "text": [
      "Epoch 66: 100%|██████████| 45/45 [00:01<00:00, 23.45it/s, loss=0.0621, acc=99.6]\n"
     ]
    },
    {
     "name": "stdout",
     "output_type": "stream",
     "text": [
      "Epoch 66: Train Loss=0.0852, Train Acc=99.58%, Test Acc=57.78%, Test F1=0.5768\n"
     ]
    },
    {
     "name": "stderr",
     "output_type": "stream",
     "text": [
      "Epoch 67: 100%|██████████| 45/45 [00:01<00:00, 23.52it/s, loss=0.0549, acc=99.3]\n"
     ]
    },
    {
     "name": "stdout",
     "output_type": "stream",
     "text": [
      "Epoch 67: Train Loss=0.0944, Train Acc=99.31%, Test Acc=56.67%, Test F1=0.5672\n"
     ]
    },
    {
     "name": "stderr",
     "output_type": "stream",
     "text": [
      "Epoch 68: 100%|██████████| 45/45 [00:01<00:00, 23.44it/s, loss=0.104, acc=99.2]\n"
     ]
    },
    {
     "name": "stdout",
     "output_type": "stream",
     "text": [
      "Epoch 68: Train Loss=0.0851, Train Acc=99.17%, Test Acc=56.11%, Test F1=0.5674\n"
     ]
    },
    {
     "name": "stderr",
     "output_type": "stream",
     "text": [
      "Epoch 69: 100%|██████████| 45/45 [00:01<00:00, 23.33it/s, loss=0.12, acc=98.9]\n"
     ]
    },
    {
     "name": "stdout",
     "output_type": "stream",
     "text": [
      "Epoch 69: Train Loss=0.0827, Train Acc=98.89%, Test Acc=53.89%, Test F1=0.5444\n"
     ]
    },
    {
     "name": "stderr",
     "output_type": "stream",
     "text": [
      "Epoch 70: 100%|██████████| 45/45 [00:01<00:00, 23.62it/s, loss=0.0263, acc=99.7]\n"
     ]
    },
    {
     "name": "stdout",
     "output_type": "stream",
     "text": [
      "Epoch 70: Train Loss=0.0700, Train Acc=99.72%, Test Acc=56.67%, Test F1=0.5729\n"
     ]
    },
    {
     "name": "stderr",
     "output_type": "stream",
     "text": [
      "Epoch 71: 100%|██████████| 45/45 [00:01<00:00, 23.62it/s, loss=0.0896, acc=98.9]\n"
     ]
    },
    {
     "name": "stdout",
     "output_type": "stream",
     "text": [
      "Epoch 71: Train Loss=0.0880, Train Acc=98.89%, Test Acc=55.00%, Test F1=0.5536\n"
     ]
    },
    {
     "name": "stderr",
     "output_type": "stream",
     "text": [
      "Epoch 72: 100%|██████████| 45/45 [00:01<00:00, 23.58it/s, loss=0.157, acc=99]\n"
     ]
    },
    {
     "name": "stdout",
     "output_type": "stream",
     "text": [
      "Epoch 72: Train Loss=0.0782, Train Acc=99.03%, Test Acc=53.89%, Test F1=0.5407\n"
     ]
    },
    {
     "name": "stderr",
     "output_type": "stream",
     "text": [
      "Epoch 73: 100%|██████████| 45/45 [00:01<00:00, 23.43it/s, loss=0.0709, acc=98.9]\n"
     ]
    },
    {
     "name": "stdout",
     "output_type": "stream",
     "text": [
      "Epoch 73: Train Loss=0.0811, Train Acc=98.89%, Test Acc=57.22%, Test F1=0.5742\n"
     ]
    },
    {
     "name": "stderr",
     "output_type": "stream",
     "text": [
      "Epoch 74: 100%|██████████| 45/45 [00:01<00:00, 23.58it/s, loss=0.0823, acc=98.8]\n"
     ]
    },
    {
     "name": "stdout",
     "output_type": "stream",
     "text": [
      "Epoch 74: Train Loss=0.0850, Train Acc=98.75%, Test Acc=58.33%, Test F1=0.5890\n"
     ]
    },
    {
     "name": "stderr",
     "output_type": "stream",
     "text": [
      "Epoch 75: 100%|██████████| 45/45 [00:01<00:00, 23.55it/s, loss=0.216, acc=98.3]\n"
     ]
    },
    {
     "name": "stdout",
     "output_type": "stream",
     "text": [
      "Epoch 75: Train Loss=0.0861, Train Acc=98.33%, Test Acc=55.56%, Test F1=0.5622\n"
     ]
    },
    {
     "name": "stderr",
     "output_type": "stream",
     "text": [
      "Epoch 76: 100%|██████████| 45/45 [00:01<00:00, 23.32it/s, loss=0.0692, acc=99.7]\n"
     ]
    },
    {
     "name": "stdout",
     "output_type": "stream",
     "text": [
      "Epoch 76: Train Loss=0.0625, Train Acc=99.72%, Test Acc=56.67%, Test F1=0.5725\n"
     ]
    },
    {
     "name": "stderr",
     "output_type": "stream",
     "text": [
      "Epoch 77: 100%|██████████| 45/45 [00:01<00:00, 23.38it/s, loss=0.0521, acc=99.3]\n"
     ]
    },
    {
     "name": "stdout",
     "output_type": "stream",
     "text": [
      "Epoch 77: Train Loss=0.0668, Train Acc=99.31%, Test Acc=55.56%, Test F1=0.5683\n"
     ]
    },
    {
     "name": "stderr",
     "output_type": "stream",
     "text": [
      "Epoch 78: 100%|██████████| 45/45 [00:01<00:00, 23.50it/s, loss=0.0341, acc=99.2]\n"
     ]
    },
    {
     "name": "stdout",
     "output_type": "stream",
     "text": [
      "Epoch 78: Train Loss=0.0717, Train Acc=99.17%, Test Acc=56.11%, Test F1=0.5722\n"
     ]
    },
    {
     "name": "stderr",
     "output_type": "stream",
     "text": [
      "Epoch 79: 100%|██████████| 45/45 [00:01<00:00, 23.55it/s, loss=0.0943, acc=99.3]\n"
     ]
    },
    {
     "name": "stdout",
     "output_type": "stream",
     "text": [
      "Epoch 79: Train Loss=0.0618, Train Acc=99.31%, Test Acc=56.11%, Test F1=0.5654\n"
     ]
    },
    {
     "name": "stderr",
     "output_type": "stream",
     "text": [
      "Epoch 80: 100%|██████████| 45/45 [00:01<00:00, 23.44it/s, loss=0.0191, acc=98.8]\n"
     ]
    },
    {
     "name": "stdout",
     "output_type": "stream",
     "text": [
      "Epoch 80: Train Loss=0.0752, Train Acc=98.75%, Test Acc=57.78%, Test F1=0.5825\n"
     ]
    },
    {
     "name": "stderr",
     "output_type": "stream",
     "text": [
      "Epoch 81: 100%|██████████| 45/45 [00:01<00:00, 23.41it/s, loss=0.0547, acc=99]\n"
     ]
    },
    {
     "name": "stdout",
     "output_type": "stream",
     "text": [
      "Epoch 81: Train Loss=0.0732, Train Acc=99.03%, Test Acc=53.89%, Test F1=0.5473\n"
     ]
    },
    {
     "name": "stderr",
     "output_type": "stream",
     "text": [
      "Epoch 82: 100%|██████████| 45/45 [00:01<00:00, 23.51it/s, loss=0.167, acc=99]\n"
     ]
    },
    {
     "name": "stdout",
     "output_type": "stream",
     "text": [
      "Epoch 82: Train Loss=0.0614, Train Acc=99.03%, Test Acc=57.22%, Test F1=0.5766\n"
     ]
    },
    {
     "name": "stderr",
     "output_type": "stream",
     "text": [
      "Epoch 83: 100%|██████████| 45/45 [00:01<00:00, 23.62it/s, loss=0.0388, acc=99.6]\n"
     ]
    },
    {
     "name": "stdout",
     "output_type": "stream",
     "text": [
      "Epoch 83: Train Loss=0.0633, Train Acc=99.58%, Test Acc=55.00%, Test F1=0.5588\n"
     ]
    },
    {
     "name": "stderr",
     "output_type": "stream",
     "text": [
      "Epoch 84: 100%|██████████| 45/45 [00:01<00:00, 23.30it/s, loss=0.033, acc=100]\n"
     ]
    },
    {
     "name": "stdout",
     "output_type": "stream",
     "text": [
      "Epoch 84: Train Loss=0.0485, Train Acc=100.00%, Test Acc=56.11%, Test F1=0.5627\n"
     ]
    },
    {
     "name": "stderr",
     "output_type": "stream",
     "text": [
      "Epoch 85: 100%|██████████| 45/45 [00:01<00:00, 23.29it/s, loss=0.0914, acc=99.4]\n"
     ]
    },
    {
     "name": "stdout",
     "output_type": "stream",
     "text": [
      "Epoch 85: Train Loss=0.0515, Train Acc=99.44%, Test Acc=57.22%, Test F1=0.5773\n"
     ]
    },
    {
     "name": "stderr",
     "output_type": "stream",
     "text": [
      "Epoch 86: 100%|██████████| 45/45 [00:01<00:00, 23.53it/s, loss=0.017, acc=99.4]\n"
     ]
    },
    {
     "name": "stdout",
     "output_type": "stream",
     "text": [
      "Epoch 86: Train Loss=0.0545, Train Acc=99.44%, Test Acc=56.11%, Test F1=0.5674\n"
     ]
    },
    {
     "name": "stderr",
     "output_type": "stream",
     "text": [
      "Epoch 87: 100%|██████████| 45/45 [00:01<00:00, 23.50it/s, loss=0.0558, acc=99.7]\n"
     ]
    },
    {
     "name": "stdout",
     "output_type": "stream",
     "text": [
      "Epoch 87: Train Loss=0.0534, Train Acc=99.72%, Test Acc=56.67%, Test F1=0.5710\n"
     ]
    },
    {
     "name": "stderr",
     "output_type": "stream",
     "text": [
      "Epoch 88: 100%|██████████| 45/45 [00:01<00:00, 23.33it/s, loss=0.0612, acc=99.9]\n"
     ]
    },
    {
     "name": "stdout",
     "output_type": "stream",
     "text": [
      "Epoch 88: Train Loss=0.0478, Train Acc=99.86%, Test Acc=57.22%, Test F1=0.5766\n"
     ]
    },
    {
     "name": "stderr",
     "output_type": "stream",
     "text": [
      "Epoch 89: 100%|██████████| 45/45 [00:01<00:00, 23.24it/s, loss=0.0443, acc=99.3]\n"
     ]
    },
    {
     "name": "stdout",
     "output_type": "stream",
     "text": [
      "Epoch 89: Train Loss=0.0570, Train Acc=99.31%, Test Acc=57.22%, Test F1=0.5756\n"
     ]
    },
    {
     "name": "stderr",
     "output_type": "stream",
     "text": [
      "Epoch 90: 100%|██████████| 45/45 [00:01<00:00, 23.57it/s, loss=0.0499, acc=99]\n"
     ]
    },
    {
     "name": "stdout",
     "output_type": "stream",
     "text": [
      "Epoch 90: Train Loss=0.0598, Train Acc=99.03%, Test Acc=57.22%, Test F1=0.5751\n"
     ]
    },
    {
     "name": "stderr",
     "output_type": "stream",
     "text": [
      "Epoch 91: 100%|██████████| 45/45 [00:01<00:00, 23.67it/s, loss=0.0765, acc=99.4]\n"
     ]
    },
    {
     "name": "stdout",
     "output_type": "stream",
     "text": [
      "Epoch 91: Train Loss=0.0564, Train Acc=99.44%, Test Acc=57.78%, Test F1=0.5842\n"
     ]
    },
    {
     "name": "stderr",
     "output_type": "stream",
     "text": [
      "Epoch 92: 100%|██████████| 45/45 [00:01<00:00, 23.46it/s, loss=0.0574, acc=99.2]\n"
     ]
    },
    {
     "name": "stdout",
     "output_type": "stream",
     "text": [
      "Epoch 92: Train Loss=0.0498, Train Acc=99.17%, Test Acc=58.33%, Test F1=0.5871\n"
     ]
    },
    {
     "name": "stderr",
     "output_type": "stream",
     "text": [
      "Epoch 93: 100%|██████████| 45/45 [00:01<00:00, 23.42it/s, loss=0.0186, acc=99.4]\n"
     ]
    },
    {
     "name": "stdout",
     "output_type": "stream",
     "text": [
      "Epoch 93: Train Loss=0.0545, Train Acc=99.44%, Test Acc=58.33%, Test F1=0.5882\n"
     ]
    },
    {
     "name": "stderr",
     "output_type": "stream",
     "text": [
      "Epoch 94: 100%|██████████| 45/45 [00:01<00:00, 23.45it/s, loss=0.0268, acc=99.7]\n"
     ]
    },
    {
     "name": "stdout",
     "output_type": "stream",
     "text": [
      "Epoch 94: Train Loss=0.0563, Train Acc=99.72%, Test Acc=56.67%, Test F1=0.5692\n"
     ]
    },
    {
     "name": "stderr",
     "output_type": "stream",
     "text": [
      "Epoch 95: 100%|██████████| 45/45 [00:01<00:00, 23.49it/s, loss=0.0164, acc=99.9]\n"
     ]
    },
    {
     "name": "stdout",
     "output_type": "stream",
     "text": [
      "Epoch 95: Train Loss=0.0365, Train Acc=99.86%, Test Acc=56.67%, Test F1=0.5703\n"
     ]
    },
    {
     "name": "stderr",
     "output_type": "stream",
     "text": [
      "Epoch 96: 100%|██████████| 45/45 [00:01<00:00, 23.44it/s, loss=0.0333, acc=99.3]\n"
     ]
    },
    {
     "name": "stdout",
     "output_type": "stream",
     "text": [
      "Epoch 96: Train Loss=0.0498, Train Acc=99.31%, Test Acc=57.22%, Test F1=0.5774\n"
     ]
    },
    {
     "name": "stderr",
     "output_type": "stream",
     "text": [
      "Epoch 97: 100%|██████████| 45/45 [00:01<00:00, 23.40it/s, loss=0.0786, acc=99.3]\n"
     ]
    },
    {
     "name": "stdout",
     "output_type": "stream",
     "text": [
      "Epoch 97: Train Loss=0.0577, Train Acc=99.31%, Test Acc=56.67%, Test F1=0.5721\n"
     ]
    },
    {
     "name": "stderr",
     "output_type": "stream",
     "text": [
      "Epoch 98: 100%|██████████| 45/45 [00:01<00:00, 23.42it/s, loss=0.0546, acc=99.4]\n"
     ]
    },
    {
     "name": "stdout",
     "output_type": "stream",
     "text": [
      "Epoch 98: Train Loss=0.0499, Train Acc=99.44%, Test Acc=56.67%, Test F1=0.5717\n"
     ]
    },
    {
     "name": "stderr",
     "output_type": "stream",
     "text": [
      "Epoch 99: 100%|██████████| 45/45 [00:01<00:00, 23.50it/s, loss=0.0308, acc=99.7]\n"
     ]
    },
    {
     "name": "stdout",
     "output_type": "stream",
     "text": [
      "Epoch 99: Train Loss=0.0457, Train Acc=99.72%, Test Acc=55.56%, Test F1=0.5612\n"
     ]
    },
    {
     "name": "stderr",
     "output_type": "stream",
     "text": [
      "Epoch 100: 100%|██████████| 45/45 [00:01<00:00, 23.50it/s, loss=0.0243, acc=99.2]\n"
     ]
    },
    {
     "name": "stdout",
     "output_type": "stream",
     "text": [
      "Epoch 100: Train Loss=0.0605, Train Acc=99.17%, Test Acc=57.78%, Test F1=0.5843\n"
     ]
    },
    {
     "name": "stderr",
     "output_type": "stream",
     "text": [
      "Epoch 101: 100%|██████████| 45/45 [00:01<00:00, 23.46it/s, loss=0.0288, acc=99.7]\n"
     ]
    },
    {
     "name": "stdout",
     "output_type": "stream",
     "text": [
      "Epoch 101: Train Loss=0.0442, Train Acc=99.72%, Test Acc=57.78%, Test F1=0.5830\n"
     ]
    },
    {
     "name": "stderr",
     "output_type": "stream",
     "text": [
      "Epoch 102: 100%|██████████| 45/45 [00:01<00:00, 23.60it/s, loss=0.043, acc=100]\n"
     ]
    },
    {
     "name": "stdout",
     "output_type": "stream",
     "text": [
      "Epoch 102: Train Loss=0.0384, Train Acc=100.00%, Test Acc=56.11%, Test F1=0.5670\n"
     ]
    },
    {
     "name": "stderr",
     "output_type": "stream",
     "text": [
      "Epoch 103: 100%|██████████| 45/45 [00:01<00:00, 23.38it/s, loss=0.0198, acc=99.9]\n"
     ]
    },
    {
     "name": "stdout",
     "output_type": "stream",
     "text": [
      "Epoch 103: Train Loss=0.0373, Train Acc=99.86%, Test Acc=57.22%, Test F1=0.5759\n"
     ]
    },
    {
     "name": "stderr",
     "output_type": "stream",
     "text": [
      "Epoch 104: 100%|██████████| 45/45 [00:01<00:00, 23.36it/s, loss=0.0975, acc=99.6]\n"
     ]
    },
    {
     "name": "stdout",
     "output_type": "stream",
     "text": [
      "Epoch 104: Train Loss=0.0558, Train Acc=99.58%, Test Acc=56.11%, Test F1=0.5671\n"
     ]
    },
    {
     "name": "stderr",
     "output_type": "stream",
     "text": [
      "Epoch 105: 100%|██████████| 45/45 [00:01<00:00, 23.46it/s, loss=0.021, acc=99.7]\n"
     ]
    },
    {
     "name": "stdout",
     "output_type": "stream",
     "text": [
      "Epoch 105: Train Loss=0.0479, Train Acc=99.72%, Test Acc=57.78%, Test F1=0.5810\n"
     ]
    },
    {
     "name": "stderr",
     "output_type": "stream",
     "text": [
      "Epoch 106: 100%|██████████| 45/45 [00:01<00:00, 23.44it/s, loss=0.0283, acc=99.7]\n"
     ]
    },
    {
     "name": "stdout",
     "output_type": "stream",
     "text": [
      "Epoch 106: Train Loss=0.0470, Train Acc=99.72%, Test Acc=56.11%, Test F1=0.5665\n"
     ]
    },
    {
     "name": "stderr",
     "output_type": "stream",
     "text": [
      "Epoch 107: 100%|██████████| 45/45 [00:01<00:00, 23.58it/s, loss=0.0295, acc=99.6]\n"
     ]
    },
    {
     "name": "stdout",
     "output_type": "stream",
     "text": [
      "Epoch 107: Train Loss=0.0490, Train Acc=99.58%, Test Acc=56.11%, Test F1=0.5647\n"
     ]
    },
    {
     "name": "stderr",
     "output_type": "stream",
     "text": [
      "Epoch 108: 100%|██████████| 45/45 [00:01<00:00, 23.28it/s, loss=0.0339, acc=99.6]\n"
     ]
    },
    {
     "name": "stdout",
     "output_type": "stream",
     "text": [
      "Epoch 108: Train Loss=0.0451, Train Acc=99.58%, Test Acc=56.67%, Test F1=0.5726\n"
     ]
    },
    {
     "name": "stderr",
     "output_type": "stream",
     "text": [
      "Epoch 109: 100%|██████████| 45/45 [00:01<00:00, 23.37it/s, loss=0.0745, acc=99.3]\n"
     ]
    },
    {
     "name": "stdout",
     "output_type": "stream",
     "text": [
      "Epoch 109: Train Loss=0.0526, Train Acc=99.31%, Test Acc=55.56%, Test F1=0.5607\n"
     ]
    },
    {
     "name": "stderr",
     "output_type": "stream",
     "text": [
      "Epoch 110: 100%|██████████| 45/45 [00:01<00:00, 23.31it/s, loss=0.0173, acc=99]\n"
     ]
    },
    {
     "name": "stdout",
     "output_type": "stream",
     "text": [
      "Epoch 110: Train Loss=0.0586, Train Acc=99.03%, Test Acc=56.67%, Test F1=0.5719\n"
     ]
    },
    {
     "name": "stderr",
     "output_type": "stream",
     "text": [
      "Epoch 111: 100%|██████████| 45/45 [00:01<00:00, 23.40it/s, loss=0.0238, acc=99.6]\n"
     ]
    },
    {
     "name": "stdout",
     "output_type": "stream",
     "text": [
      "Epoch 111: Train Loss=0.0478, Train Acc=99.58%, Test Acc=57.22%, Test F1=0.5781\n"
     ]
    },
    {
     "name": "stderr",
     "output_type": "stream",
     "text": [
      "Epoch 112: 100%|██████████| 45/45 [00:01<00:00, 23.28it/s, loss=0.034, acc=99.4]\n"
     ]
    },
    {
     "name": "stdout",
     "output_type": "stream",
     "text": [
      "Epoch 112: Train Loss=0.0470, Train Acc=99.44%, Test Acc=56.11%, Test F1=0.5678\n"
     ]
    },
    {
     "name": "stderr",
     "output_type": "stream",
     "text": [
      "Epoch 113: 100%|██████████| 45/45 [00:01<00:00, 23.10it/s, loss=0.0194, acc=100]\n"
     ]
    },
    {
     "name": "stdout",
     "output_type": "stream",
     "text": [
      "Epoch 113: Train Loss=0.0410, Train Acc=100.00%, Test Acc=58.33%, Test F1=0.5880\n"
     ]
    },
    {
     "name": "stderr",
     "output_type": "stream",
     "text": [
      "Epoch 114: 100%|██████████| 45/45 [00:01<00:00, 23.25it/s, loss=0.0236, acc=99.4]\n"
     ]
    },
    {
     "name": "stdout",
     "output_type": "stream",
     "text": [
      "Epoch 114: Train Loss=0.0495, Train Acc=99.44%, Test Acc=57.78%, Test F1=0.5838\n"
     ]
    },
    {
     "name": "stderr",
     "output_type": "stream",
     "text": [
      "Epoch 115: 100%|██████████| 45/45 [00:01<00:00, 23.19it/s, loss=0.0223, acc=99.7]\n"
     ]
    },
    {
     "name": "stdout",
     "output_type": "stream",
     "text": [
      "Epoch 115: Train Loss=0.0495, Train Acc=99.72%, Test Acc=57.22%, Test F1=0.5796\n"
     ]
    },
    {
     "name": "stderr",
     "output_type": "stream",
     "text": [
      "Epoch 116: 100%|██████████| 45/45 [00:01<00:00, 23.22it/s, loss=0.0324, acc=99.7]\n"
     ]
    },
    {
     "name": "stdout",
     "output_type": "stream",
     "text": [
      "Epoch 116: Train Loss=0.0459, Train Acc=99.72%, Test Acc=57.22%, Test F1=0.5787\n"
     ]
    },
    {
     "name": "stderr",
     "output_type": "stream",
     "text": [
      "Epoch 117: 100%|██████████| 45/45 [00:01<00:00, 23.11it/s, loss=0.0881, acc=99.6]\n"
     ]
    },
    {
     "name": "stdout",
     "output_type": "stream",
     "text": [
      "Epoch 117: Train Loss=0.0486, Train Acc=99.58%, Test Acc=57.22%, Test F1=0.5785\n"
     ]
    },
    {
     "name": "stderr",
     "output_type": "stream",
     "text": [
      "Epoch 118: 100%|██████████| 45/45 [00:01<00:00, 23.38it/s, loss=0.097, acc=99.9]\n"
     ]
    },
    {
     "name": "stdout",
     "output_type": "stream",
     "text": [
      "Epoch 118: Train Loss=0.0459, Train Acc=99.86%, Test Acc=57.78%, Test F1=0.5835\n"
     ]
    },
    {
     "name": "stderr",
     "output_type": "stream",
     "text": [
      "Epoch 119: 100%|██████████| 45/45 [00:01<00:00, 23.20it/s, loss=0.0188, acc=99.7]\n"
     ]
    },
    {
     "name": "stdout",
     "output_type": "stream",
     "text": [
      "Epoch 119: Train Loss=0.0438, Train Acc=99.72%, Test Acc=57.22%, Test F1=0.5782\n"
     ]
    },
    {
     "name": "stderr",
     "output_type": "stream",
     "text": [
      "Epoch 120: 100%|██████████| 45/45 [00:01<00:00, 23.43it/s, loss=0.0303, acc=99.6]\n"
     ]
    },
    {
     "name": "stdout",
     "output_type": "stream",
     "text": [
      "Epoch 120: Train Loss=0.0527, Train Acc=99.58%, Test Acc=57.22%, Test F1=0.5787\n"
     ]
    },
    {
     "name": "stderr",
     "output_type": "stream",
     "text": [
      "Epoch 121: 100%|██████████| 45/45 [00:01<00:00, 23.43it/s, loss=0.0158, acc=99.2]\n"
     ]
    },
    {
     "name": "stdout",
     "output_type": "stream",
     "text": [
      "Epoch 121: Train Loss=0.0618, Train Acc=99.17%, Test Acc=56.67%, Test F1=0.5729\n"
     ]
    },
    {
     "name": "stderr",
     "output_type": "stream",
     "text": [
      "Epoch 122: 100%|██████████| 45/45 [00:01<00:00, 23.52it/s, loss=0.122, acc=99.6]\n"
     ]
    },
    {
     "name": "stdout",
     "output_type": "stream",
     "text": [
      "Epoch 122: Train Loss=0.0532, Train Acc=99.58%, Test Acc=57.22%, Test F1=0.5782\n"
     ]
    },
    {
     "name": "stderr",
     "output_type": "stream",
     "text": [
      "Epoch 123: 100%|██████████| 45/45 [00:01<00:00, 23.54it/s, loss=0.0911, acc=100]\n"
     ]
    },
    {
     "name": "stdout",
     "output_type": "stream",
     "text": [
      "Epoch 123: Train Loss=0.0477, Train Acc=100.00%, Test Acc=57.22%, Test F1=0.5784\n"
     ]
    },
    {
     "name": "stderr",
     "output_type": "stream",
     "text": [
      "Epoch 124: 100%|██████████| 45/45 [00:01<00:00, 23.39it/s, loss=0.0476, acc=99.9]\n"
     ]
    },
    {
     "name": "stdout",
     "output_type": "stream",
     "text": [
      "Epoch 124: Train Loss=0.0478, Train Acc=99.86%, Test Acc=57.78%, Test F1=0.5817\n",
      "Early stopping at epoch 124\n",
      "\n",
      "Training Summary:\n",
      "  Best Model: Epoch 74, Acc=58.33%, F1=0.5890\n",
      "  Highest: Epoch 74, Acc=58.33%, F1=0.5890\n",
      "\n",
      "Final Results:\n",
      "  Best: Acc=57.78%, F1=0.5817\n",
      "  Highest: Acc=58.33%, F1=0.5890\n",
      "\n",
      "Classification Report:\n",
      "                precision    recall  f1-score   support\n",
      "\n",
      "  Angry (High)       0.60      0.45      0.51        20\n",
      "   Angry (Low)       0.35      0.45      0.39        20\n",
      "Disgust (High)       0.56      0.45      0.50        20\n",
      " Disgust (Low)       0.56      0.45      0.50        20\n",
      "  Happy (High)       0.90      0.90      0.90        20\n",
      "   Happy (Low)       0.28      0.35      0.31        20\n",
      "       Neutral       0.65      0.65      0.65        20\n",
      "    Sad (High)       0.85      0.85      0.85        20\n",
      "     Sad (Low)       0.59      0.65      0.62        20\n",
      "\n",
      "      accuracy                           0.58       180\n",
      "     macro avg       0.59      0.58      0.58       180\n",
      "  weighted avg       0.59      0.58      0.58       180\n",
      "\n",
      "\n",
      "======================================================================\n",
      "FEATURE IMPORTANCE ANALYSIS\n",
      "======================================================================\n",
      "No experiments with feature gating to visualize\n",
      "\n",
      "======================================================================\n",
      "RESULTS SUMMARY - KBES\n",
      "======================================================================\n",
      "\n",
      "Rank Feature Type         Architecture Params     Final Acc  Highest Acc \n",
      "--------------------------------------------------------------------------------\n",
      "1    All Features         HybridFusion 1.2M       53.89%       58.33%\n",
      "2    Mel-Spectrogram      CNN+LSTM     6.9M       57.78%       58.33%\n",
      "3    Bangla Handcrafted   HybridFusion 0.6M       48.89%       53.33%\n",
      "4    MFCC                 HybridFusion 0.7M       49.44%       51.67%\n",
      "\n",
      "======================================================================\n",
      "IMPROVEMENTS OVER MEL-SPECTROGRAM:\n",
      "======================================================================\n",
      "All Features: +0.00% ✗\n",
      "Bangla Handcrafted: -5.00% ✗\n",
      "MFCC: -6.67% ✗\n",
      "\n",
      "Results saved to kbes_results.pkl\n"
     ]
    }
   ],
   "source": [
    "\"\"\"\n",
    "BANGLA SER: CNN+LSTM for Spectrograms, Deep DNN with Feature Gating for Static Features\n",
    "Fixed architecture - no fake temporal sequences for 1D features\n",
    "Enhanced with Feature Gating mechanism for better feature selection with limited data\n",
    "\"\"\"\n",
    "\n",
    "import numpy as np\n",
    "import pandas as pd\n",
    "import torch\n",
    "import torch.nn as nn\n",
    "import torch.nn.functional as F\n",
    "from torch.utils.data import Dataset, DataLoader, TensorDataset\n",
    "import librosa\n",
    "from sklearn.preprocessing import StandardScaler, RobustScaler\n",
    "from sklearn.model_selection import train_test_split\n",
    "from sklearn.metrics import accuracy_score, f1_score, classification_report, confusion_matrix\n",
    "import matplotlib.pyplot as plt\n",
    "import seaborn as sns\n",
    "from pathlib import Path\n",
    "from tqdm import tqdm\n",
    "import pickle\n",
    "import warnings\n",
    "import math\n",
    "warnings.filterwarnings('ignore')\n",
    "\n",
    "# Set seeds\n",
    "np.random.seed(42)\n",
    "torch.manual_seed(42)\n",
    "if torch.cuda.is_available():\n",
    "    torch.cuda.manual_seed(42)\n",
    "    torch.backends.cudnn.benchmark = True\n",
    "\n",
    "# ==================== Feature Preparation ====================\n",
    "\n",
    "def prepare_features_from_cache(cache_path='comprehensive_features.pkl'):\n",
    "    \"\"\"Load and prepare different feature sets from cache\"\"\"\n",
    "    \n",
    "    print(f\"Loading features from {cache_path}\")\n",
    "    with open(cache_path, 'rb') as f:\n",
    "        data = pickle.load(f)\n",
    "    \n",
    "    features = {}\n",
    "    \n",
    "    # 1. Mel-spectrogram (3-channel: original + delta + delta-delta)\n",
    "    if 'mel_3channel' in data:\n",
    "        features['mel_spectrogram'] = data['mel_3channel']\n",
    "        print(f\"Mel-spectrogram shape: {features['mel_spectrogram'].shape}\")\n",
    "    \n",
    "    # 2. MFCCs and other acoustic features\n",
    "    if 'acoustic_features' in data and 'feature_names' in data:\n",
    "        acoustic_features = data['acoustic_features']\n",
    "        feature_names = data['feature_names']\n",
    "        \n",
    "        # Extract MFCC-related features\n",
    "        mfcc_indices = [i for i, name in enumerate(feature_names) if 'mfcc' in name.lower()]\n",
    "        if mfcc_indices:\n",
    "            features['mfcc'] = acoustic_features[:, mfcc_indices]\n",
    "            features['mfcc_names'] = [feature_names[i] for i in mfcc_indices]\n",
    "            print(f\"MFCC features shape: {features['mfcc'].shape}\")\n",
    "        \n",
    "        # 3. Handcrafted Bangla features (all non-MFCC acoustic features)\n",
    "        bangla_indices = [i for i, name in enumerate(feature_names) \n",
    "                         if 'mfcc' not in name.lower()]\n",
    "        features['bangla_handcrafted'] = acoustic_features[:, bangla_indices]\n",
    "        features['bangla_names'] = [feature_names[i] for i in bangla_indices]\n",
    "        print(f\"Bangla handcrafted features shape: {features['bangla_handcrafted'].shape}\")\n",
    "        \n",
    "        # 4. All acoustic features combined\n",
    "        features['all_acoustic'] = acoustic_features\n",
    "        features['all_names'] = feature_names\n",
    "        print(f\"All acoustic features shape: {features['all_acoustic'].shape}\")\n",
    "    \n",
    "    # Labels\n",
    "    if 'labels' in data:\n",
    "        features['labels'] = data['labels']\n",
    "    else:\n",
    "        raise ValueError(\"Could not find labels in the cached data\")\n",
    "    \n",
    "    features['emotion_str'] = data.get('emotion_str', None)\n",
    "    \n",
    "    if not isinstance(features['labels'], np.ndarray):\n",
    "        features['labels'] = np.array(features['labels'])\n",
    "    \n",
    "    # Detect number of classes automatically\n",
    "    unique_labels = np.unique(features['labels'])\n",
    "    features['num_classes'] = len(unique_labels)\n",
    "    features['unique_labels'] = unique_labels\n",
    "    \n",
    "    print(f\"Total samples: {len(features['labels'])}\")\n",
    "    print(f\"Number of emotion classes: {features['num_classes']}\")\n",
    "    print(f\"Unique emotion labels: {features['unique_labels']}\")\n",
    "    \n",
    "    # Try to get emotion names if available\n",
    "    if 'emotion_names' in data:\n",
    "        features['emotion_names'] = data['emotion_names']\n",
    "    elif features['emotion_str'] is not None:\n",
    "        # Extract unique emotion names from emotion_str\n",
    "        unique_emotions = np.unique(features['emotion_str'])\n",
    "        features['emotion_names'] = list(unique_emotions)\n",
    "    else:\n",
    "        # Generate generic names based on label numbers\n",
    "        features['emotion_names'] = [f'Emotion_{i}' for i in unique_labels]\n",
    "    \n",
    "    print(f\"Emotion names: {features['emotion_names'][:10]}...\")  # Show first 10\n",
    "    \n",
    "    return features\n",
    "\n",
    "\"\"\"\n",
    "Adaptive HybridFusion Architecture for Speech Emotion Recognition\n",
    "==================================================================\n",
    "\n",
    "Combines:\n",
    "1. CNN+LSTM for mel-spectrograms (temporal features)\n",
    "2. Novel HybridFusion for 1D features (MFCC + acoustic features)\n",
    "\n",
    "Feature Configurations Supported:\n",
    "- MFCC only: 80 dimensions\n",
    "- Handcrafted only: 51 dimensions  \n",
    "- Combined: 131 dimensions (80 MFCC + 51 handcrafted)\n",
    "\n",
    "Key Innovations for 1D features:\n",
    "- Feature-Aware Dual-Stream Processing (Spectral vs Prosodic)\n",
    "- Cross-Modal Feature Attention between feature types\n",
    "- Selective KAN Application (only where complexity needed)\n",
    "- Emotion-Specific Gating for adaptive routing\n",
    "\"\"\"\n",
    "\n",
    "# ==================== Lightweight KAN Component ====================\n",
    "\n",
    "class LightweightKAN(nn.Module):\n",
    "    \"\"\"\n",
    "    Simplified KAN layer optimized for efficiency\n",
    "    Uses fewer B-spline control points and shared parameters\n",
    "    \"\"\"\n",
    "    def __init__(self, in_features, out_features, grid_size=3, share_splines=True):\n",
    "        super().__init__()\n",
    "        self.in_features = in_features\n",
    "        self.out_features = out_features\n",
    "        self.share_splines = share_splines\n",
    "        \n",
    "        if share_splines:\n",
    "            # Share spline parameters across input dimensions for efficiency\n",
    "            self.spline_weight = nn.Parameter(torch.randn(1, out_features, grid_size) * 0.1)\n",
    "        else:\n",
    "            self.spline_weight = nn.Parameter(torch.randn(in_features, out_features, grid_size) * 0.1)\n",
    "        \n",
    "        # Efficient linear transformation\n",
    "        self.linear = nn.Linear(in_features, out_features, bias=False)\n",
    "        self.scale = nn.Parameter(torch.ones(1, out_features) * 0.5)\n",
    "        \n",
    "    def forward(self, x):\n",
    "        # Linear component (efficient)\n",
    "        linear_out = self.linear(x)\n",
    "        \n",
    "        # Simplified B-spline activation (lightweight)\n",
    "        x_norm = torch.tanh(x.mean(dim=-1, keepdim=True))  # Reduce computation\n",
    "        spline_act = torch.sigmoid(x_norm) * self.scale\n",
    "        \n",
    "        # Combine\n",
    "        return linear_out * (1 + spline_act)\n",
    "\n",
    "\n",
    "# ==================== Feature-Specific Processing Blocks ====================\n",
    "\n",
    "class SpectralProcessingBlock(nn.Module):\n",
    "    \"\"\"\n",
    "    Optimized for MFCC/Spectral features\n",
    "    Uses efficient DNN with structured sparsity\n",
    "    \"\"\"\n",
    "    def __init__(self, in_features, out_features, dropout=0.2):\n",
    "        super().__init__()\n",
    "        \n",
    "        # Efficient factorized layers (reduces parameters)\n",
    "        mid_features = int(math.sqrt(in_features * out_features))\n",
    "        \n",
    "        self.process = nn.Sequential(\n",
    "            nn.Linear(in_features, mid_features),\n",
    "            nn.BatchNorm1d(mid_features),\n",
    "            nn.GELU(),\n",
    "            nn.Dropout(dropout),\n",
    "            nn.Linear(mid_features, out_features),\n",
    "            nn.BatchNorm1d(out_features)\n",
    "        )\n",
    "        \n",
    "        # Residual with dimension matching\n",
    "        self.residual = nn.Linear(in_features, out_features) if in_features != out_features else nn.Identity()\n",
    "        \n",
    "    def forward(self, x):\n",
    "        return F.gelu(self.process(x) + self.residual(x))\n",
    "\n",
    "\n",
    "class ProsodicProcessingBlock(nn.Module):\n",
    "    \"\"\"\n",
    "    Optimized for acoustic/prosodic features\n",
    "    Uses lightweight KAN for complex non-linear patterns\n",
    "    \"\"\"\n",
    "    def __init__(self, in_features, out_features, dropout=0.2):\n",
    "        super().__init__()\n",
    "        \n",
    "        self.kan = LightweightKAN(in_features, out_features, grid_size=3)\n",
    "        self.norm = nn.BatchNorm1d(out_features)\n",
    "        self.dropout = nn.Dropout(dropout)\n",
    "        \n",
    "        # Residual with dimension matching\n",
    "        self.residual = nn.Linear(in_features, out_features) if in_features != out_features else nn.Identity()\n",
    "        \n",
    "    def forward(self, x):\n",
    "        out = self.kan(x)\n",
    "        out = self.norm(out)\n",
    "        out = self.dropout(out)\n",
    "        return F.gelu(out + self.residual(x))\n",
    "\n",
    "\n",
    "# ==================== Novel Cross-Modal Attention ====================\n",
    "\n",
    "class CrossModalFeatureAttention(nn.Module):\n",
    "    \"\"\"\n",
    "    Learns relationships between different feature types\n",
    "    Lightweight cross-attention mechanism\n",
    "    \"\"\"\n",
    "    def __init__(self, dim, num_heads=4):\n",
    "        super().__init__()\n",
    "        self.num_heads = num_heads\n",
    "        self.dim = dim\n",
    "        self.head_dim = dim // num_heads\n",
    "        \n",
    "        # Lightweight projections\n",
    "        self.q_proj = nn.Linear(dim, dim // 2)\n",
    "        self.k_proj = nn.Linear(dim, dim // 2)\n",
    "        self.v_proj = nn.Linear(dim, dim)\n",
    "        self.out_proj = nn.Linear(dim, dim)\n",
    "        \n",
    "        self.scale = 1.0 / math.sqrt(self.head_dim)\n",
    "        \n",
    "    def forward(self, spectral_features, prosodic_features):\n",
    "        B = spectral_features.shape[0]\n",
    "        \n",
    "        # Cross-attention: spectral queries, prosodic keys/values\n",
    "        Q = self.q_proj(spectral_features).view(B, 1, self.num_heads, -1).transpose(1, 2)\n",
    "        K = self.k_proj(prosodic_features).view(B, 1, self.num_heads, -1).transpose(1, 2)\n",
    "        V = self.v_proj(prosodic_features).view(B, 1, self.num_heads, -1).transpose(1, 2)\n",
    "        \n",
    "        # Efficient attention computation\n",
    "        attn = torch.matmul(Q, K.transpose(-2, -1)) * self.scale\n",
    "        attn = F.softmax(attn, dim=-1)\n",
    "        \n",
    "        out = torch.matmul(attn, V)\n",
    "        out = out.transpose(1, 2).contiguous().view(B, -1)\n",
    "        \n",
    "        return self.out_proj(out)\n",
    "\n",
    "\n",
    "# ==================== Emotion-Specific Gating ====================\n",
    "\n",
    "class EmotionSpecificGating(nn.Module):\n",
    "    \"\"\"\n",
    "    Learns to route features based on emotion-specific patterns\n",
    "    Different emotions use different feature combinations\n",
    "    \"\"\"\n",
    "    def __init__(self, feature_dim, num_emotions=7):\n",
    "        super().__init__()\n",
    "        \n",
    "        # Emotion-specific gates for each feature stream\n",
    "        self.emotion_router = nn.Sequential(\n",
    "            nn.Linear(feature_dim * 2, feature_dim),\n",
    "            nn.ReLU(),\n",
    "            nn.Linear(feature_dim, num_emotions * 2),  # 2 gates per emotion\n",
    "            nn.Sigmoid()\n",
    "        )\n",
    "        \n",
    "        self.num_emotions = num_emotions\n",
    "        \n",
    "    def forward(self, spectral, prosodic, emotion_logits=None):\n",
    "        # Concatenate features for routing decision\n",
    "        combined = torch.cat([spectral, prosodic], dim=-1)\n",
    "        gates = self.emotion_router(combined)\n",
    "        \n",
    "        # Reshape gates: [batch, num_emotions, 2]\n",
    "        gates = gates.view(-1, self.num_emotions, 2)\n",
    "        \n",
    "        if emotion_logits is not None:\n",
    "            # During training, use soft emotion probabilities\n",
    "            emotion_probs = F.softmax(emotion_logits, dim=-1)\n",
    "            gates = torch.sum(gates * emotion_probs.unsqueeze(-1), dim=1)\n",
    "        else:\n",
    "            # During inference, use mean gating\n",
    "            gates = gates.mean(dim=1)\n",
    "        \n",
    "        # Apply gates\n",
    "        gated_spectral = spectral * gates[:, 0:1]\n",
    "        gated_prosodic = prosodic * gates[:, 1:2]\n",
    "        \n",
    "        return gated_spectral, gated_prosodic\n",
    "\n",
    "\n",
    "# ==================== HybridFusion Module for 1D Features ====================\n",
    "\n",
    "class HybridFusionModule(nn.Module):\n",
    "    \"\"\"\n",
    "    Novel dual-stream processing for 1D features\n",
    "    Handles MFCC (80D), Handcrafted (51D), or Combined (131D)\n",
    "    \"\"\"\n",
    "    def __init__(self, feature_dim, hidden_dim=128, num_classes=7, dropout=0.2,\n",
    "                 feature_type='auto'):\n",
    "        super().__init__()\n",
    "        \n",
    "        # Determine feature split based on input dimension\n",
    "        self.feature_type = feature_type\n",
    "        \n",
    "        if feature_type == 'auto':\n",
    "            if feature_dim == 131:  # Combined: 80 MFCC + 51 handcrafted\n",
    "                self.mfcc_dim = 80\n",
    "                self.acoustic_dim = 51\n",
    "                self.split_mode = 'combined'\n",
    "            elif feature_dim == 80:  # Just MFCC\n",
    "                self.mfcc_dim = 80\n",
    "                self.acoustic_dim = 0\n",
    "                self.split_mode = 'mfcc_only'\n",
    "            elif feature_dim == 51:  # Just handcrafted\n",
    "                self.mfcc_dim = 0\n",
    "                self.acoustic_dim = 51\n",
    "                self.split_mode = 'acoustic_only'\n",
    "            else:\n",
    "                # General case: heuristic split\n",
    "                self.mfcc_dim = feature_dim // 2\n",
    "                self.acoustic_dim = feature_dim - self.mfcc_dim\n",
    "                self.split_mode = 'heuristic'\n",
    "        elif feature_type == 'mfcc':\n",
    "            self.mfcc_dim = feature_dim\n",
    "            self.acoustic_dim = 0\n",
    "            self.split_mode = 'mfcc_only'\n",
    "        elif feature_type == 'bangla_handcrafted':\n",
    "            self.mfcc_dim = 0\n",
    "            self.acoustic_dim = feature_dim\n",
    "            self.split_mode = 'acoustic_only'\n",
    "        elif feature_type == 'all_acoustic':\n",
    "            # For combined features\n",
    "            self.mfcc_dim = 80\n",
    "            self.acoustic_dim = feature_dim - 80\n",
    "            self.split_mode = 'combined'\n",
    "        \n",
    "        print(f\"HybridFusion configured: Total={feature_dim}, MFCC={self.mfcc_dim}, Acoustic={self.acoustic_dim}, Mode={self.split_mode}\")\n",
    "        \n",
    "        # Build architecture based on split mode\n",
    "        if self.split_mode == 'combined':\n",
    "            # Both MFCC and acoustic features\n",
    "            self.spectral_input = nn.Sequential(\n",
    "                nn.Linear(self.mfcc_dim, hidden_dim),\n",
    "                nn.BatchNorm1d(hidden_dim),\n",
    "                nn.ReLU()\n",
    "            )\n",
    "            \n",
    "            self.prosodic_input = nn.Sequential(\n",
    "                nn.Linear(self.acoustic_dim, hidden_dim),\n",
    "                nn.BatchNorm1d(hidden_dim),\n",
    "                nn.ReLU()\n",
    "            )\n",
    "            \n",
    "            # Dual-stream processing\n",
    "            self.spectral_stream = nn.ModuleList([\n",
    "                SpectralProcessingBlock(hidden_dim, hidden_dim, dropout),\n",
    "                SpectralProcessingBlock(hidden_dim, hidden_dim * 2, dropout),\n",
    "            ])\n",
    "            \n",
    "            self.prosodic_stream = nn.ModuleList([\n",
    "                ProsodicProcessingBlock(hidden_dim, hidden_dim, dropout),\n",
    "                ProsodicProcessingBlock(hidden_dim, hidden_dim * 2, dropout),\n",
    "            ])\n",
    "            \n",
    "            # Cross-modal attention\n",
    "            self.cross_attention_early = CrossModalFeatureAttention(hidden_dim, num_heads=4)\n",
    "            self.cross_attention_late = CrossModalFeatureAttention(hidden_dim * 2, num_heads=8)\n",
    "            \n",
    "            # Emotion-specific gating\n",
    "            self.emotion_gate = EmotionSpecificGating(hidden_dim * 2, num_classes)\n",
    "            \n",
    "            fusion_input_dim = hidden_dim * 4\n",
    "            \n",
    "        elif self.split_mode == 'mfcc_only':\n",
    "            # Only MFCC features - use spectral processing\n",
    "            self.feature_input = nn.Sequential(\n",
    "                nn.Linear(self.mfcc_dim, hidden_dim),\n",
    "                nn.BatchNorm1d(hidden_dim),\n",
    "                nn.ReLU()\n",
    "            )\n",
    "            \n",
    "            self.feature_stream = nn.ModuleList([\n",
    "                SpectralProcessingBlock(hidden_dim, hidden_dim, dropout),\n",
    "                SpectralProcessingBlock(hidden_dim, hidden_dim * 2, dropout),\n",
    "                SpectralProcessingBlock(hidden_dim * 2, hidden_dim * 2, dropout),\n",
    "            ])\n",
    "            \n",
    "            fusion_input_dim = hidden_dim * 2\n",
    "            \n",
    "        elif self.split_mode == 'acoustic_only':\n",
    "            # Only acoustic features - use prosodic processing\n",
    "            self.feature_input = nn.Sequential(\n",
    "                nn.Linear(self.acoustic_dim, hidden_dim),\n",
    "                nn.BatchNorm1d(hidden_dim),\n",
    "                nn.ReLU()\n",
    "            )\n",
    "            \n",
    "            self.feature_stream = nn.ModuleList([\n",
    "                ProsodicProcessingBlock(hidden_dim, hidden_dim, dropout),\n",
    "                ProsodicProcessingBlock(hidden_dim, hidden_dim * 2, dropout),\n",
    "                ProsodicProcessingBlock(hidden_dim * 2, hidden_dim * 2, dropout),\n",
    "            ])\n",
    "            \n",
    "            fusion_input_dim = hidden_dim * 2\n",
    "        \n",
    "        else:  # heuristic split\n",
    "            # Similar to combined but with automatic dimensions\n",
    "            self.spectral_input = nn.Sequential(\n",
    "                nn.Linear(self.mfcc_dim, hidden_dim),\n",
    "                nn.BatchNorm1d(hidden_dim),\n",
    "                nn.ReLU()\n",
    "            )\n",
    "            \n",
    "            self.prosodic_input = nn.Sequential(\n",
    "                nn.Linear(self.acoustic_dim, hidden_dim),\n",
    "                nn.BatchNorm1d(hidden_dim),\n",
    "                nn.ReLU()\n",
    "            )\n",
    "            \n",
    "            self.spectral_stream = nn.ModuleList([\n",
    "                SpectralProcessingBlock(hidden_dim, hidden_dim, dropout),\n",
    "                SpectralProcessingBlock(hidden_dim, hidden_dim * 2, dropout),\n",
    "            ])\n",
    "            \n",
    "            self.prosodic_stream = nn.ModuleList([\n",
    "                ProsodicProcessingBlock(hidden_dim, hidden_dim, dropout),\n",
    "                ProsodicProcessingBlock(hidden_dim, hidden_dim * 2, dropout),\n",
    "            ])\n",
    "            \n",
    "            self.cross_attention_early = CrossModalFeatureAttention(hidden_dim, num_heads=4)\n",
    "            self.cross_attention_late = CrossModalFeatureAttention(hidden_dim * 2, num_heads=8)\n",
    "            self.emotion_gate = EmotionSpecificGating(hidden_dim * 2, num_classes)\n",
    "            \n",
    "            fusion_input_dim = hidden_dim * 4\n",
    "        \n",
    "        # Feature fusion layer\n",
    "        self.fusion = nn.Sequential(\n",
    "            nn.Linear(fusion_input_dim, hidden_dim * 3),\n",
    "            nn.BatchNorm1d(hidden_dim * 3),\n",
    "            nn.ReLU(),\n",
    "            nn.Dropout(dropout * 2),\n",
    "            nn.Linear(hidden_dim * 3, 512),  # Output 512 features\n",
    "            nn.BatchNorm1d(512),\n",
    "            nn.ReLU()\n",
    "        )\n",
    "        \n",
    "        # Store gate values for interpretability\n",
    "        self.last_gate_values = None\n",
    "        \n",
    "    def forward(self, x, pre_emotion_logits=None):\n",
    "        \"\"\"\n",
    "        Args:\n",
    "            x: [batch, feature_dim] - input features\n",
    "            pre_emotion_logits: Optional emotion predictions for gating\n",
    "        \"\"\"\n",
    "        batch_size = x.shape[0]\n",
    "        \n",
    "        if self.split_mode == 'combined' or self.split_mode == 'heuristic':\n",
    "            # Split features\n",
    "            mfcc_features = x[:, :self.mfcc_dim]\n",
    "            acoustic_features = x[:, self.mfcc_dim:self.mfcc_dim + self.acoustic_dim]\n",
    "            \n",
    "            # Initial projections\n",
    "            spectral = self.spectral_input(mfcc_features)\n",
    "            prosodic = self.prosodic_input(acoustic_features)\n",
    "            \n",
    "            # Layer 1 processing\n",
    "            spectral = self.spectral_stream[0](spectral)\n",
    "            prosodic = self.prosodic_stream[0](prosodic)\n",
    "            \n",
    "            # Early cross-modal attention\n",
    "            cross_early = self.cross_attention_early(spectral, prosodic)\n",
    "            spectral = spectral + 0.5 * cross_early\n",
    "            \n",
    "            # Layer 2 processing\n",
    "            spectral = self.spectral_stream[1](spectral)\n",
    "            prosodic = self.prosodic_stream[1](prosodic)\n",
    "            \n",
    "            # Late cross-modal attention\n",
    "            cross_late = self.cross_attention_late(spectral, prosodic)\n",
    "            prosodic = prosodic + 0.5 * cross_late\n",
    "            \n",
    "            # Emotion-specific gating\n",
    "            gated_spectral, gated_prosodic = self.emotion_gate(\n",
    "                spectral, prosodic, pre_emotion_logits\n",
    "            )\n",
    "            \n",
    "            # Store gate information\n",
    "            self.last_gate_values = {\n",
    "                'spectral_gate': gated_spectral.mean().item(),\n",
    "                'prosodic_gate': gated_prosodic.mean().item()\n",
    "            }\n",
    "            \n",
    "            # Final fusion\n",
    "            fused = torch.cat([gated_spectral, gated_prosodic], dim=-1)\n",
    "            \n",
    "        else:  # mfcc_only or acoustic_only\n",
    "            # Single stream processing\n",
    "            features = self.feature_input(x)\n",
    "            \n",
    "            for layer in self.feature_stream:\n",
    "                features = layer(features)\n",
    "            \n",
    "            fused = features\n",
    "            \n",
    "            self.last_gate_values = {\n",
    "                'single_stream': self.split_mode\n",
    "            }\n",
    "        \n",
    "        output = self.fusion(fused)\n",
    "        return output\n",
    "\n",
    "\n",
    "# ==================== Main Adaptive Architecture ====================\n",
    "\n",
    "class AdaptiveEmotionModel(nn.Module):\n",
    "    \"\"\"\n",
    "    Adaptive architecture that uses appropriate processing for each feature type:\n",
    "    - CNN+LSTM for spectrograms (have real temporal structure)  \n",
    "    - Novel HybridFusion for static features\n",
    "    \n",
    "    Supports:\n",
    "    - MFCC features: 80 dimensions\n",
    "    - Bangla handcrafted: 51 dimensions\n",
    "    - Combined: 131 dimensions (80 + 51)\n",
    "    \"\"\"\n",
    "    \n",
    "    def __init__(self, input_shape, num_classes=7, dropout_rate=0.3):\n",
    "        super().__init__()\n",
    "        \n",
    "        self.input_type = self._determine_input_type(input_shape)\n",
    "        self.num_classes = num_classes\n",
    "        \n",
    "        if self.input_type == 'mel_3d':  # Mel-spectrogram has real temporal structure\n",
    "            in_channels = input_shape[0]\n",
    "            \n",
    "            # CNN layers to extract temporal features\n",
    "            self.conv1 = nn.Conv2d(in_channels, 32, kernel_size=(3, 3), padding=1)\n",
    "            self.bn1 = nn.BatchNorm2d(32)\n",
    "            self.pool1 = nn.MaxPool2d((2, 1))  # Pool frequency, preserve time\n",
    "            \n",
    "            self.conv2 = nn.Conv2d(32, 64, kernel_size=(3, 3), padding=1)\n",
    "            self.bn2 = nn.BatchNorm2d(64)\n",
    "            self.pool2 = nn.MaxPool2d((2, 1))\n",
    "            \n",
    "            self.conv3 = nn.Conv2d(64, 128, kernel_size=(3, 3), padding=1)\n",
    "            self.bn3 = nn.BatchNorm2d(128)\n",
    "            self.pool3 = nn.MaxPool2d((2, 1))\n",
    "            \n",
    "            self.conv4 = nn.Conv2d(128, 256, kernel_size=(3, 3), padding=1)\n",
    "            self.bn4 = nn.BatchNorm2d(256)\n",
    "            # Adaptive pooling to handle different time dimensions\n",
    "            self.pool4 = nn.AdaptiveAvgPool2d((8, None))  # Keep temporal dimension\n",
    "            \n",
    "            # LSTM for temporal modeling (only for spectrograms!)\n",
    "            lstm_input_size = 256 * 8\n",
    "            self.lstm = nn.LSTM(\n",
    "                lstm_input_size, 256, \n",
    "                num_layers=2, batch_first=True, \n",
    "                dropout=dropout_rate, bidirectional=True\n",
    "            )\n",
    "            \n",
    "            # Attention for LSTM output\n",
    "            self.attention = nn.Sequential(\n",
    "                nn.Linear(512, 128),\n",
    "                nn.Tanh(),\n",
    "                nn.Linear(128, 1)\n",
    "            )\n",
    "            \n",
    "            final_feature_size = 512\n",
    "            \n",
    "        elif self.input_type == 'features_1d':  # Static features - Novel HybridFusion!\n",
    "            self.feature_dim = input_shape[0]\n",
    "            \n",
    "            # Determine feature type\n",
    "            if self.feature_dim == 80:\n",
    "                feature_type = 'mfcc'\n",
    "            elif self.feature_dim == 51:\n",
    "                feature_type = 'bangla_handcrafted'\n",
    "            elif self.feature_dim == 131:\n",
    "                feature_type = 'all_acoustic'\n",
    "            else:\n",
    "                feature_type = 'auto'\n",
    "            \n",
    "            # Use HybridFusion module\n",
    "            self.feature_net = HybridFusionModule(\n",
    "                feature_dim=self.feature_dim,\n",
    "                hidden_dim=128,  # Lightweight\n",
    "                num_classes=num_classes,\n",
    "                dropout=dropout_rate,\n",
    "                feature_type=feature_type\n",
    "            )\n",
    "            \n",
    "            # Store module reference for gate value access\n",
    "            self.last_gate_values = None\n",
    "            \n",
    "            final_feature_size = 512\n",
    "        \n",
    "        # Shared classification head\n",
    "        self.classifier = nn.Sequential(\n",
    "            nn.Dropout(0.5),\n",
    "            nn.Linear(final_feature_size, 256),\n",
    "            nn.BatchNorm1d(256),\n",
    "            nn.ReLU(),\n",
    "            nn.Dropout(0.5),\n",
    "            nn.Linear(256, 128),\n",
    "            nn.BatchNorm1d(128),\n",
    "            nn.ReLU(),\n",
    "            nn.Dropout(0.5),\n",
    "            nn.Linear(128, num_classes)\n",
    "        )\n",
    "        \n",
    "        # Initialize weights\n",
    "        self.apply(self._init_weights)\n",
    "        \n",
    "    def _init_weights(self, module):\n",
    "        if isinstance(module, nn.Linear):\n",
    "            nn.init.xavier_uniform_(module.weight)\n",
    "            if module.bias is not None:\n",
    "                nn.init.zeros_(module.bias)\n",
    "                \n",
    "    def _determine_input_type(self, input_shape):\n",
    "        \"\"\"Determine if input is mel-spectrogram or 1D features\"\"\"\n",
    "        if len(input_shape) == 3:  # (channels, freq, time)\n",
    "            return 'mel_3d'\n",
    "        else:  # (features,)\n",
    "            return 'features_1d'\n",
    "    \n",
    "    def forward(self, x):\n",
    "        if self.input_type == 'mel_3d':\n",
    "            # CNN processing for spectrograms\n",
    "            x = F.relu(self.bn1(self.conv1(x)))\n",
    "            x = self.pool1(x)\n",
    "            \n",
    "            x = F.relu(self.bn2(self.conv2(x)))\n",
    "            x = self.pool2(x)\n",
    "            \n",
    "            x = F.relu(self.bn3(self.conv3(x)))\n",
    "            x = self.pool3(x)\n",
    "            \n",
    "            x = F.relu(self.bn4(self.conv4(x)))\n",
    "            x = self.pool4(x)\n",
    "            \n",
    "            # Reshape for LSTM: (batch, time, features)\n",
    "            batch_size = x.size(0)\n",
    "            x = x.permute(0, 3, 1, 2)  # (batch, time, channels, freq)\n",
    "            x = x.reshape(batch_size, x.size(1), -1)  # (batch, time, features)\n",
    "            \n",
    "            # LSTM processing\n",
    "            lstm_out, _ = self.lstm(x)\n",
    "            \n",
    "            # Attention over time steps\n",
    "            attention_scores = self.attention(lstm_out)\n",
    "            attention_weights = F.softmax(attention_scores, dim=1)\n",
    "            attended = torch.sum(lstm_out * attention_weights, dim=1)\n",
    "            \n",
    "            features = attended\n",
    "            \n",
    "        elif self.input_type == 'features_1d':\n",
    "            # Get initial emotion predictions for gating (optional)\n",
    "            with torch.no_grad():\n",
    "                # Quick forward pass for emotion hints\n",
    "                quick_features = F.adaptive_avg_pool1d(x.unsqueeze(1), 128).squeeze(1)\n",
    "                pre_emotion_logits = self.classifier(\n",
    "                    F.pad(quick_features, (0, 512 - 128))\n",
    "                ).detach()\n",
    "            \n",
    "            # Process through HybridFusion\n",
    "            features = self.feature_net(x, pre_emotion_logits)\n",
    "            \n",
    "            # Store gate values for analysis\n",
    "            self.last_gate_values = self.feature_net.last_gate_values\n",
    "        \n",
    "        # Shared classification\n",
    "        output = self.classifier(features)\n",
    "        \n",
    "        return output\n",
    "\n",
    "\n",
    "# ==================== Adaptive Training Configuration ====================\n",
    "\n",
    "def get_training_config(feature_type):\n",
    "    \"\"\"Get optimized training configuration for each feature type\"\"\"\n",
    "   \n",
    "    configs = {\n",
    "        'mel_spectrogram': {\n",
    "            'learning_rate': 5e-4,\n",
    "            'weight_decay': 0.01,\n",
    "            'dropout_rate': 0.3,\n",
    "            'batch_size': 16,\n",
    "            'epochs': 150,\n",
    "            'patience': 50,\n",
    "            'scheduler_patience': 7,\n",
    "            'label_smoothing': 0.0,\n",
    "            'gradient_clip': 1.0,\n",
    "            'architecture': 'CNN+LSTM',\n",
    "            'description': 'CNN+LSTM for temporal mel-spectrograms'\n",
    "        },\n",
    "        \n",
    "        'mfcc': {\n",
    "            'learning_rate': 5e-4,\n",
    "            'weight_decay': 0.015,\n",
    "            'dropout_rate': 0.3,\n",
    "            'batch_size': 16,      \n",
    "            'epochs': 200,\n",
    "            'patience': 50,\n",
    "            'scheduler_patience': 8,\n",
    "            'label_smoothing': 0.0,\n",
    "            'gradient_clip': 1.0,\n",
    "            'warmup_epochs': 5,\n",
    "            'architecture': 'HybridFusion',\n",
    "            'description': 'HybridFusion with spectral stream processing'\n",
    "        },\n",
    "        \n",
    "        'bangla_handcrafted': {\n",
    "            'learning_rate': 5e-4,\n",
    "            'weight_decay': 0.015,\n",
    "            'dropout_rate': 0.3,\n",
    "            'batch_size': 16,\n",
    "            'epochs': 200,\n",
    "            'patience': 50,\n",
    "            'scheduler_patience': 8,\n",
    "            'label_smoothing': 0.0,\n",
    "            'gradient_clip': 1.0,\n",
    "            'warmup_epochs': 5,\n",
    "            'architecture': 'HybridFusion',\n",
    "            'description': 'HybridFusion with prosodic stream processing'\n",
    "        },\n",
    "        \n",
    "        'all_acoustic': {\n",
    "            'learning_rate': 5e-4,\n",
    "            'weight_decay': 0.015,\n",
    "            'dropout_rate': 0.3,\n",
    "            'batch_size': 16,\n",
    "            'epochs': 200,\n",
    "            'patience': 50,\n",
    "            'scheduler_patience': 8,\n",
    "            'label_smoothing': 0.0,\n",
    "            'gradient_clip': 1.0,\n",
    "            'warmup_epochs': 5,\n",
    "            'architecture': 'HybridFusion',\n",
    "            'description': 'HybridFusion with dual-stream KAN-DNN processing'\n",
    "        }\n",
    "    }\n",
    "    \n",
    "    return configs.get(feature_type, configs['bangla_handcrafted'])\n",
    "\n",
    "# ==================== Training Function ====================\n",
    "\n",
    "def train_adaptive_model(model, train_loader, test_loader, device, feature_type, epochs=50):\n",
    "    \"\"\"Train model with adaptive configuration\"\"\"\n",
    "    \n",
    "    config = get_training_config(feature_type)\n",
    "    \n",
    "    print(f\"\\nTraining Configuration:\")\n",
    "    print(f\"  Architecture: {config['architecture']}\")\n",
    "    print(f\"  Learning Rate: {config['learning_rate']}\")\n",
    "    print(f\"  Batch Size: {config['batch_size']}\")\n",
    "    print(f\"  Description: {config['description']}\")\n",
    "    \n",
    "    model = model.to(device)\n",
    "    \n",
    "    # Loss and optimizer\n",
    "    criterion = nn.CrossEntropyLoss(label_smoothing=config['label_smoothing'])\n",
    "    optimizer = torch.optim.AdamW(\n",
    "        model.parameters(), \n",
    "        lr=config['learning_rate'], \n",
    "        weight_decay=config['weight_decay']\n",
    "    )\n",
    "    \n",
    "    # Scheduler\n",
    "    scheduler = torch.optim.lr_scheduler.ReduceLROnPlateau(\n",
    "        optimizer, mode='max', factor=0.5, \n",
    "        patience=config['scheduler_patience'], min_lr=1e-7\n",
    "    )\n",
    "    \n",
    "    best_test_acc = 0\n",
    "    best_test_f1 = 0\n",
    "    best_epoch = 0\n",
    "    best_model_state = None\n",
    "    \n",
    "    highest_test_acc = 0\n",
    "    highest_test_f1 = 0\n",
    "    highest_epoch = 0\n",
    "    \n",
    "    patience_counter = 0\n",
    "    \n",
    "    history = {\n",
    "        'train_loss': [], 'train_acc': [],\n",
    "        'test_acc': [], 'test_f1': []\n",
    "    }\n",
    "    \n",
    "    for epoch in range(min(config['epochs'], epochs)):\n",
    "        # Training\n",
    "        model.train()\n",
    "        train_loss = 0\n",
    "        train_correct = 0\n",
    "        train_total = 0\n",
    "        \n",
    "        pbar = tqdm(train_loader, desc=f'Epoch {epoch+1}')\n",
    "        for inputs, labels in pbar:\n",
    "            inputs, labels = inputs.to(device), labels.to(device)\n",
    "            \n",
    "            optimizer.zero_grad()\n",
    "            outputs = model(inputs)\n",
    "            loss = criterion(outputs, labels)\n",
    "            \n",
    "            loss.backward()\n",
    "            torch.nn.utils.clip_grad_norm_(model.parameters(), max_norm=config['gradient_clip'])\n",
    "            optimizer.step()\n",
    "            \n",
    "            train_loss += loss.item()\n",
    "            _, predicted = outputs.max(1)\n",
    "            train_total += labels.size(0)\n",
    "            train_correct += predicted.eq(labels).sum().item()\n",
    "            \n",
    "            pbar.set_postfix({\n",
    "                'loss': loss.item(),\n",
    "                'acc': 100. * train_correct / train_total\n",
    "            })\n",
    "        \n",
    "        train_acc = 100. * train_correct / train_total\n",
    "        avg_train_loss = train_loss / len(train_loader)\n",
    "        \n",
    "        # Test evaluation\n",
    "        model.eval()\n",
    "        test_preds = []\n",
    "        test_labels = []\n",
    "        \n",
    "        with torch.no_grad():\n",
    "            for inputs, labels in test_loader:\n",
    "                inputs, labels = inputs.to(device), labels.to(device)\n",
    "                outputs = model(inputs)\n",
    "                _, predicted = outputs.max(1)\n",
    "                \n",
    "                test_preds.extend(predicted.cpu().numpy())\n",
    "                test_labels.extend(labels.cpu().numpy())\n",
    "        \n",
    "        test_acc = accuracy_score(test_labels, test_preds) * 100\n",
    "        test_f1 = f1_score(test_labels, test_preds, average='weighted')\n",
    "        \n",
    "        scheduler.step(test_acc)\n",
    "        \n",
    "        # Store history\n",
    "        history['train_loss'].append(avg_train_loss)\n",
    "        history['train_acc'].append(train_acc)\n",
    "        history['test_acc'].append(test_acc)\n",
    "        history['test_f1'].append(test_f1)\n",
    "        \n",
    "        # Track highest\n",
    "        if test_acc > highest_test_acc:\n",
    "            highest_test_acc = test_acc\n",
    "            highest_test_f1 = test_f1\n",
    "            highest_epoch = epoch + 1\n",
    "        \n",
    "        print(f'Epoch {epoch+1}: Train Loss={avg_train_loss:.4f}, '\n",
    "              f'Train Acc={train_acc:.2f}%, Test Acc={test_acc:.2f}%, Test F1={test_f1:.4f}')\n",
    "        \n",
    "        # Save best model\n",
    "        if test_acc > best_test_acc:\n",
    "            best_test_acc = test_acc\n",
    "            best_test_f1 = test_f1\n",
    "            best_epoch = epoch + 1\n",
    "            best_model_state = model.state_dict().copy()\n",
    "            patience_counter = 0\n",
    "        else:\n",
    "            patience_counter += 1\n",
    "        \n",
    "        # Early stopping\n",
    "        if patience_counter >= config['patience']:\n",
    "            print(f\"Early stopping at epoch {epoch+1}\")\n",
    "            break\n",
    "    \n",
    "    # Load best model\n",
    "    if best_model_state is not None:\n",
    "        model.load_state_dict(best_model_state)\n",
    "    \n",
    "    print(f\"\\nTraining Summary:\")\n",
    "    print(f\"  Best Model: Epoch {best_epoch}, Acc={best_test_acc:.2f}%, F1={best_test_f1:.4f}\")\n",
    "    print(f\"  Highest: Epoch {highest_epoch}, Acc={highest_test_acc:.2f}%, F1={highest_test_f1:.4f}\")\n",
    "    \n",
    "    return model, best_test_acc, best_test_f1, highest_test_acc, highest_test_f1, highest_epoch, history\n",
    "\n",
    "# ==================== Feature Importance Analysis ====================\n",
    "\n",
    "def analyze_feature_importance(model, test_loader, feature_names, device):\n",
    "    \"\"\"Analyze which features are most important based on gate values\"\"\"\n",
    "    \n",
    "    if not hasattr(model, 'feature_gate'):\n",
    "        print(\"Model doesn't have feature gating mechanism\")\n",
    "        return None\n",
    "    \n",
    "    model.eval()\n",
    "    all_gates = []\n",
    "    \n",
    "    with torch.no_grad():\n",
    "        for inputs, _ in test_loader:\n",
    "            inputs = inputs.to(device)\n",
    "            _ = model(inputs)  # Forward pass to get gate values\n",
    "            if model.last_gate_values is not None:\n",
    "                all_gates.append(model.last_gate_values.numpy())\n",
    "    \n",
    "    if not all_gates:\n",
    "        return None\n",
    "    \n",
    "    # Average gate values across all samples\n",
    "    avg_gates = np.concatenate(all_gates, axis=0).mean(axis=0)\n",
    "    \n",
    "    # Create importance ranking\n",
    "    importance_ranking = sorted(\n",
    "        [(name, gate_val) for name, gate_val in zip(feature_names, avg_gates)],\n",
    "        key=lambda x: x[1],\n",
    "        reverse=True\n",
    "    )\n",
    "    \n",
    "    return importance_ranking\n",
    "\n",
    "def visualize_feature_importance(results):\n",
    "    \"\"\"Visualize feature importance from gating mechanism\"\"\"\n",
    "    \n",
    "    # Check which experiments have feature importance\n",
    "    experiments_with_gating = [exp for exp in results if 'feature_importance' in results[exp]]\n",
    "    \n",
    "    if not experiments_with_gating:\n",
    "        print(\"No experiments with feature gating to visualize\")\n",
    "        return\n",
    "    \n",
    "    fig, axes = plt.subplots(1, len(experiments_with_gating), figsize=(7*len(experiments_with_gating), 6))\n",
    "    if len(experiments_with_gating) == 1:\n",
    "        axes = [axes]\n",
    "    \n",
    "    for idx, exp_name in enumerate(experiments_with_gating):\n",
    "        importance = results[exp_name]['feature_importance'][:20]  # Top 20\n",
    "        \n",
    "        feature_names = [feat[0][:20] for feat in importance]  # Truncate long names\n",
    "        gate_values = [feat[1] for feat in importance]\n",
    "        \n",
    "        ax = axes[idx]\n",
    "        bars = ax.barh(range(len(feature_names)), gate_values, color='steelblue')\n",
    "        ax.set_yticks(range(len(feature_names)))\n",
    "        ax.set_yticklabels(feature_names)\n",
    "        ax.set_xlabel('Gate Value (Importance)', fontsize=12)\n",
    "        ax.set_title(f'{exp_name}\\nTop 20 Important Features', fontsize=14, fontweight='bold')\n",
    "        ax.set_xlim([0, 1])\n",
    "        ax.grid(True, alpha=0.3)\n",
    "        \n",
    "        # Color code by importance level\n",
    "        for i, (bar, val) in enumerate(zip(bars, gate_values)):\n",
    "            if val > 0.7:\n",
    "                bar.set_color('darkgreen')\n",
    "            elif val > 0.5:\n",
    "                bar.set_color('steelblue')\n",
    "            else:\n",
    "                bar.set_color('lightgray')\n",
    "    \n",
    "    plt.suptitle('Feature Importance Analysis (from Gating Mechanism)', fontsize=16, fontweight='bold')\n",
    "    plt.tight_layout()\n",
    "    plt.savefig('feature_importance_gating.png', dpi=150, bbox_inches='tight')\n",
    "    plt.show()\n",
    "\n",
    "# ==================== Experiment Runner ====================\n",
    "\n",
    "def run_experiments(features_dict, device='cuda', dataset_name='SUBESCO'):\n",
    "    \"\"\"Run experiments with adaptive architectures\"\"\"\n",
    "    \n",
    "    original_labels = features_dict['labels'].copy()\n",
    "    num_classes = features_dict['num_classes']\n",
    "    emotion_names = features_dict.get('emotion_names', [f'Emotion_{i}' for i in range(num_classes)])\n",
    "    \n",
    "    print(f\"\\nDataset: {dataset_name}\")\n",
    "    print(f\"Number of classes: {num_classes}\")\n",
    "    \n",
    "    experiments = [\n",
    "        ('All Features', 'all_acoustic'),\n",
    "        ('Bangla Handcrafted', 'bangla_handcrafted'),\n",
    "        ('MFCC', 'mfcc'),\n",
    "        ('Mel-Spectrogram', 'mel_spectrogram'),\n",
    "    ]\n",
    "    \n",
    "    results = {}\n",
    "    \n",
    "    for exp_name, feature_key in experiments:\n",
    "        labels = original_labels.copy()\n",
    "        \n",
    "        if feature_key not in features_dict:\n",
    "            print(f\"Skipping {exp_name} - features not found\")\n",
    "            continue\n",
    "        \n",
    "        print(\"\\n\" + \"=\"*60)\n",
    "        print(f\"Experiment: {exp_name}\")\n",
    "        print(\"=\"*60)\n",
    "        \n",
    "        # Get features\n",
    "        features = features_dict[feature_key]\n",
    "        print(f\"Features shape: {features.shape}\")\n",
    "        \n",
    "        # Determine input shape and architecture\n",
    "        if feature_key == 'mel_spectrogram':\n",
    "            X = features\n",
    "            input_shape = features.shape[1:]\n",
    "            print(\"Architecture: CNN+LSTM (temporal structure)\")\n",
    "        else:\n",
    "            X = features\n",
    "            input_shape = (features.shape[1],)\n",
    "            print(\"Architecture: Deep DNN with Feature Gating\")\n",
    "        \n",
    "        # Normalize features\n",
    "        if len(X.shape) == 4:  # Mel-spectrogram\n",
    "            X_normalized = np.zeros_like(X)\n",
    "            for i in range(X.shape[1]):\n",
    "                channel = X[:, i].reshape(X.shape[0], -1)\n",
    "                scaler = StandardScaler()\n",
    "                normalized = scaler.fit_transform(channel)\n",
    "                X_normalized[:, i] = normalized.reshape(X.shape[0], X.shape[2], X.shape[3])\n",
    "            X = X_normalized\n",
    "        else:  # 1D features\n",
    "            scaler = StandardScaler()\n",
    "            X = scaler.fit_transform(X)\n",
    "        \n",
    "        # Split data (80/20)\n",
    "        X_train, X_test, y_train, y_test = train_test_split(\n",
    "            X, labels, test_size=0.2, stratify=labels, random_state=42\n",
    "        )\n",
    "        \n",
    "        print(f\"Split: Train={len(y_train)}, Test={len(y_test)}\")\n",
    "        \n",
    "        # Convert to tensors\n",
    "        X_train = torch.FloatTensor(X_train)\n",
    "        X_test = torch.FloatTensor(X_test)\n",
    "        y_train = torch.LongTensor(y_train)\n",
    "        y_test = torch.LongTensor(y_test)\n",
    "        \n",
    "        # Get config and create dataloaders\n",
    "        config = get_training_config(feature_key)\n",
    "        \n",
    "        train_dataset = TensorDataset(X_train, y_train)\n",
    "        test_dataset = TensorDataset(X_test, y_test)\n",
    "        \n",
    "        train_loader = DataLoader(\n",
    "            train_dataset, batch_size=config['batch_size'], \n",
    "            shuffle=True, num_workers=2, pin_memory=True\n",
    "        )\n",
    "        test_loader = DataLoader(\n",
    "            test_dataset, batch_size=config['batch_size'], \n",
    "            shuffle=False, num_workers=2, pin_memory=True\n",
    "        )\n",
    "        \n",
    "        # Create model with adaptive architecture and dynamic num_classes\n",
    "        model = AdaptiveEmotionModel(input_shape, num_classes=num_classes, dropout_rate=config['dropout_rate'])\n",
    "        \n",
    "        # Print model info\n",
    "        total_params = sum(p.numel() for p in model.parameters())\n",
    "        print(f\"Model parameters: {total_params:,}\")\n",
    "        \n",
    "        # Train\n",
    "        model, best_acc, best_f1, highest_acc, highest_f1, highest_epoch, history = train_adaptive_model(\n",
    "            model, train_loader, test_loader, device, feature_key, epochs=config['epochs']\n",
    "        )\n",
    "        \n",
    "        # Final evaluation\n",
    "        model.eval()\n",
    "        final_preds = []\n",
    "        final_labels = []\n",
    "        \n",
    "        with torch.no_grad():\n",
    "            for inputs, labels in test_loader:\n",
    "                inputs, labels = inputs.to(device), labels.to(device)\n",
    "                outputs = model(inputs)\n",
    "                _, predicted = outputs.max(1)\n",
    "                \n",
    "                final_preds.extend(predicted.cpu().numpy())\n",
    "                final_labels.extend(labels.cpu().numpy())\n",
    "        \n",
    "        final_acc = accuracy_score(final_labels, final_preds)\n",
    "        final_f1 = f1_score(final_labels, final_preds, average='weighted')\n",
    "        \n",
    "        results[exp_name] = {\n",
    "            'best_test_acc': best_acc,\n",
    "            'best_test_f1': best_f1,\n",
    "            'highest_test_acc': highest_acc,\n",
    "            'highest_test_f1': highest_f1,\n",
    "            'highest_epoch': highest_epoch,\n",
    "            'final_acc': final_acc,\n",
    "            'final_f1': final_f1,\n",
    "            'predictions': final_preds,\n",
    "            'true_labels': final_labels,\n",
    "            'history': history,\n",
    "            'config': config,\n",
    "            'architecture': config['architecture'],\n",
    "            'total_params': total_params\n",
    "        }\n",
    "        \n",
    "        # Analyze feature importance for DNN models with gating\n",
    "        if feature_key != 'mel_spectrogram':\n",
    "            # Get appropriate feature names\n",
    "            if feature_key == 'mfcc' and 'mfcc_names' in features_dict:\n",
    "                feature_names = features_dict['mfcc_names']\n",
    "            elif feature_key == 'bangla_handcrafted' and 'bangla_names' in features_dict:\n",
    "                feature_names = features_dict['bangla_names']\n",
    "            elif feature_key == 'all_acoustic' and 'all_names' in features_dict:\n",
    "                feature_names = features_dict['all_names']\n",
    "            else:\n",
    "                # Fallback to generic names if feature names not available\n",
    "                feature_names = [f'feature_{i}' for i in range(features.shape[1])]\n",
    "            \n",
    "            # Make sure we have the right number of feature names\n",
    "            if len(feature_names) != features.shape[1]:\n",
    "                feature_names = [f'feature_{i}' for i in range(features.shape[1])]\n",
    "            \n",
    "            importance = analyze_feature_importance(model, test_loader, feature_names, device)\n",
    "            if importance:\n",
    "                results[exp_name]['feature_importance'] = importance\n",
    "                print(f\"\\nTop 10 Most Important Features (by gate values):\")\n",
    "                for i, (feat_name, gate_val) in enumerate(importance[:10], 1):\n",
    "                    print(f\"  {i:2d}. {feat_name[:30]:30s} : {gate_val:.4f}\")\n",
    "        \n",
    "        print(f\"\\nFinal Results:\")\n",
    "        print(f\"  Best: Acc={final_acc*100:.2f}%, F1={final_f1:.4f}\")\n",
    "        print(f\"  Highest: Acc={highest_acc:.2f}%, F1={highest_f1:.4f}\")\n",
    "        \n",
    "        # Classification report with dynamic emotion names\n",
    "        print(\"\\nClassification Report:\")\n",
    "        # Ensure emotion_names matches the number of unique classes in predictions\n",
    "        unique_preds = np.unique(np.concatenate([final_labels, final_preds]))\n",
    "        report_names = [emotion_names[i] if i < len(emotion_names) else f'Class_{i}' \n",
    "                       for i in unique_preds]\n",
    "        print(classification_report(final_labels, final_preds, target_names=report_names, labels=unique_preds))\n",
    "    \n",
    "    return results\n",
    "\n",
    "# ==================== Main ====================\n",
    "\n",
    "def main(cache_path=None, dataset_name='SUBESCO'):\n",
    "    \"\"\"\n",
    "    Main execution\n",
    "    \n",
    "    Args:\n",
    "        cache_path: Path to the features pickle file. If None, tries default paths\n",
    "        dataset_name: Name of the dataset (for display purposes)\n",
    "    \"\"\"\n",
    "    \n",
    "    print(\"=\"*70)\n",
    "    print(f\"BANGLA SER: Adaptive Architecture with Feature Gating\")\n",
    "    print(f\"Dataset: {dataset_name}\")\n",
    "    print(\"CNN+LSTM for Spectrograms | DNN+Gating for Static Features\")\n",
    "    print(\"=\"*70)\n",
    "    \n",
    "    # Handle different cache paths\n",
    "    if cache_path is None:\n",
    "        # Try default paths\n",
    "        possible_paths = [\n",
    "            '/kaggle/input/subesco-handcrafted-features/comprehensive_features.pkl',\n",
    "            'comprehensive_features.pkl',\n",
    "            f'{dataset_name.lower()}_features.pkl'\n",
    "        ]\n",
    "        \n",
    "        for path in possible_paths:\n",
    "            if Path(path).exists():\n",
    "                cache_path = path\n",
    "                break\n",
    "        \n",
    "        if cache_path is None:\n",
    "            print(\"Error: No feature cache file found. Please provide cache_path parameter.\")\n",
    "            return None\n",
    "    \n",
    "    if not Path(cache_path).exists():\n",
    "        print(f\"Error: Feature cache not found at {cache_path}\")\n",
    "        return None\n",
    "    \n",
    "    # Load features\n",
    "    features = prepare_features_from_cache(cache_path)\n",
    "    \n",
    "    # Get dataset info\n",
    "    num_classes = features['num_classes']\n",
    "    emotion_names = features.get('emotion_names', [f'Emotion_{i}' for i in range(num_classes)])\n",
    "    \n",
    "    print(f\"\\nDataset Statistics:\")\n",
    "    print(f\"  Total samples: {len(features['labels'])}\")\n",
    "    print(f\"  Number of classes: {num_classes}\")\n",
    "    print(f\"  Class distribution:\")\n",
    "    unique, counts = np.unique(features['labels'], return_counts=True)\n",
    "    for label, count, name in zip(unique, counts, emotion_names[:len(unique)]):\n",
    "        print(f\"    {name}: {count} samples ({count/len(features['labels'])*100:.1f}%)\")\n",
    "    \n",
    "    # Show configurations\n",
    "    print(\"\\n\" + \"=\"*70)\n",
    "    print(\"ARCHITECTURE ASSIGNMENTS:\")\n",
    "    print(\"=\"*70)\n",
    "    \n",
    "    configs_to_show = {\n",
    "        'All Features': 'all_acoustic',\n",
    "        'MFCC': 'mfcc',\n",
    "        'Bangla Handcrafted': 'bangla_handcrafted',\n",
    "        'Mel-Spectrogram': 'mel_spectrogram'\n",
    "    }\n",
    "    \n",
    "    for name, key in configs_to_show.items():\n",
    "        config = get_training_config(key)\n",
    "        print(f\"\\n{name}:\")\n",
    "        print(f\"  Architecture: {config['architecture']}\")\n",
    "        print(f\"  Learning Rate: {config['learning_rate']:.0e}\")\n",
    "        print(f\"  Batch Size: {config['batch_size']}\")\n",
    "        if 'Gating' in config['architecture']:\n",
    "            print(f\"  Feature Gating: ENABLED (learns feature importance)\")\n",
    "    \n",
    "    # Run experiments\n",
    "    device = 'cuda' if torch.cuda.is_available() else 'cpu'\n",
    "    print(f\"\\nDevice: {device}\")\n",
    "    if device == 'cuda':\n",
    "        print(f\"GPU: {torch.cuda.get_device_name(0)}\")\n",
    "    \n",
    "    results = run_experiments(features, device, dataset_name)\n",
    "    \n",
    "    # Visualize feature importance if available\n",
    "    print(\"\\n\" + \"=\"*70)\n",
    "    print(\"FEATURE IMPORTANCE ANALYSIS\")\n",
    "    print(\"=\"*70)\n",
    "    visualize_feature_importance(results)\n",
    "    \n",
    "    # Summary\n",
    "    print(\"\\n\" + \"=\"*70)\n",
    "    print(f\"RESULTS SUMMARY - {dataset_name}\")\n",
    "    print(\"=\"*70)\n",
    "    \n",
    "    sorted_results = sorted(results.items(), key=lambda x: x[1]['highest_test_acc'], reverse=True)\n",
    "    \n",
    "    print(f\"\\n{'Rank':<4} {'Feature Type':<20} {'Architecture':<12} {'Params':<10} {'Final Acc':<10} {'Highest Acc':<12}\")\n",
    "    print(\"-\" * 80)\n",
    "    \n",
    "    for rank, (name, metrics) in enumerate(sorted_results, 1):\n",
    "        print(f\"{rank:<4} {name:<20} {metrics['architecture']:<12} \"\n",
    "              f\"{metrics['total_params']/1e6:.1f}M      \"\n",
    "              f\"{metrics['final_acc']*100:>6.2f}%    \"\n",
    "              f\"{metrics['highest_test_acc']:>8.2f}%\")\n",
    "    \n",
    "    # Improvements\n",
    "    if 'Mel-Spectrogram' in results:\n",
    "        baseline = results['Mel-Spectrogram']['highest_test_acc']\n",
    "        \n",
    "        print(\"\\n\" + \"=\"*70)\n",
    "        print(\"IMPROVEMENTS OVER MEL-SPECTROGRAM:\")\n",
    "        print(\"=\"*70)\n",
    "        \n",
    "        for name in results:\n",
    "            if name != 'Mel-Spectrogram':\n",
    "                improvement = results[name]['highest_test_acc'] - baseline\n",
    "                symbol = \"✓\" if improvement > 0 else \"✗\"\n",
    "                print(f\"{name}: {improvement:+.2f}% {symbol}\")\n",
    "    \n",
    "    # Save results for this dataset\n",
    "    results_file = f'{dataset_name.lower()}_results.pkl'\n",
    "    with open(results_file, 'wb') as f:\n",
    "        pickle.dump(results, f)\n",
    "    print(f\"\\nResults saved to {results_file}\")\n",
    "    \n",
    "    return results\n",
    "\n",
    "# Convenience functions for specific datasets\n",
    "def run_subesco():\n",
    "    \"\"\"Run experiments on SUBESCO dataset (7 emotions)\"\"\"\n",
    "    return main(\n",
    "        cache_path='/kaggle/input/subesco-handcrafted-features/comprehensive_features.pkl',\n",
    "        dataset_name='SUBESCO'\n",
    "    )\n",
    "\n",
    "def run_banglaser():\n",
    "    \"\"\"Run experiments on BanglaSER dataset (5 emotions)\"\"\"\n",
    "    return main(\n",
    "        cache_path='/kaggle/input/banglaser-kbes/banglaser-kbes/banglaser_features.pkl',  # Update with actual path\n",
    "        dataset_name='BanglaSER'\n",
    "    )\n",
    "\n",
    "def run_kbes():\n",
    "    \"\"\"Run experiments on KBES dataset (9 emotions)\"\"\"\n",
    "    return main(\n",
    "        cache_path='/kaggle/input/banglaser-kbes/banglaser-kbes/kbes_features.pkl',  # Update with actual path\n",
    "        dataset_name='KBES'\n",
    "    )\n",
    "\n",
    "if __name__ == \"__main__\":\n",
    "    # Default to SUBESCO, but can be easily changed\n",
    "    # import sys\n",
    "    \n",
    "    # if len(sys.argv) > 1:\n",
    "    #     dataset = sys.argv[1].lower()\n",
    "    #     if dataset == 'banglaser':\n",
    "    #         results = run_banglaser()\n",
    "    #     elif dataset == 'kbes':\n",
    "    #         results = run_kbes()\n",
    "    #     else:\n",
    "    #         results = run_subesco()\n",
    "    # else:\n",
    "    #     # Default behavior\n",
    "    #     results = main()  # Will try to auto-detect or use SUBESCO\n",
    "\n",
    "    run_subesco()\n",
    "\n",
    "    run_banglaser()\n",
    "    run_kbes()"
   ]
  },
  {
   "cell_type": "code",
   "execution_count": null,
   "id": "28e8b6d7",
   "metadata": {
    "papermill": {
     "duration": 17.369297,
     "end_time": "2025-09-14T08:09:37.268368",
     "exception": false,
     "start_time": "2025-09-14T08:09:19.899071",
     "status": "completed"
    },
    "tags": []
   },
   "outputs": [],
   "source": []
  }
 ],
 "metadata": {
  "kaggle": {
   "accelerator": "gpu",
   "dataSources": [
    {
     "datasetId": 107620,
     "sourceId": 256618,
     "sourceType": "datasetVersion"
    },
    {
     "datasetId": 1656470,
     "sourceId": 2718422,
     "sourceType": "datasetVersion"
    },
    {
     "datasetId": 2110338,
     "sourceId": 3506349,
     "sourceType": "datasetVersion"
    },
    {
     "datasetId": 8045410,
     "sourceId": 12728657,
     "sourceType": "datasetVersion"
    },
    {
     "datasetId": 8053756,
     "sourceId": 12740827,
     "sourceType": "datasetVersion"
    }
   ],
   "dockerImageVersionId": 31090,
   "isGpuEnabled": true,
   "isInternetEnabled": true,
   "language": "python",
   "sourceType": "notebook"
  },
  "kernelspec": {
   "display_name": "Python 3",
   "language": "python",
   "name": "python3"
  },
  "language_info": {
   "codemirror_mode": {
    "name": "ipython",
    "version": 3
   },
   "file_extension": ".py",
   "mimetype": "text/x-python",
   "name": "python",
   "nbconvert_exporter": "python",
   "pygments_lexer": "ipython3",
   "version": "3.11.13"
  },
  "papermill": {
   "default_parameters": {},
   "duration": 6523.268692,
   "end_time": "2025-09-14T08:09:56.963249",
   "environment_variables": {},
   "exception": null,
   "input_path": "__notebook__.ipynb",
   "output_path": "__notebook__.ipynb",
   "parameters": {},
   "start_time": "2025-09-14T06:21:13.694557",
   "version": "2.6.0"
  }
 },
 "nbformat": 4,
 "nbformat_minor": 5
}
